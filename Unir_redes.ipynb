{
  "nbformat": 4,
  "nbformat_minor": 0,
  "metadata": {
    "kernelspec": {
      "display_name": "Python 3",
      "language": "python",
      "name": "python3"
    },
    "language_info": {
      "codemirror_mode": {
        "name": "ipython",
        "version": 3
      },
      "file_extension": ".py",
      "mimetype": "text/x-python",
      "name": "python",
      "nbconvert_exporter": "python",
      "pygments_lexer": "ipython3",
      "version": "3.7.4"
    },
    "colab": {
      "name": "Unir_redes.ipynb",
      "provenance": [],
      "include_colab_link": true
    }
  },
  "cells": [
    {
      "cell_type": "markdown",
      "metadata": {
        "id": "view-in-github",
        "colab_type": "text"
      },
      "source": [
        "<a href=\"https://colab.research.google.com/github/JuliethLopez/chatbot_simpsons/blob/master/Unir_redes.ipynb\" target=\"_parent\"><img src=\"https://colab.research.google.com/assets/colab-badge.svg\" alt=\"Open In Colab\"/></a>"
      ]
    },
    {
      "cell_type": "code",
      "metadata": {
        "id": "qP5Hl7UK8jzn",
        "colab_type": "code",
        "colab": {}
      },
      "source": [
        "import random\n",
        "import re "
      ],
      "execution_count": 115,
      "outputs": []
    },
    {
      "cell_type": "code",
      "metadata": {
        "id": "b1T5d8728j0C",
        "colab_type": "code",
        "colab": {}
      },
      "source": [
        "# frases de respuesta si no logra clasificar\n",
        "frases_respuesta = [\"Mmm, donuts.\",\n",
        "                      \"Whatever, I'll be at Moe's.\",\n",
        "                      \"Eat my shorts!\",\n",
        "                      \"If anyone wants me, I'll be in my room.\",\n",
        "                      \"Bye!\",\n",
        "                      \"To start press any key. Where's the ANY key?\",\n",
        "                      \"The lesson is, never try\",\n",
        "                      \"I'm normally not a praying man, but if you're up there, please save me, Superman\",\n",
        "                      \"You'll have to speak up I'm wearing a towel\",\n",
        "                      \"I am so smart, S-M-R-T\",\n",
        "                    \n",
        "                    \"You're making a scene\",\n",
        "                      \"Can I have some money now?\"]"
      ],
      "execution_count": 116,
      "outputs": []
    },
    {
      "cell_type": "code",
      "metadata": {
        "id": "OW3V8vUJ8j0Z",
        "colab_type": "code",
        "colab": {}
      },
      "source": [
        "def union(lst1, lst2): \n",
        "    if lst1 != \"<OOV>\":\n",
        "        final_list = lst1 + \": \" + lst2 + \"\\n\"\n",
        "        print(final_list)\n",
        "    else:\n",
        "        a = random.randint(0, len(frases_respuesta)) #elige una frase aleatoriamente\n",
        "        print(frases_respuesta[a])"
      ],
      "execution_count": 117,
      "outputs": []
    },
    {
      "cell_type": "code",
      "metadata": {
        "id": "80WuuhHF8j0q",
        "colab_type": "code",
        "colab": {
          "base_uri": "https://localhost:8080/",
          "height": 54
        },
        "outputId": "1c5e1068-1290-418f-b7eb-4c5aaac3d96b"
      },
      "source": [
        "Frase = \"Wherever injustice shows its ugly face, I will be there, for I am the Pie Man.\"\n",
        "Etiqueta = \"Homer\"\n",
        "union(Etiqueta, Frase)"
      ],
      "execution_count": 118,
      "outputs": [
        {
          "output_type": "stream",
          "text": [
            "Homer: Wherever injustice shows its ugly face, I will be there, for I am the Pie Man.\n",
            "\n"
          ],
          "name": "stdout"
        }
      ]
    },
    {
      "cell_type": "code",
      "metadata": {
        "id": "5qXhaZkN8j07",
        "colab_type": "code",
        "colab": {
          "base_uri": "https://localhost:8080/",
          "height": 35
        },
        "outputId": "65e325b5-6f1a-46af-ac01-499be6b98b12"
      },
      "source": [
        "Frase = \"Wherever injustice shows its ugly face, I will be there, for I am the Pie Man.\"\n",
        "Etiqueta = \"<OOV>\"\n",
        "union(Etiqueta, Frase)"
      ],
      "execution_count": 119,
      "outputs": [
        {
          "output_type": "stream",
          "text": [
            "To start press any key. Where's the ANY key?\n"
          ],
          "name": "stdout"
        }
      ]
    },
    {
      "cell_type": "code",
      "metadata": {
        "id": "qmiW_3zZoxBz",
        "colab_type": "code",
        "colab": {}
      },
      "source": [
        "Frase_2 = \"Homer:Hello, how are you homer?\\n Julieth jajajjja \\nMarge Simpson: Hmmm. The urinational obnest beat up. Should we ney give yoursity to Barn door...\\nHomer Simpson: Oooh.\\n\"\n",
        "Frase_3 = \"Homer:Hello, how are you homer?\\n \\nMarge Simpson: Hmmm. The urinational obnest beat up. Should we ney give yoursity to Barn door...\\nHomer Simpson: Oooh.\\n\""
      ],
      "execution_count": 120,
      "outputs": []
    },
    {
      "cell_type": "code",
      "metadata": {
        "id": "F7UIEE4ZRuwH",
        "colab_type": "code",
        "colab": {
          "base_uri": "https://localhost:8080/",
          "height": 35
        },
        "outputId": "908b1c5b-dab4-493c-db05-680e936dc4db"
      },
      "source": [
        "type(Frase_2)"
      ],
      "execution_count": 121,
      "outputs": [
        {
          "output_type": "execute_result",
          "data": {
            "text/plain": [
              "str"
            ]
          },
          "metadata": {
            "tags": []
          },
          "execution_count": 121
        }
      ]
    },
    {
      "cell_type": "code",
      "metadata": {
        "id": "wsuwdZ2Mo8_d",
        "colab_type": "code",
        "colab": {}
      },
      "source": [
        "def output_ultimate(line):\n",
        "  if line.split('\\n')[1] == ' ':\n",
        "    line2=line.split('\\n')[2]\n",
        "    labelsLine2 = line2[:line2.index(':')+1]\n",
        "    line_ultimate = line2.replace(labelsLine2,\"\")\n",
        "    print(line_ultimate)\n",
        "  else:\n",
        "    line_ultimate = line.split('\\n')[1]\n",
        "    print(line_ultimate)"
      ],
      "execution_count": 122,
      "outputs": []
    },
    {
      "cell_type": "code",
      "metadata": {
        "id": "T40eiLDfHcq2",
        "colab_type": "code",
        "colab": {
          "base_uri": "https://localhost:8080/",
          "height": 35
        },
        "outputId": "42964839-5e74-4011-fcd0-b4addb5e8e50"
      },
      "source": [
        "output_ultimate(Frase_2)"
      ],
      "execution_count": 123,
      "outputs": [
        {
          "output_type": "stream",
          "text": [
            " Julieth jajajjja \n"
          ],
          "name": "stdout"
        }
      ]
    },
    {
      "cell_type": "code",
      "metadata": {
        "id": "pHsWI04sHb2v",
        "colab_type": "code",
        "colab": {
          "base_uri": "https://localhost:8080/",
          "height": 35
        },
        "outputId": "62bf34e6-d9a0-4810-a259-ab4dcb132830"
      },
      "source": [
        "output_ultimate(Frase_3)"
      ],
      "execution_count": 124,
      "outputs": [
        {
          "output_type": "stream",
          "text": [
            " Hmmm. The urinational obnest beat up. Should we ney give yoursity to Barn door...\n"
          ],
          "name": "stdout"
        }
      ]
    }
  ]
}