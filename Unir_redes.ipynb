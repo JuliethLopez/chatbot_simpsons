{
 "cells": [
  {
   "cell_type": "code",
   "execution_count": 61,
   "metadata": {},
   "outputs": [],
   "source": [
    "import random"
   ]
  },
  {
   "cell_type": "code",
   "execution_count": 77,
   "metadata": {},
   "outputs": [],
   "source": [
    "# frases de respuesta si no logra clasificar\n",
    "frases_respuesta = [\"Mmm, donuts.\",\n",
    "                      \"Whatever, I'll be at Moe's.\",\n",
    "                      \"Eat my shorts!\",\n",
    "                      \"If anyone wants me, I'll be in my room.\",\n",
    "                      \"Bye!\",\n",
    "                      \"To start press any key. Where's the ANY key?\",\n",
    "                      \"The lesson is, never try\",\n",
    "                      \"I'm normally not a praying man, but if you're up there, please save me, Superman\",\n",
    "                      \"You'll have to speak up I'm wearing a towel\",\n",
    "                      \"I am so smart, S-M-R-T\",\n",
    "                    \n",
    "                    \"You're making a scene\",\n",
    "                      \"Can I have some money now?\"]"
   ]
  },
  {
   "cell_type": "code",
   "execution_count": 78,
   "metadata": {},
   "outputs": [],
   "source": [
    "def union(lst1, lst2): \n",
    "    if lst1 != \"<OOV>\":\n",
    "        final_list = lst1 + \": \" + lst2 \n",
    "        print(final_list)\n",
    "    else:\n",
    "        a = random.randint(0, len(frases_respuesta)) #elige una frase aleatoriamente\n",
    "        print(frases_respuesta[a])"
   ]
  },
  {
   "cell_type": "code",
   "execution_count": 79,
   "metadata": {},
   "outputs": [
    {
     "name": "stdout",
     "output_type": "stream",
     "text": [
      "Homer: Wherever injustice shows its ugly face, I will be there, for I am the Pie Man.\n"
     ]
    }
   ],
   "source": [
    "Frase = \"Wherever injustice shows its ugly face, I will be there, for I am the Pie Man.\"\n",
    "Etiqueta = \"Homer\"\n",
    "union(Etiqueta, Frase)"
   ]
  },
  {
   "cell_type": "code",
   "execution_count": 85,
   "metadata": {},
   "outputs": [
    {
     "name": "stdout",
     "output_type": "stream",
     "text": [
      "Bye!\n"
     ]
    }
   ],
   "source": [
    "Frase = \"Wherever injustice shows its ugly face, I will be there, for I am the Pie Man.\"\n",
    "Etiqueta = \"<OOV>\"\n",
    "union(Etiqueta, Frase)"
   ]
  }
 ],
 "metadata": {
  "kernelspec": {
   "display_name": "Python 3",
   "language": "python",
   "name": "python3"
  },
  "language_info": {
   "codemirror_mode": {
    "name": "ipython",
    "version": 3
   },
   "file_extension": ".py",
   "mimetype": "text/x-python",
   "name": "python",
   "nbconvert_exporter": "python",
   "pygments_lexer": "ipython3",
   "version": "3.7.4"
  }
 },
 "nbformat": 4,
 "nbformat_minor": 2
}
