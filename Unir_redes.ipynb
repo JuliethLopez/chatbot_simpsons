{
  "nbformat": 4,
  "nbformat_minor": 0,
  "metadata": {
    "accelerator": "TPU",
    "colab": {
      "name": "Unir redes.ipynb",
      "provenance": [],
      "collapsed_sections": [],
      "include_colab_link": true
    },
    "kernelspec": {
      "display_name": "Python 3",
      "language": "python",
      "name": "python3"
    },
    "language_info": {
      "codemirror_mode": {
        "name": "ipython",
        "version": 3
      },
      "file_extension": ".py",
      "mimetype": "text/x-python",
      "name": "python",
      "nbconvert_exporter": "python",
      "pygments_lexer": "ipython3",
      "version": "3.7.7"
    }
  },
  "cells": [
    {
      "cell_type": "markdown",
      "metadata": {
        "id": "view-in-github",
        "colab_type": "text"
      },
      "source": [
        "<a href=\"https://colab.research.google.com/github/JuliethLopez/chatbot_simpsons/blob/master/Unir_redes.ipynb\" target=\"_parent\"><img src=\"https://colab.research.google.com/assets/colab-badge.svg\" alt=\"Open In Colab\"/></a>"
      ]
    },
    {
      "cell_type": "code",
      "metadata": {
        "id": "u194PGWK3Ig4",
        "colab_type": "code",
        "colab": {}
      },
      "source": [
        "#frases de respuesta si no logra clasificar\n",
        "frases_respuesta=[\"Mmm, donuts.\",\n",
        "                  \"Whatever, I'll be at Moe's.\",\n",
        "                  \"Eat my shorts!\",\n",
        "                  \"If anyone wants me, I'll be in my room.\",\n",
        "                  \"Bye!\",\n",
        "                  \"To start press any key. Where's the ANY key?\",\n",
        "                  \"The lesson is, never try\",\n",
        "                  \"I'm normally not a praying man, but if you're up there, please save me, Superman\",\n",
        "                  \"You'll have to speak up I'm wearing a towel\",\n",
        "                  \"I am so smart, S-M-R-T\",\n",
        "                  \"You're making a scene\",\n",
        "                  \"Can I have some money now?\"]"
      ],
      "execution_count": 1,
      "outputs": []
    },
    {
      "cell_type": "code",
      "metadata": {
        "id": "41sTlGoj40eG",
        "colab_type": "code",
        "colab": {}
      },
      "source": [
        "#funcion para conectar las redes\n",
        "import random\n",
        "\n",
        "\n",
        "if prediction != '<OOV>':\n",
        "  ###--algo--####\n",
        "  else:\n",
        "    a = random.randint(0, len(frases_respuesta)) #elige una frase aleatoriamente\n",
        "    print(frases_respuesta[a])"
      ],
      "execution_count": null,
      "outputs": []
    },
    {
      "cell_type": "code",
      "metadata": {
        "id": "-HIz5an35Phd",
        "colab_type": "code",
        "colab": {}
      },
      "source": [
        ""
      ],
      "execution_count": null,
      "outputs": []
    }
  ]
}