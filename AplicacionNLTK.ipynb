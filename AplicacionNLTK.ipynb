{
  "nbformat": 4,
  "nbformat_minor": 0,
  "metadata": {
    "kernelspec": {
      "display_name": "Python 3",
      "language": "python",
      "name": "python3"
    },
    "language_info": {
      "codemirror_mode": {
        "name": "ipython",
        "version": 3
      },
      "file_extension": ".py",
      "mimetype": "text/x-python",
      "name": "python",
      "nbconvert_exporter": "python",
      "pygments_lexer": "ipython3",
      "version": "3.7.4"
    },
    "colab": {
      "name": "Code.ipynb",
      "provenance": []
    },
    "accelerator": "GPU"
  },
  "cells": [
    {
      "cell_type": "markdown",
      "metadata": {
        "id": "F_svjsx4ArJt",
        "colab_type": "text"
      },
      "source": [
        "<table class=\"tfo-notebook-buttons\" align=\"left\">\n",
        "  <td>\n",
        "    <a target=\"_blank\" href=\"https://colab.research.google.com/github/JuliethLopez/chatbot_simpsons/blob/master/Code.ipynb\"><img src=\"https://www.tensorflow.org/images/colab_logo_32px.png\" />Run in Google Colab</a>\n",
        "  </td>\n",
        "  <td>\n",
        "    <a target=\"_blank\" href=\"https://github.com/JuliethLopez/chatbot_simpsons/blob/master/Code.ipynb\"><img src=\"https://www.tensorflow.org/images/GitHub-Mark-32px.png\" />View source on GitHub</a>\n",
        "  </td>\n",
        "</table>"
      ]
    },
    {
      "cell_type": "markdown",
      "metadata": {
        "id": "xvzz_D3vY1eB",
        "colab_type": "text"
      },
      "source": [
        "#Preprocesamiento de los datos"
      ]
    },
    {
      "cell_type": "code",
      "metadata": {
        "id": "U3GrTNw5A81t",
        "colab_type": "code",
        "colab": {}
      },
      "source": [
        "#!pip install tensorflow-text\n",
        "#nltk.download()"
      ],
      "execution_count": 0,
      "outputs": []
    },
    {
      "cell_type": "code",
      "metadata": {
        "id": "NsEvj6MeAyGZ",
        "colab_type": "code",
        "colab": {}
      },
      "source": [
        "import csv\n",
        "import tensorflow as tf\n",
        "import tensorflow_text as text\n",
        "import pandas as pd\n",
        "import numpy as np\n",
        "import nltk"
      ],
      "execution_count": 0,
      "outputs": []
    },
    {
      "cell_type": "code",
      "metadata": {
        "id": "NaXJ4jYLBDYZ",
        "colab_type": "code",
        "colab": {
          "base_uri": "https://localhost:8080/",
          "height": 112
        },
        "outputId": "28c42832-0631-4fb7-e015-9d5addd44e68"
      },
      "source": [
        "#cargamos los datos\n",
        "train = pd.read_csv(\"https://meli-data-challenge.s3.amazonaws.com/train.csv.gz\",encoding = 'utf-8', header=0)\n",
        "train.head(2)"
      ],
      "execution_count": 3,
      "outputs": [
        {
          "output_type": "execute_result",
          "data": {
            "text/html": [
              "<div>\n",
              "<style scoped>\n",
              "    .dataframe tbody tr th:only-of-type {\n",
              "        vertical-align: middle;\n",
              "    }\n",
              "\n",
              "    .dataframe tbody tr th {\n",
              "        vertical-align: top;\n",
              "    }\n",
              "\n",
              "    .dataframe thead th {\n",
              "        text-align: right;\n",
              "    }\n",
              "</style>\n",
              "<table border=\"1\" class=\"dataframe\">\n",
              "  <thead>\n",
              "    <tr style=\"text-align: right;\">\n",
              "      <th></th>\n",
              "      <th>title</th>\n",
              "      <th>label_quality</th>\n",
              "      <th>language</th>\n",
              "      <th>category</th>\n",
              "    </tr>\n",
              "  </thead>\n",
              "  <tbody>\n",
              "    <tr>\n",
              "      <th>0</th>\n",
              "      <td>Hidrolavadora Lavor One 120 Bar 1700w  Bomba A...</td>\n",
              "      <td>unreliable</td>\n",
              "      <td>spanish</td>\n",
              "      <td>ELECTRIC_PRESSURE_WASHERS</td>\n",
              "    </tr>\n",
              "    <tr>\n",
              "      <th>1</th>\n",
              "      <td>Placa De Sonido - Behringer Umc22</td>\n",
              "      <td>unreliable</td>\n",
              "      <td>spanish</td>\n",
              "      <td>SOUND_CARDS</td>\n",
              "    </tr>\n",
              "  </tbody>\n",
              "</table>\n",
              "</div>"
            ],
            "text/plain": [
              "                                               title  ...                   category\n",
              "0  Hidrolavadora Lavor One 120 Bar 1700w  Bomba A...  ...  ELECTRIC_PRESSURE_WASHERS\n",
              "1                  Placa De Sonido - Behringer Umc22  ...                SOUND_CARDS\n",
              "\n",
              "[2 rows x 4 columns]"
            ]
          },
          "metadata": {
            "tags": []
          },
          "execution_count": 3
        }
      ]
    },
    {
      "cell_type": "markdown",
      "metadata": {
        "id": "KaPXbl6HXwtu",
        "colab_type": "text"
      },
      "source": [
        "## Intento 1\n",
        "Tratamos de cambiar la base de datos de formato cvs a txt desde python. Sin embargo no pudimos obtener resultados muy precisos y no pudimos aplicar muchas de las funciones del *introNLTK*."
      ]
    },
    {
      "cell_type": "code",
      "metadata": {
        "id": "56uoiPemBIeT",
        "colab_type": "code",
        "colab": {}
      },
      "source": [
        "#seleccionamos los datos en español y los ponemos en minuscula\n",
        "train_df = train[train['language'] == 'spanish']\n",
        "train_df = train_df.applymap(lambda s:s.lower() if type(s) == str else s)"
      ],
      "execution_count": 0,
      "outputs": []
    },
    {
      "cell_type": "code",
      "metadata": {
        "id": "hUkXoBzWB1wX",
        "colab_type": "code",
        "colab": {
          "base_uri": "https://localhost:8080/",
          "height": 363
        },
        "outputId": "6d8ecb3c-f66b-4854-fe39-5d568eb177e8"
      },
      "source": [
        "#seleccionamos 10 datos para probar algunas funciones\n",
        "train_df_10 = train_df.head(10)\n",
        "train_df_10"
      ],
      "execution_count": 5,
      "outputs": [
        {
          "output_type": "execute_result",
          "data": {
            "text/html": [
              "<div>\n",
              "<style scoped>\n",
              "    .dataframe tbody tr th:only-of-type {\n",
              "        vertical-align: middle;\n",
              "    }\n",
              "\n",
              "    .dataframe tbody tr th {\n",
              "        vertical-align: top;\n",
              "    }\n",
              "\n",
              "    .dataframe thead th {\n",
              "        text-align: right;\n",
              "    }\n",
              "</style>\n",
              "<table border=\"1\" class=\"dataframe\">\n",
              "  <thead>\n",
              "    <tr style=\"text-align: right;\">\n",
              "      <th></th>\n",
              "      <th>title</th>\n",
              "      <th>label_quality</th>\n",
              "      <th>language</th>\n",
              "      <th>category</th>\n",
              "    </tr>\n",
              "  </thead>\n",
              "  <tbody>\n",
              "    <tr>\n",
              "      <th>0</th>\n",
              "      <td>hidrolavadora lavor one 120 bar 1700w  bomba a...</td>\n",
              "      <td>unreliable</td>\n",
              "      <td>spanish</td>\n",
              "      <td>electric_pressure_washers</td>\n",
              "    </tr>\n",
              "    <tr>\n",
              "      <th>1</th>\n",
              "      <td>placa de sonido - behringer umc22</td>\n",
              "      <td>unreliable</td>\n",
              "      <td>spanish</td>\n",
              "      <td>sound_cards</td>\n",
              "    </tr>\n",
              "    <tr>\n",
              "      <th>4</th>\n",
              "      <td>flashes led pestañas luminoso falso pestañas p...</td>\n",
              "      <td>unreliable</td>\n",
              "      <td>spanish</td>\n",
              "      <td>false_eyelashes</td>\n",
              "    </tr>\n",
              "    <tr>\n",
              "      <th>9</th>\n",
              "      <td>gatito lunchera neoprene</td>\n",
              "      <td>unreliable</td>\n",
              "      <td>spanish</td>\n",
              "      <td>lunchboxes</td>\n",
              "    </tr>\n",
              "    <tr>\n",
              "      <th>11</th>\n",
              "      <td>rosario contador de billetes uv / mg detecta f...</td>\n",
              "      <td>unreliable</td>\n",
              "      <td>spanish</td>\n",
              "      <td>bill_counters</td>\n",
              "    </tr>\n",
              "    <tr>\n",
              "      <th>18</th>\n",
              "      <td>battery pack huawei 13000mah cuerpo de metal 2...</td>\n",
              "      <td>unreliable</td>\n",
              "      <td>spanish</td>\n",
              "      <td>portable_cellphone_chargers</td>\n",
              "    </tr>\n",
              "    <tr>\n",
              "      <th>23</th>\n",
              "      <td>portón de chapa 3 hojas mtr 2.50 sin marco</td>\n",
              "      <td>unreliable</td>\n",
              "      <td>spanish</td>\n",
              "      <td>garage_doors</td>\n",
              "    </tr>\n",
              "    <tr>\n",
              "      <th>24</th>\n",
              "      <td>a4404 multi puertos usb rápido cargador cabeza...</td>\n",
              "      <td>unreliable</td>\n",
              "      <td>spanish</td>\n",
              "      <td>label_makers</td>\n",
              "    </tr>\n",
              "    <tr>\n",
              "      <th>26</th>\n",
              "      <td>base simil cemento - 30 cm x 5 mm</td>\n",
              "      <td>unreliable</td>\n",
              "      <td>spanish</td>\n",
              "      <td>cake_toppers</td>\n",
              "    </tr>\n",
              "    <tr>\n",
              "      <th>30</th>\n",
              "      <td>maquina para sublimar estampar goldex 60x40</td>\n",
              "      <td>unreliable</td>\n",
              "      <td>spanish</td>\n",
              "      <td>screen_printers</td>\n",
              "    </tr>\n",
              "  </tbody>\n",
              "</table>\n",
              "</div>"
            ],
            "text/plain": [
              "                                                title  ...                     category\n",
              "0   hidrolavadora lavor one 120 bar 1700w  bomba a...  ...    electric_pressure_washers\n",
              "1                   placa de sonido - behringer umc22  ...                  sound_cards\n",
              "4   flashes led pestañas luminoso falso pestañas p...  ...              false_eyelashes\n",
              "9                           gatito lunchera neoprene   ...                   lunchboxes\n",
              "11  rosario contador de billetes uv / mg detecta f...  ...                bill_counters\n",
              "18  battery pack huawei 13000mah cuerpo de metal 2...  ...  portable_cellphone_chargers\n",
              "23         portón de chapa 3 hojas mtr 2.50 sin marco  ...                 garage_doors\n",
              "24  a4404 multi puertos usb rápido cargador cabeza...  ...                 label_makers\n",
              "26                  base simil cemento - 30 cm x 5 mm  ...                 cake_toppers\n",
              "30        maquina para sublimar estampar goldex 60x40  ...              screen_printers\n",
              "\n",
              "[10 rows x 4 columns]"
            ]
          },
          "metadata": {
            "tags": []
          },
          "execution_count": 5
        }
      ]
    },
    {
      "cell_type": "code",
      "metadata": {
        "id": "MxPnx5qtB8jv",
        "colab_type": "code",
        "outputId": "56d1a589-85eb-494a-960f-73a27782a10a",
        "colab": {
          "base_uri": "https://localhost:8080/",
          "height": 1000
        }
      },
      "source": [
        "#\n",
        "tokenizer = text.WhitespaceTokenizer() #se extraen los tokens de una cadena de palabras u oraciones sin espacios en blanco\n",
        "tokens = tokenizer.tokenize(train_df_10)\n",
        "tokens.to_list()"
      ],
      "execution_count": 6,
      "outputs": [
        {
          "output_type": "stream",
          "text": [
            "WARNING:tensorflow:From /usr/local/lib/python3.6/dist-packages/tensorflow/python/util/dispatch.py:180: batch_gather (from tensorflow.python.ops.array_ops) is deprecated and will be removed after 2017-10-25.\n",
            "Instructions for updating:\n",
            "`tf.batch_gather` is deprecated, please use `tf.gather` with `batch_dims=-1` instead.\n"
          ],
          "name": "stdout"
        },
        {
          "output_type": "execute_result",
          "data": {
            "text/plain": [
              "[[[b'hidrolavadora',\n",
              "   b'lavor',\n",
              "   b'one',\n",
              "   b'120',\n",
              "   b'bar',\n",
              "   b'1700w',\n",
              "   b'bomba',\n",
              "   b'aluminio',\n",
              "   b'italia'],\n",
              "  [b'unreliable'],\n",
              "  [b'spanish'],\n",
              "  [b'electric_pressure_washers']],\n",
              " [[b'placa', b'de', b'sonido', b'-', b'behringer', b'umc22'],\n",
              "  [b'unreliable'],\n",
              "  [b'spanish'],\n",
              "  [b'sound_cards']],\n",
              " [[b'flashes',\n",
              "   b'led',\n",
              "   b'pesta\\xc3\\xb1as',\n",
              "   b'luminoso',\n",
              "   b'falso',\n",
              "   b'pesta\\xc3\\xb1as',\n",
              "   b'para',\n",
              "   b'partido'],\n",
              "  [b'unreliable'],\n",
              "  [b'spanish'],\n",
              "  [b'false_eyelashes']],\n",
              " [[b'gatito', b'lunchera', b'neoprene'],\n",
              "  [b'unreliable'],\n",
              "  [b'spanish'],\n",
              "  [b'lunchboxes']],\n",
              " [[b'rosario',\n",
              "   b'contador',\n",
              "   b'de',\n",
              "   b'billetes',\n",
              "   b'uv',\n",
              "   b'/',\n",
              "   b'mg',\n",
              "   b'detecta',\n",
              "   b'falsos',\n",
              "   b'nuevo'],\n",
              "  [b'unreliable'],\n",
              "  [b'spanish'],\n",
              "  [b'bill_counters']],\n",
              " [[b'battery',\n",
              "   b'pack',\n",
              "   b'huawei',\n",
              "   b'13000mah',\n",
              "   b'cuerpo',\n",
              "   b'de',\n",
              "   b'metal',\n",
              "   b'2',\n",
              "   b'puertos',\n",
              "   b'usb'],\n",
              "  [b'unreliable'],\n",
              "  [b'spanish'],\n",
              "  [b'portable_cellphone_chargers']],\n",
              " [[b'port\\xc3\\xb3n',\n",
              "   b'de',\n",
              "   b'chapa',\n",
              "   b'3',\n",
              "   b'hojas',\n",
              "   b'mtr',\n",
              "   b'2.50',\n",
              "   b'sin',\n",
              "   b'marco'],\n",
              "  [b'unreliable'],\n",
              "  [b'spanish'],\n",
              "  [b'garage_doors']],\n",
              " [[b'a4404',\n",
              "   b'multi',\n",
              "   b'puertos',\n",
              "   b'usb',\n",
              "   b'r\\xc3\\xa1pido',\n",
              "   b'cargador',\n",
              "   b'cabeza',\n",
              "   b'r\\xc3\\xa1pido',\n",
              "   b'carg'],\n",
              "  [b'unreliable'],\n",
              "  [b'spanish'],\n",
              "  [b'label_makers']],\n",
              " [[b'base', b'simil', b'cemento', b'-', b'30', b'cm', b'x', b'5', b'mm'],\n",
              "  [b'unreliable'],\n",
              "  [b'spanish'],\n",
              "  [b'cake_toppers']],\n",
              " [[b'maquina', b'para', b'sublimar', b'estampar', b'goldex', b'60x40'],\n",
              "  [b'unreliable'],\n",
              "  [b'spanish'],\n",
              "  [b'screen_printers']]]"
            ]
          },
          "metadata": {
            "tags": []
          },
          "execution_count": 6
        }
      ]
    },
    {
      "cell_type": "code",
      "metadata": {
        "id": "yEJYcrkXGwip",
        "colab_type": "code",
        "outputId": "00b0f770-838e-47c3-d613-8d889b2758bc",
        "colab": {
          "base_uri": "https://localhost:8080/",
          "height": 35
        }
      },
      "source": [
        "cuatrigrama = text.ngrams(tokens, 4, reduction_type=text.Reduction.STRING_JOIN)\n",
        "cuatrigrama = cuatrigrama.to_list()\n",
        "type(cuatrigrama)"
      ],
      "execution_count": 7,
      "outputs": [
        {
          "output_type": "execute_result",
          "data": {
            "text/plain": [
              "list"
            ]
          },
          "metadata": {
            "tags": []
          },
          "execution_count": 7
        }
      ]
    },
    {
      "cell_type": "code",
      "metadata": {
        "id": "KLEYrkNwHKWL",
        "colab_type": "code",
        "colab": {
          "base_uri": "https://localhost:8080/",
          "height": 364
        },
        "outputId": "f1824fd1-92d6-4c72-d52b-e66d161b3d54"
      },
      "source": [
        "#grafica con los cuatrigramas\n",
        "freq = nltk.FreqDist(cuatrigrama)\n",
        "freq.plot(20, cumulative=False, title = \"4-grama\")"
      ],
      "execution_count": 8,
      "outputs": [
        {
          "output_type": "error",
          "ename": "TypeError",
          "evalue": "ignored",
          "traceback": [
            "\u001b[0;31m---------------------------------------------------------------------------\u001b[0m",
            "\u001b[0;31mTypeError\u001b[0m                                 Traceback (most recent call last)",
            "\u001b[0;32m<ipython-input-8-fc57f4032ef5>\u001b[0m in \u001b[0;36m<module>\u001b[0;34m()\u001b[0m\n\u001b[1;32m      1\u001b[0m \u001b[0;31m#grafica con los cuatrigramas\u001b[0m\u001b[0;34m\u001b[0m\u001b[0;34m\u001b[0m\u001b[0;34m\u001b[0m\u001b[0m\n\u001b[0;32m----> 2\u001b[0;31m \u001b[0mfreq\u001b[0m \u001b[0;34m=\u001b[0m \u001b[0mnltk\u001b[0m\u001b[0;34m.\u001b[0m\u001b[0mFreqDist\u001b[0m\u001b[0;34m(\u001b[0m\u001b[0mcuatrigrama\u001b[0m\u001b[0;34m)\u001b[0m\u001b[0;34m\u001b[0m\u001b[0;34m\u001b[0m\u001b[0m\n\u001b[0m\u001b[1;32m      3\u001b[0m \u001b[0mfreq\u001b[0m\u001b[0;34m.\u001b[0m\u001b[0mplot\u001b[0m\u001b[0;34m(\u001b[0m\u001b[0;36m20\u001b[0m\u001b[0;34m,\u001b[0m \u001b[0mcumulative\u001b[0m\u001b[0;34m=\u001b[0m\u001b[0;32mFalse\u001b[0m\u001b[0;34m,\u001b[0m \u001b[0mtitle\u001b[0m \u001b[0;34m=\u001b[0m \u001b[0;34m\"4-grama\"\u001b[0m\u001b[0;34m)\u001b[0m\u001b[0;34m\u001b[0m\u001b[0;34m\u001b[0m\u001b[0m\n",
            "\u001b[0;32m/usr/local/lib/python3.6/dist-packages/nltk/probability.py\u001b[0m in \u001b[0;36m__init__\u001b[0;34m(self, samples)\u001b[0m\n\u001b[1;32m    106\u001b[0m         \u001b[0;34m:\u001b[0m\u001b[0mtype\u001b[0m \u001b[0msamples\u001b[0m\u001b[0;34m:\u001b[0m \u001b[0mSequence\u001b[0m\u001b[0;34m\u001b[0m\u001b[0;34m\u001b[0m\u001b[0m\n\u001b[1;32m    107\u001b[0m         \"\"\"\n\u001b[0;32m--> 108\u001b[0;31m         \u001b[0mCounter\u001b[0m\u001b[0;34m.\u001b[0m\u001b[0m__init__\u001b[0m\u001b[0;34m(\u001b[0m\u001b[0mself\u001b[0m\u001b[0;34m,\u001b[0m \u001b[0msamples\u001b[0m\u001b[0;34m)\u001b[0m\u001b[0;34m\u001b[0m\u001b[0;34m\u001b[0m\u001b[0m\n\u001b[0m\u001b[1;32m    109\u001b[0m \u001b[0;34m\u001b[0m\u001b[0m\n\u001b[1;32m    110\u001b[0m         \u001b[0;31m# Cached number of samples in this FreqDist\u001b[0m\u001b[0;34m\u001b[0m\u001b[0;34m\u001b[0m\u001b[0;34m\u001b[0m\u001b[0m\n",
            "\u001b[0;32m/usr/lib/python3.6/collections/__init__.py\u001b[0m in \u001b[0;36m__init__\u001b[0;34m(*args, **kwds)\u001b[0m\n\u001b[1;32m    533\u001b[0m             \u001b[0;32mraise\u001b[0m \u001b[0mTypeError\u001b[0m\u001b[0;34m(\u001b[0m\u001b[0;34m'expected at most 1 arguments, got %d'\u001b[0m \u001b[0;34m%\u001b[0m \u001b[0mlen\u001b[0m\u001b[0;34m(\u001b[0m\u001b[0margs\u001b[0m\u001b[0;34m)\u001b[0m\u001b[0;34m)\u001b[0m\u001b[0;34m\u001b[0m\u001b[0;34m\u001b[0m\u001b[0m\n\u001b[1;32m    534\u001b[0m         \u001b[0msuper\u001b[0m\u001b[0;34m(\u001b[0m\u001b[0mCounter\u001b[0m\u001b[0;34m,\u001b[0m \u001b[0mself\u001b[0m\u001b[0;34m)\u001b[0m\u001b[0;34m.\u001b[0m\u001b[0m__init__\u001b[0m\u001b[0;34m(\u001b[0m\u001b[0;34m)\u001b[0m\u001b[0;34m\u001b[0m\u001b[0;34m\u001b[0m\u001b[0m\n\u001b[0;32m--> 535\u001b[0;31m         \u001b[0mself\u001b[0m\u001b[0;34m.\u001b[0m\u001b[0mupdate\u001b[0m\u001b[0;34m(\u001b[0m\u001b[0;34m*\u001b[0m\u001b[0margs\u001b[0m\u001b[0;34m,\u001b[0m \u001b[0;34m**\u001b[0m\u001b[0mkwds\u001b[0m\u001b[0;34m)\u001b[0m\u001b[0;34m\u001b[0m\u001b[0;34m\u001b[0m\u001b[0m\n\u001b[0m\u001b[1;32m    536\u001b[0m \u001b[0;34m\u001b[0m\u001b[0m\n\u001b[1;32m    537\u001b[0m     \u001b[0;32mdef\u001b[0m \u001b[0m__missing__\u001b[0m\u001b[0;34m(\u001b[0m\u001b[0mself\u001b[0m\u001b[0;34m,\u001b[0m \u001b[0mkey\u001b[0m\u001b[0;34m)\u001b[0m\u001b[0;34m:\u001b[0m\u001b[0;34m\u001b[0m\u001b[0;34m\u001b[0m\u001b[0m\n",
            "\u001b[0;32m/usr/local/lib/python3.6/dist-packages/nltk/probability.py\u001b[0m in \u001b[0;36mupdate\u001b[0;34m(self, *args, **kwargs)\u001b[0m\n\u001b[1;32m    144\u001b[0m         \"\"\"\n\u001b[1;32m    145\u001b[0m         \u001b[0mself\u001b[0m\u001b[0;34m.\u001b[0m\u001b[0m_N\u001b[0m \u001b[0;34m=\u001b[0m \u001b[0;32mNone\u001b[0m\u001b[0;34m\u001b[0m\u001b[0;34m\u001b[0m\u001b[0m\n\u001b[0;32m--> 146\u001b[0;31m         \u001b[0msuper\u001b[0m\u001b[0;34m(\u001b[0m\u001b[0mFreqDist\u001b[0m\u001b[0;34m,\u001b[0m \u001b[0mself\u001b[0m\u001b[0;34m)\u001b[0m\u001b[0;34m.\u001b[0m\u001b[0mupdate\u001b[0m\u001b[0;34m(\u001b[0m\u001b[0;34m*\u001b[0m\u001b[0margs\u001b[0m\u001b[0;34m,\u001b[0m \u001b[0;34m**\u001b[0m\u001b[0mkwargs\u001b[0m\u001b[0;34m)\u001b[0m\u001b[0;34m\u001b[0m\u001b[0;34m\u001b[0m\u001b[0m\n\u001b[0m\u001b[1;32m    147\u001b[0m \u001b[0;34m\u001b[0m\u001b[0m\n\u001b[1;32m    148\u001b[0m     \u001b[0;32mdef\u001b[0m \u001b[0msetdefault\u001b[0m\u001b[0;34m(\u001b[0m\u001b[0mself\u001b[0m\u001b[0;34m,\u001b[0m \u001b[0mkey\u001b[0m\u001b[0;34m,\u001b[0m \u001b[0mval\u001b[0m\u001b[0;34m)\u001b[0m\u001b[0;34m:\u001b[0m\u001b[0;34m\u001b[0m\u001b[0;34m\u001b[0m\u001b[0m\n",
            "\u001b[0;32m/usr/lib/python3.6/collections/__init__.py\u001b[0m in \u001b[0;36mupdate\u001b[0;34m(*args, **kwds)\u001b[0m\n\u001b[1;32m    620\u001b[0m                     \u001b[0msuper\u001b[0m\u001b[0;34m(\u001b[0m\u001b[0mCounter\u001b[0m\u001b[0;34m,\u001b[0m \u001b[0mself\u001b[0m\u001b[0;34m)\u001b[0m\u001b[0;34m.\u001b[0m\u001b[0mupdate\u001b[0m\u001b[0;34m(\u001b[0m\u001b[0miterable\u001b[0m\u001b[0;34m)\u001b[0m \u001b[0;31m# fast path when counter is empty\u001b[0m\u001b[0;34m\u001b[0m\u001b[0;34m\u001b[0m\u001b[0m\n\u001b[1;32m    621\u001b[0m             \u001b[0;32melse\u001b[0m\u001b[0;34m:\u001b[0m\u001b[0;34m\u001b[0m\u001b[0;34m\u001b[0m\u001b[0m\n\u001b[0;32m--> 622\u001b[0;31m                 \u001b[0m_count_elements\u001b[0m\u001b[0;34m(\u001b[0m\u001b[0mself\u001b[0m\u001b[0;34m,\u001b[0m \u001b[0miterable\u001b[0m\u001b[0;34m)\u001b[0m\u001b[0;34m\u001b[0m\u001b[0;34m\u001b[0m\u001b[0m\n\u001b[0m\u001b[1;32m    623\u001b[0m         \u001b[0;32mif\u001b[0m \u001b[0mkwds\u001b[0m\u001b[0;34m:\u001b[0m\u001b[0;34m\u001b[0m\u001b[0;34m\u001b[0m\u001b[0m\n\u001b[1;32m    624\u001b[0m             \u001b[0mself\u001b[0m\u001b[0;34m.\u001b[0m\u001b[0mupdate\u001b[0m\u001b[0;34m(\u001b[0m\u001b[0mkwds\u001b[0m\u001b[0;34m)\u001b[0m\u001b[0;34m\u001b[0m\u001b[0;34m\u001b[0m\u001b[0m\n",
            "\u001b[0;31mTypeError\u001b[0m: unhashable type: 'list'"
          ]
        }
      ]
    },
    {
      "cell_type": "markdown",
      "metadata": {
        "id": "rAHE3hO9ZTUI",
        "colab_type": "text"
      },
      "source": [
        "### Intento 2\n",
        "Si bien se pueden aplicar las funciones de introNLTK, subir el archivo txt de la base completa tarda demasiado tiempo. Hay que encontrar otra forma, pues ni la 1 y la 2 nos sirven del todo."
      ]
    },
    {
      "cell_type": "code",
      "metadata": {
        "id": "RGXTbKfgSKIA",
        "colab_type": "code",
        "colab": {
          "base_uri": "https://localhost:8080/",
          "height": 35
        },
        "outputId": "786d3eaf-4983-473e-ffeb-e1436cc97cf4"
      },
      "source": [
        "len(train_df)"
      ],
      "execution_count": 9,
      "outputs": [
        {
          "output_type": "execute_result",
          "data": {
            "text/plain": [
              "10000000"
            ]
          },
          "metadata": {
            "tags": []
          },
          "execution_count": 9
        }
      ]
    },
    {
      "cell_type": "code",
      "metadata": {
        "id": "o3s8WYfjaJIY",
        "colab_type": "code",
        "colab": {
          "base_uri": "https://localhost:8080/",
          "height": 35
        },
        "outputId": "6c06f1f0-ed53-4bfa-b737-a923d8522c63"
      },
      "source": [
        "#subconjunto de datos\n",
        "train_data = train.iloc[:2000] #seleccionar 2000 filas\n",
        "train_data = train[train['language'] == 'spanish'] #seleccionar las entradas en español\n",
        "train_data = train.drop(['label_quality','language'], axis=1) #eliminar columna label_quality\n",
        "title = train.iloc[:,0]\n",
        "category = train.iloc[:,1]\n",
        "\n",
        "len(train_data)"
      ],
      "execution_count": 10,
      "outputs": [
        {
          "output_type": "execute_result",
          "data": {
            "text/plain": [
              "20000000"
            ]
          },
          "metadata": {
            "tags": []
          },
          "execution_count": 10
        }
      ]
    },
    {
      "cell_type": "code",
      "metadata": {
        "id": "PRXUwxp-apkp",
        "colab_type": "code",
        "colab": {}
      },
      "source": [
        "#exportar csv\n",
        "title.to_csv(r'title.csv', index = False, header=True)"
      ],
      "execution_count": 0,
      "outputs": []
    },
    {
      "cell_type": "code",
      "metadata": {
        "id": "dkDt7bTKatoR",
        "colab_type": "code",
        "colab": {}
      },
      "source": [
        "#importar txt\n",
        "f = open('title.txt','r',errors = 'ignore')\n",
        "title_txt = f.read()"
      ],
      "execution_count": 0,
      "outputs": []
    },
    {
      "cell_type": "code",
      "metadata": {
        "id": "jqpF8QwXa6Ln",
        "colab_type": "code",
        "colab": {
          "base_uri": "https://localhost:8080/",
          "height": 323
        },
        "outputId": "5e80d241-8364-4e89-b21d-d20ca526a4fe"
      },
      "source": [
        "#mayusculas a minusculas\n",
        "title_txt = title_txt.lower()# se pasa a minusculas\n",
        "\n",
        "sent_tokens = nltk.sent_tokenize(title_txt)#tokens por frases\n",
        "word_tokens = nltk.word_tokenize(title_txt)#tokens por palabras\n",
        "\n",
        "#distribucion de frecuencia de las palabras usando nltk\n",
        "freq = nltk.FreqDist(word_tokens)\n",
        "\n",
        "#grafico de la distribución de frecuencias\n",
        "freq.plot(20, cumulative=False, title = \"Tokens sin signos de puntiación\")"
      ],
      "execution_count": 13,
      "outputs": [
        {
          "output_type": "display_data",
          "data": {
            "image/png": "[encoded data removed]",
            "text/plain": [
              "<Figure size 432x288 with 1 Axes>"
            ]
          },
          "metadata": {
            "tags": [],
            "needs_background": "light"
          }
        }
      ]
    },
    {
      "cell_type": "code",
      "metadata": {
        "id": "ykyaoesEbEAq",
        "colab_type": "code",
        "colab": {
          "base_uri": "https://localhost:8080/",
          "height": 323
        },
        "outputId": "054872b3-5af2-4448-b90d-757f1ab53f8e"
      },
      "source": [
        "from nltk.tokenize import word_tokenize, regexp_tokenize\n",
        "\n",
        "#utilizamos una fucnion mas precisa para los tokens, se eliminan algunos signos de puntuación\n",
        "tokens = regexp_tokenize(title_txt, pattern=\"\\w+\")\n",
        "\n",
        "#distribucion de frecuencia de las palabras usando nltk\n",
        "freq = nltk.FreqDist(tokens)\n",
        "\n",
        "#grafico de la distribución de frecuencias\n",
        "freq.plot(20, cumulative=False, title = \"Tokens sin signos de puntiación\")"
      ],
      "execution_count": 14,
      "outputs": [
        {
          "output_type": "display_data",
          "data": {
            "image/png": "[encoded data removed]",
            "text/plain": [
              "<Figure size 432x288 with 1 Axes>"
            ]
          },
          "metadata": {
            "tags": [],
            "needs_background": "light"
          }
        }
      ]
    },
    {
      "cell_type": "code",
      "metadata": {
        "id": "_VpG5Efrbc9y",
        "colab_type": "code",
        "colab": {}
      },
      "source": [
        "#palabras de parada\n",
        "from nltk.corpus import stopwords\n",
        "sr = stopwords.words('spanish')"
      ],
      "execution_count": 0,
      "outputs": []
    },
    {
      "cell_type": "code",
      "metadata": {
        "id": "aZv6rAcjcjM5",
        "colab_type": "code",
        "colab": {}
      },
      "source": [
        "#limpiamos los tokens\n",
        "clean_tokens = tokens[:]\n",
        "\n",
        "for token in tokens:\n",
        "    if token in stopwords.words('spanish'):\n",
        "        clean_tokens.remove(token)\n",
        "\n",
        "freq = nltk.FreqDist(clean_tokens)\n",
        "\n",
        "#for key,val in freq.items():\n",
        "#    print (str(key) + ':' + str(val))"
      ],
      "execution_count": 0,
      "outputs": []
    },
    {
      "cell_type": "code",
      "metadata": {
        "id": "arH62XwPcoy8",
        "colab_type": "code",
        "colab": {
          "base_uri": "https://localhost:8080/",
          "height": 316
        },
        "outputId": "1f613995-d443-487b-87e6-8585b20ce935"
      },
      "source": [
        "freq.plot(40,cumulative=False)"
      ],
      "execution_count": 17,
      "outputs": [
        {
          "output_type": "display_data",
          "data": {
            "image/png": "[encoded data removed]",
            "text/plain": [
              "<Figure size 432x288 with 1 Axes>"
            ]
          },
          "metadata": {
            "tags": [],
            "needs_background": "light"
          }
        }
      ]
    },
    {
      "cell_type": "code",
      "metadata": {
        "id": "b7K_I3PIdO2o",
        "colab_type": "code",
        "colab": {}
      },
      "source": [
        ""
      ],
      "execution_count": 0,
      "outputs": []
    }
  ]
}