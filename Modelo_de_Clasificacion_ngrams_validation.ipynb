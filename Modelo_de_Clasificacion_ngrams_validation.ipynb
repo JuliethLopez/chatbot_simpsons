{
  "nbformat": 4,
  "nbformat_minor": 0,
  "metadata": {
    "colab": {
      "name": "Modelo_de_Clasificacion_ngrams_validation.ipynb",
      "provenance": [],
      "collapsed_sections": [],
      "toc_visible": true,
      "authorship_tag": "ABX9TyOQF+5wgv5tqsQTO57ch6sg",
      "include_colab_link": true
    },
    "kernelspec": {
      "name": "python3",
      "display_name": "Python 3"
    }
  },
  "cells": [
    {
      "cell_type": "markdown",
      "metadata": {
        "id": "view-in-github",
        "colab_type": "text"
      },
      "source": [
        "<a href=\"https://colab.research.google.com/github/JuliethLopez/chatbot_simpsons/blob/master/Modelo_de_Clasificacion_ngrams_validation.ipynb\" target=\"_parent\"><img src=\"https://colab.research.google.com/assets/colab-badge.svg\" alt=\"Open In Colab\"/></a>"
      ]
    },
    {
      "cell_type": "markdown",
      "metadata": {
        "id": "nJPO1NOruW18",
        "colab_type": "text"
      },
      "source": [
        "# Clasificación usando Lenguaje Natural"
      ]
    },
    {
      "cell_type": "code",
      "metadata": {
        "id": "NJc6nHMRudjy",
        "colab_type": "code",
        "colab": {}
      },
      "source": [
        "# Librerias\n",
        "\n",
        "import csv\n",
        "import tensorflow as tf\n",
        "import numpy as np\n",
        "import matplotlib.pyplot as plt\n",
        "import pandas as pd\n",
        "import matplotlib.pylab as plt\n",
        "import nltk\n",
        "import string\n",
        "import itertools\n",
        "from nltk import word_tokenize\n",
        "from nltk.util import ngrams\n",
        "from tensorflow.keras.preprocessing.text import Tokenizer\n",
        "from tensorflow.keras.preprocessing.sequence import pad_sequences\n",
        "from keras import layers, backend\n",
        "from nltk.tokenize import word_tokenize, sent_tokenize, regexp_tokenize\n",
        "from sklearn. preprocessing import LabelEncoder"
      ],
      "execution_count": 0,
      "outputs": []
    },
    {
      "cell_type": "markdown",
      "metadata": {
        "id": "ZAXQiC96uq4s",
        "colab_type": "text"
      },
      "source": [
        "# Define algunas características iniciales"
      ]
    },
    {
      "cell_type": "code",
      "metadata": {
        "id": "gpNtUB-ZujD1",
        "colab_type": "code",
        "colab": {}
      },
      "source": [
        "vocab_size = 23121 # número de palabras que integrarán el vocabulario\n",
        "embedding_dim = 32 # dimensión del embeding de las palabras\n",
        "max_length = 111  # longitud máxima de una oración (sentence filtrada con stopwords)\n",
        "trunc_type='post' # donde truncar una oración (sentence, filtrada con stopwords)\n",
        "padding_type='post'# donde hacer el padding (agregar ceros) en una oración (sentence, filtrada con stopwords)\n",
        "oov_tok = \"<OOV>\"  # token para las palabras que queden fuera del vocabulario\n",
        "training_portion = .8  # porcentaje de datos para entrenamiento"
      ],
      "execution_count": 0,
      "outputs": []
    },
    {
      "cell_type": "code",
      "metadata": {
        "id": "bjMtHB6t1gpN",
        "colab_type": "code",
        "colab": {
          "base_uri": "https://localhost:8080/",
          "height": 70
        },
        "outputId": "3374430c-8e11-4195-fe52-bf5cb935a3ea"
      },
      "source": [
        "a = np.array([32]) # space\n",
        "c = np.array(range(97,123)) # minúsculas\n",
        "printab = np.hstack((a,c))\n",
        "printable = np.array([chr(i) for i in printab])   \n",
        "printable "
      ],
      "execution_count": 93,
      "outputs": [
        {
          "output_type": "execute_result",
          "data": {
            "text/plain": [
              "array([' ', 'a', 'b', 'c', 'd', 'e', 'f', 'g', 'h', 'i', 'j', 'k', 'l',\n",
              "       'm', 'n', 'o', 'p', 'q', 'r', 's', 't', 'u', 'v', 'w', 'x', 'y',\n",
              "       'z'], dtype='<U1')"
            ]
          },
          "metadata": {
            "tags": []
          },
          "execution_count": 93
        }
      ]
    },
    {
      "cell_type": "markdown",
      "metadata": {
        "id": "xzVnwbLIx-nA",
        "colab_type": "text"
      },
      "source": [
        "## Lectura de los datos"
      ]
    },
    {
      "cell_type": "code",
      "metadata": {
        "id": "_hJ2PlWEK7Zp",
        "colab_type": "code",
        "colab": {}
      },
      "source": [
        "complete_sentences = [] #\n",
        "complete_lines = [] \n",
        "sentences = []\n",
        "labels = [] # etiquetas preprocesadas\n",
        "stopwords = []"
      ],
      "execution_count": 0,
      "outputs": []
    },
    {
      "cell_type": "code",
      "metadata": {
        "colab_type": "code",
        "id": "eutB2xMiZD0e",
        "outputId": "fe22cdd1-e080-42e3-abbd-fa8403a0e199",
        "colab": {
          "base_uri": "https://localhost:8080/",
          "height": 87
        }
      },
      "source": [
        "import string\n",
        "import re #regular expresions\n",
        "# abre el archivo de datos y lo trata como un archivo csv\n",
        "file = open('DFSMS.csv', 'r')\n",
        "with file as csvfile:\n",
        "    reader = csv.reader(csvfile, delimiter=',')\n",
        "    next(reader)\n",
        "    for row in reader:\n",
        "        # preprocess label\n",
        "        #label_l = ' '.join(row[0].split()).lower().replace(' ','_') # lower case ans eliminate multiple spaces\n",
        "        label_l = re.sub(' +', ' ',row[0].lower()) # lower case ans eliminate multiple spaces\n",
        "        if (len(label_l)>2): # drop with empty label\n",
        "            label = ''.join(c for c in label_l if c in printable)# filter only printable characters\n",
        "            label = label.replace(' ','_')\n",
        "            labels.append(label)\n",
        "            # preprocess sentence\n",
        "            #sentence_l = ' '.join(row[1].split()).lower().replace(' ','_') # lower case ans eliminate multiple spaces\n",
        "            sentence_l = re.sub(' +', ' ',row[1].lower())\n",
        "            sentence = ''.join(c for c in sentence_l if c in printable)\n",
        "            complete_lines.append(row[0] + ': '+ row[1])\n",
        "            complete_sentences.append(sentence)\n",
        "            # preprocess stopwords\n",
        "            for word in stopwords:\n",
        "                token = \" \" + word + \" \"\n",
        "                sentence = sentence.replace(token, \" \")\n",
        "            sentences.append(sentence)\n",
        " \n",
        "\n",
        "# resumen de la lectura            \n",
        "print(len(labels))\n",
        "print(len(complete_sentences))\n",
        "print(len(complete_lines))\n",
        "print(len(sentences))"
      ],
      "execution_count": 95,
      "outputs": [
        {
          "output_type": "stream",
          "text": [
            "69171\n",
            "69171\n",
            "69171\n",
            "69171\n"
          ],
          "name": "stdout"
        }
      ]
    },
    {
      "cell_type": "code",
      "metadata": {
        "colab_type": "code",
        "id": "mHP5HqP4Yt5U",
        "outputId": "eb63af35-b8ca-48b0-f50c-4225dbc56403",
        "colab": {
          "base_uri": "https://localhost:8080/",
          "height": 301
        }
      },
      "source": [
        "# Primera linea\n",
        "print(labels[0]+'\\n')\n",
        "print(complete_sentences[0]+'\\n')\n",
        "print(complete_lines[0]+'\\n')\n",
        "print(sentences[0]+'\\n')\n",
        "# Tercer linea\n",
        "print(labels[2]+'\\n')\n",
        "print(complete_sentences[2]+'\\n')\n",
        "print(complete_lines[2]+'\\n')\n",
        "print(sentences[2]+'\\n')"
      ],
      "execution_count": 35,
      "outputs": [
        {
          "output_type": "stream",
          "text": [
            "lisa_simpson\n",
            "\n",
            "wheres mr bergstrom\n",
            "\n",
            "Lisa Simpson: Where's Mr. Bergstrom?\n",
            "\n",
            "wheres mr bergstrom\n",
            "\n",
            "bart_simpson\n",
            "\n",
            "victory party under the slide\n",
            "\n",
            "Bart Simpson: Victory party under the slide!\n",
            "\n",
            "victory party under the slide\n",
            "\n"
          ],
          "name": "stdout"
        }
      ]
    },
    {
      "cell_type": "code",
      "metadata": {
        "colab_type": "code",
        "id": "djFPe1k6pOp9",
        "outputId": "bff3ff32-3333-455c-cb3c-8533fc839438",
        "colab": {
          "base_uri": "https://localhost:8080/",
          "height": 281
        }
      },
      "source": [
        "# Gráfico de barras de numero de frases por personaje\n",
        "frec = pd.value_counts(labels)\n",
        "plot = frec.plot(kind='barh',title='Numero de frases por personaje',color=['deepskyblue','orangered','darkkhaki','gold'])"
      ],
      "execution_count": 36,
      "outputs": [
        {
          "output_type": "display_data",
          "data": {
            "image/png": "[encoded data removed]",
            "text/plain": [
              "<Figure size 432x288 with 1 Axes>"
            ]
          },
          "metadata": {
            "tags": [],
            "needs_background": "light"
          }
        }
      ]
    },
    {
      "cell_type": "markdown",
      "metadata": {
        "colab_type": "text",
        "id": "QH4k5vkXYt6B"
      },
      "source": [
        "# Separa datos de entrenamiento y validación "
      ]
    },
    {
      "cell_type": "code",
      "metadata": {
        "id": "8ttL-pu1yqzz",
        "colab_type": "code",
        "outputId": "dcdd59e3-ff1c-4018-88c9-3a902ffdd6aa",
        "colab": {
          "base_uri": "https://localhost:8080/",
          "height": 34
        }
      },
      "source": [
        "train_size = int(len(sentences) * training_portion)\n",
        "train_size # 80%"
      ],
      "execution_count": 37,
      "outputs": [
        {
          "output_type": "execute_result",
          "data": {
            "text/plain": [
              "55336"
            ]
          },
          "metadata": {
            "tags": []
          },
          "execution_count": 37
        }
      ]
    },
    {
      "cell_type": "markdown",
      "metadata": {
        "id": "pgr6FmIJzY42",
        "colab_type": "text"
      },
      "source": [
        "#### Grupo de entrenamiento"
      ]
    },
    {
      "cell_type": "code",
      "metadata": {
        "id": "y5VJtOX_zE9z",
        "colab_type": "code",
        "outputId": "b1c5f3ba-a77a-42e4-b421-a15393477f1b",
        "colab": {
          "base_uri": "https://localhost:8080/",
          "height": 87
        }
      },
      "source": [
        "train_sentences = sentences[:train_size] # Frases de entrenamiento \n",
        "train_labels = labels # Etiquetas de entrenamiento\n",
        "print(len(train_sentences)) # Tamaño de frases de entrenamiento\n",
        "print(len(train_labels)) # Tamaño de etiquetas de entrenamiento\n",
        "print(train_sentences[:3]) \n",
        "print(train_labels[:3])"
      ],
      "execution_count": 38,
      "outputs": [
        {
          "output_type": "stream",
          "text": [
            "55336\n",
            "69171\n",
            "['wheres mr bergstrom', 'that life is worth living', 'victory party under the slide']\n",
            "['lisa_simpson', 'lisa_simpson', 'bart_simpson']\n"
          ],
          "name": "stdout"
        }
      ]
    },
    {
      "cell_type": "markdown",
      "metadata": {
        "id": "8SuVgyhrzowg",
        "colab_type": "text"
      },
      "source": [
        "#### Grupo de validación"
      ]
    },
    {
      "cell_type": "code",
      "metadata": {
        "id": "jyKUxrO4zK5O",
        "colab_type": "code",
        "outputId": "a585e95a-68c0-4bac-a668-135f7b7df34b",
        "colab": {
          "base_uri": "https://localhost:8080/",
          "height": 87
        }
      },
      "source": [
        "validation_sentences = sentences[train_size:] # Frases de validacion\n",
        "validation_labels = labels[train_size:] # Frases de validacion\n",
        "print(len(validation_sentences)) # Tamaño de frases de validacion\n",
        "print(len(validation_labels)) # Tamaño de etiquetas de validacion\n",
        "print(validation_sentences[:3]) \n",
        "print(validation_labels[:3])"
      ],
      "execution_count": 39,
      "outputs": [
        {
          "output_type": "stream",
          "text": [
            "13835\n",
            "13835\n",
            "['', 'someone snitched whawhawhawhawhat are you gonna do to me', 'up or down']\n",
            "['homer_simpson', 'homer_simpson', 'homer_simpson']\n"
          ],
          "name": "stdout"
        }
      ]
    },
    {
      "cell_type": "markdown",
      "metadata": {
        "colab_type": "text",
        "id": "N_E4h9j8Mh90"
      },
      "source": [
        "# Grafica de frecuencia de n-gramas"
      ]
    },
    {
      "cell_type": "code",
      "metadata": {
        "id": "y4UOhrSPJfe7",
        "colab_type": "code",
        "colab": {
          "base_uri": "https://localhost:8080/",
          "height": 194
        },
        "outputId": "c60491e5-a9ee-45c0-fd28-9304e99fe318"
      },
      "source": [
        "#Juntamos todo el texto en una sola linea\n",
        "wordtk = ' '.join(train_sentences)\n",
        "\n",
        "#Para dividir las frases\n",
        "tokenstk = regexp_tokenize(wordtk, pattern=\"\\w+\")\n",
        "tokenstk[:10]"
      ],
      "execution_count": 87,
      "outputs": [
        {
          "output_type": "execute_result",
          "data": {
            "text/plain": [
              "['wheres',\n",
              " 'mr',\n",
              " 'bergstrom',\n",
              " 'that',\n",
              " 'life',\n",
              " 'is',\n",
              " 'worth',\n",
              " 'living',\n",
              " 'victory',\n",
              " 'party']"
            ]
          },
          "metadata": {
            "tags": []
          },
          "execution_count": 87
        }
      ]
    },
    {
      "cell_type": "code",
      "metadata": {
        "id": "PXSnjnMGJmT9",
        "colab_type": "code",
        "colab": {
          "base_uri": "https://localhost:8080/",
          "height": 105
        },
        "outputId": "a247ea44-f6de-4cc6-9035-17d2e654e28f"
      },
      "source": [
        "from nltk.util import ngrams\n",
        "trigrama = ngrams(tokenstk,3)\n",
        "trigrama = [' '.join(grams) for grams in trigrama]\n",
        "trigrama[:5]"
      ],
      "execution_count": 88,
      "outputs": [
        {
          "output_type": "execute_result",
          "data": {
            "text/plain": [
              "['wheres mr bergstrom',\n",
              " 'mr bergstrom that',\n",
              " 'bergstrom that life',\n",
              " 'that life is',\n",
              " 'life is worth']"
            ]
          },
          "metadata": {
            "tags": []
          },
          "execution_count": 88
        }
      ]
    },
    {
      "cell_type": "code",
      "metadata": {
        "colab_type": "code",
        "id": "LeHOcU_QpIDx",
        "outputId": "835ccbb6-7334-428c-c0e1-d44fa50f044d",
        "colab": {
          "base_uri": "https://localhost:8080/",
          "height": 354
        }
      },
      "source": [
        "#Gráfica con los trigramas\n",
        "\n",
        "freq = nltk.FreqDist(trigrama) #Frecuencia de los tokens\n",
        "freqnew = [] #Filtramos tokens que se repiten mas de una vez\n",
        "for key,val in freq.items():\n",
        "  if (val>1):\n",
        "    freqnew.append(str(key))\n",
        "freq.plot(20, cumulative=False, title = \"Trigrama\")"
      ],
      "execution_count": 91,
      "outputs": [
        {
          "output_type": "display_data",
          "data": {
            "image/png": "[encoded data removed]",
            "text/plain": [
              "<Figure size 432x288 with 1 Axes>"
            ]
          },
          "metadata": {
            "tags": [],
            "needs_background": "light"
          }
        }
      ]
    },
    {
      "cell_type": "markdown",
      "metadata": {
        "id": "M7jA-qXh2a9R",
        "colab_type": "text"
      },
      "source": [
        "# Tokenizer/n-gramas"
      ]
    },
    {
      "cell_type": "markdown",
      "metadata": {
        "id": "dG7WKhSx5eMA",
        "colab_type": "text"
      },
      "source": [
        "Tokenizer permite vectorizar un corpus de texto, convirtiendo cada texto en una secuencia de enteros (cada entero es el índice de un token en un diccionario)"
      ]
    },
    {
      "cell_type": "code",
      "metadata": {
        "id": "43rrGsgF55VE",
        "colab_type": "code",
        "colab": {
          "base_uri": "https://localhost:8080/",
          "height": 70
        },
        "outputId": "7471f595-625c-407c-b791-027f612dd962"
      },
      "source": [
        "tokenizer=Tokenizer()\n",
        "tokenizer.fit_on_texts(train_sentences)\n",
        "total_words = len(tokenizer.word_index)+1\n",
        "# print('Dictionary:',tokenizer.word_index,'\\n')\n",
        "print(total_words)\n",
        "print('Total Words in the Tokenizer (+OOV) =',total_words,'\\n')"
      ],
      "execution_count": 42,
      "outputs": [
        {
          "output_type": "stream",
          "text": [
            "23121\n",
            "Total Words in the Tokenizer (+OOV) = 23121 \n",
            "\n"
          ],
          "name": "stdout"
        }
      ]
    },
    {
      "cell_type": "code",
      "metadata": {
        "id": "wpAKVIMW6R9J",
        "colab_type": "code",
        "colab": {
          "base_uri": "https://localhost:8080/",
          "height": 230
        },
        "outputId": "2ffc835a-6e90-4231-ec8a-632cb1c2af9e"
      },
      "source": [
        "print('train_sentences: \\n')\n",
        "train_sentences[0:10]"
      ],
      "execution_count": 45,
      "outputs": [
        {
          "output_type": "stream",
          "text": [
            "train_sentences: \n",
            "\n"
          ],
          "name": "stdout"
        },
        {
          "output_type": "execute_result",
          "data": {
            "text/plain": [
              "['wheres mr bergstrom',\n",
              " 'that life is worth living',\n",
              " 'victory party under the slide',\n",
              " 'mr bergstrom mr bergstrom',\n",
              " 'do you know where i could find him',\n",
              " 'the train how like him traditional yet environmentally sound',\n",
              " 'i see he touched you too',\n",
              " 'hey thanks for your vote man',\n",
              " 'well you got that right thanks for your vote girls',\n",
              " 'well dont sweat it just so long as a couple of people did right milhouse']"
            ]
          },
          "metadata": {
            "tags": []
          },
          "execution_count": 45
        }
      ]
    },
    {
      "cell_type": "code",
      "metadata": {
        "id": "agN8Nuru6aXJ",
        "colab_type": "code",
        "colab": {
          "base_uri": "https://localhost:8080/",
          "height": 105
        },
        "outputId": "333fa5ee-c4cd-44d4-c50b-6b6182a6e695"
      },
      "source": [
        "print(tokenizer.word_index['where'])\n",
        "print(tokenizer.word_index['living'])\n",
        "print(tokenizer.word_index['girls'])\n",
        "print(tokenizer.word_index['people'])\n",
        "print(tokenizer.word_index['thanks'])"
      ],
      "execution_count": 46,
      "outputs": [
        {
          "output_type": "stream",
          "text": [
            "122\n",
            "581\n",
            "517\n",
            "130\n",
            "204\n"
          ],
          "name": "stdout"
        }
      ]
    },
    {
      "cell_type": "code",
      "metadata": {
        "id": "hH-UU5h56nqe",
        "colab_type": "code",
        "colab": {
          "base_uri": "https://localhost:8080/",
          "height": 372
        },
        "outputId": "92e8a8c5-6edc-4095-bceb-b3cfa42a2763"
      },
      "source": [
        "# El corpus se toma del train_sentence \n",
        "\n",
        "test_seq = []\n",
        "\n",
        "# Primera línea en el corpus \n",
        "print('First Line = ',train_sentences[3],'\\n')\n",
        "\n",
        "# Transforma la primera línea del train_sentences en secuencias deacuerdo con el diccionario\n",
        "\n",
        "token_test=tokenizer.texts_to_sequences([train_sentences[3]])[0]\n",
        "print('First Line into Sequence =',token_test,'\\n')\n",
        "\n",
        "# Crea fragmentos de la línea y crea los datos por piezas ordenadas\n",
        "for j in range(1, len(token_test)):\n",
        "  # Iterador sobre los elementos de la línea.\n",
        "  n_gram_test=token_test[:j+1]\n",
        "  print('n-gram =',n_gram_test)\n",
        "  # Añade todos los resultados secuenciales\n",
        "  test_seq.append(n_gram_test)\n",
        "  print('sequence = ',test_seq,'\\n')\n",
        "\n",
        "# Determina el n-grama más extenso\n",
        "max_seq_test_len = max([len(x) for x in test_seq])\n",
        "# Relleno\n",
        "test_seq = np.array(pad_sequences(test_seq, maxlen=max_seq_test_len, padding='pre'))\n",
        "print(\"Final n-gram Data:\\n\\n\",  test_seq,'\\n')\n",
        "print('Shape of Data: ',np.shape(test_seq))"
      ],
      "execution_count": 61,
      "outputs": [
        {
          "output_type": "stream",
          "text": [
            "First Line =  mr bergstrom mr bergstrom \n",
            "\n",
            "First Line into Sequence = [143, 3442, 143, 3442] \n",
            "\n",
            "n-gram = [143, 3442]\n",
            "sequence =  [[143, 3442]] \n",
            "\n",
            "n-gram = [143, 3442, 143]\n",
            "sequence =  [[143, 3442], [143, 3442, 143]] \n",
            "\n",
            "n-gram = [143, 3442, 143, 3442]\n",
            "sequence =  [[143, 3442], [143, 3442, 143], [143, 3442, 143, 3442]] \n",
            "\n",
            "Final n-gram Data:\n",
            "\n",
            " [[   0    0  143 3442]\n",
            " [   0  143 3442  143]\n",
            " [ 143 3442  143 3442]] \n",
            "\n",
            "Shape of Data:  (3, 4)\n"
          ],
          "name": "stdout"
        }
      ]
    },
    {
      "cell_type": "markdown",
      "metadata": {
        "id": "b7Un8Lnw2th5",
        "colab_type": "text"
      },
      "source": [
        "### Grupo de  Entrenamiento"
      ]
    },
    {
      "cell_type": "code",
      "metadata": {
        "id": "eQt5Myfk1nfA",
        "colab_type": "code",
        "colab": {}
      },
      "source": [
        "# Crear la secuencia de texto para crear datos de entrenamiento\n",
        "\n",
        "input_sequences_train = []\n",
        "train_labels_ng =[]\n",
        "for (line,j) in zip(train_sentences,range(1, len(train_sentences))):\n",
        "  lab = train_labels[j]\n",
        "  token_list = tokenizer.texts_to_sequences([line])[0]\n",
        "  for i in range(1, len(token_list)):\n",
        "    n_gram_sequence = token_list[:i+1]\n",
        "    input_sequences_train.append(n_gram_sequence)\n",
        "    train_labels_ng.append(lab)"
      ],
      "execution_count": 0,
      "outputs": []
    },
    {
      "cell_type": "code",
      "metadata": {
        "id": "NgDUOoaeAPXX",
        "colab_type": "code",
        "colab": {
          "base_uri": "https://localhost:8080/",
          "height": 52
        },
        "outputId": "d37816d1-c086-4531-9f6b-684a7ef916dc"
      },
      "source": [
        "print(len(input_sequences_train))\n",
        "print(len(train_labels_ng))"
      ],
      "execution_count": 177,
      "outputs": [
        {
          "output_type": "stream",
          "text": [
            "425898\n",
            "425898\n"
          ],
          "name": "stdout"
        }
      ]
    },
    {
      "cell_type": "code",
      "metadata": {
        "id": "CR91V4VcBx8j",
        "colab_type": "code",
        "colab": {
          "base_uri": "https://localhost:8080/",
          "height": 34
        },
        "outputId": "2d477f5f-7dca-4a21-98f4-b957385ac57d"
      },
      "source": [
        "# Relleno\n",
        "\n",
        "max_sequence_len_tran = max([len(x) for x in input_sequences_train])\n",
        "input_sequences_train = np.array(pad_sequences(input_sequences_train, maxlen=max_sequence_len_tran, padding='pre'))\n",
        "\n",
        "# Cree predictores y etiquetas (las etiquetas son la palabra final de cada secuencia. Ex: Datos: wheres mr bergstrom, Personaje: )\n",
        "\n",
        "train_sentences_ngrams = input_sequences_train\n",
        "print(len(train_sentences_ngrams))"
      ],
      "execution_count": 97,
      "outputs": [
        {
          "output_type": "stream",
          "text": [
            "425898\n"
          ],
          "name": "stdout"
        }
      ]
    },
    {
      "cell_type": "code",
      "metadata": {
        "id": "hHZdvPIHZ-p9",
        "colab_type": "code",
        "colab": {
          "base_uri": "https://localhost:8080/",
          "height": 34
        },
        "outputId": "86239d9a-f119-48a2-83a5-8465aa83d9e9"
      },
      "source": [
        "np.shape(train_sentences_ngrams)"
      ],
      "execution_count": 179,
      "outputs": [
        {
          "output_type": "execute_result",
          "data": {
            "text/plain": [
              "(425898, 111)"
            ]
          },
          "metadata": {
            "tags": []
          },
          "execution_count": 179
        }
      ]
    },
    {
      "cell_type": "code",
      "metadata": {
        "id": "fJgRbKE1OIkU",
        "colab_type": "code",
        "colab": {
          "base_uri": "https://localhost:8080/",
          "height": 34
        },
        "outputId": "c869e5d9-4bf7-4f14-d300-35bc82be2d71"
      },
      "source": [
        "label_size = 4\n",
        "label_tokenizer = Tokenizer(num_words = label_size,oov_token=oov_tok, filters = '')\n",
        "label_tokenizer.fit_on_texts(train_labels_ng)\n",
        "label_seq = np.array(label_tokenizer.texts_to_sequences(train_labels_ng))\n",
        "training_label_seq = np.array(label_tokenizer.texts_to_sequences(train_labels_ng))\n",
        "\n",
        "# flatten the nested list and tranaform to an np array\n",
        "label_seq = np.array([item for items in label_seq for item in items])\n",
        "training_label_seq = np.array([item for items in training_label_seq for item in items])\n",
        "training_label_seq\n",
        "print(len(training_label_seq))"
      ],
      "execution_count": 105,
      "outputs": [
        {
          "output_type": "stream",
          "text": [
            "425898\n"
          ],
          "name": "stdout"
        }
      ]
    },
    {
      "cell_type": "code",
      "metadata": {
        "id": "TXj17DMDOf_8",
        "colab_type": "code",
        "colab": {}
      },
      "source": [
        "#preprocessing.LabelEncoder()\n",
        "encoder = LabelEncoder()\n",
        "\n",
        "encoder.fit(label_seq)\n",
        "train_labels_ngrams = encoder.transform(training_label_seq)\n",
        "num_classes = 4"
      ],
      "execution_count": 0,
      "outputs": []
    },
    {
      "cell_type": "code",
      "metadata": {
        "id": "ynKVnhnOPAkH",
        "colab_type": "code",
        "colab": {}
      },
      "source": [
        "# Codificación One-Hot \n",
        "train_labels_ngrams_codf = tf.keras.utils.to_categorical(train_labels_ngrams, num_classes)"
      ],
      "execution_count": 0,
      "outputs": []
    },
    {
      "cell_type": "code",
      "metadata": {
        "id": "2oW3nKglPRZ8",
        "colab_type": "code",
        "colab": {
          "base_uri": "https://localhost:8080/",
          "height": 141
        },
        "outputId": "45305f9b-253b-4663-a752-8e2e2fd1d8e1"
      },
      "source": [
        "print(input_sequences_train)"
      ],
      "execution_count": 150,
      "outputs": [
        {
          "output_type": "stream",
          "text": [
            "[[   0    0    0 ...    0  369  143]\n",
            " [   0    0    0 ...  369  143 3442]\n",
            " [   0    0    0 ...    0    9  155]\n",
            " ...\n",
            " [   0    0    0 ...    2    4 3730]\n",
            " [   0    0    0 ...    4 3730   26]\n",
            " [   0    0    0 ... 3730   26  415]]\n"
          ],
          "name": "stdout"
        }
      ]
    },
    {
      "cell_type": "code",
      "metadata": {
        "id": "0I_CfBQOS2Sm",
        "colab_type": "code",
        "colab": {
          "base_uri": "https://localhost:8080/",
          "height": 34
        },
        "outputId": "26b50ebc-ebf0-4d83-ea12-539b2ace225b"
      },
      "source": [
        "len(train_labels_ngrams_codf)"
      ],
      "execution_count": 151,
      "outputs": [
        {
          "output_type": "execute_result",
          "data": {
            "text/plain": [
              "425898"
            ]
          },
          "metadata": {
            "tags": []
          },
          "execution_count": 151
        }
      ]
    },
    {
      "cell_type": "markdown",
      "metadata": {
        "id": "Ps043ZX65kXS",
        "colab_type": "text"
      },
      "source": [
        "#### Grupo de Validacion "
      ]
    },
    {
      "cell_type": "code",
      "metadata": {
        "id": "IFQbBQfkAJyr",
        "colab_type": "code",
        "colab": {}
      },
      "source": [
        "# Crear la secuencia de texto para crear datos de validacion\n",
        "\n",
        "input_sequences_vt = []\n",
        "validation_labels_ng =[]\n",
        "for (line,j) in zip(validation_labels,range(1, len(validation_sentences))):\n",
        "  lab = validation_labels[j]\n",
        "  token_list = tokenizer.texts_to_sequences([line])[0]\n",
        "  for i in range(1, len(token_list)):\n",
        "    n_gram_sequence = token_list[:i+1]\n",
        "    input_sequences_vt.append(n_gram_sequence)\n",
        "    validation_labels_ng.append(lab)"
      ],
      "execution_count": 0,
      "outputs": []
    },
    {
      "cell_type": "code",
      "metadata": {
        "id": "Z-K170peBnri",
        "colab_type": "code",
        "colab": {
          "base_uri": "https://localhost:8080/",
          "height": 52
        },
        "outputId": "e0b1febc-80ea-49bf-fdeb-19a5383915fb"
      },
      "source": [
        "print(len(input_sequences_vt))\n",
        "print(len(validation_labels_ng))"
      ],
      "execution_count": 248,
      "outputs": [
        {
          "output_type": "stream",
          "text": [
            "13834\n",
            "13834\n"
          ],
          "name": "stdout"
        }
      ]
    },
    {
      "cell_type": "code",
      "metadata": {
        "id": "aFch__feMD5V",
        "colab_type": "code",
        "colab": {
          "base_uri": "https://localhost:8080/",
          "height": 34
        },
        "outputId": "daeb7999-b461-4a1a-bd43-28d4e7d4da4e"
      },
      "source": [
        "# Relleno\n",
        "\n",
        "max_sequence_len_vt = max([len(x) for x in input_sequences_vt])\n",
        "input_sequences_vt = np.array(pad_sequences(input_sequences_vt, maxlen=max_sequence_len_vt, padding='pre'))\n",
        "\n",
        "# Cree predictores y etiquetas (las etiquetas son la palabra final de cada secuencia. Ex: Datos: wheres mr bergstrom, Personaje: )\n",
        "\n",
        "validation_sentences_ngrams = input_sequences_vt\n",
        " \n",
        "print(len(validation_sentences_ngrams))"
      ],
      "execution_count": 249,
      "outputs": [
        {
          "output_type": "stream",
          "text": [
            "13834\n"
          ],
          "name": "stdout"
        }
      ]
    },
    {
      "cell_type": "code",
      "metadata": {
        "id": "MzZhUo3WYySZ",
        "colab_type": "code",
        "colab": {
          "base_uri": "https://localhost:8080/",
          "height": 34
        },
        "outputId": "b9d67749-cc17-4f44-edc4-4bd93226e3e3"
      },
      "source": [
        "np.shape(validation_sentences_ngrams)"
      ],
      "execution_count": 250,
      "outputs": [
        {
          "output_type": "execute_result",
          "data": {
            "text/plain": [
              "(13834, 2)"
            ]
          },
          "metadata": {
            "tags": []
          },
          "execution_count": 250
        }
      ]
    },
    {
      "cell_type": "code",
      "metadata": {
        "id": "W-1pVv6SMqUk",
        "colab_type": "code",
        "colab": {
          "base_uri": "https://localhost:8080/",
          "height": 34
        },
        "outputId": "2cbd416c-61b6-4942-c41b-a2cc2315b5eb"
      },
      "source": [
        "label_size = 4\n",
        "label_tokenizer = Tokenizer(num_words = label_size,oov_token=oov_tok, filters = '')\n",
        "label_tokenizer.fit_on_texts(validation_labels_ng)\n",
        "label_seq = np.array(label_tokenizer.texts_to_sequences(validation_labels_ng))\n",
        "validation_label_seq = np.array(label_tokenizer.texts_to_sequences(validation_labels_ng))\n",
        "\n",
        "# flatten the nested list and tranaform to an np array\n",
        "label_seq = np.array([item for items in label_seq for item in items])\n",
        "validation_label_seq = np.array([item for items in validation_label_seq for item in items])\n",
        "validation_label_seq\n",
        "print(len(validation_label_seq))"
      ],
      "execution_count": 251,
      "outputs": [
        {
          "output_type": "stream",
          "text": [
            "13834\n"
          ],
          "name": "stdout"
        }
      ]
    },
    {
      "cell_type": "code",
      "metadata": {
        "id": "__aVt_doQ7AV",
        "colab_type": "code",
        "colab": {}
      },
      "source": [
        "#preprocessing.LabelEncoder()\n",
        "encoder = LabelEncoder()\n",
        "\n",
        "encoder.fit(label_seq)\n",
        "validation_labels_ngrams = encoder.transform(validation_label_seq)\n",
        "num_classes = 4"
      ],
      "execution_count": 0,
      "outputs": []
    },
    {
      "cell_type": "code",
      "metadata": {
        "id": "Ff6QM8gqSIA4",
        "colab_type": "code",
        "colab": {}
      },
      "source": [
        "# Codificación One-Hot \n",
        "validation_labels_ngrams_codf = tf.keras.utils.to_categorical(validation_labels_ngrams, num_classes)"
      ],
      "execution_count": 0,
      "outputs": []
    },
    {
      "cell_type": "code",
      "metadata": {
        "id": "4FPVF5kASg3h",
        "colab_type": "code",
        "colab": {
          "base_uri": "https://localhost:8080/",
          "height": 141
        },
        "outputId": "ca022360-794b-4af2-c437-cc19e4938050"
      },
      "source": [
        "print(input_sequences_vt)"
      ],
      "execution_count": 254,
      "outputs": [
        {
          "output_type": "stream",
          "text": [
            "[[ 58 194]\n",
            " [ 58 194]\n",
            " [ 58 194]\n",
            " ...\n",
            " [ 81 194]\n",
            " [ 56 194]\n",
            " [ 81 194]]\n"
          ],
          "name": "stdout"
        }
      ]
    },
    {
      "cell_type": "code",
      "metadata": {
        "id": "e75A24MySnRs",
        "colab_type": "code",
        "colab": {
          "base_uri": "https://localhost:8080/",
          "height": 34
        },
        "outputId": "52105ed4-2914-4d3d-c5cb-5f823a708210"
      },
      "source": [
        "len(validation_labels_ngrams_codf)"
      ],
      "execution_count": 255,
      "outputs": [
        {
          "output_type": "execute_result",
          "data": {
            "text/plain": [
              "13834"
            ]
          },
          "metadata": {
            "tags": []
          },
          "execution_count": 255
        }
      ]
    },
    {
      "cell_type": "markdown",
      "metadata": {
        "id": "Q3FKjA0CTfPV",
        "colab_type": "text"
      },
      "source": [
        "# Construccion del Modelo"
      ]
    },
    {
      "cell_type": "code",
      "metadata": {
        "id": "CS0SdbzgTh_8",
        "colab_type": "code",
        "colab": {
          "base_uri": "https://localhost:8080/",
          "height": 87
        },
        "outputId": "65143680-7cf0-4a7c-af5b-65eacebe9ba2"
      },
      "source": [
        "print(len(train_labels_ngrams_codf))\n",
        "print(len(train_sentences_ngrams))\n",
        "print(len(validation_labels_ngrams_codf))\n",
        "print(len(validation_sentences_ngrams))"
      ],
      "execution_count": 256,
      "outputs": [
        {
          "output_type": "stream",
          "text": [
            "425898\n",
            "425898\n",
            "13834\n",
            "13834\n"
          ],
          "name": "stdout"
        }
      ]
    },
    {
      "cell_type": "code",
      "metadata": {
        "id": "Zf_uFWIKT-pn",
        "colab_type": "code",
        "colab": {
          "base_uri": "https://localhost:8080/",
          "height": 301
        },
        "outputId": "945a53c7-6edf-4d15-c9c1-775111e0f1c8"
      },
      "source": [
        "model = tf.keras.Sequential([\n",
        "    tf.keras.layers.Embedding(vocab_size, embedding_dim, input_length=max_length),\n",
        "    tf.keras.layers.GlobalAveragePooling1D(),\n",
        "    tf.keras.layers.Dense(111, activation='relu'),\n",
        "    tf.keras.layers.Dense(4, activation='softmax')\n",
        "])\n",
        "model.compile(loss='categorical_crossentropy',optimizer='adam',metrics=['accuracy'])\n",
        "model.summary()"
      ],
      "execution_count": 268,
      "outputs": [
        {
          "output_type": "stream",
          "text": [
            "Model: \"sequential_27\"\n",
            "_________________________________________________________________\n",
            "Layer (type)                 Output Shape              Param #   \n",
            "=================================================================\n",
            "embedding_30 (Embedding)     (None, 111, 32)           739872    \n",
            "_________________________________________________________________\n",
            "global_average_pooling1d_6 ( (None, 32)                0         \n",
            "_________________________________________________________________\n",
            "dense_56 (Dense)             (None, 111)               3663      \n",
            "_________________________________________________________________\n",
            "dense_57 (Dense)             (None, 4)                 448       \n",
            "=================================================================\n",
            "Total params: 743,983\n",
            "Trainable params: 743,983\n",
            "Non-trainable params: 0\n",
            "_________________________________________________________________\n"
          ],
          "name": "stdout"
        }
      ]
    },
    {
      "cell_type": "markdown",
      "metadata": {
        "id": "MOU3hgTnUjqg",
        "colab_type": "text"
      },
      "source": [
        "# Entrenamiento del modelo"
      ]
    },
    {
      "cell_type": "code",
      "metadata": {
        "id": "NNugayIpUhLE",
        "colab_type": "code",
        "colab": {
          "base_uri": "https://localhost:8080/",
          "height": 514
        },
        "outputId": "ea344d81-6ed0-4676-e9f8-4713aa554cb8"
      },
      "source": [
        "num_epochs = 40\n",
        "history = model.fit(train_sentences_ngrams, train_labels_ngrams_codf, epochs=num_epochs, validation_data=(validation_sentences_ngrams,validation_labels_ngrams_codf), verbose=True)"
      ],
      "execution_count": 269,
      "outputs": [
        {
          "output_type": "stream",
          "text": [
            "Epoch 1/40\n",
            "13306/13310 [============================>.] - ETA: 0s - loss: 0.9234 - accuracy: 0.5461WARNING:tensorflow:Model was constructed with shape (None, 111) for input Tensor(\"embedding_30_input:0\", shape=(None, 111), dtype=float32), but it was called on an input with incompatible shape (None, 2).\n",
            "13310/13310 [==============================] - 94s 7ms/step - loss: 0.9234 - accuracy: 0.5461 - val_loss: 25.8367 - val_accuracy: 0.4799\n",
            "Epoch 2/40\n",
            "13310/13310 [==============================] - 94s 7ms/step - loss: 0.7688 - accuracy: 0.6379 - val_loss: 32.5081 - val_accuracy: 0.4799\n",
            "Epoch 3/40\n",
            "13310/13310 [==============================] - 98s 7ms/step - loss: 0.7243 - accuracy: 0.6562 - val_loss: 47.9211 - val_accuracy: 0.4799\n",
            "Epoch 4/40\n",
            "  512/13310 [>.............................] - ETA: 1:30 - loss: 0.7074 - accuracy: 0.6656"
          ],
          "name": "stdout"
        },
        {
          "output_type": "error",
          "ename": "KeyboardInterrupt",
          "evalue": "ignored",
          "traceback": [
            "\u001b[0;31m---------------------------------------------------------------------------\u001b[0m",
            "\u001b[0;31mKeyboardInterrupt\u001b[0m                         Traceback (most recent call last)",
            "\u001b[0;32m<ipython-input-269-24459600681d>\u001b[0m in \u001b[0;36m<module>\u001b[0;34m()\u001b[0m\n\u001b[1;32m      1\u001b[0m \u001b[0mnum_epochs\u001b[0m \u001b[0;34m=\u001b[0m \u001b[0;36m40\u001b[0m\u001b[0;34m\u001b[0m\u001b[0;34m\u001b[0m\u001b[0m\n\u001b[0;32m----> 2\u001b[0;31m \u001b[0mhistory\u001b[0m \u001b[0;34m=\u001b[0m \u001b[0mmodel\u001b[0m\u001b[0;34m.\u001b[0m\u001b[0mfit\u001b[0m\u001b[0;34m(\u001b[0m\u001b[0mtrain_sentences_ngrams\u001b[0m\u001b[0;34m,\u001b[0m \u001b[0mtrain_labels_ngrams_codf\u001b[0m\u001b[0;34m,\u001b[0m \u001b[0mepochs\u001b[0m\u001b[0;34m=\u001b[0m\u001b[0mnum_epochs\u001b[0m\u001b[0;34m,\u001b[0m \u001b[0mvalidation_data\u001b[0m\u001b[0;34m=\u001b[0m\u001b[0;34m(\u001b[0m\u001b[0mvalidation_sentences_ngrams\u001b[0m\u001b[0;34m,\u001b[0m\u001b[0mvalidation_labels_ngrams_codf\u001b[0m\u001b[0;34m)\u001b[0m\u001b[0;34m,\u001b[0m \u001b[0mverbose\u001b[0m\u001b[0;34m=\u001b[0m\u001b[0;32mTrue\u001b[0m\u001b[0;34m)\u001b[0m\u001b[0;34m\u001b[0m\u001b[0;34m\u001b[0m\u001b[0m\n\u001b[0m",
            "\u001b[0;32m/usr/local/lib/python3.6/dist-packages/tensorflow/python/keras/engine/training.py\u001b[0m in \u001b[0;36m_method_wrapper\u001b[0;34m(self, *args, **kwargs)\u001b[0m\n\u001b[1;32m     64\u001b[0m   \u001b[0;32mdef\u001b[0m \u001b[0m_method_wrapper\u001b[0m\u001b[0;34m(\u001b[0m\u001b[0mself\u001b[0m\u001b[0;34m,\u001b[0m \u001b[0;34m*\u001b[0m\u001b[0margs\u001b[0m\u001b[0;34m,\u001b[0m \u001b[0;34m**\u001b[0m\u001b[0mkwargs\u001b[0m\u001b[0;34m)\u001b[0m\u001b[0;34m:\u001b[0m\u001b[0;34m\u001b[0m\u001b[0;34m\u001b[0m\u001b[0m\n\u001b[1;32m     65\u001b[0m     \u001b[0;32mif\u001b[0m \u001b[0;32mnot\u001b[0m \u001b[0mself\u001b[0m\u001b[0;34m.\u001b[0m\u001b[0m_in_multi_worker_mode\u001b[0m\u001b[0;34m(\u001b[0m\u001b[0;34m)\u001b[0m\u001b[0;34m:\u001b[0m  \u001b[0;31m# pylint: disable=protected-access\u001b[0m\u001b[0;34m\u001b[0m\u001b[0;34m\u001b[0m\u001b[0m\n\u001b[0;32m---> 66\u001b[0;31m       \u001b[0;32mreturn\u001b[0m \u001b[0mmethod\u001b[0m\u001b[0;34m(\u001b[0m\u001b[0mself\u001b[0m\u001b[0;34m,\u001b[0m \u001b[0;34m*\u001b[0m\u001b[0margs\u001b[0m\u001b[0;34m,\u001b[0m \u001b[0;34m**\u001b[0m\u001b[0mkwargs\u001b[0m\u001b[0;34m)\u001b[0m\u001b[0;34m\u001b[0m\u001b[0;34m\u001b[0m\u001b[0m\n\u001b[0m\u001b[1;32m     67\u001b[0m \u001b[0;34m\u001b[0m\u001b[0m\n\u001b[1;32m     68\u001b[0m     \u001b[0;31m# Running inside `run_distribute_coordinator` already.\u001b[0m\u001b[0;34m\u001b[0m\u001b[0;34m\u001b[0m\u001b[0;34m\u001b[0m\u001b[0m\n",
            "\u001b[0;32m/usr/local/lib/python3.6/dist-packages/tensorflow/python/keras/engine/training.py\u001b[0m in \u001b[0;36mfit\u001b[0;34m(self, x, y, batch_size, epochs, verbose, callbacks, validation_split, validation_data, shuffle, class_weight, sample_weight, initial_epoch, steps_per_epoch, validation_steps, validation_batch_size, validation_freq, max_queue_size, workers, use_multiprocessing)\u001b[0m\n\u001b[1;32m    846\u001b[0m                 batch_size=batch_size):\n\u001b[1;32m    847\u001b[0m               \u001b[0mcallbacks\u001b[0m\u001b[0;34m.\u001b[0m\u001b[0mon_train_batch_begin\u001b[0m\u001b[0;34m(\u001b[0m\u001b[0mstep\u001b[0m\u001b[0;34m)\u001b[0m\u001b[0;34m\u001b[0m\u001b[0;34m\u001b[0m\u001b[0m\n\u001b[0;32m--> 848\u001b[0;31m               \u001b[0mtmp_logs\u001b[0m \u001b[0;34m=\u001b[0m \u001b[0mtrain_function\u001b[0m\u001b[0;34m(\u001b[0m\u001b[0miterator\u001b[0m\u001b[0;34m)\u001b[0m\u001b[0;34m\u001b[0m\u001b[0;34m\u001b[0m\u001b[0m\n\u001b[0m\u001b[1;32m    849\u001b[0m               \u001b[0;31m# Catch OutOfRangeError for Datasets of unknown size.\u001b[0m\u001b[0;34m\u001b[0m\u001b[0;34m\u001b[0m\u001b[0;34m\u001b[0m\u001b[0m\n\u001b[1;32m    850\u001b[0m               \u001b[0;31m# This blocks until the batch has finished executing.\u001b[0m\u001b[0;34m\u001b[0m\u001b[0;34m\u001b[0m\u001b[0;34m\u001b[0m\u001b[0m\n",
            "\u001b[0;32m/usr/local/lib/python3.6/dist-packages/tensorflow/python/eager/def_function.py\u001b[0m in \u001b[0;36m__call__\u001b[0;34m(self, *args, **kwds)\u001b[0m\n\u001b[1;32m    578\u001b[0m         \u001b[0mxla_context\u001b[0m\u001b[0;34m.\u001b[0m\u001b[0mExit\u001b[0m\u001b[0;34m(\u001b[0m\u001b[0;34m)\u001b[0m\u001b[0;34m\u001b[0m\u001b[0;34m\u001b[0m\u001b[0m\n\u001b[1;32m    579\u001b[0m     \u001b[0;32melse\u001b[0m\u001b[0;34m:\u001b[0m\u001b[0;34m\u001b[0m\u001b[0;34m\u001b[0m\u001b[0m\n\u001b[0;32m--> 580\u001b[0;31m       \u001b[0mresult\u001b[0m \u001b[0;34m=\u001b[0m \u001b[0mself\u001b[0m\u001b[0;34m.\u001b[0m\u001b[0m_call\u001b[0m\u001b[0;34m(\u001b[0m\u001b[0;34m*\u001b[0m\u001b[0margs\u001b[0m\u001b[0;34m,\u001b[0m \u001b[0;34m**\u001b[0m\u001b[0mkwds\u001b[0m\u001b[0;34m)\u001b[0m\u001b[0;34m\u001b[0m\u001b[0;34m\u001b[0m\u001b[0m\n\u001b[0m\u001b[1;32m    581\u001b[0m \u001b[0;34m\u001b[0m\u001b[0m\n\u001b[1;32m    582\u001b[0m     \u001b[0;32mif\u001b[0m \u001b[0mtracing_count\u001b[0m \u001b[0;34m==\u001b[0m \u001b[0mself\u001b[0m\u001b[0;34m.\u001b[0m\u001b[0m_get_tracing_count\u001b[0m\u001b[0;34m(\u001b[0m\u001b[0;34m)\u001b[0m\u001b[0;34m:\u001b[0m\u001b[0;34m\u001b[0m\u001b[0;34m\u001b[0m\u001b[0m\n",
            "\u001b[0;32m/usr/local/lib/python3.6/dist-packages/tensorflow/python/eager/def_function.py\u001b[0m in \u001b[0;36m_call\u001b[0;34m(self, *args, **kwds)\u001b[0m\n\u001b[1;32m    609\u001b[0m       \u001b[0;31m# In this case we have created variables on the first call, so we run the\u001b[0m\u001b[0;34m\u001b[0m\u001b[0;34m\u001b[0m\u001b[0;34m\u001b[0m\u001b[0m\n\u001b[1;32m    610\u001b[0m       \u001b[0;31m# defunned version which is guaranteed to never create variables.\u001b[0m\u001b[0;34m\u001b[0m\u001b[0;34m\u001b[0m\u001b[0;34m\u001b[0m\u001b[0m\n\u001b[0;32m--> 611\u001b[0;31m       \u001b[0;32mreturn\u001b[0m \u001b[0mself\u001b[0m\u001b[0;34m.\u001b[0m\u001b[0m_stateless_fn\u001b[0m\u001b[0;34m(\u001b[0m\u001b[0;34m*\u001b[0m\u001b[0margs\u001b[0m\u001b[0;34m,\u001b[0m \u001b[0;34m**\u001b[0m\u001b[0mkwds\u001b[0m\u001b[0;34m)\u001b[0m  \u001b[0;31m# pylint: disable=not-callable\u001b[0m\u001b[0;34m\u001b[0m\u001b[0;34m\u001b[0m\u001b[0m\n\u001b[0m\u001b[1;32m    612\u001b[0m     \u001b[0;32melif\u001b[0m \u001b[0mself\u001b[0m\u001b[0;34m.\u001b[0m\u001b[0m_stateful_fn\u001b[0m \u001b[0;32mis\u001b[0m \u001b[0;32mnot\u001b[0m \u001b[0;32mNone\u001b[0m\u001b[0;34m:\u001b[0m\u001b[0;34m\u001b[0m\u001b[0;34m\u001b[0m\u001b[0m\n\u001b[1;32m    613\u001b[0m       \u001b[0;31m# Release the lock early so that multiple threads can perform the call\u001b[0m\u001b[0;34m\u001b[0m\u001b[0;34m\u001b[0m\u001b[0;34m\u001b[0m\u001b[0m\n",
            "\u001b[0;32m/usr/local/lib/python3.6/dist-packages/tensorflow/python/eager/function.py\u001b[0m in \u001b[0;36m__call__\u001b[0;34m(self, *args, **kwargs)\u001b[0m\n\u001b[1;32m   2418\u001b[0m     \u001b[0;32mwith\u001b[0m \u001b[0mself\u001b[0m\u001b[0;34m.\u001b[0m\u001b[0m_lock\u001b[0m\u001b[0;34m:\u001b[0m\u001b[0;34m\u001b[0m\u001b[0;34m\u001b[0m\u001b[0m\n\u001b[1;32m   2419\u001b[0m       \u001b[0mgraph_function\u001b[0m\u001b[0;34m,\u001b[0m \u001b[0margs\u001b[0m\u001b[0;34m,\u001b[0m \u001b[0mkwargs\u001b[0m \u001b[0;34m=\u001b[0m \u001b[0mself\u001b[0m\u001b[0;34m.\u001b[0m\u001b[0m_maybe_define_function\u001b[0m\u001b[0;34m(\u001b[0m\u001b[0margs\u001b[0m\u001b[0;34m,\u001b[0m \u001b[0mkwargs\u001b[0m\u001b[0;34m)\u001b[0m\u001b[0;34m\u001b[0m\u001b[0;34m\u001b[0m\u001b[0m\n\u001b[0;32m-> 2420\u001b[0;31m     \u001b[0;32mreturn\u001b[0m \u001b[0mgraph_function\u001b[0m\u001b[0;34m.\u001b[0m\u001b[0m_filtered_call\u001b[0m\u001b[0;34m(\u001b[0m\u001b[0margs\u001b[0m\u001b[0;34m,\u001b[0m \u001b[0mkwargs\u001b[0m\u001b[0;34m)\u001b[0m  \u001b[0;31m# pylint: disable=protected-access\u001b[0m\u001b[0;34m\u001b[0m\u001b[0;34m\u001b[0m\u001b[0m\n\u001b[0m\u001b[1;32m   2421\u001b[0m \u001b[0;34m\u001b[0m\u001b[0m\n\u001b[1;32m   2422\u001b[0m   \u001b[0;34m@\u001b[0m\u001b[0mproperty\u001b[0m\u001b[0;34m\u001b[0m\u001b[0;34m\u001b[0m\u001b[0m\n",
            "\u001b[0;32m/usr/local/lib/python3.6/dist-packages/tensorflow/python/eager/function.py\u001b[0m in \u001b[0;36m_filtered_call\u001b[0;34m(self, args, kwargs)\u001b[0m\n\u001b[1;32m   1663\u001b[0m          if isinstance(t, (ops.Tensor,\n\u001b[1;32m   1664\u001b[0m                            resource_variable_ops.BaseResourceVariable))),\n\u001b[0;32m-> 1665\u001b[0;31m         self.captured_inputs)\n\u001b[0m\u001b[1;32m   1666\u001b[0m \u001b[0;34m\u001b[0m\u001b[0m\n\u001b[1;32m   1667\u001b[0m   \u001b[0;32mdef\u001b[0m \u001b[0m_call_flat\u001b[0m\u001b[0;34m(\u001b[0m\u001b[0mself\u001b[0m\u001b[0;34m,\u001b[0m \u001b[0margs\u001b[0m\u001b[0;34m,\u001b[0m \u001b[0mcaptured_inputs\u001b[0m\u001b[0;34m,\u001b[0m \u001b[0mcancellation_manager\u001b[0m\u001b[0;34m=\u001b[0m\u001b[0;32mNone\u001b[0m\u001b[0;34m)\u001b[0m\u001b[0;34m:\u001b[0m\u001b[0;34m\u001b[0m\u001b[0;34m\u001b[0m\u001b[0m\n",
            "\u001b[0;32m/usr/local/lib/python3.6/dist-packages/tensorflow/python/eager/function.py\u001b[0m in \u001b[0;36m_call_flat\u001b[0;34m(self, args, captured_inputs, cancellation_manager)\u001b[0m\n\u001b[1;32m   1744\u001b[0m       \u001b[0;31m# No tape is watching; skip to running the function.\u001b[0m\u001b[0;34m\u001b[0m\u001b[0;34m\u001b[0m\u001b[0;34m\u001b[0m\u001b[0m\n\u001b[1;32m   1745\u001b[0m       return self._build_call_outputs(self._inference_function.call(\n\u001b[0;32m-> 1746\u001b[0;31m           ctx, args, cancellation_manager=cancellation_manager))\n\u001b[0m\u001b[1;32m   1747\u001b[0m     forward_backward = self._select_forward_and_backward_functions(\n\u001b[1;32m   1748\u001b[0m         \u001b[0margs\u001b[0m\u001b[0;34m,\u001b[0m\u001b[0;34m\u001b[0m\u001b[0;34m\u001b[0m\u001b[0m\n",
            "\u001b[0;32m/usr/local/lib/python3.6/dist-packages/tensorflow/python/eager/function.py\u001b[0m in \u001b[0;36mcall\u001b[0;34m(self, ctx, args, cancellation_manager)\u001b[0m\n\u001b[1;32m    596\u001b[0m               \u001b[0minputs\u001b[0m\u001b[0;34m=\u001b[0m\u001b[0margs\u001b[0m\u001b[0;34m,\u001b[0m\u001b[0;34m\u001b[0m\u001b[0;34m\u001b[0m\u001b[0m\n\u001b[1;32m    597\u001b[0m               \u001b[0mattrs\u001b[0m\u001b[0;34m=\u001b[0m\u001b[0mattrs\u001b[0m\u001b[0;34m,\u001b[0m\u001b[0;34m\u001b[0m\u001b[0;34m\u001b[0m\u001b[0m\n\u001b[0;32m--> 598\u001b[0;31m               ctx=ctx)\n\u001b[0m\u001b[1;32m    599\u001b[0m         \u001b[0;32melse\u001b[0m\u001b[0;34m:\u001b[0m\u001b[0;34m\u001b[0m\u001b[0;34m\u001b[0m\u001b[0m\n\u001b[1;32m    600\u001b[0m           outputs = execute.execute_with_cancellation(\n",
            "\u001b[0;32m/usr/local/lib/python3.6/dist-packages/tensorflow/python/eager/execute.py\u001b[0m in \u001b[0;36mquick_execute\u001b[0;34m(op_name, num_outputs, inputs, attrs, ctx, name)\u001b[0m\n\u001b[1;32m     58\u001b[0m     \u001b[0mctx\u001b[0m\u001b[0;34m.\u001b[0m\u001b[0mensure_initialized\u001b[0m\u001b[0;34m(\u001b[0m\u001b[0;34m)\u001b[0m\u001b[0;34m\u001b[0m\u001b[0;34m\u001b[0m\u001b[0m\n\u001b[1;32m     59\u001b[0m     tensors = pywrap_tfe.TFE_Py_Execute(ctx._handle, device_name, op_name,\n\u001b[0;32m---> 60\u001b[0;31m                                         inputs, attrs, num_outputs)\n\u001b[0m\u001b[1;32m     61\u001b[0m   \u001b[0;32mexcept\u001b[0m \u001b[0mcore\u001b[0m\u001b[0;34m.\u001b[0m\u001b[0m_NotOkStatusException\u001b[0m \u001b[0;32mas\u001b[0m \u001b[0me\u001b[0m\u001b[0;34m:\u001b[0m\u001b[0;34m\u001b[0m\u001b[0;34m\u001b[0m\u001b[0m\n\u001b[1;32m     62\u001b[0m     \u001b[0;32mif\u001b[0m \u001b[0mname\u001b[0m \u001b[0;32mis\u001b[0m \u001b[0;32mnot\u001b[0m \u001b[0;32mNone\u001b[0m\u001b[0;34m:\u001b[0m\u001b[0;34m\u001b[0m\u001b[0;34m\u001b[0m\u001b[0m\n",
            "\u001b[0;31mKeyboardInterrupt\u001b[0m: "
          ]
        }
      ]
    },
    {
      "cell_type": "code",
      "metadata": {
        "id": "FXlzL6iGf-aa",
        "colab_type": "code",
        "colab": {}
      },
      "source": [
        "def plot_graphs(history, string):\n",
        "  plt.title(string+' con 3 epochs')\n",
        "  plt.plot(history.history[string])\n",
        "  plt.plot(history.history['val_'+string])\n",
        "  plt.xlabel(\"Epochs\")\n",
        "  plt.ylabel(string)\n",
        "  plt.legend([string, 'val_'+string])\n",
        "  plt.show()\n",
        "  \n",
        "plot_graphs(history, \"accuracy\")\n",
        "plot_graphs(history, \"loss\")"
      ],
      "execution_count": 0,
      "outputs": []
    }
  ]
}