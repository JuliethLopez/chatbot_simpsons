{
 "cells": [
  {
   "cell_type": "markdown",
   "metadata": {
    "colab_type": "text",
    "id": "jKE15xpMkR6H"
   },
   "source": [
    "<a href=\"https://colab.research.google.com/github/JuliethLopez/chatbot_simpsons/blob/master/Modelo_de_Clasificacion_ngrams_validation.ipynb\" target=\"_parent\"><img src=\"https://colab.research.google.com/assets/colab-badge.svg\" alt=\"Open In Colab\"/></a>"
   ]
  },
  {
   "cell_type": "markdown",
   "metadata": {
    "colab_type": "text",
    "id": "nJPO1NOruW18"
   },
   "source": [
    "# Clasificación usando Lenguaje Natural"
   ]
  },
  {
   "cell_type": "code",
   "execution_count": 1,
   "metadata": {
    "colab": {
     "base_uri": "https://localhost:8080/",
     "height": 35
    },
    "colab_type": "code",
    "id": "tMOU0GFTNemH",
    "outputId": "2c80a07c-0860-48c7-956a-8a6e72f3aef1"
   },
   "outputs": [],
   "source": [
    "#from google.colab import drive\n",
    "#drive.mount('/content/drive')"
   ]
  },
  {
   "cell_type": "code",
   "execution_count": 2,
   "metadata": {
    "colab": {},
    "colab_type": "code",
    "id": "NJc6nHMRudjy"
   },
   "outputs": [
    {
     "name": "stderr",
     "output_type": "stream",
     "text": [
      "Using TensorFlow backend.\n"
     ]
    }
   ],
   "source": [
    "# Librerias\n",
    "import csv\n",
    "import tensorflow as tf\n",
    "import numpy as np\n",
    "import matplotlib.pyplot as plt\n",
    "import pandas as pd\n",
    "import matplotlib.pylab as plt\n",
    "import nltk\n",
    "import string\n",
    "import itertools\n",
    "from nltk import word_tokenize\n",
    "from nltk.util import ngrams\n",
    "from tensorflow.keras.preprocessing.text import Tokenizer\n",
    "from tensorflow.keras.preprocessing.sequence import pad_sequences\n",
    "from keras import layers, backend\n",
    "from nltk.tokenize import word_tokenize, sent_tokenize, regexp_tokenize\n",
    "from sklearn. preprocessing import LabelEncoder\n",
    "from tensorflow.keras import layers\n",
    "from tensorflow.keras import regularizers"
   ]
  },
  {
   "cell_type": "markdown",
   "metadata": {
    "colab_type": "text",
    "id": "ZAXQiC96uq4s"
   },
   "source": [
    "# Define algunas características iniciales"
   ]
  },
  {
   "cell_type": "code",
   "execution_count": 3,
   "metadata": {
    "colab": {},
    "colab_type": "code",
    "id": "gpNtUB-ZujD1"
   },
   "outputs": [],
   "source": [
    "embedding_dim = 32 # dimensión del embeding de las palabras\n",
    "oov_tok = \"<OOV>\"  # token para las palabras que queden fuera del vocabulario\n",
    "training_portion = 0.8  # porcentaje de datos para entrenamiento"
   ]
  },
  {
   "cell_type": "code",
   "execution_count": 4,
   "metadata": {
    "colab": {
     "base_uri": "https://localhost:8080/",
     "height": 72
    },
    "colab_type": "code",
    "id": "bjMtHB6t1gpN",
    "outputId": "bde1d003-6f66-4279-9de1-c00d5479095b"
   },
   "outputs": [
    {
     "data": {
      "text/plain": [
       "array([' ', 'a', 'b', 'c', 'd', 'e', 'f', 'g', 'h', 'i', 'j', 'k', 'l',\n",
       "       'm', 'n', 'o', 'p', 'q', 'r', 's', 't', 'u', 'v', 'w', 'x', 'y',\n",
       "       'z'], dtype='<U1')"
      ]
     },
     "execution_count": 4,
     "metadata": {},
     "output_type": "execute_result"
    }
   ],
   "source": [
    "a = np.array([32]) # space\n",
    "c = np.array(range(97,123)) # minúsculas\n",
    "printab = np.hstack((a,c))\n",
    "printable = np.array([chr(i) for i in printab])   \n",
    "printable "
   ]
  },
  {
   "cell_type": "markdown",
   "metadata": {
    "colab_type": "text",
    "id": "xzVnwbLIx-nA"
   },
   "source": [
    "# Lectura de los datos"
   ]
  },
  {
   "cell_type": "code",
   "execution_count": 5,
   "metadata": {
    "colab": {},
    "colab_type": "code",
    "id": "_hJ2PlWEK7Zp"
   },
   "outputs": [],
   "source": [
    "complete_lines = [] \n",
    "sentences = []\n",
    "labels = [] # etiquetas preprocesadas"
   ]
  },
  {
   "cell_type": "code",
   "execution_count": 6,
   "metadata": {
    "colab": {
     "base_uri": "https://localhost:8080/",
     "height": 72
    },
    "colab_type": "code",
    "id": "eutB2xMiZD0e",
    "outputId": "79e2d8a9-750c-48f5-eb6e-d7f0a820b57f"
   },
   "outputs": [
    {
     "name": "stdout",
     "output_type": "stream",
     "text": [
      "labels: 64773\n",
      "complete_lines: 64773\n",
      "sentences 64773\n"
     ]
    }
   ],
   "source": [
    "import string\n",
    "import re #regular expresions\n",
    "# abre el archivo de datos y lo trata como un archivo csv\n",
    "#file = open('/content/drive/My Drive/Colab Notebooks/DFSMS.csv', 'r') #David\n",
    "#file = open('/content/drive/My Drive/Simpsons Chat bot/chatbot_simpsons-master/Datos/DFSMS.csv', 'r') #Julieth\n",
    "file = open('DFSMS.csv', 'r') #Juan\n",
    "with file as csvfile:\n",
    "    reader = csv.reader(csvfile, delimiter=',')\n",
    "    next(reader)\n",
    "    for row in reader:\n",
    "        # preprocess label\n",
    "        #label_l = ' '.join(row[0].split()).lower().replace(' ','_') # lower case ans eliminate multiple spaces\n",
    "        label_l = re.sub(' +', ' ',row[0].lower()) # lower case ans eliminate multiple spaces\n",
    "        if (len(label_l)>2): # drop with empty label\n",
    "            label = ''.join(c for c in label_l if c in printable)# filter only printable characters\n",
    "            label = label.replace(' ','_')\n",
    "            labels.append(label)\n",
    "            # preprocess sentence\n",
    "            #sentence_l = ' '.join(row[1].split()).lower().replace(' ','_') # lower case ans eliminate multiple spaces\n",
    "            sentence_l = re.sub(' +', ' ',row[1].lower())\n",
    "            sentence = ''.join(c for c in sentence_l if c in printable)\n",
    "            complete_lines.append(row[0] + ': '+ row[1])\n",
    "            sentences.append(sentence)\n",
    " \n",
    "\n",
    "# resumen de la lectura            \n",
    "print(\"labels:\",len(labels))\n",
    "print(\"complete_lines:\",len(complete_lines))\n",
    "print(\"sentences\",len(sentences))"
   ]
  },
  {
   "cell_type": "code",
   "execution_count": 7,
   "metadata": {
    "colab": {
     "base_uri": "https://localhost:8080/",
     "height": 127
    },
    "colab_type": "code",
    "id": "mHP5HqP4Yt5U",
    "outputId": "e68a92ad-5000-4835-b0d2-2b68eea7f4af"
   },
   "outputs": [
    {
     "name": "stdout",
     "output_type": "stream",
     "text": [
      "bart_simpson\n",
      "\n",
      "Bart Simpson: Victory party under the slide!\n",
      "\n",
      "victory party under the slide\n",
      "\n"
     ]
    }
   ],
   "source": [
    "# Tercer linea\n",
    "print(labels[2]+'\\n')\n",
    "print(complete_lines[2]+'\\n')\n",
    "print(sentences[2]+'\\n')"
   ]
  },
  {
   "cell_type": "markdown",
   "metadata": {
    "colab_type": "text",
    "id": "YYaD8IrjgU2m"
   },
   "source": [
    "### Grafico de frecuencias de los personajes"
   ]
  },
  {
   "cell_type": "code",
   "execution_count": 8,
   "metadata": {
    "colab": {
     "base_uri": "https://localhost:8080/",
     "height": 281
    },
    "colab_type": "code",
    "id": "djFPe1k6pOp9",
    "outputId": "1ad75104-9ec9-4b41-fa55-9e06bf6f04c0"
   },
   "outputs": [
    {
     "data": {
      "image/png": "[encoded data removed]",
      "text/plain": [
       "<Figure size 432x288 with 1 Axes>"
      ]
     },
     "metadata": {
      "needs_background": "light"
     },
     "output_type": "display_data"
    }
   ],
   "source": [
    "# Gráfico de barras de numero de frases por personaje\n",
    "frec = pd.value_counts(labels)\n",
    "plot = frec.plot(kind='barh',title='Numero de frases por personaje',color=['deepskyblue','orangered','darkkhaki','gold'])"
   ]
  },
  {
   "cell_type": "code",
   "execution_count": 9,
   "metadata": {
    "colab": {
     "base_uri": "https://localhost:8080/",
     "height": 35
    },
    "colab_type": "code",
    "id": "rq50RgumTG6k",
    "outputId": "fe4fe723-7502-46aa-8911-1467f28c7fc3"
   },
   "outputs": [
    {
     "data": {
      "text/plain": [
       "13172"
      ]
     },
     "execution_count": 9,
     "metadata": {},
     "output_type": "execute_result"
    }
   ],
   "source": [
    "n_lines = frec.values[1]\n",
    "n_lines"
   ]
  },
  {
   "cell_type": "markdown",
   "metadata": {
    "colab_type": "text",
    "id": "KCFHpjzibqi_"
   },
   "source": [
    "Reducimos las frases para que todos los personajes tengan la misma cantidad."
   ]
  },
  {
   "cell_type": "code",
   "execution_count": 10,
   "metadata": {
    "colab": {},
    "colab_type": "code",
    "id": "IApkoio3S2p_"
   },
   "outputs": [],
   "source": [
    "np.random.seed(101)\n",
    "homer_index = []\n",
    "\n",
    "for i in range(len(labels)):\n",
    "  if labels[i] == 'homer_simpson':\n",
    "    homer_index.append(i)\n",
    "\n",
    "homer_r = np.random.choice(homer_index,n_lines,replace=False)"
   ]
  },
  {
   "cell_type": "code",
   "execution_count": 11,
   "metadata": {
    "colab": {},
    "colab_type": "code",
    "id": "_ktqnAH0XLjt"
   },
   "outputs": [],
   "source": [
    "np.random.seed(101)\n",
    "marge_index = []\n",
    "\n",
    "for i in range(len(labels)):\n",
    "  if labels[i] == 'marge_simpson':\n",
    "    marge_index.append(i)"
   ]
  },
  {
   "cell_type": "code",
   "execution_count": 12,
   "metadata": {
    "colab": {},
    "colab_type": "code",
    "id": "GDpiOn29YIj8"
   },
   "outputs": [],
   "source": [
    "np.random.seed(101)\n",
    "bart_index = []\n",
    "\n",
    "for i in range(len(labels)):\n",
    "  if labels[i] == 'bart_simpson':\n",
    "    bart_index.append(i)"
   ]
  },
  {
   "cell_type": "code",
   "execution_count": 13,
   "metadata": {
    "colab": {},
    "colab_type": "code",
    "id": "BfPoqsetYqt6"
   },
   "outputs": [],
   "source": [
    "np.random.seed(101)\n",
    "lisa_index = []\n",
    "\n",
    "for i in range(len(labels)):\n",
    "  if labels[i] == 'lisa_simpson':\n",
    "    lisa_index.append(i)"
   ]
  },
  {
   "cell_type": "code",
   "execution_count": 14,
   "metadata": {
    "colab": {},
    "colab_type": "code",
    "id": "sjj1J6KaWyrn"
   },
   "outputs": [],
   "source": [
    "#seleccionamos las oraciones\n",
    "sentences = np.array(sentences)\n",
    "labels = np.array(labels)\n",
    "\n",
    "homer_s = sentences[homer_r]\n",
    "marge_s = sentences[marge_index]\n",
    "bart_s = sentences[bart_index]\n",
    "lisa_s = sentences[lisa_index]\n",
    "\n",
    "homer_l = labels[homer_r]\n",
    "marge_l = labels[marge_index]\n",
    "bart_l = labels[bart_index]\n",
    "lisa_l = labels[lisa_index]"
   ]
  },
  {
   "cell_type": "code",
   "execution_count": 15,
   "metadata": {
    "colab": {},
    "colab_type": "code",
    "id": "IXo5ErQUZz51"
   },
   "outputs": [],
   "source": [
    "#transformamos el formato\n",
    "homer_s = homer_s.tolist()\n",
    "marge_s = marge_s.tolist()\n",
    "bart_s = bart_s.tolist()\n",
    "lisa_s = lisa_s.tolist()\n",
    "\n",
    "homer_l = homer_l.tolist()\n",
    "marge_l = marge_l.tolist()\n",
    "bart_l = bart_l.tolist()\n",
    "lisa_l = lisa_l.tolist()"
   ]
  },
  {
   "cell_type": "code",
   "execution_count": 16,
   "metadata": {
    "colab": {
     "base_uri": "https://localhost:8080/",
     "height": 35
    },
    "colab_type": "code",
    "id": "WYJ48mVYT538",
    "outputId": "50c7b9db-8a02-4c9e-e7b6-9bd03d1cea44"
   },
   "outputs": [
    {
     "data": {
      "text/plain": [
       "(1, 50095)"
      ]
     },
     "execution_count": 16,
     "metadata": {},
     "output_type": "execute_result"
    }
   ],
   "source": [
    "sentences = [homer_s + marge_s + bart_s + lisa_s]\n",
    "np.shape(sentences)"
   ]
  },
  {
   "cell_type": "code",
   "execution_count": 17,
   "metadata": {
    "colab": {
     "base_uri": "https://localhost:8080/",
     "height": 35
    },
    "colab_type": "code",
    "id": "vRS3GwviZJHh",
    "outputId": "63b80120-1f2c-44d0-b57b-21af620b2c33"
   },
   "outputs": [
    {
     "data": {
      "text/plain": [
       "(1, 50095)"
      ]
     },
     "execution_count": 17,
     "metadata": {},
     "output_type": "execute_result"
    }
   ],
   "source": [
    "labels = [homer_l + marge_l + bart_l + lisa_l]\n",
    "np.shape(labels)"
   ]
  },
  {
   "cell_type": "code",
   "execution_count": 18,
   "metadata": {
    "colab": {},
    "colab_type": "code",
    "id": "sW0uAzGYjL8G"
   },
   "outputs": [],
   "source": [
    "sentences = sentences[0]\n",
    "labels = labels[0]"
   ]
  },
  {
   "cell_type": "markdown",
   "metadata": {
    "colab_type": "text",
    "id": "QH4k5vkXYt6B"
   },
   "source": [
    "# Separa datos de entrenamiento y validación\n",
    "### Aleatorización de los datos"
   ]
  },
  {
   "cell_type": "code",
   "execution_count": 19,
   "metadata": {
    "colab": {},
    "colab_type": "code",
    "id": "8wLR3Q80xMr6"
   },
   "outputs": [],
   "source": [
    "# index to sample\n",
    "n = len(sentences)\n",
    "sentences = np.array(sentences)\n",
    "labels = np.array(labels)\n",
    "\n",
    "# index for sample for testing and training\n",
    "np.random.seed(101)\n",
    "sentences_id  = np.random.permutation(n)\n",
    "\n",
    "# extract the samples\n",
    "sentences = sentences[sentences_id] # Frases de validacion\n",
    "labels = labels[sentences_id] # Frases de validacion"
   ]
  },
  {
   "cell_type": "markdown",
   "metadata": {
    "colab_type": "text",
    "id": "pgr6FmIJzY42"
   },
   "source": [
    "### Grupo de entrenamiento"
   ]
  },
  {
   "cell_type": "code",
   "execution_count": 20,
   "metadata": {
    "colab": {
     "base_uri": "https://localhost:8080/",
     "height": 72
    },
    "colab_type": "code",
    "id": "1clc5zDW8PJw",
    "outputId": "082e8bb0-6ab6-4175-8608-a4cdda57325b"
   },
   "outputs": [
    {
     "name": "stdout",
     "output_type": "stream",
     "text": [
      "train_sentences: 40076\n",
      "train_labels: 40076 \n",
      "\n"
     ]
    }
   ],
   "source": [
    "train_size = int(len(sentences) * training_portion) # 80%\n",
    "\n",
    "train_sentences = sentences[:train_size] # Frases de entrenamiento \n",
    "train_labels = labels[:train_size] # Etiquetas de entrenamiento\n",
    "print(\"train_sentences:\",len(train_sentences)) # Tamaño de frases de entrenamiento\n",
    "print(\"train_labels:\",len(train_labels),\"\\n\") # Tamaño de etiquetas de entrenamiento"
   ]
  },
  {
   "cell_type": "markdown",
   "metadata": {
    "colab_type": "text",
    "id": "8SuVgyhrzowg"
   },
   "source": [
    "### Grupo de validación"
   ]
  },
  {
   "cell_type": "code",
   "execution_count": 21,
   "metadata": {
    "colab": {
     "base_uri": "https://localhost:8080/",
     "height": 72
    },
    "colab_type": "code",
    "id": "2v0fOra09Wmp",
    "outputId": "1c94cb32-8e19-4398-85d5-04e06508819c"
   },
   "outputs": [
    {
     "name": "stdout",
     "output_type": "stream",
     "text": [
      "validation_sentences: 10019\n",
      "validation_labels: 10019 \n",
      "\n"
     ]
    }
   ],
   "source": [
    "validation_sentences = sentences[train_size:] # Frases de validacion\n",
    "validation_labels = labels[train_size:] # Frases de validacion\n",
    "print(\"validation_sentences:\",len(validation_sentences)) # Tamaño de frases de validacion\n",
    "print(\"validation_labels:\",len(validation_labels),\"\\n\") # Tamaño de etiquetas de validacion"
   ]
  },
  {
   "cell_type": "code",
   "execution_count": 22,
   "metadata": {
    "colab": {
     "base_uri": "https://localhost:8080/",
     "height": 54
    },
    "colab_type": "code",
    "id": "vx_N5GsHe3KV",
    "outputId": "8f41fa40-5f69-44b6-9ee6-0afc36fa10b2"
   },
   "outputs": [
    {
     "name": "stdout",
     "output_type": "stream",
     "text": [
      "sentences: 50095\n",
      "train_sentences + validation_labels: 50095\n"
     ]
    }
   ],
   "source": [
    "#verificacion de tamaños\n",
    "print(\"sentences:\",len(sentences))\n",
    "print(\"train_sentences + validation_labels:\",len(train_sentences)+len(validation_sentences))"
   ]
  },
  {
   "cell_type": "markdown",
   "metadata": {
    "colab_type": "text",
    "id": "N_E4h9j8Mh90"
   },
   "source": [
    "# Grafica de frecuencia de n-gramas\n",
    "### Trigramas"
   ]
  },
  {
   "cell_type": "code",
   "execution_count": 23,
   "metadata": {
    "colab": {
     "base_uri": "https://localhost:8080/",
     "height": 35
    },
    "colab_type": "code",
    "id": "y4UOhrSPJfe7",
    "outputId": "5815ba90-2e9e-4295-cdb2-ddaf86066e6b"
   },
   "outputs": [
    {
     "data": {
      "text/plain": [
       "['and', 'you', 'will', 'be', 'a', 'dancer', 'hm', 'oh', 'so', 'now']"
      ]
     },
     "execution_count": 23,
     "metadata": {},
     "output_type": "execute_result"
    }
   ],
   "source": [
    "#Juntamos todo el texto en una sola linea\n",
    "wordtk = ' '.join(train_sentences)\n",
    "\n",
    "#Para dividir las frases\n",
    "tokenstk = regexp_tokenize(wordtk, pattern=\"\\w+\")\n",
    "tokenstk[:10]"
   ]
  },
  {
   "cell_type": "code",
   "execution_count": 24,
   "metadata": {
    "colab": {
     "base_uri": "https://localhost:8080/",
     "height": 35
    },
    "colab_type": "code",
    "id": "PXSnjnMGJmT9",
    "outputId": "ed034a36-76b2-411e-fd2c-120e9ba3425a"
   },
   "outputs": [
    {
     "data": {
      "text/plain": [
       "['and you will', 'you will be', 'will be a', 'be a dancer', 'a dancer hm']"
      ]
     },
     "execution_count": 24,
     "metadata": {},
     "output_type": "execute_result"
    }
   ],
   "source": [
    "trigrama = ngrams(tokenstk,3)\n",
    "trigrama = [' '.join(grams) for grams in trigrama]\n",
    "trigrama[:5]"
   ]
  },
  {
   "cell_type": "code",
   "execution_count": 25,
   "metadata": {
    "colab": {},
    "colab_type": "code",
    "id": "4-pHnm8S9WaV"
   },
   "outputs": [],
   "source": [
    "freq = nltk.FreqDist(trigrama) #frecuencia de los tokens"
   ]
  },
  {
   "cell_type": "code",
   "execution_count": 26,
   "metadata": {
    "colab": {
     "base_uri": "https://localhost:8080/",
     "height": 372
    },
    "colab_type": "code",
    "id": "VrU1zk_tjqEE",
    "outputId": "ebd32483-df1e-4e74-d7a8-2fea018a5dc3"
   },
   "outputs": [
    {
     "data": {
      "image/png": "[encoded data removed]",
      "text/plain": [
       "<Figure size 432x288 with 1 Axes>"
      ]
     },
     "metadata": {
      "needs_background": "light"
     },
     "output_type": "display_data"
    },
    {
     "name": "stdout",
     "output_type": "stream",
     "text": [
      "Trigramas completos unicos: 301121\n"
     ]
    }
   ],
   "source": [
    "# Gráfica con los trigramas COMPLETOS\n",
    "freq.plot(20, cumulative=False, title = \"TRIGRAMA COMPLETOS\")\n",
    "print(\"Trigramas completos unicos:\", len(freq))"
   ]
  },
  {
   "cell_type": "code",
   "execution_count": 27,
   "metadata": {
    "colab": {},
    "colab_type": "code",
    "id": "mMMJMohG9ZNQ"
   },
   "outputs": [],
   "source": [
    "eliminar = [] #filtramos tokens que se repiten mas de una vez\n",
    "for key,val in freq.items():\n",
    "  if (250>val>3):\n",
    "    eliminar.append(str(key))\n",
    "\n",
    "trigrama_limpio = []\n",
    "for i in trigrama:\n",
    "  if i in eliminar:\n",
    "    trigrama_limpio.append(i)\n",
    "\n",
    "freqnew = nltk.FreqDist(trigrama_limpio)"
   ]
  },
  {
   "cell_type": "code",
   "execution_count": 28,
   "metadata": {
    "colab": {
     "base_uri": "https://localhost:8080/",
     "height": 372
    },
    "colab_type": "code",
    "id": "LeHOcU_QpIDx",
    "outputId": "3e004c79-1eb0-4d91-e7c5-374ff1d96234"
   },
   "outputs": [
    {
     "data": {
      "image/png": "[encoded data removed]",
      "text/plain": [
       "<Figure size 432x288 with 1 Axes>"
      ]
     },
     "metadata": {
      "needs_background": "light"
     },
     "output_type": "display_data"
    },
    {
     "name": "stdout",
     "output_type": "stream",
     "text": [
      "Trigramas recortados unicos: 6151\n"
     ]
    }
   ],
   "source": [
    "# Gráfica con los trigramas RECORTADOS\n",
    "freqnew.plot(20, cumulative=False, title = \"TRIGRAMAS RECORTADOS\")\n",
    "print(\"Trigramas recortados unicos:\", len(freqnew))"
   ]
  },
  {
   "cell_type": "code",
   "execution_count": 29,
   "metadata": {
    "colab": {
     "base_uri": "https://localhost:8080/",
     "height": 54
    },
    "colab_type": "code",
    "id": "X_v6wVGRXTcX",
    "outputId": "16e23e86-5cae-4b8d-af95-95916635b468"
   },
   "outputs": [
    {
     "name": "stdout",
     "output_type": "stream",
     "text": [
      "Trigramas completos unicos: 301121\n",
      "Trigramas recortados unicos: 6151\n"
     ]
    }
   ],
   "source": [
    "#comparacion de trigramas\n",
    "print(\"Trigramas completos unicos:\", len(freq))\n",
    "print(\"Trigramas recortados unicos:\", len(freqnew))"
   ]
  },
  {
   "cell_type": "markdown",
   "metadata": {
    "colab_type": "text",
    "id": "OA9lEoi8cQaM"
   },
   "source": [
    "### Bigramas"
   ]
  },
  {
   "cell_type": "code",
   "execution_count": 30,
   "metadata": {
    "colab": {
     "base_uri": "https://localhost:8080/",
     "height": 35
    },
    "colab_type": "code",
    "id": "hLv0tCETcSrC",
    "outputId": "2e2e34df-3d08-4c8c-aab5-71328282ed65"
   },
   "outputs": [
    {
     "data": {
      "text/plain": [
       "['and you', 'you will', 'will be', 'be a', 'a dancer']"
      ]
     },
     "execution_count": 30,
     "metadata": {},
     "output_type": "execute_result"
    }
   ],
   "source": [
    "bigrama = ngrams(tokenstk,2)\n",
    "bigrama = [' '.join(grams) for grams in bigrama]\n",
    "bigrama[:5]"
   ]
  },
  {
   "cell_type": "code",
   "execution_count": 31,
   "metadata": {
    "colab": {},
    "colab_type": "code",
    "id": "acCZFRFk9cNW"
   },
   "outputs": [],
   "source": [
    "freqb = nltk.FreqDist(bigrama) #frecuencia de los tokens"
   ]
  },
  {
   "cell_type": "code",
   "execution_count": 32,
   "metadata": {
    "colab": {
     "base_uri": "https://localhost:8080/",
     "height": 351
    },
    "colab_type": "code",
    "id": "8xOKxeRTi2JM",
    "outputId": "7b4d5fce-2920-43fa-e12b-3b93df4768db"
   },
   "outputs": [
    {
     "data": {
      "image/png": "[encoded data removed]",
      "text/plain": [
       "<Figure size 432x288 with 1 Axes>"
      ]
     },
     "metadata": {
      "needs_background": "light"
     },
     "output_type": "display_data"
    },
    {
     "name": "stdout",
     "output_type": "stream",
     "text": [
      "Bigramas completos unicos: 158197\n"
     ]
    }
   ],
   "source": [
    "# Gráfica con los bigramas COMPLETOS\n",
    "freqb.plot(20, cumulative=False, title = \"BIGRAMAS COMPLETOS\")\n",
    "print(\"Bigramas completos unicos:\", len(freqb))"
   ]
  },
  {
   "cell_type": "code",
   "execution_count": 33,
   "metadata": {
    "colab": {},
    "colab_type": "code",
    "id": "oTEizbt_9fEV"
   },
   "outputs": [],
   "source": [
    "eliminarb = [] #filtramos tokens que se repiten mas de una vez\n",
    "for key,val in freqb.items():\n",
    "  if (700>val>100):\n",
    "    eliminarb.append(str(key))\n",
    "\n",
    "bigrama_limpio = []\n",
    "for i in bigrama:\n",
    "  if i in eliminarb:\n",
    "    bigrama_limpio.append(i)\n",
    "\n",
    "freqbnew = nltk.FreqDist(bigrama_limpio)"
   ]
  },
  {
   "cell_type": "code",
   "execution_count": 34,
   "metadata": {
    "colab": {
     "base_uri": "https://localhost:8080/",
     "height": 351
    },
    "colab_type": "code",
    "id": "32Y8at2kcWcZ",
    "outputId": "93de7726-68b8-4011-a24a-d0c60ba1d832"
   },
   "outputs": [
    {
     "data": {
      "image/png": "[encoded data removed]",
      "text/plain": [
       "<Figure size 432x288 with 1 Axes>"
      ]
     },
     "metadata": {
      "needs_background": "light"
     },
     "output_type": "display_data"
    },
    {
     "name": "stdout",
     "output_type": "stream",
     "text": [
      "Bigramas recortados unicos: 228\n"
     ]
    }
   ],
   "source": [
    "# Gráfica con los Bigramas\n",
    "freqbnew.plot(20, cumulative=False, title = \"BIGRAMAS RECORTADOS\")\n",
    "print(\"Bigramas recortados unicos:\", len(freqbnew))"
   ]
  },
  {
   "cell_type": "code",
   "execution_count": 35,
   "metadata": {
    "colab": {
     "base_uri": "https://localhost:8080/",
     "height": 54
    },
    "colab_type": "code",
    "id": "X3me9f5ycf-r",
    "outputId": "94773f43-1db5-41d4-9e2d-4149661d589e"
   },
   "outputs": [
    {
     "name": "stdout",
     "output_type": "stream",
     "text": [
      "Bigramas completos unicos: 158197\n",
      "Bigramas recortados unicos: 228\n"
     ]
    }
   ],
   "source": [
    "#comparacion de bigramas\n",
    "print(\"Bigramas completos unicos:\", len(freqb))\n",
    "print(\"Bigramas recortados unicos:\", len(freqbnew))"
   ]
  },
  {
   "cell_type": "markdown",
   "metadata": {
    "colab_type": "text",
    "id": "sqeyp7uYWBHT"
   },
   "source": [
    "# Vocabulario\n",
    "### Trigramas\n",
    "\n",
    "Aunque trigrama_limpio ya no tiene ni los tokens con repitencias muy bajas ni muy altas, contiene tokens repetidos, por eso, para el vocabulario de CountVectorizer utilizameros los freqnew.keys() que contiene los tokens unicos."
   ]
  },
  {
   "cell_type": "code",
   "execution_count": 36,
   "metadata": {
    "colab": {},
    "colab_type": "code",
    "id": "m10I8zKloSLs"
   },
   "outputs": [],
   "source": [
    "from sklearn.feature_extraction.text import CountVectorizer\n",
    "\n",
    "vectorizer3 = CountVectorizer(vocabulary=freqnew.keys(), ngram_range=(3,3))"
   ]
  },
  {
   "cell_type": "code",
   "execution_count": 37,
   "metadata": {
    "colab": {
     "base_uri": "https://localhost:8080/",
     "height": 54
    },
    "colab_type": "code",
    "id": "9fC6Ku9BpEn-",
    "outputId": "3356e61b-b6af-4f3b-a16e-a6653d745ccf"
   },
   "outputs": [
    {
     "data": {
      "text/plain": [
       "<40076x6151 sparse matrix of type '<class 'numpy.int64'>'\n",
       "\twith 32250 stored elements in Compressed Sparse Row format>"
      ]
     },
     "execution_count": 37,
     "metadata": {},
     "output_type": "execute_result"
    }
   ],
   "source": [
    "X3 = vectorizer3.fit_transform(train_sentences)\n",
    "X3"
   ]
  },
  {
   "cell_type": "code",
   "execution_count": 38,
   "metadata": {
    "colab": {
     "base_uri": "https://localhost:8080/",
     "height": 202
    },
    "colab_type": "code",
    "id": "C4WaPm2ApUTJ",
    "outputId": "dd24ee5c-2257-42a9-ce23-f99401f2e251"
   },
   "outputs": [
    {
     "data": {
      "text/plain": [
       "['and you will',\n",
       " 'will be a',\n",
       " 'be a dancer',\n",
       " 'but i dont',\n",
       " 'i dont think',\n",
       " 'think it would',\n",
       " 'whats the matter',\n",
       " 'the matter with',\n",
       " 'with you homer',\n",
       " 'we dont have']"
      ]
     },
     "execution_count": 38,
     "metadata": {},
     "output_type": "execute_result"
    }
   ],
   "source": [
    "F3 = vectorizer3.get_feature_names() #Mapeo de matriz de índices de enteros a nombres.\n",
    "F3[:10]"
   ]
  },
  {
   "cell_type": "code",
   "execution_count": 39,
   "metadata": {
    "colab": {
     "base_uri": "https://localhost:8080/",
     "height": 35
    },
    "colab_type": "code",
    "id": "hi52OEvRp_zc",
    "outputId": "26b2e79c-e043-41be-b3a4-b26901e00581"
   },
   "outputs": [
    {
     "name": "stdout",
     "output_type": "stream",
     "text": [
      "longitud 40076\n"
     ]
    }
   ],
   "source": [
    "train_sequences = X3.toarray() #arreglo\n",
    "print(\"longitud\",len(X3.toarray()))"
   ]
  },
  {
   "cell_type": "markdown",
   "metadata": {
    "colab_type": "text",
    "id": "5KPSxpcaZ7NY"
   },
   "source": [
    "Como vemos en la tabla, cada fila corresponde a una frase de nuestro __train_sentences__ y cada columna corresponde a un trigrama, por lo tanto la tabla es de (55336 × 8616),\n",
    "\n",
    "  - train_sentences: 55336\n",
    "  - Trigramas unicos con sus frecuencias: 8616"
   ]
  },
  {
   "cell_type": "code",
   "execution_count": 40,
   "metadata": {
    "colab": {
     "base_uri": "https://localhost:8080/",
     "height": 479
    },
    "colab_type": "code",
    "id": "2s6KN8-qpzPh",
    "outputId": "0dc2ae5f-4ef1-4ace-f2bb-2100d305b0e8"
   },
   "outputs": [
    {
     "data": {
      "text/html": [
       "<div>\n",
       "<style scoped>\n",
       "    .dataframe tbody tr th:only-of-type {\n",
       "        vertical-align: middle;\n",
       "    }\n",
       "\n",
       "    .dataframe tbody tr th {\n",
       "        vertical-align: top;\n",
       "    }\n",
       "\n",
       "    .dataframe thead th {\n",
       "        text-align: right;\n",
       "    }\n",
       "</style>\n",
       "<table border=\"1\" class=\"dataframe\">\n",
       "  <thead>\n",
       "    <tr style=\"text-align: right;\">\n",
       "      <th></th>\n",
       "      <th>and you will</th>\n",
       "      <th>will be a</th>\n",
       "      <th>be a dancer</th>\n",
       "      <th>but i dont</th>\n",
       "      <th>i dont think</th>\n",
       "      <th>think it would</th>\n",
       "      <th>whats the matter</th>\n",
       "      <th>the matter with</th>\n",
       "      <th>with you homer</th>\n",
       "      <th>we dont have</th>\n",
       "      <th>...</th>\n",
       "      <th>all a part</th>\n",
       "      <th>were number one</th>\n",
       "      <th>old folks home</th>\n",
       "      <th>cheated cheated cheated</th>\n",
       "      <th>shoo shoo shoo</th>\n",
       "      <th>me about the</th>\n",
       "      <th>me i got</th>\n",
       "      <th>gimme the bat</th>\n",
       "      <th>ba ba ba</th>\n",
       "      <th>four score and</th>\n",
       "    </tr>\n",
       "  </thead>\n",
       "  <tbody>\n",
       "    <tr>\n",
       "      <th>0</th>\n",
       "      <td>1</td>\n",
       "      <td>0</td>\n",
       "      <td>0</td>\n",
       "      <td>0</td>\n",
       "      <td>0</td>\n",
       "      <td>0</td>\n",
       "      <td>0</td>\n",
       "      <td>0</td>\n",
       "      <td>0</td>\n",
       "      <td>0</td>\n",
       "      <td>...</td>\n",
       "      <td>0</td>\n",
       "      <td>0</td>\n",
       "      <td>0</td>\n",
       "      <td>0</td>\n",
       "      <td>0</td>\n",
       "      <td>0</td>\n",
       "      <td>0</td>\n",
       "      <td>0</td>\n",
       "      <td>0</td>\n",
       "      <td>0</td>\n",
       "    </tr>\n",
       "    <tr>\n",
       "      <th>1</th>\n",
       "      <td>0</td>\n",
       "      <td>0</td>\n",
       "      <td>0</td>\n",
       "      <td>0</td>\n",
       "      <td>0</td>\n",
       "      <td>0</td>\n",
       "      <td>0</td>\n",
       "      <td>0</td>\n",
       "      <td>0</td>\n",
       "      <td>0</td>\n",
       "      <td>...</td>\n",
       "      <td>0</td>\n",
       "      <td>0</td>\n",
       "      <td>0</td>\n",
       "      <td>0</td>\n",
       "      <td>0</td>\n",
       "      <td>0</td>\n",
       "      <td>0</td>\n",
       "      <td>0</td>\n",
       "      <td>0</td>\n",
       "      <td>0</td>\n",
       "    </tr>\n",
       "    <tr>\n",
       "      <th>2</th>\n",
       "      <td>0</td>\n",
       "      <td>0</td>\n",
       "      <td>0</td>\n",
       "      <td>0</td>\n",
       "      <td>0</td>\n",
       "      <td>0</td>\n",
       "      <td>0</td>\n",
       "      <td>0</td>\n",
       "      <td>0</td>\n",
       "      <td>0</td>\n",
       "      <td>...</td>\n",
       "      <td>0</td>\n",
       "      <td>0</td>\n",
       "      <td>0</td>\n",
       "      <td>0</td>\n",
       "      <td>0</td>\n",
       "      <td>0</td>\n",
       "      <td>0</td>\n",
       "      <td>0</td>\n",
       "      <td>0</td>\n",
       "      <td>0</td>\n",
       "    </tr>\n",
       "    <tr>\n",
       "      <th>3</th>\n",
       "      <td>0</td>\n",
       "      <td>0</td>\n",
       "      <td>0</td>\n",
       "      <td>0</td>\n",
       "      <td>0</td>\n",
       "      <td>1</td>\n",
       "      <td>0</td>\n",
       "      <td>0</td>\n",
       "      <td>0</td>\n",
       "      <td>0</td>\n",
       "      <td>...</td>\n",
       "      <td>0</td>\n",
       "      <td>0</td>\n",
       "      <td>0</td>\n",
       "      <td>0</td>\n",
       "      <td>0</td>\n",
       "      <td>0</td>\n",
       "      <td>0</td>\n",
       "      <td>0</td>\n",
       "      <td>0</td>\n",
       "      <td>0</td>\n",
       "    </tr>\n",
       "    <tr>\n",
       "      <th>4</th>\n",
       "      <td>0</td>\n",
       "      <td>0</td>\n",
       "      <td>0</td>\n",
       "      <td>0</td>\n",
       "      <td>0</td>\n",
       "      <td>0</td>\n",
       "      <td>1</td>\n",
       "      <td>1</td>\n",
       "      <td>1</td>\n",
       "      <td>1</td>\n",
       "      <td>...</td>\n",
       "      <td>0</td>\n",
       "      <td>0</td>\n",
       "      <td>0</td>\n",
       "      <td>0</td>\n",
       "      <td>0</td>\n",
       "      <td>0</td>\n",
       "      <td>0</td>\n",
       "      <td>0</td>\n",
       "      <td>0</td>\n",
       "      <td>0</td>\n",
       "    </tr>\n",
       "    <tr>\n",
       "      <th>...</th>\n",
       "      <td>...</td>\n",
       "      <td>...</td>\n",
       "      <td>...</td>\n",
       "      <td>...</td>\n",
       "      <td>...</td>\n",
       "      <td>...</td>\n",
       "      <td>...</td>\n",
       "      <td>...</td>\n",
       "      <td>...</td>\n",
       "      <td>...</td>\n",
       "      <td>...</td>\n",
       "      <td>...</td>\n",
       "      <td>...</td>\n",
       "      <td>...</td>\n",
       "      <td>...</td>\n",
       "      <td>...</td>\n",
       "      <td>...</td>\n",
       "      <td>...</td>\n",
       "      <td>...</td>\n",
       "      <td>...</td>\n",
       "      <td>...</td>\n",
       "    </tr>\n",
       "    <tr>\n",
       "      <th>40071</th>\n",
       "      <td>0</td>\n",
       "      <td>0</td>\n",
       "      <td>0</td>\n",
       "      <td>0</td>\n",
       "      <td>0</td>\n",
       "      <td>0</td>\n",
       "      <td>0</td>\n",
       "      <td>0</td>\n",
       "      <td>0</td>\n",
       "      <td>0</td>\n",
       "      <td>...</td>\n",
       "      <td>0</td>\n",
       "      <td>0</td>\n",
       "      <td>0</td>\n",
       "      <td>0</td>\n",
       "      <td>0</td>\n",
       "      <td>0</td>\n",
       "      <td>0</td>\n",
       "      <td>0</td>\n",
       "      <td>0</td>\n",
       "      <td>0</td>\n",
       "    </tr>\n",
       "    <tr>\n",
       "      <th>40072</th>\n",
       "      <td>0</td>\n",
       "      <td>0</td>\n",
       "      <td>0</td>\n",
       "      <td>0</td>\n",
       "      <td>0</td>\n",
       "      <td>0</td>\n",
       "      <td>0</td>\n",
       "      <td>0</td>\n",
       "      <td>0</td>\n",
       "      <td>0</td>\n",
       "      <td>...</td>\n",
       "      <td>0</td>\n",
       "      <td>0</td>\n",
       "      <td>0</td>\n",
       "      <td>0</td>\n",
       "      <td>0</td>\n",
       "      <td>0</td>\n",
       "      <td>0</td>\n",
       "      <td>0</td>\n",
       "      <td>0</td>\n",
       "      <td>0</td>\n",
       "    </tr>\n",
       "    <tr>\n",
       "      <th>40073</th>\n",
       "      <td>0</td>\n",
       "      <td>0</td>\n",
       "      <td>0</td>\n",
       "      <td>0</td>\n",
       "      <td>0</td>\n",
       "      <td>0</td>\n",
       "      <td>0</td>\n",
       "      <td>0</td>\n",
       "      <td>0</td>\n",
       "      <td>0</td>\n",
       "      <td>...</td>\n",
       "      <td>0</td>\n",
       "      <td>0</td>\n",
       "      <td>0</td>\n",
       "      <td>0</td>\n",
       "      <td>0</td>\n",
       "      <td>0</td>\n",
       "      <td>0</td>\n",
       "      <td>0</td>\n",
       "      <td>0</td>\n",
       "      <td>0</td>\n",
       "    </tr>\n",
       "    <tr>\n",
       "      <th>40074</th>\n",
       "      <td>0</td>\n",
       "      <td>0</td>\n",
       "      <td>0</td>\n",
       "      <td>0</td>\n",
       "      <td>0</td>\n",
       "      <td>0</td>\n",
       "      <td>0</td>\n",
       "      <td>0</td>\n",
       "      <td>0</td>\n",
       "      <td>0</td>\n",
       "      <td>...</td>\n",
       "      <td>0</td>\n",
       "      <td>0</td>\n",
       "      <td>0</td>\n",
       "      <td>0</td>\n",
       "      <td>0</td>\n",
       "      <td>0</td>\n",
       "      <td>0</td>\n",
       "      <td>0</td>\n",
       "      <td>0</td>\n",
       "      <td>0</td>\n",
       "    </tr>\n",
       "    <tr>\n",
       "      <th>40075</th>\n",
       "      <td>0</td>\n",
       "      <td>0</td>\n",
       "      <td>0</td>\n",
       "      <td>0</td>\n",
       "      <td>0</td>\n",
       "      <td>0</td>\n",
       "      <td>0</td>\n",
       "      <td>0</td>\n",
       "      <td>0</td>\n",
       "      <td>0</td>\n",
       "      <td>...</td>\n",
       "      <td>0</td>\n",
       "      <td>0</td>\n",
       "      <td>0</td>\n",
       "      <td>0</td>\n",
       "      <td>0</td>\n",
       "      <td>0</td>\n",
       "      <td>0</td>\n",
       "      <td>0</td>\n",
       "      <td>0</td>\n",
       "      <td>0</td>\n",
       "    </tr>\n",
       "  </tbody>\n",
       "</table>\n",
       "<p>40076 rows × 6151 columns</p>\n",
       "</div>"
      ],
      "text/plain": [
       "       and you will  will be a  be a dancer  but i dont  i dont think  \\\n",
       "0                 1          0            0           0             0   \n",
       "1                 0          0            0           0             0   \n",
       "2                 0          0            0           0             0   \n",
       "3                 0          0            0           0             0   \n",
       "4                 0          0            0           0             0   \n",
       "...             ...        ...          ...         ...           ...   \n",
       "40071             0          0            0           0             0   \n",
       "40072             0          0            0           0             0   \n",
       "40073             0          0            0           0             0   \n",
       "40074             0          0            0           0             0   \n",
       "40075             0          0            0           0             0   \n",
       "\n",
       "       think it would  whats the matter  the matter with  with you homer  \\\n",
       "0                   0                 0                0               0   \n",
       "1                   0                 0                0               0   \n",
       "2                   0                 0                0               0   \n",
       "3                   1                 0                0               0   \n",
       "4                   0                 1                1               1   \n",
       "...               ...               ...              ...             ...   \n",
       "40071               0                 0                0               0   \n",
       "40072               0                 0                0               0   \n",
       "40073               0                 0                0               0   \n",
       "40074               0                 0                0               0   \n",
       "40075               0                 0                0               0   \n",
       "\n",
       "       we dont have  ...  all a part  were number one  old folks home  \\\n",
       "0                 0  ...           0                0               0   \n",
       "1                 0  ...           0                0               0   \n",
       "2                 0  ...           0                0               0   \n",
       "3                 0  ...           0                0               0   \n",
       "4                 1  ...           0                0               0   \n",
       "...             ...  ...         ...              ...             ...   \n",
       "40071             0  ...           0                0               0   \n",
       "40072             0  ...           0                0               0   \n",
       "40073             0  ...           0                0               0   \n",
       "40074             0  ...           0                0               0   \n",
       "40075             0  ...           0                0               0   \n",
       "\n",
       "       cheated cheated cheated  shoo shoo shoo  me about the  me i got  \\\n",
       "0                            0               0             0         0   \n",
       "1                            0               0             0         0   \n",
       "2                            0               0             0         0   \n",
       "3                            0               0             0         0   \n",
       "4                            0               0             0         0   \n",
       "...                        ...             ...           ...       ...   \n",
       "40071                        0               0             0         0   \n",
       "40072                        0               0             0         0   \n",
       "40073                        0               0             0         0   \n",
       "40074                        0               0             0         0   \n",
       "40075                        0               0             0         0   \n",
       "\n",
       "       gimme the bat  ba ba ba  four score and  \n",
       "0                  0         0               0  \n",
       "1                  0         0               0  \n",
       "2                  0         0               0  \n",
       "3                  0         0               0  \n",
       "4                  0         0               0  \n",
       "...              ...       ...             ...  \n",
       "40071              0         0               0  \n",
       "40072              0         0               0  \n",
       "40073              0         0               0  \n",
       "40074              0         0               0  \n",
       "40075              0         0               0  \n",
       "\n",
       "[40076 rows x 6151 columns]"
      ]
     },
     "execution_count": 40,
     "metadata": {},
     "output_type": "execute_result"
    }
   ],
   "source": [
    "import pandas as pd\n",
    "pd.DataFrame(train_sequences,columns=vectorizer3.get_feature_names())"
   ]
  },
  {
   "cell_type": "markdown",
   "metadata": {
    "colab_type": "text",
    "id": "YMSJiTn3d2qs"
   },
   "source": [
    "### Bigramas\n",
    "Aunque bigrama_limpio ya no tiene ni los tokens con repitencias muy bajas ni muy altas, contiene tokens repetidos, por eso, para el vocabulario de CountVectorizer utilizameros los freqbnew.keys() que contiene los tokens unicos."
   ]
  },
  {
   "cell_type": "code",
   "execution_count": 41,
   "metadata": {
    "colab": {},
    "colab_type": "code",
    "id": "hGVJSHqqd6wK"
   },
   "outputs": [],
   "source": [
    "from sklearn.feature_extraction.text import CountVectorizer\n",
    "\n",
    "vectorizer2 = CountVectorizer(vocabulary=freqbnew.keys(), ngram_range=(2,2))"
   ]
  },
  {
   "cell_type": "code",
   "execution_count": 42,
   "metadata": {
    "colab": {
     "base_uri": "https://localhost:8080/",
     "height": 54
    },
    "colab_type": "code",
    "id": "2O0P6cxyd9QE",
    "outputId": "847d64eb-e543-4ad9-f9b4-8448384f7765"
   },
   "outputs": [
    {
     "data": {
      "text/plain": [
       "<40076x228 sparse matrix of type '<class 'numpy.int64'>'\n",
       "\twith 28002 stored elements in Compressed Sparse Row format>"
      ]
     },
     "execution_count": 42,
     "metadata": {},
     "output_type": "execute_result"
    }
   ],
   "source": [
    "X2 = vectorizer2.fit_transform(train_sentences)\n",
    "X2"
   ]
  },
  {
   "cell_type": "code",
   "execution_count": 43,
   "metadata": {
    "colab": {
     "base_uri": "https://localhost:8080/",
     "height": 202
    },
    "colab_type": "code",
    "id": "Sdhtiwb0d_hS",
    "outputId": "880f712d-ede5-4c78-902b-b19a3f966d46"
   },
   "outputs": [
    {
     "data": {
      "text/plain": [
       "['and you',\n",
       " 'will be',\n",
       " 'be a',\n",
       " 'its a',\n",
       " 'but i',\n",
       " 'dont think',\n",
       " 'with you',\n",
       " 'dont have',\n",
       " 'i want',\n",
       " 'want to']"
      ]
     },
     "execution_count": 43,
     "metadata": {},
     "output_type": "execute_result"
    }
   ],
   "source": [
    "F2 = vectorizer2.get_feature_names() #Mapeo de matriz de índices de enteros a nombres.\n",
    "F2[:10]"
   ]
  },
  {
   "cell_type": "code",
   "execution_count": 44,
   "metadata": {
    "colab": {
     "base_uri": "https://localhost:8080/",
     "height": 35
    },
    "colab_type": "code",
    "id": "gSIEa8d2eByA",
    "outputId": "8975291e-736c-41f9-c4da-19e3559c4657"
   },
   "outputs": [
    {
     "name": "stdout",
     "output_type": "stream",
     "text": [
      "longitud 40076\n"
     ]
    }
   ],
   "source": [
    "train_sequences_b = X2.toarray() #arreglo\n",
    "print(\"longitud\",len(X2.toarray()))"
   ]
  },
  {
   "cell_type": "markdown",
   "metadata": {
    "colab_type": "text",
    "id": "9yHIqW9ieD-3"
   },
   "source": [
    "Como vemos en la tabla, cada fila corresponde a una frase de nuestro __train_sentences__ y cada columna corresponde a un bigrama, por lo tanto la tabla es de (55336 × 319),\n",
    "\n",
    "  - train_sentences: 55336\n",
    "  - Trigramas unicos con sus frecuencias: 319"
   ]
  },
  {
   "cell_type": "code",
   "execution_count": 45,
   "metadata": {
    "colab": {
     "base_uri": "https://localhost:8080/",
     "height": 461
    },
    "colab_type": "code",
    "id": "9StfmyU3eGcC",
    "outputId": "d297f86e-df14-4ad5-a366-c1d591bc4ba5"
   },
   "outputs": [
    {
     "data": {
      "text/html": [
       "<div>\n",
       "<style scoped>\n",
       "    .dataframe tbody tr th:only-of-type {\n",
       "        vertical-align: middle;\n",
       "    }\n",
       "\n",
       "    .dataframe tbody tr th {\n",
       "        vertical-align: top;\n",
       "    }\n",
       "\n",
       "    .dataframe thead th {\n",
       "        text-align: right;\n",
       "    }\n",
       "</style>\n",
       "<table border=\"1\" class=\"dataframe\">\n",
       "  <thead>\n",
       "    <tr style=\"text-align: right;\">\n",
       "      <th></th>\n",
       "      <th>and you</th>\n",
       "      <th>will be</th>\n",
       "      <th>be a</th>\n",
       "      <th>its a</th>\n",
       "      <th>but i</th>\n",
       "      <th>dont think</th>\n",
       "      <th>with you</th>\n",
       "      <th>dont have</th>\n",
       "      <th>i want</th>\n",
       "      <th>want to</th>\n",
       "      <th>...</th>\n",
       "      <th>you dont</th>\n",
       "      <th>to me</th>\n",
       "      <th>of your</th>\n",
       "      <th>the way</th>\n",
       "      <th>at least</th>\n",
       "      <th>is it</th>\n",
       "      <th>way to</th>\n",
       "      <th>to take</th>\n",
       "      <th>you i</th>\n",
       "      <th>and the</th>\n",
       "    </tr>\n",
       "  </thead>\n",
       "  <tbody>\n",
       "    <tr>\n",
       "      <th>0</th>\n",
       "      <td>1</td>\n",
       "      <td>1</td>\n",
       "      <td>0</td>\n",
       "      <td>0</td>\n",
       "      <td>0</td>\n",
       "      <td>0</td>\n",
       "      <td>0</td>\n",
       "      <td>0</td>\n",
       "      <td>0</td>\n",
       "      <td>0</td>\n",
       "      <td>...</td>\n",
       "      <td>0</td>\n",
       "      <td>0</td>\n",
       "      <td>0</td>\n",
       "      <td>0</td>\n",
       "      <td>0</td>\n",
       "      <td>0</td>\n",
       "      <td>0</td>\n",
       "      <td>0</td>\n",
       "      <td>0</td>\n",
       "      <td>0</td>\n",
       "    </tr>\n",
       "    <tr>\n",
       "      <th>1</th>\n",
       "      <td>0</td>\n",
       "      <td>0</td>\n",
       "      <td>0</td>\n",
       "      <td>0</td>\n",
       "      <td>0</td>\n",
       "      <td>0</td>\n",
       "      <td>0</td>\n",
       "      <td>0</td>\n",
       "      <td>0</td>\n",
       "      <td>0</td>\n",
       "      <td>...</td>\n",
       "      <td>0</td>\n",
       "      <td>0</td>\n",
       "      <td>0</td>\n",
       "      <td>0</td>\n",
       "      <td>0</td>\n",
       "      <td>0</td>\n",
       "      <td>0</td>\n",
       "      <td>0</td>\n",
       "      <td>0</td>\n",
       "      <td>0</td>\n",
       "    </tr>\n",
       "    <tr>\n",
       "      <th>2</th>\n",
       "      <td>0</td>\n",
       "      <td>0</td>\n",
       "      <td>0</td>\n",
       "      <td>0</td>\n",
       "      <td>0</td>\n",
       "      <td>0</td>\n",
       "      <td>0</td>\n",
       "      <td>0</td>\n",
       "      <td>0</td>\n",
       "      <td>0</td>\n",
       "      <td>...</td>\n",
       "      <td>0</td>\n",
       "      <td>0</td>\n",
       "      <td>0</td>\n",
       "      <td>0</td>\n",
       "      <td>0</td>\n",
       "      <td>0</td>\n",
       "      <td>0</td>\n",
       "      <td>0</td>\n",
       "      <td>0</td>\n",
       "      <td>0</td>\n",
       "    </tr>\n",
       "    <tr>\n",
       "      <th>3</th>\n",
       "      <td>0</td>\n",
       "      <td>0</td>\n",
       "      <td>0</td>\n",
       "      <td>0</td>\n",
       "      <td>0</td>\n",
       "      <td>1</td>\n",
       "      <td>0</td>\n",
       "      <td>0</td>\n",
       "      <td>0</td>\n",
       "      <td>0</td>\n",
       "      <td>...</td>\n",
       "      <td>0</td>\n",
       "      <td>0</td>\n",
       "      <td>0</td>\n",
       "      <td>0</td>\n",
       "      <td>0</td>\n",
       "      <td>0</td>\n",
       "      <td>0</td>\n",
       "      <td>0</td>\n",
       "      <td>0</td>\n",
       "      <td>0</td>\n",
       "    </tr>\n",
       "    <tr>\n",
       "      <th>4</th>\n",
       "      <td>0</td>\n",
       "      <td>0</td>\n",
       "      <td>0</td>\n",
       "      <td>0</td>\n",
       "      <td>0</td>\n",
       "      <td>0</td>\n",
       "      <td>1</td>\n",
       "      <td>1</td>\n",
       "      <td>0</td>\n",
       "      <td>0</td>\n",
       "      <td>...</td>\n",
       "      <td>0</td>\n",
       "      <td>0</td>\n",
       "      <td>0</td>\n",
       "      <td>0</td>\n",
       "      <td>0</td>\n",
       "      <td>0</td>\n",
       "      <td>0</td>\n",
       "      <td>0</td>\n",
       "      <td>0</td>\n",
       "      <td>0</td>\n",
       "    </tr>\n",
       "    <tr>\n",
       "      <th>...</th>\n",
       "      <td>...</td>\n",
       "      <td>...</td>\n",
       "      <td>...</td>\n",
       "      <td>...</td>\n",
       "      <td>...</td>\n",
       "      <td>...</td>\n",
       "      <td>...</td>\n",
       "      <td>...</td>\n",
       "      <td>...</td>\n",
       "      <td>...</td>\n",
       "      <td>...</td>\n",
       "      <td>...</td>\n",
       "      <td>...</td>\n",
       "      <td>...</td>\n",
       "      <td>...</td>\n",
       "      <td>...</td>\n",
       "      <td>...</td>\n",
       "      <td>...</td>\n",
       "      <td>...</td>\n",
       "      <td>...</td>\n",
       "      <td>...</td>\n",
       "    </tr>\n",
       "    <tr>\n",
       "      <th>40071</th>\n",
       "      <td>0</td>\n",
       "      <td>0</td>\n",
       "      <td>0</td>\n",
       "      <td>0</td>\n",
       "      <td>0</td>\n",
       "      <td>0</td>\n",
       "      <td>0</td>\n",
       "      <td>0</td>\n",
       "      <td>0</td>\n",
       "      <td>0</td>\n",
       "      <td>...</td>\n",
       "      <td>0</td>\n",
       "      <td>0</td>\n",
       "      <td>0</td>\n",
       "      <td>0</td>\n",
       "      <td>0</td>\n",
       "      <td>0</td>\n",
       "      <td>0</td>\n",
       "      <td>0</td>\n",
       "      <td>0</td>\n",
       "      <td>0</td>\n",
       "    </tr>\n",
       "    <tr>\n",
       "      <th>40072</th>\n",
       "      <td>0</td>\n",
       "      <td>0</td>\n",
       "      <td>0</td>\n",
       "      <td>0</td>\n",
       "      <td>0</td>\n",
       "      <td>0</td>\n",
       "      <td>0</td>\n",
       "      <td>0</td>\n",
       "      <td>0</td>\n",
       "      <td>0</td>\n",
       "      <td>...</td>\n",
       "      <td>0</td>\n",
       "      <td>0</td>\n",
       "      <td>0</td>\n",
       "      <td>0</td>\n",
       "      <td>0</td>\n",
       "      <td>0</td>\n",
       "      <td>0</td>\n",
       "      <td>0</td>\n",
       "      <td>0</td>\n",
       "      <td>0</td>\n",
       "    </tr>\n",
       "    <tr>\n",
       "      <th>40073</th>\n",
       "      <td>0</td>\n",
       "      <td>0</td>\n",
       "      <td>0</td>\n",
       "      <td>0</td>\n",
       "      <td>0</td>\n",
       "      <td>1</td>\n",
       "      <td>0</td>\n",
       "      <td>0</td>\n",
       "      <td>0</td>\n",
       "      <td>0</td>\n",
       "      <td>...</td>\n",
       "      <td>0</td>\n",
       "      <td>0</td>\n",
       "      <td>0</td>\n",
       "      <td>0</td>\n",
       "      <td>0</td>\n",
       "      <td>0</td>\n",
       "      <td>0</td>\n",
       "      <td>0</td>\n",
       "      <td>0</td>\n",
       "      <td>0</td>\n",
       "    </tr>\n",
       "    <tr>\n",
       "      <th>40074</th>\n",
       "      <td>0</td>\n",
       "      <td>0</td>\n",
       "      <td>0</td>\n",
       "      <td>0</td>\n",
       "      <td>0</td>\n",
       "      <td>0</td>\n",
       "      <td>0</td>\n",
       "      <td>0</td>\n",
       "      <td>0</td>\n",
       "      <td>0</td>\n",
       "      <td>...</td>\n",
       "      <td>0</td>\n",
       "      <td>0</td>\n",
       "      <td>0</td>\n",
       "      <td>0</td>\n",
       "      <td>0</td>\n",
       "      <td>0</td>\n",
       "      <td>0</td>\n",
       "      <td>0</td>\n",
       "      <td>0</td>\n",
       "      <td>0</td>\n",
       "    </tr>\n",
       "    <tr>\n",
       "      <th>40075</th>\n",
       "      <td>0</td>\n",
       "      <td>0</td>\n",
       "      <td>0</td>\n",
       "      <td>0</td>\n",
       "      <td>0</td>\n",
       "      <td>0</td>\n",
       "      <td>0</td>\n",
       "      <td>0</td>\n",
       "      <td>0</td>\n",
       "      <td>0</td>\n",
       "      <td>...</td>\n",
       "      <td>0</td>\n",
       "      <td>0</td>\n",
       "      <td>0</td>\n",
       "      <td>0</td>\n",
       "      <td>0</td>\n",
       "      <td>0</td>\n",
       "      <td>0</td>\n",
       "      <td>0</td>\n",
       "      <td>0</td>\n",
       "      <td>0</td>\n",
       "    </tr>\n",
       "  </tbody>\n",
       "</table>\n",
       "<p>40076 rows × 228 columns</p>\n",
       "</div>"
      ],
      "text/plain": [
       "       and you  will be  be a  its a  but i  dont think  with you  dont have  \\\n",
       "0            1        1     0      0      0           0         0          0   \n",
       "1            0        0     0      0      0           0         0          0   \n",
       "2            0        0     0      0      0           0         0          0   \n",
       "3            0        0     0      0      0           1         0          0   \n",
       "4            0        0     0      0      0           0         1          1   \n",
       "...        ...      ...   ...    ...    ...         ...       ...        ...   \n",
       "40071        0        0     0      0      0           0         0          0   \n",
       "40072        0        0     0      0      0           0         0          0   \n",
       "40073        0        0     0      0      0           1         0          0   \n",
       "40074        0        0     0      0      0           0         0          0   \n",
       "40075        0        0     0      0      0           0         0          0   \n",
       "\n",
       "       i want  want to  ...  you dont  to me  of your  the way  at least  \\\n",
       "0           0        0  ...         0      0        0        0         0   \n",
       "1           0        0  ...         0      0        0        0         0   \n",
       "2           0        0  ...         0      0        0        0         0   \n",
       "3           0        0  ...         0      0        0        0         0   \n",
       "4           0        0  ...         0      0        0        0         0   \n",
       "...       ...      ...  ...       ...    ...      ...      ...       ...   \n",
       "40071       0        0  ...         0      0        0        0         0   \n",
       "40072       0        0  ...         0      0        0        0         0   \n",
       "40073       0        0  ...         0      0        0        0         0   \n",
       "40074       0        0  ...         0      0        0        0         0   \n",
       "40075       0        0  ...         0      0        0        0         0   \n",
       "\n",
       "       is it  way to  to take  you i  and the  \n",
       "0          0       0        0      0        0  \n",
       "1          0       0        0      0        0  \n",
       "2          0       0        0      0        0  \n",
       "3          0       0        0      0        0  \n",
       "4          0       0        0      0        0  \n",
       "...      ...     ...      ...    ...      ...  \n",
       "40071      0       0        0      0        0  \n",
       "40072      0       0        0      0        0  \n",
       "40073      0       0        0      0        0  \n",
       "40074      0       0        0      0        0  \n",
       "40075      0       0        0      0        0  \n",
       "\n",
       "[40076 rows x 228 columns]"
      ]
     },
     "execution_count": 45,
     "metadata": {},
     "output_type": "execute_result"
    }
   ],
   "source": [
    "import pandas as pd\n",
    "pd.DataFrame(train_sequences_b,columns=vectorizer2.get_feature_names())"
   ]
  },
  {
   "cell_type": "markdown",
   "metadata": {
    "colab_type": "text",
    "id": "6cKN1-VTnC6s"
   },
   "source": [
    "# Datos Entrenamiento\n",
    "### Juntamos los bigramas y trigramas\n",
    "Como cada fila corresponde a una frase de nuestro __train_sentences__ y cada columna corresponde a los bigramas y trigramas, nuestra tabla es de (55336 × 9042) donde:\n",
    "\n",
    "  - train_sentences: 55336\n",
    "  - Trigramas unicos con sus frecuencias(8616) + bigramas unicos con sus frecuencias(319):  8935"
   ]
  },
  {
   "cell_type": "code",
   "execution_count": 46,
   "metadata": {
    "colab": {
     "base_uri": "https://localhost:8080/",
     "height": 35
    },
    "colab_type": "code",
    "id": "a-xqhFWasSfY",
    "outputId": "9d63c6d2-f413-4407-d080-0ed80729669d"
   },
   "outputs": [
    {
     "name": "stdout",
     "output_type": "stream",
     "text": [
      "Trigramas recortados unicos + Bigramas recortador unicos: 6379\n"
     ]
    }
   ],
   "source": [
    "print(\"Trigramas recortados unicos + Bigramas recortador unicos:\", len(freqnew)+len(freqbnew))"
   ]
  },
  {
   "cell_type": "code",
   "execution_count": 47,
   "metadata": {
    "colab": {
     "base_uri": "https://localhost:8080/",
     "height": 35
    },
    "colab_type": "code",
    "id": "iBnuvGpinBxs",
    "outputId": "87522357-d58e-4b2d-b889-4f085f73e186"
   },
   "outputs": [
    {
     "data": {
      "text/plain": [
       "numpy.ndarray"
      ]
     },
     "execution_count": 47,
     "metadata": {},
     "output_type": "execute_result"
    }
   ],
   "source": [
    "train_sequences_bt = np.concatenate((train_sequences, train_sequences_b), axis=1)\n",
    "#tamaño de los datos\n",
    "type(train_sequences_bt)"
   ]
  },
  {
   "cell_type": "code",
   "execution_count": 48,
   "metadata": {
    "colab": {
     "base_uri": "https://localhost:8080/",
     "height": 109
    },
    "colab_type": "code",
    "id": "eQqt5n6xAyAY",
    "outputId": "b0779195-798e-43eb-e063-cf9d054e6d6e"
   },
   "outputs": [
    {
     "data": {
      "text/plain": [
       "array([[1, 0, 0, ..., 0, 0, 0],\n",
       "       [0, 0, 0, ..., 0, 0, 0],\n",
       "       [0, 0, 0, ..., 0, 0, 0],\n",
       "       [0, 0, 0, ..., 0, 0, 0],\n",
       "       [0, 0, 0, ..., 0, 0, 0]])"
      ]
     },
     "execution_count": 48,
     "metadata": {},
     "output_type": "execute_result"
    }
   ],
   "source": [
    "train_sequences_bt[:5]"
   ]
  },
  {
   "cell_type": "code",
   "execution_count": 49,
   "metadata": {
    "colab": {},
    "colab_type": "code",
    "id": "btUUw9jMkzpP"
   },
   "outputs": [],
   "source": [
    "train_sequences_bt_new = []\n",
    "train_labels_new = []\n",
    "for i in range(0,len(train_sequences_bt)):\n",
    "  if sum(train_sequences_bt[i,]) != 0:\n",
    "    train_labels_new.append(train_labels[i])\n",
    "    train_sequences_bt_new.append(train_sequences_bt[i,])\n",
    "\n",
    "train_sequences_bt = np.array(train_sequences_bt_new)"
   ]
  },
  {
   "cell_type": "code",
   "execution_count": 50,
   "metadata": {
    "colab": {
     "base_uri": "https://localhost:8080/",
     "height": 54
    },
    "colab_type": "code",
    "id": "mkDKLkp6mx3K",
    "outputId": "e69d2631-bfc6-4357-dfa7-07b34758dedd"
   },
   "outputs": [
    {
     "name": "stdout",
     "output_type": "stream",
     "text": [
      "train_sequences_bt (21025, 6379)\n",
      "train_labels (21025,)\n"
     ]
    }
   ],
   "source": [
    "train_labels = train_labels_new\n",
    "print(\"train_sequences_bt\",np.shape(train_sequences_bt))\n",
    "print(\"train_labels\",np.shape(train_labels))"
   ]
  },
  {
   "cell_type": "markdown",
   "metadata": {
    "colab_type": "text",
    "id": "nr04X0P0rp0Q"
   },
   "source": [
    "# Datos Validacion\n",
    "### Trigramas\n",
    "Las columnas deben coincidir con los trigramas unicos (8616)."
   ]
  },
  {
   "cell_type": "code",
   "execution_count": 51,
   "metadata": {
    "colab": {
     "base_uri": "https://localhost:8080/",
     "height": 35
    },
    "colab_type": "code",
    "id": "BmgFbKgMr4fg",
    "outputId": "8941ccba-3293-4c58-85d9-e3a1f647a59c"
   },
   "outputs": [
    {
     "name": "stdout",
     "output_type": "stream",
     "text": [
      "shape (10019, 6151)\n"
     ]
    }
   ],
   "source": [
    "X6 = vectorizer3.fit_transform(validation_sentences)\n",
    "validation_sequences = X6.toarray() #arreglo\n",
    "print(\"shape\",X6.toarray().shape)"
   ]
  },
  {
   "cell_type": "markdown",
   "metadata": {
    "colab_type": "text",
    "id": "3tX9na-BsFQ-"
   },
   "source": [
    "### Bigramas\n",
    "Las columnas deben coincidir con los bigramas unicos (319)."
   ]
  },
  {
   "cell_type": "code",
   "execution_count": 52,
   "metadata": {
    "colab": {
     "base_uri": "https://localhost:8080/",
     "height": 35
    },
    "colab_type": "code",
    "id": "pAIsfbObsHUs",
    "outputId": "1ab49383-72a0-4d96-9c72-ad6bb448972c"
   },
   "outputs": [
    {
     "name": "stdout",
     "output_type": "stream",
     "text": [
      "shape: (10019, 228)\n"
     ]
    }
   ],
   "source": [
    "X4 = vectorizer2.fit_transform(validation_sentences)\n",
    "validation_sequences_b = X4.toarray() #arreglo\n",
    "print(\"shape:\",X4.toarray().shape)"
   ]
  },
  {
   "cell_type": "markdown",
   "metadata": {
    "colab_type": "text",
    "id": "IBUj4h2JtjnP"
   },
   "source": [
    "### Juntamos trigramas y bigramas\n",
    "Vemos que las filas coinciden con numero de frases para validacion y que el numero de columnas (bigramas + trigramas) coindide con el numero de columnas de los datos de entrenamiento,\n",
    "\n",
    "- train_sentences: 13835\n",
    "- Trigramas unicos con sus frecuencias(8616) + bigramas unicos con sus frecuencias(319): 8935\n"
   ]
  },
  {
   "cell_type": "code",
   "execution_count": 53,
   "metadata": {
    "colab": {
     "base_uri": "https://localhost:8080/",
     "height": 35
    },
    "colab_type": "code",
    "id": "40i3PdfgtiyT",
    "outputId": "c14f0e5d-0c35-4dc3-ea26-ecf79177935b"
   },
   "outputs": [
    {
     "data": {
      "text/plain": [
       "(10019, 6379)"
      ]
     },
     "execution_count": 53,
     "metadata": {},
     "output_type": "execute_result"
    }
   ],
   "source": [
    "validation_sequences_bt = np.concatenate((validation_sequences, validation_sequences_b), axis=1)\n",
    "#tamaño de los datos\n",
    "validation_sequences_bt.shape"
   ]
  },
  {
   "cell_type": "code",
   "execution_count": 54,
   "metadata": {
    "colab": {},
    "colab_type": "code",
    "id": "p-WuzccgqiL1"
   },
   "outputs": [],
   "source": [
    "validation_sequences_bt_new = []\n",
    "validation_labels_new = []\n",
    "for i in range(0,len(validation_sequences_bt)):\n",
    "  if sum(validation_sequences_bt[i,]) != 0:\n",
    "    validation_labels_new.append(validation_labels[i])\n",
    "    validation_sequences_bt_new.append(validation_sequences_bt[i,])\n",
    "\n",
    "validation_sequences_bt = np.array(validation_sequences_bt_new)"
   ]
  },
  {
   "cell_type": "code",
   "execution_count": 55,
   "metadata": {
    "colab": {
     "base_uri": "https://localhost:8080/",
     "height": 54
    },
    "colab_type": "code",
    "id": "VBq6KP7Xq7qt",
    "outputId": "6943d73a-43bd-43ee-ec19-0de2ef4fb6f1"
   },
   "outputs": [
    {
     "name": "stdout",
     "output_type": "stream",
     "text": [
      "(4879, 6379)\n",
      "(4879,)\n"
     ]
    }
   ],
   "source": [
    "validation_labels = validation_labels_new\n",
    "print(np.shape(validation_sequences_bt))\n",
    "print(np.shape(validation_labels))"
   ]
  },
  {
   "cell_type": "markdown",
   "metadata": {
    "colab_type": "text",
    "id": "b7Un8Lnw2th5"
   },
   "source": [
    "# Labels\n",
    "### Entrenamiento"
   ]
  },
  {
   "cell_type": "code",
   "execution_count": 56,
   "metadata": {
    "colab": {
     "base_uri": "https://localhost:8080/",
     "height": 35
    },
    "colab_type": "code",
    "id": "fJgRbKE1OIkU",
    "outputId": "75f746f6-1d34-4143-a117-acd0b25bac4f"
   },
   "outputs": [
    {
     "name": "stdout",
     "output_type": "stream",
     "text": [
      "21025\n"
     ]
    }
   ],
   "source": [
    "label_size = 4\n",
    "label_tokenizer = Tokenizer(num_words = label_size,oov_token=oov_tok, filters = '')\n",
    "label_tokenizer.fit_on_texts(train_labels)\n",
    "\n",
    "label_seq = np.array(label_tokenizer.texts_to_sequences(train_labels))\n",
    "training_label_seq = np.array(label_tokenizer.texts_to_sequences(train_labels))\n",
    "\n",
    "# flatten the nested list and tranaform to an np array\n",
    "label_seq = np.array([item for items in label_seq for item in items])\n",
    "training_label_seq = np.array([item for items in training_label_seq for item in items])\n",
    "training_label_seq[:5]\n",
    "print(len(training_label_seq))"
   ]
  },
  {
   "cell_type": "code",
   "execution_count": 57,
   "metadata": {
    "colab": {},
    "colab_type": "code",
    "id": "TXj17DMDOf_8"
   },
   "outputs": [],
   "source": [
    "#Creamos etiquetas numericas\n",
    "encoder = LabelEncoder()\n",
    "\n",
    "encoder.fit(label_seq)\n",
    "train_labels = encoder.transform(training_label_seq)"
   ]
  },
  {
   "cell_type": "code",
   "execution_count": 58,
   "metadata": {
    "colab": {},
    "colab_type": "code",
    "id": "ynKVnhnOPAkH"
   },
   "outputs": [],
   "source": [
    "# Codificación One-Hot \n",
    "num_classes = label_size\n",
    "train_labels_codf = tf.keras.utils.to_categorical(train_labels, num_classes)"
   ]
  },
  {
   "cell_type": "code",
   "execution_count": 59,
   "metadata": {
    "colab": {
     "base_uri": "https://localhost:8080/",
     "height": 35
    },
    "colab_type": "code",
    "id": "0I_CfBQOS2Sm",
    "outputId": "8e67f1e1-352f-43a9-e90d-9d0b992c08b2"
   },
   "outputs": [
    {
     "data": {
      "text/plain": [
       "21025"
      ]
     },
     "execution_count": 59,
     "metadata": {},
     "output_type": "execute_result"
    }
   ],
   "source": [
    "len(train_labels_codf)"
   ]
  },
  {
   "cell_type": "code",
   "execution_count": 60,
   "metadata": {
    "colab": {
     "base_uri": "https://localhost:8080/",
     "height": 146
    },
    "colab_type": "code",
    "id": "U4g1VnJ3rti8",
    "outputId": "3baafa44-7404-423f-9e8d-90f7fbae7e0c"
   },
   "outputs": [
    {
     "name": "stdout",
     "output_type": "stream",
     "text": [
      "[[0. 1. 0. 0.]\n",
      " [0. 1. 0. 0.]\n",
      " [0. 1. 0. 0.]\n",
      " ...\n",
      " [0. 1. 0. 0.]\n",
      " [0. 0. 1. 0.]\n",
      " [0. 0. 1. 0.]]\n"
     ]
    }
   ],
   "source": [
    "print(train_labels_codf)"
   ]
  },
  {
   "cell_type": "markdown",
   "metadata": {
    "colab_type": "text",
    "id": "Ps043ZX65kXS"
   },
   "source": [
    "### Validacion "
   ]
  },
  {
   "cell_type": "code",
   "execution_count": 61,
   "metadata": {
    "colab": {
     "base_uri": "https://localhost:8080/",
     "height": 35
    },
    "colab_type": "code",
    "id": "W-1pVv6SMqUk",
    "outputId": "9774f2bc-6525-464d-d7c8-88b586b359c7"
   },
   "outputs": [
    {
     "name": "stdout",
     "output_type": "stream",
     "text": [
      "4879\n"
     ]
    }
   ],
   "source": [
    "label_size = 4\n",
    "label_tokenizer = Tokenizer(num_words = label_size,oov_token=oov_tok, filters = '')\n",
    "label_tokenizer.fit_on_texts(validation_labels)\n",
    "label_seq = np.array(label_tokenizer.texts_to_sequences(validation_labels))\n",
    "validation_label_seq = np.array(label_tokenizer.texts_to_sequences(validation_labels))\n",
    "\n",
    "# flatten the nested list and tranaform to an np array\n",
    "label_seq = np.array([item for items in label_seq for item in items])\n",
    "validation_label_seq = np.array([item for items in validation_label_seq for item in items])\n",
    "validation_label_seq\n",
    "print(len(validation_label_seq))"
   ]
  },
  {
   "cell_type": "code",
   "execution_count": 62,
   "metadata": {
    "colab": {},
    "colab_type": "code",
    "id": "__aVt_doQ7AV"
   },
   "outputs": [],
   "source": [
    "#Creamos etiquetas numericas\n",
    "encoder = LabelEncoder()\n",
    "\n",
    "encoder.fit(label_seq)\n",
    "validation_labels = encoder.transform(validation_label_seq)\n",
    "num_classes = 4"
   ]
  },
  {
   "cell_type": "code",
   "execution_count": 63,
   "metadata": {
    "colab": {},
    "colab_type": "code",
    "id": "Ff6QM8gqSIA4"
   },
   "outputs": [],
   "source": [
    "# Codificación One-Hot \n",
    "validation_labels_codf = tf.keras.utils.to_categorical(validation_labels, num_classes)"
   ]
  },
  {
   "cell_type": "code",
   "execution_count": 64,
   "metadata": {
    "colab": {
     "base_uri": "https://localhost:8080/",
     "height": 35
    },
    "colab_type": "code",
    "id": "e75A24MySnRs",
    "outputId": "457f66b3-a99a-497e-943a-b42e5749f90c"
   },
   "outputs": [
    {
     "data": {
      "text/plain": [
       "4879"
      ]
     },
     "execution_count": 64,
     "metadata": {},
     "output_type": "execute_result"
    }
   ],
   "source": [
    "len(validation_labels_codf)"
   ]
  },
  {
   "cell_type": "code",
   "execution_count": 65,
   "metadata": {
    "colab": {
     "base_uri": "https://localhost:8080/",
     "height": 146
    },
    "colab_type": "code",
    "id": "vM2XQVxisGoB",
    "outputId": "d8d68a23-4ad8-460e-c1b6-7be5e6c97719"
   },
   "outputs": [
    {
     "name": "stdout",
     "output_type": "stream",
     "text": [
      "[[0. 0. 1. 0.]\n",
      " [0. 0. 1. 0.]\n",
      " [0. 1. 0. 0.]\n",
      " ...\n",
      " [0. 1. 0. 0.]\n",
      " [0. 1. 0. 0.]\n",
      " [1. 0. 0. 0.]]\n"
     ]
    }
   ],
   "source": [
    "print(validation_labels_codf)"
   ]
  },
  {
   "cell_type": "markdown",
   "metadata": {
    "colab_type": "text",
    "id": "NLIYKXgN-fFQ"
   },
   "source": [
    "# Dividimos test y validación\n",
    "Recordemos que el grupo de validacion (tanto las frases como los labels) que se ha tenido hasta ahora es el 20% de los datos iniciales, dividiremos este grupo es dos para tomar el 10% del total de los datos iniciales para la validacion interna y el otro 10% para la valicacion externa. Ademas tenga en cuenta que los porcentajes de datos son __aproximados__ debido a la transformacion y limpieza de los datos que se ha hecho.\n",
    "\n",
    "Tomamos primero los datos de test(validacion externa) y luego los de validacion interna(validation_sequences_bt) porque renombraremos esa variable con el porcentaje de datos especificado arriba."
   ]
  },
  {
   "cell_type": "code",
   "execution_count": 66,
   "metadata": {
    "colab": {},
    "colab_type": "code",
    "id": "0mhGgkoG9d9z"
   },
   "outputs": [],
   "source": [
    "validation_portion = 0.5\n",
    "validation_size = int(len(validation_sequences_bt) * validation_portion)\n",
    "validation_size # 10% del total\n",
    "\n",
    "test_sequences_bt = validation_sequences_bt[validation_size:] # Frases de test\n",
    "test_labels_codf = validation_labels_codf[validation_size:] # Etiquetas de test\n",
    "\n",
    "validation_sequences_bt = validation_sequences_bt[:validation_size] # Frases de validacion \n",
    "validation_labels_codf = validation_labels_codf[:validation_size] # Etiquetas de validacion"
   ]
  },
  {
   "cell_type": "code",
   "execution_count": 67,
   "metadata": {
    "colab": {
     "base_uri": "https://localhost:8080/",
     "height": 91
    },
    "colab_type": "code",
    "id": "HbS1oTskz7vO",
    "outputId": "98d393eb-4841-4d68-b072-29b1a1f5fc79"
   },
   "outputs": [
    {
     "name": "stdout",
     "output_type": "stream",
     "text": [
      "validation_sequences_bt (2439, 6379)\n",
      "validation_labels_codf (2439, 4)\n",
      "test_sequences_bt (2440, 6379)\n",
      "test_labels_codf (2440, 4)\n"
     ]
    }
   ],
   "source": [
    "#verificacion de tamaños\n",
    "print(\"validation_sequences_bt\",validation_sequences_bt.shape) #validacion interna\n",
    "print(\"validation_labels_codf\",validation_labels_codf.shape)\n",
    "print(\"test_sequences_bt\",test_sequences_bt.shape) #validacion externa\n",
    "print(\"test_labels_codf\",test_labels_codf.shape)"
   ]
  },
  {
   "cell_type": "markdown",
   "metadata": {
    "colab_type": "text",
    "id": "Q3FKjA0CTfPV"
   },
   "source": [
    "# Construccion del Modelo"
   ]
  },
  {
   "cell_type": "code",
   "execution_count": 68,
   "metadata": {
    "colab": {
     "base_uri": "https://localhost:8080/",
     "height": 229
    },
    "colab_type": "code",
    "id": "yUqvvgkXtLPN",
    "outputId": "412de39c-54fd-46ef-88fa-29e1f03e92c9"
   },
   "outputs": [
    {
     "name": "stdout",
     "output_type": "stream",
     "text": [
      "num_frases_training 21025\n",
      "num_ngrams: 6379\n"
     ]
    }
   ],
   "source": [
    "num_frases_training, num_ngrams, = np.shape(train_sequences_bt)\n",
    "\n",
    "print(\"num_frases_training\", num_frases_training) #se espera 29397\n",
    "print(\"num_ngrams:\", num_ngrams) #se espera 8935"
   ]
  },
  {
   "cell_type": "code",
   "execution_count": 69,
   "metadata": {
    "colab": {},
    "colab_type": "code",
    "id": "6AGXIMAg32Ku"
   },
   "outputs": [],
   "source": [
    "callback = tf.keras.callbacks.EarlyStopping(\n",
    "    monitor='val_accuracy', patience=10\n",
    "    )\n",
    "# This callback will stop the training when there is no improvement in\n",
    "# the validation loss for three consecutive epochs."
   ]
  },
  {
   "cell_type": "code",
   "execution_count": 70,
   "metadata": {
    "colab": {
     "base_uri": "https://localhost:8080/",
     "height": 461
    },
    "colab_type": "code",
    "id": "Zf_uFWIKT-pn",
    "outputId": "6b4c50fa-41af-43a8-8d3d-0734b98a205c"
   },
   "outputs": [
    {
     "name": "stdout",
     "output_type": "stream",
     "text": [
      "Model: \"sequential\"\n",
      "_________________________________________________________________\n",
      "Layer (type)                 Output Shape              Param #   \n",
      "=================================================================\n",
      "dense (Dense)                (None, 4521)              28843980  \n",
      "_________________________________________________________________\n",
      "dropout (Dropout)            (None, 4521)              0         \n",
      "_________________________________________________________________\n",
      "dense_1 (Dense)              (None, 2261)              10224242  \n",
      "_________________________________________________________________\n",
      "dense_2 (Dense)              (None, 4)                 9048      \n",
      "=================================================================\n",
      "Total params: 39,077,270\n",
      "Trainable params: 39,077,270\n",
      "Non-trainable params: 0\n",
      "_________________________________________________________________\n"
     ]
    }
   ],
   "source": [
    "model = tf.keras.Sequential([\n",
    "    tf.keras.layers.Dense(4521, activation='relu', input_shape=(num_ngrams,)),\n",
    "    tf.keras.layers.Dropout(0.1),\n",
    "    tf.keras.layers.Dense(2261, activation='relu',\n",
    "                         activity_regularizer=tf.keras.regularizers.l2(1e-4)),\n",
    "    tf.keras.layers.Dense(4, activation='softmax')\n",
    "])\n",
    "model.compile(loss='categorical_crossentropy',optimizer='adam',metrics=['accuracy'])\n",
    "model.summary()"
   ]
  },
  {
   "cell_type": "markdown",
   "metadata": {
    "colab_type": "text",
    "id": "MOU3hgTnUjqg"
   },
   "source": [
    "# Entrenamiento del modelo\n",
    "\n",
    "|dropout|F. de activación| dense |loss_train |accuracy_train |loss_validation |accuracy_validation |Ephoc|\n",
    "|:---:|:---:|:---:|:---:|:---:|:---:|:---:|:---:|\n",
    "|4|tanh(1),relu(3)|5|0.7715|0.6028|1.2662|0.4657|7|\n",
    "|4|tanh(4),relu(1)|6|0.9419|0.5285|1.1128|0.4241|6|\n",
    "|5|tanh(2),relu(3)|6|0.7683|0.6877|1.7956|0.4490|10|\n",
    "|5|tanh(0),relu(5)|6|0.4636|0.7820|2.1792|0.4489|10|\n",
    "|4|tanh(0),relu(5)|6|0.5599|0.7633|1.7796|0.4444|7|\n",
    "|3|tanh(3),relu(2)|6|0.5243|0.7608|2.0161|0.4381|9|\n",
    "|4|tanh(5),relu(1)|7|0.9163|0.6148|1.3061|0.4359|5|\n",
    "|4|tanh(5),relu(1)|7|1.0490|0.5492|1.1830|0.4670|5|\n",
    "|4|tanh(1),relu(4)|7|0.9413|0.5382|1.0868 |0.4551|8|\n",
    "|6|tanh(0),relu(7)|8|0.7479|0.6439|1.3333 |0.4498|6|\n",
    "|1|tanh(0),relu(2)|3|0.5127|0.7513|1.7194 |0.4567|6|\n"
   ]
  },
  {
   "cell_type": "code",
   "execution_count": 71,
   "metadata": {
    "colab": {
     "base_uri": "https://localhost:8080/",
     "height": 421
    },
    "colab_type": "code",
    "id": "NNugayIpUhLE",
    "outputId": "9db9a786-18f4-4db3-b4d6-23f7a29abefd"
   },
   "outputs": [
    {
     "name": "stdout",
     "output_type": "stream",
     "text": [
      "Train on 21025 samples, validate on 2439 samples\n",
      "Epoch 1/10\n",
      "21025/21025 [==============================] - 157s 7ms/sample - loss: 1.0597 - accuracy: 0.4613 - val_loss: 1.0185 - val_accuracy: 0.4850\n",
      "Epoch 2/10\n",
      "21025/21025 [==============================] - 160s 8ms/sample - loss: 0.8994 - accuracy: 0.5707 - val_loss: 1.0548 - val_accuracy: 0.4682\n",
      "Epoch 3/10\n",
      "21025/21025 [==============================] - 150s 7ms/sample - loss: 0.7591 - accuracy: 0.6396 - val_loss: 1.1614 - val_accuracy: 0.4752\n",
      "Epoch 4/10\n",
      "21025/21025 [==============================] - 155s 7ms/sample - loss: 0.6477 - accuracy: 0.6987 - val_loss: 1.3363 - val_accuracy: 0.4625\n",
      "Epoch 5/10\n",
      "21025/21025 [==============================] - 151s 7ms/sample - loss: 0.5697 - accuracy: 0.7289 - val_loss: 1.4911 - val_accuracy: 0.4662\n",
      "Epoch 6/10\n",
      "21025/21025 [==============================] - 151s 7ms/sample - loss: 0.5127 - accuracy: 0.7513 - val_loss: 1.7194 - val_accuracy: 0.4567\n",
      "Epoch 7/10\n",
      "18000/21025 [========================>.....] - ETA: 21s - loss: 0.4741 - accuracy: 0.7649WARNING:tensorflow:Early stopping conditioned on metric `val_accuracy` which is not available. Available metrics are: loss,accuracy\n"
     ]
    },
    {
     "ename": "KeyboardInterrupt",
     "evalue": "",
     "output_type": "error",
     "traceback": [
      "\u001b[0;31m---------------------------------------------------------------------------\u001b[0m",
      "\u001b[0;31mKeyboardInterrupt\u001b[0m                         Traceback (most recent call last)",
      "\u001b[0;32m<ipython-input-71-213db85a999d>\u001b[0m in \u001b[0;36m<module>\u001b[0;34m\u001b[0m\n\u001b[1;32m      1\u001b[0m \u001b[0mnum_epochs\u001b[0m \u001b[0;34m=\u001b[0m \u001b[0;36m10\u001b[0m\u001b[0;34m\u001b[0m\u001b[0;34m\u001b[0m\u001b[0m\n\u001b[0;32m----> 2\u001b[0;31m \u001b[0mhistory\u001b[0m \u001b[0;34m=\u001b[0m \u001b[0mmodel\u001b[0m\u001b[0;34m.\u001b[0m\u001b[0mfit\u001b[0m\u001b[0;34m(\u001b[0m\u001b[0mtrain_sequences_bt\u001b[0m\u001b[0;34m,\u001b[0m \u001b[0mtrain_labels_codf\u001b[0m\u001b[0;34m,\u001b[0m \u001b[0mepochs\u001b[0m\u001b[0;34m=\u001b[0m\u001b[0mnum_epochs\u001b[0m\u001b[0;34m,\u001b[0m \u001b[0mvalidation_data\u001b[0m\u001b[0;34m=\u001b[0m\u001b[0;34m(\u001b[0m\u001b[0mvalidation_sequences_bt\u001b[0m\u001b[0;34m,\u001b[0m\u001b[0mvalidation_labels_codf\u001b[0m\u001b[0;34m)\u001b[0m\u001b[0;34m,\u001b[0m\u001b[0mbatch_size\u001b[0m\u001b[0;34m=\u001b[0m\u001b[0;36m100\u001b[0m\u001b[0;34m,\u001b[0m \u001b[0mverbose\u001b[0m\u001b[0;34m=\u001b[0m\u001b[0;32mTrue\u001b[0m\u001b[0;34m,\u001b[0m \u001b[0mcallbacks\u001b[0m\u001b[0;34m=\u001b[0m\u001b[0;34m[\u001b[0m\u001b[0mcallback\u001b[0m\u001b[0;34m]\u001b[0m\u001b[0;34m)\u001b[0m\u001b[0;34m\u001b[0m\u001b[0;34m\u001b[0m\u001b[0m\n\u001b[0m\u001b[1;32m      3\u001b[0m \u001b[0;34m\u001b[0m\u001b[0m\n\u001b[1;32m      4\u001b[0m \u001b[0mprint\u001b[0m\u001b[0;34m(\u001b[0m\u001b[0;34m\"\\nEn la epoca\"\u001b[0m\u001b[0;34m,\u001b[0m \u001b[0mlen\u001b[0m\u001b[0;34m(\u001b[0m\u001b[0mhistory\u001b[0m\u001b[0;34m.\u001b[0m\u001b[0mhistory\u001b[0m\u001b[0;34m[\u001b[0m\u001b[0;34m'val_accuracy'\u001b[0m\u001b[0;34m]\u001b[0m\u001b[0;34m)\u001b[0m\u001b[0;34m,\u001b[0m \u001b[0;34m\"la precision de validación dejó de mejorar.\"\u001b[0m\u001b[0;34m)\u001b[0m\u001b[0;34m\u001b[0m\u001b[0;34m\u001b[0m\u001b[0m\n",
      "\u001b[0;32m/opt/anaconda3/envs/tensorflow-sessions/lib/python3.7/site-packages/tensorflow_core/python/keras/engine/training.py\u001b[0m in \u001b[0;36mfit\u001b[0;34m(self, x, y, batch_size, epochs, verbose, callbacks, validation_split, validation_data, shuffle, class_weight, sample_weight, initial_epoch, steps_per_epoch, validation_steps, validation_freq, max_queue_size, workers, use_multiprocessing, **kwargs)\u001b[0m\n\u001b[1;32m    726\u001b[0m         \u001b[0mmax_queue_size\u001b[0m\u001b[0;34m=\u001b[0m\u001b[0mmax_queue_size\u001b[0m\u001b[0;34m,\u001b[0m\u001b[0;34m\u001b[0m\u001b[0;34m\u001b[0m\u001b[0m\n\u001b[1;32m    727\u001b[0m         \u001b[0mworkers\u001b[0m\u001b[0;34m=\u001b[0m\u001b[0mworkers\u001b[0m\u001b[0;34m,\u001b[0m\u001b[0;34m\u001b[0m\u001b[0;34m\u001b[0m\u001b[0m\n\u001b[0;32m--> 728\u001b[0;31m         use_multiprocessing=use_multiprocessing)\n\u001b[0m\u001b[1;32m    729\u001b[0m \u001b[0;34m\u001b[0m\u001b[0m\n\u001b[1;32m    730\u001b[0m   def evaluate(self,\n",
      "\u001b[0;32m/opt/anaconda3/envs/tensorflow-sessions/lib/python3.7/site-packages/tensorflow_core/python/keras/engine/training_v2.py\u001b[0m in \u001b[0;36mfit\u001b[0;34m(self, model, x, y, batch_size, epochs, verbose, callbacks, validation_split, validation_data, shuffle, class_weight, sample_weight, initial_epoch, steps_per_epoch, validation_steps, validation_freq, **kwargs)\u001b[0m\n\u001b[1;32m    322\u001b[0m                 \u001b[0mmode\u001b[0m\u001b[0;34m=\u001b[0m\u001b[0mModeKeys\u001b[0m\u001b[0;34m.\u001b[0m\u001b[0mTRAIN\u001b[0m\u001b[0;34m,\u001b[0m\u001b[0;34m\u001b[0m\u001b[0;34m\u001b[0m\u001b[0m\n\u001b[1;32m    323\u001b[0m                 \u001b[0mtraining_context\u001b[0m\u001b[0;34m=\u001b[0m\u001b[0mtraining_context\u001b[0m\u001b[0;34m,\u001b[0m\u001b[0;34m\u001b[0m\u001b[0;34m\u001b[0m\u001b[0m\n\u001b[0;32m--> 324\u001b[0;31m                 total_epochs=epochs)\n\u001b[0m\u001b[1;32m    325\u001b[0m             \u001b[0mcbks\u001b[0m\u001b[0;34m.\u001b[0m\u001b[0mmake_logs\u001b[0m\u001b[0;34m(\u001b[0m\u001b[0mmodel\u001b[0m\u001b[0;34m,\u001b[0m \u001b[0mepoch_logs\u001b[0m\u001b[0;34m,\u001b[0m \u001b[0mtraining_result\u001b[0m\u001b[0;34m,\u001b[0m \u001b[0mModeKeys\u001b[0m\u001b[0;34m.\u001b[0m\u001b[0mTRAIN\u001b[0m\u001b[0;34m)\u001b[0m\u001b[0;34m\u001b[0m\u001b[0;34m\u001b[0m\u001b[0m\n\u001b[1;32m    326\u001b[0m \u001b[0;34m\u001b[0m\u001b[0m\n",
      "\u001b[0;32m/opt/anaconda3/envs/tensorflow-sessions/lib/python3.7/site-packages/tensorflow_core/python/keras/engine/training_v2.py\u001b[0m in \u001b[0;36mrun_one_epoch\u001b[0;34m(model, iterator, execution_function, dataset_size, batch_size, strategy, steps_per_epoch, num_samples, mode, training_context, total_epochs)\u001b[0m\n\u001b[1;32m    121\u001b[0m         step=step, mode=mode, size=current_batch_size) as batch_logs:\n\u001b[1;32m    122\u001b[0m       \u001b[0;32mtry\u001b[0m\u001b[0;34m:\u001b[0m\u001b[0;34m\u001b[0m\u001b[0;34m\u001b[0m\u001b[0m\n\u001b[0;32m--> 123\u001b[0;31m         \u001b[0mbatch_outs\u001b[0m \u001b[0;34m=\u001b[0m \u001b[0mexecution_function\u001b[0m\u001b[0;34m(\u001b[0m\u001b[0miterator\u001b[0m\u001b[0;34m)\u001b[0m\u001b[0;34m\u001b[0m\u001b[0;34m\u001b[0m\u001b[0m\n\u001b[0m\u001b[1;32m    124\u001b[0m       \u001b[0;32mexcept\u001b[0m \u001b[0;34m(\u001b[0m\u001b[0mStopIteration\u001b[0m\u001b[0;34m,\u001b[0m \u001b[0merrors\u001b[0m\u001b[0;34m.\u001b[0m\u001b[0mOutOfRangeError\u001b[0m\u001b[0;34m)\u001b[0m\u001b[0;34m:\u001b[0m\u001b[0;34m\u001b[0m\u001b[0;34m\u001b[0m\u001b[0m\n\u001b[1;32m    125\u001b[0m         \u001b[0;31m# TODO(kaftan): File bug about tf function and errors.OutOfRangeError?\u001b[0m\u001b[0;34m\u001b[0m\u001b[0;34m\u001b[0m\u001b[0;34m\u001b[0m\u001b[0m\n",
      "\u001b[0;32m/opt/anaconda3/envs/tensorflow-sessions/lib/python3.7/site-packages/tensorflow_core/python/keras/engine/training_v2_utils.py\u001b[0m in \u001b[0;36mexecution_function\u001b[0;34m(input_fn)\u001b[0m\n\u001b[1;32m     84\u001b[0m     \u001b[0;31m# `numpy` translates Tensors to values in Eager mode.\u001b[0m\u001b[0;34m\u001b[0m\u001b[0;34m\u001b[0m\u001b[0;34m\u001b[0m\u001b[0m\n\u001b[1;32m     85\u001b[0m     return nest.map_structure(_non_none_constant_value,\n\u001b[0;32m---> 86\u001b[0;31m                               distributed_function(input_fn))\n\u001b[0m\u001b[1;32m     87\u001b[0m \u001b[0;34m\u001b[0m\u001b[0m\n\u001b[1;32m     88\u001b[0m   \u001b[0;32mreturn\u001b[0m \u001b[0mexecution_function\u001b[0m\u001b[0;34m\u001b[0m\u001b[0;34m\u001b[0m\u001b[0m\n",
      "\u001b[0;32m/opt/anaconda3/envs/tensorflow-sessions/lib/python3.7/site-packages/tensorflow_core/python/eager/def_function.py\u001b[0m in \u001b[0;36m__call__\u001b[0;34m(self, *args, **kwds)\u001b[0m\n\u001b[1;32m    455\u001b[0m \u001b[0;34m\u001b[0m\u001b[0m\n\u001b[1;32m    456\u001b[0m     \u001b[0mtracing_count\u001b[0m \u001b[0;34m=\u001b[0m \u001b[0mself\u001b[0m\u001b[0;34m.\u001b[0m\u001b[0m_get_tracing_count\u001b[0m\u001b[0;34m(\u001b[0m\u001b[0;34m)\u001b[0m\u001b[0;34m\u001b[0m\u001b[0;34m\u001b[0m\u001b[0m\n\u001b[0;32m--> 457\u001b[0;31m     \u001b[0mresult\u001b[0m \u001b[0;34m=\u001b[0m \u001b[0mself\u001b[0m\u001b[0;34m.\u001b[0m\u001b[0m_call\u001b[0m\u001b[0;34m(\u001b[0m\u001b[0;34m*\u001b[0m\u001b[0margs\u001b[0m\u001b[0;34m,\u001b[0m \u001b[0;34m**\u001b[0m\u001b[0mkwds\u001b[0m\u001b[0;34m)\u001b[0m\u001b[0;34m\u001b[0m\u001b[0;34m\u001b[0m\u001b[0m\n\u001b[0m\u001b[1;32m    458\u001b[0m     \u001b[0;32mif\u001b[0m \u001b[0mtracing_count\u001b[0m \u001b[0;34m==\u001b[0m \u001b[0mself\u001b[0m\u001b[0;34m.\u001b[0m\u001b[0m_get_tracing_count\u001b[0m\u001b[0;34m(\u001b[0m\u001b[0;34m)\u001b[0m\u001b[0;34m:\u001b[0m\u001b[0;34m\u001b[0m\u001b[0;34m\u001b[0m\u001b[0m\n\u001b[1;32m    459\u001b[0m       \u001b[0mself\u001b[0m\u001b[0;34m.\u001b[0m\u001b[0m_call_counter\u001b[0m\u001b[0;34m.\u001b[0m\u001b[0mcalled_without_tracing\u001b[0m\u001b[0;34m(\u001b[0m\u001b[0;34m)\u001b[0m\u001b[0;34m\u001b[0m\u001b[0;34m\u001b[0m\u001b[0m\n",
      "\u001b[0;32m/opt/anaconda3/envs/tensorflow-sessions/lib/python3.7/site-packages/tensorflow_core/python/eager/def_function.py\u001b[0m in \u001b[0;36m_call\u001b[0;34m(self, *args, **kwds)\u001b[0m\n\u001b[1;32m    485\u001b[0m       \u001b[0;31m# In this case we have created variables on the first call, so we run the\u001b[0m\u001b[0;34m\u001b[0m\u001b[0;34m\u001b[0m\u001b[0;34m\u001b[0m\u001b[0m\n\u001b[1;32m    486\u001b[0m       \u001b[0;31m# defunned version which is guaranteed to never create variables.\u001b[0m\u001b[0;34m\u001b[0m\u001b[0;34m\u001b[0m\u001b[0;34m\u001b[0m\u001b[0m\n\u001b[0;32m--> 487\u001b[0;31m       \u001b[0;32mreturn\u001b[0m \u001b[0mself\u001b[0m\u001b[0;34m.\u001b[0m\u001b[0m_stateless_fn\u001b[0m\u001b[0;34m(\u001b[0m\u001b[0;34m*\u001b[0m\u001b[0margs\u001b[0m\u001b[0;34m,\u001b[0m \u001b[0;34m**\u001b[0m\u001b[0mkwds\u001b[0m\u001b[0;34m)\u001b[0m  \u001b[0;31m# pylint: disable=not-callable\u001b[0m\u001b[0;34m\u001b[0m\u001b[0;34m\u001b[0m\u001b[0m\n\u001b[0m\u001b[1;32m    488\u001b[0m     \u001b[0;32melif\u001b[0m \u001b[0mself\u001b[0m\u001b[0;34m.\u001b[0m\u001b[0m_stateful_fn\u001b[0m \u001b[0;32mis\u001b[0m \u001b[0;32mnot\u001b[0m \u001b[0;32mNone\u001b[0m\u001b[0;34m:\u001b[0m\u001b[0;34m\u001b[0m\u001b[0;34m\u001b[0m\u001b[0m\n\u001b[1;32m    489\u001b[0m       \u001b[0;31m# Release the lock early so that multiple threads can perform the call\u001b[0m\u001b[0;34m\u001b[0m\u001b[0;34m\u001b[0m\u001b[0;34m\u001b[0m\u001b[0m\n",
      "\u001b[0;32m/opt/anaconda3/envs/tensorflow-sessions/lib/python3.7/site-packages/tensorflow_core/python/eager/function.py\u001b[0m in \u001b[0;36m__call__\u001b[0;34m(self, *args, **kwargs)\u001b[0m\n\u001b[1;32m   1821\u001b[0m     \u001b[0;34m\"\"\"Calls a graph function specialized to the inputs.\"\"\"\u001b[0m\u001b[0;34m\u001b[0m\u001b[0;34m\u001b[0m\u001b[0m\n\u001b[1;32m   1822\u001b[0m     \u001b[0mgraph_function\u001b[0m\u001b[0;34m,\u001b[0m \u001b[0margs\u001b[0m\u001b[0;34m,\u001b[0m \u001b[0mkwargs\u001b[0m \u001b[0;34m=\u001b[0m \u001b[0mself\u001b[0m\u001b[0;34m.\u001b[0m\u001b[0m_maybe_define_function\u001b[0m\u001b[0;34m(\u001b[0m\u001b[0margs\u001b[0m\u001b[0;34m,\u001b[0m \u001b[0mkwargs\u001b[0m\u001b[0;34m)\u001b[0m\u001b[0;34m\u001b[0m\u001b[0;34m\u001b[0m\u001b[0m\n\u001b[0;32m-> 1823\u001b[0;31m     \u001b[0;32mreturn\u001b[0m \u001b[0mgraph_function\u001b[0m\u001b[0;34m.\u001b[0m\u001b[0m_filtered_call\u001b[0m\u001b[0;34m(\u001b[0m\u001b[0margs\u001b[0m\u001b[0;34m,\u001b[0m \u001b[0mkwargs\u001b[0m\u001b[0;34m)\u001b[0m  \u001b[0;31m# pylint: disable=protected-access\u001b[0m\u001b[0;34m\u001b[0m\u001b[0;34m\u001b[0m\u001b[0m\n\u001b[0m\u001b[1;32m   1824\u001b[0m \u001b[0;34m\u001b[0m\u001b[0m\n\u001b[1;32m   1825\u001b[0m   \u001b[0;34m@\u001b[0m\u001b[0mproperty\u001b[0m\u001b[0;34m\u001b[0m\u001b[0;34m\u001b[0m\u001b[0m\n",
      "\u001b[0;32m/opt/anaconda3/envs/tensorflow-sessions/lib/python3.7/site-packages/tensorflow_core/python/eager/function.py\u001b[0m in \u001b[0;36m_filtered_call\u001b[0;34m(self, args, kwargs)\u001b[0m\n\u001b[1;32m   1139\u001b[0m          if isinstance(t, (ops.Tensor,\n\u001b[1;32m   1140\u001b[0m                            resource_variable_ops.BaseResourceVariable))),\n\u001b[0;32m-> 1141\u001b[0;31m         self.captured_inputs)\n\u001b[0m\u001b[1;32m   1142\u001b[0m \u001b[0;34m\u001b[0m\u001b[0m\n\u001b[1;32m   1143\u001b[0m   \u001b[0;32mdef\u001b[0m \u001b[0m_call_flat\u001b[0m\u001b[0;34m(\u001b[0m\u001b[0mself\u001b[0m\u001b[0;34m,\u001b[0m \u001b[0margs\u001b[0m\u001b[0;34m,\u001b[0m \u001b[0mcaptured_inputs\u001b[0m\u001b[0;34m,\u001b[0m \u001b[0mcancellation_manager\u001b[0m\u001b[0;34m=\u001b[0m\u001b[0;32mNone\u001b[0m\u001b[0;34m)\u001b[0m\u001b[0;34m:\u001b[0m\u001b[0;34m\u001b[0m\u001b[0;34m\u001b[0m\u001b[0m\n",
      "\u001b[0;32m/opt/anaconda3/envs/tensorflow-sessions/lib/python3.7/site-packages/tensorflow_core/python/eager/function.py\u001b[0m in \u001b[0;36m_call_flat\u001b[0;34m(self, args, captured_inputs, cancellation_manager)\u001b[0m\n\u001b[1;32m   1222\u001b[0m     \u001b[0;32mif\u001b[0m \u001b[0mexecuting_eagerly\u001b[0m\u001b[0;34m:\u001b[0m\u001b[0;34m\u001b[0m\u001b[0;34m\u001b[0m\u001b[0m\n\u001b[1;32m   1223\u001b[0m       flat_outputs = forward_function.call(\n\u001b[0;32m-> 1224\u001b[0;31m           ctx, args, cancellation_manager=cancellation_manager)\n\u001b[0m\u001b[1;32m   1225\u001b[0m     \u001b[0;32melse\u001b[0m\u001b[0;34m:\u001b[0m\u001b[0;34m\u001b[0m\u001b[0;34m\u001b[0m\u001b[0m\n\u001b[1;32m   1226\u001b[0m       \u001b[0mgradient_name\u001b[0m \u001b[0;34m=\u001b[0m \u001b[0mself\u001b[0m\u001b[0;34m.\u001b[0m\u001b[0m_delayed_rewrite_functions\u001b[0m\u001b[0;34m.\u001b[0m\u001b[0mregister\u001b[0m\u001b[0;34m(\u001b[0m\u001b[0;34m)\u001b[0m\u001b[0;34m\u001b[0m\u001b[0;34m\u001b[0m\u001b[0m\n",
      "\u001b[0;32m/opt/anaconda3/envs/tensorflow-sessions/lib/python3.7/site-packages/tensorflow_core/python/eager/function.py\u001b[0m in \u001b[0;36mcall\u001b[0;34m(self, ctx, args, cancellation_manager)\u001b[0m\n\u001b[1;32m    509\u001b[0m               \u001b[0minputs\u001b[0m\u001b[0;34m=\u001b[0m\u001b[0margs\u001b[0m\u001b[0;34m,\u001b[0m\u001b[0;34m\u001b[0m\u001b[0;34m\u001b[0m\u001b[0m\n\u001b[1;32m    510\u001b[0m               \u001b[0mattrs\u001b[0m\u001b[0;34m=\u001b[0m\u001b[0;34m(\u001b[0m\u001b[0;34m\"executor_type\"\u001b[0m\u001b[0;34m,\u001b[0m \u001b[0mexecutor_type\u001b[0m\u001b[0;34m,\u001b[0m \u001b[0;34m\"config_proto\"\u001b[0m\u001b[0;34m,\u001b[0m \u001b[0mconfig\u001b[0m\u001b[0;34m)\u001b[0m\u001b[0;34m,\u001b[0m\u001b[0;34m\u001b[0m\u001b[0;34m\u001b[0m\u001b[0m\n\u001b[0;32m--> 511\u001b[0;31m               ctx=ctx)\n\u001b[0m\u001b[1;32m    512\u001b[0m         \u001b[0;32melse\u001b[0m\u001b[0;34m:\u001b[0m\u001b[0;34m\u001b[0m\u001b[0;34m\u001b[0m\u001b[0m\n\u001b[1;32m    513\u001b[0m           outputs = execute.execute_with_cancellation(\n",
      "\u001b[0;32m/opt/anaconda3/envs/tensorflow-sessions/lib/python3.7/site-packages/tensorflow_core/python/eager/execute.py\u001b[0m in \u001b[0;36mquick_execute\u001b[0;34m(op_name, num_outputs, inputs, attrs, ctx, name)\u001b[0m\n\u001b[1;32m     59\u001b[0m     tensors = pywrap_tensorflow.TFE_Py_Execute(ctx._handle, device_name,\n\u001b[1;32m     60\u001b[0m                                                \u001b[0mop_name\u001b[0m\u001b[0;34m,\u001b[0m \u001b[0minputs\u001b[0m\u001b[0;34m,\u001b[0m \u001b[0mattrs\u001b[0m\u001b[0;34m,\u001b[0m\u001b[0;34m\u001b[0m\u001b[0;34m\u001b[0m\u001b[0m\n\u001b[0;32m---> 61\u001b[0;31m                                                num_outputs)\n\u001b[0m\u001b[1;32m     62\u001b[0m   \u001b[0;32mexcept\u001b[0m \u001b[0mcore\u001b[0m\u001b[0;34m.\u001b[0m\u001b[0m_NotOkStatusException\u001b[0m \u001b[0;32mas\u001b[0m \u001b[0me\u001b[0m\u001b[0;34m:\u001b[0m\u001b[0;34m\u001b[0m\u001b[0;34m\u001b[0m\u001b[0m\n\u001b[1;32m     63\u001b[0m     \u001b[0;32mif\u001b[0m \u001b[0mname\u001b[0m \u001b[0;32mis\u001b[0m \u001b[0;32mnot\u001b[0m \u001b[0;32mNone\u001b[0m\u001b[0;34m:\u001b[0m\u001b[0;34m\u001b[0m\u001b[0;34m\u001b[0m\u001b[0m\n",
      "\u001b[0;31mKeyboardInterrupt\u001b[0m: "
     ]
    }
   ],
   "source": [
    "num_epochs = 10\n",
    "history = model.fit(train_sequences_bt, train_labels_codf, epochs=num_epochs, validation_data=(validation_sequences_bt,validation_labels_codf),batch_size=100, verbose=True, callbacks=[callback])\n",
    "\n",
    "print(\"\\nEn la epoca\", len(history.history['val_accuracy']), \"la precision de validación dejó de mejorar.\")"
   ]
  },
  {
   "cell_type": "code",
   "execution_count": null,
   "metadata": {
    "colab": {},
    "colab_type": "code",
    "id": "FXlzL6iGf-aa",
    "jupyter": {
     "source_hidden": true
    }
   },
   "outputs": [],
   "source": [
    "def plot_graphs(history, string):\n",
    "  plt.title(string+' con 10 epochs')\n",
    "  plt.plot(history.history[string])\n",
    "  plt.plot(history.history['val_'+string])\n",
    "  plt.xlabel(\"Epochs\")\n",
    "  plt.ylabel(string)\n",
    "  plt.legend([string, 'val_'+string])\n",
    "  plt.show()\n",
    "  \n",
    "plot_graphs(history, \"accuracy\")\n",
    "plot_graphs(history, \"loss\")"
   ]
  },
  {
   "cell_type": "markdown",
   "metadata": {
    "colab_type": "text",
    "id": "sUf9T03T3N-c"
   },
   "source": [
    "# Prueba del modelo"
   ]
  },
  {
   "cell_type": "code",
   "execution_count": null,
   "metadata": {
    "colab": {},
    "colab_type": "code",
    "id": "Cseyk3ipz0TF",
    "jupyter": {
     "source_hidden": true
    },
    "outputId": "0338d3db-95ff-4817-a42d-537077ce11f1"
   },
   "outputs": [],
   "source": [
    "#predicciones del modelo\n",
    "model.predict(test_sequences_bt)"
   ]
  },
  {
   "cell_type": "code",
   "execution_count": null,
   "metadata": {
    "colab": {},
    "colab_type": "code",
    "id": "kDSrLYYz8MDG",
    "jupyter": {
     "source_hidden": true
    },
    "outputId": "fb398c37-b462-455a-edf2-39122afe076d"
   },
   "outputs": [],
   "source": [
    "#etiquetas reales\n",
    "test_labels_codf"
   ]
  },
  {
   "cell_type": "markdown",
   "metadata": {
    "colab_type": "text",
    "id": "wq4rtg8o4Iaa"
   },
   "source": [
    "# Funcion clasificadora"
   ]
  },
  {
   "cell_type": "code",
   "execution_count": null,
   "metadata": {
    "colab": {},
    "colab_type": "code",
    "id": "Aq1C4FpP4Js1"
   },
   "outputs": [],
   "source": [
    "def classifier (sentence): \n",
    "  sentence_l = re.sub(' +', ' ',sentence.lower())\n",
    "  sentence = ''.join(c for c in sentence_l if c in printable)\n",
    "\n",
    "  X = vectorizer3.fit_transform(sentence) \n",
    "  sentences_bt = X3.toarray() #codificacion para tabla con trigramas y bigramas\n",
    "\n",
    "  prediction = model.predict_classes(sentences_bt)\n",
    "  prediction = label_tokenizer.sequences_to_texts([prediction])\n",
    "\n",
    "  return prediction"
   ]
  },
  {
   "cell_type": "code",
   "execution_count": null,
   "metadata": {
    "colab": {},
    "colab_type": "code",
    "id": "7LT8ZQG440Ya",
    "outputId": "88d85719-2e9a-4731-b136-ae2d3a99d9c5"
   },
   "outputs": [],
   "source": [
    "classifier('can his funeral be on a school day')"
   ]
  },
  {
   "cell_type": "code",
   "execution_count": null,
   "metadata": {
    "colab": {},
    "colab_type": "code",
    "id": "wVwlq9pL8A5F"
   },
   "outputs": [],
   "source": []
  },
  {
   "cell_type": "code",
   "execution_count": null,
   "metadata": {},
   "outputs": [],
   "source": []
  }
 ],
 "metadata": {
  "accelerator": "GPU",
  "colab": {
   "collapsed_sections": [],
   "name": "ssss.ipynb",
   "provenance": []
  },
  "kernelspec": {
   "display_name": "Python 3",
   "language": "python",
   "name": "python3"
  },
  "language_info": {
   "codemirror_mode": {
    "name": "ipython",
    "version": 3
   },
   "file_extension": ".py",
   "mimetype": "text/x-python",
   "name": "python",
   "nbconvert_exporter": "python",
   "pygments_lexer": "ipython3",
   "version": "3.7.7"
  }
 },
 "nbformat": 4,
 "nbformat_minor": 4
}
