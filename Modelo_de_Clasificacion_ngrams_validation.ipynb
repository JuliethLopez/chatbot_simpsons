{
 "cells": [
  {
   "cell_type": "markdown",
   "metadata": {
    "colab_type": "text",
    "id": "view-in-github"
   },
   "source": [
    "<a href=\"https://colab.research.google.com/github/JuliethLopez/chatbot_simpsons/blob/master/Modelo_de_Clasificacion_ngrams_validation.ipynb\" target=\"_parent\"><img src=\"https://colab.research.google.com/assets/colab-badge.svg\" alt=\"Open In Colab\"/></a>"
   ]
  },
  {
   "cell_type": "markdown",
   "metadata": {
    "colab_type": "text",
    "id": "nJPO1NOruW18"
   },
   "source": [
    "# Clasificación usando Lenguaje Natural"
   ]
  },
  {
   "cell_type": "code",
   "execution_count": 1,
   "metadata": {
    "colab": {
     "base_uri": "https://localhost:8080/",
     "height": 55
    },
    "colab_type": "code",
    "id": "tMOU0GFTNemH",
    "outputId": "105a4a18-961e-4ad5-85ca-846c55bcc8a8"
   },
   "outputs": [],
   "source": [
    "#from google.colab import drive\n",
    "#drive.mount('/content/drive')"
   ]
  },
  {
   "cell_type": "code",
   "execution_count": 2,
   "metadata": {
    "colab": {
     "base_uri": "https://localhost:8080/",
     "height": 35
    },
    "colab_type": "code",
    "id": "NJc6nHMRudjy",
    "outputId": "fbd5433a-f60e-4f87-a597-a458c7095629"
   },
   "outputs": [
    {
     "name": "stderr",
     "output_type": "stream",
     "text": [
      "Using TensorFlow backend.\n"
     ]
    }
   ],
   "source": [
    "# Librerias\n",
    "\n",
    "import csv\n",
    "import tensorflow as tf\n",
    "import numpy as np\n",
    "import matplotlib.pyplot as plt\n",
    "import pandas as pd\n",
    "import matplotlib.pylab as plt\n",
    "import nltk\n",
    "import string\n",
    "import itertools\n",
    "from nltk import word_tokenize\n",
    "from nltk.util import ngrams\n",
    "from tensorflow.keras.preprocessing.text import Tokenizer\n",
    "from tensorflow.keras.preprocessing.sequence import pad_sequences\n",
    "from keras import layers, backend\n",
    "from nltk.tokenize import word_tokenize, sent_tokenize, regexp_tokenize\n",
    "from sklearn. preprocessing import LabelEncoder\n",
    "from tensorflow.keras import layers\n",
    "from tensorflow.keras import regularizers"
   ]
  },
  {
   "cell_type": "markdown",
   "metadata": {
    "colab_type": "text",
    "id": "ZAXQiC96uq4s"
   },
   "source": [
    "# Define algunas características iniciales"
   ]
  },
  {
   "cell_type": "code",
   "execution_count": 3,
   "metadata": {
    "colab": {},
    "colab_type": "code",
    "id": "gpNtUB-ZujD1"
   },
   "outputs": [],
   "source": [
    "vocab_size = 23121 # número de palabras que integrarán el vocabulario\n",
    "embedding_dim = 32 # dimensión del embeding de las palabras\n",
    "max_length = 111  # longitud máxima de una oración (sentence filtrada con stopwords)\n",
    "trunc_type='post' # donde truncar una oración (sentence, filtrada con stopwords)\n",
    "padding_type='post'# donde hacer el padding (agregar ceros) en una oración (sentence, filtrada con stopwords)\n",
    "oov_tok = \"<OOV>\"  # token para las palabras que queden fuera del vocabulario\n",
    "training_portion = .8  # porcentaje de datos para entrenamiento"
   ]
  },
  {
   "cell_type": "code",
   "execution_count": 4,
   "metadata": {
    "colab": {
     "base_uri": "https://localhost:8080/",
     "height": 72
    },
    "colab_type": "code",
    "id": "bjMtHB6t1gpN",
    "outputId": "2933233a-5233-4ad4-8878-f949d3e249d3"
   },
   "outputs": [
    {
     "data": {
      "text/plain": [
       "array([' ', 'a', 'b', 'c', 'd', 'e', 'f', 'g', 'h', 'i', 'j', 'k', 'l',\n",
       "       'm', 'n', 'o', 'p', 'q', 'r', 's', 't', 'u', 'v', 'w', 'x', 'y',\n",
       "       'z'], dtype='<U1')"
      ]
     },
     "execution_count": 4,
     "metadata": {},
     "output_type": "execute_result"
    }
   ],
   "source": [
    "a = np.array([32]) # space\n",
    "c = np.array(range(97,123)) # minúsculas\n",
    "printab = np.hstack((a,c))\n",
    "printable = np.array([chr(i) for i in printab])   \n",
    "printable "
   ]
  },
  {
   "cell_type": "markdown",
   "metadata": {
    "colab_type": "text",
    "id": "xzVnwbLIx-nA"
   },
   "source": [
    "## Lectura de los datos"
   ]
  },
  {
   "cell_type": "code",
   "execution_count": 5,
   "metadata": {
    "colab": {},
    "colab_type": "code",
    "id": "_hJ2PlWEK7Zp"
   },
   "outputs": [],
   "source": [
    "complete_sentences = [] #\n",
    "complete_lines = [] \n",
    "sentences = []\n",
    "labels = [] # etiquetas preprocesadas\n",
    "stopwords = []"
   ]
  },
  {
   "cell_type": "code",
   "execution_count": 6,
   "metadata": {
    "colab": {
     "base_uri": "https://localhost:8080/",
     "height": 91
    },
    "colab_type": "code",
    "id": "eutB2xMiZD0e",
    "outputId": "711497a8-65ca-4892-ffda-e416450f3869"
   },
   "outputs": [
    {
     "name": "stdout",
     "output_type": "stream",
     "text": [
      "69171\n",
      "69171\n",
      "69171\n",
      "69171\n"
     ]
    }
   ],
   "source": [
    "import string\n",
    "import re #regular expresions\n",
    "# abre el archivo de datos y lo trata como un archivo csv\n",
    "#file = open('/content/drive/My Drive/Colab Notebooks/DFSMS.csv', 'r') #David\n",
    "#file = open('/content/drive/My Drive/Simpsons Chat bot/chatbot_simpsons-master/Datos/DFSMS.csv', 'r') #Julieth\n",
    "file = open('DFSMS.csv', 'r')\n",
    "with file as csvfile:\n",
    "    reader = csv.reader(csvfile, delimiter=',')\n",
    "    next(reader)\n",
    "    for row in reader:\n",
    "        # preprocess label\n",
    "        #label_l = ' '.join(row[0].split()).lower().replace(' ','_') # lower case ans eliminate multiple spaces\n",
    "        label_l = re.sub(' +', ' ',row[0].lower()) # lower case ans eliminate multiple spaces\n",
    "        if (len(label_l)>2): # drop with empty label\n",
    "            label = ''.join(c for c in label_l if c in printable)# filter only printable characters\n",
    "            label = label.replace(' ','_')\n",
    "            labels.append(label)\n",
    "            # preprocess sentence\n",
    "            #sentence_l = ' '.join(row[1].split()).lower().replace(' ','_') # lower case ans eliminate multiple spaces\n",
    "            sentence_l = re.sub(' +', ' ',row[1].lower())\n",
    "            sentence = ''.join(c for c in sentence_l if c in printable)\n",
    "            complete_lines.append(row[0] + ': '+ row[1])\n",
    "            complete_sentences.append(sentence)\n",
    "            # preprocess stopwords\n",
    "            for word in stopwords:\n",
    "                token = \" \" + word + \" \"\n",
    "                sentence = sentence.replace(token, \" \")\n",
    "            sentences.append(sentence)\n",
    " \n",
    "\n",
    "# resumen de la lectura            \n",
    "print(len(labels))\n",
    "print(len(complete_sentences))\n",
    "print(len(complete_lines))\n",
    "print(len(sentences))"
   ]
  },
  {
   "cell_type": "code",
   "execution_count": 7,
   "metadata": {
    "colab": {
     "base_uri": "https://localhost:8080/",
     "height": 313
    },
    "colab_type": "code",
    "id": "mHP5HqP4Yt5U",
    "outputId": "e9d3c9c2-31d5-4596-db45-22f334472206"
   },
   "outputs": [
    {
     "name": "stdout",
     "output_type": "stream",
     "text": [
      "lisa_simpson\n",
      "\n",
      "wheres mr bergstrom\n",
      "\n",
      "Lisa Simpson: Where's Mr. Bergstrom?\n",
      "\n",
      "wheres mr bergstrom\n",
      "\n",
      "bart_simpson\n",
      "\n",
      "victory party under the slide\n",
      "\n",
      "Bart Simpson: Victory party under the slide!\n",
      "\n",
      "victory party under the slide\n",
      "\n"
     ]
    }
   ],
   "source": [
    "# Primera linea\n",
    "print(labels[0]+'\\n')\n",
    "print(complete_sentences[0]+'\\n')\n",
    "print(complete_lines[0]+'\\n')\n",
    "print(sentences[0]+'\\n')\n",
    "# Tercer linea\n",
    "print(labels[2]+'\\n')\n",
    "print(complete_sentences[2]+'\\n')\n",
    "print(complete_lines[2]+'\\n')\n",
    "print(sentences[2]+'\\n')"
   ]
  },
  {
   "cell_type": "code",
   "execution_count": 8,
   "metadata": {
    "colab": {
     "base_uri": "https://localhost:8080/",
     "height": 281
    },
    "colab_type": "code",
    "id": "djFPe1k6pOp9",
    "outputId": "b97b7a69-fc44-4148-9411-7a71124acc28"
   },
   "outputs": [
    {
     "data": {
      "image/png": "[encoded data removed]",
      "text/plain": [
       "<Figure size 432x288 with 1 Axes>"
      ]
     },
     "metadata": {
      "needs_background": "light"
     },
     "output_type": "display_data"
    }
   ],
   "source": [
    "# Gráfico de barras de numero de frases por personaje\n",
    "frec = pd.value_counts(labels)\n",
    "plot = frec.plot(kind='barh',title='Numero de frases por personaje',color=['deepskyblue','orangered','darkkhaki','gold'])"
   ]
  },
  {
   "cell_type": "markdown",
   "metadata": {
    "colab_type": "text",
    "id": "QH4k5vkXYt6B"
   },
   "source": [
    "# Separa datos de entrenamiento y validación "
   ]
  },
  {
   "cell_type": "code",
   "execution_count": 9,
   "metadata": {
    "colab": {
     "base_uri": "https://localhost:8080/",
     "height": 35
    },
    "colab_type": "code",
    "id": "8ttL-pu1yqzz",
    "outputId": "7aafb1d7-5379-43b3-ee85-3e810e5f03f7"
   },
   "outputs": [
    {
     "data": {
      "text/plain": [
       "55336"
      ]
     },
     "execution_count": 9,
     "metadata": {},
     "output_type": "execute_result"
    }
   ],
   "source": [
    "train_size = int(len(sentences) * training_portion)\n",
    "train_size # 80%"
   ]
  },
  {
   "cell_type": "markdown",
   "metadata": {
    "colab_type": "text",
    "id": "pgr6FmIJzY42"
   },
   "source": [
    "#### Grupo de entrenamiento"
   ]
  },
  {
   "cell_type": "code",
   "execution_count": 10,
   "metadata": {
    "colab": {
     "base_uri": "https://localhost:8080/",
     "height": 91
    },
    "colab_type": "code",
    "id": "y5VJtOX_zE9z",
    "outputId": "6866ef45-93ed-40e6-aa09-948914235b12"
   },
   "outputs": [
    {
     "name": "stdout",
     "output_type": "stream",
     "text": [
      "55336\n",
      "55336\n",
      "['wheres mr bergstrom', 'that life is worth living', 'victory party under the slide']\n",
      "['lisa_simpson', 'lisa_simpson', 'bart_simpson']\n"
     ]
    }
   ],
   "source": [
    "train_sentences = sentences[:train_size] # Frases de entrenamiento \n",
    "train_labels = labels[:train_size] # Etiquetas de entrenamiento\n",
    "print(len(train_sentences)) # Tamaño de frases de entrenamiento\n",
    "print(len(train_labels)) # Tamaño de etiquetas de entrenamiento\n",
    "print(train_sentences[:3]) \n",
    "print(train_labels[:3])"
   ]
  },
  {
   "cell_type": "markdown",
   "metadata": {
    "colab_type": "text",
    "id": "8SuVgyhrzowg"
   },
   "source": [
    "#### Grupo de validación"
   ]
  },
  {
   "cell_type": "code",
   "execution_count": 11,
   "metadata": {
    "colab": {
     "base_uri": "https://localhost:8080/",
     "height": 91
    },
    "colab_type": "code",
    "id": "jyKUxrO4zK5O",
    "outputId": "941a734c-c3ce-417f-f612-8c948cebf962"
   },
   "outputs": [
    {
     "name": "stdout",
     "output_type": "stream",
     "text": [
      "13835\n",
      "13835\n",
      "['', 'someone snitched whawhawhawhawhat are you gonna do to me', 'up or down']\n",
      "['homer_simpson', 'homer_simpson', 'homer_simpson']\n"
     ]
    }
   ],
   "source": [
    "validation_sentences = sentences[train_size:] # Frases de validacion\n",
    "validation_labels = labels[train_size:] # Frases de validacion\n",
    "print(len(validation_sentences)) # Tamaño de frases de validacion\n",
    "print(len(validation_labels)) # Tamaño de etiquetas de validacion\n",
    "print(validation_sentences[:3]) \n",
    "print(validation_labels[:3])"
   ]
  },
  {
   "cell_type": "markdown",
   "metadata": {
    "colab_type": "text",
    "id": "N_E4h9j8Mh90"
   },
   "source": [
    "# Grafica de frecuencia de n-gramas\n",
    "### Trigramas"
   ]
  },
  {
   "cell_type": "code",
   "execution_count": 12,
   "metadata": {
    "colab": {
     "base_uri": "https://localhost:8080/",
     "height": 202
    },
    "colab_type": "code",
    "id": "y4UOhrSPJfe7",
    "outputId": "17c8ebf0-3c70-41bb-9920-df4c6e7e4616"
   },
   "outputs": [
    {
     "data": {
      "text/plain": [
       "['wheres',\n",
       " 'mr',\n",
       " 'bergstrom',\n",
       " 'that',\n",
       " 'life',\n",
       " 'is',\n",
       " 'worth',\n",
       " 'living',\n",
       " 'victory',\n",
       " 'party']"
      ]
     },
     "execution_count": 12,
     "metadata": {},
     "output_type": "execute_result"
    }
   ],
   "source": [
    "#Juntamos todo el texto en una sola linea\n",
    "wordtk = ' '.join(train_sentences)\n",
    "\n",
    "#Para dividir las frases\n",
    "tokenstk = regexp_tokenize(wordtk, pattern=\"\\w+\")\n",
    "tokenstk[:10]"
   ]
  },
  {
   "cell_type": "code",
   "execution_count": 13,
   "metadata": {
    "colab": {
     "base_uri": "https://localhost:8080/",
     "height": 109
    },
    "colab_type": "code",
    "id": "PXSnjnMGJmT9",
    "outputId": "2f644f53-4422-4272-fc22-f106cac6fdf4"
   },
   "outputs": [
    {
     "data": {
      "text/plain": [
       "['wheres mr bergstrom',\n",
       " 'mr bergstrom that',\n",
       " 'bergstrom that life',\n",
       " 'that life is',\n",
       " 'life is worth']"
      ]
     },
     "execution_count": 13,
     "metadata": {},
     "output_type": "execute_result"
    }
   ],
   "source": [
    "from nltk.util import ngrams\n",
    "trigrama = ngrams(tokenstk,3)\n",
    "trigrama = [' '.join(grams) for grams in trigrama]\n",
    "trigrama[:5]"
   ]
  },
  {
   "cell_type": "code",
   "execution_count": 14,
   "metadata": {
    "colab": {},
    "colab_type": "code",
    "id": "4-pHnm8S9WaV"
   },
   "outputs": [],
   "source": [
    "freq = nltk.FreqDist(trigrama) #frecuencia de los tokens"
   ]
  },
  {
   "cell_type": "code",
   "execution_count": 15,
   "metadata": {
    "colab": {
     "base_uri": "https://localhost:8080/",
     "height": 372
    },
    "colab_type": "code",
    "id": "VrU1zk_tjqEE",
    "outputId": "1a999121-3fb3-4ecf-9d55-6ae9e12d9592"
   },
   "outputs": [
    {
     "data": {
      "image/png": "[encoded data removed]",
      "text/plain": [
       "<Figure size 432x288 with 1 Axes>"
      ]
     },
     "metadata": {
      "needs_background": "light"
     },
     "output_type": "display_data"
    },
    {
     "name": "stdout",
     "output_type": "stream",
     "text": [
      "Trigramas completos unicos: 380603\n"
     ]
    }
   ],
   "source": [
    "# Gráfica con los trigramas COMPLETOS\n",
    "freq.plot(20, cumulative=False, title = \"Trigramas completos\")\n",
    "print(\"Trigramas completos unicos:\", len(freq))"
   ]
  },
  {
   "cell_type": "code",
   "execution_count": 16,
   "metadata": {
    "colab": {},
    "colab_type": "code",
    "id": "mMMJMohG9ZNQ"
   },
   "outputs": [],
   "source": [
    "eliminar = [] #filtramos tokens que se repiten mas de una vez\n",
    "for key,val in freq.items():\n",
    "  if (250>val>3):\n",
    "    eliminar.append(str(key))\n",
    "\n",
    "trigrama_limpio = []\n",
    "for i in trigrama:\n",
    "  if i in eliminar:\n",
    "    trigrama_limpio.append(i)\n",
    "\n",
    "freqnew = nltk.FreqDist(trigrama_limpio)"
   ]
  },
  {
   "cell_type": "code",
   "execution_count": 17,
   "metadata": {
    "colab": {
     "base_uri": "https://localhost:8080/",
     "height": 372
    },
    "colab_type": "code",
    "id": "LeHOcU_QpIDx",
    "outputId": "e9e3ba51-80c5-406a-d511-86497753cdc1"
   },
   "outputs": [
    {
     "data": {
      "image/png": "[encoded data removed]",
      "text/plain": [
       "<Figure size 432x288 with 1 Axes>"
      ]
     },
     "metadata": {
      "needs_background": "light"
     },
     "output_type": "display_data"
    },
    {
     "name": "stdout",
     "output_type": "stream",
     "text": [
      "Trigramas recortados unicos: 8725\n"
     ]
    }
   ],
   "source": [
    "# Gráfica con los trigramas RECORTADOS\n",
    "freqnew.plot(20, cumulative=False, title = \"Trigramas recortados\")\n",
    "print(\"Trigramas recortados unicos:\", len(freqnew))"
   ]
  },
  {
   "cell_type": "code",
   "execution_count": 18,
   "metadata": {
    "colab": {
     "base_uri": "https://localhost:8080/",
     "height": 54
    },
    "colab_type": "code",
    "id": "X_v6wVGRXTcX",
    "outputId": "96719385-3c6f-4ebd-e61b-fd2b074fd821"
   },
   "outputs": [
    {
     "name": "stdout",
     "output_type": "stream",
     "text": [
      "Trigramas_limpios: 70547\n",
      "Trigramas unicos con sus frecuencias: 8725\n"
     ]
    }
   ],
   "source": [
    "print(\"Trigramas_limpios:\",len(trigrama_limpio))\n",
    "print(\"Trigramas unicos con sus frecuencias:\",len(freqnew))"
   ]
  },
  {
   "cell_type": "markdown",
   "metadata": {
    "colab_type": "text",
    "id": "OA9lEoi8cQaM"
   },
   "source": [
    "### Bigramas"
   ]
  },
  {
   "cell_type": "code",
   "execution_count": 19,
   "metadata": {
    "colab": {
     "base_uri": "https://localhost:8080/",
     "height": 35
    },
    "colab_type": "code",
    "id": "hLv0tCETcSrC",
    "outputId": "969fb90e-b01b-4a8f-f5eb-92f9ae713ed7"
   },
   "outputs": [
    {
     "data": {
      "text/plain": [
       "['wheres mr', 'mr bergstrom', 'bergstrom that', 'that life', 'life is']"
      ]
     },
     "execution_count": 19,
     "metadata": {},
     "output_type": "execute_result"
    }
   ],
   "source": [
    "from nltk.util import ngrams\n",
    "bigrama = ngrams(tokenstk,2)\n",
    "bigrama = [' '.join(grams) for grams in bigrama]\n",
    "bigrama[:5]"
   ]
  },
  {
   "cell_type": "code",
   "execution_count": 20,
   "metadata": {
    "colab": {},
    "colab_type": "code",
    "id": "acCZFRFk9cNW"
   },
   "outputs": [],
   "source": [
    "freqb = nltk.FreqDist(bigrama) #frecuencia de los tokens"
   ]
  },
  {
   "cell_type": "code",
   "execution_count": 21,
   "metadata": {
    "colab": {
     "base_uri": "https://localhost:8080/",
     "height": 351
    },
    "colab_type": "code",
    "id": "8xOKxeRTi2JM",
    "outputId": "77724a00-7521-4c62-954d-b2d79b0112ff"
   },
   "outputs": [
    {
     "data": {
      "image/png": "[encoded data removed]",
      "text/plain": [
       "<Figure size 432x288 with 1 Axes>"
      ]
     },
     "metadata": {
      "needs_background": "light"
     },
     "output_type": "display_data"
    },
    {
     "name": "stdout",
     "output_type": "stream",
     "text": [
      "Bigramas completos unicos: 193111\n"
     ]
    }
   ],
   "source": [
    "# Gráfica con los bigramas COMPLETOS\n",
    "freqb.plot(20, cumulative=False, title = \"Bigrama\")\n",
    "print(\"Bigramas completos unicos:\", len(freqb))"
   ]
  },
  {
   "cell_type": "code",
   "execution_count": 22,
   "metadata": {
    "colab": {},
    "colab_type": "code",
    "id": "oTEizbt_9fEV"
   },
   "outputs": [],
   "source": [
    "eliminarb = [] #filtramos tokens que se repiten mas de una vez\n",
    "for key,val in freqb.items():\n",
    "  if (700>val>100):\n",
    "    eliminarb.append(str(key))\n",
    "\n",
    "bigrama_limpio = []\n",
    "for i in bigrama:\n",
    "  if i in eliminarb:\n",
    "    bigrama_limpio.append(i)\n",
    "\n",
    "freqbnew = nltk.FreqDist(bigrama_limpio)"
   ]
  },
  {
   "cell_type": "code",
   "execution_count": 23,
   "metadata": {
    "colab": {
     "base_uri": "https://localhost:8080/",
     "height": 351
    },
    "colab_type": "code",
    "id": "32Y8at2kcWcZ",
    "outputId": "0d7208c1-0590-403e-a813-24a9f1e0f167"
   },
   "outputs": [
    {
     "data": {
      "image/png": "[encoded data removed]",
      "text/plain": [
       "<Figure size 432x288 with 1 Axes>"
      ]
     },
     "metadata": {
      "needs_background": "light"
     },
     "output_type": "display_data"
    },
    {
     "name": "stdout",
     "output_type": "stream",
     "text": [
      "Bigramas recortados unicos: 8725\n"
     ]
    }
   ],
   "source": [
    "# Gráfica con los Bigramas\n",
    "freqbnew.plot(20, cumulative=False, title = \"Bigramas recortados\")\n",
    "print(\"Bigramas recortados unicos:\", len(freqnew))"
   ]
  },
  {
   "cell_type": "code",
   "execution_count": 24,
   "metadata": {
    "colab": {
     "base_uri": "https://localhost:8080/",
     "height": 54
    },
    "colab_type": "code",
    "id": "X3me9f5ycf-r",
    "outputId": "e370a868-3b67-4321-d736-147765e8cb33"
   },
   "outputs": [
    {
     "name": "stdout",
     "output_type": "stream",
     "text": [
      "Bigramas_limpios: 64008\n",
      "Bigramas unicos con sus frecuencias: 317\n"
     ]
    }
   ],
   "source": [
    "print(\"Bigramas_limpios:\",len(bigrama_limpio))\n",
    "print(\"Bigramas unicos con sus frecuencias:\",len(freqbnew))"
   ]
  },
  {
   "cell_type": "markdown",
   "metadata": {
    "colab_type": "text",
    "id": "sqeyp7uYWBHT"
   },
   "source": [
    "# Vocabulario\n",
    "### Trigramas\n",
    "\n",
    "Aunque trigrama_limpio ya no tiene ni los tokens con repitencias muy bajas ni muy altas, contiene tokens repetidos, por eso, para el vocabulario de CountVectorizer utilizameros los freqnew.keys() que contiene los tokens unicos."
   ]
  },
  {
   "cell_type": "code",
   "execution_count": 25,
   "metadata": {
    "colab": {},
    "colab_type": "code",
    "id": "m10I8zKloSLs"
   },
   "outputs": [],
   "source": [
    "from sklearn.feature_extraction.text import CountVectorizer\n",
    "\n",
    "vectorizer3 = CountVectorizer(vocabulary=freqnew.keys(), ngram_range=(3,3))"
   ]
  },
  {
   "cell_type": "code",
   "execution_count": 26,
   "metadata": {
    "colab": {
     "base_uri": "https://localhost:8080/",
     "height": 54
    },
    "colab_type": "code",
    "id": "9fC6Ku9BpEn-",
    "outputId": "5e716157-0e20-4120-a985-00f3f78edd9d"
   },
   "outputs": [
    {
     "data": {
      "text/plain": [
       "<55336x8725 sparse matrix of type '<class 'numpy.int64'>'\n",
       "\twith 47115 stored elements in Compressed Sparse Row format>"
      ]
     },
     "execution_count": 26,
     "metadata": {},
     "output_type": "execute_result"
    }
   ],
   "source": [
    "X3 = vectorizer3.fit_transform(train_sentences)\n",
    "X3"
   ]
  },
  {
   "cell_type": "code",
   "execution_count": 27,
   "metadata": {
    "colab": {
     "base_uri": "https://localhost:8080/",
     "height": 202
    },
    "colab_type": "code",
    "id": "C4WaPm2ApUTJ",
    "outputId": "b2a875a5-f079-4eaa-91de-15ceffd153f5"
   },
   "outputs": [
    {
     "data": {
      "text/plain": [
       "['do you know',\n",
       " 'you know where',\n",
       " 'know where i',\n",
       " 'i could find',\n",
       " 'hey thanks for',\n",
       " 'thanks for your',\n",
       " 'you got that',\n",
       " 'got that right',\n",
       " 'a couple of',\n",
       " 'just going to']"
      ]
     },
     "execution_count": 27,
     "metadata": {},
     "output_type": "execute_result"
    }
   ],
   "source": [
    "F3 = vectorizer3.get_feature_names() #Mapeo de matriz de índices de enteros a nombres.\n",
    "F3[:10]"
   ]
  },
  {
   "cell_type": "code",
   "execution_count": 28,
   "metadata": {
    "colab": {
     "base_uri": "https://localhost:8080/",
     "height": 35
    },
    "colab_type": "code",
    "id": "hi52OEvRp_zc",
    "outputId": "509733c6-4692-4c4c-8a06-d295e23a9e3b"
   },
   "outputs": [
    {
     "name": "stdout",
     "output_type": "stream",
     "text": [
      "longitud 55336\n"
     ]
    }
   ],
   "source": [
    "train_sequences = X3.toarray() #arreglo\n",
    "print(\"longitud\",len(X3.toarray()))"
   ]
  },
  {
   "cell_type": "markdown",
   "metadata": {
    "colab_type": "text",
    "id": "5KPSxpcaZ7NY"
   },
   "source": [
    "Como vemos en la tabla, cada fila corresponde a una frase de nuestro __train_sentences__ y cada columna corresponde a un trigrama, por lo tanto la tabla es de (55336 × 8725),\n",
    "\n",
    "  - train_sentences: 55336\n",
    "  - Trigramas unicos con sus frecuencias: 8725"
   ]
  },
  {
   "cell_type": "code",
   "execution_count": 29,
   "metadata": {
    "colab": {
     "base_uri": "https://localhost:8080/",
     "height": 479
    },
    "colab_type": "code",
    "id": "2s6KN8-qpzPh",
    "outputId": "75691675-d9d2-403e-834d-2913ff8f9a2f"
   },
   "outputs": [
    {
     "data": {
      "text/html": [
       "<div>\n",
       "<style scoped>\n",
       "    .dataframe tbody tr th:only-of-type {\n",
       "        vertical-align: middle;\n",
       "    }\n",
       "\n",
       "    .dataframe tbody tr th {\n",
       "        vertical-align: top;\n",
       "    }\n",
       "\n",
       "    .dataframe thead th {\n",
       "        text-align: right;\n",
       "    }\n",
       "</style>\n",
       "<table border=\"1\" class=\"dataframe\">\n",
       "  <thead>\n",
       "    <tr style=\"text-align: right;\">\n",
       "      <th></th>\n",
       "      <th>do you know</th>\n",
       "      <th>you know where</th>\n",
       "      <th>know where i</th>\n",
       "      <th>i could find</th>\n",
       "      <th>hey thanks for</th>\n",
       "      <th>thanks for your</th>\n",
       "      <th>you got that</th>\n",
       "      <th>got that right</th>\n",
       "      <th>a couple of</th>\n",
       "      <th>just going to</th>\n",
       "      <th>...</th>\n",
       "      <th>the chosen one</th>\n",
       "      <th>zap zap zap</th>\n",
       "      <th>ew ew ew</th>\n",
       "      <th>you like potato</th>\n",
       "      <th>you like tomato</th>\n",
       "      <th>fine fine fine</th>\n",
       "      <th>wont tell me</th>\n",
       "      <th>a farm upstate</th>\n",
       "      <th>cheech and chong</th>\n",
       "      <th>daves not here</th>\n",
       "    </tr>\n",
       "  </thead>\n",
       "  <tbody>\n",
       "    <tr>\n",
       "      <th>0</th>\n",
       "      <td>0</td>\n",
       "      <td>0</td>\n",
       "      <td>0</td>\n",
       "      <td>0</td>\n",
       "      <td>0</td>\n",
       "      <td>0</td>\n",
       "      <td>0</td>\n",
       "      <td>0</td>\n",
       "      <td>0</td>\n",
       "      <td>0</td>\n",
       "      <td>...</td>\n",
       "      <td>0</td>\n",
       "      <td>0</td>\n",
       "      <td>0</td>\n",
       "      <td>0</td>\n",
       "      <td>0</td>\n",
       "      <td>0</td>\n",
       "      <td>0</td>\n",
       "      <td>0</td>\n",
       "      <td>0</td>\n",
       "      <td>0</td>\n",
       "    </tr>\n",
       "    <tr>\n",
       "      <th>1</th>\n",
       "      <td>0</td>\n",
       "      <td>0</td>\n",
       "      <td>0</td>\n",
       "      <td>0</td>\n",
       "      <td>0</td>\n",
       "      <td>0</td>\n",
       "      <td>0</td>\n",
       "      <td>0</td>\n",
       "      <td>0</td>\n",
       "      <td>0</td>\n",
       "      <td>...</td>\n",
       "      <td>0</td>\n",
       "      <td>0</td>\n",
       "      <td>0</td>\n",
       "      <td>0</td>\n",
       "      <td>0</td>\n",
       "      <td>0</td>\n",
       "      <td>0</td>\n",
       "      <td>0</td>\n",
       "      <td>0</td>\n",
       "      <td>0</td>\n",
       "    </tr>\n",
       "    <tr>\n",
       "      <th>2</th>\n",
       "      <td>0</td>\n",
       "      <td>0</td>\n",
       "      <td>0</td>\n",
       "      <td>0</td>\n",
       "      <td>0</td>\n",
       "      <td>0</td>\n",
       "      <td>0</td>\n",
       "      <td>0</td>\n",
       "      <td>0</td>\n",
       "      <td>0</td>\n",
       "      <td>...</td>\n",
       "      <td>0</td>\n",
       "      <td>0</td>\n",
       "      <td>0</td>\n",
       "      <td>0</td>\n",
       "      <td>0</td>\n",
       "      <td>0</td>\n",
       "      <td>0</td>\n",
       "      <td>0</td>\n",
       "      <td>0</td>\n",
       "      <td>0</td>\n",
       "    </tr>\n",
       "    <tr>\n",
       "      <th>3</th>\n",
       "      <td>0</td>\n",
       "      <td>0</td>\n",
       "      <td>0</td>\n",
       "      <td>0</td>\n",
       "      <td>0</td>\n",
       "      <td>0</td>\n",
       "      <td>0</td>\n",
       "      <td>0</td>\n",
       "      <td>0</td>\n",
       "      <td>0</td>\n",
       "      <td>...</td>\n",
       "      <td>0</td>\n",
       "      <td>0</td>\n",
       "      <td>0</td>\n",
       "      <td>0</td>\n",
       "      <td>0</td>\n",
       "      <td>0</td>\n",
       "      <td>0</td>\n",
       "      <td>0</td>\n",
       "      <td>0</td>\n",
       "      <td>0</td>\n",
       "    </tr>\n",
       "    <tr>\n",
       "      <th>4</th>\n",
       "      <td>1</td>\n",
       "      <td>1</td>\n",
       "      <td>0</td>\n",
       "      <td>0</td>\n",
       "      <td>0</td>\n",
       "      <td>0</td>\n",
       "      <td>0</td>\n",
       "      <td>0</td>\n",
       "      <td>0</td>\n",
       "      <td>0</td>\n",
       "      <td>...</td>\n",
       "      <td>0</td>\n",
       "      <td>0</td>\n",
       "      <td>0</td>\n",
       "      <td>0</td>\n",
       "      <td>0</td>\n",
       "      <td>0</td>\n",
       "      <td>0</td>\n",
       "      <td>0</td>\n",
       "      <td>0</td>\n",
       "      <td>0</td>\n",
       "    </tr>\n",
       "    <tr>\n",
       "      <th>...</th>\n",
       "      <td>...</td>\n",
       "      <td>...</td>\n",
       "      <td>...</td>\n",
       "      <td>...</td>\n",
       "      <td>...</td>\n",
       "      <td>...</td>\n",
       "      <td>...</td>\n",
       "      <td>...</td>\n",
       "      <td>...</td>\n",
       "      <td>...</td>\n",
       "      <td>...</td>\n",
       "      <td>...</td>\n",
       "      <td>...</td>\n",
       "      <td>...</td>\n",
       "      <td>...</td>\n",
       "      <td>...</td>\n",
       "      <td>...</td>\n",
       "      <td>...</td>\n",
       "      <td>...</td>\n",
       "      <td>...</td>\n",
       "      <td>...</td>\n",
       "    </tr>\n",
       "    <tr>\n",
       "      <th>55331</th>\n",
       "      <td>0</td>\n",
       "      <td>0</td>\n",
       "      <td>0</td>\n",
       "      <td>0</td>\n",
       "      <td>0</td>\n",
       "      <td>0</td>\n",
       "      <td>0</td>\n",
       "      <td>0</td>\n",
       "      <td>0</td>\n",
       "      <td>0</td>\n",
       "      <td>...</td>\n",
       "      <td>0</td>\n",
       "      <td>0</td>\n",
       "      <td>0</td>\n",
       "      <td>0</td>\n",
       "      <td>0</td>\n",
       "      <td>0</td>\n",
       "      <td>0</td>\n",
       "      <td>0</td>\n",
       "      <td>0</td>\n",
       "      <td>0</td>\n",
       "    </tr>\n",
       "    <tr>\n",
       "      <th>55332</th>\n",
       "      <td>0</td>\n",
       "      <td>0</td>\n",
       "      <td>0</td>\n",
       "      <td>0</td>\n",
       "      <td>0</td>\n",
       "      <td>0</td>\n",
       "      <td>0</td>\n",
       "      <td>0</td>\n",
       "      <td>0</td>\n",
       "      <td>0</td>\n",
       "      <td>...</td>\n",
       "      <td>0</td>\n",
       "      <td>0</td>\n",
       "      <td>0</td>\n",
       "      <td>0</td>\n",
       "      <td>0</td>\n",
       "      <td>0</td>\n",
       "      <td>0</td>\n",
       "      <td>0</td>\n",
       "      <td>0</td>\n",
       "      <td>0</td>\n",
       "    </tr>\n",
       "    <tr>\n",
       "      <th>55333</th>\n",
       "      <td>0</td>\n",
       "      <td>0</td>\n",
       "      <td>0</td>\n",
       "      <td>0</td>\n",
       "      <td>0</td>\n",
       "      <td>0</td>\n",
       "      <td>0</td>\n",
       "      <td>0</td>\n",
       "      <td>0</td>\n",
       "      <td>0</td>\n",
       "      <td>...</td>\n",
       "      <td>0</td>\n",
       "      <td>0</td>\n",
       "      <td>0</td>\n",
       "      <td>0</td>\n",
       "      <td>0</td>\n",
       "      <td>0</td>\n",
       "      <td>0</td>\n",
       "      <td>0</td>\n",
       "      <td>0</td>\n",
       "      <td>0</td>\n",
       "    </tr>\n",
       "    <tr>\n",
       "      <th>55334</th>\n",
       "      <td>0</td>\n",
       "      <td>0</td>\n",
       "      <td>0</td>\n",
       "      <td>0</td>\n",
       "      <td>0</td>\n",
       "      <td>0</td>\n",
       "      <td>0</td>\n",
       "      <td>0</td>\n",
       "      <td>0</td>\n",
       "      <td>0</td>\n",
       "      <td>...</td>\n",
       "      <td>0</td>\n",
       "      <td>0</td>\n",
       "      <td>0</td>\n",
       "      <td>0</td>\n",
       "      <td>0</td>\n",
       "      <td>0</td>\n",
       "      <td>0</td>\n",
       "      <td>0</td>\n",
       "      <td>0</td>\n",
       "      <td>0</td>\n",
       "    </tr>\n",
       "    <tr>\n",
       "      <th>55335</th>\n",
       "      <td>0</td>\n",
       "      <td>0</td>\n",
       "      <td>0</td>\n",
       "      <td>0</td>\n",
       "      <td>0</td>\n",
       "      <td>0</td>\n",
       "      <td>0</td>\n",
       "      <td>0</td>\n",
       "      <td>0</td>\n",
       "      <td>0</td>\n",
       "      <td>...</td>\n",
       "      <td>0</td>\n",
       "      <td>0</td>\n",
       "      <td>0</td>\n",
       "      <td>0</td>\n",
       "      <td>0</td>\n",
       "      <td>0</td>\n",
       "      <td>0</td>\n",
       "      <td>0</td>\n",
       "      <td>0</td>\n",
       "      <td>0</td>\n",
       "    </tr>\n",
       "  </tbody>\n",
       "</table>\n",
       "<p>55336 rows × 8725 columns</p>\n",
       "</div>"
      ],
      "text/plain": [
       "       do you know  you know where  know where i  i could find  \\\n",
       "0                0               0             0             0   \n",
       "1                0               0             0             0   \n",
       "2                0               0             0             0   \n",
       "3                0               0             0             0   \n",
       "4                1               1             0             0   \n",
       "...            ...             ...           ...           ...   \n",
       "55331            0               0             0             0   \n",
       "55332            0               0             0             0   \n",
       "55333            0               0             0             0   \n",
       "55334            0               0             0             0   \n",
       "55335            0               0             0             0   \n",
       "\n",
       "       hey thanks for  thanks for your  you got that  got that right  \\\n",
       "0                   0                0             0               0   \n",
       "1                   0                0             0               0   \n",
       "2                   0                0             0               0   \n",
       "3                   0                0             0               0   \n",
       "4                   0                0             0               0   \n",
       "...               ...              ...           ...             ...   \n",
       "55331               0                0             0               0   \n",
       "55332               0                0             0               0   \n",
       "55333               0                0             0               0   \n",
       "55334               0                0             0               0   \n",
       "55335               0                0             0               0   \n",
       "\n",
       "       a couple of  just going to  ...  the chosen one  zap zap zap  ew ew ew  \\\n",
       "0                0              0  ...               0            0         0   \n",
       "1                0              0  ...               0            0         0   \n",
       "2                0              0  ...               0            0         0   \n",
       "3                0              0  ...               0            0         0   \n",
       "4                0              0  ...               0            0         0   \n",
       "...            ...            ...  ...             ...          ...       ...   \n",
       "55331            0              0  ...               0            0         0   \n",
       "55332            0              0  ...               0            0         0   \n",
       "55333            0              0  ...               0            0         0   \n",
       "55334            0              0  ...               0            0         0   \n",
       "55335            0              0  ...               0            0         0   \n",
       "\n",
       "       you like potato  you like tomato  fine fine fine  wont tell me  \\\n",
       "0                    0                0               0             0   \n",
       "1                    0                0               0             0   \n",
       "2                    0                0               0             0   \n",
       "3                    0                0               0             0   \n",
       "4                    0                0               0             0   \n",
       "...                ...              ...             ...           ...   \n",
       "55331                0                0               0             0   \n",
       "55332                0                0               0             0   \n",
       "55333                0                0               0             0   \n",
       "55334                0                0               0             0   \n",
       "55335                0                0               0             0   \n",
       "\n",
       "       a farm upstate  cheech and chong  daves not here  \n",
       "0                   0                 0               0  \n",
       "1                   0                 0               0  \n",
       "2                   0                 0               0  \n",
       "3                   0                 0               0  \n",
       "4                   0                 0               0  \n",
       "...               ...               ...             ...  \n",
       "55331               0                 0               0  \n",
       "55332               0                 0               0  \n",
       "55333               0                 0               0  \n",
       "55334               0                 0               0  \n",
       "55335               0                 0               0  \n",
       "\n",
       "[55336 rows x 8725 columns]"
      ]
     },
     "execution_count": 29,
     "metadata": {},
     "output_type": "execute_result"
    }
   ],
   "source": [
    "import pandas as pd\n",
    "pd.DataFrame(train_sequences,columns=vectorizer3.get_feature_names())"
   ]
  },
  {
   "cell_type": "markdown",
   "metadata": {
    "colab_type": "text",
    "id": "YMSJiTn3d2qs"
   },
   "source": [
    "### Bigramas\n",
    "Aunque bigrama_limpio ya no tiene ni los tokens con repitencias muy bajas ni muy altas, contiene tokens repetidos, por eso, para el vocabulario de CountVectorizer utilizameros los freqbnew.keys() que contiene los tokens unicos."
   ]
  },
  {
   "cell_type": "code",
   "execution_count": 30,
   "metadata": {
    "colab": {},
    "colab_type": "code",
    "id": "hGVJSHqqd6wK"
   },
   "outputs": [],
   "source": [
    "from sklearn.feature_extraction.text import CountVectorizer\n",
    "\n",
    "vectorizer2 = CountVectorizer(vocabulary=freqbnew.keys(), ngram_range=(2,2))"
   ]
  },
  {
   "cell_type": "code",
   "execution_count": 31,
   "metadata": {
    "colab": {
     "base_uri": "https://localhost:8080/",
     "height": 54
    },
    "colab_type": "code",
    "id": "2O0P6cxyd9QE",
    "outputId": "c85d1ddb-0982-4faf-a467-d20fc8643fe4"
   },
   "outputs": [
    {
     "data": {
      "text/plain": [
       "<55336x317 sparse matrix of type '<class 'numpy.int64'>'\n",
       "\twith 42308 stored elements in Compressed Sparse Row format>"
      ]
     },
     "execution_count": 31,
     "metadata": {},
     "output_type": "execute_result"
    }
   ],
   "source": [
    "X2 = vectorizer2.fit_transform(train_sentences)\n",
    "X2"
   ]
  },
  {
   "cell_type": "code",
   "execution_count": 32,
   "metadata": {
    "colab": {
     "base_uri": "https://localhost:8080/",
     "height": 202
    },
    "colab_type": "code",
    "id": "Sdhtiwb0d_hS",
    "outputId": "328ac324-7521-401c-ec5a-1529b3b2d7e6"
   },
   "outputs": [
    {
     "data": {
      "text/plain": [
       "['do you',\n",
       " 'you know',\n",
       " 'i could',\n",
       " 'i see',\n",
       " 'for your',\n",
       " 'you got',\n",
       " 'as a',\n",
       " 'oh i',\n",
       " 'i mean',\n",
       " 'you just']"
      ]
     },
     "execution_count": 32,
     "metadata": {},
     "output_type": "execute_result"
    }
   ],
   "source": [
    "F2 = vectorizer2.get_feature_names() #Mapeo de matriz de índices de enteros a nombres.\n",
    "F2[:10]"
   ]
  },
  {
   "cell_type": "code",
   "execution_count": 33,
   "metadata": {
    "colab": {
     "base_uri": "https://localhost:8080/",
     "height": 35
    },
    "colab_type": "code",
    "id": "gSIEa8d2eByA",
    "outputId": "074bc1f6-44de-410b-b5f9-98b5d83d5a0b"
   },
   "outputs": [
    {
     "name": "stdout",
     "output_type": "stream",
     "text": [
      "longitud 55336\n"
     ]
    }
   ],
   "source": [
    "train_sequences_b = X2.toarray() #arreglo\n",
    "print(\"longitud\",len(X2.toarray()))"
   ]
  },
  {
   "cell_type": "markdown",
   "metadata": {
    "colab_type": "text",
    "id": "9yHIqW9ieD-3"
   },
   "source": [
    "Como vemos en la tabla, cada fila corresponde a una frase de nuestro __train_sentences__ y cada columna corresponde a un bigrama, por lo tanto la tabla es de (55336 × 317),\n",
    "\n",
    "  - train_sentences: 55336\n",
    "  - Trigramas unicos con sus frecuencias: 317"
   ]
  },
  {
   "cell_type": "code",
   "execution_count": 34,
   "metadata": {
    "colab": {
     "base_uri": "https://localhost:8080/",
     "height": 461
    },
    "colab_type": "code",
    "id": "9StfmyU3eGcC",
    "outputId": "97e6526a-53b1-433d-b8f2-88f09c48943f"
   },
   "outputs": [
    {
     "data": {
      "text/html": [
       "<div>\n",
       "<style scoped>\n",
       "    .dataframe tbody tr th:only-of-type {\n",
       "        vertical-align: middle;\n",
       "    }\n",
       "\n",
       "    .dataframe tbody tr th {\n",
       "        vertical-align: top;\n",
       "    }\n",
       "\n",
       "    .dataframe thead th {\n",
       "        text-align: right;\n",
       "    }\n",
       "</style>\n",
       "<table border=\"1\" class=\"dataframe\">\n",
       "  <thead>\n",
       "    <tr style=\"text-align: right;\">\n",
       "      <th></th>\n",
       "      <th>do you</th>\n",
       "      <th>you know</th>\n",
       "      <th>i could</th>\n",
       "      <th>i see</th>\n",
       "      <th>for your</th>\n",
       "      <th>you got</th>\n",
       "      <th>as a</th>\n",
       "      <th>oh i</th>\n",
       "      <th>i mean</th>\n",
       "      <th>you just</th>\n",
       "      <th>...</th>\n",
       "      <th>youre not</th>\n",
       "      <th>not a</th>\n",
       "      <th>am i</th>\n",
       "      <th>got to</th>\n",
       "      <th>id like</th>\n",
       "      <th>make it</th>\n",
       "      <th>wanted to</th>\n",
       "      <th>what the</th>\n",
       "      <th>i wont</th>\n",
       "      <th>like the</th>\n",
       "    </tr>\n",
       "  </thead>\n",
       "  <tbody>\n",
       "    <tr>\n",
       "      <th>0</th>\n",
       "      <td>0</td>\n",
       "      <td>0</td>\n",
       "      <td>0</td>\n",
       "      <td>0</td>\n",
       "      <td>0</td>\n",
       "      <td>0</td>\n",
       "      <td>0</td>\n",
       "      <td>0</td>\n",
       "      <td>0</td>\n",
       "      <td>0</td>\n",
       "      <td>...</td>\n",
       "      <td>0</td>\n",
       "      <td>0</td>\n",
       "      <td>0</td>\n",
       "      <td>0</td>\n",
       "      <td>0</td>\n",
       "      <td>0</td>\n",
       "      <td>0</td>\n",
       "      <td>0</td>\n",
       "      <td>0</td>\n",
       "      <td>0</td>\n",
       "    </tr>\n",
       "    <tr>\n",
       "      <th>1</th>\n",
       "      <td>0</td>\n",
       "      <td>0</td>\n",
       "      <td>0</td>\n",
       "      <td>0</td>\n",
       "      <td>0</td>\n",
       "      <td>0</td>\n",
       "      <td>0</td>\n",
       "      <td>0</td>\n",
       "      <td>0</td>\n",
       "      <td>0</td>\n",
       "      <td>...</td>\n",
       "      <td>0</td>\n",
       "      <td>0</td>\n",
       "      <td>0</td>\n",
       "      <td>0</td>\n",
       "      <td>0</td>\n",
       "      <td>0</td>\n",
       "      <td>0</td>\n",
       "      <td>0</td>\n",
       "      <td>0</td>\n",
       "      <td>0</td>\n",
       "    </tr>\n",
       "    <tr>\n",
       "      <th>2</th>\n",
       "      <td>0</td>\n",
       "      <td>0</td>\n",
       "      <td>0</td>\n",
       "      <td>0</td>\n",
       "      <td>0</td>\n",
       "      <td>0</td>\n",
       "      <td>0</td>\n",
       "      <td>0</td>\n",
       "      <td>0</td>\n",
       "      <td>0</td>\n",
       "      <td>...</td>\n",
       "      <td>0</td>\n",
       "      <td>0</td>\n",
       "      <td>0</td>\n",
       "      <td>0</td>\n",
       "      <td>0</td>\n",
       "      <td>0</td>\n",
       "      <td>0</td>\n",
       "      <td>0</td>\n",
       "      <td>0</td>\n",
       "      <td>0</td>\n",
       "    </tr>\n",
       "    <tr>\n",
       "      <th>3</th>\n",
       "      <td>0</td>\n",
       "      <td>0</td>\n",
       "      <td>0</td>\n",
       "      <td>0</td>\n",
       "      <td>0</td>\n",
       "      <td>0</td>\n",
       "      <td>0</td>\n",
       "      <td>0</td>\n",
       "      <td>0</td>\n",
       "      <td>0</td>\n",
       "      <td>...</td>\n",
       "      <td>0</td>\n",
       "      <td>0</td>\n",
       "      <td>0</td>\n",
       "      <td>0</td>\n",
       "      <td>0</td>\n",
       "      <td>0</td>\n",
       "      <td>0</td>\n",
       "      <td>0</td>\n",
       "      <td>0</td>\n",
       "      <td>0</td>\n",
       "    </tr>\n",
       "    <tr>\n",
       "      <th>4</th>\n",
       "      <td>1</td>\n",
       "      <td>1</td>\n",
       "      <td>0</td>\n",
       "      <td>0</td>\n",
       "      <td>0</td>\n",
       "      <td>0</td>\n",
       "      <td>0</td>\n",
       "      <td>0</td>\n",
       "      <td>0</td>\n",
       "      <td>0</td>\n",
       "      <td>...</td>\n",
       "      <td>0</td>\n",
       "      <td>0</td>\n",
       "      <td>0</td>\n",
       "      <td>0</td>\n",
       "      <td>0</td>\n",
       "      <td>0</td>\n",
       "      <td>0</td>\n",
       "      <td>0</td>\n",
       "      <td>0</td>\n",
       "      <td>0</td>\n",
       "    </tr>\n",
       "    <tr>\n",
       "      <th>...</th>\n",
       "      <td>...</td>\n",
       "      <td>...</td>\n",
       "      <td>...</td>\n",
       "      <td>...</td>\n",
       "      <td>...</td>\n",
       "      <td>...</td>\n",
       "      <td>...</td>\n",
       "      <td>...</td>\n",
       "      <td>...</td>\n",
       "      <td>...</td>\n",
       "      <td>...</td>\n",
       "      <td>...</td>\n",
       "      <td>...</td>\n",
       "      <td>...</td>\n",
       "      <td>...</td>\n",
       "      <td>...</td>\n",
       "      <td>...</td>\n",
       "      <td>...</td>\n",
       "      <td>...</td>\n",
       "      <td>...</td>\n",
       "      <td>...</td>\n",
       "    </tr>\n",
       "    <tr>\n",
       "      <th>55331</th>\n",
       "      <td>0</td>\n",
       "      <td>0</td>\n",
       "      <td>0</td>\n",
       "      <td>0</td>\n",
       "      <td>0</td>\n",
       "      <td>0</td>\n",
       "      <td>0</td>\n",
       "      <td>0</td>\n",
       "      <td>0</td>\n",
       "      <td>0</td>\n",
       "      <td>...</td>\n",
       "      <td>0</td>\n",
       "      <td>0</td>\n",
       "      <td>0</td>\n",
       "      <td>0</td>\n",
       "      <td>0</td>\n",
       "      <td>0</td>\n",
       "      <td>0</td>\n",
       "      <td>0</td>\n",
       "      <td>0</td>\n",
       "      <td>0</td>\n",
       "    </tr>\n",
       "    <tr>\n",
       "      <th>55332</th>\n",
       "      <td>0</td>\n",
       "      <td>0</td>\n",
       "      <td>0</td>\n",
       "      <td>0</td>\n",
       "      <td>0</td>\n",
       "      <td>0</td>\n",
       "      <td>0</td>\n",
       "      <td>0</td>\n",
       "      <td>0</td>\n",
       "      <td>0</td>\n",
       "      <td>...</td>\n",
       "      <td>0</td>\n",
       "      <td>0</td>\n",
       "      <td>0</td>\n",
       "      <td>0</td>\n",
       "      <td>0</td>\n",
       "      <td>0</td>\n",
       "      <td>0</td>\n",
       "      <td>0</td>\n",
       "      <td>0</td>\n",
       "      <td>0</td>\n",
       "    </tr>\n",
       "    <tr>\n",
       "      <th>55333</th>\n",
       "      <td>0</td>\n",
       "      <td>0</td>\n",
       "      <td>0</td>\n",
       "      <td>0</td>\n",
       "      <td>0</td>\n",
       "      <td>0</td>\n",
       "      <td>0</td>\n",
       "      <td>0</td>\n",
       "      <td>0</td>\n",
       "      <td>0</td>\n",
       "      <td>...</td>\n",
       "      <td>0</td>\n",
       "      <td>0</td>\n",
       "      <td>0</td>\n",
       "      <td>0</td>\n",
       "      <td>0</td>\n",
       "      <td>0</td>\n",
       "      <td>0</td>\n",
       "      <td>0</td>\n",
       "      <td>0</td>\n",
       "      <td>0</td>\n",
       "    </tr>\n",
       "    <tr>\n",
       "      <th>55334</th>\n",
       "      <td>0</td>\n",
       "      <td>0</td>\n",
       "      <td>0</td>\n",
       "      <td>0</td>\n",
       "      <td>0</td>\n",
       "      <td>0</td>\n",
       "      <td>0</td>\n",
       "      <td>0</td>\n",
       "      <td>0</td>\n",
       "      <td>0</td>\n",
       "      <td>...</td>\n",
       "      <td>0</td>\n",
       "      <td>0</td>\n",
       "      <td>0</td>\n",
       "      <td>0</td>\n",
       "      <td>0</td>\n",
       "      <td>0</td>\n",
       "      <td>0</td>\n",
       "      <td>0</td>\n",
       "      <td>0</td>\n",
       "      <td>0</td>\n",
       "    </tr>\n",
       "    <tr>\n",
       "      <th>55335</th>\n",
       "      <td>0</td>\n",
       "      <td>0</td>\n",
       "      <td>0</td>\n",
       "      <td>0</td>\n",
       "      <td>0</td>\n",
       "      <td>0</td>\n",
       "      <td>0</td>\n",
       "      <td>0</td>\n",
       "      <td>0</td>\n",
       "      <td>0</td>\n",
       "      <td>...</td>\n",
       "      <td>0</td>\n",
       "      <td>0</td>\n",
       "      <td>0</td>\n",
       "      <td>0</td>\n",
       "      <td>0</td>\n",
       "      <td>0</td>\n",
       "      <td>0</td>\n",
       "      <td>0</td>\n",
       "      <td>0</td>\n",
       "      <td>0</td>\n",
       "    </tr>\n",
       "  </tbody>\n",
       "</table>\n",
       "<p>55336 rows × 317 columns</p>\n",
       "</div>"
      ],
      "text/plain": [
       "       do you  you know  i could  i see  for your  you got  as a  oh i  \\\n",
       "0           0         0        0      0         0        0     0     0   \n",
       "1           0         0        0      0         0        0     0     0   \n",
       "2           0         0        0      0         0        0     0     0   \n",
       "3           0         0        0      0         0        0     0     0   \n",
       "4           1         1        0      0         0        0     0     0   \n",
       "...       ...       ...      ...    ...       ...      ...   ...   ...   \n",
       "55331       0         0        0      0         0        0     0     0   \n",
       "55332       0         0        0      0         0        0     0     0   \n",
       "55333       0         0        0      0         0        0     0     0   \n",
       "55334       0         0        0      0         0        0     0     0   \n",
       "55335       0         0        0      0         0        0     0     0   \n",
       "\n",
       "       i mean  you just  ...  youre not  not a  am i  got to  id like  \\\n",
       "0           0         0  ...          0      0     0       0        0   \n",
       "1           0         0  ...          0      0     0       0        0   \n",
       "2           0         0  ...          0      0     0       0        0   \n",
       "3           0         0  ...          0      0     0       0        0   \n",
       "4           0         0  ...          0      0     0       0        0   \n",
       "...       ...       ...  ...        ...    ...   ...     ...      ...   \n",
       "55331       0         0  ...          0      0     0       0        0   \n",
       "55332       0         0  ...          0      0     0       0        0   \n",
       "55333       0         0  ...          0      0     0       0        0   \n",
       "55334       0         0  ...          0      0     0       0        0   \n",
       "55335       0         0  ...          0      0     0       0        0   \n",
       "\n",
       "       make it  wanted to  what the  i wont  like the  \n",
       "0            0          0         0       0         0  \n",
       "1            0          0         0       0         0  \n",
       "2            0          0         0       0         0  \n",
       "3            0          0         0       0         0  \n",
       "4            0          0         0       0         0  \n",
       "...        ...        ...       ...     ...       ...  \n",
       "55331        0          0         0       0         0  \n",
       "55332        0          0         0       0         0  \n",
       "55333        0          0         0       0         0  \n",
       "55334        0          0         0       0         0  \n",
       "55335        0          0         0       0         0  \n",
       "\n",
       "[55336 rows x 317 columns]"
      ]
     },
     "execution_count": 34,
     "metadata": {},
     "output_type": "execute_result"
    }
   ],
   "source": [
    "import pandas as pd\n",
    "pd.DataFrame(train_sequences_b,columns=vectorizer2.get_feature_names())"
   ]
  },
  {
   "cell_type": "markdown",
   "metadata": {
    "colab_type": "text",
    "id": "6cKN1-VTnC6s"
   },
   "source": [
    "# Datos Entrenamiento\n",
    "### Juntamos los bigramas y trigramas\n",
    "Como cada fila corresponde a una frase de nuestro __train_sentences__ y cada columna corresponde a los bigramas y trigramas, nuestra tabla es de (55336 × 9042) donde:\n",
    "\n",
    "  - train_sentences: 55336\n",
    "  - Trigramas unicos con sus frecuencias(8725) + bigramas unicos con sus frecuencias(317):  9042"
   ]
  },
  {
   "cell_type": "code",
   "execution_count": 35,
   "metadata": {
    "colab": {
     "base_uri": "https://localhost:8080/",
     "height": 35
    },
    "colab_type": "code",
    "id": "iBnuvGpinBxs",
    "outputId": "8cf85c93-56b4-4d64-a4d1-2e7c2e2feb13"
   },
   "outputs": [
    {
     "data": {
      "text/plain": [
       "numpy.ndarray"
      ]
     },
     "execution_count": 35,
     "metadata": {},
     "output_type": "execute_result"
    }
   ],
   "source": [
    "train_sequences_bt = np.concatenate((train_sequences, train_sequences_b), axis=1)\n",
    "#tamaño de los datos\n",
    "type(train_sequences_bt)"
   ]
  },
  {
   "cell_type": "code",
   "execution_count": 36,
   "metadata": {
    "colab": {
     "base_uri": "https://localhost:8080/",
     "height": 109
    },
    "colab_type": "code",
    "id": "eQqt5n6xAyAY",
    "outputId": "5ed79b5e-7eea-4458-b266-1643dc57b3b8"
   },
   "outputs": [
    {
     "data": {
      "text/plain": [
       "array([[0, 0, 0, ..., 0, 0, 0],\n",
       "       [0, 0, 0, ..., 0, 0, 0],\n",
       "       [0, 0, 0, ..., 0, 0, 0],\n",
       "       [0, 0, 0, ..., 0, 0, 0],\n",
       "       [1, 1, 0, ..., 0, 0, 0]])"
      ]
     },
     "execution_count": 36,
     "metadata": {},
     "output_type": "execute_result"
    }
   ],
   "source": [
    "train_sequences_bt[:5]"
   ]
  },
  {
   "cell_type": "code",
   "execution_count": 37,
   "metadata": {
    "colab": {},
    "colab_type": "code",
    "id": "btUUw9jMkzpP"
   },
   "outputs": [],
   "source": [
    "train_sequences_bt_new = [ ]\n",
    "train_labels_new = [ ]\n",
    "for i in range(0,len(train_sequences_bt)):\n",
    "  if sum(train_sequences_bt[i,]) != 0:\n",
    "    train_labels_new.append(train_labels[i])\n",
    "    train_sequences_bt_new.append(train_sequences_bt[i,])\n",
    "\n",
    "train_sequences_bt = np.array(train_sequences_bt_new)"
   ]
  },
  {
   "cell_type": "code",
   "execution_count": 38,
   "metadata": {
    "colab": {
     "base_uri": "https://localhost:8080/",
     "height": 54
    },
    "colab_type": "code",
    "id": "mkDKLkp6mx3K",
    "outputId": "11288d34-57c0-4105-e218-ba3c39847344"
   },
   "outputs": [
    {
     "name": "stdout",
     "output_type": "stream",
     "text": [
      "(29436, 9042)\n",
      "(29436,)\n"
     ]
    }
   ],
   "source": [
    "train_labels = train_labels_new\n",
    "print(np.shape(train_sequences_bt))\n",
    "print(np.shape(train_labels))"
   ]
  },
  {
   "cell_type": "markdown",
   "metadata": {
    "colab_type": "text",
    "id": "nr04X0P0rp0Q"
   },
   "source": [
    "# Datos Validacion\n",
    "### Trigramas"
   ]
  },
  {
   "cell_type": "code",
   "execution_count": 39,
   "metadata": {
    "colab": {
     "base_uri": "https://localhost:8080/",
     "height": 54
    },
    "colab_type": "code",
    "id": "BmgFbKgMr4fg",
    "outputId": "71c14583-629d-43e1-da20-f27a72a9be17"
   },
   "outputs": [
    {
     "name": "stdout",
     "output_type": "stream",
     "text": [
      "longitud 13835\n",
      "(13835, 8725)\n"
     ]
    }
   ],
   "source": [
    "X6 = vectorizer3.fit_transform(validation_sentences)\n",
    "F6 = vectorizer3.get_feature_names() #Mapeo de matriz de índices de enteros a nombres.\n",
    "validation_sequences = X6.toarray() #arreglo\n",
    "print(\"longitud\",len(X6.toarray()))\n",
    "print(X6.toarray().shape)"
   ]
  },
  {
   "cell_type": "markdown",
   "metadata": {
    "colab_type": "text",
    "id": "3tX9na-BsFQ-"
   },
   "source": [
    "### Bigramas"
   ]
  },
  {
   "cell_type": "code",
   "execution_count": 40,
   "metadata": {
    "colab": {
     "base_uri": "https://localhost:8080/",
     "height": 35
    },
    "colab_type": "code",
    "id": "pAIsfbObsHUs",
    "outputId": "7e58ac03-8e12-4d20-c4f8-837de9e752c1"
   },
   "outputs": [
    {
     "name": "stdout",
     "output_type": "stream",
     "text": [
      "(13835, 317)\n"
     ]
    }
   ],
   "source": [
    "X4 = vectorizer2.fit_transform(validation_sentences)\n",
    "F4 = vectorizer2.get_feature_names() #Mapeo de matriz de índices de enteros a nombres.\n",
    "validation_sequences_b = X4.toarray() #arreglo\n",
    "print(X4.toarray().shape)"
   ]
  },
  {
   "cell_type": "markdown",
   "metadata": {
    "colab_type": "text",
    "id": "IBUj4h2JtjnP"
   },
   "source": [
    "### Juntamos trigramas y bigramas"
   ]
  },
  {
   "cell_type": "code",
   "execution_count": 41,
   "metadata": {
    "colab": {
     "base_uri": "https://localhost:8080/",
     "height": 35
    },
    "colab_type": "code",
    "id": "40i3PdfgtiyT",
    "outputId": "478cc312-8cdc-4a34-a8c0-e5589f7d1544"
   },
   "outputs": [
    {
     "data": {
      "text/plain": [
       "(13835, 9042)"
      ]
     },
     "execution_count": 41,
     "metadata": {},
     "output_type": "execute_result"
    }
   ],
   "source": [
    "validation_sequences_bt = np.concatenate((validation_sequences, validation_sequences_b), axis=1)\n",
    "#tamaño de los datos\n",
    "validation_sequences_bt.shape"
   ]
  },
  {
   "cell_type": "code",
   "execution_count": 42,
   "metadata": {
    "colab": {},
    "colab_type": "code",
    "id": "p-WuzccgqiL1"
   },
   "outputs": [],
   "source": [
    "validation_sequences_bt_new = [ ]\n",
    "validation_labels_new = [ ]\n",
    "for i in range(0,len(validation_sequences_bt)):\n",
    "  if sum(validation_sequences_bt[i,]) != 0:\n",
    "    validation_labels_new.append(validation_labels[i])\n",
    "    validation_sequences_bt_new.append(validation_sequences_bt[i,])\n",
    "\n",
    "validation_sequences_bt = np.array(validation_sequences_bt_new)"
   ]
  },
  {
   "cell_type": "code",
   "execution_count": 43,
   "metadata": {
    "colab": {
     "base_uri": "https://localhost:8080/",
     "height": 54
    },
    "colab_type": "code",
    "id": "VBq6KP7Xq7qt",
    "outputId": "2021b1ab-1ded-4b7b-f880-442e865b19fa"
   },
   "outputs": [
    {
     "name": "stdout",
     "output_type": "stream",
     "text": [
      "(7069, 9042)\n",
      "(7069,)\n"
     ]
    }
   ],
   "source": [
    "validation_labels = validation_labels_new\n",
    "print(np.shape(validation_sequences_bt))\n",
    "print(np.shape(validation_labels))"
   ]
  },
  {
   "cell_type": "markdown",
   "metadata": {
    "colab_type": "text",
    "id": "b7Un8Lnw2th5"
   },
   "source": [
    "# Labels\n",
    "### Entrenamiento"
   ]
  },
  {
   "cell_type": "code",
   "execution_count": 44,
   "metadata": {
    "colab": {
     "base_uri": "https://localhost:8080/",
     "height": 35
    },
    "colab_type": "code",
    "id": "fJgRbKE1OIkU",
    "outputId": "32c49a39-ec9b-44b8-a84f-665f925e3602"
   },
   "outputs": [
    {
     "name": "stdout",
     "output_type": "stream",
     "text": [
      "29436\n"
     ]
    }
   ],
   "source": [
    "label_size = 4\n",
    "label_tokenizer = Tokenizer(num_words = label_size,oov_token=oov_tok, filters = '')\n",
    "label_tokenizer.fit_on_texts(train_labels)\n",
    "\n",
    "label_seq = np.array(label_tokenizer.texts_to_sequences(train_labels))\n",
    "training_label_seq = np.array(label_tokenizer.texts_to_sequences(train_labels))\n",
    "\n",
    "# flatten the nested list and tranaform to an np array\n",
    "label_seq = np.array([item for items in label_seq for item in items])\n",
    "training_label_seq = np.array([item for items in training_label_seq for item in items])\n",
    "training_label_seq[:5]\n",
    "print(len(training_label_seq))"
   ]
  },
  {
   "cell_type": "code",
   "execution_count": 45,
   "metadata": {
    "colab": {},
    "colab_type": "code",
    "id": "TXj17DMDOf_8"
   },
   "outputs": [],
   "source": [
    "#Creamos etiquetas numericas\n",
    "encoder = LabelEncoder()\n",
    "\n",
    "encoder.fit(label_seq)\n",
    "train_labels = encoder.transform(training_label_seq)"
   ]
  },
  {
   "cell_type": "code",
   "execution_count": 46,
   "metadata": {
    "colab": {},
    "colab_type": "code",
    "id": "ynKVnhnOPAkH"
   },
   "outputs": [],
   "source": [
    "# Codificación One-Hot \n",
    "num_classes = label_size\n",
    "train_labels_codf = tf.keras.utils.to_categorical(train_labels, num_classes)"
   ]
  },
  {
   "cell_type": "code",
   "execution_count": 47,
   "metadata": {
    "colab": {
     "base_uri": "https://localhost:8080/",
     "height": 35
    },
    "colab_type": "code",
    "id": "0I_CfBQOS2Sm",
    "outputId": "c0d5d3c8-5817-4776-bca5-070dfcfb1ef8"
   },
   "outputs": [
    {
     "data": {
      "text/plain": [
       "29436"
      ]
     },
     "execution_count": 47,
     "metadata": {},
     "output_type": "execute_result"
    }
   ],
   "source": [
    "len(train_labels_codf)"
   ]
  },
  {
   "cell_type": "code",
   "execution_count": 48,
   "metadata": {
    "colab": {
     "base_uri": "https://localhost:8080/",
     "height": 146
    },
    "colab_type": "code",
    "id": "U4g1VnJ3rti8",
    "outputId": "3baafa44-7404-423f-9e8d-90f7fbae7e0c"
   },
   "outputs": [
    {
     "name": "stdout",
     "output_type": "stream",
     "text": [
      "[[1. 0. 0. 0.]\n",
      " [1. 0. 0. 0.]\n",
      " [1. 0. 0. 0.]\n",
      " ...\n",
      " [0. 1. 0. 0.]\n",
      " [0. 1. 0. 0.]\n",
      " [0. 1. 0. 0.]]\n"
     ]
    }
   ],
   "source": [
    "print(train_labels_codf)"
   ]
  },
  {
   "cell_type": "markdown",
   "metadata": {
    "colab_type": "text",
    "id": "Ps043ZX65kXS"
   },
   "source": [
    "#### Grupo de Validacion "
   ]
  },
  {
   "cell_type": "code",
   "execution_count": 49,
   "metadata": {
    "colab": {
     "base_uri": "https://localhost:8080/",
     "height": 35
    },
    "colab_type": "code",
    "id": "W-1pVv6SMqUk",
    "outputId": "c4fc4cb1-233f-4a17-f3bd-c320c74cdbce"
   },
   "outputs": [
    {
     "name": "stdout",
     "output_type": "stream",
     "text": [
      "7069\n"
     ]
    }
   ],
   "source": [
    "label_size = 4\n",
    "label_tokenizer = Tokenizer(num_words = label_size,oov_token=oov_tok, filters = '')\n",
    "label_tokenizer.fit_on_texts(validation_labels)\n",
    "label_seq = np.array(label_tokenizer.texts_to_sequences(validation_labels))\n",
    "validation_label_seq = np.array(label_tokenizer.texts_to_sequences(validation_labels))\n",
    "\n",
    "# flatten the nested list and tranaform to an np array\n",
    "label_seq = np.array([item for items in label_seq for item in items])\n",
    "validation_label_seq = np.array([item for items in validation_label_seq for item in items])\n",
    "validation_label_seq\n",
    "print(len(validation_label_seq))"
   ]
  },
  {
   "cell_type": "code",
   "execution_count": 50,
   "metadata": {
    "colab": {},
    "colab_type": "code",
    "id": "__aVt_doQ7AV"
   },
   "outputs": [],
   "source": [
    "#Creamos etiquetas numericas\n",
    "encoder = LabelEncoder()\n",
    "\n",
    "encoder.fit(label_seq)\n",
    "validation_labels = encoder.transform(validation_label_seq)\n",
    "num_classes = 4"
   ]
  },
  {
   "cell_type": "code",
   "execution_count": 51,
   "metadata": {
    "colab": {},
    "colab_type": "code",
    "id": "Ff6QM8gqSIA4"
   },
   "outputs": [],
   "source": [
    "# Codificación One-Hot \n",
    "validation_labels_codf = tf.keras.utils.to_categorical(validation_labels, num_classes)"
   ]
  },
  {
   "cell_type": "code",
   "execution_count": 52,
   "metadata": {
    "colab": {
     "base_uri": "https://localhost:8080/",
     "height": 35
    },
    "colab_type": "code",
    "id": "e75A24MySnRs",
    "outputId": "838ebb52-3fa7-4cba-b37b-2daef2784117"
   },
   "outputs": [
    {
     "data": {
      "text/plain": [
       "7069"
      ]
     },
     "execution_count": 52,
     "metadata": {},
     "output_type": "execute_result"
    }
   ],
   "source": [
    "len(validation_labels_codf)"
   ]
  },
  {
   "cell_type": "code",
   "execution_count": 53,
   "metadata": {
    "colab": {
     "base_uri": "https://localhost:8080/",
     "height": 146
    },
    "colab_type": "code",
    "id": "vM2XQVxisGoB",
    "outputId": "d8d68a23-4ad8-460e-c1b6-7be5e6c97719"
   },
   "outputs": [
    {
     "name": "stdout",
     "output_type": "stream",
     "text": [
      "[[0. 1. 0. 0.]\n",
      " [1. 0. 0. 0.]\n",
      " [0. 1. 0. 0.]\n",
      " ...\n",
      " [1. 0. 0. 0.]\n",
      " [1. 0. 0. 0.]\n",
      " [1. 0. 0. 0.]]\n"
     ]
    }
   ],
   "source": [
    "print(validation_labels_codf)"
   ]
  },
  {
   "cell_type": "markdown",
   "metadata": {
    "colab_type": "text",
    "id": "Q3FKjA0CTfPV"
   },
   "source": [
    "# Construccion del Modelo"
   ]
  },
  {
   "cell_type": "code",
   "execution_count": 54,
   "metadata": {
    "colab": {
     "base_uri": "https://localhost:8080/",
     "height": 35
    },
    "colab_type": "code",
    "id": "CS0SdbzgTh_8",
    "outputId": "aa9fb1ed-2ded-4f2a-e4f4-91b00ad5468d"
   },
   "outputs": [
    {
     "name": "stdout",
     "output_type": "stream",
     "text": [
      "(29436, 4)\n",
      "(29436, 9042)\n",
      "(7069, 4)\n",
      "(7069, 9042)\n"
     ]
    }
   ],
   "source": [
    "print(np.shape(train_labels_codf))\n",
    "print(np.shape(train_sequences_bt))\n",
    "print(np.shape(validation_labels_codf))\n",
    "print(np.shape(validation_sequences_bt))"
   ]
  },
  {
   "cell_type": "code",
   "execution_count": 55,
   "metadata": {
    "colab": {
     "base_uri": "https://localhost:8080/",
     "height": 461
    },
    "colab_type": "code",
    "id": "Zf_uFWIKT-pn",
    "outputId": "6b4c50fa-41af-43a8-8d3d-0734b98a205c"
   },
   "outputs": [
    {
     "name": "stdout",
     "output_type": "stream",
     "text": [
      "Model: \"sequential\"\n",
      "_________________________________________________________________\n",
      "Layer (type)                 Output Shape              Param #   \n",
      "=================================================================\n",
      "dense (Dense)                (None, 6028)              54511204  \n",
      "_________________________________________________________________\n",
      "dropout (Dropout)            (None, 6028)              0         \n",
      "_________________________________________________________________\n",
      "dense_1 (Dense)              (None, 4521)              27257109  \n",
      "_________________________________________________________________\n",
      "dropout_1 (Dropout)          (None, 4521)              0         \n",
      "_________________________________________________________________\n",
      "dense_2 (Dense)              (None, 2260)              10219720  \n",
      "_________________________________________________________________\n",
      "dropout_2 (Dropout)          (None, 2260)              0         \n",
      "_________________________________________________________________\n",
      "dense_3 (Dense)              (None, 1130)              2554930   \n",
      "_________________________________________________________________\n",
      "dropout_3 (Dropout)          (None, 1130)              0         \n",
      "_________________________________________________________________\n",
      "dense_4 (Dense)              (None, 100)               113100    \n",
      "_________________________________________________________________\n",
      "dropout_4 (Dropout)          (None, 100)               0         \n",
      "_________________________________________________________________\n",
      "dense_5 (Dense)              (None, 4)                 404       \n",
      "=================================================================\n",
      "Total params: 94,656,467\n",
      "Trainable params: 94,656,467\n",
      "Non-trainable params: 0\n",
      "_________________________________________________________________\n"
     ]
    }
   ],
   "source": [
    "model = tf.keras.Sequential([\n",
    "    tf.keras.layers.Dense(6028, activation='relu', input_shape=(9042,)),\n",
    "    tf.keras.layers.Dropout(0.1),\n",
    "    tf.keras.layers.Dense(4521, activation='relu'),\n",
    "    tf.keras.layers.Dropout(0.5),\n",
    "    tf.keras.layers.Dense(2260, activation='relu'),\n",
    "    tf.keras.layers.Dropout(0.5),\n",
    "    tf.keras.layers.Dense(1130,activation='relu',\n",
    "                              kernel_regularizer=tf.keras.regularizers.l1(1e-5),\n",
    "                              activity_regularizer=tf.keras.regularizers.l2(1e-4)),\n",
    "    tf.keras.layers.Dropout(0.5),\n",
    "    tf.keras.layers.Dense(100,activation='relu'),\n",
    "    tf.keras.layers.Dropout(0.5),\n",
    "    tf.keras.layers.Dense(4, activation='softmax')\n",
    "])\n",
    "model.compile(loss='categorical_crossentropy',optimizer='adam',metrics=['accuracy'])\n",
    "model.summary()"
   ]
  },
  {
   "cell_type": "markdown",
   "metadata": {
    "colab_type": "text",
    "id": "MOU3hgTnUjqg"
   },
   "source": [
    "# Entrenamiento del modelo\n",
    "\n",
    "|dropout|F. de activación| dense |loss_train |accuracy_train |loss_validation |accuracy_validation |Ephoc|\n",
    "|:---:|:---:|:---:|:---:|:---:|:---:|:---:|:---:|\n",
    "|4|tanh(1),relu(3)|5|0.7715|0.6028|1.2662|0.4657|7|\n",
    "|4|tanh(4),relu(1)|6|0.9419|0.5285|1.1128|0.4241|6|\n",
    "|5|tanh(2),relu(3)|6|0.7683|0.6877|1.7956|0.4490|10|\n",
    "|5|tanh(0),relu(5)|6|0.4636|0.7820|2.1792|0.4489|10|"
   ]
  },
  {
   "cell_type": "code",
   "execution_count": 56,
   "metadata": {
    "colab": {
     "base_uri": "https://localhost:8080/",
     "height": 421
    },
    "colab_type": "code",
    "id": "NNugayIpUhLE",
    "outputId": "9db9a786-18f4-4db3-b4d6-23f7a29abefd"
   },
   "outputs": [
    {
     "name": "stdout",
     "output_type": "stream",
     "text": [
      "Train on 29436 samples, validate on 7069 samples\n",
      "Epoch 1/10\n",
      "29436/29436 [==============================] - 173s 6ms/sample - loss: 1.5735 - accuracy: 0.3954 - val_loss: 1.3708 - val_accuracy: 0.4463\n",
      "Epoch 2/10\n",
      "29436/29436 [==============================] - 164s 6ms/sample - loss: 1.2834 - accuracy: 0.4369 - val_loss: 1.2215 - val_accuracy: 0.4494\n",
      "Epoch 3/10\n",
      "29436/29436 [==============================] - 160s 5ms/sample - loss: 1.0498 - accuracy: 0.5729 - val_loss: 1.1781 - val_accuracy: 0.4626\n",
      "Epoch 4/10\n",
      "29436/29436 [==============================] - 159s 5ms/sample - loss: 0.8633 - accuracy: 0.6630 - val_loss: 1.2397 - val_accuracy: 0.4565\n",
      "Epoch 5/10\n",
      "29436/29436 [==============================] - 159s 5ms/sample - loss: 0.7286 - accuracy: 0.7163 - val_loss: 1.3433 - val_accuracy: 0.4622\n",
      "Epoch 6/10\n",
      "29436/29436 [==============================] - 158s 5ms/sample - loss: 0.6322 - accuracy: 0.7474 - val_loss: 1.5201 - val_accuracy: 0.4384\n",
      "Epoch 7/10\n",
      "29436/29436 [==============================] - 146s 5ms/sample - loss: 0.5596 - accuracy: 0.7656 - val_loss: 1.7461 - val_accuracy: 0.4541\n",
      "Epoch 8/10\n",
      "29436/29436 [==============================] - 147s 5ms/sample - loss: 0.5138 - accuracy: 0.7734 - val_loss: 1.8622 - val_accuracy: 0.4496\n",
      "Epoch 9/10\n",
      "29436/29436 [==============================] - 146s 5ms/sample - loss: 0.4840 - accuracy: 0.7819 - val_loss: 1.9699 - val_accuracy: 0.4439\n",
      "Epoch 10/10\n",
      "29436/29436 [==============================] - 147s 5ms/sample - loss: 0.4636 - accuracy: 0.7820 - val_loss: 2.1792 - val_accuracy: 0.4489\n"
     ]
    }
   ],
   "source": [
    "num_epochs = 10\n",
    "history = model.fit(train_sequences_bt, train_labels_codf, epochs=num_epochs, validation_data=(validation_sequences_bt,validation_labels_codf),batch_size=1000 , verbose=True)"
   ]
  },
  {
   "cell_type": "code",
   "execution_count": 57,
   "metadata": {
    "colab": {},
    "colab_type": "code",
    "id": "FXlzL6iGf-aa"
   },
   "outputs": [
    {
     "data": {
      "image/png": "[encoded data removed]",
      "text/plain": [
       "<Figure size 432x288 with 1 Axes>"
      ]
     },
     "metadata": {
      "needs_background": "light"
     },
     "output_type": "display_data"
    },
    {
     "data": {
      "image/png": "[encoded data removed]",
      "text/plain": [
       "<Figure size 432x288 with 1 Axes>"
      ]
     },
     "metadata": {
      "needs_background": "light"
     },
     "output_type": "display_data"
    }
   ],
   "source": [
    "def plot_graphs(history, string):\n",
    "  plt.title(string+' con 10 epochs')\n",
    "  plt.plot(history.history[string])\n",
    "  plt.plot(history.history['val_'+string])\n",
    "  plt.xlabel(\"Epochs\")\n",
    "  plt.ylabel(string)\n",
    "  plt.legend([string, 'val_'+string])\n",
    "  plt.show()\n",
    "  \n",
    "plot_graphs(history, \"accuracy\")\n",
    "plot_graphs(history, \"loss\")"
   ]
  },
  {
   "cell_type": "code",
   "execution_count": null,
   "metadata": {
    "colab": {},
    "colab_type": "code",
    "id": "Cseyk3ipz0TF"
   },
   "outputs": [],
   "source": []
  }
 ],
 "metadata": {
  "accelerator": "GPU",
  "colab": {
   "collapsed_sections": [],
   "include_colab_link": true,
   "name": "ssss.ipynb",
   "provenance": [],
   "toc_visible": true
  },
  "kernelspec": {
   "display_name": "Python 3",
   "language": "python",
   "name": "python3"
  },
  "language_info": {
   "codemirror_mode": {
    "name": "ipython",
    "version": 3
   },
   "file_extension": ".py",
   "mimetype": "text/x-python",
   "name": "python",
   "nbconvert_exporter": "python",
   "pygments_lexer": "ipython3",
   "version": "3.7.7"
  }
 },
 "nbformat": 4,
 "nbformat_minor": 4
}
