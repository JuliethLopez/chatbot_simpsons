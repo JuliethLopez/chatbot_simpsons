{
 "cells": [
  {
   "cell_type": "markdown",
   "metadata": {
    "colab_type": "text",
    "id": "jKE15xpMkR6H"
   },
   "source": [
    "<a href=\"https://colab.research.google.com/github/JuliethLopez/chatbot_simpsons/blob/master/Modelo_de_Clasificacion_ngrams_validation.ipynb\" target=\"_parent\"><img src=\"https://colab.research.google.com/assets/colab-badge.svg\" alt=\"Open In Colab\"/></a>"
   ]
  },
  {
   "cell_type": "markdown",
   "metadata": {
    "colab_type": "text",
    "id": "nJPO1NOruW18"
   },
   "source": [
    "# Clasificación de texto "
   ]
  },
  {
   "cell_type": "code",
   "execution_count": 1,
   "metadata": {
    "colab": {
     "base_uri": "https://localhost:8080/",
     "height": 35
    },
    "colab_type": "code",
    "id": "tMOU0GFTNemH",
    "outputId": "2c80a07c-0860-48c7-956a-8a6e72f3aef1"
   },
   "outputs": [],
   "source": [
    "#from google.colab import drive\n",
    "#drive.mount('/content/drive')"
   ]
  },
  {
   "cell_type": "markdown",
   "metadata": {},
   "source": [
    "Con éste código se pretende clasificar un conjunto de frases utilizadas en los dialogos de los simpsons a través de clasificadores de textos de lenguaje natural automáticos. La librería usual para trabajar con datos de lenguaje humano es ntkl, que es la biblioteca más utilizada para interactuar con la utilización del lenguaje natural."
   ]
  },
  {
   "cell_type": "code",
   "execution_count": 2,
   "metadata": {
    "colab": {},
    "colab_type": "code",
    "id": "NJc6nHMRudjy"
   },
   "outputs": [],
   "source": [
    "# Librerias\n",
    "import re \n",
    "import csv\n",
    "import nltk\n",
    "import string\n",
    "import numpy as np\n",
    "import pandas as pd\n",
    "import tensorflow as tf\n",
    "import matplotlib.pyplot as plt\n",
    "from nltk.util import ngrams\n",
    "from tensorflow.keras import layers\n",
    "from nltk.tokenize import regexp_tokenize\n",
    "from tensorflow.keras import regularizers\n",
    "from sklearn. preprocessing import LabelEncoder\n",
    "from tensorflow.keras.preprocessing.text import Tokenizer\n",
    "from sklearn.feature_extraction.text import CountVectorizer"
   ]
  },
  {
   "cell_type": "markdown",
   "metadata": {
    "colab_type": "text",
    "id": "ZAXQiC96uq4s"
   },
   "source": [
    "# Define algunas características iniciales"
   ]
  },
  {
   "cell_type": "markdown",
   "metadata": {},
   "source": [
    "Aquí establecemos la proporción de datos a entrenar, que va a corresponder al 80% del total de los datos. También definimos un arreglo con los caracteres que se desea, representen a los datos de nuestra base. Eliminando así cualquier caracter de uso poco frecuente."
   ]
  },
  {
   "cell_type": "code",
   "execution_count": 3,
   "metadata": {
    "colab": {},
    "colab_type": "code",
    "id": "gpNtUB-ZujD1"
   },
   "outputs": [],
   "source": [
    "training_portion = 0.8  "
   ]
  },
  {
   "cell_type": "code",
   "execution_count": 4,
   "metadata": {
    "colab": {
     "base_uri": "https://localhost:8080/",
     "height": 72
    },
    "colab_type": "code",
    "id": "bjMtHB6t1gpN",
    "outputId": "bde1d003-6f66-4279-9de1-c00d5479095b"
   },
   "outputs": [
    {
     "data": {
      "text/plain": [
       "array([' ', 'a', 'b', 'c', 'd', 'e', 'f', 'g', 'h', 'i', 'j', 'k', 'l',\n",
       "       'm', 'n', 'o', 'p', 'q', 'r', 's', 't', 'u', 'v', 'w', 'x', 'y',\n",
       "       'z'], dtype='<U1')"
      ]
     },
     "execution_count": 4,
     "metadata": {},
     "output_type": "execute_result"
    }
   ],
   "source": [
    "a = np.array([32]) # space\n",
    "c = np.array(range(97,123)) \n",
    "printab = np.hstack((a,c))\n",
    "printable = np.array([chr(i) for i in printab])   \n",
    "printable "
   ]
  },
  {
   "cell_type": "markdown",
   "metadata": {
    "colab_type": "text",
    "id": "xzVnwbLIx-nA"
   },
   "source": [
    "# Lectura de los datos"
   ]
  },
  {
   "cell_type": "markdown",
   "metadata": {},
   "source": [
    "La base de datos correspondiente para esta parte del trabajo se consigue con el nombre de \"Dialogue Lines of The Simpsons\" la cual puede ser consultada en la página de libre acceso kaggle. En principio, éste conjunto de datos contiene personajes, ubicaciones, detalles de los episodios y las líneas de guión de aproximadamente 600 episodios de Simpson, que datan de 1989. Sin embargo, para propositos de esta parte del trabajo la base de datos fue filtrada en excel y se hizo uso únicamente de las columnas \"Name of the character who speaks\" y \"Actual text spoken\"."
   ]
  },
  {
   "cell_type": "code",
   "execution_count": 5,
   "metadata": {
    "colab": {},
    "colab_type": "code",
    "id": "_hJ2PlWEK7Zp"
   },
   "outputs": [],
   "source": [
    "complete_lines = [] \n",
    "sentences = []\n",
    "labels = [] "
   ]
  },
  {
   "cell_type": "code",
   "execution_count": 6,
   "metadata": {
    "colab": {
     "base_uri": "https://localhost:8080/",
     "height": 72
    },
    "colab_type": "code",
    "id": "eutB2xMiZD0e",
    "outputId": "79e2d8a9-750c-48f5-eb6e-d7f0a820b57f"
   },
   "outputs": [
    {
     "name": "stdout",
     "output_type": "stream",
     "text": [
      "labels: 64773\n",
      "complete_lines: 64773\n",
      "sentences 64773\n"
     ]
    }
   ],
   "source": [
    "# abre el archivo de datos y lo trata como un archivo csv\n",
    "#file = open('/content/drive/My Drive/Colab Notebooks/DFSMS.csv', 'r') #David\n",
    "#file = open('/content/drive/My Drive/Simpsons Chat bot/chatbot_simpsons-master/Datos/DFSMS.csv', 'r') #Julieth\n",
    "file = open('DFSMS.csv', 'r') #Juan\n",
    "with file as csvfile:\n",
    "    reader = csv.reader(csvfile, delimiter=',')\n",
    "    next(reader)\n",
    "    for row in reader:\n",
    "        # preprocess label\n",
    "        #label_l = ' '.join(row[0].split()).lower().replace(' ','_') # lower case ans eliminate multiple spaces\n",
    "        label_l = re.sub(' +', ' ',row[0].lower()) # lower case ans eliminate multiple spaces\n",
    "        if (len(label_l)>2): # drop with empty label\n",
    "            label = ''.join(c for c in label_l if c in printable)# filter only printable characters\n",
    "            label = label.replace(' ','_')\n",
    "            labels.append(label)\n",
    "            # preprocess sentence\n",
    "            #sentence_l = ' '.join(row[1].split()).lower().replace(' ','_') # lower case ans eliminate multiple spaces\n",
    "            sentence_l = re.sub(' +', ' ',row[1].lower())\n",
    "            sentence = ''.join(c for c in sentence_l if c in printable)\n",
    "            complete_lines.append(row[0] + ': '+ row[1])\n",
    "            sentences.append(sentence)\n",
    " \n",
    "\n",
    "# resumen de la lectura            \n",
    "print(\"labels:\",len(labels))\n",
    "print(\"complete_lines:\",len(complete_lines))\n",
    "print(\"sentences\",len(sentences))"
   ]
  },
  {
   "cell_type": "code",
   "execution_count": 7,
   "metadata": {
    "colab": {
     "base_uri": "https://localhost:8080/",
     "height": 127
    },
    "colab_type": "code",
    "id": "mHP5HqP4Yt5U",
    "outputId": "e68a92ad-5000-4835-b0d2-2b68eea7f4af"
   },
   "outputs": [
    {
     "name": "stdout",
     "output_type": "stream",
     "text": [
      "bart_simpson\n",
      "\n",
      "Bart Simpson: Victory party under the slide!\n",
      "\n",
      "victory party under the slide\n",
      "\n"
     ]
    }
   ],
   "source": [
    "# Tercer linea\n",
    "print(labels[2]+'\\n')\n",
    "print(complete_lines[2]+'\\n')\n",
    "print(sentences[2]+'\\n')"
   ]
  },
  {
   "cell_type": "markdown",
   "metadata": {
    "colab_type": "text",
    "id": "YYaD8IrjgU2m"
   },
   "source": [
    "### Grafico de frecuencias de los personajes"
   ]
  },
  {
   "cell_type": "markdown",
   "metadata": {},
   "source": [
    "A continuación, se podrá visualizar un gráfico de barras en el cual representamos el número de frases asociadas a cada personaje."
   ]
  },
  {
   "cell_type": "code",
   "execution_count": 8,
   "metadata": {
    "colab": {
     "base_uri": "https://localhost:8080/",
     "height": 281
    },
    "colab_type": "code",
    "id": "djFPe1k6pOp9",
    "outputId": "1ad75104-9ec9-4b41-fa55-9e06bf6f04c0"
   },
   "outputs": [
    {
     "data": {
      "image/png": "[encoded data removed]",
      "text/plain": [
       "<Figure size 432x288 with 1 Axes>"
      ]
     },
     "metadata": {
      "needs_background": "light"
     },
     "output_type": "display_data"
    }
   ],
   "source": [
    "frec = pd.value_counts(labels)\n",
    "plot = frec.plot(kind='barh',title='Numero de frases por personaje',color=['deepskyblue','orangered','darkkhaki','gold'])"
   ]
  },
  {
   "cell_type": "code",
   "execution_count": 9,
   "metadata": {},
   "outputs": [
    {
     "data": {
      "text/plain": [
       "13172"
      ]
     },
     "execution_count": 9,
     "metadata": {},
     "output_type": "execute_result"
    }
   ],
   "source": [
    "n_lines = frec.values[1]\n",
    "n_lines"
   ]
  },
  {
   "cell_type": "markdown",
   "metadata": {
    "colab_type": "text",
    "id": "KCFHpjzibqi_"
   },
   "source": [
    "Como se pudo observar en el gráfico anterior y como era de esperar, la cantidad de frases asociadas al personaje Homero es mucho mayor que la de los otros personakes. En consecuencia, se reducirá la cantidad de frases correspondientes a este personaje."
   ]
  },
  {
   "cell_type": "code",
   "execution_count": 10,
   "metadata": {
    "colab": {},
    "colab_type": "code",
    "id": "IApkoio3S2p_"
   },
   "outputs": [],
   "source": [
    "np.random.seed(101)\n",
    "homer_index = []\n",
    "\n",
    "for i in range(len(labels)):\n",
    "  if labels[i] == 'homer_simpson':\n",
    "    homer_index.append(i)\n",
    "\n",
    "homer_r = np.random.choice(homer_index,n_lines,replace=False)"
   ]
  },
  {
   "cell_type": "code",
   "execution_count": 11,
   "metadata": {
    "colab": {},
    "colab_type": "code",
    "id": "_ktqnAH0XLjt"
   },
   "outputs": [],
   "source": [
    "np.random.seed(101)\n",
    "marge_index = []\n",
    "\n",
    "for i in range(len(labels)):\n",
    "  if labels[i] == 'marge_simpson':\n",
    "    marge_index.append(i)"
   ]
  },
  {
   "cell_type": "code",
   "execution_count": 12,
   "metadata": {
    "colab": {},
    "colab_type": "code",
    "id": "GDpiOn29YIj8"
   },
   "outputs": [],
   "source": [
    "np.random.seed(101)\n",
    "bart_index = []\n",
    "\n",
    "for i in range(len(labels)):\n",
    "  if labels[i] == 'bart_simpson':\n",
    "    bart_index.append(i)"
   ]
  },
  {
   "cell_type": "code",
   "execution_count": 13,
   "metadata": {
    "colab": {},
    "colab_type": "code",
    "id": "BfPoqsetYqt6"
   },
   "outputs": [],
   "source": [
    "np.random.seed(101)\n",
    "lisa_index = []\n",
    "\n",
    "for i in range(len(labels)):\n",
    "  if labels[i] == 'lisa_simpson':\n",
    "    lisa_index.append(i)"
   ]
  },
  {
   "cell_type": "code",
   "execution_count": 14,
   "metadata": {
    "colab": {},
    "colab_type": "code",
    "id": "sjj1J6KaWyrn"
   },
   "outputs": [],
   "source": [
    "sentences = np.array(sentences)\n",
    "labels = np.array(labels)\n",
    "\n",
    "homer_s = sentences[homer_r]\n",
    "marge_s = sentences[marge_index]\n",
    "bart_s = sentences[bart_index]\n",
    "lisa_s = sentences[lisa_index]\n",
    "\n",
    "homer_l = labels[homer_r]\n",
    "marge_l = labels[marge_index]\n",
    "bart_l = labels[bart_index]\n",
    "lisa_l = labels[lisa_index]"
   ]
  },
  {
   "cell_type": "code",
   "execution_count": 15,
   "metadata": {
    "colab": {},
    "colab_type": "code",
    "id": "IXo5ErQUZz51"
   },
   "outputs": [],
   "source": [
    "homer_s = homer_s.tolist()\n",
    "marge_s = marge_s.tolist()\n",
    "bart_s = bart_s.tolist()\n",
    "lisa_s = lisa_s.tolist()\n",
    "\n",
    "homer_l = homer_l.tolist()\n",
    "marge_l = marge_l.tolist()\n",
    "bart_l = bart_l.tolist()\n",
    "lisa_l = lisa_l.tolist()"
   ]
  },
  {
   "cell_type": "code",
   "execution_count": 16,
   "metadata": {
    "colab": {
     "base_uri": "https://localhost:8080/",
     "height": 35
    },
    "colab_type": "code",
    "id": "WYJ48mVYT538",
    "outputId": "50c7b9db-8a02-4c9e-e7b6-9bd03d1cea44"
   },
   "outputs": [
    {
     "data": {
      "text/plain": [
       "(1, 50095)"
      ]
     },
     "execution_count": 16,
     "metadata": {},
     "output_type": "execute_result"
    }
   ],
   "source": [
    "sentences = [homer_s + marge_s + bart_s + lisa_s]\n",
    "np.shape(sentences)"
   ]
  },
  {
   "cell_type": "code",
   "execution_count": 17,
   "metadata": {
    "colab": {
     "base_uri": "https://localhost:8080/",
     "height": 35
    },
    "colab_type": "code",
    "id": "vRS3GwviZJHh",
    "outputId": "63b80120-1f2c-44d0-b57b-21af620b2c33"
   },
   "outputs": [
    {
     "data": {
      "text/plain": [
       "(1, 50095)"
      ]
     },
     "execution_count": 17,
     "metadata": {},
     "output_type": "execute_result"
    }
   ],
   "source": [
    "labels = [homer_l + marge_l + bart_l + lisa_l]\n",
    "np.shape(labels)"
   ]
  },
  {
   "cell_type": "code",
   "execution_count": 18,
   "metadata": {
    "colab": {},
    "colab_type": "code",
    "id": "sW0uAzGYjL8G"
   },
   "outputs": [],
   "source": [
    "sentences = sentences[0]\n",
    "labels = labels[0]"
   ]
  },
  {
   "cell_type": "markdown",
   "metadata": {},
   "source": [
    "Aquí podremos visualizar la cantidad final de frases correspondientes a cada personaje para el resto de nuestro trabajo. Observemos que las frases del personaje Homero se redujo exactamente a la cantidad de frases asociadas al personaje marge, que corresponde a 13172 frases. También se puede observar que el total de datos con el que vamos a trabajar tiene un tamaño de 50095."
   ]
  },
  {
   "cell_type": "code",
   "execution_count": 19,
   "metadata": {},
   "outputs": [
    {
     "data": {
      "image/png": "[encoded data removed]",
      "text/plain": [
       "<Figure size 432x288 with 1 Axes>"
      ]
     },
     "metadata": {
      "needs_background": "light"
     },
     "output_type": "display_data"
    }
   ],
   "source": [
    "frec = pd.value_counts(labels)\n",
    "plot = frec.plot(kind='barh',title='Numero de frases por personaje',color=['deepskyblue','orangered','darkkhaki','gold'])"
   ]
  },
  {
   "cell_type": "markdown",
   "metadata": {
    "colab_type": "text",
    "id": "QH4k5vkXYt6B"
   },
   "source": [
    "# Separa datos de entrenamiento y validación\n",
    "### Aleatorización de los datos"
   ]
  },
  {
   "cell_type": "markdown",
   "metadata": {},
   "source": []
  },
  {
   "cell_type": "code",
   "execution_count": 21,
   "metadata": {
    "colab": {},
    "colab_type": "code",
    "id": "8wLR3Q80xMr6"
   },
   "outputs": [],
   "source": [
    "# index to sample\n",
    "n = len(sentences)\n",
    "sentences = np.array(sentences)\n",
    "labels = np.array(labels)\n",
    "np.random.seed(101)\n",
    "sentences_id  = np.random.permutation(n)\n",
    "sentences = sentences[sentences_id] \n",
    "labels = labels[sentences_id] "
   ]
  },
  {
   "cell_type": "code",
   "execution_count": 33,
   "metadata": {},
   "outputs": [
    {
     "name": "stdout",
     "output_type": "stream",
     "text": [
      "['oh boy free trading cards'\n",
      " 'well i looked into it and it turns out i was responsible'\n",
      " 'im practicing my fallout boy dialogue if i get this role i could finally come to terms with this funny little muddle called bart'\n",
      " ...\n",
      " 'excellent now next week is our state of the city address has everyone finalized their proposals'\n",
      " 'springfield preparatory school dad you told me there were no private schools in springfield'\n",
      " 'pass']\n",
      "['bart_simpson' 'bart_simpson' 'bart_simpson' ... 'lisa_simpson'\n",
      " 'lisa_simpson' 'homer_simpson']\n"
     ]
    }
   ],
   "source": [
    "print(sentences[sentences_id] )\n",
    "print(labels[sentences_id] )"
   ]
  },
  {
   "cell_type": "code",
   "execution_count": 30,
   "metadata": {},
   "outputs": [
    {
     "name": "stdout",
     "output_type": "stream",
     "text": [
      "(50095,)\n",
      "(50095,)\n"
     ]
    }
   ],
   "source": [
    "print(labels.shape)\n",
    "print(sentences.shape)"
   ]
  },
  {
   "cell_type": "markdown",
   "metadata": {
    "colab_type": "text",
    "id": "pgr6FmIJzY42"
   },
   "source": [
    "### Grupo de entrenamiento"
   ]
  },
  {
   "cell_type": "markdown",
   "metadata": {},
   "source": [
    "Definimos el tamaño de los datos de entrenamiento, que corresponde al 80% de la totalidad de los datos. Definimos \"train_sencences\" como el conjunto de frases de entrenamiento y \"train_labels\" como las etiquetas de entrenamiento, las cuales nos serviran como identificadores del conjunto de frases de entrenamiento. En consecuencia, ambos conjuntos contienen el mismo tamaño, el cual es de 40076 datos."
   ]
  },
  {
   "cell_type": "code",
   "execution_count": 36,
   "metadata": {
    "colab": {
     "base_uri": "https://localhost:8080/",
     "height": 72
    },
    "colab_type": "code",
    "id": "1clc5zDW8PJw",
    "outputId": "082e8bb0-6ab6-4175-8608-a4cdda57325b"
   },
   "outputs": [
    {
     "name": "stdout",
     "output_type": "stream",
     "text": [
      "train_sentences: 40076\n",
      "train_labels: 40076 \n",
      "\n"
     ]
    }
   ],
   "source": [
    "train_size = int(n * training_portion) \n",
    "\n",
    "train_sentences = sentences[:train_size]  \n",
    "train_labels = labels[:train_size] \n",
    "print(\"train_sentences:\",len(train_sentences)) \n",
    "print(\"train_labels:\",len(train_labels),\"\\n\") "
   ]
  },
  {
   "cell_type": "markdown",
   "metadata": {
    "colab_type": "text",
    "id": "8SuVgyhrzowg"
   },
   "source": [
    "### Grupo de validación"
   ]
  },
  {
   "cell_type": "markdown",
   "metadata": {},
   "source": [
    "Definimos el tamaño de los datos de validación, que corresponde al 10% de la totalidad de los datos. Definimos \"validation_sentences\" como el conjunto de frases de validación y \"validation_labels\" como las etiquetas de validación, las cuales nos serviran como identificadores del conjunto de frases de validación. En consecuencia, ambos conjuntos contienen el mismo tamaño, el cual es de 10019 datos."
   ]
  },
  {
   "cell_type": "code",
   "execution_count": 37,
   "metadata": {
    "colab": {
     "base_uri": "https://localhost:8080/",
     "height": 72
    },
    "colab_type": "code",
    "id": "2v0fOra09Wmp",
    "outputId": "1c94cb32-8e19-4398-85d5-04e06508819c"
   },
   "outputs": [
    {
     "name": "stdout",
     "output_type": "stream",
     "text": [
      "validation_sentences: 10019\n",
      "validation_labels: 10019 \n",
      "\n"
     ]
    }
   ],
   "source": [
    "validation_sentences = sentences[train_size:] \n",
    "validation_labels = labels[train_size:] \n",
    "print(\"validation_sentences:\",len(validation_sentences)) \n",
    "print(\"validation_labels:\",len(validation_labels),\"\\n\") "
   ]
  },
  {
   "cell_type": "markdown",
   "metadata": {},
   "source": [
    "Aquí podemos ver que la suma entre el conjunto de datos de entrenamiento y el conjunto de datos para validación corresponde efectivamente al total de los datos que se habían considerado para trabajar, cuyo tamaño es de 50095."
   ]
  },
  {
   "cell_type": "code",
   "execution_count": 38,
   "metadata": {
    "colab": {
     "base_uri": "https://localhost:8080/",
     "height": 54
    },
    "colab_type": "code",
    "id": "vx_N5GsHe3KV",
    "outputId": "8f41fa40-5f69-44b6-9ee6-0afc36fa10b2"
   },
   "outputs": [
    {
     "name": "stdout",
     "output_type": "stream",
     "text": [
      "sentences: 50095\n",
      "train_sentences + validation_labels: 50095\n"
     ]
    }
   ],
   "source": [
    "print(\"sentences:\",len(sentences))\n",
    "print(\"train_sentences + validation_labels:\",len(train_sentences)+len(validation_sentences))"
   ]
  },
  {
   "cell_type": "markdown",
   "metadata": {
    "colab_type": "text",
    "id": "N_E4h9j8Mh90"
   },
   "source": [
    "# Grafica de frecuencia de n-gramas"
   ]
  },
  {
   "cell_type": "markdown",
   "metadata": {},
   "source": [
    "Muchas veces estamos interesados en saber que tan frecuente se hace la aparición de una palabra, dos palabras juntas o n palabras juntas. Los n gramas son un tipo de modelo probabilistico, el cual permite hacer una predicción estadística del próximo elemento en este caso, de una cadena de caracteres o palabras, la cual ha sido sucedida hasta el momento. Esto nos permite extraer caracteristicas comúnes de este gran conjunto de texto que estamos utilizando."
   ]
  },
  {
   "cell_type": "markdown",
   "metadata": {},
   "source": [
    "### Trigramas"
   ]
  },
  {
   "cell_type": "code",
   "execution_count": null,
   "metadata": {},
   "outputs": [],
   "source": []
  },
  {
   "cell_type": "code",
   "execution_count": null,
   "metadata": {
    "colab": {
     "base_uri": "https://localhost:8080/",
     "height": 35
    },
    "colab_type": "code",
    "id": "y4UOhrSPJfe7",
    "outputId": "5815ba90-2e9e-4295-cdb2-ddaf86066e6b"
   },
   "outputs": [],
   "source": [
    "#Juntamos todo el texto en una sola linea\n",
    "wordtk = ' '.join(train_sentences)\n",
    "\n",
    "#Para dividir las frases\n",
    "tokenstk = regexp_tokenize(wordtk, pattern=\"\\w+\")\n",
    "tokenstk[:10]"
   ]
  },
  {
   "cell_type": "code",
   "execution_count": null,
   "metadata": {
    "colab": {
     "base_uri": "https://localhost:8080/",
     "height": 35
    },
    "colab_type": "code",
    "id": "PXSnjnMGJmT9",
    "outputId": "ed034a36-76b2-411e-fd2c-120e9ba3425a"
   },
   "outputs": [],
   "source": [
    "trigrama = ngrams(tokenstk,3)\n",
    "trigrama = [' '.join(grams) for grams in trigrama]\n",
    "trigrama[:5]"
   ]
  },
  {
   "cell_type": "code",
   "execution_count": null,
   "metadata": {
    "colab": {},
    "colab_type": "code",
    "id": "4-pHnm8S9WaV"
   },
   "outputs": [],
   "source": [
    "freq = nltk.FreqDist(trigrama) #frecuencia de los tokens"
   ]
  },
  {
   "cell_type": "code",
   "execution_count": null,
   "metadata": {
    "colab": {
     "base_uri": "https://localhost:8080/",
     "height": 372
    },
    "colab_type": "code",
    "id": "VrU1zk_tjqEE",
    "outputId": "ebd32483-df1e-4e74-d7a8-2fea018a5dc3"
   },
   "outputs": [],
   "source": [
    "# Gráfica con los trigramas COMPLETOS\n",
    "freq.plot(20, cumulative=False, title = \"TRIGRAMA COMPLETOS\")\n",
    "print(\"Trigramas completos unicos:\", len(freq))"
   ]
  },
  {
   "cell_type": "code",
   "execution_count": null,
   "metadata": {
    "colab": {},
    "colab_type": "code",
    "id": "mMMJMohG9ZNQ"
   },
   "outputs": [],
   "source": [
    "eliminar = [] #filtramos tokens que se repiten mas de una vez\n",
    "for key,val in freq.items():\n",
    "  if (200>val>3):\n",
    "    eliminar.append(str(key))\n",
    "\n",
    "trigrama_limpio = []\n",
    "for i in trigrama:\n",
    "  if i in eliminar:\n",
    "    trigrama_limpio.append(i)\n",
    "\n",
    "freqnew = nltk.FreqDist(trigrama_limpio)"
   ]
  },
  {
   "cell_type": "code",
   "execution_count": null,
   "metadata": {
    "colab": {
     "base_uri": "https://localhost:8080/",
     "height": 372
    },
    "colab_type": "code",
    "id": "LeHOcU_QpIDx",
    "outputId": "3e004c79-1eb0-4d91-e7c5-374ff1d96234"
   },
   "outputs": [],
   "source": [
    "# Gráfica con los trigramas RECORTADOS\n",
    "freqnew.plot(20, cumulative=False, title = \"TRIGRAMAS RECORTADOS\")\n",
    "print(\"Trigramas recortados unicos:\", len(freqnew))"
   ]
  },
  {
   "cell_type": "code",
   "execution_count": null,
   "metadata": {
    "colab": {
     "base_uri": "https://localhost:8080/",
     "height": 54
    },
    "colab_type": "code",
    "id": "X_v6wVGRXTcX",
    "outputId": "16e23e86-5cae-4b8d-af95-95916635b468"
   },
   "outputs": [],
   "source": [
    "#comparacion de trigramas\n",
    "print(\"Trigramas completos unicos:\", len(freq))\n",
    "print(\"Trigramas recortados unicos:\", len(freqnew))"
   ]
  },
  {
   "cell_type": "markdown",
   "metadata": {
    "colab_type": "text",
    "id": "OA9lEoi8cQaM"
   },
   "source": [
    "### Bigramas"
   ]
  },
  {
   "cell_type": "code",
   "execution_count": null,
   "metadata": {
    "colab": {
     "base_uri": "https://localhost:8080/",
     "height": 35
    },
    "colab_type": "code",
    "id": "hLv0tCETcSrC",
    "outputId": "2e2e34df-3d08-4c8c-aab5-71328282ed65"
   },
   "outputs": [],
   "source": [
    "bigrama = ngrams(tokenstk,2)\n",
    "bigrama = [' '.join(grams) for grams in bigrama]\n",
    "bigrama[:5]"
   ]
  },
  {
   "cell_type": "code",
   "execution_count": null,
   "metadata": {
    "colab": {},
    "colab_type": "code",
    "id": "acCZFRFk9cNW"
   },
   "outputs": [],
   "source": [
    "freqb = nltk.FreqDist(bigrama) #frecuencia de los tokens"
   ]
  },
  {
   "cell_type": "code",
   "execution_count": null,
   "metadata": {
    "colab": {
     "base_uri": "https://localhost:8080/",
     "height": 351
    },
    "colab_type": "code",
    "id": "8xOKxeRTi2JM",
    "outputId": "7b4d5fce-2920-43fa-e12b-3b93df4768db"
   },
   "outputs": [],
   "source": [
    "# Gráfica con los bigramas COMPLETOS\n",
    "freqb.plot(20, cumulative=False, title = \"BIGRAMAS COMPLETOS\")\n",
    "print(\"Bigramas completos unicos:\", len(freqb))"
   ]
  },
  {
   "cell_type": "code",
   "execution_count": null,
   "metadata": {
    "colab": {},
    "colab_type": "code",
    "id": "oTEizbt_9fEV"
   },
   "outputs": [],
   "source": [
    "eliminarb = [] #filtramos tokens que se repiten mas de una vez\n",
    "for key,val in freqb.items():\n",
    "  if (700>val>100):\n",
    "    eliminarb.append(str(key))\n",
    "\n",
    "bigrama_limpio = []\n",
    "for i in bigrama:\n",
    "  if i in eliminarb:\n",
    "    bigrama_limpio.append(i)\n",
    "\n",
    "freqbnew = nltk.FreqDist(bigrama_limpio)"
   ]
  },
  {
   "cell_type": "code",
   "execution_count": null,
   "metadata": {
    "colab": {
     "base_uri": "https://localhost:8080/",
     "height": 351
    },
    "colab_type": "code",
    "id": "32Y8at2kcWcZ",
    "outputId": "93de7726-68b8-4011-a24a-d0c60ba1d832"
   },
   "outputs": [],
   "source": [
    "# Gráfica con los Bigramas\n",
    "freqbnew.plot(20, cumulative=False, title = \"BIGRAMAS RECORTADOS\")\n",
    "print(\"Bigramas recortados unicos:\", len(freqbnew))"
   ]
  },
  {
   "cell_type": "code",
   "execution_count": null,
   "metadata": {
    "colab": {
     "base_uri": "https://localhost:8080/",
     "height": 54
    },
    "colab_type": "code",
    "id": "X3me9f5ycf-r",
    "outputId": "94773f43-1db5-41d4-9e2d-4149661d589e"
   },
   "outputs": [],
   "source": [
    "#comparacion de bigramas\n",
    "print(\"Bigramas completos unicos:\", len(freqb))\n",
    "print(\"Bigramas recortados unicos:\", len(freqbnew))"
   ]
  },
  {
   "cell_type": "markdown",
   "metadata": {
    "colab_type": "text",
    "id": "sqeyp7uYWBHT"
   },
   "source": [
    "# Vocabulario\n",
    "### Trigramas\n",
    "\n",
    "Aunque trigrama_limpio ya no tiene ni los tokens con repitencias muy bajas ni muy altas, contiene tokens repetidos, por eso, para el vocabulario de CountVectorizer utilizameros los freqnew.keys() que contiene los tokens unicos."
   ]
  },
  {
   "cell_type": "code",
   "execution_count": null,
   "metadata": {
    "colab": {},
    "colab_type": "code",
    "id": "m10I8zKloSLs"
   },
   "outputs": [],
   "source": [
    "vectorizer3 = CountVectorizer(vocabulary=freqnew.keys(), ngram_range=(3,3))"
   ]
  },
  {
   "cell_type": "code",
   "execution_count": null,
   "metadata": {
    "colab": {
     "base_uri": "https://localhost:8080/",
     "height": 54
    },
    "colab_type": "code",
    "id": "9fC6Ku9BpEn-",
    "outputId": "3356e61b-b6af-4f3b-a16e-a6653d745ccf"
   },
   "outputs": [],
   "source": [
    "X3 = vectorizer3.fit_transform(train_sentences)\n",
    "X3"
   ]
  },
  {
   "cell_type": "code",
   "execution_count": null,
   "metadata": {
    "colab": {
     "base_uri": "https://localhost:8080/",
     "height": 202
    },
    "colab_type": "code",
    "id": "C4WaPm2ApUTJ",
    "outputId": "dd24ee5c-2257-42a9-ce23-f99401f2e251"
   },
   "outputs": [],
   "source": [
    "F3 = vectorizer3.get_feature_names() #Mapeo de matriz de índices de enteros a nombres.\n",
    "F3[:10]"
   ]
  },
  {
   "cell_type": "code",
   "execution_count": null,
   "metadata": {
    "colab": {
     "base_uri": "https://localhost:8080/",
     "height": 35
    },
    "colab_type": "code",
    "id": "hi52OEvRp_zc",
    "outputId": "26b2e79c-e043-41be-b3a4-b26901e00581"
   },
   "outputs": [],
   "source": [
    "train_sequences = X3.toarray() #arreglo\n",
    "print(\"longitud\",len(X3.toarray()))"
   ]
  },
  {
   "cell_type": "markdown",
   "metadata": {
    "colab_type": "text",
    "id": "5KPSxpcaZ7NY"
   },
   "source": [
    "Como vemos en la tabla, cada fila corresponde a una frase de nuestro __train_sentences__ y cada columna corresponde a un trigrama, por lo tanto la tabla es de (55336 × 8616),\n",
    "\n",
    "  - train_sentences: 55336\n",
    "  - Trigramas unicos con sus frecuencias: 8616"
   ]
  },
  {
   "cell_type": "code",
   "execution_count": null,
   "metadata": {
    "colab": {
     "base_uri": "https://localhost:8080/",
     "height": 479
    },
    "colab_type": "code",
    "id": "2s6KN8-qpzPh",
    "outputId": "0dc2ae5f-4ef1-4ace-f2bb-2100d305b0e8"
   },
   "outputs": [],
   "source": [
    "pd.DataFrame(train_sequences,columns=vectorizer3.get_feature_names())"
   ]
  },
  {
   "cell_type": "markdown",
   "metadata": {
    "colab_type": "text",
    "id": "YMSJiTn3d2qs"
   },
   "source": [
    "### Bigramas\n",
    "Aunque bigrama_limpio ya no tiene ni los tokens con repitencias muy bajas ni muy altas, contiene tokens repetidos, por eso, para el vocabulario de CountVectorizer utilizameros los freqbnew.keys() que contiene los tokens unicos."
   ]
  },
  {
   "cell_type": "code",
   "execution_count": null,
   "metadata": {
    "colab": {},
    "colab_type": "code",
    "id": "hGVJSHqqd6wK"
   },
   "outputs": [],
   "source": [
    "vectorizer2 = CountVectorizer(vocabulary=freqbnew.keys(), ngram_range=(2,2))"
   ]
  },
  {
   "cell_type": "code",
   "execution_count": null,
   "metadata": {
    "colab": {
     "base_uri": "https://localhost:8080/",
     "height": 54
    },
    "colab_type": "code",
    "id": "2O0P6cxyd9QE",
    "outputId": "847d64eb-e543-4ad9-f9b4-8448384f7765"
   },
   "outputs": [],
   "source": [
    "X2 = vectorizer2.fit_transform(train_sentences)\n",
    "X2"
   ]
  },
  {
   "cell_type": "code",
   "execution_count": null,
   "metadata": {
    "colab": {
     "base_uri": "https://localhost:8080/",
     "height": 202
    },
    "colab_type": "code",
    "id": "Sdhtiwb0d_hS",
    "outputId": "880f712d-ede5-4c78-902b-b19a3f966d46"
   },
   "outputs": [],
   "source": [
    "F2 = vectorizer2.get_feature_names() #Mapeo de matriz de índices de enteros a nombres.\n",
    "F2[:10]"
   ]
  },
  {
   "cell_type": "code",
   "execution_count": null,
   "metadata": {
    "colab": {
     "base_uri": "https://localhost:8080/",
     "height": 35
    },
    "colab_type": "code",
    "id": "gSIEa8d2eByA",
    "outputId": "8975291e-736c-41f9-c4da-19e3559c4657"
   },
   "outputs": [],
   "source": [
    "train_sequences_b = X2.toarray() #arreglo\n",
    "print(\"longitud\",len(X2.toarray()))"
   ]
  },
  {
   "cell_type": "markdown",
   "metadata": {
    "colab_type": "text",
    "id": "9yHIqW9ieD-3"
   },
   "source": [
    "Como vemos en la tabla, cada fila corresponde a una frase de nuestro __train_sentences__ y cada columna corresponde a un bigrama, por lo tanto la tabla es de (55336 × 319),\n",
    "\n",
    "  - train_sentences: 55336\n",
    "  - Trigramas unicos con sus frecuencias: 319"
   ]
  },
  {
   "cell_type": "code",
   "execution_count": null,
   "metadata": {
    "colab": {
     "base_uri": "https://localhost:8080/",
     "height": 461
    },
    "colab_type": "code",
    "id": "9StfmyU3eGcC",
    "outputId": "d297f86e-df14-4ad5-a366-c1d591bc4ba5"
   },
   "outputs": [],
   "source": [
    "pd.DataFrame(train_sequences_b,columns=vectorizer2.get_feature_names())"
   ]
  },
  {
   "cell_type": "markdown",
   "metadata": {
    "colab_type": "text",
    "id": "6cKN1-VTnC6s"
   },
   "source": [
    "# Datos Entrenamiento\n",
    "### Juntamos los bigramas y trigramas\n",
    "Como cada fila corresponde a una frase de nuestro __train_sentences__ y cada columna corresponde a los bigramas y trigramas, nuestra tabla es de (55336 × 9042) donde:\n",
    "\n",
    "  - train_sentences: 55336\n",
    "  - Trigramas unicos con sus frecuencias(8616) + bigramas unicos con sus frecuencias(319):  8935"
   ]
  },
  {
   "cell_type": "code",
   "execution_count": null,
   "metadata": {
    "colab": {
     "base_uri": "https://localhost:8080/",
     "height": 35
    },
    "colab_type": "code",
    "id": "a-xqhFWasSfY",
    "outputId": "9d63c6d2-f413-4407-d080-0ed80729669d"
   },
   "outputs": [],
   "source": [
    "print(\"Trigramas recortados unicos + Bigramas recortador unicos:\", len(freqnew)+len(freqbnew))"
   ]
  },
  {
   "cell_type": "code",
   "execution_count": null,
   "metadata": {
    "colab": {
     "base_uri": "https://localhost:8080/",
     "height": 35
    },
    "colab_type": "code",
    "id": "iBnuvGpinBxs",
    "outputId": "87522357-d58e-4b2d-b889-4f085f73e186"
   },
   "outputs": [],
   "source": [
    "train_sequences_bt = np.concatenate((train_sequences, train_sequences_b), axis=1)\n",
    "#tamaño de los datos\n",
    "type(train_sequences_bt)"
   ]
  },
  {
   "cell_type": "code",
   "execution_count": null,
   "metadata": {
    "colab": {
     "base_uri": "https://localhost:8080/",
     "height": 109
    },
    "colab_type": "code",
    "id": "eQqt5n6xAyAY",
    "outputId": "b0779195-798e-43eb-e063-cf9d054e6d6e"
   },
   "outputs": [],
   "source": [
    "train_sequences_bt[:5]"
   ]
  },
  {
   "cell_type": "code",
   "execution_count": null,
   "metadata": {
    "colab": {},
    "colab_type": "code",
    "id": "btUUw9jMkzpP"
   },
   "outputs": [],
   "source": [
    "train_sequences_bt_new = []\n",
    "train_labels_new = []\n",
    "for i in range(0,len(train_sequences_bt)):\n",
    "  if sum(train_sequences_bt[i,]) != 0:\n",
    "    train_labels_new.append(train_labels[i])\n",
    "    train_sequences_bt_new.append(train_sequences_bt[i,])\n",
    "\n",
    "train_sequences_bt = np.array(train_sequences_bt_new)"
   ]
  },
  {
   "cell_type": "code",
   "execution_count": null,
   "metadata": {
    "colab": {
     "base_uri": "https://localhost:8080/",
     "height": 54
    },
    "colab_type": "code",
    "id": "mkDKLkp6mx3K",
    "outputId": "e69d2631-bfc6-4357-dfa7-07b34758dedd"
   },
   "outputs": [],
   "source": [
    "train_labels = train_labels_new\n",
    "print(\"train_sequences_bt\",np.shape(train_sequences_bt))\n",
    "print(\"train_labels\",np.shape(train_labels))"
   ]
  },
  {
   "cell_type": "markdown",
   "metadata": {
    "colab_type": "text",
    "id": "nr04X0P0rp0Q"
   },
   "source": [
    "# Datos Validacion\n",
    "### Trigramas\n",
    "Las columnas deben coincidir con los trigramas unicos (8616)."
   ]
  },
  {
   "cell_type": "code",
   "execution_count": null,
   "metadata": {
    "colab": {
     "base_uri": "https://localhost:8080/",
     "height": 35
    },
    "colab_type": "code",
    "id": "BmgFbKgMr4fg",
    "outputId": "8941ccba-3293-4c58-85d9-e3a1f647a59c"
   },
   "outputs": [],
   "source": [
    "X6 = vectorizer3.fit_transform(validation_sentences)\n",
    "validation_sequences = X6.toarray() #arreglo\n",
    "print(\"shape\",X6.toarray().shape)"
   ]
  },
  {
   "cell_type": "markdown",
   "metadata": {
    "colab_type": "text",
    "id": "3tX9na-BsFQ-"
   },
   "source": [
    "### Bigramas\n",
    "Las columnas deben coincidir con los bigramas unicos (319)."
   ]
  },
  {
   "cell_type": "code",
   "execution_count": null,
   "metadata": {
    "colab": {
     "base_uri": "https://localhost:8080/",
     "height": 35
    },
    "colab_type": "code",
    "id": "pAIsfbObsHUs",
    "outputId": "1ab49383-72a0-4d96-9c72-ad6bb448972c"
   },
   "outputs": [],
   "source": [
    "X4 = vectorizer2.fit_transform(validation_sentences)\n",
    "validation_sequences_b = X4.toarray() #arreglo\n",
    "print(\"shape:\",X4.toarray().shape)"
   ]
  },
  {
   "cell_type": "markdown",
   "metadata": {
    "colab_type": "text",
    "id": "IBUj4h2JtjnP"
   },
   "source": [
    "### Juntamos trigramas y bigramas\n",
    "Vemos que las filas coinciden con numero de frases para validacion y que el numero de columnas (bigramas + trigramas) coindide con el numero de columnas de los datos de entrenamiento,\n",
    "\n",
    "- train_sentences: 13835\n",
    "- Trigramas unicos con sus frecuencias(8616) + bigramas unicos con sus frecuencias(319): 8935\n"
   ]
  },
  {
   "cell_type": "code",
   "execution_count": null,
   "metadata": {
    "colab": {
     "base_uri": "https://localhost:8080/",
     "height": 35
    },
    "colab_type": "code",
    "id": "40i3PdfgtiyT",
    "outputId": "c14f0e5d-0c35-4dc3-ea26-ecf79177935b"
   },
   "outputs": [],
   "source": [
    "validation_sequences_bt = np.concatenate((validation_sequences, validation_sequences_b), axis=1)\n",
    "#tamaño de los datos\n",
    "validation_sequences_bt.shape"
   ]
  },
  {
   "cell_type": "code",
   "execution_count": null,
   "metadata": {
    "colab": {},
    "colab_type": "code",
    "id": "p-WuzccgqiL1"
   },
   "outputs": [],
   "source": [
    "validation_sequences_bt_new = []\n",
    "validation_labels_new = []\n",
    "for i in range(0,len(validation_sequences_bt)):\n",
    "  if sum(validation_sequences_bt[i,]) != 0:\n",
    "    validation_labels_new.append(validation_labels[i])\n",
    "    validation_sequences_bt_new.append(validation_sequences_bt[i,])\n",
    "\n",
    "validation_sequences_bt = np.array(validation_sequences_bt_new)"
   ]
  },
  {
   "cell_type": "code",
   "execution_count": null,
   "metadata": {
    "colab": {
     "base_uri": "https://localhost:8080/",
     "height": 54
    },
    "colab_type": "code",
    "id": "VBq6KP7Xq7qt",
    "outputId": "6943d73a-43bd-43ee-ec19-0de2ef4fb6f1"
   },
   "outputs": [],
   "source": [
    "validation_labels = validation_labels_new\n",
    "print(np.shape(validation_sequences_bt))\n",
    "print(np.shape(validation_labels))"
   ]
  },
  {
   "cell_type": "markdown",
   "metadata": {
    "colab_type": "text",
    "id": "b7Un8Lnw2th5"
   },
   "source": [
    "# Labels\n",
    "### Entrenamiento"
   ]
  },
  {
   "cell_type": "code",
   "execution_count": null,
   "metadata": {
    "colab": {
     "base_uri": "https://localhost:8080/",
     "height": 35
    },
    "colab_type": "code",
    "id": "fJgRbKE1OIkU",
    "outputId": "75f746f6-1d34-4143-a117-acd0b25bac4f"
   },
   "outputs": [],
   "source": [
    "label_size = 4\n",
    "label_tokenizer = Tokenizer(num_words = label_size,oov_token=oov_tok, filters = '')\n",
    "label_tokenizer.fit_on_texts(train_labels)\n",
    "\n",
    "label_seq = np.array(label_tokenizer.texts_to_sequences(train_labels))\n",
    "training_label_seq = np.array(label_tokenizer.texts_to_sequences(train_labels))\n",
    "\n",
    "# flatten the nested list and tranaform to an np array\n",
    "label_seq = np.array([item for items in label_seq for item in items])\n",
    "training_label_seq = np.array([item for items in training_label_seq for item in items])\n",
    "training_label_seq[:5]\n",
    "print(len(training_label_seq))"
   ]
  },
  {
   "cell_type": "code",
   "execution_count": null,
   "metadata": {
    "colab": {},
    "colab_type": "code",
    "id": "TXj17DMDOf_8"
   },
   "outputs": [],
   "source": [
    "#Creamos etiquetas numericas\n",
    "encoder = LabelEncoder()\n",
    "\n",
    "encoder.fit(label_seq)\n",
    "train_labels = encoder.transform(training_label_seq)"
   ]
  },
  {
   "cell_type": "code",
   "execution_count": null,
   "metadata": {
    "colab": {},
    "colab_type": "code",
    "id": "ynKVnhnOPAkH"
   },
   "outputs": [],
   "source": [
    "# Codificación One-Hot \n",
    "num_classes = label_size\n",
    "train_labels_codf = tf.keras.utils.to_categorical(train_labels, num_classes)"
   ]
  },
  {
   "cell_type": "code",
   "execution_count": null,
   "metadata": {
    "colab": {
     "base_uri": "https://localhost:8080/",
     "height": 35
    },
    "colab_type": "code",
    "id": "0I_CfBQOS2Sm",
    "outputId": "8e67f1e1-352f-43a9-e90d-9d0b992c08b2"
   },
   "outputs": [],
   "source": [
    "len(train_labels_codf)"
   ]
  },
  {
   "cell_type": "code",
   "execution_count": null,
   "metadata": {
    "colab": {
     "base_uri": "https://localhost:8080/",
     "height": 146
    },
    "colab_type": "code",
    "id": "U4g1VnJ3rti8",
    "outputId": "3baafa44-7404-423f-9e8d-90f7fbae7e0c"
   },
   "outputs": [],
   "source": [
    "print(train_labels_codf)"
   ]
  },
  {
   "cell_type": "markdown",
   "metadata": {
    "colab_type": "text",
    "id": "Ps043ZX65kXS"
   },
   "source": [
    "### Validacion "
   ]
  },
  {
   "cell_type": "code",
   "execution_count": null,
   "metadata": {
    "colab": {
     "base_uri": "https://localhost:8080/",
     "height": 35
    },
    "colab_type": "code",
    "id": "W-1pVv6SMqUk",
    "outputId": "9774f2bc-6525-464d-d7c8-88b586b359c7"
   },
   "outputs": [],
   "source": [
    "label_size = 4\n",
    "label_tokenizer = Tokenizer(num_words = label_size,oov_token=oov_tok, filters = '')\n",
    "label_tokenizer.fit_on_texts(validation_labels)\n",
    "label_seq = np.array(label_tokenizer.texts_to_sequences(validation_labels))\n",
    "validation_label_seq = np.array(label_tokenizer.texts_to_sequences(validation_labels))\n",
    "\n",
    "# flatten the nested list and tranaform to an np array\n",
    "label_seq = np.array([item for items in label_seq for item in items])\n",
    "validation_label_seq = np.array([item for items in validation_label_seq for item in items])\n",
    "validation_label_seq\n",
    "print(len(validation_label_seq))"
   ]
  },
  {
   "cell_type": "code",
   "execution_count": null,
   "metadata": {
    "colab": {},
    "colab_type": "code",
    "id": "__aVt_doQ7AV"
   },
   "outputs": [],
   "source": [
    "#Creamos etiquetas numericas\n",
    "encoder = LabelEncoder()\n",
    "\n",
    "encoder.fit(label_seq)\n",
    "validation_labels = encoder.transform(validation_label_seq)\n",
    "num_classes = 4"
   ]
  },
  {
   "cell_type": "code",
   "execution_count": null,
   "metadata": {
    "colab": {},
    "colab_type": "code",
    "id": "Ff6QM8gqSIA4"
   },
   "outputs": [],
   "source": [
    "# Codificación One-Hot \n",
    "validation_labels_codf = tf.keras.utils.to_categorical(validation_labels, num_classes)"
   ]
  },
  {
   "cell_type": "code",
   "execution_count": null,
   "metadata": {
    "colab": {
     "base_uri": "https://localhost:8080/",
     "height": 35
    },
    "colab_type": "code",
    "id": "e75A24MySnRs",
    "outputId": "457f66b3-a99a-497e-943a-b42e5749f90c"
   },
   "outputs": [],
   "source": [
    "len(validation_labels_codf)"
   ]
  },
  {
   "cell_type": "code",
   "execution_count": null,
   "metadata": {
    "colab": {
     "base_uri": "https://localhost:8080/",
     "height": 146
    },
    "colab_type": "code",
    "id": "vM2XQVxisGoB",
    "outputId": "d8d68a23-4ad8-460e-c1b6-7be5e6c97719"
   },
   "outputs": [],
   "source": [
    "print(validation_labels_codf)"
   ]
  },
  {
   "cell_type": "markdown",
   "metadata": {
    "colab_type": "text",
    "id": "NLIYKXgN-fFQ"
   },
   "source": [
    "# Dividimos test y validación\n",
    "Recordemos que el grupo de validacion (tanto las frases como los labels) que se ha tenido hasta ahora es el 20% de los datos iniciales, dividiremos este grupo es dos para tomar el 10% del total de los datos iniciales para la validacion interna y el otro 10% para la valicacion externa. Ademas tenga en cuenta que los porcentajes de datos son __aproximados__ debido a la transformacion y limpieza de los datos que se ha hecho.\n",
    "\n",
    "Tomamos primero los datos de test(validacion externa) y luego los de validacion interna(validation_sequences_bt) porque renombraremos esa variable con el porcentaje de datos especificado arriba."
   ]
  },
  {
   "cell_type": "code",
   "execution_count": null,
   "metadata": {
    "colab": {},
    "colab_type": "code",
    "id": "0mhGgkoG9d9z"
   },
   "outputs": [],
   "source": [
    "validation_portion = 0.5\n",
    "validation_size = int(len(validation_sequences_bt) * validation_portion)\n",
    "validation_size # 10% del total\n",
    "\n",
    "test_sequences_bt = validation_sequences_bt[validation_size:] # Frases de test\n",
    "test_labels_codf = validation_labels_codf[validation_size:] # Etiquetas de test\n",
    "\n",
    "validation_sequences_bt = validation_sequences_bt[:validation_size] # Frases de validacion \n",
    "validation_labels_codf = validation_labels_codf[:validation_size] # Etiquetas de validacion"
   ]
  },
  {
   "cell_type": "code",
   "execution_count": null,
   "metadata": {},
   "outputs": [],
   "source": [
    "print(test_labels_codf)"
   ]
  },
  {
   "cell_type": "code",
   "execution_count": null,
   "metadata": {
    "colab": {
     "base_uri": "https://localhost:8080/",
     "height": 91
    },
    "colab_type": "code",
    "id": "HbS1oTskz7vO",
    "outputId": "98d393eb-4841-4d68-b072-29b1a1f5fc79"
   },
   "outputs": [],
   "source": [
    "#verificacion de tamaños\n",
    "print(\"validation_sequences_bt\",validation_sequences_bt.shape) #validacion interna\n",
    "print(\"validation_labels_codf\",validation_labels_codf.shape)\n",
    "print(\"test_sequences_bt\",test_sequences_bt.shape) #validacion externa\n",
    "print(\"test_labels_codf\",test_labels_codf.shape)"
   ]
  },
  {
   "cell_type": "markdown",
   "metadata": {
    "colab_type": "text",
    "id": "Q3FKjA0CTfPV"
   },
   "source": [
    "# Construccion del Modelo"
   ]
  },
  {
   "cell_type": "code",
   "execution_count": null,
   "metadata": {
    "colab": {
     "base_uri": "https://localhost:8080/",
     "height": 229
    },
    "colab_type": "code",
    "id": "yUqvvgkXtLPN",
    "outputId": "412de39c-54fd-46ef-88fa-29e1f03e92c9"
   },
   "outputs": [],
   "source": [
    "num_frases_training, num_ngrams, = np.shape(train_sequences_bt)\n",
    "\n",
    "print(\"num_frases_training\", num_frases_training) #se espera 21025\n",
    "print(\"num_ngrams:\", num_ngrams) #se espera 6379"
   ]
  },
  {
   "cell_type": "code",
   "execution_count": null,
   "metadata": {
    "colab": {},
    "colab_type": "code",
    "id": "6AGXIMAg32Ku"
   },
   "outputs": [],
   "source": [
    "callback = tf.keras.callbacks.EarlyStopping(\n",
    "    monitor='val_accuracy', patience=10\n",
    "    )\n",
    "# This callback will stop the training when there is no improvement in\n",
    "# the validation loss for three consecutive epochs."
   ]
  },
  {
   "cell_type": "code",
   "execution_count": null,
   "metadata": {
    "colab": {
     "base_uri": "https://localhost:8080/",
     "height": 461
    },
    "colab_type": "code",
    "id": "Zf_uFWIKT-pn",
    "outputId": "6b4c50fa-41af-43a8-8d3d-0734b98a205c"
   },
   "outputs": [],
   "source": [
    "model = tf.keras.Sequential([\n",
    "    tf.keras.layers.Dense(6379, activation='relu', input_shape=(num_ngrams,),\n",
    "                         activity_regularizer=tf.keras.regularizers.l2(1e-4)),\n",
    "    tf.keras.layers.Dense(2440, activation='relu'),\n",
    "    tf.keras.layers.Dropout(0.5),\n",
    "    tf.keras.layers.Dense(4, activation='softmax')\n",
    "])\n",
    "model.compile(loss='categorical_crossentropy',optimizer='adam',metrics=['accuracy'])\n",
    "model.summary()"
   ]
  },
  {
   "cell_type": "markdown",
   "metadata": {
    "colab_type": "text",
    "id": "MOU3hgTnUjqg"
   },
   "source": [
    "# Entrenamiento del modelo\n",
    "\n",
    "|dropout|F. de activación| dense |loss_train |accuracy_train |loss_validation |accuracy_validation |Ephoc|\n",
    "|:---:|:---:|:---:|:---:|:---:|:---:|:---:|:---:|\n",
    "|4|tanh(1),relu(3)|5|0.7715|0.6028|1.2662|0.4657|7|\n",
    "|4|tanh(4),relu(1)|6|0.9419|0.5285|1.1128|0.4241|6|\n",
    "|5|tanh(2),relu(3)|6|0.7683|0.6877|1.7956|0.4490|10|\n",
    "|5|tanh(0),relu(5)|6|0.4636|0.7820|2.1792|0.4489|10|\n",
    "|4|tanh(0),relu(5)|6|0.5599|0.7633|1.7796|0.4444|7|\n",
    "|3|tanh(3),relu(2)|6|0.5243|0.7608|2.0161|0.4381|9|\n",
    "|4|tanh(5),relu(1)|7|0.9163|0.6148|1.3061|0.4359|5|\n",
    "|4|tanh(5),relu(1)|7|1.0490|0.5492|1.1830|0.4670|5|\n",
    "|4|tanh(1),relu(4)|7|0.9413|0.5382|1.0868 |0.4551|8|\n",
    "|6|tanh(0),relu(7)|8|0.7479|0.6439|1.3333 |0.4498|6|\n",
    "|1|tanh(0),relu(2)|3|0.5127|0.7513|1.7194 |0.4567|6|\n"
   ]
  },
  {
   "cell_type": "code",
   "execution_count": null,
   "metadata": {
    "colab": {
     "base_uri": "https://localhost:8080/",
     "height": 421
    },
    "colab_type": "code",
    "id": "NNugayIpUhLE",
    "outputId": "9db9a786-18f4-4db3-b4d6-23f7a29abefd"
   },
   "outputs": [],
   "source": [
    "num_epochs = 10\n",
    "history = model.fit(train_sequences_bt, train_labels_codf, epochs=num_epochs, validation_data=(validation_sequences_bt,validation_labels_codf),batch_size=32, verbose=True, callbacks=[callback])\n",
    "\n",
    "print(\"\\nEn la epoca\", len(history.history['val_accuracy']), \"la precision de validación dejó de mejorar.\")"
   ]
  },
  {
   "cell_type": "code",
   "execution_count": null,
   "metadata": {
    "colab": {},
    "colab_type": "code",
    "id": "FXlzL6iGf-aa",
    "jupyter": {
     "source_hidden": true
    }
   },
   "outputs": [],
   "source": [
    "def plot_graphs(history, string):\n",
    "  plt.title(string+' con 10 epochs')\n",
    "  plt.plot(history.history[string])\n",
    "  plt.plot(history.history['val_'+string])\n",
    "  plt.xlabel(\"Epochs\")\n",
    "  plt.ylabel(string)\n",
    "  plt.legend([string, 'val_'+string])\n",
    "  plt.show()\n",
    "  \n",
    "plot_graphs(history, \"accuracy\")\n",
    "plot_graphs(history, \"loss\")"
   ]
  },
  {
   "cell_type": "markdown",
   "metadata": {
    "colab_type": "text",
    "id": "sUf9T03T3N-c"
   },
   "source": [
    "# Prueba del modelo"
   ]
  },
  {
   "cell_type": "code",
   "execution_count": null,
   "metadata": {
    "colab": {},
    "colab_type": "code",
    "id": "Cseyk3ipz0TF",
    "jupyter": {
     "source_hidden": true
    },
    "outputId": "0338d3db-95ff-4817-a42d-537077ce11f1"
   },
   "outputs": [],
   "source": [
    "#predicciones del modelo\n",
    "model.predict(test_sequences_bt)"
   ]
  },
  {
   "cell_type": "code",
   "execution_count": null,
   "metadata": {
    "colab": {},
    "colab_type": "code",
    "id": "kDSrLYYz8MDG",
    "jupyter": {
     "source_hidden": true
    },
    "outputId": "fb398c37-b462-455a-edf2-39122afe076d"
   },
   "outputs": [],
   "source": [
    "#etiquetas reales\n",
    "test_labels_codf"
   ]
  },
  {
   "cell_type": "markdown",
   "metadata": {
    "colab_type": "text",
    "id": "wq4rtg8o4Iaa"
   },
   "source": [
    "# Funcion clasificadora"
   ]
  },
  {
   "cell_type": "code",
   "execution_count": null,
   "metadata": {
    "colab": {},
    "colab_type": "code",
    "id": "Aq1C4FpP4Js1"
   },
   "outputs": [],
   "source": [
    "def classifier (sentence): \n",
    "  sentence_l = re.sub(' +', ' ',sentence.lower())\n",
    "  sentence = ''.join(c for c in sentence_l if c in printable)\n",
    "\n",
    "  X = vectorizer3.fit_transform(sentence) \n",
    "  sentences_bt = X3.toarray() #codificacion para tabla con trigramas y bigramas\n",
    "\n",
    "  prediction = model.predict_classes(sentences_bt)\n",
    "  prediction = label_tokenizer.sequences_to_texts([prediction])\n",
    "\n",
    "  return prediction"
   ]
  },
  {
   "cell_type": "code",
   "execution_count": null,
   "metadata": {
    "colab": {},
    "colab_type": "code",
    "id": "7LT8ZQG440Ya",
    "outputId": "88d85719-2e9a-4731-b136-ae2d3a99d9c5"
   },
   "outputs": [],
   "source": [
    "classifier('can his funeral be on a school day')"
   ]
  },
  {
   "cell_type": "code",
   "execution_count": null,
   "metadata": {
    "colab": {},
    "colab_type": "code",
    "id": "wVwlq9pL8A5F"
   },
   "outputs": [],
   "source": []
  },
  {
   "cell_type": "code",
   "execution_count": null,
   "metadata": {},
   "outputs": [],
   "source": []
  }
 ],
 "metadata": {
  "accelerator": "GPU",
  "colab": {
   "collapsed_sections": [],
   "name": "ssss.ipynb",
   "provenance": []
  },
  "kernelspec": {
   "display_name": "Python 3",
   "language": "python",
   "name": "python3"
  },
  "language_info": {
   "codemirror_mode": {
    "name": "ipython",
    "version": 3
   },
   "file_extension": ".py",
   "mimetype": "text/x-python",
   "name": "python",
   "nbconvert_exporter": "python",
   "pygments_lexer": "ipython3",
   "version": "3.7.7"
  }
 },
 "nbformat": 4,
 "nbformat_minor": 4
}
