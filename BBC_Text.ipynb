{
  "nbformat": 4,
  "nbformat_minor": 0,
  "metadata": {
    "accelerator": "GPU",
    "colab": {
      "name": "BBC_Text.ipynb",
      "provenance": [],
      "collapsed_sections": [],
      "toc_visible": true
    },
    "kernelspec": {
      "display_name": "Python 3",
      "language": "python",
      "name": "python3"
    },
    "language_info": {
      "codemirror_mode": {
        "name": "ipython",
        "version": 3
      },
      "file_extension": ".py",
      "mimetype": "text/x-python",
      "name": "python",
      "nbconvert_exporter": "python",
      "pygments_lexer": "ipython3",
      "version": "3.7.4"
    }
  },
  "cells": [
    {
      "cell_type": "markdown",
      "metadata": {
        "id": "uCXA97EMKfDG",
        "colab_type": "text"
      },
      "source": [
        "<a href=\"https://colab.research.google.com/github/JuliethLopez/chatbot_simpsons/blob/master/BBC_Text.ipynb\" target=\"_parent\"><img src=\"https://colab.research.google.com/assets/colab-badge.svg\" alt=\"Open In Colab\"/></a>"
      ]
    },
    {
      "cell_type": "markdown",
      "metadata": {
        "id": "UMKMq626ax3b",
        "colab_type": "text"
      },
      "source": [
        "# Clasificación usando Lenguaje Natural"
      ]
    },
    {
      "cell_type": "code",
      "metadata": {
        "colab_type": "code",
        "id": "GSfreYDvYt3M",
        "outputId": "f5380277-7a29-46f3-f9e2-2374a18113b2",
        "colab": {
          "base_uri": "https://localhost:8080/",
          "height": 36
        }
      },
      "source": [
        "#librerias\n",
        "import csv\n",
        "import tensorflow as tf\n",
        "import numpy as np\n",
        "import matplotlib.pyplot as plt\n",
        "import pandas as pd\n",
        "import matplotlib.pylab as plt\n",
        "import nltk\n",
        "from nltk import word_tokenize\n",
        "from nltk.util import ngrams\n",
        "from tensorflow.keras.preprocessing.text import Tokenizer\n",
        "from tensorflow.keras.preprocessing.sequence import pad_sequences\n",
        "import numpy as np\n",
        "from keras import layers, backend"
      ],
      "execution_count": 5,
      "outputs": [
        {
          "output_type": "stream",
          "text": [
            "Using TensorFlow backend.\n"
          ],
          "name": "stderr"
        }
      ]
    },
    {
      "cell_type": "code",
      "metadata": {
        "id": "7SHJ2Qb5ljbU",
        "colab_type": "code",
        "colab": {}
      },
      "source": [
        "# pip install nltk"
      ],
      "execution_count": 0,
      "outputs": []
    },
    {
      "cell_type": "code",
      "metadata": {
        "id": "fFh7bJC4lIG1",
        "colab_type": "code",
        "outputId": "1b503061-06f3-400e-c78d-52f335a5c7b7",
        "colab": {
          "base_uri": "https://localhost:8080/",
          "height": 1000
        }
      },
      "source": [
        "nltk.download()"
      ],
      "execution_count": 3,
      "outputs": [
        {
          "output_type": "stream",
          "text": [
            "NLTK Downloader\n",
            "---------------------------------------------------------------------------\n",
            "    d) Download   l) List    u) Update   c) Config   h) Help   q) Quit\n",
            "---------------------------------------------------------------------------\n",
            "Downloader> d\n",
            "\n",
            "Download which package (l=list; x=cancel)?\n",
            "  Identifier> all\n",
            "    Downloading collection 'all'\n",
            "       | \n",
            "       | Downloading package abc to /root/nltk_data...\n",
            "       |   Package abc is already up-to-date!\n",
            "       | Downloading package alpino to /root/nltk_data...\n",
            "       |   Package alpino is already up-to-date!\n",
            "       | Downloading package biocreative_ppi to /root/nltk_data...\n",
            "       |   Package biocreative_ppi is already up-to-date!\n",
            "       | Downloading package brown to /root/nltk_data...\n",
            "       |   Package brown is already up-to-date!\n",
            "       | Downloading package brown_tei to /root/nltk_data...\n",
            "       |   Package brown_tei is already up-to-date!\n",
            "       | Downloading package cess_cat to /root/nltk_data...\n",
            "       |   Package cess_cat is already up-to-date!\n",
            "       | Downloading package cess_esp to /root/nltk_data...\n",
            "       |   Package cess_esp is already up-to-date!\n",
            "       | Downloading package chat80 to /root/nltk_data...\n",
            "       |   Package chat80 is already up-to-date!\n",
            "       | Downloading package city_database to /root/nltk_data...\n",
            "       |   Package city_database is already up-to-date!\n",
            "       | Downloading package cmudict to /root/nltk_data...\n",
            "       |   Package cmudict is already up-to-date!\n",
            "       | Downloading package comparative_sentences to\n",
            "       |     /root/nltk_data...\n",
            "       |   Package comparative_sentences is already up-to-date!\n",
            "       | Downloading package comtrans to /root/nltk_data...\n",
            "       |   Package comtrans is already up-to-date!\n",
            "       | Downloading package conll2000 to /root/nltk_data...\n",
            "       |   Package conll2000 is already up-to-date!\n",
            "       | Downloading package conll2002 to /root/nltk_data...\n",
            "       |   Package conll2002 is already up-to-date!\n",
            "       | Downloading package conll2007 to /root/nltk_data...\n",
            "       |   Package conll2007 is already up-to-date!\n",
            "       | Downloading package crubadan to /root/nltk_data...\n",
            "       |   Package crubadan is already up-to-date!\n",
            "       | Downloading package dependency_treebank to /root/nltk_data...\n",
            "       |   Package dependency_treebank is already up-to-date!\n",
            "       | Downloading package dolch to /root/nltk_data...\n",
            "       |   Package dolch is already up-to-date!\n",
            "       | Downloading package europarl_raw to /root/nltk_data...\n",
            "       |   Package europarl_raw is already up-to-date!\n",
            "       | Downloading package floresta to /root/nltk_data...\n",
            "       |   Package floresta is already up-to-date!\n",
            "       | Downloading package framenet_v15 to /root/nltk_data...\n",
            "       |   Package framenet_v15 is already up-to-date!\n",
            "       | Downloading package framenet_v17 to /root/nltk_data...\n",
            "       |   Package framenet_v17 is already up-to-date!\n",
            "       | Downloading package gazetteers to /root/nltk_data...\n",
            "       |   Package gazetteers is already up-to-date!\n",
            "       | Downloading package genesis to /root/nltk_data...\n",
            "       |   Package genesis is already up-to-date!\n",
            "       | Downloading package gutenberg to /root/nltk_data...\n",
            "       |   Package gutenberg is already up-to-date!\n",
            "       | Downloading package ieer to /root/nltk_data...\n",
            "       |   Package ieer is already up-to-date!\n",
            "       | Downloading package inaugural to /root/nltk_data...\n",
            "       |   Package inaugural is already up-to-date!\n",
            "       | Downloading package indian to /root/nltk_data...\n",
            "       |   Package indian is already up-to-date!\n",
            "       | Downloading package jeita to /root/nltk_data...\n",
            "       |   Package jeita is already up-to-date!\n",
            "       | Downloading package kimmo to /root/nltk_data...\n",
            "       |   Package kimmo is already up-to-date!\n",
            "       | Downloading package knbc to /root/nltk_data...\n",
            "       |   Package knbc is already up-to-date!\n",
            "       | Downloading package lin_thesaurus to /root/nltk_data...\n",
            "       |   Package lin_thesaurus is already up-to-date!\n",
            "       | Downloading package mac_morpho to /root/nltk_data...\n",
            "       |   Package mac_morpho is already up-to-date!\n",
            "       | Downloading package machado to /root/nltk_data...\n",
            "       |   Package machado is already up-to-date!\n",
            "       | Downloading package masc_tagged to /root/nltk_data...\n",
            "       |   Package masc_tagged is already up-to-date!\n",
            "       | Downloading package moses_sample to /root/nltk_data...\n",
            "       |   Package moses_sample is already up-to-date!\n",
            "       | Downloading package movie_reviews to /root/nltk_data...\n",
            "       |   Package movie_reviews is already up-to-date!\n",
            "       | Downloading package names to /root/nltk_data...\n",
            "       |   Package names is already up-to-date!\n",
            "       | Downloading package nombank.1.0 to /root/nltk_data...\n",
            "       |   Package nombank.1.0 is already up-to-date!\n",
            "       | Downloading package nps_chat to /root/nltk_data...\n",
            "       |   Package nps_chat is already up-to-date!\n",
            "       | Downloading package omw to /root/nltk_data...\n",
            "       |   Package omw is already up-to-date!\n",
            "       | Downloading package opinion_lexicon to /root/nltk_data...\n",
            "       |   Package opinion_lexicon is already up-to-date!\n",
            "       | Downloading package paradigms to /root/nltk_data...\n",
            "       |   Package paradigms is already up-to-date!\n",
            "       | Downloading package pil to /root/nltk_data...\n",
            "       |   Package pil is already up-to-date!\n",
            "       | Downloading package pl196x to /root/nltk_data...\n",
            "       |   Package pl196x is already up-to-date!\n",
            "       | Downloading package ppattach to /root/nltk_data...\n",
            "       |   Package ppattach is already up-to-date!\n",
            "       | Downloading package problem_reports to /root/nltk_data...\n",
            "       |   Package problem_reports is already up-to-date!\n",
            "       | Downloading package propbank to /root/nltk_data...\n",
            "       |   Package propbank is already up-to-date!\n",
            "       | Downloading package ptb to /root/nltk_data...\n",
            "       |   Package ptb is already up-to-date!\n",
            "       | Downloading package product_reviews_1 to /root/nltk_data...\n",
            "       |   Package product_reviews_1 is already up-to-date!\n",
            "       | Downloading package product_reviews_2 to /root/nltk_data...\n",
            "       |   Package product_reviews_2 is already up-to-date!\n",
            "       | Downloading package pros_cons to /root/nltk_data...\n",
            "       |   Package pros_cons is already up-to-date!\n",
            "       | Downloading package qc to /root/nltk_data...\n",
            "       |   Package qc is already up-to-date!\n",
            "       | Downloading package reuters to /root/nltk_data...\n",
            "       |   Package reuters is already up-to-date!\n",
            "       | Downloading package rte to /root/nltk_data...\n",
            "       |   Package rte is already up-to-date!\n",
            "       | Downloading package semcor to /root/nltk_data...\n",
            "       |   Package semcor is already up-to-date!\n",
            "       | Downloading package senseval to /root/nltk_data...\n",
            "       |   Package senseval is already up-to-date!\n",
            "       | Downloading package sentiwordnet to /root/nltk_data...\n",
            "       |   Package sentiwordnet is already up-to-date!\n",
            "       | Downloading package sentence_polarity to /root/nltk_data...\n",
            "       |   Package sentence_polarity is already up-to-date!\n",
            "       | Downloading package shakespeare to /root/nltk_data...\n",
            "       |   Package shakespeare is already up-to-date!\n",
            "       | Downloading package sinica_treebank to /root/nltk_data...\n",
            "       |   Package sinica_treebank is already up-to-date!\n",
            "       | Downloading package smultron to /root/nltk_data...\n",
            "       |   Package smultron is already up-to-date!\n",
            "       | Downloading package state_union to /root/nltk_data...\n",
            "       |   Package state_union is already up-to-date!\n",
            "       | Downloading package stopwords to /root/nltk_data...\n",
            "       |   Package stopwords is already up-to-date!\n",
            "       | Downloading package subjectivity to /root/nltk_data...\n",
            "       |   Package subjectivity is already up-to-date!\n",
            "       | Downloading package swadesh to /root/nltk_data...\n",
            "       |   Package swadesh is already up-to-date!\n",
            "       | Downloading package switchboard to /root/nltk_data...\n",
            "       |   Package switchboard is already up-to-date!\n",
            "       | Downloading package timit to /root/nltk_data...\n",
            "       |   Package timit is already up-to-date!\n",
            "       | Downloading package toolbox to /root/nltk_data...\n",
            "       |   Package toolbox is already up-to-date!\n",
            "       | Downloading package treebank to /root/nltk_data...\n",
            "       |   Package treebank is already up-to-date!\n",
            "       | Downloading package twitter_samples to /root/nltk_data...\n",
            "       |   Package twitter_samples is already up-to-date!\n",
            "       | Downloading package udhr to /root/nltk_data...\n",
            "       |   Package udhr is already up-to-date!\n",
            "       | Downloading package udhr2 to /root/nltk_data...\n",
            "       |   Package udhr2 is already up-to-date!\n",
            "       | Downloading package unicode_samples to /root/nltk_data...\n",
            "       |   Package unicode_samples is already up-to-date!\n",
            "       | Downloading package universal_treebanks_v20 to\n",
            "       |     /root/nltk_data...\n",
            "       |   Package universal_treebanks_v20 is already up-to-date!\n",
            "       | Downloading package verbnet to /root/nltk_data...\n",
            "       |   Package verbnet is already up-to-date!\n",
            "       | Downloading package verbnet3 to /root/nltk_data...\n",
            "       |   Package verbnet3 is already up-to-date!\n",
            "       | Downloading package webtext to /root/nltk_data...\n",
            "       |   Package webtext is already up-to-date!\n",
            "       | Downloading package wordnet to /root/nltk_data...\n",
            "       |   Package wordnet is already up-to-date!\n",
            "       | Downloading package wordnet_ic to /root/nltk_data...\n",
            "       |   Package wordnet_ic is already up-to-date!\n",
            "       | Downloading package words to /root/nltk_data...\n",
            "       |   Package words is already up-to-date!\n",
            "       | Downloading package ycoe to /root/nltk_data...\n",
            "       |   Package ycoe is already up-to-date!\n",
            "       | Downloading package rslp to /root/nltk_data...\n",
            "       |   Package rslp is already up-to-date!\n",
            "       | Downloading package maxent_treebank_pos_tagger to\n",
            "       |     /root/nltk_data...\n",
            "       |   Package maxent_treebank_pos_tagger is already up-to-date!\n",
            "       | Downloading package universal_tagset to /root/nltk_data...\n",
            "       |   Package universal_tagset is already up-to-date!\n",
            "       | Downloading package maxent_ne_chunker to /root/nltk_data...\n",
            "       |   Package maxent_ne_chunker is already up-to-date!\n",
            "       | Downloading package punkt to /root/nltk_data...\n",
            "       |   Package punkt is already up-to-date!\n",
            "       | Downloading package book_grammars to /root/nltk_data...\n",
            "       |   Package book_grammars is already up-to-date!\n",
            "       | Downloading package sample_grammars to /root/nltk_data...\n",
            "       |   Package sample_grammars is already up-to-date!\n",
            "       | Downloading package spanish_grammars to /root/nltk_data...\n",
            "       |   Package spanish_grammars is already up-to-date!\n",
            "       | Downloading package basque_grammars to /root/nltk_data...\n",
            "       |   Package basque_grammars is already up-to-date!\n",
            "       | Downloading package large_grammars to /root/nltk_data...\n",
            "       |   Package large_grammars is already up-to-date!\n",
            "       | Downloading package tagsets to /root/nltk_data...\n",
            "       |   Package tagsets is already up-to-date!\n",
            "       | Downloading package snowball_data to /root/nltk_data...\n",
            "       |   Package snowball_data is already up-to-date!\n",
            "       | Downloading package bllip_wsj_no_aux to /root/nltk_data...\n",
            "       |   Package bllip_wsj_no_aux is already up-to-date!\n",
            "       | Downloading package word2vec_sample to /root/nltk_data...\n",
            "       |   Package word2vec_sample is already up-to-date!\n",
            "       | Downloading package panlex_swadesh to /root/nltk_data...\n",
            "       |   Package panlex_swadesh is already up-to-date!\n",
            "       | Downloading package mte_teip5 to /root/nltk_data...\n",
            "       |   Package mte_teip5 is already up-to-date!\n",
            "       | Downloading package averaged_perceptron_tagger to\n",
            "       |     /root/nltk_data...\n",
            "       |   Package averaged_perceptron_tagger is already up-to-date!\n",
            "       | Downloading package averaged_perceptron_tagger_ru to\n",
            "       |     /root/nltk_data...\n",
            "       |   Package averaged_perceptron_tagger_ru is already up-to-\n",
            "       |       date!\n",
            "       | Downloading package perluniprops to /root/nltk_data...\n",
            "       |   Package perluniprops is already up-to-date!\n",
            "       | Downloading package nonbreaking_prefixes to\n",
            "       |     /root/nltk_data...\n",
            "       |   Package nonbreaking_prefixes is already up-to-date!\n",
            "       | Downloading package vader_lexicon to /root/nltk_data...\n",
            "       |   Package vader_lexicon is already up-to-date!\n",
            "       | Downloading package porter_test to /root/nltk_data...\n",
            "       |   Package porter_test is already up-to-date!\n",
            "       | Downloading package wmt15_eval to /root/nltk_data...\n",
            "       |   Package wmt15_eval is already up-to-date!\n",
            "       | Downloading package mwa_ppdb to /root/nltk_data...\n",
            "       |   Package mwa_ppdb is already up-to-date!\n",
            "       | \n",
            "     Done downloading collection all\n",
            "\n",
            "---------------------------------------------------------------------------\n",
            "    d) Download   l) List    u) Update   c) Config   h) Help   q) Quit\n",
            "---------------------------------------------------------------------------\n",
            "Downloader> q\n"
          ],
          "name": "stdout"
        },
        {
          "output_type": "execute_result",
          "data": {
            "text/plain": [
              "True"
            ]
          },
          "metadata": {
            "tags": []
          },
          "execution_count": 3
        }
      ]
    },
    {
      "cell_type": "code",
      "metadata": {
        "id": "DIvXeFflmGJE",
        "colab_type": "code",
        "colab": {}
      },
      "source": [
        "from nltk.tokenize import word_tokenize, sent_tokenize, regexp_tokenize"
      ],
      "execution_count": 0,
      "outputs": []
    },
    {
      "cell_type": "markdown",
      "metadata": {
        "id": "dLUigGjXYt3r",
        "colab_type": "text"
      },
      "source": [
        "# Define algunas características iniciales"
      ]
    },
    {
      "cell_type": "code",
      "metadata": {
        "colab_type": "code",
        "id": "EYo6A4v5ZABQ",
        "colab": {}
      },
      "source": [
        "vocab_size = 37069 # número de palabras que integrarán el vocabulario\n",
        "embedding_dim = 32 # dimensión del embeding de las palabras\n",
        "max_length = 120  # longitud máxima de una oración (sentence filtrada con stopwords)\n",
        "trunc_type='post' # donde truncar una oración (sentence, filtrada con stopwords)\n",
        "padding_type='post'# donde hacer el padding (agregar ceros) en una oración (sentence, filtrada con stopwords)\n",
        "oov_tok = \"<OOV>\"  # token para las palabras que queden fuera del vocabulario\n",
        "training_portion = .8  # porcentaje de datos para entrenamiento"
      ],
      "execution_count": 0,
      "outputs": []
    },
    {
      "cell_type": "code",
      "metadata": {
        "colab_type": "code",
        "id": "iU1qq3_SZBx_",
        "outputId": "e23c1fa1-e5ea-4d19-ede8-54070c2f3c19",
        "colab": {
          "base_uri": "https://localhost:8080/",
          "height": 36
        }
      },
      "source": [
        "complete_sentences = []\n",
        "complete_lines = [] \n",
        "sentences = []\n",
        "labels = [] # preprocesed labels\n",
        "\n",
        "stopwords = []\n",
        "print(len(stopwords))"
      ],
      "execution_count": 8,
      "outputs": [
        {
          "output_type": "stream",
          "text": [
            "0\n"
          ],
          "name": "stdout"
        }
      ]
    },
    {
      "cell_type": "code",
      "metadata": {
        "id": "9QFugJkmYt4n",
        "colab_type": "code",
        "outputId": "10e71d3c-2b40-4e6a-f4c3-bf41fcd4010b",
        "colab": {
          "base_uri": "https://localhost:8080/",
          "height": 73
        }
      },
      "source": [
        "import string\n",
        "import numpy as np\n",
        "\n",
        "a = np.array([32]) # space\n",
        "#b = np.array(range(65,91)) # uppercase\n",
        "c = np.array(range(97,123)) # lowercase\n",
        "printab = np.hstack((a,c))\n",
        "\n",
        "printable = np.array([chr(i) for i in printab])   \n",
        "printable\n",
        "\n",
        "#ascci_to_char = dict((printab[i], printable[i]) for i in range(len(printable)))"
      ],
      "execution_count": 9,
      "outputs": [
        {
          "output_type": "execute_result",
          "data": {
            "text/plain": [
              "array([' ', 'a', 'b', 'c', 'd', 'e', 'f', 'g', 'h', 'i', 'j', 'k', 'l',\n",
              "       'm', 'n', 'o', 'p', 'q', 'r', 's', 't', 'u', 'v', 'w', 'x', 'y',\n",
              "       'z'], dtype='<U1')"
            ]
          },
          "metadata": {
            "tags": []
          },
          "execution_count": 9
        }
      ]
    },
    {
      "cell_type": "code",
      "metadata": {
        "colab_type": "code",
        "id": "eutB2xMiZD0e",
        "outputId": "159135b6-3763-4357-9b58-17c42e52a91d",
        "colab": {
          "base_uri": "https://localhost:8080/",
          "height": 92
        }
      },
      "source": [
        "#lectura de los datos\n",
        "import string\n",
        "import re #regular expresions\n",
        "# abre el archivo de datos y lo trata como un archivo csv\n",
        "file = open('DFSMS.csv', 'r')\n",
        "with file as csvfile:\n",
        "    reader = csv.reader(csvfile, delimiter=',')\n",
        "    next(reader)\n",
        "    for row in reader:\n",
        "        # preprocess label\n",
        "        #label_l = ' '.join(row[0].split()).lower().replace(' ','_') # lower case ans eliminate multiple spaces\n",
        "        label_l = re.sub(' +', ' ',row[0].lower()) # lower case ans eliminate multiple spaces\n",
        "        if (len(label_l)>2): # drop with empty label\n",
        "            label = ''.join(c for c in label_l if c in printable)# filter only printable characters\n",
        "            label = label.replace(' ','_')\n",
        "            labels.append(label)\n",
        "            # preprocess sentence\n",
        "            #sentence_l = ' '.join(row[1].split()).lower().replace(' ','_') # lower case ans eliminate multiple spaces\n",
        "            sentence_l = re.sub(' +', ' ',row[1].lower())\n",
        "            sentence = ''.join(c for c in sentence_l if c in printable)\n",
        "            complete_lines.append(row[0] + ': '+ row[1])\n",
        "            complete_sentences.append(sentence)\n",
        "            # preprocess stopwords\n",
        "            for word in stopwords:\n",
        "                token = \" \" + word + \" \"\n",
        "                sentence = sentence.replace(token, \" \")\n",
        "            sentences.append(sentence)\n",
        " \n",
        "\n",
        "# resumen de la lectura            \n",
        "print(len(labels))\n",
        "print(len(complete_sentences))\n",
        "print(len(complete_lines))\n",
        "print(len(sentences))\n",
        "# Expected Output\n",
        "# 158314"
      ],
      "execution_count": 12,
      "outputs": [
        {
          "output_type": "stream",
          "text": [
            "69171\n",
            "69171\n",
            "69171\n",
            "69171\n"
          ],
          "name": "stdout"
        }
      ]
    },
    {
      "cell_type": "code",
      "metadata": {
        "colab_type": "code",
        "outputId": "407a6251-4b7c-4060-cf63-88798c8d1843",
        "id": "mHP5HqP4Yt5U",
        "colab": {
          "base_uri": "https://localhost:8080/",
          "height": 167
        }
      },
      "source": [
        "# primera linea\n",
        "print(labels[0]+'\\n')\n",
        "print(complete_sentences[0]+'\\n')\n",
        "print(complete_lines[0]+'\\n')\n",
        "print(sentences[0]+'\\n')\n",
        "# Expected Output\n",
        "# 158314\n",
        "# 158314"
      ],
      "execution_count": 46,
      "outputs": [
        {
          "output_type": "stream",
          "text": [
            "lisa_simpson\n",
            "\n",
            "wheres mr bergstrom\n",
            "\n",
            "Lisa Simpson: Where's Mr. Bergstrom?\n",
            "\n",
            "wheres mr bergstrom\n",
            "\n"
          ],
          "name": "stdout"
        }
      ]
    },
    {
      "cell_type": "code",
      "metadata": {
        "id": "djFPe1k6pOp9",
        "colab_type": "code",
        "outputId": "4da05a13-fb22-4f0f-94c8-40a6e34081d9",
        "colab": {
          "base_uri": "https://localhost:8080/",
          "height": 281
        }
      },
      "source": [
        "#Gráfico de barras de numero de frases por personaje\n",
        "frec = pd.value_counts(labels)\n",
        "plot = frec.plot(kind='barh',title='Numero de frases por personaje',color=['deepskyblue','orangered','darkkhaki','gold'])"
      ],
      "execution_count": 47,
      "outputs": [
        {
          "output_type": "display_data",
          "data": {
            "image/png": "[encoded data removed]",
            "text/plain": [
              "<Figure size 432x288 with 1 Axes>"
            ]
          },
          "metadata": {
            "tags": [],
            "needs_background": "light"
          }
        }
      ]
    },
    {
      "cell_type": "code",
      "metadata": {
        "id": "6Vqqx5Q2Yt5q",
        "colab_type": "code",
        "outputId": "cfba8f29-739c-498e-fe76-f570b06f7d0d",
        "colab": {
          "base_uri": "https://localhost:8080/",
          "height": 92
        }
      },
      "source": [
        "sentences[:4]"
      ],
      "execution_count": 48,
      "outputs": [
        {
          "output_type": "execute_result",
          "data": {
            "text/plain": [
              "['wheres mr bergstrom',\n",
              " 'that life is worth living',\n",
              " 'victory party under the slide',\n",
              " 'mr bergstrom mr bergstrom']"
            ]
          },
          "metadata": {
            "tags": []
          },
          "execution_count": 48
        }
      ]
    },
    {
      "cell_type": "markdown",
      "metadata": {
        "id": "QH4k5vkXYt6B",
        "colab_type": "text"
      },
      "source": [
        "# Separa datos de entrenamiento y validación "
      ]
    },
    {
      "cell_type": "code",
      "metadata": {
        "colab_type": "code",
        "id": "XfdaWh06ZGe3",
        "outputId": "7add91cf-e443-4d4f-cab9-96fdf72ce641",
        "colab": {
          "base_uri": "https://localhost:8080/",
          "height": 111
        }
      },
      "source": [
        "train_size = int(len(sentences) * training_portion)\n",
        "\n",
        "train_sentences = sentences[:train_size]\n",
        "train_labels = labels[:train_size]\n",
        "\n",
        "validation_sentences = sentences[train_size:]\n",
        "validation_labels = labels[train_size:]\n",
        "\n",
        "print(train_size)\n",
        "print(len(train_sentences))\n",
        "print(len(train_labels))\n",
        "print(len(validation_sentences))\n",
        "print(len(validation_labels))\n",
        "\n",
        "# Expected output (if training_portion=.8)\n",
        "# 126651 train\n",
        "# 31663 validation"
      ],
      "execution_count": 49,
      "outputs": [
        {
          "output_type": "stream",
          "text": [
            "55336\n",
            "55336\n",
            "55336\n",
            "13835\n",
            "13835\n"
          ],
          "name": "stdout"
        }
      ]
    },
    {
      "cell_type": "code",
      "metadata": {
        "id": "eN2cwKFrZL6v",
        "colab_type": "code",
        "outputId": "30a33ce4-213c-467d-edb0-741261b2e6c1",
        "colab": {
          "base_uri": "https://localhost:8080/",
          "height": 73
        }
      },
      "source": [
        "train_sentences[:3]"
      ],
      "execution_count": 50,
      "outputs": [
        {
          "output_type": "execute_result",
          "data": {
            "text/plain": [
              "['wheres mr bergstrom',\n",
              " 'that life is worth living',\n",
              " 'victory party under the slide']"
            ]
          },
          "metadata": {
            "tags": []
          },
          "execution_count": 50
        }
      ]
    },
    {
      "cell_type": "code",
      "metadata": {
        "id": "Nfk2wm03nVPG",
        "colab_type": "code",
        "outputId": "683b2b68-9a98-4a4b-a437-242d7dd6bc4a",
        "colab": {
          "base_uri": "https://localhost:8080/",
          "height": 36
        }
      },
      "source": [
        "train_labels[:3]"
      ],
      "execution_count": 51,
      "outputs": [
        {
          "output_type": "execute_result",
          "data": {
            "text/plain": [
              "['lisa_simpson', 'lisa_simpson', 'bart_simpson']"
            ]
          },
          "metadata": {
            "tags": []
          },
          "execution_count": 51
        }
      ]
    },
    {
      "cell_type": "markdown",
      "metadata": {
        "id": "N_E4h9j8Mh90",
        "colab_type": "text"
      },
      "source": [
        "# Tokens"
      ]
    },
    {
      "cell_type": "code",
      "metadata": {
        "id": "Nos0q123nKks",
        "colab_type": "code",
        "colab": {}
      },
      "source": [
        "#juntamos todo el texto en una sola linea\n",
        "wordtk = ' '.join(train_sentences)"
      ],
      "execution_count": 0,
      "outputs": []
    },
    {
      "cell_type": "code",
      "metadata": {
        "id": "NDnhdpM1nk3J",
        "colab_type": "code",
        "colab": {
          "base_uri": "https://localhost:8080/",
          "height": 204
        },
        "outputId": "a26a2aae-b8bd-4c35-919c-f4b2c72b4dcd"
      },
      "source": [
        "#para dividir las frases\n",
        "tokenstk = regexp_tokenize(wordtk, pattern=\"\\w+\")\n",
        "tokenstk[:10]"
      ],
      "execution_count": 53,
      "outputs": [
        {
          "output_type": "execute_result",
          "data": {
            "text/plain": [
              "['wheres',\n",
              " 'mr',\n",
              " 'bergstrom',\n",
              " 'that',\n",
              " 'life',\n",
              " 'is',\n",
              " 'worth',\n",
              " 'living',\n",
              " 'victory',\n",
              " 'party']"
            ]
          },
          "metadata": {
            "tags": []
          },
          "execution_count": 53
        }
      ]
    },
    {
      "cell_type": "code",
      "metadata": {
        "id": "VcVViOPkpFh0",
        "colab_type": "code",
        "colab": {
          "base_uri": "https://localhost:8080/",
          "height": 111
        },
        "outputId": "bc1f67e1-70ba-4065-f745-38689d587c3b"
      },
      "source": [
        "#para generar n-gramas\n",
        "from nltk.util import ngrams\n",
        "trigrama = ngrams(tokenstk,3)\n",
        "trigrama = [' '.join(grams) for grams in trigrama]\n",
        "trigrama[:5]"
      ],
      "execution_count": 54,
      "outputs": [
        {
          "output_type": "execute_result",
          "data": {
            "text/plain": [
              "['wheres mr bergstrom',\n",
              " 'mr bergstrom that',\n",
              " 'bergstrom that life',\n",
              " 'that life is',\n",
              " 'life is worth']"
            ]
          },
          "metadata": {
            "tags": []
          },
          "execution_count": 54
        }
      ]
    },
    {
      "cell_type": "code",
      "metadata": {
        "id": "e1ep8d4qw3-m",
        "colab_type": "code",
        "outputId": "bd0bfe3b-8702-4db4-d75b-f7c833ade6f7",
        "colab": {
          "base_uri": "https://localhost:8080/",
          "height": 36
        }
      },
      "source": [
        "len(trigrama)"
      ],
      "execution_count": 55,
      "outputs": [
        {
          "output_type": "execute_result",
          "data": {
            "text/plain": [
              "477691"
            ]
          },
          "metadata": {
            "tags": []
          },
          "execution_count": 55
        }
      ]
    },
    {
      "cell_type": "code",
      "metadata": {
        "id": "LeHOcU_QpIDx",
        "colab_type": "code",
        "colab": {
          "base_uri": "https://localhost:8080/",
          "height": 354
        },
        "outputId": "dcd1bc47-f7e0-4428-e5c1-05390b363e4a"
      },
      "source": [
        "#grafica con los trigramas\n",
        "freq = nltk.FreqDist(trigrama) #frecuencia de los tokens\n",
        "freqnew = [] #filtramos tokens que se repiten mas de una vez\n",
        "for key,val in freq.items():\n",
        "  if (val>1):\n",
        "    freqnew.append(str(key))\n",
        "freq.plot(20, cumulative=False, title = \"Trigrama\")"
      ],
      "execution_count": 56,
      "outputs": [
        {
          "output_type": "display_data",
          "data": {
            "image/png": "[encoded data removed]",
            "text/plain": [
              "<Figure size 432x288 with 1 Axes>"
            ]
          },
          "metadata": {
            "tags": [],
            "needs_background": "light"
          }
        }
      ]
    },
    {
      "cell_type": "code",
      "metadata": {
        "id": "TzMGVnREwnXl",
        "colab_type": "code",
        "outputId": "bf88800b-266c-4e9b-f693-20584e3c543e",
        "colab": {
          "base_uri": "https://localhost:8080/",
          "height": 36
        }
      },
      "source": [
        "len(freqnew)"
      ],
      "execution_count": 57,
      "outputs": [
        {
          "output_type": "execute_result",
          "data": {
            "text/plain": [
              "37069"
            ]
          },
          "metadata": {
            "tags": []
          },
          "execution_count": 57
        }
      ]
    },
    {
      "cell_type": "code",
      "metadata": {
        "id": "jJL4xYHVnz9e",
        "colab_type": "code",
        "colab": {}
      },
      "source": [
        "##para generar n-gramas\n",
        "#from nltk.util import ngrams\n",
        "#cuatrigrama = ngrams(tokenstk,4)\n",
        "#cuatrigrama = [ ' '.join(grams) for grams in cuatrigrama]"
      ],
      "execution_count": 0,
      "outputs": []
    },
    {
      "cell_type": "code",
      "metadata": {
        "id": "mH0Ew5dgoHv9",
        "colab_type": "code",
        "colab": {}
      },
      "source": [
        "#grafica con los cuatrigramas\n",
        "#freq = nltk.FreqDist(cuatrigrama)\n",
        "#freq.plot(20, cumulative=False, title = \"cuatrigrama\")"
      ],
      "execution_count": 0,
      "outputs": []
    },
    {
      "cell_type": "code",
      "metadata": {
        "id": "iw4yuF7Xpdte",
        "colab_type": "code",
        "colab": {}
      },
      "source": [
        "#print(len(cuatrigrama))"
      ],
      "execution_count": 0,
      "outputs": []
    },
    {
      "cell_type": "markdown",
      "metadata": {
        "id": "yoa0aOJzYt6c",
        "colab_type": "text"
      },
      "source": [
        "# Vocabulario"
      ]
    },
    {
      "cell_type": "code",
      "metadata": {
        "id": "-mNKDSlJz5gG",
        "colab_type": "code",
        "outputId": "2565ab19-1dcc-45e6-f790-e16a8d72f3f3",
        "colab": {
          "base_uri": "https://localhost:8080/",
          "height": 1000
        }
      },
      "source": [
        "help(Tokenizer)"
      ],
      "execution_count": 61,
      "outputs": [
        {
          "output_type": "stream",
          "text": [
            "Help on class Tokenizer in module keras_preprocessing.text:\n",
            "\n",
            "class Tokenizer(builtins.object)\n",
            " |  Text tokenization utility class.\n",
            " |  \n",
            " |  This class allows to vectorize a text corpus, by turning each\n",
            " |  text into either a sequence of integers (each integer being the index\n",
            " |  of a token in a dictionary) or into a vector where the coefficient\n",
            " |  for each token could be binary, based on word count, based on tf-idf...\n",
            " |  \n",
            " |  # Arguments\n",
            " |      num_words: the maximum number of words to keep, based\n",
            " |          on word frequency. Only the most common `num_words-1` words will\n",
            " |          be kept.\n",
            " |      filters: a string where each element is a character that will be\n",
            " |          filtered from the texts. The default is all punctuation, plus\n",
            " |          tabs and line breaks, minus the `'` character.\n",
            " |      lower: boolean. Whether to convert the texts to lowercase.\n",
            " |      split: str. Separator for word splitting.\n",
            " |      char_level: if True, every character will be treated as a token.\n",
            " |      oov_token: if given, it will be added to word_index and used to\n",
            " |          replace out-of-vocabulary words during text_to_sequence calls\n",
            " |  \n",
            " |  By default, all punctuation is removed, turning the texts into\n",
            " |  space-separated sequences of words\n",
            " |  (words maybe include the `'` character). These sequences are then\n",
            " |  split into lists of tokens. They will then be indexed or vectorized.\n",
            " |  \n",
            " |  `0` is a reserved index that won't be assigned to any word.\n",
            " |  \n",
            " |  Methods defined here:\n",
            " |  \n",
            " |  __init__(self, num_words=None, filters='!\"#$%&()*+,-./:;<=>?@[\\\\]^_`{|}~\\t\\n', lower=True, split=' ', char_level=False, oov_token=None, document_count=0, **kwargs)\n",
            " |      Initialize self.  See help(type(self)) for accurate signature.\n",
            " |  \n",
            " |  fit_on_sequences(self, sequences)\n",
            " |      Updates internal vocabulary based on a list of sequences.\n",
            " |      \n",
            " |      Required before using `sequences_to_matrix`\n",
            " |      (if `fit_on_texts` was never called).\n",
            " |      \n",
            " |      # Arguments\n",
            " |          sequences: A list of sequence.\n",
            " |              A \"sequence\" is a list of integer word indices.\n",
            " |  \n",
            " |  fit_on_texts(self, texts)\n",
            " |      Updates internal vocabulary based on a list of texts.\n",
            " |      \n",
            " |      In the case where texts contains lists,\n",
            " |      we assume each entry of the lists to be a token.\n",
            " |      \n",
            " |      Required before using `texts_to_sequences` or `texts_to_matrix`.\n",
            " |      \n",
            " |      # Arguments\n",
            " |          texts: can be a list of strings,\n",
            " |              a generator of strings (for memory-efficiency),\n",
            " |              or a list of list of strings.\n",
            " |  \n",
            " |  get_config(self)\n",
            " |      Returns the tokenizer configuration as Python dictionary.\n",
            " |      The word count dictionaries used by the tokenizer get serialized\n",
            " |      into plain JSON, so that the configuration can be read by other\n",
            " |      projects.\n",
            " |      \n",
            " |      # Returns\n",
            " |          A Python dictionary with the tokenizer configuration.\n",
            " |  \n",
            " |  sequences_to_matrix(self, sequences, mode='binary')\n",
            " |      Converts a list of sequences into a Numpy matrix.\n",
            " |      \n",
            " |      # Arguments\n",
            " |          sequences: list of sequences\n",
            " |              (a sequence is a list of integer word indices).\n",
            " |          mode: one of \"binary\", \"count\", \"tfidf\", \"freq\"\n",
            " |      \n",
            " |      # Returns\n",
            " |          A Numpy matrix.\n",
            " |      \n",
            " |      # Raises\n",
            " |          ValueError: In case of invalid `mode` argument,\n",
            " |              or if the Tokenizer requires to be fit to sample data.\n",
            " |  \n",
            " |  sequences_to_texts(self, sequences)\n",
            " |      Transforms each sequence into a list of text.\n",
            " |      \n",
            " |      Only top `num_words-1` most frequent words will be taken into account.\n",
            " |      Only words known by the tokenizer will be taken into account.\n",
            " |      \n",
            " |      # Arguments\n",
            " |          sequences: A list of sequences (list of integers).\n",
            " |      \n",
            " |      # Returns\n",
            " |          A list of texts (strings)\n",
            " |  \n",
            " |  sequences_to_texts_generator(self, sequences)\n",
            " |      Transforms each sequence in `sequences` to a list of texts(strings).\n",
            " |      \n",
            " |      Each sequence has to a list of integers.\n",
            " |      In other words, sequences should be a list of sequences\n",
            " |      \n",
            " |      Only top `num_words-1` most frequent words will be taken into account.\n",
            " |      Only words known by the tokenizer will be taken into account.\n",
            " |      \n",
            " |      # Arguments\n",
            " |          sequences: A list of sequences.\n",
            " |      \n",
            " |      # Yields\n",
            " |          Yields individual texts.\n",
            " |  \n",
            " |  texts_to_matrix(self, texts, mode='binary')\n",
            " |      Convert a list of texts to a Numpy matrix.\n",
            " |      \n",
            " |      # Arguments\n",
            " |          texts: list of strings.\n",
            " |          mode: one of \"binary\", \"count\", \"tfidf\", \"freq\".\n",
            " |      \n",
            " |      # Returns\n",
            " |          A Numpy matrix.\n",
            " |  \n",
            " |  texts_to_sequences(self, texts)\n",
            " |      Transforms each text in texts to a sequence of integers.\n",
            " |      \n",
            " |      Only top `num_words-1` most frequent words will be taken into account.\n",
            " |      Only words known by the tokenizer will be taken into account.\n",
            " |      \n",
            " |      # Arguments\n",
            " |          texts: A list of texts (strings).\n",
            " |      \n",
            " |      # Returns\n",
            " |          A list of sequences.\n",
            " |  \n",
            " |  texts_to_sequences_generator(self, texts)\n",
            " |      Transforms each text in `texts` to a sequence of integers.\n",
            " |      \n",
            " |      Each item in texts can also be a list,\n",
            " |      in which case we assume each item of that list to be a token.\n",
            " |      \n",
            " |      Only top `num_words-1` most frequent words will be taken into account.\n",
            " |      Only words known by the tokenizer will be taken into account.\n",
            " |      \n",
            " |      # Arguments\n",
            " |          texts: A list of texts (strings).\n",
            " |      \n",
            " |      # Yields\n",
            " |          Yields individual sequences.\n",
            " |  \n",
            " |  to_json(self, **kwargs)\n",
            " |      Returns a JSON string containing the tokenizer configuration.\n",
            " |      To load a tokenizer from a JSON string, use\n",
            " |      `keras.preprocessing.text.tokenizer_from_json(json_string)`.\n",
            " |      \n",
            " |      # Arguments\n",
            " |          **kwargs: Additional keyword arguments\n",
            " |              to be passed to `json.dumps()`.\n",
            " |      \n",
            " |      # Returns\n",
            " |          A JSON string containing the tokenizer configuration.\n",
            " |  \n",
            " |  ----------------------------------------------------------------------\n",
            " |  Data descriptors defined here:\n",
            " |  \n",
            " |  __dict__\n",
            " |      dictionary for instance variables (if defined)\n",
            " |  \n",
            " |  __weakref__\n",
            " |      list of weak references to the object (if defined)\n",
            "\n"
          ],
          "name": "stdout"
        }
      ]
    },
    {
      "cell_type": "markdown",
      "metadata": {
        "id": "TNZ0VjKteXSx",
        "colab_type": "text"
      },
      "source": [
        "### Ejemplo con 7 frases"
      ]
    },
    {
      "cell_type": "code",
      "metadata": {
        "id": "ZWA-cE6remv1",
        "colab_type": "code",
        "colab": {
          "base_uri": "https://localhost:8080/",
          "height": 148
        },
        "outputId": "f723a269-bf66-4840-866d-9572c52a16b7"
      },
      "source": [
        "train_sentences[:7]"
      ],
      "execution_count": 62,
      "outputs": [
        {
          "output_type": "execute_result",
          "data": {
            "text/plain": [
              "['wheres mr bergstrom',\n",
              " 'that life is worth living',\n",
              " 'victory party under the slide',\n",
              " 'mr bergstrom mr bergstrom',\n",
              " 'do you know where i could find him',\n",
              " 'the train how like him traditional yet environmentally sound',\n",
              " 'i see he touched you too']"
            ]
          },
          "metadata": {
            "tags": []
          },
          "execution_count": 62
        }
      ]
    },
    {
      "cell_type": "code",
      "metadata": {
        "id": "cBaI3RaReV-A",
        "colab_type": "code",
        "colab": {}
      },
      "source": [
        "from sklearn.feature_extraction.text import CountVectorizer\n",
        "\n",
        "vectorizer3 = CountVectorizer(analyzer='word', ngram_range=(3,3))"
      ],
      "execution_count": 0,
      "outputs": []
    },
    {
      "cell_type": "code",
      "metadata": {
        "id": "aQDqCmX8eUCl",
        "colab_type": "code",
        "colab": {
          "base_uri": "https://localhost:8080/",
          "height": 54
        },
        "outputId": "2ef46b27-d259-48d8-d814-2c3562548c75"
      },
      "source": [
        "X = vectorizer3.fit_transform(train_sentences[:7])\n",
        "X"
      ],
      "execution_count": 64,
      "outputs": [
        {
          "output_type": "execute_result",
          "data": {
            "text/plain": [
              "<7x24 sparse matrix of type '<class 'numpy.int64'>'\n",
              "\twith 24 stored elements in Compressed Sparse Row format>"
            ]
          },
          "metadata": {
            "tags": []
          },
          "execution_count": 64
        }
      ]
    },
    {
      "cell_type": "code",
      "metadata": {
        "id": "PsrLjvFpekKl",
        "colab_type": "code",
        "colab": {
          "base_uri": "https://localhost:8080/",
          "height": 467
        },
        "outputId": "6db6d2c2-f488-4b0c-a07b-e5a5a79a1399"
      },
      "source": [
        "F = vectorizer3.get_feature_names() #Array mapping from feature integer indices to feature name.\n",
        "vectorizer3.decode(F) #Decode the input into a string of unicode symbols."
      ],
      "execution_count": 65,
      "outputs": [
        {
          "output_type": "execute_result",
          "data": {
            "text/plain": [
              "['bergstrom mr bergstrom',\n",
              " 'could find him',\n",
              " 'do you know',\n",
              " 'he touched you',\n",
              " 'him traditional yet',\n",
              " 'how like him',\n",
              " 'is worth living',\n",
              " 'know where could',\n",
              " 'life is worth',\n",
              " 'like him traditional',\n",
              " 'mr bergstrom mr',\n",
              " 'party under the',\n",
              " 'see he touched',\n",
              " 'that life is',\n",
              " 'the train how',\n",
              " 'touched you too',\n",
              " 'traditional yet environmentally',\n",
              " 'train how like',\n",
              " 'under the slide',\n",
              " 'victory party under',\n",
              " 'where could find',\n",
              " 'wheres mr bergstrom',\n",
              " 'yet environmentally sound',\n",
              " 'you know where']"
            ]
          },
          "metadata": {
            "tags": []
          },
          "execution_count": 65
        }
      ]
    },
    {
      "cell_type": "code",
      "metadata": {
        "id": "DqboMThwe3zC",
        "colab_type": "code",
        "colab": {
          "base_uri": "https://localhost:8080/",
          "height": 74
        },
        "outputId": "153f9490-e2d7-4444-f26a-b022f0d5e7da"
      },
      "source": [
        "print('Vocabulary:')\n",
        "print(vectorizer3.vocabulary_)"
      ],
      "execution_count": 66,
      "outputs": [
        {
          "output_type": "stream",
          "text": [
            "Vocabulary:\n",
            "{'wheres mr bergstrom': 21, 'that life is': 13, 'life is worth': 8, 'is worth living': 6, 'victory party under': 19, 'party under the': 11, 'under the slide': 18, 'mr bergstrom mr': 10, 'bergstrom mr bergstrom': 0, 'do you know': 2, 'you know where': 23, 'know where could': 7, 'where could find': 20, 'could find him': 1, 'the train how': 14, 'train how like': 17, 'how like him': 5, 'like him traditional': 9, 'him traditional yet': 4, 'traditional yet environmentally': 16, 'yet environmentally sound': 22, 'see he touched': 12, 'he touched you': 3, 'touched you too': 15}\n"
          ],
          "name": "stdout"
        }
      ]
    },
    {
      "cell_type": "code",
      "metadata": {
        "id": "nb3P5vt5eqbe",
        "colab_type": "code",
        "colab": {
          "base_uri": "https://localhost:8080/",
          "height": 167
        },
        "outputId": "9f3760f9-c04d-4c2f-b188-5a44c0c2aeac"
      },
      "source": [
        "print(\"arreglo\",X.toarray())\n",
        "print(\"longitud\",len(X.toarray()))"
      ],
      "execution_count": 67,
      "outputs": [
        {
          "output_type": "stream",
          "text": [
            "arreglo [[0 0 0 0 0 0 0 0 0 0 0 0 0 0 0 0 0 0 0 0 0 1 0 0]\n",
            " [0 0 0 0 0 0 1 0 1 0 0 0 0 1 0 0 0 0 0 0 0 0 0 0]\n",
            " [0 0 0 0 0 0 0 0 0 0 0 1 0 0 0 0 0 0 1 1 0 0 0 0]\n",
            " [1 0 0 0 0 0 0 0 0 0 1 0 0 0 0 0 0 0 0 0 0 0 0 0]\n",
            " [0 1 1 0 0 0 0 1 0 0 0 0 0 0 0 0 0 0 0 0 1 0 0 1]\n",
            " [0 0 0 0 1 1 0 0 0 1 0 0 0 0 1 0 1 1 0 0 0 0 1 0]\n",
            " [0 0 0 1 0 0 0 0 0 0 0 0 1 0 0 1 0 0 0 0 0 0 0 0]]\n",
            "longitud 7\n"
          ],
          "name": "stdout"
        }
      ]
    },
    {
      "cell_type": "code",
      "metadata": {
        "id": "KOV9EgECfI-B",
        "colab_type": "code",
        "colab": {
          "base_uri": "https://localhost:8080/",
          "height": 324
        },
        "outputId": "1e99ca92-3fe5-4542-83be-c7b3ad060928"
      },
      "source": [
        "import pandas as pd\n",
        "pd.DataFrame(X.toarray(),columns=vectorizer3.get_feature_names())"
      ],
      "execution_count": 68,
      "outputs": [
        {
          "output_type": "execute_result",
          "data": {
            "text/html": [
              "<div>\n",
              "<style scoped>\n",
              "    .dataframe tbody tr th:only-of-type {\n",
              "        vertical-align: middle;\n",
              "    }\n",
              "\n",
              "    .dataframe tbody tr th {\n",
              "        vertical-align: top;\n",
              "    }\n",
              "\n",
              "    .dataframe thead th {\n",
              "        text-align: right;\n",
              "    }\n",
              "</style>\n",
              "<table border=\"1\" class=\"dataframe\">\n",
              "  <thead>\n",
              "    <tr style=\"text-align: right;\">\n",
              "      <th></th>\n",
              "      <th>bergstrom mr bergstrom</th>\n",
              "      <th>could find him</th>\n",
              "      <th>do you know</th>\n",
              "      <th>he touched you</th>\n",
              "      <th>him traditional yet</th>\n",
              "      <th>how like him</th>\n",
              "      <th>is worth living</th>\n",
              "      <th>know where could</th>\n",
              "      <th>life is worth</th>\n",
              "      <th>like him traditional</th>\n",
              "      <th>mr bergstrom mr</th>\n",
              "      <th>party under the</th>\n",
              "      <th>see he touched</th>\n",
              "      <th>that life is</th>\n",
              "      <th>the train how</th>\n",
              "      <th>touched you too</th>\n",
              "      <th>traditional yet environmentally</th>\n",
              "      <th>train how like</th>\n",
              "      <th>under the slide</th>\n",
              "      <th>victory party under</th>\n",
              "      <th>where could find</th>\n",
              "      <th>wheres mr bergstrom</th>\n",
              "      <th>yet environmentally sound</th>\n",
              "      <th>you know where</th>\n",
              "    </tr>\n",
              "  </thead>\n",
              "  <tbody>\n",
              "    <tr>\n",
              "      <th>0</th>\n",
              "      <td>0</td>\n",
              "      <td>0</td>\n",
              "      <td>0</td>\n",
              "      <td>0</td>\n",
              "      <td>0</td>\n",
              "      <td>0</td>\n",
              "      <td>0</td>\n",
              "      <td>0</td>\n",
              "      <td>0</td>\n",
              "      <td>0</td>\n",
              "      <td>0</td>\n",
              "      <td>0</td>\n",
              "      <td>0</td>\n",
              "      <td>0</td>\n",
              "      <td>0</td>\n",
              "      <td>0</td>\n",
              "      <td>0</td>\n",
              "      <td>0</td>\n",
              "      <td>0</td>\n",
              "      <td>0</td>\n",
              "      <td>0</td>\n",
              "      <td>1</td>\n",
              "      <td>0</td>\n",
              "      <td>0</td>\n",
              "    </tr>\n",
              "    <tr>\n",
              "      <th>1</th>\n",
              "      <td>0</td>\n",
              "      <td>0</td>\n",
              "      <td>0</td>\n",
              "      <td>0</td>\n",
              "      <td>0</td>\n",
              "      <td>0</td>\n",
              "      <td>1</td>\n",
              "      <td>0</td>\n",
              "      <td>1</td>\n",
              "      <td>0</td>\n",
              "      <td>0</td>\n",
              "      <td>0</td>\n",
              "      <td>0</td>\n",
              "      <td>1</td>\n",
              "      <td>0</td>\n",
              "      <td>0</td>\n",
              "      <td>0</td>\n",
              "      <td>0</td>\n",
              "      <td>0</td>\n",
              "      <td>0</td>\n",
              "      <td>0</td>\n",
              "      <td>0</td>\n",
              "      <td>0</td>\n",
              "      <td>0</td>\n",
              "    </tr>\n",
              "    <tr>\n",
              "      <th>2</th>\n",
              "      <td>0</td>\n",
              "      <td>0</td>\n",
              "      <td>0</td>\n",
              "      <td>0</td>\n",
              "      <td>0</td>\n",
              "      <td>0</td>\n",
              "      <td>0</td>\n",
              "      <td>0</td>\n",
              "      <td>0</td>\n",
              "      <td>0</td>\n",
              "      <td>0</td>\n",
              "      <td>1</td>\n",
              "      <td>0</td>\n",
              "      <td>0</td>\n",
              "      <td>0</td>\n",
              "      <td>0</td>\n",
              "      <td>0</td>\n",
              "      <td>0</td>\n",
              "      <td>1</td>\n",
              "      <td>1</td>\n",
              "      <td>0</td>\n",
              "      <td>0</td>\n",
              "      <td>0</td>\n",
              "      <td>0</td>\n",
              "    </tr>\n",
              "    <tr>\n",
              "      <th>3</th>\n",
              "      <td>1</td>\n",
              "      <td>0</td>\n",
              "      <td>0</td>\n",
              "      <td>0</td>\n",
              "      <td>0</td>\n",
              "      <td>0</td>\n",
              "      <td>0</td>\n",
              "      <td>0</td>\n",
              "      <td>0</td>\n",
              "      <td>0</td>\n",
              "      <td>1</td>\n",
              "      <td>0</td>\n",
              "      <td>0</td>\n",
              "      <td>0</td>\n",
              "      <td>0</td>\n",
              "      <td>0</td>\n",
              "      <td>0</td>\n",
              "      <td>0</td>\n",
              "      <td>0</td>\n",
              "      <td>0</td>\n",
              "      <td>0</td>\n",
              "      <td>0</td>\n",
              "      <td>0</td>\n",
              "      <td>0</td>\n",
              "    </tr>\n",
              "    <tr>\n",
              "      <th>4</th>\n",
              "      <td>0</td>\n",
              "      <td>1</td>\n",
              "      <td>1</td>\n",
              "      <td>0</td>\n",
              "      <td>0</td>\n",
              "      <td>0</td>\n",
              "      <td>0</td>\n",
              "      <td>1</td>\n",
              "      <td>0</td>\n",
              "      <td>0</td>\n",
              "      <td>0</td>\n",
              "      <td>0</td>\n",
              "      <td>0</td>\n",
              "      <td>0</td>\n",
              "      <td>0</td>\n",
              "      <td>0</td>\n",
              "      <td>0</td>\n",
              "      <td>0</td>\n",
              "      <td>0</td>\n",
              "      <td>0</td>\n",
              "      <td>1</td>\n",
              "      <td>0</td>\n",
              "      <td>0</td>\n",
              "      <td>1</td>\n",
              "    </tr>\n",
              "    <tr>\n",
              "      <th>5</th>\n",
              "      <td>0</td>\n",
              "      <td>0</td>\n",
              "      <td>0</td>\n",
              "      <td>0</td>\n",
              "      <td>1</td>\n",
              "      <td>1</td>\n",
              "      <td>0</td>\n",
              "      <td>0</td>\n",
              "      <td>0</td>\n",
              "      <td>1</td>\n",
              "      <td>0</td>\n",
              "      <td>0</td>\n",
              "      <td>0</td>\n",
              "      <td>0</td>\n",
              "      <td>1</td>\n",
              "      <td>0</td>\n",
              "      <td>1</td>\n",
              "      <td>1</td>\n",
              "      <td>0</td>\n",
              "      <td>0</td>\n",
              "      <td>0</td>\n",
              "      <td>0</td>\n",
              "      <td>1</td>\n",
              "      <td>0</td>\n",
              "    </tr>\n",
              "    <tr>\n",
              "      <th>6</th>\n",
              "      <td>0</td>\n",
              "      <td>0</td>\n",
              "      <td>0</td>\n",
              "      <td>1</td>\n",
              "      <td>0</td>\n",
              "      <td>0</td>\n",
              "      <td>0</td>\n",
              "      <td>0</td>\n",
              "      <td>0</td>\n",
              "      <td>0</td>\n",
              "      <td>0</td>\n",
              "      <td>0</td>\n",
              "      <td>1</td>\n",
              "      <td>0</td>\n",
              "      <td>0</td>\n",
              "      <td>1</td>\n",
              "      <td>0</td>\n",
              "      <td>0</td>\n",
              "      <td>0</td>\n",
              "      <td>0</td>\n",
              "      <td>0</td>\n",
              "      <td>0</td>\n",
              "      <td>0</td>\n",
              "      <td>0</td>\n",
              "    </tr>\n",
              "  </tbody>\n",
              "</table>\n",
              "</div>"
            ],
            "text/plain": [
              "   bergstrom mr bergstrom  ...  you know where\n",
              "0                       0  ...               0\n",
              "1                       0  ...               0\n",
              "2                       0  ...               0\n",
              "3                       1  ...               0\n",
              "4                       0  ...               1\n",
              "5                       0  ...               0\n",
              "6                       0  ...               0\n",
              "\n",
              "[7 rows x 24 columns]"
            ]
          },
          "metadata": {
            "tags": []
          },
          "execution_count": 68
        }
      ]
    },
    {
      "cell_type": "code",
      "metadata": {
        "id": "MtUvDPkufl-g",
        "colab_type": "code",
        "colab": {
          "base_uri": "https://localhost:8080/",
          "height": 168
        },
        "outputId": "5afdaa5d-56d7-492a-de7f-30c3eb728336"
      },
      "source": [
        "#función inversa\n",
        "print('To the source:')\n",
        "print(vectorizer3.inverse_transform(X.toarray()))"
      ],
      "execution_count": 69,
      "outputs": [
        {
          "output_type": "stream",
          "text": [
            "To the source:\n",
            "[array(['wheres mr bergstrom'], dtype='<U31'), array(['is worth living', 'life is worth', 'that life is'], dtype='<U31'), array(['party under the', 'under the slide', 'victory party under'],\n",
            "      dtype='<U31'), array(['bergstrom mr bergstrom', 'mr bergstrom mr'], dtype='<U31'), array(['could find him', 'do you know', 'know where could',\n",
            "       'where could find', 'you know where'], dtype='<U31'), array(['him traditional yet', 'how like him', 'like him traditional',\n",
            "       'the train how', 'traditional yet environmentally',\n",
            "       'train how like', 'yet environmentally sound'], dtype='<U31'), array(['he touched you', 'see he touched', 'touched you too'],\n",
            "      dtype='<U31')]\n"
          ],
          "name": "stdout"
        }
      ]
    },
    {
      "cell_type": "markdown",
      "metadata": {
        "id": "ojAYplSBeeJX",
        "colab_type": "text"
      },
      "source": [
        "### Para todos los datos"
      ]
    },
    {
      "cell_type": "code",
      "metadata": {
        "id": "cZ1dVUk17LgH",
        "colab_type": "code",
        "colab": {}
      },
      "source": [
        "#usamos CountVectorizer para convertir un texto en una matriz de tokens contados\n",
        "from sklearn.feature_extraction.text import CountVectorizer\n",
        "\n",
        "vectorizer3 = CountVectorizer(analyzer='word', ngram_range=(3,3))"
      ],
      "execution_count": 0,
      "outputs": []
    },
    {
      "cell_type": "code",
      "metadata": {
        "id": "w4JHieZ4TmgS",
        "colab_type": "code",
        "colab": {
          "base_uri": "https://localhost:8080/",
          "height": 54
        },
        "outputId": "c55d9798-abcf-4a3b-f348-ddb8dc49f67f"
      },
      "source": [
        "#Learn the vocabulary dictionary and return document-term matrix.\n",
        "X = vectorizer3.fit_transform(train_sentences)\n",
        "X"
      ],
      "execution_count": 71,
      "outputs": [
        {
          "output_type": "execute_result",
          "data": {
            "text/plain": [
              "<55336x282415 sparse matrix of type '<class 'numpy.int64'>'\n",
              "\twith 349694 stored elements in Compressed Sparse Row format>"
            ]
          },
          "metadata": {
            "tags": []
          },
          "execution_count": 71
        }
      ]
    },
    {
      "cell_type": "code",
      "metadata": {
        "id": "kwp0_fkiTngH",
        "colab_type": "code",
        "colab": {
          "base_uri": "https://localhost:8080/",
          "height": 1000
        },
        "outputId": "41515bb2-dff6-47ef-ca7c-22a9bd52c55f"
      },
      "source": [
        "F = vectorizer3.get_feature_names() #Array mapping from feature integer indices to feature name.\n",
        "vectorizer3.decode(F) #Decode the input into a string of unicode symbols."
      ],
      "execution_count": 72,
      "outputs": [
        {
          "output_type": "execute_result",
          "data": {
            "text/plain": [
              "['aa meeting tonight',\n",
              " 'aa meetings beer',\n",
              " 'aaa no im',\n",
              " 'aaaaaahhhhhhhhh oh yes',\n",
              " 'aaaand were out',\n",
              " 'aaagh him again',\n",
              " 'aaagh man lips',\n",
              " 'aaah whats the',\n",
              " 'aaannnnd initial here',\n",
              " 'aagh my ovaries',\n",
              " 'aah oh good',\n",
              " 'aah the college',\n",
              " 'aahhh unclean unclean',\n",
              " 'aannd round and',\n",
              " 'aannnnd krusty hey',\n",
              " 'aapple to zzebra',\n",
              " 'aaron aaronson voted',\n",
              " 'aaronson voted for',\n",
              " 'aarp well that',\n",
              " 'aba whos your',\n",
              " 'abandon his family',\n",
              " 'abandon hope or',\n",
              " 'abandon my route',\n",
              " 'abandon the metric',\n",
              " 'abandon you in',\n",
              " 'abandoned amusement park',\n",
              " 'abandoned but not',\n",
              " 'abandoned greenhouse outside',\n",
              " 'abandoned her amber',\n",
              " 'abandoned her nest',\n",
              " 'abandoned prison all',\n",
              " 'abandoned since nineteen',\n",
              " 'abandoned us they',\n",
              " 'abandoned you for',\n",
              " 'abandoning everything believed',\n",
              " 'abandoning your child',\n",
              " 'abbey so it',\n",
              " 'abbiamo avuto qualcosa',\n",
              " 'abbreviate each letter',\n",
              " 'abby says seeing',\n",
              " 'abby the olympic',\n",
              " 'abc cbs uhoh',\n",
              " 'abc its the',\n",
              " 'abc whats gotten',\n",
              " 'abcs tgif lineup',\n",
              " 'abcs wont you',\n",
              " 'abdicate because he',\n",
              " 'abducted by aliens',\n",
              " 'abducted by flying',\n",
              " 'abdul jabbar anyone',\n",
              " 'abe and already',\n",
              " 'abe are you',\n",
              " 'abe but know',\n",
              " 'abe had very',\n",
              " 'abe have lot',\n",
              " 'abe hell show',\n",
              " 'abe lincolns fathers',\n",
              " 'abe passed away',\n",
              " 'abe simpson cheerio',\n",
              " 'abe simpson dont',\n",
              " 'abe simpson on',\n",
              " 'abe simpson stole',\n",
              " 'abe were still',\n",
              " 'abel had when',\n",
              " 'abend my brave',\n",
              " 'abigail adams oh',\n",
              " 'abilities so like',\n",
              " 'ability to add',\n",
              " 'ability to exploit',\n",
              " 'ability to to',\n",
              " 'ablabab voted for',\n",
              " 'able to accept',\n",
              " 'able to be',\n",
              " 'able to choose',\n",
              " 'able to cut',\n",
              " 'able to do',\n",
              " 'able to enjoy',\n",
              " 'able to find',\n",
              " 'able to fit',\n",
              " 'able to get',\n",
              " 'able to give',\n",
              " 'able to go',\n",
              " 'able to hear',\n",
              " 'able to help',\n",
              " 'able to hold',\n",
              " 'able to let',\n",
              " 'able to pee',\n",
              " 'able to play',\n",
              " 'able to put',\n",
              " 'able to quit',\n",
              " 'able to read',\n",
              " 'able to recognize',\n",
              " 'able to return',\n",
              " 'able to say',\n",
              " 'able to search',\n",
              " 'able to see',\n",
              " 'able to sneak',\n",
              " 'able to stop',\n",
              " 'able to swim',\n",
              " 'able to tackle',\n",
              " 'able to turn',\n",
              " 'able to write',\n",
              " 'aboard it wasnt',\n",
              " 'aboard the sleepy',\n",
              " 'aboard they gangprobed',\n",
              " 'abondanza have touched',\n",
              " 'aboom aba whos',\n",
              " 'abortion you wouldnt',\n",
              " 'about abe simpson',\n",
              " 'about abraham lincoln',\n",
              " 'about addiction that',\n",
              " 'about air travel',\n",
              " 'about all of',\n",
              " 'about all the',\n",
              " 'about all you',\n",
              " 'about american history',\n",
              " 'about an asteroid',\n",
              " 'about another socalled',\n",
              " 'about any of',\n",
              " 'about anymore johns',\n",
              " 'about anyone elses',\n",
              " 'about anything beyond',\n",
              " 'about apples today',\n",
              " 'about as tolerant',\n",
              " 'about asking the',\n",
              " 'about astrophysics wish',\n",
              " 'about at your',\n",
              " 'about aunt patty',\n",
              " 'about bad luck',\n",
              " 'about badass rocker',\n",
              " 'about barber shop',\n",
              " 'about bart being',\n",
              " 'about bart my',\n",
              " 'about barts bedroom',\n",
              " 'about barts feelings',\n",
              " 'about baseball coaching',\n",
              " 'about baseball strategy',\n",
              " 'about bc care',\n",
              " 'about beached whales',\n",
              " 'about beans beans',\n",
              " 'about becoming interested',\n",
              " 'about beer dont',\n",
              " 'about before you',\n",
              " 'about being an',\n",
              " 'about being brother',\n",
              " 'about being cheated',\n",
              " 'about being cool',\n",
              " 'about being fat',\n",
              " 'about being kidnapped',\n",
              " 'about being on',\n",
              " 'about being simpson',\n",
              " 'about benihana where',\n",
              " 'about big olympic',\n",
              " 'about bird you',\n",
              " 'about bite of',\n",
              " 'about bizarre hidden',\n",
              " 'about blabbermouth the',\n",
              " 'about boats then',\n",
              " 'about bob hope',\n",
              " 'about bowling in',\n",
              " 'about boy who',\n",
              " 'about bra sale',\n",
              " 'about brotherhood its',\n",
              " 'about brunch but',\n",
              " 'about bunch of',\n",
              " 'about burns on',\n",
              " 'about bus that',\n",
              " 'about bus twentythree',\n",
              " 'about but could',\n",
              " 'about campus life',\n",
              " 'about cars because',\n",
              " 'about cashing their',\n",
              " 'about certain house',\n",
              " 'about chairman moes',\n",
              " 'about chapter of',\n",
              " 'about charleston chew',\n",
              " 'about chimps youd',\n",
              " 'about chomping neck',\n",
              " 'about church those',\n",
              " 'about clay you',\n",
              " 'about coach fortner',\n",
              " 'about colonial times',\n",
              " 'about coming to',\n",
              " 'about compuglobal hypermeganet',\n",
              " 'about computers and',\n",
              " 'about constancy and',\n",
              " 'about counterfeiting jeans',\n",
              " 'about couple on',\n",
              " 'about courier they',\n",
              " 'about creating halfman',\n",
              " 'about cruelty theyre',\n",
              " 'about dad am',\n",
              " 'about daddydaughter day',\n",
              " 'about death till',\n",
              " 'about did you',\n",
              " 'about dinner tonight',\n",
              " 'about divorce lately',\n",
              " 'about does it',\n",
              " 'about doing this',\n",
              " 'about dont need',\n",
              " 'about drinking and',\n",
              " 'about each other',\n",
              " 'about eight lassies',\n",
              " 'about electricity than',\n",
              " 'about enough from',\n",
              " 'about enough of',\n",
              " 'about even the',\n",
              " 'about even while',\n",
              " 'about everything were',\n",
              " 'about families come',\n",
              " 'about family outing',\n",
              " 'about father father',\n",
              " 'about feature columnist',\n",
              " 'about fifteen minutes',\n",
              " 'about finding an',\n",
              " 'about finding dates',\n",
              " 'about fire ants',\n",
              " 'about firing marge',\n",
              " 'about fishing even',\n",
              " 'about five day',\n",
              " 'about five minutes',\n",
              " 'about five years',\n",
              " 'about fixin stuff',\n",
              " 'about fixing someone',\n",
              " 'about fixing sports',\n",
              " 'about flirting to',\n",
              " 'about flying kite',\n",
              " 'about flying the',\n",
              " 'about for fifty',\n",
              " 'about forgiving him',\n",
              " 'about four hours',\n",
              " 'about free milk',\n",
              " 'about freedom its',\n",
              " 'about genetics lis',\n",
              " 'about gettin on',\n",
              " 'about gettin you',\n",
              " 'about getting mr',\n",
              " 'about getting off',\n",
              " 'about getting out',\n",
              " 'about getting yogurt',\n",
              " 'about ghost story',\n",
              " 'about girl and',\n",
              " 'about girl before',\n",
              " 'about girls and',\n",
              " 'about giving the',\n",
              " 'about global warming',\n",
              " 'about god but',\n",
              " 'about going as',\n",
              " 'about going to',\n",
              " 'about good comics',\n",
              " 'about good lord',\n",
              " 'about grampa hes',\n",
              " 'about grandma whenever',\n",
              " 'about greed and',\n",
              " 'about groingrabbingly transcendent',\n",
              " 'about groundskeeper willie',\n",
              " 'about guarding this',\n",
              " 'about gum but',\n",
              " 'about gypsy wedding',\n",
              " 'about hair color',\n",
              " 'about hair where',\n",
              " 'about harddrinking yet',\n",
              " 'about having health',\n",
              " 'about having me',\n",
              " 'about hawaii moe',\n",
              " 'about he used',\n",
              " 'about her boobs',\n",
              " 'about her can',\n",
              " 'about her cat',\n",
              " 'about her elbow',\n",
              " 'about her family',\n",
              " 'about her grandmas',\n",
              " 'about her gray',\n",
              " 'about her immortal',\n",
              " 'about her looks',\n",
              " 'about here realize',\n",
              " 'about hey huck',\n",
              " 'about him are',\n",
              " 'about him being',\n",
              " 'about him dad',\n",
              " 'about him every',\n",
              " 'about him hes',\n",
              " 'about him lets',\n",
              " 'about him that',\n",
              " 'about him think',\n",
              " 'about his bizarre',\n",
              " 'about his face',\n",
              " 'about his name',\n",
              " 'about his native',\n",
              " 'about his personal',\n",
              " 'about history gather',\n",
              " 'about hitler again',\n",
              " 'about hitler and',\n",
              " 'about homer and',\n",
              " 'about homer ive',\n",
              " 'about homer where',\n",
              " 'about horrible practice',\n",
              " 'about how cool',\n",
              " 'about how damn',\n",
              " 'about how fast',\n",
              " 'about how im',\n",
              " 'about how much',\n",
              " 'about how we',\n",
              " 'about how white',\n",
              " 'about how you',\n",
              " 'about if dig',\n",
              " 'about if triple',\n",
              " 'about im in',\n",
              " 'about im pei',\n",
              " 'about in politics',\n",
              " 'about in the',\n",
              " 'about in your',\n",
              " 'about indian gaming',\n",
              " 'about indiana jones',\n",
              " 'about investment opportunities',\n",
              " 'about irony the',\n",
              " 'about is entertainment',\n",
              " 'about is finding',\n",
              " 'about is that',\n",
              " 'about is the',\n",
              " 'about is there',\n",
              " 'about it although',\n",
              " 'about it and',\n",
              " 'about it at',\n",
              " 'about it few',\n",
              " 'about it for',\n",
              " 'about it got',\n",
              " 'about it here',\n",
              " 'about it homer',\n",
              " 'about it hope',\n",
              " 'about it if',\n",
              " 'about it im',\n",
              " 'about it in',\n",
              " 'about it just',\n",
              " 'about it later',\n",
              " 'about it lets',\n",
              " 'about it mean',\n",
              " 'about it mind',\n",
              " 'about it moe',\n",
              " 'about it mud',\n",
              " 'about it no',\n",
              " 'about it oh',\n",
              " 'about it on',\n",
              " 'about it or',\n",
              " 'about it pretty',\n",
              " 'about it the',\n",
              " 'about it whatre',\n",
              " 'about it would',\n",
              " 'about its just',\n",
              " 'about ive been',\n",
              " 'about jacket and',\n",
              " 'about jazz do',\n",
              " 'about jazz hands',\n",
              " 'about jebediah and',\n",
              " 'about jebediah springfield',\n",
              " 'about jesus is',\n",
              " 'about jimmy smits',\n",
              " 'about joining this',\n",
              " 'about jon stewart',\n",
              " 'about just like',\n",
              " 'about just little',\n",
              " 'about killer robot',\n",
              " 'about killing would',\n",
              " 'about krusty the',\n",
              " 'about krusty whoa',\n",
              " 'about kung fu',\n",
              " 'about kyle lobianco',\n",
              " 'about land where',\n",
              " 'about larry burns',\n",
              " 'about last night',\n",
              " 'about laying off',\n",
              " 'about lee majors',\n",
              " 'about lennys party',\n",
              " 'about letting her',\n",
              " 'about library standards',\n",
              " 'about lisa just',\n",
              " 'about lisa shes',\n",
              " 'about lisa well',\n",
              " 'about little bo',\n",
              " 'about little interrogation',\n",
              " 'about little loanski',\n",
              " 'about little neck',\n",
              " 'about little rapture',\n",
              " 'about living on',\n",
              " 'about local history',\n",
              " 'about love from',\n",
              " 'about love tonight',\n",
              " 'about loved it',\n",
              " 'about lying to',\n",
              " 'about maggies memories',\n",
              " 'about making movies',\n",
              " 'about making them',\n",
              " 'about malibu stacy',\n",
              " 'about man simple',\n",
              " 'about man stuff',\n",
              " 'about man who',\n",
              " 'about management and',\n",
              " 'about manifest destiny',\n",
              " 'about marge and',\n",
              " 'about marge dont',\n",
              " 'about marriage for',\n",
              " 'about material things',\n",
              " 'about me again',\n",
              " 'about me almost',\n",
              " 'about me and',\n",
              " 'about me being',\n",
              " 'about me big',\n",
              " 'about me dad',\n",
              " 'about me drinking',\n",
              " 'about me eating',\n",
              " 'about me getting',\n",
              " 'about me im',\n",
              " 'about me in',\n",
              " 'about me its',\n",
              " 'about me leaving',\n",
              " 'about me marge',\n",
              " 'about me must',\n",
              " 'about me my',\n",
              " 'about me now',\n",
              " 'about me or',\n",
              " 'about me perhaps',\n",
              " 'about me right',\n",
              " 'about me that',\n",
              " 'about me think',\n",
              " 'about me you',\n",
              " 'about meeting aunt',\n",
              " 'about milhouses dad',\n",
              " 'about milk cans',\n",
              " 'about million people',\n",
              " 'about minerva after',\n",
              " 'about miser who',\n",
              " 'about moe what',\n",
              " 'about moes treasure',\n",
              " 'about mom and',\n",
              " 'about mom shes',\n",
              " 'about moments in',\n",
              " 'about money ever',\n",
              " 'about mosquito bites',\n",
              " 'about mountain climbing',\n",
              " 'about moving back',\n",
              " 'about mr burns',\n",
              " 'about mrs krabappel',\n",
              " 'about musicians from',\n",
              " 'about my birthday',\n",
              " 'about my boring',\n",
              " 'about my boy',\n",
              " 'about my car',\n",
              " 'about my daughter',\n",
              " 'about my dog',\n",
              " 'about my family',\n",
              " 'about my familys',\n",
              " 'about my favorite',\n",
              " 'about my feelings',\n",
              " 'about my first',\n",
              " 'about my friends',\n",
              " 'about my grade',\n",
              " 'about my letters',\n",
              " 'about my moms',\n",
              " 'about my new',\n",
              " 'about my own',\n",
              " 'about my pledge',\n",
              " 'about my scalp',\n",
              " 'about my searing',\n",
              " 'about my son',\n",
              " 'about my talking',\n",
              " 'about my town',\n",
              " 'about my true',\n",
              " 'about my unenlightened',\n",
              " 'about my wife',\n",
              " 'about my womanly',\n",
              " 'about my work',\n",
              " 'about myself and',\n",
              " 'about myself im',\n",
              " 'about myself that',\n",
              " 'about naked marge',\n",
              " 'about ned cant',\n",
              " 'about ned flanders',\n",
              " 'about new bar',\n",
              " 'about nice pair',\n",
              " 'about not having',\n",
              " 'about not hurting',\n",
              " 'about notre dame',\n",
              " 'about now everyone',\n",
              " 'about now lets',\n",
              " 'about of course',\n",
              " 'about oh and',\n",
              " 'about on monday',\n",
              " 'about once week',\n",
              " 'about ooh clown',\n",
              " 'about other cultures',\n",
              " 'about other grownups',\n",
              " 'about other women',\n",
              " 'about others you',\n",
              " 'about our animal',\n",
              " 'about our dad',\n",
              " 'about our day',\n",
              " 'about our family',\n",
              " 'about our familys',\n",
              " 'about our feelings',\n",
              " 'about our little',\n",
              " 'about our lives',\n",
              " 'about our own',\n",
              " 'about our robot',\n",
              " 'about our ser',\n",
              " 'about our son',\n",
              " 'about our staring',\n",
              " 'about our worst',\n",
              " 'about owls this',\n",
              " 'about parenting im',\n",
              " 'about people about',\n",
              " 'about people behind',\n",
              " 'about people coming',\n",
              " 'about people of',\n",
              " 'about people remember',\n",
              " 'about performing in',\n",
              " 'about peter fonda',\n",
              " 'about petty revenge',\n",
              " 'about piping in',\n",
              " 'about pizza gota',\n",
              " 'about place so',\n",
              " 'about preachy book',\n",
              " 'about prequel to',\n",
              " 'about principal skinrash',\n",
              " 'about products might',\n",
              " 'about professor frink',\n",
              " 'about publishing more',\n",
              " 'about putting buck',\n",
              " 'about quintile disparity',\n",
              " 'about ray tomorrow',\n",
              " 'about ready for',\n",
              " 'about ready to',\n",
              " 'about ren and',\n",
              " 'about rock music',\n",
              " 'about ron swobodas',\n",
              " 'about ross perot',\n",
              " 'about running away',\n",
              " 'about running with',\n",
              " 'about sacagawea while',\n",
              " 'about screw flanders',\n",
              " 'about scrubbing these',\n",
              " 'about sex right',\n",
              " 'about shelbyville then',\n",
              " 'about shinto tea',\n",
              " 'about ship called',\n",
              " 'about shoes ill',\n",
              " 'about shot kickers',\n",
              " 'about simpson you',\n",
              " 'about six feet',\n",
              " 'about so theres',\n",
              " 'about social security',\n",
              " 'about some adulation',\n",
              " 'about some boy',\n",
              " 'about some capn',\n",
              " 'about some other',\n",
              " 'about some sort',\n",
              " 'about some turpentine',\n",
              " 'about some white',\n",
              " 'about something besides',\n",
              " 'about something better',\n",
              " 'about something is',\n",
              " 'about something read',\n",
              " 'about something see',\n",
              " 'about something you',\n",
              " 'about soul patch',\n",
              " 'about spending money',\n",
              " 'about spite its',\n",
              " 'about sport fishing',\n",
              " 'about sports got',\n",
              " 'about sports result',\n",
              " 'about springfields other',\n",
              " 'about star trek',\n",
              " 'about starting your',\n",
              " 'about stuff its',\n",
              " 'about stuff so',\n",
              " 'about stuff that',\n",
              " 'about sunday school',\n",
              " 'about sure hes',\n",
              " 'about taking beatup',\n",
              " 'about talk to',\n",
              " 'about tall cool',\n",
              " 'about teamwork which',\n",
              " 'about teddy roosevelt',\n",
              " 'about teen sex',\n",
              " 'about teenagers in',\n",
              " 'about television lousy',\n",
              " 'about telling dad',\n",
              " 'about ten minutes',\n",
              " 'about than where',\n",
              " 'about than you',\n",
              " 'about that after',\n",
              " 'about that anymore',\n",
              " 'about that big',\n",
              " 'about that billboard',\n",
              " 'about that boy',\n",
              " 'about that bullet',\n",
              " 'about that but',\n",
              " 'about that candy',\n",
              " 'about that cant',\n",
              " 'about that clown',\n",
              " 'about that cow',\n",
              " 'about that drug',\n",
              " 'about that earring',\n",
              " 'about that freezer',\n",
              " 'about that giant',\n",
              " 'about that gig',\n",
              " 'about that gimme',\n",
              " 'about that girl',\n",
              " 'about that grampa',\n",
              " 'about that great',\n",
              " 'about that im',\n",
              " 'about that is',\n",
              " 'about that it',\n",
              " 'about that jazz',\n",
              " 'about that lamp',\n",
              " 'about that let',\n",
              " 'about that little',\n",
              " 'about that love',\n",
              " 'about that mate',\n",
              " 'about that messenger',\n",
              " 'about that minivan',\n",
              " 'about that mysterious',\n",
              " 'about that now',\n",
              " 'about that okay',\n",
              " 'about that one',\n",
              " 'about that other',\n",
              " 'about that pal',\n",
              " 'about that pen',\n",
              " 'about that place',\n",
              " 'about that robot',\n",
              " 'about that selma',\n",
              " 'about that severed',\n",
              " 'about that sign',\n",
              " 'about that silver',\n",
              " 'about that so',\n",
              " 'about that stephanie',\n",
              " 'about that stupid',\n",
              " 'about that sweet',\n",
              " 'about that thanks',\n",
              " 'about that travesty',\n",
              " 'about that trip',\n",
              " 'about that twoheaded',\n",
              " 'about that uh',\n",
              " 'about that you',\n",
              " 'about that zone',\n",
              " 'about the alien',\n",
              " 'about the american',\n",
              " 'about the axe',\n",
              " 'about the baby',\n",
              " 'about the band',\n",
              " 'about the bells',\n",
              " 'about the big',\n",
              " 'about the bill',\n",
              " 'about the bottom',\n",
              " 'about the bread',\n",
              " 'about the bridge',\n",
              " 'about the budget',\n",
              " 'about the candy',\n",
              " 'about the carny',\n",
              " 'about the cat',\n",
              " 'about the childrens',\n",
              " 'about the cities',\n",
              " 'about the clock',\n",
              " 'about the coat',\n",
              " 'about the coins',\n",
              " 'about the color',\n",
              " 'about the competition',\n",
              " 'about the cooders',\n",
              " 'about the cops',\n",
              " 'about the current',\n",
              " 'about the dangers',\n",
              " 'about the day',\n",
              " 'about the detroit',\n",
              " 'about the dog',\n",
              " 'about the earth',\n",
              " 'about the economy',\n",
              " 'about the emmys',\n",
              " 'about the everyday',\n",
              " 'about the fortyseven',\n",
              " 'about the fox',\n",
              " 'about the frisbee',\n",
              " 'about the future',\n",
              " 'about the gem',\n",
              " 'about the government',\n",
              " 'about the gray',\n",
              " 'about the grease',\n",
              " 'about the greatest',\n",
              " 'about the gun',\n",
              " 'about the guy',\n",
              " 'about the high',\n",
              " 'about the hundred',\n",
              " 'about the indians',\n",
              " 'about the irony',\n",
              " 'about the isotopes',\n",
              " 'about the javelina',\n",
              " 'about the juice',\n",
              " 'about the kick',\n",
              " 'about the kids',\n",
              " 'about the kitchen',\n",
              " 'about the leader',\n",
              " 'about the lottery',\n",
              " 'about the magna',\n",
              " 'about the marital',\n",
              " 'about the mean',\n",
              " 'about the meat',\n",
              " 'about the most',\n",
              " 'about the movie',\n",
              " 'about the mr',\n",
              " 'about the museum',\n",
              " 'about the news',\n",
              " 'about the nicest',\n",
              " 'about the noise',\n",
              " 'about the ocean',\n",
              " 'about the only',\n",
              " 'about the osprey',\n",
              " 'about the other',\n",
              " 'about the party',\n",
              " 'about the people',\n",
              " 'about the pie',\n",
              " 'about the pin',\n",
              " 'about the plight',\n",
              " 'about the plutonium',\n",
              " 'about the policeman',\n",
              " 'about the presents',\n",
              " 'about the problem',\n",
              " 'about the race',\n",
              " 'about the recent',\n",
              " 'about the rest',\n",
              " 'about the romance',\n",
              " 'about the safe',\n",
              " 'about the same',\n",
              " 'about the school',\n",
              " 'about the skeleton',\n",
              " 'about the sleaze',\n",
              " 'about the snail',\n",
              " 'about the stadium',\n",
              " 'about the starving',\n",
              " 'about the sunday',\n",
              " 'about the sunsphere',\n",
              " 'about the suvs',\n",
              " 'about the symphony',\n",
              " 'about the tattoo',\n",
              " 'about the things',\n",
              " 'about the time',\n",
              " 'about the truth',\n",
              " 'about the undeniable',\n",
              " 'about the ups',\n",
              " 'about the vending',\n",
              " 'about the victims',\n",
              " 'about the way',\n",
              " 'about the wiener',\n",
              " 'about the woman',\n",
              " 'about the women',\n",
              " 'about the word',\n",
              " 'about the world',\n",
              " 'about their boobs',\n",
              " 'about their day',\n",
              " 'about their hardship',\n",
              " 'about them didnt',\n",
              " 'about these all',\n",
              " 'about these church',\n",
              " 'about these highrisk',\n",
              " 'about they badmouth',\n",
              " 'about thing honey',\n",
              " 'about thing ill',\n",
              " 'about thing well',\n",
              " 'about things like',\n",
              " 'about things said',\n",
              " 'about think you',\n",
              " 'about thirty seconds',\n",
              " 'about this adorable',\n",
              " 'about this all',\n",
              " 'about this baby',\n",
              " 'about this beer',\n",
              " 'about this billy',\n",
              " 'about this but',\n",
              " 'about this competition',\n",
              " 'about this dad',\n",
              " 'about this dog',\n",
              " 'about this edison',\n",
              " 'about this every',\n",
              " 'about this for',\n",
              " 'about this game',\n",
              " 'about this guy',\n",
              " 'about this horde',\n",
              " 'about this house',\n",
              " 'about this if',\n",
              " 'about this ill',\n",
              " 'about this is',\n",
              " 'about this just',\n",
              " 'about this leak',\n",
              " 'about this lets',\n",
              " 'about this licorice',\n",
              " 'about this marriage',\n",
              " 'about this martins',\n",
              " 'about this mom',\n",
              " 'about this new',\n",
              " 'about this noose',\n",
              " 'about this operation',\n",
              " 'about this outside',\n",
              " 'about this part',\n",
              " 'about this place',\n",
              " 'about this play',\n",
              " 'about this pli',\n",
              " 'about this seven',\n",
              " 'about this show',\n",
              " 'about this sicko',\n",
              " 'about this stuff',\n",
              " 'about this swordfish',\n",
              " 'about this the',\n",
              " 'about this thing',\n",
              " 'about this this',\n",
              " 'about this together',\n",
              " 'about this type',\n",
              " 'about this until',\n",
              " 'about this video',\n",
              " 'about this warning',\n",
              " 'about this went',\n",
              " 'about this where',\n",
              " 'about this whole',\n",
              " 'about this you',\n",
              " 'about thomas edison',\n",
              " 'about those laws',\n",
              " 'about those losers',\n",
              " 'about those mobsters',\n",
              " 'about thousand dollars',\n",
              " 'about three days',\n",
              " 'about three times',\n",
              " 'about three weeks',\n",
              " 'about throwing money',\n",
              " 'about time for',\n",
              " 'about time mr',\n",
              " 'about time oh',\n",
              " 'about time revenge',\n",
              " 'about time trees',\n",
              " 'about to achieve',\n",
              " 'about to announce',\n",
              " 'about to be',\n",
              " 'about to break',\n",
              " 'about to crush',\n",
              " 'about to die',\n",
              " 'about to embark',\n",
              " 'about to enjoy',\n",
              " 'about to file',\n",
              " 'about to get',\n",
              " 'about to give',\n",
              " 'about to go',\n",
              " 'about to have',\n",
              " 'about to hit',\n",
              " 'about to hoist',\n",
              " 'about to launch',\n",
              " 'about to learn',\n",
              " 'about to lie',\n",
              " 'about to lose',\n",
              " 'about to press',\n",
              " 'about to probe',\n",
              " 'about to purchase',\n",
              " 'about to receive',\n",
              " 'about to say',\n",
              " 'about to see',\n",
              " 'about to share',\n",
              " 'about to show',\n",
              " 'about to sing',\n",
              " 'about to speak',\n",
              " 'about to tell',\n",
              " 'about to unravel',\n",
              " 'about tomorrow dont',\n",
              " 'about tomorrow when',\n",
              " 'about tonight but',\n",
              " 'about toothbrush here',\n",
              " 'about town crier',\n",
              " 'about town pride',\n",
              " 'about toxic vapors',\n",
              " 'about treating serious',\n",
              " 'about trough were',\n",
              " 'about trust busting',\n",
              " 'about trust honey',\n",
              " 'about turbulent part',\n",
              " 'about tv show',\n",
              " 'about twenty years',\n",
              " 'about two naked',\n",
              " 'about two other',\n",
              " 'about two seconds',\n",
              " 'about two years',\n",
              " 'about uh fluorescent',\n",
              " 'about uncle tyrone',\n",
              " 'about urkel that',\n",
              " 'about us being',\n",
              " 'about us now',\n",
              " 'about us was',\n",
              " 'about us while',\n",
              " 'about very special',\n",
              " 'about virgil that',\n",
              " 'about wang enhancement',\n",
              " 'about wanting more',\n",
              " 'about was beer',\n",
              " 'about was real',\n",
              " 'about was total',\n",
              " 'about we play',\n",
              " 'about whaling thats',\n",
              " 'about what bart',\n",
              " 'about what did',\n",
              " 'about what happened',\n",
              " 'about what sports',\n",
              " 'about what want',\n",
              " 'about what we',\n",
              " 'about what you',\n",
              " 'about what youre',\n",
              " 'about whats going',\n",
              " 'about whats to',\n",
              " 'about when dad',\n",
              " 'about when make',\n",
              " 'about when we',\n",
              " 'about when youre',\n",
              " 'about where dr',\n",
              " 'about whether you',\n",
              " 'about while im',\n",
              " 'about who called',\n",
              " 'about who youre',\n",
              " 'about whod be',\n",
              " 'about whose name',\n",
              " 'about why revenge',\n",
              " 'about why would',\n",
              " 'about wiccans are',\n",
              " 'about wikipedia well',\n",
              " 'about winning money',\n",
              " 'about with love',\n",
              " 'about with my',\n",
              " 'about world war',\n",
              " 'about yellow fever',\n",
              " 'about you all',\n",
              " 'about you and',\n",
              " 'about you barney',\n",
              " 'about you bicycle',\n",
              " 'about you but',\n",
              " 'about you buying',\n",
              " 'about you chief',\n",
              " 'about you dad',\n",
              " 'about you doing',\n",
              " 'about you dr',\n",
              " 'about you edna',\n",
              " 'about you english',\n",
              " 'about you got',\n",
              " 'about you greensleeves',\n",
              " 'about you homer',\n",
              " 'about you in',\n",
              " 'about you is',\n",
              " 'about you kids',\n",
              " 'about you lenny',\n",
              " 'about you lot',\n",
              " 'about you maggie',\n",
              " 'about you not',\n",
              " 'about you oh',\n",
              " 'about you she',\n",
              " 'about you so',\n",
              " 'about you too',\n",
              " 'about you uh',\n",
              " 'about you vendors',\n",
              " 'about you volunteering',\n",
              " 'about you youre',\n",
              " 'about you youve',\n",
              " 'about young minds',\n",
              " 'about your ad',\n",
              " 'about your camcorder',\n",
              " 'about your connection',\n",
              " 'about your dad',\n",
              " 'about your daily',\n",
              " 'about your daughter',\n",
              " 'about your day',\n",
              " 'about your dog',\n",
              " 'about your dot',\n",
              " 'about your face',\n",
              " 'about your family',\n",
              " 'about your father',\n",
              " 'about your feelings',\n",
              " 'about your frilly',\n",
              " 'about your health',\n",
              " 'about your hug',\n",
              " 'about your looks',\n",
              " 'about your marriage',\n",
              " 'about your most',\n",
              " 'about your new',\n",
              " 'about your past',\n",
              " 'about your pet',\n",
              " 'about your punishment',\n",
              " 'about your runin',\n",
              " 'about your shins',\n",
              " 'about your son',\n",
              " 'about your soul',\n",
              " 'about your tax',\n",
              " 'about your wedding',\n",
              " 'about your weight',\n",
              " 'about your your',\n",
              " 'about youre always',\n",
              " 'about youre the',\n",
              " 'about yourself okay',\n",
              " 'about yourself stop',\n",
              " 'about yourself theres',\n",
              " 'about yourself well',\n",
              " 'abouthmmm you know',\n",
              " 'above all try',\n",
              " ...]"
            ]
          },
          "metadata": {
            "tags": []
          },
          "execution_count": 72
        }
      ]
    },
    {
      "cell_type": "code",
      "metadata": {
        "id": "jbBngMAPYxar",
        "colab_type": "code",
        "colab": {}
      },
      "source": [
        "#imprime el vector final\n",
        "#X.toarray()"
      ],
      "execution_count": 0,
      "outputs": []
    },
    {
      "cell_type": "code",
      "metadata": {
        "id": "txAdSDN2dSP2",
        "colab_type": "code",
        "colab": {
          "base_uri": "https://localhost:8080/",
          "height": 204
        },
        "outputId": "e45a5d37-d13f-44fc-f1bc-96f7f5d301bd"
      },
      "source": [
        "# Now, we can inspect how our vectorizer vectorized the text\n",
        "# This will print out a list of words used, and their index in the vectors\n",
        "print('Vocabulary: ')\n",
        "print(vectorizer3.vocabulary_)"
      ],
      "execution_count": 74,
      "outputs": [
        {
          "output_type": "stream",
          "text": [
            "IOPub data rate exceeded.\n",
            "The notebook server will temporarily stop sending output\n",
            "to the client in order to avoid crashing it.\n",
            "To change this limit, set the config variable\n",
            "`--NotebookApp.iopub_data_rate_limit`.\n",
            "\n",
            "Current values:\n",
            "NotebookApp.iopub_data_rate_limit=1000000.0 (bytes/sec)\n",
            "NotebookApp.rate_limit_window=3.0 (secs)\n",
            "\n"
          ],
          "name": "stderr"
        }
      ]
    },
    {
      "cell_type": "code",
      "metadata": {
        "colab_type": "code",
        "id": "ULzA8xhwZI22",
        "colab": {}
      },
      "source": [
        "#tokenizer = Tokenizer(num_words = vocab_size, oov_token=oov_tok,split= ' ')\n",
        "#tokenizer.fit_on_texts(train_sentences)\n",
        "#word_index = tokenizer.word_index\n",
        "\n",
        "#train_sequences = tokenizer.texts_to_sequences(train_sentences)\n",
        "#train_padded = np.array(pad_sequences(train_sequences, padding=padding_type, maxlen=max_length))"
      ],
      "execution_count": 0,
      "outputs": []
    },
    {
      "cell_type": "code",
      "metadata": {
        "id": "muzP2UkSDRGp",
        "colab_type": "code",
        "colab": {}
      },
      "source": [
        "#word_index"
      ],
      "execution_count": 0,
      "outputs": []
    },
    {
      "cell_type": "code",
      "metadata": {
        "colab_type": "code",
        "outputId": "b5a3f414-8fad-445f-a793-8844e795ca32",
        "id": "BEvslZQ7Yt66",
        "colab": {
          "base_uri": "https://localhost:8080/",
          "height": 51
        }
      },
      "source": [
        "print((train_sequences[0]))\n",
        "print(len(train_padded[0]))\n",
        "\n",
        "#print(len(train_sequences[1]))\n",
        "#print(len(train_padded[1]))\n",
        "\n",
        "#print(len(train_sequences[10]))\n",
        "#print(len(train_padded[10]))\n",
        "\n",
        "# Expected Ouput\n",
        "# 12\n",
        "# 120\n",
        "# 3\n",
        "# 120\n",
        "# 10\n",
        "# 120"
      ],
      "execution_count": 0,
      "outputs": [
        {
          "output_type": "stream",
          "text": [
            "[370, 144, 1]\n",
            "120\n"
          ],
          "name": "stdout"
        }
      ]
    },
    {
      "cell_type": "code",
      "metadata": {
        "id": "BoyMoykjYt7N",
        "colab_type": "code",
        "outputId": "40b5d9eb-2d4f-418e-d996-e8d179a60b3d",
        "colab": {
          "base_uri": "https://localhost:8080/",
          "height": 34
        }
      },
      "source": [
        "train_sequences[:2]"
      ],
      "execution_count": 0,
      "outputs": [
        {
          "output_type": "execute_result",
          "data": {
            "text/plain": [
              "[[370, 144, 1], [10, 156, 12, 814, 582]]"
            ]
          },
          "metadata": {
            "tags": []
          },
          "execution_count": 15
        }
      ]
    },
    {
      "cell_type": "code",
      "metadata": {
        "colab_type": "code",
        "outputId": "3dac3658-9d3f-445e-dcd7-5921732cc0ab",
        "id": "AS43m4iEYt7-",
        "colab": {
          "base_uri": "https://localhost:8080/",
          "height": 357
        }
      },
      "source": [
        "train_padded[:2]"
      ],
      "execution_count": 0,
      "outputs": [
        {
          "output_type": "execute_result",
          "data": {
            "text/plain": [
              "array([[370, 144,   1,   0,   0,   0,   0,   0,   0,   0,   0,   0,   0,\n",
              "          0,   0,   0,   0,   0,   0,   0,   0,   0,   0,   0,   0,   0,\n",
              "          0,   0,   0,   0,   0,   0,   0,   0,   0,   0,   0,   0,   0,\n",
              "          0,   0,   0,   0,   0,   0,   0,   0,   0,   0,   0,   0,   0,\n",
              "          0,   0,   0,   0,   0,   0,   0,   0,   0,   0,   0,   0,   0,\n",
              "          0,   0,   0,   0,   0,   0,   0,   0,   0,   0,   0,   0,   0,\n",
              "          0,   0,   0,   0,   0,   0,   0,   0,   0,   0,   0,   0,   0,\n",
              "          0,   0,   0,   0,   0,   0,   0,   0,   0,   0,   0,   0,   0,\n",
              "          0,   0,   0,   0,   0,   0,   0,   0,   0,   0,   0,   0,   0,\n",
              "          0,   0,   0],\n",
              "       [ 10, 156,  12, 814, 582,   0,   0,   0,   0,   0,   0,   0,   0,\n",
              "          0,   0,   0,   0,   0,   0,   0,   0,   0,   0,   0,   0,   0,\n",
              "          0,   0,   0,   0,   0,   0,   0,   0,   0,   0,   0,   0,   0,\n",
              "          0,   0,   0,   0,   0,   0,   0,   0,   0,   0,   0,   0,   0,\n",
              "          0,   0,   0,   0,   0,   0,   0,   0,   0,   0,   0,   0,   0,\n",
              "          0,   0,   0,   0,   0,   0,   0,   0,   0,   0,   0,   0,   0,\n",
              "          0,   0,   0,   0,   0,   0,   0,   0,   0,   0,   0,   0,   0,\n",
              "          0,   0,   0,   0,   0,   0,   0,   0,   0,   0,   0,   0,   0,\n",
              "          0,   0,   0,   0,   0,   0,   0,   0,   0,   0,   0,   0,   0,\n",
              "          0,   0,   0]], dtype=int32)"
            ]
          },
          "metadata": {
            "tags": []
          },
          "execution_count": 16
        }
      ]
    },
    {
      "cell_type": "code",
      "metadata": {
        "colab_type": "code",
        "id": "c8PeFWzPZLW_",
        "colab": {}
      },
      "source": [
        "validation_sequences = tokenizer.texts_to_sequences(validation_sentences)\n",
        "validation_padded = np.array(pad_sequences(validation_sequences, padding=padding_type, maxlen=max_length))\n"
      ],
      "execution_count": 0,
      "outputs": []
    },
    {
      "cell_type": "code",
      "metadata": {
        "colab_type": "code",
        "outputId": "56ca4649-fe2e-494b-bd8a-98f52f126f6d",
        "id": "-BQ_jql1Yt8p",
        "colab": {
          "base_uri": "https://localhost:8080/",
          "height": 34
        }
      },
      "source": [
        "validation_sequences[:2]\n",
        "\n",
        "# Expected output\n",
        "# 31663\n",
        "# (31663, 120)"
      ],
      "execution_count": 0,
      "outputs": [
        {
          "output_type": "execute_result",
          "data": {
            "text/plain": [
              "[[], [260, 1, 1, 35, 3, 68, 30, 6, 15]]"
            ]
          },
          "metadata": {
            "tags": []
          },
          "execution_count": 18
        }
      ]
    },
    {
      "cell_type": "code",
      "metadata": {
        "id": "jEF78gjcZdPy",
        "colab_type": "code",
        "outputId": "f2781177-c984-4eb5-ed27-2845cc3b583a",
        "colab": {
          "base_uri": "https://localhost:8080/",
          "height": 357
        }
      },
      "source": [
        "validation_padded[:2]"
      ],
      "execution_count": 0,
      "outputs": [
        {
          "output_type": "execute_result",
          "data": {
            "text/plain": [
              "array([[  0,   0,   0,   0,   0,   0,   0,   0,   0,   0,   0,   0,   0,\n",
              "          0,   0,   0,   0,   0,   0,   0,   0,   0,   0,   0,   0,   0,\n",
              "          0,   0,   0,   0,   0,   0,   0,   0,   0,   0,   0,   0,   0,\n",
              "          0,   0,   0,   0,   0,   0,   0,   0,   0,   0,   0,   0,   0,\n",
              "          0,   0,   0,   0,   0,   0,   0,   0,   0,   0,   0,   0,   0,\n",
              "          0,   0,   0,   0,   0,   0,   0,   0,   0,   0,   0,   0,   0,\n",
              "          0,   0,   0,   0,   0,   0,   0,   0,   0,   0,   0,   0,   0,\n",
              "          0,   0,   0,   0,   0,   0,   0,   0,   0,   0,   0,   0,   0,\n",
              "          0,   0,   0,   0,   0,   0,   0,   0,   0,   0,   0,   0,   0,\n",
              "          0,   0,   0],\n",
              "       [260,   1,   1,  35,   3,  68,  30,   6,  15,   0,   0,   0,   0,\n",
              "          0,   0,   0,   0,   0,   0,   0,   0,   0,   0,   0,   0,   0,\n",
              "          0,   0,   0,   0,   0,   0,   0,   0,   0,   0,   0,   0,   0,\n",
              "          0,   0,   0,   0,   0,   0,   0,   0,   0,   0,   0,   0,   0,\n",
              "          0,   0,   0,   0,   0,   0,   0,   0,   0,   0,   0,   0,   0,\n",
              "          0,   0,   0,   0,   0,   0,   0,   0,   0,   0,   0,   0,   0,\n",
              "          0,   0,   0,   0,   0,   0,   0,   0,   0,   0,   0,   0,   0,\n",
              "          0,   0,   0,   0,   0,   0,   0,   0,   0,   0,   0,   0,   0,\n",
              "          0,   0,   0,   0,   0,   0,   0,   0,   0,   0,   0,   0,   0,\n",
              "          0,   0,   0]], dtype=int32)"
            ]
          },
          "metadata": {
            "tags": []
          },
          "execution_count": 19
        }
      ]
    },
    {
      "cell_type": "code",
      "metadata": {
        "id": "1ix4eYl0ZhNS",
        "colab_type": "code",
        "outputId": "48256643-5700-4876-9ac5-8d501cea0382",
        "colab": {
          "base_uri": "https://localhost:8080/",
          "height": 51
        }
      },
      "source": [
        "print(len(validation_sequences))\n",
        "print(validation_padded.shape)\n",
        "\n",
        "# Expected output\n",
        "# 31663\n",
        "# (31663, 120)"
      ],
      "execution_count": 0,
      "outputs": [
        {
          "output_type": "stream",
          "text": [
            "13835\n",
            "(13835, 120)\n"
          ],
          "name": "stdout"
        }
      ]
    },
    {
      "cell_type": "code",
      "metadata": {
        "colab_type": "code",
        "id": "XkWiQ_FKZNp2",
        "outputId": "b334d816-dcbc-4012-d020-91ab9e2ba5e9",
        "colab": {
          "base_uri": "https://localhost:8080/",
          "height": 221
        }
      },
      "source": [
        "label_size = 500\n",
        "#filters='!\"#$%&()*+,-./:;<=>?@[\\\\]^_`{|}~\\t\\n'\n",
        "label_tokenizer = Tokenizer(num_words = label_size,oov_token=oov_tok, filters = '')\n",
        "label_tokenizer.fit_on_texts(labels)\n",
        "\n",
        "label_seq = np.array(label_tokenizer.texts_to_sequences(labels))\n",
        "training_label_seq = np.array(label_tokenizer.texts_to_sequences(train_labels))\n",
        "validation_label_seq = np.array(label_tokenizer.texts_to_sequences(validation_labels))\n",
        "\n",
        "print(training_label_seq[0])\n",
        "print(training_label_seq[1])\n",
        "print(training_label_seq[2])\n",
        "print(training_label_seq[3])\n",
        "print(training_label_seq[5])\n",
        "print(training_label_seq.shape)\n",
        "\n",
        "print(validation_label_seq[0])\n",
        "print(validation_label_seq[1])\n",
        "print(validation_label_seq[2])\n",
        "print(validation_label_seq[3])\n",
        "print(validation_label_seq[5])\n",
        "print(validation_label_seq.shape)\n",
        "\n",
        "# Expected output\n",
        "# [4]\n",
        "# [2]\n",
        "# [1]\n",
        "# (1780, 1)\n",
        "# [5]\n",
        "# [4]\n",
        "# [3]\n",
        "# (445, 1)"
      ],
      "execution_count": 0,
      "outputs": [
        {
          "output_type": "stream",
          "text": [
            "[5]\n",
            "[5]\n",
            "[4]\n",
            "[5]\n",
            "[5]\n",
            "(55336, 1)\n",
            "[2]\n",
            "[2]\n",
            "[2]\n",
            "[2]\n",
            "[4]\n",
            "(13835, 1)\n"
          ],
          "name": "stdout"
        }
      ]
    },
    {
      "cell_type": "code",
      "metadata": {
        "id": "ZMoLz57_Yt9J",
        "colab_type": "code",
        "colab": {}
      },
      "source": [
        "# flatten the nested list and tranaform to an np array\n",
        "label_seq = np.array([item for items in label_seq for item in items])\n",
        "training_label_seq = np.array([item for items in training_label_seq for item in items])\n",
        "validation_label_seq = np.array([item for items in validation_label_seq for item in items])\n"
      ],
      "execution_count": 0,
      "outputs": []
    },
    {
      "cell_type": "code",
      "metadata": {
        "id": "7doOXbZvZmfP",
        "colab_type": "code",
        "outputId": "663e5abf-6660-4164-cc90-fb544c36d5e6",
        "colab": {
          "base_uri": "https://localhost:8080/",
          "height": 34
        }
      },
      "source": [
        "label_seq[:5]"
      ],
      "execution_count": 0,
      "outputs": [
        {
          "output_type": "execute_result",
          "data": {
            "text/plain": [
              "array([5, 5, 4, 5, 5])"
            ]
          },
          "metadata": {
            "tags": []
          },
          "execution_count": 23
        }
      ]
    },
    {
      "cell_type": "code",
      "metadata": {
        "id": "GXybe95iZnhn",
        "colab_type": "code",
        "outputId": "92c39d31-ce3d-4c4c-d55d-0ac964ddd1f2",
        "colab": {
          "base_uri": "https://localhost:8080/",
          "height": 34
        }
      },
      "source": [
        "max(validation_label_seq)"
      ],
      "execution_count": 0,
      "outputs": [
        {
          "output_type": "execute_result",
          "data": {
            "text/plain": [
              "5"
            ]
          },
          "metadata": {
            "tags": []
          },
          "execution_count": 24
        }
      ]
    },
    {
      "cell_type": "markdown",
      "metadata": {
        "id": "phSLRUweYt-G",
        "colab_type": "text"
      },
      "source": [
        "# transform target to one-hot codification"
      ]
    },
    {
      "cell_type": "markdown",
      "metadata": {
        "id": "I7QYyJBCYt-J",
        "colab_type": "text"
      },
      "source": [
        "## primero crea etiquetas numéricas"
      ]
    },
    {
      "cell_type": "code",
      "metadata": {
        "id": "_5cf3OjTYt-M",
        "colab_type": "code",
        "colab": {}
      },
      "source": [
        "from sklearn. preprocessing import LabelEncoder\n",
        "#preprocessing.LabelEncoder()\n",
        "encoder = LabelEncoder()\n",
        "\n",
        "encoder.fit(label_seq)\n",
        "y_train = encoder.transform(training_label_seq)\n",
        "y_test = encoder.transform(validation_label_seq)"
      ],
      "execution_count": 0,
      "outputs": []
    },
    {
      "cell_type": "code",
      "metadata": {
        "id": "suOM5XzzZsWF",
        "colab_type": "code",
        "outputId": "58fa0992-7ca9-4522-fa0d-59e921d9b1d0",
        "colab": {
          "base_uri": "https://localhost:8080/",
          "height": 34
        }
      },
      "source": [
        "max(y_train)"
      ],
      "execution_count": 0,
      "outputs": [
        {
          "output_type": "execute_result",
          "data": {
            "text/plain": [
              "3"
            ]
          },
          "metadata": {
            "tags": []
          },
          "execution_count": 26
        }
      ]
    },
    {
      "cell_type": "code",
      "metadata": {
        "id": "FbwSw1x9Zt10",
        "colab_type": "code",
        "outputId": "6c2e8a65-45b2-4617-e234-b6acad5ee41f",
        "colab": {
          "base_uri": "https://localhost:8080/",
          "height": 34
        }
      },
      "source": [
        "y_train.shape"
      ],
      "execution_count": 0,
      "outputs": [
        {
          "output_type": "execute_result",
          "data": {
            "text/plain": [
              "(55336,)"
            ]
          },
          "metadata": {
            "tags": []
          },
          "execution_count": 27
        }
      ]
    },
    {
      "cell_type": "code",
      "metadata": {
        "id": "tok5CEBFZuUX",
        "colab_type": "code",
        "outputId": "0a38d4d3-1205-4552-f44e-08fe5d8b1038",
        "colab": {
          "base_uri": "https://localhost:8080/",
          "height": 34
        }
      },
      "source": [
        "y_train"
      ],
      "execution_count": 0,
      "outputs": [
        {
          "output_type": "execute_result",
          "data": {
            "text/plain": [
              "array([3, 3, 2, ..., 0, 0, 1])"
            ]
          },
          "metadata": {
            "tags": []
          },
          "execution_count": 28
        }
      ]
    },
    {
      "cell_type": "code",
      "metadata": {
        "id": "NCzU80RNZwvI",
        "colab_type": "code",
        "outputId": "2c99e02d-b257-484c-b3a9-36cb0dbba3e2",
        "colab": {
          "base_uri": "https://localhost:8080/",
          "height": 34
        }
      },
      "source": [
        "y_test"
      ],
      "execution_count": 0,
      "outputs": [
        {
          "output_type": "execute_result",
          "data": {
            "text/plain": [
              "array([0, 0, 0, ..., 1, 3, 3])"
            ]
          },
          "metadata": {
            "tags": []
          },
          "execution_count": 29
        }
      ]
    },
    {
      "cell_type": "markdown",
      "metadata": {
        "id": "gz8EKx7MYt-t",
        "colab_type": "text"
      },
      "source": [
        "## one hot"
      ]
    },
    {
      "cell_type": "code",
      "metadata": {
        "id": "_vVEA4IBYt-w",
        "colab_type": "code",
        "colab": {}
      },
      "source": [
        "# Converts the labels to a one-hot representation\n",
        "num_classes = np.max(y_train) + 1\n",
        "y_train = tf.keras.utils.to_categorical(y_train, num_classes)\n",
        "y_test = tf.keras.utils.to_categorical(y_test, num_classes)"
      ],
      "execution_count": 0,
      "outputs": []
    },
    {
      "cell_type": "code",
      "metadata": {
        "id": "7Vd3HsZ0Z0Dp",
        "colab_type": "code",
        "outputId": "ec78fa66-4272-4e6c-bc2f-b8c15d0c9eab",
        "colab": {
          "base_uri": "https://localhost:8080/",
          "height": 34
        }
      },
      "source": [
        "num_classes"
      ],
      "execution_count": 0,
      "outputs": [
        {
          "output_type": "execute_result",
          "data": {
            "text/plain": [
              "4"
            ]
          },
          "metadata": {
            "tags": []
          },
          "execution_count": 31
        }
      ]
    },
    {
      "cell_type": "code",
      "metadata": {
        "id": "Yopg3sD-Yt_I",
        "colab_type": "code",
        "outputId": "9a267283-a37f-4429-b98e-c5e37aad09a4",
        "colab": {
          "base_uri": "https://localhost:8080/",
          "height": 34
        }
      },
      "source": [
        "y_train.shape"
      ],
      "execution_count": 0,
      "outputs": [
        {
          "output_type": "execute_result",
          "data": {
            "text/plain": [
              "(55336, 4)"
            ]
          },
          "metadata": {
            "tags": []
          },
          "execution_count": 32
        }
      ]
    },
    {
      "cell_type": "code",
      "metadata": {
        "id": "mRFAcCwQZ1lF",
        "colab_type": "code",
        "outputId": "636bd02b-96d4-4964-fbb4-dd22e501a11d",
        "colab": {
          "base_uri": "https://localhost:8080/",
          "height": 34
        }
      },
      "source": [
        "y_train[0]"
      ],
      "execution_count": 0,
      "outputs": [
        {
          "output_type": "execute_result",
          "data": {
            "text/plain": [
              "array([0., 0., 0., 1.], dtype=float32)"
            ]
          },
          "metadata": {
            "tags": []
          },
          "execution_count": 33
        }
      ]
    },
    {
      "cell_type": "code",
      "metadata": {
        "id": "nHwXnWwnZ3Gk",
        "colab_type": "code",
        "outputId": "ad15eb70-e808-4015-d829-e341fb9e3dc1",
        "colab": {
          "base_uri": "https://localhost:8080/",
          "height": 34
        }
      },
      "source": [
        "y_test[0]"
      ],
      "execution_count": 0,
      "outputs": [
        {
          "output_type": "execute_result",
          "data": {
            "text/plain": [
              "array([1., 0., 0., 0.], dtype=float32)"
            ]
          },
          "metadata": {
            "tags": []
          },
          "execution_count": 34
        }
      ]
    },
    {
      "cell_type": "markdown",
      "metadata": {
        "id": "yVPb8wDDZ7j4",
        "colab_type": "text"
      },
      "source": [
        "## Modelo 1\n",
        "\n",
        "| dropout | conv1D | LSTM | accuracyTrain | accuracyValidation | epoch |\n",
        "|---------|:------:|:----:|:-------------:|:------------------:|:-----:|\n",
        "|         |        |      |    0.3645     |       0.3478       |  13   |\n",
        "|    1    |   1    |      |    0.3751     |       0.3462       |  11   |\n",
        "|         |   1    |      |    0.3761     |       0.3455       |  10   |\n",
        "|    1    |        |      |    0.3668     |       0.3527       |  15   |\n",
        "|    1    |        |   1  |    0.3730     |       0.3416       |  13   |"
      ]
    },
    {
      "cell_type": "markdown",
      "metadata": {
        "id": "oVmdZbbyXDpz",
        "colab_type": "text"
      },
      "source": [
        "## Modelo 2 con 9 Labels\n",
        "\n",
        "| spatial Dropout1d | BIDLSTM | Dropout | Dense | lossTrain |accuracyTrain | accuracyValidation | lossValidation  | epoch |\n",
        "|::|::|::|::|::|::|::|::|::|\n",
        "|1|2|2|2|1.2943|0.5236|1.5963|0.4304|23|\n",
        "\n"
      ]
    },
    {
      "cell_type": "markdown",
      "metadata": {
        "id": "z-7yt4FbW9fh",
        "colab_type": "text"
      },
      "source": [
        "## Modelo 3 con 4 Labels - 20 ephocs\n",
        "\n",
        "| Conv1D | SpatialDroout1D | BIDLSTM | Dropout | Densa | lossTrain |accuracyTrain | accuracyValidation | lossValidation  | epoch |\n",
        "|:----:|:----:|:----:|:----:|:----:|:----:|:----:|:----:|:----:|:----:|\n",
        "| | |1|2|2|1.0705|0.5387|1.1504|0.4953|10|\n",
        "|1|1||2|2|1.0209|0.5645|1.1661|0.4930|7|\n",
        "|1||1|2|2|1.0497|0.5510|1.1570|0.4941|5|\n",
        "||1|1|2|2|1.0601|0.5453|1.1625|0.4911|9|\n",
        "|1|1|1|2|2|1.0479|0.5516|1.1565|0.4898|6|\n",
        "|2| | |2|2|1.0265|0.5626|1.1968|0.4835|6|\n",
        "| | | |2|2|1.0691|0.5402|1.1626|0.4978|10|\n",
        "| | | |3|3|1.0789|0.5394|1.1517|0.4966|11|"
      ]
    },
    {
      "cell_type": "code",
      "metadata": {
        "id": "H8tYQNMUvbjb",
        "colab_type": "code",
        "colab": {}
      },
      "source": [
        "callback = tf.keras.callbacks.EarlyStopping(\n",
        "    monitor='val_accuracy', patience=3\n",
        "    )\n",
        "# This callback will stop the training when there is no improvement in\n",
        "# the validation loss for three consecutive epochs."
      ],
      "execution_count": 0,
      "outputs": []
    },
    {
      "cell_type": "code",
      "metadata": {
        "colab_type": "code",
        "id": "HZ5um4MWZP-W",
        "outputId": "89cd56e5-9a22-42b2-eefd-0498ae2bc939",
        "colab": {
          "base_uri": "https://localhost:8080/",
          "height": 425
        }
      },
      "source": [
        "model = tf.keras.Sequential([\n",
        "    tf.keras.layers.Embedding(vocab_size, embedding_dim, input_length=max_length),\n",
        "    tf.keras.layers.Conv1D(200, 5, activation='relu'),\n",
        "    tf.keras.layers.Conv1D(120, 5, activation='relu'),\n",
        "    tf.keras.layers.GlobalAveragePooling1D(),\n",
        "    tf.keras.layers.Dropout(0.1),\n",
        "    tf.keras.layers.Dense(120, activation='relu'),\n",
        "    tf.keras.layers.Dropout(0.1),\n",
        "    tf.keras.layers.Dense(4, activation='softmax')\n",
        "])\n",
        "model.compile(loss='categorical_crossentropy',optimizer='adam',metrics=['accuracy'])\n",
        "model.summary()"
      ],
      "execution_count": 0,
      "outputs": [
        {
          "output_type": "stream",
          "text": [
            "Model: \"sequential_11\"\n",
            "_________________________________________________________________\n",
            "Layer (type)                 Output Shape              Param #   \n",
            "=================================================================\n",
            "embedding_11 (Embedding)     (None, 120, 32)           64000     \n",
            "_________________________________________________________________\n",
            "conv1d_24 (Conv1D)           (None, 116, 200)          32200     \n",
            "_________________________________________________________________\n",
            "conv1d_25 (Conv1D)           (None, 112, 120)          120120    \n",
            "_________________________________________________________________\n",
            "global_average_pooling1d_15  (None, 120)               0         \n",
            "_________________________________________________________________\n",
            "dropout_22 (Dropout)         (None, 120)               0         \n",
            "_________________________________________________________________\n",
            "dense_22 (Dense)             (None, 120)               14520     \n",
            "_________________________________________________________________\n",
            "dropout_23 (Dropout)         (None, 120)               0         \n",
            "_________________________________________________________________\n",
            "dense_23 (Dense)             (None, 4)                 484       \n",
            "=================================================================\n",
            "Total params: 231,324\n",
            "Trainable params: 231,324\n",
            "Non-trainable params: 0\n",
            "_________________________________________________________________\n"
          ],
          "name": "stdout"
        }
      ]
    },
    {
      "cell_type": "markdown",
      "metadata": {
        "id": "EqT9Muf-aFYP",
        "colab_type": "text"
      },
      "source": [
        "## Entrenamos el modelo"
      ]
    },
    {
      "cell_type": "code",
      "metadata": {
        "colab_type": "code",
        "id": "XsfdxySKZSXu",
        "outputId": "78616a37-1b7d-47c6-fc47-7467c5358398",
        "colab": {
          "base_uri": "https://localhost:8080/",
          "height": 289
        }
      },
      "source": [
        "num_epochs = 40\n",
        "history = model.fit(train_padded, y_train, epochs=num_epochs, validation_data=(validation_padded, y_test), verbose=2, callbacks=[callback])\n",
        "print(\"\\nEn la epoca\", len(history.history['val_accuracy']), \"la precision de validación dejó de mejorar.\")"
      ],
      "execution_count": 0,
      "outputs": [
        {
          "output_type": "stream",
          "text": [
            "Epoch 1/40\n",
            "1730/1730 - 10s - loss: 1.2513 - accuracy: 0.4476 - val_loss: 1.2145 - val_accuracy: 0.4658\n",
            "Epoch 2/40\n",
            "1730/1730 - 9s - loss: 1.1632 - accuracy: 0.4955 - val_loss: 1.1536 - val_accuracy: 0.4891\n",
            "Epoch 3/40\n",
            "1730/1730 - 9s - loss: 1.1042 - accuracy: 0.5248 - val_loss: 1.1322 - val_accuracy: 0.5004\n",
            "Epoch 4/40\n",
            "1730/1730 - 9s - loss: 1.0678 - accuracy: 0.5419 - val_loss: 1.1429 - val_accuracy: 0.5031\n",
            "Epoch 5/40\n",
            "1730/1730 - 9s - loss: 1.0372 - accuracy: 0.5586 - val_loss: 1.1580 - val_accuracy: 0.4867\n",
            "Epoch 6/40\n",
            "1730/1730 - 10s - loss: 1.0051 - accuracy: 0.5756 - val_loss: 1.1747 - val_accuracy: 0.4880\n",
            "Epoch 7/40\n",
            "1730/1730 - 10s - loss: 0.9719 - accuracy: 0.5935 - val_loss: 1.2090 - val_accuracy: 0.4863\n",
            "\n",
            "En la epoca 7 la precision de validación dejó de mejorar.\n"
          ],
          "name": "stdout"
        }
      ]
    },
    {
      "cell_type": "markdown",
      "metadata": {
        "id": "K0YQhVzoaLQL",
        "colab_type": "text"
      },
      "source": [
        "## Graficamos"
      ]
    },
    {
      "cell_type": "code",
      "metadata": {
        "id": "Xn7rCBByaOll",
        "colab_type": "code",
        "outputId": "212bacec-9749-4ec7-83d9-7860c66ea20b",
        "colab": {
          "base_uri": "https://localhost:8080/",
          "height": 51
        }
      },
      "source": [
        "string='accuracy'\n",
        "print(history.history[string])\n",
        "print(history.history['val_'+string])"
      ],
      "execution_count": 0,
      "outputs": [
        {
          "output_type": "stream",
          "text": [
            "[0.46470651030540466, 0.5170232653617859, 0.5339200496673584, 0.5419618487358093, 0.5499494075775146]\n",
            "[0.49129021167755127, 0.5045175552368164, 0.5026382207870483, 0.5000361204147339, 0.495771586894989]\n"
          ],
          "name": "stdout"
        }
      ]
    },
    {
      "cell_type": "code",
      "metadata": {
        "colab_type": "code",
        "id": "dQ0BX2apXS9u",
        "outputId": "c4004a7f-8710-44a0-80b6-d178d71a6307",
        "colab": {
          "base_uri": "https://localhost:8080/",
          "height": 573
        }
      },
      "source": [
        "def plot_graphs(history, string):\n",
        "  plt.title(string+' con 3 epochs')\n",
        "  plt.plot(history.history[string])\n",
        "  plt.plot(history.history['val_'+string])\n",
        "  plt.xlabel(\"Epochs\")\n",
        "  plt.ylabel(string)\n",
        "  plt.legend([string, 'val_'+string])\n",
        "  plt.show()\n",
        "  \n",
        "plot_graphs(history, \"accuracy\")\n",
        "plot_graphs(history, \"loss\")"
      ],
      "execution_count": 0,
      "outputs": [
        {
          "output_type": "display_data",
          "data": {
            "image/png": "[encoded data removed]",
            "text/plain": [
              "<Figure size 432x288 with 1 Axes>"
            ]
          },
          "metadata": {
            "tags": [],
            "needs_background": "light"
          }
        },
        {
          "output_type": "display_data",
          "data": {
            "image/png": "[encoded data removed]",
            "text/plain": [
              "<Figure size 432x288 with 1 Axes>"
            ]
          },
          "metadata": {
            "tags": [],
            "needs_background": "light"
          }
        }
      ]
    },
    {
      "cell_type": "code",
      "metadata": {
        "colab_type": "code",
        "id": "w7Xc-uWxXhML",
        "colab": {}
      },
      "source": [
        "#convierte palabras en texto (NO LO USAMOS AÚN)\n",
        "reverse_word_index = dict([(value, key) for (key, value) in word_index.items()])\n",
        "\n",
        "def decode_sentence(text):\n",
        "    return ' '.join([reverse_word_index.get(i, '?') for i in text])\n",
        "\n",
        "decode_sentence([862, 54])"
      ],
      "execution_count": 0,
      "outputs": []
    },
    {
      "cell_type": "code",
      "metadata": {
        "colab_type": "code",
        "id": "OhnFA_TDXrih",
        "colab": {}
      },
      "source": [
        "#Pesos de la primera capa\n",
        "e = model.layers[0]\n",
        "weights = e.get_weights()[0]\n",
        "print(weights.shape) # shape: (vocab_size, embedding_dim)\n",
        "\n",
        "# Expected output\n",
        "# (1000, 16)"
      ],
      "execution_count": 0,
      "outputs": []
    },
    {
      "cell_type": "code",
      "metadata": {
        "id": "SHeoADFtaX0P",
        "colab_type": "code",
        "colab": {}
      },
      "source": [
        "weights"
      ],
      "execution_count": 0,
      "outputs": []
    },
    {
      "cell_type": "markdown",
      "metadata": {
        "id": "oyMnH7jUaabc",
        "colab_type": "text"
      },
      "source": [
        "## funcion clasificadora"
      ]
    },
    {
      "cell_type": "code",
      "metadata": {
        "id": "8It73iQUaeyA",
        "colab_type": "code",
        "colab": {}
      },
      "source": [
        "validation_sentences[:2]"
      ],
      "execution_count": 0,
      "outputs": []
    },
    {
      "cell_type": "code",
      "metadata": {
        "id": "3I7Em3Lmafhe",
        "colab_type": "code",
        "colab": {}
      },
      "source": [
        "sq = model.predict_classes(validation_padded[:2])\n",
        "sq"
      ],
      "execution_count": 0,
      "outputs": []
    },
    {
      "cell_type": "code",
      "metadata": {
        "id": "DWlPkmnkaiLo",
        "colab_type": "code",
        "colab": {}
      },
      "source": [
        "label_tokenizer.sequences_to_texts([sq])"
      ],
      "execution_count": 0,
      "outputs": []
    },
    {
      "cell_type": "code",
      "metadata": {
        "id": "tZoQ6dLEakv9",
        "colab_type": "code",
        "colab": {}
      },
      "source": [
        "def classifier (sentence): \n",
        "  sentences = []\n",
        "  sentence_l = re.sub(' +', ' ',sentence.lower())\n",
        "  sentence = ''.join(c for c in sentence_l if c in printable)\n",
        "  # preprocess stopwords\n",
        "  for word in stopwords:\n",
        "    token = \" \" + word + \" \"\n",
        "    sentence = sentence.replace(token, \" \")\n",
        "  sentences.append(sentence)\n",
        "\n",
        "  sentences = tokenizer.texts_to_sequences(sentences) #transforms each text in texts to a sequence of integers\n",
        "  sentences_padded = np.array(pad_sequences(sentences, padding=padding_type, maxlen=max_length))\n",
        "\n",
        "  #prob = model.predict(sentences_padded)\n",
        "  prediction = model.predict_classes(sentences_padded)\n",
        "  prediction = label_tokenizer.sequences_to_texts([prediction])\n",
        "\n",
        "  return prediction"
      ],
      "execution_count": 0,
      "outputs": []
    },
    {
      "cell_type": "code",
      "metadata": {
        "id": "u_SqQX2talns",
        "colab_type": "code",
        "colab": {}
      },
      "source": [
        "classifier('are you sure lord')"
      ],
      "execution_count": 0,
      "outputs": []
    },
    {
      "cell_type": "code",
      "metadata": {
        "id": "XYpl7SD3al7X",
        "colab_type": "code",
        "colab": {}
      },
      "source": [
        "classifier('can his funeral be on a school day')"
      ],
      "execution_count": 0,
      "outputs": []
    },
    {
      "cell_type": "code",
      "metadata": {
        "id": "K0P7mwFJapkm",
        "colab_type": "code",
        "colab": {}
      },
      "source": [
        "classifier(\"We should go to the bar\")"
      ],
      "execution_count": 0,
      "outputs": []
    },
    {
      "cell_type": "markdown",
      "metadata": {
        "id": "VtgyWMk9asgv",
        "colab_type": "text"
      },
      "source": [
        "## exportar archivos"
      ]
    },
    {
      "cell_type": "code",
      "metadata": {
        "colab_type": "code",
        "id": "_POzcWWAXudL",
        "colab": {}
      },
      "source": [
        "import io\n",
        "\n",
        "out_v = io.open('vecs.tsv', 'w', encoding='utf-8')\n",
        "out_m = io.open('meta.tsv', 'w', encoding='utf-8')\n",
        "for word_num in range(1, vocab_size):\n",
        "  word = reverse_word_index[word_num]\n",
        "  embeddings = weights[word_num]\n",
        "  out_m.write(word + \"\\n\")\n",
        "  out_v.write('\\t'.join([str(x) for x in embeddings]) + \"\\n\")\n",
        "out_v.close()\n",
        "out_m.close()"
      ],
      "execution_count": 0,
      "outputs": []
    },
    {
      "cell_type": "code",
      "metadata": {
        "colab_type": "code",
        "id": "VmqpQMZ_XyOa",
        "colab": {}
      },
      "source": [
        "try:\n",
        "  from google.colab import files\n",
        "except ImportError:\n",
        "  pass\n",
        "else:\n",
        "  files.download('vecs.tsv')\n",
        "  files.download('meta.tsv')"
      ],
      "execution_count": 0,
      "outputs": []
    },
    {
      "cell_type": "markdown",
      "metadata": {
        "id": "6Tz7DnMQYuBp",
        "colab_type": "text"
      },
      "source": [
        "## Referencias\n",
        "- Aprendizaje profundo, [Ciencia de datos](https://github.com/AprendizajeProfundo/Ciencia-de-Datos/tree/master/Cuadernos)"
      ]
    }
  ]
}