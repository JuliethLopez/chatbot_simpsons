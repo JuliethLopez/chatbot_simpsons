{
  "nbformat": 4,
  "nbformat_minor": 0,
  "metadata": {
    "accelerator": "GPU",
    "colab": {
      "name": "BBC_Text.ipynb",
      "provenance": [],
      "collapsed_sections": []
    },
    "kernelspec": {
      "display_name": "Python 3",
      "language": "python",
      "name": "python3"
    },
    "language_info": {
      "codemirror_mode": {
        "name": "ipython",
        "version": 3
      },
      "file_extension": ".py",
      "mimetype": "text/x-python",
      "name": "python",
      "nbconvert_exporter": "python",
      "pygments_lexer": "ipython3",
      "version": "3.7.4"
    }
  },
  "cells": [
    {
      "cell_type": "markdown",
      "metadata": {
        "id": "UMKMq626ax3b",
        "colab_type": "text"
      },
      "source": [
        "# Clasificación usando Lenguaje Natural"
      ]
    },
    {
      "cell_type": "code",
      "metadata": {
        "colab_type": "code",
        "id": "GSfreYDvYt3M",
        "outputId": "8f3f6d95-4ae2-4e91-8a2d-54dc45093c21",
        "colab": {
          "base_uri": "https://localhost:8080/",
          "height": 34
        }
      },
      "source": [
        "#librerias\n",
        "import csv\n",
        "import tensorflow as tf\n",
        "import numpy as np\n",
        "import matplotlib.pyplot as plt\n",
        "import pandas as pd\n",
        "import matplotlib.pylab as plt\n",
        "import nltk\n",
        "from nltk import word_tokenize\n",
        "from nltk.util import ngrams\n",
        "from tensorflow.keras.preprocessing.text import Tokenizer\n",
        "from tensorflow.keras.preprocessing.sequence import pad_sequences\n",
        "import numpy as np\n",
        "from keras import layers, backend"
      ],
      "execution_count": 0,
      "outputs": [
        {
          "output_type": "stream",
          "text": [
            "Using TensorFlow backend.\n"
          ],
          "name": "stderr"
        }
      ]
    },
    {
      "cell_type": "code",
      "metadata": {
        "id": "7SHJ2Qb5ljbU",
        "colab_type": "code",
        "outputId": "c5987907-5c4e-47b2-9414-3bbfe3931a0e",
        "colab": {
          "base_uri": "https://localhost:8080/",
          "height": 51
        }
      },
      "source": [
        "# pip install nltk"
      ],
      "execution_count": 0,
      "outputs": [
        {
          "output_type": "stream",
          "text": [
            "Requirement already satisfied: nltk in /usr/local/lib/python3.6/dist-packages (3.2.5)\n",
            "Requirement already satisfied: six in /usr/local/lib/python3.6/dist-packages (from nltk) (1.12.0)\n"
          ],
          "name": "stdout"
        }
      ]
    },
    {
      "cell_type": "code",
      "metadata": {
        "id": "fFh7bJC4lIG1",
        "colab_type": "code",
        "outputId": "e757bf9a-eb5d-499a-cbd4-e8ee82d8d403",
        "colab": {
          "base_uri": "https://localhost:8080/",
          "height": 1000
        }
      },
      "source": [
        "nltk.download()"
      ],
      "execution_count": 0,
      "outputs": [
        {
          "output_type": "stream",
          "text": [
            "NLTK Downloader\n",
            "---------------------------------------------------------------------------\n",
            "    d) Download   l) List    u) Update   c) Config   h) Help   q) Quit\n",
            "---------------------------------------------------------------------------\n",
            "Downloader> d\n",
            "\n",
            "Download which package (l=list; x=cancel)?\n",
            "  Identifier> all\n",
            "    Downloading collection 'all'\n",
            "       | \n",
            "       | Downloading package abc to /root/nltk_data...\n",
            "       |   Package abc is already up-to-date!\n",
            "       | Downloading package alpino to /root/nltk_data...\n",
            "       |   Package alpino is already up-to-date!\n",
            "       | Downloading package biocreative_ppi to /root/nltk_data...\n",
            "       |   Package biocreative_ppi is already up-to-date!\n",
            "       | Downloading package brown to /root/nltk_data...\n",
            "       |   Package brown is already up-to-date!\n",
            "       | Downloading package brown_tei to /root/nltk_data...\n",
            "       |   Package brown_tei is already up-to-date!\n",
            "       | Downloading package cess_cat to /root/nltk_data...\n",
            "       |   Package cess_cat is already up-to-date!\n",
            "       | Downloading package cess_esp to /root/nltk_data...\n",
            "       |   Package cess_esp is already up-to-date!\n",
            "       | Downloading package chat80 to /root/nltk_data...\n",
            "       |   Package chat80 is already up-to-date!\n",
            "       | Downloading package city_database to /root/nltk_data...\n",
            "       |   Package city_database is already up-to-date!\n",
            "       | Downloading package cmudict to /root/nltk_data...\n",
            "       |   Package cmudict is already up-to-date!\n",
            "       | Downloading package comparative_sentences to\n",
            "       |     /root/nltk_data...\n",
            "       |   Package comparative_sentences is already up-to-date!\n",
            "       | Downloading package comtrans to /root/nltk_data...\n",
            "       |   Package comtrans is already up-to-date!\n",
            "       | Downloading package conll2000 to /root/nltk_data...\n",
            "       |   Package conll2000 is already up-to-date!\n",
            "       | Downloading package conll2002 to /root/nltk_data...\n",
            "       |   Package conll2002 is already up-to-date!\n",
            "       | Downloading package conll2007 to /root/nltk_data...\n",
            "       |   Package conll2007 is already up-to-date!\n",
            "       | Downloading package crubadan to /root/nltk_data...\n",
            "       |   Package crubadan is already up-to-date!\n",
            "       | Downloading package dependency_treebank to /root/nltk_data...\n",
            "       |   Package dependency_treebank is already up-to-date!\n",
            "       | Downloading package dolch to /root/nltk_data...\n",
            "       |   Package dolch is already up-to-date!\n",
            "       | Downloading package europarl_raw to /root/nltk_data...\n",
            "       |   Package europarl_raw is already up-to-date!\n",
            "       | Downloading package floresta to /root/nltk_data...\n",
            "       |   Package floresta is already up-to-date!\n",
            "       | Downloading package framenet_v15 to /root/nltk_data...\n",
            "       |   Package framenet_v15 is already up-to-date!\n",
            "       | Downloading package framenet_v17 to /root/nltk_data...\n",
            "       |   Package framenet_v17 is already up-to-date!\n",
            "       | Downloading package gazetteers to /root/nltk_data...\n",
            "       |   Package gazetteers is already up-to-date!\n",
            "       | Downloading package genesis to /root/nltk_data...\n",
            "       |   Package genesis is already up-to-date!\n",
            "       | Downloading package gutenberg to /root/nltk_data...\n",
            "       |   Package gutenberg is already up-to-date!\n",
            "       | Downloading package ieer to /root/nltk_data...\n",
            "       |   Package ieer is already up-to-date!\n",
            "       | Downloading package inaugural to /root/nltk_data...\n",
            "       |   Package inaugural is already up-to-date!\n",
            "       | Downloading package indian to /root/nltk_data...\n",
            "       |   Package indian is already up-to-date!\n",
            "       | Downloading package jeita to /root/nltk_data...\n",
            "       |   Package jeita is already up-to-date!\n",
            "       | Downloading package kimmo to /root/nltk_data...\n",
            "       |   Package kimmo is already up-to-date!\n",
            "       | Downloading package knbc to /root/nltk_data...\n",
            "       |   Package knbc is already up-to-date!\n",
            "       | Downloading package lin_thesaurus to /root/nltk_data...\n",
            "       |   Package lin_thesaurus is already up-to-date!\n",
            "       | Downloading package mac_morpho to /root/nltk_data...\n",
            "       |   Package mac_morpho is already up-to-date!\n",
            "       | Downloading package machado to /root/nltk_data...\n",
            "       |   Package machado is already up-to-date!\n",
            "       | Downloading package masc_tagged to /root/nltk_data...\n",
            "       |   Package masc_tagged is already up-to-date!\n",
            "       | Downloading package moses_sample to /root/nltk_data...\n",
            "       |   Package moses_sample is already up-to-date!\n",
            "       | Downloading package movie_reviews to /root/nltk_data...\n",
            "       |   Package movie_reviews is already up-to-date!\n",
            "       | Downloading package names to /root/nltk_data...\n",
            "       |   Package names is already up-to-date!\n",
            "       | Downloading package nombank.1.0 to /root/nltk_data...\n",
            "       |   Package nombank.1.0 is already up-to-date!\n",
            "       | Downloading package nps_chat to /root/nltk_data...\n",
            "       |   Package nps_chat is already up-to-date!\n",
            "       | Downloading package omw to /root/nltk_data...\n",
            "       |   Package omw is already up-to-date!\n",
            "       | Downloading package opinion_lexicon to /root/nltk_data...\n",
            "       |   Package opinion_lexicon is already up-to-date!\n",
            "       | Downloading package paradigms to /root/nltk_data...\n",
            "       |   Package paradigms is already up-to-date!\n",
            "       | Downloading package pil to /root/nltk_data...\n",
            "       |   Package pil is already up-to-date!\n",
            "       | Downloading package pl196x to /root/nltk_data...\n",
            "       |   Package pl196x is already up-to-date!\n",
            "       | Downloading package ppattach to /root/nltk_data...\n",
            "       |   Package ppattach is already up-to-date!\n",
            "       | Downloading package problem_reports to /root/nltk_data...\n",
            "       |   Package problem_reports is already up-to-date!\n",
            "       | Downloading package propbank to /root/nltk_data...\n",
            "       |   Package propbank is already up-to-date!\n",
            "       | Downloading package ptb to /root/nltk_data...\n",
            "       |   Package ptb is already up-to-date!\n",
            "       | Downloading package product_reviews_1 to /root/nltk_data...\n",
            "       |   Package product_reviews_1 is already up-to-date!\n",
            "       | Downloading package product_reviews_2 to /root/nltk_data...\n",
            "       |   Package product_reviews_2 is already up-to-date!\n",
            "       | Downloading package pros_cons to /root/nltk_data...\n",
            "       |   Package pros_cons is already up-to-date!\n",
            "       | Downloading package qc to /root/nltk_data...\n",
            "       |   Package qc is already up-to-date!\n",
            "       | Downloading package reuters to /root/nltk_data...\n",
            "       |   Package reuters is already up-to-date!\n",
            "       | Downloading package rte to /root/nltk_data...\n",
            "       |   Package rte is already up-to-date!\n",
            "       | Downloading package semcor to /root/nltk_data...\n",
            "       |   Package semcor is already up-to-date!\n",
            "       | Downloading package senseval to /root/nltk_data...\n",
            "       |   Package senseval is already up-to-date!\n",
            "       | Downloading package sentiwordnet to /root/nltk_data...\n",
            "       |   Package sentiwordnet is already up-to-date!\n",
            "       | Downloading package sentence_polarity to /root/nltk_data...\n",
            "       |   Package sentence_polarity is already up-to-date!\n",
            "       | Downloading package shakespeare to /root/nltk_data...\n",
            "       |   Package shakespeare is already up-to-date!\n",
            "       | Downloading package sinica_treebank to /root/nltk_data...\n",
            "       |   Package sinica_treebank is already up-to-date!\n",
            "       | Downloading package smultron to /root/nltk_data...\n",
            "       |   Package smultron is already up-to-date!\n",
            "       | Downloading package state_union to /root/nltk_data...\n",
            "       |   Package state_union is already up-to-date!\n",
            "       | Downloading package stopwords to /root/nltk_data...\n",
            "       |   Package stopwords is already up-to-date!\n",
            "       | Downloading package subjectivity to /root/nltk_data...\n",
            "       |   Package subjectivity is already up-to-date!\n",
            "       | Downloading package swadesh to /root/nltk_data...\n",
            "       |   Package swadesh is already up-to-date!\n",
            "       | Downloading package switchboard to /root/nltk_data...\n",
            "       |   Package switchboard is already up-to-date!\n",
            "       | Downloading package timit to /root/nltk_data...\n",
            "       |   Package timit is already up-to-date!\n",
            "       | Downloading package toolbox to /root/nltk_data...\n",
            "       |   Package toolbox is already up-to-date!\n",
            "       | Downloading package treebank to /root/nltk_data...\n",
            "       |   Package treebank is already up-to-date!\n",
            "       | Downloading package twitter_samples to /root/nltk_data...\n",
            "       |   Package twitter_samples is already up-to-date!\n",
            "       | Downloading package udhr to /root/nltk_data...\n",
            "       |   Package udhr is already up-to-date!\n",
            "       | Downloading package udhr2 to /root/nltk_data...\n",
            "       |   Package udhr2 is already up-to-date!\n",
            "       | Downloading package unicode_samples to /root/nltk_data...\n",
            "       |   Package unicode_samples is already up-to-date!\n",
            "       | Downloading package universal_treebanks_v20 to\n",
            "       |     /root/nltk_data...\n",
            "       |   Package universal_treebanks_v20 is already up-to-date!\n",
            "       | Downloading package verbnet to /root/nltk_data...\n",
            "       |   Package verbnet is already up-to-date!\n",
            "       | Downloading package verbnet3 to /root/nltk_data...\n",
            "       |   Package verbnet3 is already up-to-date!\n",
            "       | Downloading package webtext to /root/nltk_data...\n",
            "       |   Package webtext is already up-to-date!\n",
            "       | Downloading package wordnet to /root/nltk_data...\n",
            "       |   Package wordnet is already up-to-date!\n",
            "       | Downloading package wordnet_ic to /root/nltk_data...\n",
            "       |   Package wordnet_ic is already up-to-date!\n",
            "       | Downloading package words to /root/nltk_data...\n",
            "       |   Package words is already up-to-date!\n",
            "       | Downloading package ycoe to /root/nltk_data...\n",
            "       |   Package ycoe is already up-to-date!\n",
            "       | Downloading package rslp to /root/nltk_data...\n",
            "       |   Package rslp is already up-to-date!\n",
            "       | Downloading package maxent_treebank_pos_tagger to\n",
            "       |     /root/nltk_data...\n",
            "       |   Package maxent_treebank_pos_tagger is already up-to-date!\n",
            "       | Downloading package universal_tagset to /root/nltk_data...\n",
            "       |   Package universal_tagset is already up-to-date!\n",
            "       | Downloading package maxent_ne_chunker to /root/nltk_data...\n",
            "       |   Package maxent_ne_chunker is already up-to-date!\n",
            "       | Downloading package punkt to /root/nltk_data...\n",
            "       |   Package punkt is already up-to-date!\n",
            "       | Downloading package book_grammars to /root/nltk_data...\n",
            "       |   Package book_grammars is already up-to-date!\n",
            "       | Downloading package sample_grammars to /root/nltk_data...\n",
            "       |   Package sample_grammars is already up-to-date!\n",
            "       | Downloading package spanish_grammars to /root/nltk_data...\n",
            "       |   Package spanish_grammars is already up-to-date!\n",
            "       | Downloading package basque_grammars to /root/nltk_data...\n",
            "       |   Package basque_grammars is already up-to-date!\n",
            "       | Downloading package large_grammars to /root/nltk_data...\n",
            "       |   Package large_grammars is already up-to-date!\n",
            "       | Downloading package tagsets to /root/nltk_data...\n",
            "       |   Package tagsets is already up-to-date!\n",
            "       | Downloading package snowball_data to /root/nltk_data...\n",
            "       |   Package snowball_data is already up-to-date!\n",
            "       | Downloading package bllip_wsj_no_aux to /root/nltk_data...\n",
            "       |   Package bllip_wsj_no_aux is already up-to-date!\n",
            "       | Downloading package word2vec_sample to /root/nltk_data...\n",
            "       |   Package word2vec_sample is already up-to-date!\n",
            "       | Downloading package panlex_swadesh to /root/nltk_data...\n",
            "       |   Package panlex_swadesh is already up-to-date!\n",
            "       | Downloading package mte_teip5 to /root/nltk_data...\n",
            "       |   Package mte_teip5 is already up-to-date!\n",
            "       | Downloading package averaged_perceptron_tagger to\n",
            "       |     /root/nltk_data...\n",
            "       |   Package averaged_perceptron_tagger is already up-to-date!\n",
            "       | Downloading package averaged_perceptron_tagger_ru to\n",
            "       |     /root/nltk_data...\n",
            "       |   Package averaged_perceptron_tagger_ru is already up-to-\n",
            "       |       date!\n",
            "       | Downloading package perluniprops to /root/nltk_data...\n",
            "       |   Package perluniprops is already up-to-date!\n",
            "       | Downloading package nonbreaking_prefixes to\n",
            "       |     /root/nltk_data...\n",
            "       |   Package nonbreaking_prefixes is already up-to-date!\n",
            "       | Downloading package vader_lexicon to /root/nltk_data...\n",
            "       |   Package vader_lexicon is already up-to-date!\n",
            "       | Downloading package porter_test to /root/nltk_data...\n",
            "       |   Package porter_test is already up-to-date!\n",
            "       | Downloading package wmt15_eval to /root/nltk_data...\n",
            "       |   Package wmt15_eval is already up-to-date!\n",
            "       | Downloading package mwa_ppdb to /root/nltk_data...\n",
            "       |   Package mwa_ppdb is already up-to-date!\n",
            "       | \n",
            "     Done downloading collection all\n",
            "\n",
            "---------------------------------------------------------------------------\n",
            "    d) Download   l) List    u) Update   c) Config   h) Help   q) Quit\n",
            "---------------------------------------------------------------------------\n",
            "Downloader> 1\n",
            "Command '1' unrecognized\n",
            "\n",
            "---------------------------------------------------------------------------\n",
            "    d) Download   l) List    u) Update   c) Config   h) Help   q) Quit\n",
            "---------------------------------------------------------------------------\n",
            "Downloader> q\n"
          ],
          "name": "stdout"
        },
        {
          "output_type": "execute_result",
          "data": {
            "text/plain": [
              "True"
            ]
          },
          "metadata": {
            "tags": []
          },
          "execution_count": 72
        }
      ]
    },
    {
      "cell_type": "code",
      "metadata": {
        "id": "qQk5pgfGly6V",
        "colab_type": "code",
        "colab": {}
      },
      "source": [
        "from nltk.tokenize import sent_tokenize"
      ],
      "execution_count": 0,
      "outputs": []
    },
    {
      "cell_type": "code",
      "metadata": {
        "id": "2OlVgiv1l2AE",
        "colab_type": "code",
        "outputId": "8722ceaf-39d7-4d8a-82a9-43f9a485b9f6",
        "colab": {
          "base_uri": "https://localhost:8080/",
          "height": 68
        }
      },
      "source": [
        "nltk.download('punkt')"
      ],
      "execution_count": 0,
      "outputs": [
        {
          "output_type": "stream",
          "text": [
            "[nltk_data] Downloading package punkt to /root/nltk_data...\n",
            "[nltk_data]   Package punkt is already up-to-date!\n"
          ],
          "name": "stdout"
        },
        {
          "output_type": "execute_result",
          "data": {
            "text/plain": [
              "True"
            ]
          },
          "metadata": {
            "tags": []
          },
          "execution_count": 3
        }
      ]
    },
    {
      "cell_type": "code",
      "metadata": {
        "id": "DIvXeFflmGJE",
        "colab_type": "code",
        "colab": {}
      },
      "source": [
        "from nltk.tokenize import word_tokenize, regexp_tokenize"
      ],
      "execution_count": 0,
      "outputs": []
    },
    {
      "cell_type": "markdown",
      "metadata": {
        "id": "dLUigGjXYt3r",
        "colab_type": "text"
      },
      "source": [
        "# Define algunas características iniciales"
      ]
    },
    {
      "cell_type": "code",
      "metadata": {
        "colab_type": "code",
        "id": "EYo6A4v5ZABQ",
        "colab": {}
      },
      "source": [
        "vocab_size = 37069 # número de palabras que integrarán el vocabulario\n",
        "embedding_dim = 32 # dimensión del embeding de las palabras\n",
        "max_length = 120  # longitud máxima de una oración (sentence filtrada con stopwords)\n",
        "trunc_type='post' # donde truncar una oración (sentence, filtrada con stopwords)\n",
        "padding_type='post'# donde hacer el padding (agregar ceros) en una oración (sentence, filtrada con stopwords)\n",
        "oov_tok = \"<OOV>\"  # token para las palabras que queden fuera del vocabulario\n",
        "training_portion = .8  # porcentaje de datos para entrenamiento"
      ],
      "execution_count": 0,
      "outputs": []
    },
    {
      "cell_type": "code",
      "metadata": {
        "colab_type": "code",
        "id": "iU1qq3_SZBx_",
        "outputId": "7d3021b0-75b9-4c39-ecbc-1bbc81becf03",
        "colab": {
          "base_uri": "https://localhost:8080/",
          "height": 34
        }
      },
      "source": [
        "complete_sentences = []\n",
        "complete_lines = [] \n",
        "sentences = []\n",
        "labels = [] # preprocesed labels\n",
        "\n",
        "stopwords = []\n",
        "print(len(stopwords))"
      ],
      "execution_count": 0,
      "outputs": [
        {
          "output_type": "stream",
          "text": [
            "0\n"
          ],
          "name": "stdout"
        }
      ]
    },
    {
      "cell_type": "code",
      "metadata": {
        "id": "9QFugJkmYt4n",
        "colab_type": "code",
        "outputId": "f92e8eff-56ef-4825-92cb-e10d73260eda",
        "colab": {
          "base_uri": "https://localhost:8080/",
          "height": 68
        }
      },
      "source": [
        "import string\n",
        "import numpy as np\n",
        "\n",
        "a = np.array([32]) # space\n",
        "#b = np.array(range(65,91)) # uppercase\n",
        "c = np.array(range(97,123)) # lowercase\n",
        "printab = np.hstack((a,c))\n",
        "\n",
        "printable = np.array([chr(i) for i in printab])   \n",
        "printable\n",
        "\n",
        "#ascci_to_char = dict((printab[i], printable[i]) for i in range(len(printable)))"
      ],
      "execution_count": 0,
      "outputs": [
        {
          "output_type": "execute_result",
          "data": {
            "text/plain": [
              "array([' ', 'a', 'b', 'c', 'd', 'e', 'f', 'g', 'h', 'i', 'j', 'k', 'l',\n",
              "       'm', 'n', 'o', 'p', 'q', 'r', 's', 't', 'u', 'v', 'w', 'x', 'y',\n",
              "       'z'], dtype='<U1')"
            ]
          },
          "metadata": {
            "tags": []
          },
          "execution_count": 7
        }
      ]
    },
    {
      "cell_type": "code",
      "metadata": {
        "colab_type": "code",
        "id": "eutB2xMiZD0e",
        "outputId": "d5c9b8b2-1b42-48d0-9c34-69e4bf93dda5",
        "colab": {
          "base_uri": "https://localhost:8080/",
          "height": 85
        }
      },
      "source": [
        "#lectura de los datos\n",
        "import string\n",
        "import re #regular expresions\n",
        "# abre el archivo de datos y lo trata como un archivo csv\n",
        "file = open('DFSMS.csv', 'r')\n",
        "with file as csvfile:\n",
        "    reader = csv.reader(csvfile, delimiter=',')\n",
        "    next(reader)\n",
        "    for row in reader:\n",
        "        # preprocess label\n",
        "        #label_l = ' '.join(row[0].split()).lower().replace(' ','_') # lower case ans eliminate multiple spaces\n",
        "        label_l = re.sub(' +', ' ',row[0].lower()) # lower case ans eliminate multiple spaces\n",
        "        if (len(label_l)>2): # drop with empty label\n",
        "            label = ''.join(c for c in label_l if c in printable)# filter only printable characters\n",
        "            label = label.replace(' ','_')\n",
        "            labels.append(label)\n",
        "            # preprocess sentence\n",
        "            #sentence_l = ' '.join(row[1].split()).lower().replace(' ','_') # lower case ans eliminate multiple spaces\n",
        "            sentence_l = re.sub(' +', ' ',row[1].lower())\n",
        "            sentence = ''.join(c for c in sentence_l if c in printable)\n",
        "            complete_lines.append(row[0] + ': '+ row[1])\n",
        "            complete_sentences.append(sentence)\n",
        "            # preprocess stopwords\n",
        "            for word in stopwords:\n",
        "                token = \" \" + word + \" \"\n",
        "                sentence = sentence.replace(token, \" \")\n",
        "            sentences.append(sentence)\n",
        " \n",
        "\n",
        "# resumen de la lectura            \n",
        "print(len(labels))\n",
        "print(len(complete_sentences))\n",
        "print(len(complete_lines))\n",
        "print(len(sentences))\n",
        "# Expected Output\n",
        "# 158314"
      ],
      "execution_count": 0,
      "outputs": [
        {
          "output_type": "stream",
          "text": [
            "69171\n",
            "69171\n",
            "69171\n",
            "69171\n"
          ],
          "name": "stdout"
        }
      ]
    },
    {
      "cell_type": "code",
      "metadata": {
        "colab_type": "code",
        "outputId": "32473385-aed5-490d-a52a-d17bf0512697",
        "id": "mHP5HqP4Yt5U",
        "colab": {
          "base_uri": "https://localhost:8080/",
          "height": 153
        }
      },
      "source": [
        "# primera linea\n",
        "print(labels[0]+'\\n')\n",
        "print(complete_sentences[0]+'\\n')\n",
        "print(complete_lines[0]+'\\n')\n",
        "print(sentences[0]+'\\n')\n",
        "# Expected Output\n",
        "# 158314\n",
        "# 158314"
      ],
      "execution_count": 0,
      "outputs": [
        {
          "output_type": "stream",
          "text": [
            "lisa_simpson\n",
            "\n",
            "wheres mr bergstrom\n",
            "\n",
            "Lisa Simpson: Where's Mr. Bergstrom?\n",
            "\n",
            "wheres mr bergstrom\n",
            "\n"
          ],
          "name": "stdout"
        }
      ]
    },
    {
      "cell_type": "code",
      "metadata": {
        "id": "djFPe1k6pOp9",
        "colab_type": "code",
        "outputId": "286d484a-e515-41e4-a83a-61091ef8875f",
        "colab": {
          "base_uri": "https://localhost:8080/",
          "height": 281
        }
      },
      "source": [
        "#Gráfico de barras de numero de frases por personaje\n",
        "frec = pd.value_counts(labels)\n",
        "plot = frec.plot(kind='barh',title='Numero de frases por personaje',color=['deepskyblue','orangered','darkkhaki','gold'])"
      ],
      "execution_count": 0,
      "outputs": [
        {
          "output_type": "display_data",
          "data": {
            "image/png": "[encoded data removed]",
            "text/plain": [
              "<Figure size 432x288 with 1 Axes>"
            ]
          },
          "metadata": {
            "tags": [],
            "needs_background": "light"
          }
        }
      ]
    },
    {
      "cell_type": "code",
      "metadata": {
        "id": "6Vqqx5Q2Yt5q",
        "colab_type": "code",
        "outputId": "e92a68ee-f549-41e2-fae6-74a376c45302",
        "colab": {
          "base_uri": "https://localhost:8080/",
          "height": 85
        }
      },
      "source": [
        "sentences[:4]"
      ],
      "execution_count": 0,
      "outputs": [
        {
          "output_type": "execute_result",
          "data": {
            "text/plain": [
              "['wheres mr bergstrom',\n",
              " 'that life is worth living',\n",
              " 'victory party under the slide',\n",
              " 'mr bergstrom mr bergstrom']"
            ]
          },
          "metadata": {
            "tags": []
          },
          "execution_count": 11
        }
      ]
    },
    {
      "cell_type": "markdown",
      "metadata": {
        "id": "QH4k5vkXYt6B",
        "colab_type": "text"
      },
      "source": [
        "# Separa datos de entrenamiento y validación "
      ]
    },
    {
      "cell_type": "code",
      "metadata": {
        "colab_type": "code",
        "id": "XfdaWh06ZGe3",
        "outputId": "20b271bf-4af3-4e78-fef2-dab3e604c156",
        "colab": {
          "base_uri": "https://localhost:8080/",
          "height": 102
        }
      },
      "source": [
        "train_size = int(len(sentences) * training_portion)\n",
        "\n",
        "train_sentences = sentences[:train_size]\n",
        "train_labels = labels[:train_size]\n",
        "\n",
        "validation_sentences = sentences[train_size:]\n",
        "validation_labels = labels[train_size:]\n",
        "\n",
        "print(train_size)\n",
        "print(len(train_sentences))\n",
        "print(len(train_labels))\n",
        "print(len(validation_sentences))\n",
        "print(len(validation_labels))\n",
        "\n",
        "# Expected output (if training_portion=.8)\n",
        "# 126651 train\n",
        "# 31663 validation"
      ],
      "execution_count": 0,
      "outputs": [
        {
          "output_type": "stream",
          "text": [
            "55336\n",
            "55336\n",
            "55336\n",
            "13835\n",
            "13835\n"
          ],
          "name": "stdout"
        }
      ]
    },
    {
      "cell_type": "code",
      "metadata": {
        "id": "eN2cwKFrZL6v",
        "colab_type": "code",
        "outputId": "c5aee2aa-3219-48cf-a1ab-3c9fb744e629",
        "colab": {
          "base_uri": "https://localhost:8080/",
          "height": 68
        }
      },
      "source": [
        "train_sentences[:3]"
      ],
      "execution_count": 0,
      "outputs": [
        {
          "output_type": "execute_result",
          "data": {
            "text/plain": [
              "['wheres mr bergstrom',\n",
              " 'that life is worth living',\n",
              " 'victory party under the slide']"
            ]
          },
          "metadata": {
            "tags": []
          },
          "execution_count": 13
        }
      ]
    },
    {
      "cell_type": "code",
      "metadata": {
        "id": "Nfk2wm03nVPG",
        "colab_type": "code",
        "outputId": "9ac18e59-1bf1-4215-bc68-e9ef52c46b95",
        "colab": {
          "base_uri": "https://localhost:8080/",
          "height": 34
        }
      },
      "source": [
        "train_labels[:3]"
      ],
      "execution_count": 0,
      "outputs": [
        {
          "output_type": "execute_result",
          "data": {
            "text/plain": [
              "['lisa_simpson', 'lisa_simpson', 'bart_simpson']"
            ]
          },
          "metadata": {
            "tags": []
          },
          "execution_count": 14
        }
      ]
    },
    {
      "cell_type": "code",
      "metadata": {
        "id": "Nos0q123nKks",
        "colab_type": "code",
        "colab": {}
      },
      "source": [
        "wordtk =  ' '.join(train_sentences)"
      ],
      "execution_count": 0,
      "outputs": []
    },
    {
      "cell_type": "code",
      "metadata": {
        "id": "NDnhdpM1nk3J",
        "colab_type": "code",
        "colab": {}
      },
      "source": [
        "tokenstk = regexp_tokenize(wordtk, pattern=\"\\w+\")"
      ],
      "execution_count": 0,
      "outputs": []
    },
    {
      "cell_type": "code",
      "metadata": {
        "id": "VcVViOPkpFh0",
        "colab_type": "code",
        "colab": {}
      },
      "source": [
        "#para generar n-gramas\n",
        "from nltk.util import ngrams\n",
        "trigrama = ngrams(tokenstk,3)\n",
        "trigrama = [ ' '.join(grams) for grams in trigrama]"
      ],
      "execution_count": 0,
      "outputs": []
    },
    {
      "cell_type": "code",
      "metadata": {
        "id": "e1ep8d4qw3-m",
        "colab_type": "code",
        "outputId": "6da378cd-e875-4d81-8788-73e7cd3a4cc8",
        "colab": {
          "base_uri": "https://localhost:8080/",
          "height": 34
        }
      },
      "source": [
        "len(trigrama)"
      ],
      "execution_count": 0,
      "outputs": [
        {
          "output_type": "execute_result",
          "data": {
            "text/plain": [
              "477691"
            ]
          },
          "metadata": {
            "tags": []
          },
          "execution_count": 43
        }
      ]
    },
    {
      "cell_type": "code",
      "metadata": {
        "id": "LeHOcU_QpIDx",
        "colab_type": "code",
        "colab": {}
      },
      "source": [
        "#grafica con los trigramas\n",
        "freq = nltk.FreqDist(trigrama)\n",
        "freqnew = []\n",
        "for key,val in freq.items():\n",
        "  if (val>1):\n",
        "    freqnew.append(str(key))"
      ],
      "execution_count": 0,
      "outputs": []
    },
    {
      "cell_type": "code",
      "metadata": {
        "id": "TzMGVnREwnXl",
        "colab_type": "code",
        "outputId": "4f8c5743-dbdf-4ce1-b584-fa4db532b68b",
        "colab": {
          "base_uri": "https://localhost:8080/",
          "height": 34
        }
      },
      "source": [
        "len(freqnew)"
      ],
      "execution_count": 0,
      "outputs": [
        {
          "output_type": "execute_result",
          "data": {
            "text/plain": [
              "37069"
            ]
          },
          "metadata": {
            "tags": []
          },
          "execution_count": 47
        }
      ]
    },
    {
      "cell_type": "code",
      "metadata": {
        "id": "jJL4xYHVnz9e",
        "colab_type": "code",
        "colab": {}
      },
      "source": [
        "##para generar n-gramas\n",
        "#from nltk.util import ngrams\n",
        "#cuatrigrama = ngrams(tokenstk,4)\n",
        "#cuatrigrama = [ ' '.join(grams) for grams in cuatrigrama]"
      ],
      "execution_count": 0,
      "outputs": []
    },
    {
      "cell_type": "code",
      "metadata": {
        "id": "mH0Ew5dgoHv9",
        "colab_type": "code",
        "colab": {}
      },
      "source": [
        "#grafica con los cuatrigramas\n",
        "#freq = nltk.FreqDist(cuatrigrama)\n",
        "#freq.plot(20, cumulative=False, title = \"4-grama\")"
      ],
      "execution_count": 0,
      "outputs": []
    },
    {
      "cell_type": "code",
      "metadata": {
        "id": "iw4yuF7Xpdte",
        "colab_type": "code",
        "outputId": "82d16d06-9ad4-41e6-887a-bc8445b55659",
        "colab": {
          "base_uri": "https://localhost:8080/",
          "height": 51
        }
      },
      "source": [
        "print(len(trigrama))\n",
        "print(len(cuatrigrama))"
      ],
      "execution_count": 0,
      "outputs": [
        {
          "output_type": "stream",
          "text": [
            "477691\n",
            "477690\n"
          ],
          "name": "stdout"
        }
      ]
    },
    {
      "cell_type": "markdown",
      "metadata": {
        "id": "yoa0aOJzYt6c",
        "colab_type": "text"
      },
      "source": [
        "# crea el vocabulario"
      ]
    },
    {
      "cell_type": "code",
      "metadata": {
        "id": "cZ1dVUk17LgH",
        "colab_type": "code",
        "colab": {}
      },
      "source": [
        ""
      ],
      "execution_count": 0,
      "outputs": []
    },
    {
      "cell_type": "code",
      "metadata": {
        "colab_type": "code",
        "id": "ULzA8xhwZI22",
        "outputId": "f60296af-93f3-4355-85d7-ad93f8c29b75",
        "colab": {
          "base_uri": "https://localhost:8080/",
          "height": 340
        }
      },
      "source": [
        "tokenizer = Tokenizer(num_words = vocab_size, oov_token=oov_tok,split= ' ')\n",
        "tokenizer.fit_on_texts(train_sentences)\n",
        "word_index = tokenizer.word_index\n",
        "\n",
        "train_sequences = tokenizer.texts_to_sequences(train_sentences)\n",
        "train_padded = np.array(pad_sequences(train_sequences, padding=padding_type, maxlen=max_length))"
      ],
      "execution_count": 0,
      "outputs": [
        {
          "output_type": "error",
          "ename": "TypeError",
          "evalue": "ignored",
          "traceback": [
            "\u001b[0;31m---------------------------------------------------------------------------\u001b[0m",
            "\u001b[0;31mTypeError\u001b[0m                                 Traceback (most recent call last)",
            "\u001b[0;32m<ipython-input-78-fc78144e0c39>\u001b[0m in \u001b[0;36m<module>\u001b[0;34m()\u001b[0m\n\u001b[1;32m      4\u001b[0m \u001b[0;34m\u001b[0m\u001b[0m\n\u001b[1;32m      5\u001b[0m \u001b[0mtrain_sequences\u001b[0m \u001b[0;34m=\u001b[0m \u001b[0mtokenizer\u001b[0m\u001b[0;34m.\u001b[0m\u001b[0mtexts_to_sequences\u001b[0m\u001b[0;34m(\u001b[0m\u001b[0mtrain_sentences\u001b[0m\u001b[0;34m)\u001b[0m\u001b[0;34m\u001b[0m\u001b[0;34m\u001b[0m\u001b[0m\n\u001b[0;32m----> 6\u001b[0;31m \u001b[0mtrain_padded\u001b[0m \u001b[0;34m=\u001b[0m \u001b[0mnp\u001b[0m\u001b[0;34m.\u001b[0m\u001b[0marray\u001b[0m\u001b[0;34m(\u001b[0m\u001b[0mpad_sequences\u001b[0m\u001b[0;34m(\u001b[0m\u001b[0mtrain_sequences\u001b[0m\u001b[0;34m,\u001b[0m \u001b[0mpadding\u001b[0m\u001b[0;34m=\u001b[0m\u001b[0mpadding_type\u001b[0m\u001b[0;34m,\u001b[0m \u001b[0mmaxlen\u001b[0m\u001b[0;34m=\u001b[0m\u001b[0mmax_length\u001b[0m\u001b[0;34m)\u001b[0m\u001b[0;34m)\u001b[0m\u001b[0;34m\u001b[0m\u001b[0;34m\u001b[0m\u001b[0m\n\u001b[0m",
            "\u001b[0;32m/usr/local/lib/python3.6/dist-packages/tensorflow/python/keras/preprocessing/sequence.py\u001b[0m in \u001b[0;36mpad_sequences\u001b[0;34m(sequences, maxlen, dtype, padding, truncating, value)\u001b[0m\n\u001b[1;32m    156\u001b[0m   return sequence.pad_sequences(\n\u001b[1;32m    157\u001b[0m       \u001b[0msequences\u001b[0m\u001b[0;34m,\u001b[0m \u001b[0mmaxlen\u001b[0m\u001b[0;34m=\u001b[0m\u001b[0mmaxlen\u001b[0m\u001b[0;34m,\u001b[0m \u001b[0mdtype\u001b[0m\u001b[0;34m=\u001b[0m\u001b[0mdtype\u001b[0m\u001b[0;34m,\u001b[0m\u001b[0;34m\u001b[0m\u001b[0;34m\u001b[0m\u001b[0m\n\u001b[0;32m--> 158\u001b[0;31m       padding=padding, truncating=truncating, value=value)\n\u001b[0m\u001b[1;32m    159\u001b[0m \u001b[0;34m\u001b[0m\u001b[0m\n\u001b[1;32m    160\u001b[0m keras_export(\n",
            "\u001b[0;32m/usr/local/lib/python3.6/dist-packages/keras_preprocessing/sequence.py\u001b[0m in \u001b[0;36mpad_sequences\u001b[0;34m(sequences, maxlen, dtype, padding, truncating, value)\u001b[0m\n\u001b[1;32m     96\u001b[0m \u001b[0;34m\u001b[0m\u001b[0m\n\u001b[1;32m     97\u001b[0m         \u001b[0;31m# check `trunc` has expected shape\u001b[0m\u001b[0;34m\u001b[0m\u001b[0;34m\u001b[0m\u001b[0;34m\u001b[0m\u001b[0m\n\u001b[0;32m---> 98\u001b[0;31m         \u001b[0mtrunc\u001b[0m \u001b[0;34m=\u001b[0m \u001b[0mnp\u001b[0m\u001b[0;34m.\u001b[0m\u001b[0masarray\u001b[0m\u001b[0;34m(\u001b[0m\u001b[0mtrunc\u001b[0m\u001b[0;34m,\u001b[0m \u001b[0mdtype\u001b[0m\u001b[0;34m=\u001b[0m\u001b[0mdtype\u001b[0m\u001b[0;34m)\u001b[0m\u001b[0;34m\u001b[0m\u001b[0;34m\u001b[0m\u001b[0m\n\u001b[0m\u001b[1;32m     99\u001b[0m         \u001b[0;32mif\u001b[0m \u001b[0mtrunc\u001b[0m\u001b[0;34m.\u001b[0m\u001b[0mshape\u001b[0m\u001b[0;34m[\u001b[0m\u001b[0;36m1\u001b[0m\u001b[0;34m:\u001b[0m\u001b[0;34m]\u001b[0m \u001b[0;34m!=\u001b[0m \u001b[0msample_shape\u001b[0m\u001b[0;34m:\u001b[0m\u001b[0;34m\u001b[0m\u001b[0;34m\u001b[0m\u001b[0m\n\u001b[1;32m    100\u001b[0m             raise ValueError('Shape of sample %s of sequence at position %s '\n",
            "\u001b[0;32m/usr/local/lib/python3.6/dist-packages/numpy/core/_asarray.py\u001b[0m in \u001b[0;36masarray\u001b[0;34m(a, dtype, order)\u001b[0m\n\u001b[1;32m     83\u001b[0m \u001b[0;34m\u001b[0m\u001b[0m\n\u001b[1;32m     84\u001b[0m     \"\"\"\n\u001b[0;32m---> 85\u001b[0;31m     \u001b[0;32mreturn\u001b[0m \u001b[0marray\u001b[0m\u001b[0;34m(\u001b[0m\u001b[0ma\u001b[0m\u001b[0;34m,\u001b[0m \u001b[0mdtype\u001b[0m\u001b[0;34m,\u001b[0m \u001b[0mcopy\u001b[0m\u001b[0;34m=\u001b[0m\u001b[0;32mFalse\u001b[0m\u001b[0;34m,\u001b[0m \u001b[0morder\u001b[0m\u001b[0;34m=\u001b[0m\u001b[0morder\u001b[0m\u001b[0;34m)\u001b[0m\u001b[0;34m\u001b[0m\u001b[0;34m\u001b[0m\u001b[0m\n\u001b[0m\u001b[1;32m     86\u001b[0m \u001b[0;34m\u001b[0m\u001b[0m\n\u001b[1;32m     87\u001b[0m \u001b[0;34m\u001b[0m\u001b[0m\n",
            "\u001b[0;31mTypeError\u001b[0m: int() argument must be a string, a bytes-like object or a number, not 'NoneType'"
          ]
        }
      ]
    },
    {
      "cell_type": "code",
      "metadata": {
        "id": "muzP2UkSDRGp",
        "colab_type": "code",
        "outputId": "5ebdb33a-5ddf-4421-91e9-6dbaac904633",
        "colab": {
          "base_uri": "https://localhost:8080/",
          "height": 1000
        }
      },
      "source": [
        "word_index"
      ],
      "execution_count": 0,
      "outputs": [
        {
          "output_type": "execute_result",
          "data": {
            "text/plain": [
              "{'<OOV>': 1,\n",
              " 'i': 2,\n",
              " 'you': 3,\n",
              " 'the': 4,\n",
              " 'a': 5,\n",
              " 'to': 6,\n",
              " 'and': 7,\n",
              " 'it': 8,\n",
              " 'of': 9,\n",
              " 'that': 10,\n",
              " 'my': 11,\n",
              " 'is': 12,\n",
              " 'in': 13,\n",
              " 'this': 14,\n",
              " 'me': 15,\n",
              " 'im': 16,\n",
              " 'for': 17,\n",
              " 'oh': 18,\n",
              " 'your': 19,\n",
              " 'what': 20,\n",
              " 'dont': 21,\n",
              " 'have': 22,\n",
              " 'on': 23,\n",
              " 'no': 24,\n",
              " 'but': 25,\n",
              " 'we': 26,\n",
              " 'its': 27,\n",
              " 'be': 28,\n",
              " 'just': 29,\n",
              " 'do': 30,\n",
              " 'all': 31,\n",
              " 'well': 32,\n",
              " 'so': 33,\n",
              " 'not': 34,\n",
              " 'are': 35,\n",
              " 'like': 36,\n",
              " 'get': 37,\n",
              " 'with': 38,\n",
              " 'was': 39,\n",
              " 'youre': 40,\n",
              " 'can': 41,\n",
              " 'know': 42,\n",
              " 'now': 43,\n",
              " 'dad': 44,\n",
              " 'thats': 45,\n",
              " 'out': 46,\n",
              " 'up': 47,\n",
              " 'at': 48,\n",
              " 'if': 49,\n",
              " 'hey': 50,\n",
              " 'bart': 51,\n",
              " 'right': 52,\n",
              " 'go': 53,\n",
              " 'one': 54,\n",
              " 'here': 55,\n",
              " 'were': 56,\n",
              " 'marge': 57,\n",
              " 'how': 58,\n",
              " 'homer': 59,\n",
              " 'ill': 60,\n",
              " 'got': 61,\n",
              " 'about': 62,\n",
              " 'he': 63,\n",
              " 'think': 64,\n",
              " 'cant': 65,\n",
              " 'they': 66,\n",
              " 'look': 67,\n",
              " 'gonna': 68,\n",
              " 'why': 69,\n",
              " 'see': 70,\n",
              " 'good': 71,\n",
              " 'okay': 72,\n",
              " 'there': 73,\n",
              " 'want': 74,\n",
              " 'our': 75,\n",
              " 'yeah': 76,\n",
              " 'did': 77,\n",
              " 'little': 78,\n",
              " 'from': 79,\n",
              " 'mom': 80,\n",
              " 'could': 81,\n",
              " 'lisa': 82,\n",
              " 'him': 83,\n",
              " 'ive': 84,\n",
              " 'some': 85,\n",
              " 'back': 86,\n",
              " 'when': 87,\n",
              " 'come': 88,\n",
              " 'time': 89,\n",
              " 'never': 90,\n",
              " 'as': 91,\n",
              " 'really': 92,\n",
              " 'an': 93,\n",
              " 'us': 94,\n",
              " 'man': 95,\n",
              " 'who': 96,\n",
              " 'will': 97,\n",
              " 'going': 98,\n",
              " 'take': 99,\n",
              " 'make': 100,\n",
              " 'hes': 101,\n",
              " 'something': 102,\n",
              " 'more': 103,\n",
              " 'theres': 104,\n",
              " 'would': 105,\n",
              " 'her': 106,\n",
              " 'uh': 107,\n",
              " 'his': 108,\n",
              " 'say': 109,\n",
              " 'love': 110,\n",
              " 'way': 111,\n",
              " 'kids': 112,\n",
              " 'or': 113,\n",
              " 'been': 114,\n",
              " 'too': 115,\n",
              " 'boy': 116,\n",
              " 'didnt': 117,\n",
              " 'those': 118,\n",
              " 'lets': 119,\n",
              " 'wait': 120,\n",
              " 'whats': 121,\n",
              " 'thing': 122,\n",
              " 'where': 123,\n",
              " 'then': 124,\n",
              " 'off': 125,\n",
              " 'need': 126,\n",
              " 'sure': 127,\n",
              " 'yes': 128,\n",
              " 'sorry': 129,\n",
              " 'down': 130,\n",
              " 'people': 131,\n",
              " 'by': 132,\n",
              " 'am': 133,\n",
              " 'only': 134,\n",
              " 'had': 135,\n",
              " 'maybe': 136,\n",
              " 'should': 137,\n",
              " 'has': 138,\n",
              " 'great': 139,\n",
              " 'please': 140,\n",
              " 'let': 141,\n",
              " 'stop': 142,\n",
              " 'god': 143,\n",
              " 'mr': 144,\n",
              " 'these': 145,\n",
              " 'them': 146,\n",
              " 'day': 147,\n",
              " 'give': 148,\n",
              " 'tell': 149,\n",
              " 'two': 150,\n",
              " 'ever': 151,\n",
              " 'better': 152,\n",
              " 'theyre': 153,\n",
              " 'over': 154,\n",
              " 'even': 155,\n",
              " 'life': 156,\n",
              " 'she': 157,\n",
              " 'any': 158,\n",
              " 'mean': 159,\n",
              " 'help': 160,\n",
              " 'home': 161,\n",
              " 'id': 162,\n",
              " 'new': 163,\n",
              " 'first': 164,\n",
              " 'youve': 165,\n",
              " 'much': 166,\n",
              " 'honey': 167,\n",
              " 'again': 168,\n",
              " 'house': 169,\n",
              " 'because': 170,\n",
              " 'wow': 171,\n",
              " 'homie': 172,\n",
              " 'still': 173,\n",
              " 'always': 174,\n",
              " 'big': 175,\n",
              " 'son': 176,\n",
              " 'said': 177,\n",
              " 'made': 178,\n",
              " 'work': 179,\n",
              " 'than': 180,\n",
              " 'school': 181,\n",
              " 'guys': 182,\n",
              " 'into': 183,\n",
              " 'gotta': 184,\n",
              " 'old': 185,\n",
              " 'thought': 186,\n",
              " 'thank': 187,\n",
              " 'doing': 188,\n",
              " 'family': 189,\n",
              " 'guess': 190,\n",
              " 'money': 191,\n",
              " 'their': 192,\n",
              " 'stupid': 193,\n",
              " 'anything': 194,\n",
              " 'simpson': 195,\n",
              " 'put': 196,\n",
              " 'wont': 197,\n",
              " 'things': 198,\n",
              " 'show': 199,\n",
              " 'maggie': 200,\n",
              " 'bad': 201,\n",
              " 'believe': 202,\n",
              " 'last': 203,\n",
              " 'huh': 204,\n",
              " 'thanks': 205,\n",
              " 'find': 206,\n",
              " 'guy': 207,\n",
              " 'very': 208,\n",
              " 'doesnt': 209,\n",
              " 'isnt': 210,\n",
              " 'ooh': 211,\n",
              " 'flanders': 212,\n",
              " 'name': 213,\n",
              " 'place': 214,\n",
              " 'feel': 215,\n",
              " 'must': 216,\n",
              " 'youll': 217,\n",
              " 'before': 218,\n",
              " 'milhouse': 219,\n",
              " 'other': 220,\n",
              " 'moe': 221,\n",
              " 'away': 222,\n",
              " 'remember': 223,\n",
              " 'burns': 224,\n",
              " 'best': 225,\n",
              " 'does': 226,\n",
              " 'baby': 227,\n",
              " 'keep': 228,\n",
              " 'cool': 229,\n",
              " 'every': 230,\n",
              " 'lot': 231,\n",
              " 'three': 232,\n",
              " 'ow': 233,\n",
              " 'eat': 234,\n",
              " 'dog': 235,\n",
              " 'car': 236,\n",
              " 'night': 237,\n",
              " 'shes': 238,\n",
              " 'hello': 239,\n",
              " 'worry': 240,\n",
              " 'world': 241,\n",
              " 'call': 242,\n",
              " 'wrong': 243,\n",
              " 'everyone': 244,\n",
              " 'fine': 245,\n",
              " 'woo': 246,\n",
              " 'father': 247,\n",
              " 'hell': 248,\n",
              " 'around': 249,\n",
              " 'weve': 250,\n",
              " 'real': 251,\n",
              " 'everything': 252,\n",
              " 'nothing': 253,\n",
              " 'fun': 254,\n",
              " 'years': 255,\n",
              " 'nice': 256,\n",
              " 'talk': 257,\n",
              " 'another': 258,\n",
              " 'done': 259,\n",
              " 'someone': 260,\n",
              " 'hoo': 261,\n",
              " 'long': 262,\n",
              " 'cmon': 263,\n",
              " 'being': 264,\n",
              " 'own': 265,\n",
              " 'tv': 266,\n",
              " 'happy': 267,\n",
              " 'play': 268,\n",
              " 'kill': 269,\n",
              " 'getting': 270,\n",
              " 'wanna': 271,\n",
              " 'after': 272,\n",
              " 'krusty': 273,\n",
              " 'use': 274,\n",
              " 'through': 275,\n",
              " 'job': 276,\n",
              " 'hear': 277,\n",
              " 'next': 278,\n",
              " 'listen': 279,\n",
              " 'beer': 280,\n",
              " 'springfield': 281,\n",
              " 'girl': 282,\n",
              " 'minute': 283,\n",
              " 'kind': 284,\n",
              " 'many': 285,\n",
              " 'aw': 286,\n",
              " 'eh': 287,\n",
              " 'ya': 288,\n",
              " 'ah': 289,\n",
              " 'without': 290,\n",
              " 'friends': 291,\n",
              " 'while': 292,\n",
              " 'stay': 293,\n",
              " 'looks': 294,\n",
              " 'dollars': 295,\n",
              " 'sweet': 296,\n",
              " 'mother': 297,\n",
              " 'room': 298,\n",
              " 'try': 299,\n",
              " 'whole': 300,\n",
              " 'whos': 301,\n",
              " 'leave': 302,\n",
              " 'might': 303,\n",
              " 'grampa': 304,\n",
              " 'idea': 305,\n",
              " 'um': 306,\n",
              " 'today': 307,\n",
              " 'care': 308,\n",
              " 'wanted': 309,\n",
              " 'watch': 310,\n",
              " 'enough': 311,\n",
              " 'pretty': 312,\n",
              " 'check': 313,\n",
              " 'trying': 314,\n",
              " 'town': 315,\n",
              " 'left': 316,\n",
              " 'hundred': 317,\n",
              " 'told': 318,\n",
              " 'five': 319,\n",
              " 'heres': 320,\n",
              " 'miss': 321,\n",
              " 'talking': 322,\n",
              " 'which': 323,\n",
              " 'wouldnt': 324,\n",
              " 'most': 325,\n",
              " 'free': 326,\n",
              " 'live': 327,\n",
              " 'turn': 328,\n",
              " 'hmm': 329,\n",
              " 'happened': 330,\n",
              " 'coming': 331,\n",
              " 'stuff': 332,\n",
              " 'cause': 333,\n",
              " 'book': 334,\n",
              " 'heh': 335,\n",
              " 'whoa': 336,\n",
              " 'such': 337,\n",
              " 'dead': 338,\n",
              " 'used': 339,\n",
              " 'lis': 340,\n",
              " 'crazy': 341,\n",
              " 'hi': 342,\n",
              " 'lost': 343,\n",
              " 'everybody': 344,\n",
              " 'buy': 345,\n",
              " 'em': 346,\n",
              " 'says': 347,\n",
              " 'friend': 348,\n",
              " 'seen': 349,\n",
              " 'read': 350,\n",
              " 'hope': 351,\n",
              " 'may': 352,\n",
              " 'ned': 353,\n",
              " 'game': 354,\n",
              " 'gone': 355,\n",
              " 'movie': 356,\n",
              " 'hard': 357,\n",
              " 'head': 358,\n",
              " 'party': 359,\n",
              " 'already': 360,\n",
              " 'wish': 361,\n",
              " 'arent': 362,\n",
              " 'makes': 363,\n",
              " 'shut': 364,\n",
              " 'making': 365,\n",
              " 'youd': 366,\n",
              " 'anyone': 367,\n",
              " 'food': 368,\n",
              " 'beautiful': 369,\n",
              " 'wheres': 370,\n",
              " 'save': 371,\n",
              " 'win': 372,\n",
              " 'face': 373,\n",
              " 'found': 374,\n",
              " 'actually': 375,\n",
              " 'together': 376,\n",
              " 'least': 377,\n",
              " 'forget': 378,\n",
              " 'problem': 379,\n",
              " 'start': 380,\n",
              " 'else': 381,\n",
              " 'barts': 382,\n",
              " 'finally': 383,\n",
              " 'fat': 384,\n",
              " 'run': 385,\n",
              " 'called': 386,\n",
              " 'hate': 387,\n",
              " 'course': 388,\n",
              " 'story': 389,\n",
              " 'children': 390,\n",
              " 'couldnt': 391,\n",
              " 'perfect': 392,\n",
              " 'dear': 393,\n",
              " 'ten': 394,\n",
              " 'yourself': 395,\n",
              " 'cut': 396,\n",
              " 'true': 397,\n",
              " 'came': 398,\n",
              " 'dinner': 399,\n",
              " 'went': 400,\n",
              " 'tonight': 401,\n",
              " 'once': 402,\n",
              " 'myself': 403,\n",
              " 'uhoh': 404,\n",
              " 'pay': 405,\n",
              " 'ask': 406,\n",
              " 'same': 407,\n",
              " 'havent': 408,\n",
              " 'having': 409,\n",
              " 'saying': 410,\n",
              " 'bed': 411,\n",
              " 'sir': 412,\n",
              " 'kid': 413,\n",
              " 'hm': 414,\n",
              " 'four': 415,\n",
              " 'funny': 416,\n",
              " 'hot': 417,\n",
              " 'wife': 418,\n",
              " 'die': 419,\n",
              " 'tomorrow': 420,\n",
              " 'understand': 421,\n",
              " 'heard': 422,\n",
              " 'anymore': 423,\n",
              " 'mind': 424,\n",
              " 'hair': 425,\n",
              " 'married': 426,\n",
              " 'knew': 427,\n",
              " 'taking': 428,\n",
              " 'bring': 429,\n",
              " 'christmas': 430,\n",
              " 'wasnt': 431,\n",
              " 'end': 432,\n",
              " 'sweetie': 433,\n",
              " 'hurt': 434,\n",
              " 'special': 435,\n",
              " 'sleep': 436,\n",
              " 'supposed': 437,\n",
              " 'woman': 438,\n",
              " 'year': 439,\n",
              " 'mad': 440,\n",
              " 'looking': 441,\n",
              " 'quit': 442,\n",
              " 'bet': 443,\n",
              " 'saw': 444,\n",
              " 'days': 445,\n",
              " 'took': 446,\n",
              " 'week': 447,\n",
              " 'part': 448,\n",
              " 'heart': 449,\n",
              " 'deal': 450,\n",
              " 'poor': 451,\n",
              " 'power': 452,\n",
              " 'hit': 453,\n",
              " 'wants': 454,\n",
              " 'gave': 455,\n",
              " 'easy': 456,\n",
              " 'excuse': 457,\n",
              " 'since': 458,\n",
              " 'ready': 459,\n",
              " 'yet': 460,\n",
              " 'open': 461,\n",
              " 'goes': 462,\n",
              " 'means': 463,\n",
              " 'second': 464,\n",
              " 'full': 465,\n",
              " 'glad': 466,\n",
              " 'ones': 467,\n",
              " 'times': 468,\n",
              " 'pick': 469,\n",
              " 'lady': 470,\n",
              " 'business': 471,\n",
              " 'until': 472,\n",
              " 'morning': 473,\n",
              " 'lenny': 474,\n",
              " 'needs': 475,\n",
              " 'young': 476,\n",
              " 'thinking': 477,\n",
              " 'apu': 478,\n",
              " 'boys': 479,\n",
              " 'change': 480,\n",
              " 'point': 481,\n",
              " 'wonderful': 482,\n",
              " 'husband': 483,\n",
              " 'whatever': 484,\n",
              " 'alone': 485,\n",
              " 'rock': 486,\n",
              " 'daddy': 487,\n",
              " 'both': 488,\n",
              " 'anyway': 489,\n",
              " 'fire': 490,\n",
              " 'important': 491,\n",
              " 'learned': 492,\n",
              " 'sounds': 493,\n",
              " 'few': 494,\n",
              " 'word': 495,\n",
              " 'move': 496,\n",
              " 'bob': 497,\n",
              " 'water': 498,\n",
              " 'comes': 499,\n",
              " 'probably': 500,\n",
              " 'hmmm': 501,\n",
              " 'also': 502,\n",
              " 'dream': 503,\n",
              " 'mmm': 504,\n",
              " 'ice': 505,\n",
              " 'drive': 506,\n",
              " 'fight': 507,\n",
              " 'spend': 508,\n",
              " 'inside': 509,\n",
              " 'stand': 510,\n",
              " 'ha': 511,\n",
              " 'happen': 512,\n",
              " 'song': 513,\n",
              " 'eating': 514,\n",
              " 'eyes': 515,\n",
              " 'phone': 516,\n",
              " 'hold': 517,\n",
              " 'girls': 518,\n",
              " 'nelson': 519,\n",
              " 'proud': 520,\n",
              " 'fair': 521,\n",
              " 'each': 522,\n",
              " 'la': 523,\n",
              " 'under': 524,\n",
              " 'bar': 525,\n",
              " 'gets': 526,\n",
              " 'door': 527,\n",
              " 'class': 528,\n",
              " 'store': 529,\n",
              " 'minutes': 530,\n",
              " 'birthday': 531,\n",
              " 'side': 532,\n",
              " 'number': 533,\n",
              " 'watching': 534,\n",
              " 'sister': 535,\n",
              " 'brother': 536,\n",
              " 'break': 537,\n",
              " 'outta': 538,\n",
              " 'skinner': 539,\n",
              " 'marriage': 540,\n",
              " 'hand': 541,\n",
              " 'chance': 542,\n",
              " 'set': 543,\n",
              " 'box': 544,\n",
              " 'walk': 545,\n",
              " 'card': 546,\n",
              " 'butt': 547,\n",
              " 'itll': 548,\n",
              " 'brought': 549,\n",
              " 'later': 550,\n",
              " 'mine': 551,\n",
              " 'gimme': 552,\n",
              " 'throw': 553,\n",
              " 'church': 554,\n",
              " 'almost': 555,\n",
              " 'trouble': 556,\n",
              " 'plan': 557,\n",
              " 'doctor': 558,\n",
              " 'lousy': 559,\n",
              " 'till': 560,\n",
              " 'america': 561,\n",
              " 'president': 562,\n",
              " 'late': 563,\n",
              " 'ralph': 564,\n",
              " 'music': 565,\n",
              " 'lose': 566,\n",
              " 'oooh': 567,\n",
              " 'rest': 568,\n",
              " 'goodbye': 569,\n",
              " 'clean': 570,\n",
              " 'saved': 571,\n",
              " 'enjoy': 572,\n",
              " 'news': 573,\n",
              " 'country': 574,\n",
              " 'lord': 575,\n",
              " 'ooo': 576,\n",
              " 'lisas': 577,\n",
              " 'thousand': 578,\n",
              " 'matter': 579,\n",
              " 'six': 580,\n",
              " 'ride': 581,\n",
              " 'living': 582,\n",
              " 'killed': 583,\n",
              " 'afraid': 584,\n",
              " 'truth': 585,\n",
              " 'started': 586,\n",
              " 'theyll': 587,\n",
              " 'wedding': 588,\n",
              " 'hours': 589,\n",
              " 'eight': 590,\n",
              " 'cat': 591,\n",
              " 'pants': 592,\n",
              " 'won': 593,\n",
              " 'lives': 594,\n",
              " 'ago': 595,\n",
              " 'shouldnt': 596,\n",
              " 'meet': 597,\n",
              " 'moes': 598,\n",
              " 'kiss': 599,\n",
              " 'cream': 600,\n",
              " 'tree': 601,\n",
              " 'line': 602,\n",
              " 'except': 603,\n",
              " 'sign': 604,\n",
              " 'hands': 605,\n",
              " 'da': 606,\n",
              " 'parents': 607,\n",
              " 'soon': 608,\n",
              " 'nobody': 609,\n",
              " 'paper': 610,\n",
              " 'drink': 611,\n",
              " 'become': 612,\n",
              " 'boring': 613,\n",
              " 'soul': 614,\n",
              " 'bus': 615,\n",
              " 'men': 616,\n",
              " 'mrs': 617,\n",
              " 'half': 618,\n",
              " 'tried': 619,\n",
              " 'promise': 620,\n",
              " 'worse': 621,\n",
              " 'red': 622,\n",
              " 'dads': 623,\n",
              " 'learn': 624,\n",
              " 'fault': 625,\n",
              " 'safe': 626,\n",
              " 'pie': 627,\n",
              " 'working': 628,\n",
              " 'smell': 629,\n",
              " 'write': 630,\n",
              " 'hat': 631,\n",
              " 'women': 632,\n",
              " 'smart': 633,\n",
              " 'sound': 634,\n",
              " 'forever': 635,\n",
              " 'drunk': 636,\n",
              " 'top': 637,\n",
              " 'air': 638,\n",
              " 'test': 639,\n",
              " 'greatest': 640,\n",
              " 'sick': 641,\n",
              " 'person': 642,\n",
              " 'rich': 643,\n",
              " 'beat': 644,\n",
              " 'sit': 645,\n",
              " 'picture': 646,\n",
              " 'team': 647,\n",
              " 'close': 648,\n",
              " 'candy': 649,\n",
              " 'bout': 650,\n",
              " 'knows': 651,\n",
              " 'damn': 652,\n",
              " 'front': 653,\n",
              " 'somebody': 654,\n",
              " 'tired': 655,\n",
              " 'ahead': 656,\n",
              " 'terrible': 657,\n",
              " 'teach': 658,\n",
              " 'uhhuh': 659,\n",
              " 'dogs': 660,\n",
              " 'wake': 661,\n",
              " 'outside': 662,\n",
              " 'feeling': 663,\n",
              " 'chief': 664,\n",
              " 'horrible': 665,\n",
              " 'ball': 666,\n",
              " 'telling': 667,\n",
              " 'answer': 668,\n",
              " 'fifty': 669,\n",
              " 'alive': 670,\n",
              " 'different': 671,\n",
              " 'words': 672,\n",
              " 'death': 673,\n",
              " 'high': 674,\n",
              " 'giving': 675,\n",
              " 'seems': 676,\n",
              " 'wonder': 677,\n",
              " 'wed': 678,\n",
              " 'exactly': 679,\n",
              " 'relax': 680,\n",
              " 'dr': 681,\n",
              " 'quick': 682,\n",
              " 'fast': 683,\n",
              " 'principal': 684,\n",
              " 'gay': 685,\n",
              " 'dance': 686,\n",
              " 'couple': 687,\n",
              " 'seem': 688,\n",
              " 'sometimes': 689,\n",
              " 'seven': 690,\n",
              " 'secret': 691,\n",
              " 'million': 692,\n",
              " 'far': 693,\n",
              " 'shot': 694,\n",
              " 'itchy': 695,\n",
              " 'lie': 696,\n",
              " 'fish': 697,\n",
              " 'breakfast': 698,\n",
              " 'welcome': 699,\n",
              " 'awesome': 700,\n",
              " 'favorite': 701,\n",
              " 'behind': 702,\n",
              " 'blue': 703,\n",
              " 'future': 704,\n",
              " 'sideshow': 705,\n",
              " 'cute': 706,\n",
              " 'catch': 707,\n",
              " 'bucks': 708,\n",
              " 'against': 709,\n",
              " 'cold': 710,\n",
              " 'crap': 711,\n",
              " 'playing': 712,\n",
              " 'police': 713,\n",
              " 'likes': 714,\n",
              " 'drinking': 715,\n",
              " 'barney': 716,\n",
              " 'lucky': 717,\n",
              " 'selma': 718,\n",
              " 'eye': 719,\n",
              " 'present': 720,\n",
              " 'american': 721,\n",
              " 'turned': 722,\n",
              " 'plant': 723,\n",
              " 'driving': 724,\n",
              " 'piece': 725,\n",
              " 'hour': 726,\n",
              " 'sell': 727,\n",
              " 'machine': 728,\n",
              " 'bill': 729,\n",
              " 'wear': 730,\n",
              " 'send': 731,\n",
              " 'thinks': 732,\n",
              " 'takes': 733,\n",
              " 'bought': 734,\n",
              " 'hang': 735,\n",
              " 'order': 736,\n",
              " 'hurry': 737,\n",
              " 'mouth': 738,\n",
              " 'hows': 739,\n",
              " 'monster': 740,\n",
              " 'lesson': 741,\n",
              " 'clown': 742,\n",
              " 'bear': 743,\n",
              " 'college': 744,\n",
              " 'sugar': 745,\n",
              " 'forgot': 746,\n",
              " 'hero': 747,\n",
              " 'quiet': 748,\n",
              " 'goin': 749,\n",
              " 'trip': 750,\n",
              " 'city': 751,\n",
              " 'afford': 752,\n",
              " 'gun': 753,\n",
              " 'act': 754,\n",
              " 'body': 755,\n",
              " 'movies': 756,\n",
              " 'touch': 757,\n",
              " 'weird': 758,\n",
              " 'brain': 759,\n",
              " 'worst': 760,\n",
              " 'nuts': 761,\n",
              " 'worked': 762,\n",
              " 'reason': 763,\n",
              " 'light': 764,\n",
              " 'stuck': 765,\n",
              " 'letter': 766,\n",
              " 'works': 767,\n",
              " 'blah': 768,\n",
              " 'loves': 769,\n",
              " 'jerk': 770,\n",
              " 'cake': 771,\n",
              " 'books': 772,\n",
              " 'bit': 773,\n",
              " 'willie': 774,\n",
              " 'doin': 775,\n",
              " 'blood': 776,\n",
              " 'wearing': 777,\n",
              " 'surprise': 778,\n",
              " 'instead': 779,\n",
              " 'theyve': 780,\n",
              " 'along': 781,\n",
              " 'ohhh': 782,\n",
              " 'step': 783,\n",
              " 'stick': 784,\n",
              " 'land': 785,\n",
              " 'missed': 786,\n",
              " 'less': 787,\n",
              " 'chair': 788,\n",
              " 'ew': 789,\n",
              " 'war': 790,\n",
              " 'animals': 791,\n",
              " 'paid': 792,\n",
              " 'gas': 793,\n",
              " 'dollar': 794,\n",
              " 'pull': 795,\n",
              " 'twenty': 796,\n",
              " 'problems': 797,\n",
              " 'join': 798,\n",
              " 'reading': 799,\n",
              " 'daughter': 800,\n",
              " 'earth': 801,\n",
              " 'tickets': 802,\n",
              " 'yours': 803,\n",
              " 'honor': 804,\n",
              " 'realize': 805,\n",
              " 'lots': 806,\n",
              " 'clothes': 807,\n",
              " 'died': 808,\n",
              " 'case': 809,\n",
              " 'feet': 810,\n",
              " 'ohh': 811,\n",
              " 'toilet': 812,\n",
              " 'meat': 813,\n",
              " 'worth': 814,\n",
              " 'question': 815,\n",
              " 'sad': 816,\n",
              " 'ate': 817,\n",
              " 'somewhere': 818,\n",
              " 'kinda': 819,\n",
              " 'simpsons': 820,\n",
              " 'either': 821,\n",
              " 'club': 822,\n",
              " 'fathers': 823,\n",
              " 'straight': 824,\n",
              " 'yep': 825,\n",
              " 'gotten': 826,\n",
              " 'mmmm': 827,\n",
              " 'kidding': 828,\n",
              " 'trust': 829,\n",
              " 'angry': 830,\n",
              " 'fly': 831,\n",
              " 'child': 832,\n",
              " 'bathroom': 833,\n",
              " 'changed': 834,\n",
              " 'loved': 835,\n",
              " 'pizza': 836,\n",
              " 'ass': 837,\n",
              " 'finish': 838,\n",
              " 'starting': 839,\n",
              " 'suit': 840,\n",
              " 'teacher': 841,\n",
              " 'milk': 842,\n",
              " 'unless': 843,\n",
              " 'attention': 844,\n",
              " 'hee': 845,\n",
              " 'age': 846,\n",
              " 'magic': 847,\n",
              " 'happens': 848,\n",
              " 'gift': 849,\n",
              " 'using': 850,\n",
              " 'taken': 851,\n",
              " 'grow': 852,\n",
              " 'speak': 853,\n",
              " 'comin': 854,\n",
              " 'quite': 855,\n",
              " 'between': 856,\n",
              " 'daddys': 857,\n",
              " 'absolutely': 858,\n",
              " 'felt': 859,\n",
              " 'roll': 860,\n",
              " 'shows': 861,\n",
              " 'anybody': 862,\n",
              " 'gettin': 863,\n",
              " 'white': 864,\n",
              " 'wrote': 865,\n",
              " 'coffee': 866,\n",
              " 'bike': 867,\n",
              " 'black': 868,\n",
              " 'missing': 869,\n",
              " 'awful': 870,\n",
              " 'knock': 871,\n",
              " 'ladies': 872,\n",
              " 'build': 873,\n",
              " 'low': 874,\n",
              " 'ruined': 875,\n",
              " 'lunch': 876,\n",
              " 'company': 877,\n",
              " 'leaving': 878,\n",
              " 'chocolate': 879,\n",
              " 'patty': 880,\n",
              " 'nah': 881,\n",
              " 'broke': 882,\n",
              " 'floor': 883,\n",
              " 'twelve': 884,\n",
              " 'chicken': 885,\n",
              " 'buddy': 886,\n",
              " 'law': 887,\n",
              " 'meant': 888,\n",
              " 'moms': 889,\n",
              " 'super': 890,\n",
              " 'monkey': 891,\n",
              " 'moment': 892,\n",
              " 'werent': 893,\n",
              " 'fresh': 894,\n",
              " 'bowl': 895,\n",
              " 'deserve': 896,\n",
              " 'tape': 897,\n",
              " 'howd': 898,\n",
              " 'space': 899,\n",
              " 'garbage': 900,\n",
              " 'bird': 901,\n",
              " 'table': 902,\n",
              " 'judge': 903,\n",
              " 'fix': 904,\n",
              " 'nine': 905,\n",
              " 'shirt': 906,\n",
              " 'pass': 907,\n",
              " 'born': 908,\n",
              " 'thatll': 909,\n",
              " 'met': 910,\n",
              " 'goodnight': 911,\n",
              " 'evil': 912,\n",
              " 'state': 913,\n",
              " 'babies': 914,\n",
              " 'blow': 915,\n",
              " 'dude': 916,\n",
              " 'window': 917,\n",
              " 'bag': 918,\n",
              " 'sex': 919,\n",
              " 'admit': 920,\n",
              " 'losers': 921,\n",
              " 'swear': 922,\n",
              " 'shoot': 923,\n",
              " 'horse': 924,\n",
              " 'worried': 925,\n",
              " 'building': 926,\n",
              " 'sent': 927,\n",
              " 'running': 928,\n",
              " 'small': 929,\n",
              " 'jail': 930,\n",
              " 'sense': 931,\n",
              " 'none': 932,\n",
              " 'laugh': 933,\n",
              " 'human': 934,\n",
              " 'gold': 935,\n",
              " 'mail': 936,\n",
              " 'homework': 937,\n",
              " 'gee': 938,\n",
              " 'calling': 939,\n",
              " 'bye': 940,\n",
              " 'early': 941,\n",
              " 'dirty': 942,\n",
              " 'larry': 943,\n",
              " 'delicious': 944,\n",
              " 'kitchen': 945,\n",
              " 'suck': 946,\n",
              " 'maggies': 947,\n",
              " 'art': 948,\n",
              " 'hungry': 949,\n",
              " 'respect': 950,\n",
              " 'mister': 951,\n",
              " 'helping': 952,\n",
              " 'nope': 953,\n",
              " 'weeks': 954,\n",
              " 'tony': 955,\n",
              " 'nuclear': 956,\n",
              " 'follow': 957,\n",
              " 'animal': 958,\n",
              " 'hide': 959,\n",
              " 'aww': 960,\n",
              " 'sitting': 961,\n",
              " 'longer': 962,\n",
              " 'agree': 963,\n",
              " 'science': 964,\n",
              " 'amazing': 965,\n",
              " 'key': 966,\n",
              " 'forgive': 967,\n",
              " 'explain': 968,\n",
              " 'sucks': 969,\n",
              " 'ring': 970,\n",
              " 'woohoo': 971,\n",
              " 'sleeping': 972,\n",
              " 'scared': 973,\n",
              " 'fall': 974,\n",
              " 'field': 975,\n",
              " 'tough': 976,\n",
              " 'dump': 977,\n",
              " 'aunt': 978,\n",
              " 'exciting': 979,\n",
              " 'cover': 980,\n",
              " 'rid': 981,\n",
              " 'count': 982,\n",
              " 'carl': 983,\n",
              " 'history': 984,\n",
              " 'everyones': 985,\n",
              " 'extra': 986,\n",
              " 'bottle': 987,\n",
              " 'promised': 988,\n",
              " 'nose': 989,\n",
              " 'finished': 990,\n",
              " 'date': 991,\n",
              " 'asked': 992,\n",
              " 'scratchy': 993,\n",
              " 'voice': 994,\n",
              " 'idiot': 995,\n",
              " 'caught': 996,\n",
              " 'system': 997,\n",
              " 'handle': 998,\n",
              " 'mothers': 999,\n",
              " 'fact': 1000,\n",
              " ...}"
            ]
          },
          "metadata": {
            "tags": []
          },
          "execution_count": 77
        }
      ]
    },
    {
      "cell_type": "code",
      "metadata": {
        "id": "-mNKDSlJz5gG",
        "colab_type": "code",
        "outputId": "d93810c1-1707-42b9-8518-34141b984b51",
        "colab": {
          "base_uri": "https://localhost:8080/",
          "height": 1000
        }
      },
      "source": [
        "help(Tokenizer)"
      ],
      "execution_count": 0,
      "outputs": [
        {
          "output_type": "stream",
          "text": [
            "Help on class Tokenizer in module keras_preprocessing.text:\n",
            "\n",
            "class Tokenizer(builtins.object)\n",
            " |  Text tokenization utility class.\n",
            " |  \n",
            " |  This class allows to vectorize a text corpus, by turning each\n",
            " |  text into either a sequence of integers (each integer being the index\n",
            " |  of a token in a dictionary) or into a vector where the coefficient\n",
            " |  for each token could be binary, based on word count, based on tf-idf...\n",
            " |  \n",
            " |  # Arguments\n",
            " |      num_words: the maximum number of words to keep, based\n",
            " |          on word frequency. Only the most common `num_words-1` words will\n",
            " |          be kept.\n",
            " |      filters: a string where each element is a character that will be\n",
            " |          filtered from the texts. The default is all punctuation, plus\n",
            " |          tabs and line breaks, minus the `'` character.\n",
            " |      lower: boolean. Whether to convert the texts to lowercase.\n",
            " |      split: str. Separator for word splitting.\n",
            " |      char_level: if True, every character will be treated as a token.\n",
            " |      oov_token: if given, it will be added to word_index and used to\n",
            " |          replace out-of-vocabulary words during text_to_sequence calls\n",
            " |  \n",
            " |  By default, all punctuation is removed, turning the texts into\n",
            " |  space-separated sequences of words\n",
            " |  (words maybe include the `'` character). These sequences are then\n",
            " |  split into lists of tokens. They will then be indexed or vectorized.\n",
            " |  \n",
            " |  `0` is a reserved index that won't be assigned to any word.\n",
            " |  \n",
            " |  Methods defined here:\n",
            " |  \n",
            " |  __init__(self, num_words=None, filters='!\"#$%&()*+,-./:;<=>?@[\\\\]^_`{|}~\\t\\n', lower=True, split=' ', char_level=False, oov_token=None, document_count=0, **kwargs)\n",
            " |      Initialize self.  See help(type(self)) for accurate signature.\n",
            " |  \n",
            " |  fit_on_sequences(self, sequences)\n",
            " |      Updates internal vocabulary based on a list of sequences.\n",
            " |      \n",
            " |      Required before using `sequences_to_matrix`\n",
            " |      (if `fit_on_texts` was never called).\n",
            " |      \n",
            " |      # Arguments\n",
            " |          sequences: A list of sequence.\n",
            " |              A \"sequence\" is a list of integer word indices.\n",
            " |  \n",
            " |  fit_on_texts(self, texts)\n",
            " |      Updates internal vocabulary based on a list of texts.\n",
            " |      \n",
            " |      In the case where texts contains lists,\n",
            " |      we assume each entry of the lists to be a token.\n",
            " |      \n",
            " |      Required before using `texts_to_sequences` or `texts_to_matrix`.\n",
            " |      \n",
            " |      # Arguments\n",
            " |          texts: can be a list of strings,\n",
            " |              a generator of strings (for memory-efficiency),\n",
            " |              or a list of list of strings.\n",
            " |  \n",
            " |  get_config(self)\n",
            " |      Returns the tokenizer configuration as Python dictionary.\n",
            " |      The word count dictionaries used by the tokenizer get serialized\n",
            " |      into plain JSON, so that the configuration can be read by other\n",
            " |      projects.\n",
            " |      \n",
            " |      # Returns\n",
            " |          A Python dictionary with the tokenizer configuration.\n",
            " |  \n",
            " |  sequences_to_matrix(self, sequences, mode='binary')\n",
            " |      Converts a list of sequences into a Numpy matrix.\n",
            " |      \n",
            " |      # Arguments\n",
            " |          sequences: list of sequences\n",
            " |              (a sequence is a list of integer word indices).\n",
            " |          mode: one of \"binary\", \"count\", \"tfidf\", \"freq\"\n",
            " |      \n",
            " |      # Returns\n",
            " |          A Numpy matrix.\n",
            " |      \n",
            " |      # Raises\n",
            " |          ValueError: In case of invalid `mode` argument,\n",
            " |              or if the Tokenizer requires to be fit to sample data.\n",
            " |  \n",
            " |  sequences_to_texts(self, sequences)\n",
            " |      Transforms each sequence into a list of text.\n",
            " |      \n",
            " |      Only top `num_words-1` most frequent words will be taken into account.\n",
            " |      Only words known by the tokenizer will be taken into account.\n",
            " |      \n",
            " |      # Arguments\n",
            " |          sequences: A list of sequences (list of integers).\n",
            " |      \n",
            " |      # Returns\n",
            " |          A list of texts (strings)\n",
            " |  \n",
            " |  sequences_to_texts_generator(self, sequences)\n",
            " |      Transforms each sequence in `sequences` to a list of texts(strings).\n",
            " |      \n",
            " |      Each sequence has to a list of integers.\n",
            " |      In other words, sequences should be a list of sequences\n",
            " |      \n",
            " |      Only top `num_words-1` most frequent words will be taken into account.\n",
            " |      Only words known by the tokenizer will be taken into account.\n",
            " |      \n",
            " |      # Arguments\n",
            " |          sequences: A list of sequences.\n",
            " |      \n",
            " |      # Yields\n",
            " |          Yields individual texts.\n",
            " |  \n",
            " |  texts_to_matrix(self, texts, mode='binary')\n",
            " |      Convert a list of texts to a Numpy matrix.\n",
            " |      \n",
            " |      # Arguments\n",
            " |          texts: list of strings.\n",
            " |          mode: one of \"binary\", \"count\", \"tfidf\", \"freq\".\n",
            " |      \n",
            " |      # Returns\n",
            " |          A Numpy matrix.\n",
            " |  \n",
            " |  texts_to_sequences(self, texts)\n",
            " |      Transforms each text in texts to a sequence of integers.\n",
            " |      \n",
            " |      Only top `num_words-1` most frequent words will be taken into account.\n",
            " |      Only words known by the tokenizer will be taken into account.\n",
            " |      \n",
            " |      # Arguments\n",
            " |          texts: A list of texts (strings).\n",
            " |      \n",
            " |      # Returns\n",
            " |          A list of sequences.\n",
            " |  \n",
            " |  texts_to_sequences_generator(self, texts)\n",
            " |      Transforms each text in `texts` to a sequence of integers.\n",
            " |      \n",
            " |      Each item in texts can also be a list,\n",
            " |      in which case we assume each item of that list to be a token.\n",
            " |      \n",
            " |      Only top `num_words-1` most frequent words will be taken into account.\n",
            " |      Only words known by the tokenizer will be taken into account.\n",
            " |      \n",
            " |      # Arguments\n",
            " |          texts: A list of texts (strings).\n",
            " |      \n",
            " |      # Yields\n",
            " |          Yields individual sequences.\n",
            " |  \n",
            " |  to_json(self, **kwargs)\n",
            " |      Returns a JSON string containing the tokenizer configuration.\n",
            " |      To load a tokenizer from a JSON string, use\n",
            " |      `keras.preprocessing.text.tokenizer_from_json(json_string)`.\n",
            " |      \n",
            " |      # Arguments\n",
            " |          **kwargs: Additional keyword arguments\n",
            " |              to be passed to `json.dumps()`.\n",
            " |      \n",
            " |      # Returns\n",
            " |          A JSON string containing the tokenizer configuration.\n",
            " |  \n",
            " |  ----------------------------------------------------------------------\n",
            " |  Data descriptors defined here:\n",
            " |  \n",
            " |  __dict__\n",
            " |      dictionary for instance variables (if defined)\n",
            " |  \n",
            " |  __weakref__\n",
            " |      list of weak references to the object (if defined)\n",
            "\n"
          ],
          "name": "stdout"
        }
      ]
    },
    {
      "cell_type": "code",
      "metadata": {
        "id": "Kpz5OahkzZAc",
        "colab_type": "code",
        "outputId": "f1cec3ed-79e6-4e60-f19e-d1f3b8d3d17c",
        "colab": {
          "base_uri": "https://localhost:8080/",
          "height": 1000
        }
      },
      "source": [
        "train_sentences"
      ],
      "execution_count": 0,
      "outputs": [
        {
          "output_type": "execute_result",
          "data": {
            "text/plain": [
              "['wheres mr bergstrom',\n",
              " 'that life is worth living',\n",
              " 'victory party under the slide',\n",
              " 'mr bergstrom mr bergstrom',\n",
              " 'do you know where i could find him',\n",
              " 'the train how like him traditional yet environmentally sound',\n",
              " 'i see he touched you too',\n",
              " 'hey thanks for your vote man',\n",
              " 'well you got that right thanks for your vote girls',\n",
              " 'well dont sweat it just so long as a couple of people did right milhouse',\n",
              " 'lewis',\n",
              " 'somebody must have voted',\n",
              " 'uh oh',\n",
              " '',\n",
              " 'i demand a recount',\n",
              " 'no',\n",
              " 'mr bergstrom hey mr bergstrom',\n",
              " 'hey lisa indeed',\n",
              " 'oh i mean were you just going to leave just like that',\n",
              " 'you cant go youre the best teacher ill ever have',\n",
              " 'oh please',\n",
              " 'but i need you too',\n",
              " 'i i understand mr bergstrom im going to miss you',\n",
              " 'thank you mr bergstrom',\n",
              " 'so i guess this is it it you dont mind ill just run alongside the train as it speeds you from my life',\n",
              " 'never thrown a party what about that big bash we had with all the champagne and musicians and holy men and everything',\n",
              " 'bart didnt get one vote oh this is the worst thing that ever happened to us alright allright spilled milk spilled milk spilled milk what are you so mopey about',\n",
              " 'nothing',\n",
              " 'lisa tell your father',\n",
              " 'mr bergstrom left today',\n",
              " 'oh',\n",
              " 'hes gone forever',\n",
              " 'and',\n",
              " 'i didnt think youd understand',\n",
              " 'hey just because i dont care doesnt mean i dont understand',\n",
              " 'im glad im not crying because i would hate for you to think that what im about to say is based on emotion but you sir are a baboon',\n",
              " 'me',\n",
              " 'yes you baboon baboon baboon baboon',\n",
              " 'i dont think you realize what youre saying',\n",
              " 'baboon',\n",
              " 'whoa somebody was bound to say it one day i just cant believe it was her',\n",
              " 'did you hear that marge she called me a baboon the stupidest ugliest smelliest ape of them all',\n",
              " 'homer you are not allowed to have hurt feelings right now theres a little girl upstairs who needs you her confidence in her father is shaken and no little girl can be happy unless she has faith in her daddy',\n",
              " 'go away',\n",
              " 'lisa dont hold anything back you can tell me are you crying because you called daddy a baboon',\n",
              " 'no',\n",
              " 'nuts',\n",
              " 'this isnt going well at all',\n",
              " 'look if you just want me to forgive you ',\n",
              " 'no no no i just wish i knew what to say',\n",
              " 'although maybe this will help now you lost someone special and it hurts im lucky because i never lost anyone special to me everyone special to me is under this roof',\n",
              " '',\n",
              " 'that was our wedding',\n",
              " 'oh',\n",
              " 'children its time for you to go to bed',\n",
              " 'its true now youll have lots of special people in your life lisa theres probably some place where they all get together and the food is real good and guys like me are serving drinks oh well maybe i cant explain all this but i can fix your doll house for you at least im good at monkey work you know monkey you know what i mean',\n",
              " 'yeah',\n",
              " 'i can hold these nails in place with my tail',\n",
              " 'youre so silly',\n",
              " 'gimme a banana',\n",
              " 'i dont have any banana',\n",
              " 'come on youre holding out on me',\n",
              " 'im sorry i called you a baboon dad',\n",
              " 'think nothing of it',\n",
              " 'hey whats the matter son',\n",
              " 'ah dad if just me milhouse and lewis had voted',\n",
              " 'hey son would you have gotten any money for being class president',\n",
              " 'no',\n",
              " 'would you have to do extra work',\n",
              " 'yeah',\n",
              " 'and is this martin guy going to get to do anything neat like throw out the first ball at the world series huh',\n",
              " 'well no',\n",
              " 'so let the baby have his bottle huh thats my motto',\n",
              " 'hey thanks monkeyman',\n",
              " 'holymoly talk about parenting',\n",
              " 'uh oh',\n",
              " 'sleep well maggie ah three for three',\n",
              " 'homie did you straighten everything out',\n",
              " 'up up up up up up dont say anything marge lets just go to bed im on the biggest roll of my life',\n",
              " 'mmm hors doovers',\n",
              " 'homer you promised',\n",
              " 'i promised i wouldnt eat never you lie',\n",
              " 'homer please weve never thrown a party now were gonna pay back all the friends whove invited us to their homes',\n",
              " 'but mom i want to hear the witty banter of sophisticated adults',\n",
              " 'yeah you cant have any fun in bed',\n",
              " 'oh son when youre older youll know better',\n",
              " 'hmmm oh baby mmmm yeah',\n",
              " 'oh theyre here how does everything look',\n",
              " 'how do i look',\n",
              " 'do we have enough glasses',\n",
              " 'do we have enough gag ice cubs',\n",
              " 'homer homer put a record on',\n",
              " 'what are all our friends names again',\n",
              " 'children go',\n",
              " 'why not i paid for it',\n",
              " 'hey flanders next time why dont you put a little alcohol in it',\n",
              " 'really well i do have a warm sense of wellbeing and i seem to be ssslurring my shpeech youre right give me another',\n",
              " 'now homer go easy on the alkyhol remember last year at the winfields party when you threw up in the laundry hamper',\n",
              " 'no',\n",
              " '',\n",
              " 'oh dr hibbert enjoying the party',\n",
              " 'it was me you fell for it',\n",
              " 'please dad',\n",
              " 'you should see the look on your face its priceless',\n",
              " 'bart come over here',\n",
              " 'what',\n",
              " 'you little monkey youre a little monkey arent you',\n",
              " 'yes sir',\n",
              " 'bart do that thing you do thats so cute',\n",
              " 'what',\n",
              " 'that thing you know how to do',\n",
              " 'what',\n",
              " 'go to bed',\n",
              " 'hey everybody look im the funniest guy in the world',\n",
              " 'ive been wantin to tell you off for years but ive never had the nerve',\n",
              " 'you stink you and your whole lousy operation stinks i quit',\n",
              " 'all right then',\n",
              " 'could you give me a handful of peanuts maude',\n",
              " 'not those peanuts the ones at the bottom',\n",
              " '',\n",
              " '',\n",
              " 'i must apologize for my husband',\n",
              " 'hmmm thank you i will dr hibbert thanks for coming',\n",
              " 'i have never been so embarrassed in my life',\n",
              " 'why whatd you do',\n",
              " 'marge',\n",
              " 'come here',\n",
              " 'wherewhere are we going',\n",
              " 'shhh',\n",
              " 'i want to make sure the kids dont hear when i was young i always hated knowing my parents were fighting',\n",
              " 'theyre fighting in the car again',\n",
              " 'that music always sends a chill down my spine',\n",
              " 'homer do you remember the way you acted at the party last night',\n",
              " 'the way i acted',\n",
              " 'so i said i must get out of these wet clothes and into a dry martini',\n",
              " 'i put it there',\n",
              " 'i slipped it into your glass as a gag',\n",
              " 'homer i like to think that im a patient tolerant woman and that there was no line you could cross that could make me stop loving you but last night you didnt just cross that line you threw up on it',\n",
              " 'im sorry honey cant we just forget it and go to church',\n",
              " 'im going to church alone today youre going to stay here and explain to bart why you scarred him for life',\n",
              " 'no i didnt i oh you mean inside dont you',\n",
              " 'about last night you might have noticed daddy acting a little strange and you probably dont understand why',\n",
              " 'i understand why you were wasted',\n",
              " 'i admit it i didnt know when to say when im sorry it happened and i just hope you didnt lose a lot of respect for me',\n",
              " 'dad i have as much respect for you as i ever did or ever will',\n",
              " 'aw',\n",
              " 'marge marge',\n",
              " 'sorry reverend',\n",
              " '',\n",
              " 'hmmmm',\n",
              " 'oh well its very tempting really a wonderful idea',\n",
              " 'marge what are you doing are you insane',\n",
              " 'well be there',\n",
              " '',\n",
              " 'marriage encounter weekend here i come',\n",
              " 'now you wanna go',\n",
              " 'theyre holding it at catfish lake they couldnt call it catfish lake if it didnt have a catfish in it',\n",
              " 'were going to this retreat to give our marriage a tuneup and thats all no fishing',\n",
              " 'oh that must be the babysitter',\n",
              " 'hello im mrs simpson',\n",
              " 'come back for more eh',\n",
              " 'oh my where are we supposed to get a sitter on such short notice',\n",
              " 'oh dear if we cant find a babysitter we cant go what a kick in the teeth',\n",
              " 'what do you need a babysitter for im almost ten and a half',\n",
              " 'mom you wouldnt dare',\n",
              " 'dont take that tone with me young lady or ill give you a taste of the back of me hand',\n",
              " 'no you dont',\n",
              " 'grampa',\n",
              " 'grampa could you do something',\n",
              " 'well i was wondering do you think you could babysit the kids this weekend i wouldnt ask except im desperate',\n",
              " 'marge just puttin a few last things in the trunk',\n",
              " 'now if maggie runs a fever you call this number if she sticks her finger in an electrical socket call this number and if she drinks pine cleanser call this',\n",
              " 'all right all right goodbye children and behave yourselves',\n",
              " 'call this number if grampa falls in the bathtub',\n",
              " 'grampa mom was in such a hurry she forgot to give you this its a list of the things lisa and i can and cant do',\n",
              " 'hmmm bait',\n",
              " 'whoa better get some gas',\n",
              " 'fill er up i guess ill go and stretch my legs',\n",
              " 'catfish lake',\n",
              " 'wait wait a minute wait a minute whos general sherman',\n",
              " 'oh yeah',\n",
              " 'whoa who says that',\n",
              " 'oh',\n",
              " 'hmmmm gentlemen i am going to catch general sherman',\n",
              " 'after the supermarket well go to the video store grab a krusty burger and head for the arcade',\n",
              " 'bart grampas a kindly old man who trusts us are you sure its right to take advantage of him',\n",
              " 'lis in these crazy topsyturvy times whos to say whats right or wrong but right now my guts telling me bleed gramps dry',\n",
              " 'hello reverend were glad we could come oh hello helen',\n",
              " 'none of your business flanders',\n",
              " 'uh say uh reverend are we gonna get a chance to do any fishing',\n",
              " 'oh',\n",
              " 'i see i also understand bowling expressions',\n",
              " 'lucky you dont keep guns in the house',\n",
              " 'ohhh because i got drunk and looked down her dress',\n",
              " 'shes perfect',\n",
              " 'well sometimes that can be annoying',\n",
              " 'oh homer',\n",
              " 'im done',\n",
              " 'well its not that i dont love the guy im always sticking up for him its just that hes so selfcentered',\n",
              " 'he forgets birthdays anniversaries holidays  both religious and secular  he chews with his mouth open he gambles he hangs out at a seedy bar with bums and lowlifes',\n",
              " 'its true its all true',\n",
              " 'sorry',\n",
              " 'he blows his nose on the towels and puts them back in the middle',\n",
              " 'i only did that a couple of times',\n",
              " 'half a gallon of chocolate',\n",
              " 'check',\n",
              " 'half a gallon of chocolate brownie fudge',\n",
              " 'check',\n",
              " 'half a gallon of chocolate chocolate chocolate chocolate chip',\n",
              " 'check',\n",
              " 'grampa what a question',\n",
              " 'whats next lis',\n",
              " 'sprinkles and syrup',\n",
              " 'hey grampa aisle six and step on it',\n",
              " ' he drinks out of the carton he never changes the baby when he goes to sleep he makes chewing noises and when he wakes up he makes honking noises oh oh and he scratches himself with his keys i guess thats it oh no wait he kicks me in his sleep and his toenails are too long and yellow thats all i can think of right now i guess youre all tired and i want to thank you for letting me get some things off my chest',\n",
              " 'yeah you should go to bed grampa weve had a big day',\n",
              " 'its no use kidding myself im having an ethical crisis',\n",
              " 'out at five catch general sherman at fivethirty clean him at six eat him at sixthirty back in bed by seven with no incriminating evidence  the perfect crime',\n",
              " 'homer youre sneaking out to go fishing i cant believe your selfishness you can go fishing anytime but were here trying to save our marriage youre thinking about fishing even when im talking right now right',\n",
              " 'would this be a good time to be honest',\n",
              " 'yes',\n",
              " 'youre right i am help me marge what do i do to be a good guy',\n",
              " 'get back in bed',\n",
              " 'no',\n",
              " 'all right but i cant sleep can i take a walk',\n",
              " 'sure',\n",
              " 'gotta be a good husband gotta be a good husband gotta be a good husband',\n",
              " 'hey kid you forgot your whoa',\n",
              " 'go ahead general sherman waste your strength you big ugly catfish i gotta skillet and a stick of butter with your name on it',\n",
              " 'homer',\n",
              " 'yes ten please',\n",
              " 'hey grampa top me off',\n",
              " 'for the last time yes',\n",
              " 'good give up',\n",
              " 'huh',\n",
              " '',\n",
              " 'hey milhouse big blowout at casa de simpson the only adult is frail and old',\n",
              " 'do i have to do this',\n",
              " 'okay fish youre probably wondering why im still here catching you will make me the most famous fisherman there is right up there with that the a bald guy on that cable fishing show',\n",
              " 'whoa holy mackerel',\n",
              " 'milhouse good to see you pal whats happening man',\n",
              " 'not yet but the afternoon is young',\n",
              " 'lisa whats wrong',\n",
              " 'isnt it obvious weve degraded ourselves and set back the childrens rights movement for decades to come',\n",
              " 'youre great at a party lisa really great',\n",
              " 'i love you but i must kill you',\n",
              " 'yeah take care man hey thanks for coming hey nice tie nelson',\n",
              " 'lisa i have this strong unpleasant feeling ive never had before',\n",
              " 'its called remorse you vile burlesque of irrepressible youth',\n",
              " 'well how do you make this feeling go away',\n",
              " 'you grab a bucket and a brush and clean harder and faster than you ever have before',\n",
              " 'i am the champions  i am the champions  no time for losers  cause i am the champions  of the worlllld',\n",
              " 'uh oh',\n",
              " 'hi honey uh oh hows the marriage retreat going',\n",
              " 'please dad',\n",
              " 'we came to this retreat because i thought our marriage was in trouble but i never for a minute thought it was in this much trouble homer how can you expect me to believe',\n",
              " 'marge you dont know what this fish means this fish represents a better life for both of us this fish makes me a champion and a hero',\n",
              " 'to who',\n",
              " 'to those weirdos in the worm store',\n",
              " 'all this fish represents is just how selfish you are',\n",
              " 'well if thats the way you feel ill throw it back',\n",
              " 'oh yeah sure',\n",
              " 'watch',\n",
              " 'wow i did it i gave up fame and breakfast for my marriage i fought it for six hours she says one word and i toss it back and youre telling me our marriage is in trouble come here baby',\n",
              " 'ohhh homer',\n",
              " 'were back',\n",
              " 'hows your marriage',\n",
              " 'same as usual perfectomundo',\n",
              " 'oh my the house looks wonderful grampa whats your secret',\n",
              " 'way to go grampa',\n",
              " 'ill never trust another old person',\n",
              " 'hurry mom if we dont get to the convention soon all the good comics will be gone',\n",
              " 'wow number nine thats before fallout boy became his ward',\n",
              " 'what do you care about good comics all you ever buy is casper the wimpy ghost',\n",
              " 'i think its sad that you equate friendliness from wimpiness and i hope it will keep you from ever achieving true popularity',\n",
              " 'well you know what i think i think caspers the ghost of richie rich',\n",
              " 'hey they do look alike',\n",
              " 'i wonder how richie died',\n",
              " 'perhaps he realized how hollow the pursuit of money is and took his own life',\n",
              " 'kids could you lighten up a little',\n",
              " 'now radioactive man he rules never punches a bad guy without saying something cool',\n",
              " 'hes no wittier than the next superhero',\n",
              " 'oh yeah look he knocks a guy into the sun and says hot enough for ya',\n",
              " 'i stand corrected',\n",
              " 'were here',\n",
              " 'too bad we didnt come dressed as popular cartoon characters',\n",
              " 'this looks like a discount for',\n",
              " 'bartman',\n",
              " 'im bartman',\n",
              " 'lousy rip off',\n",
              " 'please dad',\n",
              " 'hey ottoman oooh whats that',\n",
              " 'cool',\n",
              " 'the guy who played fallout boy on tv',\n",
              " 'wow i guess he wasnt killed in vietnam',\n",
              " 'ooh ooh ooh ooh over here fallout boy oh oh me me me me me',\n",
              " 'do you think the ghost of dirk richter haunts the bordello where his bulletriddled body was found',\n",
              " 'wow radioactive man number one',\n",
              " 'i bet its worth a million bucks',\n",
              " 'all i got is thirty',\n",
              " 'but i must until this moment i never knew why god put me on this earth but now i know to buy that comic book',\n",
              " 'so did you kids have fun',\n",
              " 'yeah mom guess what for a dollar a man sold me thirtyfive caspers and a dozen lois lanes',\n",
              " 'ohhh',\n",
              " 'i never knew what superman saw in her give me wonder woman and that golden lariat she can tie me up any time',\n",
              " 'homer',\n",
              " 'i was just kidding marge hey what does everyone say to dinner at krusty burger my treat',\n",
              " 'all right homer whoa you really are a sport dad taking us out to a fine restaurant like krusty burger',\n",
              " 'all right what are you getting at',\n",
              " 'i need a hundred dollars for a comic book',\n",
              " 'a hundred bucks for a comic book who drew it michamalangelo',\n",
              " 'oh please dad i want this more than anything in the world',\n",
              " 'well ts',\n",
              " 'please dad',\n",
              " 'no',\n",
              " 'please dad',\n",
              " 'no',\n",
              " 'please dad',\n",
              " 'no',\n",
              " 'please dad',\n",
              " 'no',\n",
              " 'please dad',\n",
              " 'no',\n",
              " 'please dad',\n",
              " 'no',\n",
              " 'please dad',\n",
              " 'no',\n",
              " 'please dad',\n",
              " 'no now look son we all know that usually when you bug me like this i give in so im not mad at you for trying it shows youve been paying attention but we all know im not gonna give you a hundred dollars now are you gonna stop bugging me',\n",
              " 'no',\n",
              " 'are you',\n",
              " 'no',\n",
              " 'are you',\n",
              " 'no',\n",
              " 'are you',\n",
              " 'no',\n",
              " 'are you',\n",
              " 'no',\n",
              " 'are you',\n",
              " 'no',\n",
              " 'are you',\n",
              " 'no',\n",
              " 'are you',\n",
              " 'no',\n",
              " 'are you',\n",
              " 'no',\n",
              " 'are you',\n",
              " 'no',\n",
              " 'are you',\n",
              " 'okay',\n",
              " 'hee hee i win in your face yeah how do you like them apples woo hoo hoo',\n",
              " 'dont gloat homer you know bart when i was your age the one thing i wanted more than anything in the world was a childsized electric lightbulb oven my parents wouldnt give me the money so i went to my sisters patty and selma',\n",
              " 'for months i worked and worked while my sisters smoked and smoked',\n",
              " 'but the big day finally came and because id worked for it all those lightbulbwarmed treats always tasted extragood',\n",
              " 'so maybe a parttime job is the answer',\n",
              " 'aw mom i couldnt ask you to do that youre already taking care of maggie and lisa is such a handful ',\n",
              " 'she means you should get a job stupid',\n",
              " 'me',\n",
              " 'bart what are you staring at',\n",
              " 'uh nothing',\n",
              " 'bart stop it',\n",
              " 'sorry',\n",
              " 'i need some money  a lot of money ahh',\n",
              " 'empty bottles empty bottles',\n",
              " 'hm well its practically empty',\n",
              " 'here you go apu',\n",
              " 'no not today i need the dime',\n",
              " 'ahha',\n",
              " 'americanize this my good man',\n",
              " 'all those coins were only worth three lousy cents',\n",
              " 'oh this is so humiliating i feel like such a geek',\n",
              " 'hows it going bart',\n",
              " 'terrible cars slow down to laugh at me but no ones buying',\n",
              " 'maybe you need to play on their sympathies more lets see',\n",
              " 'ah ha now you look pathetic',\n",
              " 'lemonade sucks i need a new product lets see  ah',\n",
              " 'form a line no crowding cheap beer and a sympathetic ear step right up',\n",
              " 'beat it',\n",
              " 'ugh my dog ate it',\n",
              " 'say writing all those tickets must make you guys thirsty how about a couple on the house',\n",
              " 'so long officers uhoh',\n",
              " 'hey whats all the ',\n",
              " 'my beer my beer my beautiful beer',\n",
              " 'the poor boy is so desperate he wants to earn money to buy a comic book',\n",
              " 'i dont think so',\n",
              " 'mrs glick',\n",
              " 'no thanks whos that',\n",
              " 'no thanks',\n",
              " 'oh yes maam',\n",
              " 'ugh i think id rather just get to work maam',\n",
              " 'all of em',\n",
              " 'ow  ow',\n",
              " 'finished',\n",
              " 'listen lady you dont have to  yaaauuuuggghhh',\n",
              " 'hi mom',\n",
              " 'did you make any money',\n",
              " 'not yet but at least im in a lot of pain',\n",
              " 'well i think what youre doing for mrs glick is very nice the poor old thing doesnt have anybody',\n",
              " 'theres a reason',\n",
              " 'ill sludge you you old bat',\n",
              " 'some old lady thing nobodys heard about for fifty years',\n",
              " 'great story lady',\n",
              " 'last night i dreamed i held you in my arms',\n",
              " 'no no not the iodine burn the germs off with a torch amputate my arm but not the  yaaauuuggghhh',\n",
              " 'two quarters',\n",
              " 'two quarters',\n",
              " 'listen lady i can leave without screaming and i can leave without saying a bad word but theres no way that i am saying thank you',\n",
              " 'moon pies my butt somebody oughta moon pie her',\n",
              " 'whats the problem boy',\n",
              " 'ive been bustin my hump all week for that withered old clam and all i got was fifty cents',\n",
              " 'hey when i was your age fifty cents was a lot of money',\n",
              " 'really',\n",
              " 'nah',\n",
              " 'dad ive done everything i could and ive only got thirtyfive bucks ugh i am through with working working is for chumps',\n",
              " 'son im proud of you i was twice your age before i figured that out',\n",
              " 'can i have it for thirtyfive',\n",
              " 'wait a minute martin if you milhouse and i went in together we could buy a copy of radioactive man no  right now',\n",
              " 'look pal weve got a hundred bucks and wed like to buy radioactive man no  so why dont you just waddle over there and get it',\n",
              " 'wow breathe it in boys',\n",
              " 'uhoh looks like rain we better get this baby home',\n",
              " 'uhoh',\n",
              " 'now you know better',\n",
              " 'listen you guys are welcome to come over and read it any time you like',\n",
              " 'your house thats crazy talk',\n",
              " 'perfect',\n",
              " 'yeah what about sunday',\n",
              " 'perfect',\n",
              " 'yeah what about zero',\n",
              " 'uh uh uh ah nice try martin it almost worked but tonight this comic book stays right here',\n",
              " 'fine were all going to stay here with the comic book itll be like a sleepover yeah a sleepover thats what pals do right real friendlylike',\n",
              " 'nice try mister',\n",
              " 'what do you mean the last one alive',\n",
              " 'yeah sure you did',\n",
              " 'i knew it youre both against me well nobody makes a sap out of bartholemew j simpson',\n",
              " 'i thought you boys might like some milk and microwave smores',\n",
              " 'sweet dreams boys',\n",
              " 'one more step and youre a dead man',\n",
              " 'yeah right so do i but you dont see me gettin up',\n",
              " 'our dear friend martin was trying to steal the comic book',\n",
              " 'hmp impressive',\n",
              " 'quiet piggy or well stick an apple in your mouth we cant take any chances well have to take turns watching him',\n",
              " 'oh so thats your little game let old bart get nice and drowsy then when his back is turned wham',\n",
              " 'well it is not going to happen see',\n",
              " 'hey martin tell him what we do with squealers',\n",
              " 'the hell i cant',\n",
              " 'homer its really coming down could you check on the boys',\n",
              " 'theyre fine',\n",
              " 'milhouse its not that far to the ground and the rain has probably softened it up a bit',\n",
              " 'shut up shut up',\n",
              " 'boys you better come in the house you dont want to get the sniffles',\n",
              " 'aw mom',\n",
              " 'now come on you can play your little tieup game inside ive got some cocoa on the stove who wants imitation marshmallows',\n",
              " '',\n",
              " 'we worked so hard and now its all gone we ended up with nothing because the three of us cant share',\n",
              " 'nothing it just kind of ticks me off',\n",
              " 'jokes on them if the core explodes there wont be any power to light that sign',\n",
              " 'how many hairs on my head without looking',\n",
              " 'i cant believe you guys theres a human being out there with millions of dollars who needs our help and you dont wanna cash in thats why you losers are stuck in this crummy dead end job',\n",
              " 'sorry sir',\n",
              " 'maggie look whats that',\n",
              " 'leemur leemur',\n",
              " 'zeeboo zeeboo',\n",
              " 'what are you doing honey',\n",
              " 'im trying to teach maggie that nature doesnt end with the barnyard i want her to have all the advantages that i didnt have',\n",
              " 'lisa we did the best we could whats a zebu',\n",
              " 'its like an ox only it has a hump and a dewlap hump and dewlap hump and dewlap',\n",
              " 'marge marge whats my blood type',\n",
              " 'apositive',\n",
              " 'aw nuts extremely rare blood and i dont have it',\n",
              " 'you know his blood type how romantic',\n",
              " 'a mother knows everything about her family',\n",
              " 'oh yeah whats my shoe size',\n",
              " 'four b',\n",
              " 'how many teeth do i have',\n",
              " 'sixteen permanent eight baby',\n",
              " 'earmuffs',\n",
              " 'xl',\n",
              " 'ring',\n",
              " 'i dont want you wearing rings it looks cheap but three',\n",
              " 'allergies',\n",
              " 'butterscotch and imitation butterscotch',\n",
              " 'and',\n",
              " 'glow in the dark monster makeup',\n",
              " 'oh homie you have lots of hair why did you want to know your blood type',\n",
              " 'aw old man burns is gonna kick off if he doesnt get some doubleonegative blood but nobody at the plant has it',\n",
              " 'bart does',\n",
              " 'woo yes all right woo congratulations boy youve got a date with a needle',\n",
              " 'hey wait a minute i dont have to give blood i have rights you know',\n",
              " 'yeah you have the right to remain silent',\n",
              " 'bart you have to help someone in need its the only decent thing to do',\n",
              " '',\n",
              " 'bart its not like im asking you to give blood for free that would be crazy youre a little young to understand this but when you save a rich mans life he showers you with riches dont you know the story of hercules and the lion',\n",
              " 'is it a bible story',\n",
              " 'yeah probably anyway once upon a time there was a big mean lion who got a thorn in his paw and all the village people tried to pull it out but nobody was strong enough so they got hercules and hercules used his mighty strength and bingo anyway the moral is the lion was so happy he gave hercules this big thing of riches',\n",
              " 'how did a lion get rich',\n",
              " 'it was the olden days',\n",
              " 'oh',\n",
              " 'hey lets go emergency lifeordeath here',\n",
              " 'whoa ottoman you work here',\n",
              " 'now lets get the show on the road',\n",
              " 'eh the boy',\n",
              " 'mr burns hes okay jackpot',\n",
              " 'bill bill summons bill wait a minute from cm burns is this it yes this is it woohoo woo',\n",
              " 'marge lisa maggie lets do this out in the yard where the neighbors can see',\n",
              " 'lisa dim the lights no turn on more lights but do something',\n",
              " 'yes dad',\n",
              " 'its a little thin but thats okay could be a check',\n",
              " 'the meaning of what',\n",
              " 'better half marge better half',\n",
              " 'all right theres no check just a card but dont panic im sure it tells us what were getting and where we can pick it up dear bart thank you kindly for the blood yours truly montgomery burns its just a card',\n",
              " 'this is some way to show your gratitude no gold no diamonds no rubies not even a lousy card wait a minute there was a card thats what got me so mad in the first place',\n",
              " 'homer you dont do things like that to be rewarded you do them because a fellow human being needs a helping hand',\n",
              " 'marge youre my wife and i love you very much but youre living in a world of makebelieve with flowers and bells and leprechauns and magic frogs with funny little hats',\n",
              " 'yeah mom we got hosed',\n",
              " 'bart',\n",
              " 'we got exactly what we wanted out of this we gave an old man a second chance',\n",
              " 'i promised my boy one simple thing lots of riches and that man broke my promise well ive had it bart take a letter',\n",
              " 'dear mr burns im so glaaad you enjoyed my sons blood and your caard was just great in case you cant tell im being sarcastic you stink could you read that last part back to me',\n",
              " 'you stink',\n",
              " 'good you are a senile bucktoothed old mummy with bony girl arms and you smell like',\n",
              " 'an elephants butt',\n",
              " 'an elephants butt',\n",
              " 'but hes your boss do you have to mail it right this minute',\n",
              " 'yup',\n",
              " 'youre still angry homer why dont you sleep on it',\n",
              " 'forget it marge',\n",
              " 'please homie for me',\n",
              " 'oh all right you always do that hand thing and it usually works',\n",
              " 'cheap sonofa',\n",
              " 'homer breakfast is ready',\n",
              " 'hmmm',\n",
              " 'oh marge you saved me from making a big mistake yknow i finally understand the meaning of mmphm hnmph',\n",
              " 'oh thank you',\n",
              " 'wheres the letter',\n",
              " 'where is it',\n",
              " 'homer i dont think its in the cornstarch canister',\n",
              " 'well its somewhere it didnt just get up and walk away',\n",
              " 'bart have you seen the letter',\n",
              " 'yup',\n",
              " 'all right think very carefully where did you see it last',\n",
              " 'the last place i saw it',\n",
              " 'uh huh',\n",
              " 'was in my hand',\n",
              " 'yeah',\n",
              " 'as i was shoving it into the mailbox',\n",
              " 'why did you do that',\n",
              " 'dad there were things in the letter that had to be said and i know you youre an emotional guy just because you were mad last night is no guarantee youd be mad in the morning so i',\n",
              " 'ill show you mad in the morning',\n",
              " 'homer you encouraged him you should be strangling yourself',\n",
              " 'shes right okay think homer dont panic they dont pick up the mail till noon theres still time',\n",
              " 'ow ow ow ow ow ow ow',\n",
              " 'give it up homer its locked up tight',\n",
              " 'locked eh well i just might have a little surprise up my sleeve for old mr lock step aside boy',\n",
              " 'why the hose homer',\n",
              " 'what does it look like ill get our letter so wet the ink will run and no one will be able to read it',\n",
              " 'yeah but dont other people have mail in there',\n",
              " 'so a few people wont get a few letters boohoo you know the kinda letters people write dear somebodyyouneverheardof how is soandso blah blah blah blah blah blah blah yours truly some bozo big loss',\n",
              " 'now bart you keep an eye out for the mailman just give me some kind of signal',\n",
              " 'dad the mailman is here',\n",
              " 'thats a good one well use that',\n",
              " 'no i mean the mailmans here',\n",
              " '',\n",
              " 'uh uh ii guess it wouldnt do any good to run cause youre our mail lady and you know my name and address and everything huh',\n",
              " 'well im still gonna run',\n",
              " 'i dont know',\n",
              " 'great plan bart',\n",
              " 'ooh look maggie what is that dodecahedron dodecahedron',\n",
              " 'lisa i dont know what youre doing but its very strange and your father is trying to worry',\n",
              " 'oops',\n",
              " 'twenty eight minutes till burns comes time for operation mail take',\n",
              " 'they always told me i was gonna destroy the family but i never believed it',\n",
              " 'homer simpson',\n",
              " 'yeah well ill be on my ',\n",
              " 'hey cmon joey do you have to twist my arm',\n",
              " 'oh ive never seen mr burns this mad and hes always kinda mad',\n",
              " '',\n",
              " 'me and my big letter writing pen',\n",
              " 'honey whats done is done no matter what happens well pull through we always do',\n",
              " 'okay heres the plan you can move in with your sisters and raise the kids and ill die in a gutter its practical and within our means',\n",
              " '',\n",
              " 'thats okay bart nobody really believed it we were just trying to scare you',\n",
              " 'eh yeah hello is mike there last name rotch',\n",
              " 'i got my problems moe give me another one',\n",
              " 'oh woe is me',\n",
              " 'oh my its mr burns',\n",
              " '',\n",
              " 'wait dad hes smiling',\n",
              " 'mr burns you brought us a present',\n",
              " 'wow a crowbar',\n",
              " 'its to open the crate stupid',\n",
              " 'what did i tell you ill bet its filled with diamonds rubies sapphires pearls',\n",
              " 'wow a big ugly head',\n",
              " 'awesome',\n",
              " 'no maggie not aztec olmec olmec',\n",
              " 'marge what does it do',\n",
              " 'it doesnt do anything',\n",
              " 'marge really what does it do',\n",
              " 'whatever it does its doing it now',\n",
              " 'save a guys life and whattaya get nothin worse than nothin just a big scary rock',\n",
              " 'hey man dont badmouth the head',\n",
              " 'homer its the thought that counts the moral of this story is a good deed is its own reward',\n",
              " 'hey we got a reward the head is cool',\n",
              " 'well then i guess the moral is no good deed goes unrewarded',\n",
              " 'wait a minute if i hadnt written that nasty letter we wouldnt have gotten anything',\n",
              " 'well then i guess the moral is the squeaky wheel gets the grease',\n",
              " 'perhaps there is no moral to this story',\n",
              " 'exactly its just a bunch of stuff that happened',\n",
              " 'but it certainly was a memorable few days',\n",
              " 'amen to that',\n",
              " 'bart bart hey bart',\n",
              " 'lisa its six am somethings wrong dad died',\n",
              " 'no no hes fine',\n",
              " 'well what do you know im relieved',\n",
              " 'bart my birthday is in two days im gonna be eight years old its a big number  almost double digits',\n",
              " 'well enjoy it while you can everything changes when you hit the big oneoh your legs start to go candy doesnt taste as good anymore ',\n",
              " 'lisa did it',\n",
              " 'bart will you please let me pour my little heart out',\n",
              " 'sorry this old timer does ramble on sometimes dont he',\n",
              " 'bart i do so much for you and yet you have disappointed me on every one of my birthdays ive made things for you but youve lost or broken them in hours but okay well forget all',\n",
              " 'okay uhhuh okay okay okay okay okay okay its done im doing it birthday gift coming your way',\n",
              " 'oh thank you',\n",
              " 'bart watch maggie while i get the laundry',\n",
              " 'can do',\n",
              " 'hm krusty hotline',\n",
              " 'maggie',\n",
              " 'bart i asked you to watch your sister',\n",
              " 'i tried to stop her but she overpowered me',\n",
              " 'who stole my shirt who stole my shirt',\n",
              " 'i washed it',\n",
              " 'oh thank you marge  pink',\n",
              " 'marge i cant wear a pink shirt to work everybody wears white shirts im not popular enough to be different',\n",
              " 'now homer dont panic you have plenty of white shirts',\n",
              " 'oh gimme gimme gimme gimme gimme',\n",
              " 'oh no pink pink pink its all over marge its all over',\n",
              " 'i dont know how this could have happened',\n",
              " 'ah my lucky red hat clean as a whistle',\n",
              " 'you you did this to me',\n",
              " 'homer please no ones going to notice if you wear a pink shirt to work',\n",
              " 'mmm thanks  it looks hey wait a minute just because im wearing a pink shirt it doesnt mean im some kind of a pink doughnuteater although it is tempting ',\n",
              " 'you dont understand my son just threw his red hat in with the white laundry',\n",
              " 'print name',\n",
              " 'honey do me a favor fill out this form',\n",
              " 'homer this is an intimate psychological profile i cant fill this out for you',\n",
              " 'all right all right ill get lisa to do it',\n",
              " 'lisa you like homework could you fill out this form for me',\n",
              " 'lisa its your birthday ',\n",
              " 'well all right  if you listen to the poem i just wrote',\n",
              " 'okay',\n",
              " 'meditations on turning eight by lisa simpson i had a cat named snowball  she died she died mom said she was sleeping  she lied she lied why oh why is my cat dead couldnt that chrysler hit me instead i had a hamster named snuffy  he died ',\n",
              " 'no deal',\n",
              " 'dad maybe you should do this',\n",
              " 'son its no different than the time i let you vote for me remember that absentee ballot',\n",
              " 'oh yeah',\n",
              " '',\n",
              " 'look at him',\n",
              " 'awww',\n",
              " 'dog on fire dog on fire',\n",
              " 'hey dad do you hear voices',\n",
              " 'yes im hearing one right now while im trying to watch tv',\n",
              " 'yes are you quick to anger',\n",
              " 'bart shut up or ill shut you up',\n",
              " 'yes do you wet your pants well even the best of us has an occasional accident',\n",
              " 'so did i pass',\n",
              " 'the devil with his fly open',\n",
              " 'thats a spill on a floor with bugs goin after it theyre gonna eat it',\n",
              " 'arrghh',\n",
              " 'happy birthday lisa ',\n",
              " 'the boy this isnt fair how can you tell whos sane and whos insane',\n",
              " 'who are you',\n",
              " 'im homer simpson from the simpsons',\n",
              " 'oh of course ive heard of you i mean youd have to be living under a rock not to know  whatd you say your name was',\n",
              " 'doesnt ring a bell',\n",
              " 'what was that last one',\n",
              " 'nope',\n",
              " 'wow how do you do that thing with your feet',\n",
              " 'no that thing with your feet',\n",
              " '',\n",
              " 'because i wore a pink shirt',\n",
              " 'whatd you wear',\n",
              " 'bblbblbblbbl',\n",
              " 'bart in the split second before he died i bet scratchy appreciated his birthday present you see how this relates to us',\n",
              " 'hey you want that once a year empty gesture you got it sis',\n",
              " 'hey michael i dont get it these guys seem as normal as you and me',\n",
              " 'okay five times nine',\n",
              " 'wowww',\n",
              " 'hey chief',\n",
              " 'gee i gotta call my family',\n",
              " 'oh this is so embarrassing calling em from a nut house i mean they think im a god',\n",
              " 'oh great and uh try to put a good face on this tell them this is one of those places where rich women lose weight',\n",
              " 'joes crematorium you kill em we grill em',\n",
              " 'im bart simpson who the hell are you',\n",
              " 'the michael jackson no way',\n",
              " 'uhhuh and is elvis with you',\n",
              " 'aw come on if youre really michael jackson who were your last four dates for the grammys',\n",
              " 'shiver me timbers you are michael jackson can you stay on the line while i get all my friends and relatives',\n",
              " 'thats all right son',\n",
              " 'well theres probably a downsize i dont see uhhuh new bedlam asylum loves us needs us fears he may never see us again got it michael jackson whoohoo i love you man',\n",
              " 'hey mom dads in a mental institution',\n",
              " 'oh my god mother was right',\n",
              " 'whats that',\n",
              " 'i told you kids you were going to send your father to the crazy house',\n",
              " 'no mom you said poor house',\n",
              " 'i said crazy house',\n",
              " 'poor house',\n",
              " 'crazy house',\n",
              " 'poor house',\n",
              " 'crazy house',\n",
              " 'this place is so strange mike im ashamed to admit it to another guy but im scared',\n",
              " 'pancakes football boobies',\n",
              " 'was the door locked',\n",
              " 'was it raining',\n",
              " 'were you out of gas',\n",
              " 'baby',\n",
              " 'doctor if you just talked to him for five minutes without mentioning our son bart youd see how sane he is',\n",
              " 'mmm pancakes',\n",
              " '',\n",
              " 'marge',\n",
              " 'oh homie',\n",
              " 'thats the most flattering thing anyone has ever said to me could i have it in writing please',\n",
              " 'not insane',\n",
              " 'thanks a lot michael you really helped me get through this if you ever find your marbles come visit us',\n",
              " 'you are why',\n",
              " 'happy birthday to me  happy birthday to me  happy birthday overlooked middle child  happy birthday to me',\n",
              " 'joes taxidermy you snuff em we stuff em',\n",
              " 'boy when i get home im going to wrap my hands around your neck ',\n",
              " '',\n",
              " 'homer whatever theyve got you on cut the dose',\n",
              " 'now listen im bringing michael jackson home to stay with us for a few days isnt that cute  hes heard of you now make sure we have plenty of cold cuts and put some beer on ice',\n",
              " 'are you sure youre here voluntarily',\n",
              " 'yes dad i solemnly swear i will not tell another living soul no not even milhouse',\n",
              " 'hello milhouse can you keep a secret',\n",
              " 'oh well who cares michael jackson is coming to my house',\n",
              " 'aye carumba',\n",
              " 'thanks everybody its great to be sane',\n",
              " 'here he is heres the guy you wanna see',\n",
              " 'huh',\n",
              " 'huh huh',\n",
              " 'bart the entire town is howling for your blood and before i join them i have one question today is my birthday  you promised to get me something and and im afraid to ask',\n",
              " 'you know maybe you should trust that instinct and not ask',\n",
              " 'i thought so oh bart you',\n",
              " 'come off im sane now',\n",
              " 'dear bart i am using the stationery mom and dad gave me for my birthday to inform you that we are now brother and sister in name only perhaps if a professional so advises i will give you a hug at some far distant family reunion but rest assured it will be purely for show',\n",
              " 'hey you',\n",
              " 'i wish you better than your heart desire ',\n",
              " 'stiffed em',\n",
              " 'i cant write a song im only ten',\n",
              " 'hey looney tunes this is what michael jackson looks like you look like a big fat mental patient',\n",
              " 'just leave me alone',\n",
              " 'wait wait michael you go sit at the piano and ill boil some coffee',\n",
              " 'lisa her teeth are big and green  lisa she smells like gasoline  lisa da da da deesa  she is my sista her birthday i missedta',\n",
              " 'i dont have any',\n",
              " 'thats cause she knows youre looking at her',\n",
              " 'although i am aware you are looking at me i would look exactly the same even if you werent',\n",
              " 'well your training wheels come off your bike',\n",
              " 'youre just putting that in because its commercial',\n",
              " 'lisa lisa lisa',\n",
              " 'huh wha bart its six am',\n",
              " 'thats right hope you like your present and aone and atwo and a one two three four ',\n",
              " 'happy birthday lisa ',\n",
              " 'lisa its your birthday  happy birthday lisa ',\n",
              " 'lisa its your birthday  happy birthday lisa',\n",
              " 'yeah',\n",
              " 'oh this is the best present i ever got thank you bart thank you michael',\n",
              " 'hey michael what happened to your voice',\n",
              " 'not me i got this',\n",
              " 'bye bye leon  bye roomie  bye pardner  youre a credit to dementia',\n",
              " 'lisa its your birthday  happy birthday lisa  lisa its your birthday  happy birthday lisa',\n",
              " 'i wish you better than your hearts desire ',\n",
              " 'lisa its your birthday  happy birthday lisa  lisa its your birthday  happy birthday lisa',\n",
              " 'take it away lis',\n",
              " 'lisa its your birthday  happy birthday lisa',\n",
              " 'stupid junk mail you may have already won yeah win this heres good news for homer simpsoy ill see that he gets it how dumb do they think i am',\n",
              " 'huh a check',\n",
              " 'oh yeah well what makes you so damn sure',\n",
              " 'shut up',\n",
              " 'i had a feeling it was too good to be true every time you get a million dollars something queers the deal',\n",
              " 'i dont think real checks have exclamation points',\n",
              " 'well at least we got a free sample of reading digest',\n",
              " 'marge i never read a magazine in my life and im not gonna start now',\n",
              " 'hey a cartoon',\n",
              " 'well dear you always wanted a compact  aint it the truth',\n",
              " 'no it is not the truth homer its well documented that women are safer drivers than men',\n",
              " 'oh marge cartoons dont have any deep meaning theyre just stupid drawings that give you a cheap laugh',\n",
              " 'nah you go ahead',\n",
              " 'as tolstoy said in quotable notables give me learning sir and you may keep your black bread',\n",
              " 'marge look at them staring at that idiot box god forbid they would ever read something and improve their minds',\n",
              " 'youve certainly taken a shine to that magazine',\n",
              " 'ooh how about the v',\n",
              " 'its not just one magazine marge they take hundreds of magazines filter out the crap and leave you with something that fits right in your front pocket',\n",
              " 'those kids dont know what theyre missing',\n",
              " 'daaad',\n",
              " 'hey what gives man',\n",
              " 'were all gonna sit down as a family and listen to an inspiring story of wilderness survival',\n",
              " 'then i heard the sound that all arctic explorers dread the pitiless bark of the sea lion hell be killed',\n",
              " 'homer he obviously got out alive if he wrote the article',\n",
              " 'dont be so',\n",
              " 'oh youre right',\n",
              " 'homie put down your magazine for a minute',\n",
              " 'hmph',\n",
              " 'i thought you might want to snuggle',\n",
              " 'that reminds me seven ways to spice up your marriage',\n",
              " 'marge you have a nice body and if youd like to see me in a costume you have only to ask',\n",
              " 'thank you homie',\n",
              " 'wow little meatloaf men',\n",
              " 'where did you get the idea for this mom',\n",
              " 'where do you think this baby never steers you wrong and it was free free',\n",
              " 'it certainly has enriched our lives',\n",
              " 'wow win a trip to washington dc all expenses paid vip tour oh its for kids',\n",
              " 'wait dad',\n",
              " 'hm an essay contest children under twelve three hundred words fiercely proamerican sounds interesting',\n",
              " 'bart maybe this is something youd like to do too',\n",
              " 'mom its a nice thought but we both know that this is the pony to bet on',\n",
              " 'what would ben franklin say if he were alive today hed say oh think of a better opening',\n",
              " 'hows it going honey',\n",
              " 'not very well',\n",
              " 'ooh and miss just one more question ',\n",
              " 'well when i used to get stuck like this id go for a bike ride do kids go on bike rides anymore',\n",
              " 'yes',\n",
              " 'i dont know i thought maybe bikes werent cool anymore do kids still use that word cool',\n",
              " 'yes mom',\n",
              " 'okay america inspire me',\n",
              " 'wow a bald eagle',\n",
              " 'hmm',\n",
              " 'thanks for driving me to the contest dad',\n",
              " 'sweetheart theres nothing i wouldnt do for that magazine',\n",
              " 'yeah damn right',\n",
              " 'when america was born on that hot july day in  the trees in springfield forest were tiny saplings trembling towards the sun and as they were nourished by mother earth so too did our fledgling nation find strength in the simple ideals of equality and justice who would have thought such mighty oaks or such a powerful nation could grow out of something so fragile so pure thank you',\n",
              " 'okay',\n",
              " 'uhuh',\n",
              " '',\n",
              " '',\n",
              " 'woo hoo who wouldve guessed reading and writing would pay off',\n",
              " 'playing cards notepad aspirin sewing kit pilots wing pin propellorshaped swizzle stick sleeping mask and anything else ive got coming to me',\n",
              " 'oh baby',\n",
              " 'no thank you id rather push this button',\n",
              " 'were all gonna die',\n",
              " 'look marge that guy has the same last name we do taxi',\n",
              " 'oooh look homer the irs',\n",
              " 'booooo',\n",
              " 'here we are kids the watergate',\n",
              " '',\n",
              " '',\n",
              " 'homer look they give you a shower cap and body gel and bathrobes ooh and a welcoming mint on your pillow',\n",
              " 'wowww  a shoehorn just like in the movies',\n",
              " 'shoe goes on shoe goes off shoe goes on shoe goes off shoe goes on shoe goes off',\n",
              " 'hey i call first bedsies',\n",
              " 'bart theres no such thing as first bedsies you just made that up',\n",
              " 'well okay which one do you want',\n",
              " 'iiiiiii waaaaaannt that one',\n",
              " 'really you want that one its all yours whatever you say',\n",
              " 'why whats wrong with it',\n",
              " 'nothing have a good nights sleep lisa',\n",
              " 'no really what',\n",
              " 'nothing',\n",
              " 'what did you do to it',\n",
              " 'nothing',\n",
              " 'mommm',\n",
              " 'stupid welcoming mint yello',\n",
              " 'good morning this is your wakeup call',\n",
              " 'wakeup call its two am',\n",
              " 'sorry fatso',\n",
              " 'free food',\n",
              " 'ooh i love your magazine my favorite section is how to increase your word power that thing is really really really good',\n",
              " 'have either of you ever run into any problems because of your superior ability',\n",
              " 'ah me too',\n",
              " 'miss what does the i stand for',\n",
              " 'ah what does the i stand for again',\n",
              " 'on this spot richard nixon bowled backto back games',\n",
              " 'yeah right',\n",
              " 'wow the presidents bathroom',\n",
              " 'barbara bush',\n",
              " 'mmmmmm money',\n",
              " 'lousy cheap country',\n",
              " 'bart get out of the spirit of st louis',\n",
              " 'hey whats so funny',\n",
              " 'oh marge grow up',\n",
              " 'hello sir',\n",
              " 'only two i checked',\n",
              " 'mom',\n",
              " 'lisa the contest isnt for three hours',\n",
              " 'im too excited to sleep anyone up for the winifred beecher howe memorial',\n",
              " 'whos that',\n",
              " 'an early crusader for womens rights she led the floormop rebellion of  later she appeared on the highly unpopular  cent piece',\n",
              " '',\n",
              " 'okay but you dont know what youre missing',\n",
              " 'i will iron your sheets when you iron out the inequities in your labor laws amen sister',\n",
              " 'how could i read my essay now i dont believe my own words',\n",
              " 'honest abe hell show me the way',\n",
              " 'mr lincoln i',\n",
              " 'mr lincoln my name is lisa simpson and i have a problem',\n",
              " 'mr jefferson my name is lisa simpson and i have a problem',\n",
              " 'sorry sir its just that',\n",
              " 'uh maybe i should be going i caught you at a bad time',\n",
              " 'the truth must be told',\n",
              " 'rudy my man youre a miracle worker',\n",
              " 'there you go buy yourself something nice',\n",
              " 'bart are you ready to go to ill room service you',\n",
              " 'before you kill me remember this trip is all expenses paid',\n",
              " 'oh this guy is awful',\n",
              " 'i know honey but just sit still',\n",
              " 'i would like to read a different essay if i may',\n",
              " 'the city of washington was built on a stagnant swamp some  years ago and very little has changed it stank then and it stinks now only today it is the fetid stench of corruption that hangs in the air',\n",
              " 'cool a ruckus',\n",
              " 'and who did i see taking a bribe but the honorable bob arnold but dont worry congressman im sure you can buy all the votes you need with your dirty money and this will be one nation under the dollar with liberty and justice for none',\n",
              " 'lisa whats gotten into you',\n",
              " 'yeah your other speech was a little more crowd pleasin',\n",
              " 'im sorry dad i couldnt think of a nice way to say america stinks',\n",
              " 'gimme one of those',\n",
              " 'imprisoned congressman becomes bornagain christian',\n",
              " 'i cant believe it the system works',\n",
              " 'he already sang this song',\n",
              " 'no that was about the budget gap this is the trading gap',\n",
              " 'cesspool cesspool cesspool cesspool cesspool',\n",
              " 'give her the check',\n",
              " 'i was serious',\n",
              " 'bart',\n",
              " 'lis you taught me to stand up for what i believe in',\n",
              " 'im almost done',\n",
              " 'ill be there noty noty not',\n",
              " 'the flanders are having a beefathon incredible nedibles maudeacious vittles',\n",
              " 'i think it means hes having a barbecue',\n",
              " 'well why doesnt he just say so',\n",
              " 'hes trying to be friendly you know if you gave ned flanders a chance ',\n",
              " 'oh here we go again look i dont care if ned flanders is the nicest guy in the world hes a jerk end of story',\n",
              " 'we cant hold it against him just because he has things a little better than we do ',\n",
              " 'excuse me better thanks a lot marge you really put me in my place',\n",
              " 'oh homer',\n",
              " 'dont get me wrong its worth feeling three inches tall to find out what kind of a person you really are marge simpson president of the international we love flanders fan club',\n",
              " '',\n",
              " 'hi ned homer sends his apologies but uh there was some important work at the plant that only he could take care of',\n",
              " 'stupid flanders always showing off go ahead marge have a ball what if they game back and i was dead from not eating theyd cry their eyes out we should have never gone to the flanders oh why did we go to the flanders house and leave homer all alone with no food and id be laughing laughing from my grave',\n",
              " 'what is it boy what mmmmmmmm barbque',\n",
              " 'hey everyone im back great to see ya nice seein ya',\n",
              " 'youre it',\n",
              " 'no electricity electricity only in freeze tag',\n",
              " 'hey no tagbacks',\n",
              " 'yeah you cheater',\n",
              " 'the fly was funny and a booger was the icing on the cake',\n",
              " 'that was a joke',\n",
              " 'uh sounds like a pretty dumb idea to me',\n",
              " 'fun where is this store flanders the merry old land of oz',\n",
              " 'nah',\n",
              " 'no it isnt',\n",
              " 'hmm lets see',\n",
              " 'nah',\n",
              " 'hmmm',\n",
              " 'heyyyy',\n",
              " 'keep your pants on flanders im wishing as fast as i can',\n",
              " 'ooooh',\n",
              " '',\n",
              " 'mmmm  too far',\n",
              " 'okay ready',\n",
              " 'yesssss oh yessss read it and weep in your face ive got more chicken bone',\n",
              " 'oooh that would be a shame',\n",
              " 'wouldnt it flanders',\n",
              " '',\n",
              " 'bart how many hours a day do you watch tv',\n",
              " 'six seven if theres something good on',\n",
              " 'dont you think you should get a little fresh air and maybe some exercise',\n",
              " 'yeah but what are ya gonna do',\n",
              " 'marge tv gives so much and asks so little its a boys best friend',\n",
              " 'thats the problem even as we speak millions of children are staring at the tv instead of getting some muchneeded exercise those childrens parents should be ashamed of themselves',\n",
              " 'hey mom how bout if i learn karate will that we make you happy',\n",
              " 'that sounds fine bart',\n",
              " 'see marge you knock tv and then it helps you out i think you owe somebody a little apology',\n",
              " '',\n",
              " 'well if it isnt the leftorium',\n",
              " 'ow ow ow ow',\n",
              " 'hey flanders hows business',\n",
              " 'so flanders have you sold anything',\n",
              " 'um excuse me sir i already know how not to hit a guy can we break out the nunchucks',\n",
              " 'akira my good man when do we break blocks of ice with our heads',\n",
              " 'yo sensei can i go to the bathroom',\n",
              " 'paying money to read books the hell with this',\n",
              " 'come on touch of death touch of death touch of death',\n",
              " 'im telling you flanders store was deeserted so what do you think of your bestest buddy now marge',\n",
              " 'dad do you know what schadenfreude is',\n",
              " 'no i do not know what schadenfreude is please tell me because im dying to know',\n",
              " 'its the german term for shameful joy  taking pleasure in the suffering of others',\n",
              " 'oh come on lisa im just glad to see him fall flat on his butt hes usually all happy and comfortable and surrounded by loved ones and it makes me feel whats the opposite of that shameful joy thing of yours',\n",
              " 'sour grapes',\n",
              " 'boy those germans have a word for everything',\n",
              " 'so bart what did you learn in karate school today',\n",
              " 'yeah come on boy this better be worth my ten bucks',\n",
              " 'uh i learned the touch of death',\n",
              " 'ooh the touch of death',\n",
              " 'permit me to demonstrate lisa shut your eyes soon you will be at peace',\n",
              " 'hey quit it bart quit it hey quit it quit it quit it mooom',\n",
              " 'bart dont use the touch of death on your sister',\n",
              " 'uhoh gotta get back to karate class',\n",
              " 'you missed a spot',\n",
              " 'all right comin through outta my way move it along step aside lady',\n",
              " 'hey boy how was class',\n",
              " 'today we learned how to rip a mans heart out and show it to him before he dies',\n",
              " 'oh thatll learn im',\n",
              " 'hey flanders when are your busy hours',\n",
              " 'lousy he just sits there all day hed have a great job if he didnt own the place',\n",
              " 'uh well actually moe',\n",
              " 'hey lis change the channel',\n",
              " 'you change it',\n",
              " ...]"
            ]
          },
          "metadata": {
            "tags": []
          },
          "execution_count": 48
        }
      ]
    },
    {
      "cell_type": "code",
      "metadata": {
        "colab_type": "code",
        "outputId": "b5a3f414-8fad-445f-a793-8844e795ca32",
        "id": "BEvslZQ7Yt66",
        "colab": {
          "base_uri": "https://localhost:8080/",
          "height": 51
        }
      },
      "source": [
        "print((train_sequences[0]))\n",
        "print(len(train_padded[0]))\n",
        "\n",
        "#print(len(train_sequences[1]))\n",
        "#print(len(train_padded[1]))\n",
        "\n",
        "#print(len(train_sequences[10]))\n",
        "#print(len(train_padded[10]))\n",
        "\n",
        "# Expected Ouput\n",
        "# 12\n",
        "# 120\n",
        "# 3\n",
        "# 120\n",
        "# 10\n",
        "# 120"
      ],
      "execution_count": 0,
      "outputs": [
        {
          "output_type": "stream",
          "text": [
            "[370, 144, 1]\n",
            "120\n"
          ],
          "name": "stdout"
        }
      ]
    },
    {
      "cell_type": "code",
      "metadata": {
        "id": "BoyMoykjYt7N",
        "colab_type": "code",
        "outputId": "40b5d9eb-2d4f-418e-d996-e8d179a60b3d",
        "colab": {
          "base_uri": "https://localhost:8080/",
          "height": 34
        }
      },
      "source": [
        "train_sequences[:2]"
      ],
      "execution_count": 0,
      "outputs": [
        {
          "output_type": "execute_result",
          "data": {
            "text/plain": [
              "[[370, 144, 1], [10, 156, 12, 814, 582]]"
            ]
          },
          "metadata": {
            "tags": []
          },
          "execution_count": 15
        }
      ]
    },
    {
      "cell_type": "code",
      "metadata": {
        "colab_type": "code",
        "outputId": "3dac3658-9d3f-445e-dcd7-5921732cc0ab",
        "id": "AS43m4iEYt7-",
        "colab": {
          "base_uri": "https://localhost:8080/",
          "height": 357
        }
      },
      "source": [
        "train_padded[:2]"
      ],
      "execution_count": 0,
      "outputs": [
        {
          "output_type": "execute_result",
          "data": {
            "text/plain": [
              "array([[370, 144,   1,   0,   0,   0,   0,   0,   0,   0,   0,   0,   0,\n",
              "          0,   0,   0,   0,   0,   0,   0,   0,   0,   0,   0,   0,   0,\n",
              "          0,   0,   0,   0,   0,   0,   0,   0,   0,   0,   0,   0,   0,\n",
              "          0,   0,   0,   0,   0,   0,   0,   0,   0,   0,   0,   0,   0,\n",
              "          0,   0,   0,   0,   0,   0,   0,   0,   0,   0,   0,   0,   0,\n",
              "          0,   0,   0,   0,   0,   0,   0,   0,   0,   0,   0,   0,   0,\n",
              "          0,   0,   0,   0,   0,   0,   0,   0,   0,   0,   0,   0,   0,\n",
              "          0,   0,   0,   0,   0,   0,   0,   0,   0,   0,   0,   0,   0,\n",
              "          0,   0,   0,   0,   0,   0,   0,   0,   0,   0,   0,   0,   0,\n",
              "          0,   0,   0],\n",
              "       [ 10, 156,  12, 814, 582,   0,   0,   0,   0,   0,   0,   0,   0,\n",
              "          0,   0,   0,   0,   0,   0,   0,   0,   0,   0,   0,   0,   0,\n",
              "          0,   0,   0,   0,   0,   0,   0,   0,   0,   0,   0,   0,   0,\n",
              "          0,   0,   0,   0,   0,   0,   0,   0,   0,   0,   0,   0,   0,\n",
              "          0,   0,   0,   0,   0,   0,   0,   0,   0,   0,   0,   0,   0,\n",
              "          0,   0,   0,   0,   0,   0,   0,   0,   0,   0,   0,   0,   0,\n",
              "          0,   0,   0,   0,   0,   0,   0,   0,   0,   0,   0,   0,   0,\n",
              "          0,   0,   0,   0,   0,   0,   0,   0,   0,   0,   0,   0,   0,\n",
              "          0,   0,   0,   0,   0,   0,   0,   0,   0,   0,   0,   0,   0,\n",
              "          0,   0,   0]], dtype=int32)"
            ]
          },
          "metadata": {
            "tags": []
          },
          "execution_count": 16
        }
      ]
    },
    {
      "cell_type": "code",
      "metadata": {
        "colab_type": "code",
        "id": "c8PeFWzPZLW_",
        "colab": {}
      },
      "source": [
        "validation_sequences = tokenizer.texts_to_sequences(validation_sentences)\n",
        "validation_padded = np.array(pad_sequences(validation_sequences, padding=padding_type, maxlen=max_length))\n"
      ],
      "execution_count": 0,
      "outputs": []
    },
    {
      "cell_type": "code",
      "metadata": {
        "colab_type": "code",
        "outputId": "56ca4649-fe2e-494b-bd8a-98f52f126f6d",
        "id": "-BQ_jql1Yt8p",
        "colab": {
          "base_uri": "https://localhost:8080/",
          "height": 34
        }
      },
      "source": [
        "validation_sequences[:2]\n",
        "\n",
        "# Expected output\n",
        "# 31663\n",
        "# (31663, 120)"
      ],
      "execution_count": 0,
      "outputs": [
        {
          "output_type": "execute_result",
          "data": {
            "text/plain": [
              "[[], [260, 1, 1, 35, 3, 68, 30, 6, 15]]"
            ]
          },
          "metadata": {
            "tags": []
          },
          "execution_count": 18
        }
      ]
    },
    {
      "cell_type": "code",
      "metadata": {
        "id": "jEF78gjcZdPy",
        "colab_type": "code",
        "outputId": "f2781177-c984-4eb5-ed27-2845cc3b583a",
        "colab": {
          "base_uri": "https://localhost:8080/",
          "height": 357
        }
      },
      "source": [
        "validation_padded[:2]"
      ],
      "execution_count": 0,
      "outputs": [
        {
          "output_type": "execute_result",
          "data": {
            "text/plain": [
              "array([[  0,   0,   0,   0,   0,   0,   0,   0,   0,   0,   0,   0,   0,\n",
              "          0,   0,   0,   0,   0,   0,   0,   0,   0,   0,   0,   0,   0,\n",
              "          0,   0,   0,   0,   0,   0,   0,   0,   0,   0,   0,   0,   0,\n",
              "          0,   0,   0,   0,   0,   0,   0,   0,   0,   0,   0,   0,   0,\n",
              "          0,   0,   0,   0,   0,   0,   0,   0,   0,   0,   0,   0,   0,\n",
              "          0,   0,   0,   0,   0,   0,   0,   0,   0,   0,   0,   0,   0,\n",
              "          0,   0,   0,   0,   0,   0,   0,   0,   0,   0,   0,   0,   0,\n",
              "          0,   0,   0,   0,   0,   0,   0,   0,   0,   0,   0,   0,   0,\n",
              "          0,   0,   0,   0,   0,   0,   0,   0,   0,   0,   0,   0,   0,\n",
              "          0,   0,   0],\n",
              "       [260,   1,   1,  35,   3,  68,  30,   6,  15,   0,   0,   0,   0,\n",
              "          0,   0,   0,   0,   0,   0,   0,   0,   0,   0,   0,   0,   0,\n",
              "          0,   0,   0,   0,   0,   0,   0,   0,   0,   0,   0,   0,   0,\n",
              "          0,   0,   0,   0,   0,   0,   0,   0,   0,   0,   0,   0,   0,\n",
              "          0,   0,   0,   0,   0,   0,   0,   0,   0,   0,   0,   0,   0,\n",
              "          0,   0,   0,   0,   0,   0,   0,   0,   0,   0,   0,   0,   0,\n",
              "          0,   0,   0,   0,   0,   0,   0,   0,   0,   0,   0,   0,   0,\n",
              "          0,   0,   0,   0,   0,   0,   0,   0,   0,   0,   0,   0,   0,\n",
              "          0,   0,   0,   0,   0,   0,   0,   0,   0,   0,   0,   0,   0,\n",
              "          0,   0,   0]], dtype=int32)"
            ]
          },
          "metadata": {
            "tags": []
          },
          "execution_count": 19
        }
      ]
    },
    {
      "cell_type": "code",
      "metadata": {
        "id": "1ix4eYl0ZhNS",
        "colab_type": "code",
        "outputId": "48256643-5700-4876-9ac5-8d501cea0382",
        "colab": {
          "base_uri": "https://localhost:8080/",
          "height": 51
        }
      },
      "source": [
        "print(len(validation_sequences))\n",
        "print(validation_padded.shape)\n",
        "\n",
        "# Expected output\n",
        "# 31663\n",
        "# (31663, 120)"
      ],
      "execution_count": 0,
      "outputs": [
        {
          "output_type": "stream",
          "text": [
            "13835\n",
            "(13835, 120)\n"
          ],
          "name": "stdout"
        }
      ]
    },
    {
      "cell_type": "code",
      "metadata": {
        "colab_type": "code",
        "id": "XkWiQ_FKZNp2",
        "outputId": "b334d816-dcbc-4012-d020-91ab9e2ba5e9",
        "colab": {
          "base_uri": "https://localhost:8080/",
          "height": 221
        }
      },
      "source": [
        "label_size = 500\n",
        "#filters='!\"#$%&()*+,-./:;<=>?@[\\\\]^_`{|}~\\t\\n'\n",
        "label_tokenizer = Tokenizer(num_words = label_size,oov_token=oov_tok, filters = '')\n",
        "label_tokenizer.fit_on_texts(labels)\n",
        "\n",
        "label_seq = np.array(label_tokenizer.texts_to_sequences(labels))\n",
        "training_label_seq = np.array(label_tokenizer.texts_to_sequences(train_labels))\n",
        "validation_label_seq = np.array(label_tokenizer.texts_to_sequences(validation_labels))\n",
        "\n",
        "print(training_label_seq[0])\n",
        "print(training_label_seq[1])\n",
        "print(training_label_seq[2])\n",
        "print(training_label_seq[3])\n",
        "print(training_label_seq[5])\n",
        "print(training_label_seq.shape)\n",
        "\n",
        "print(validation_label_seq[0])\n",
        "print(validation_label_seq[1])\n",
        "print(validation_label_seq[2])\n",
        "print(validation_label_seq[3])\n",
        "print(validation_label_seq[5])\n",
        "print(validation_label_seq.shape)\n",
        "\n",
        "# Expected output\n",
        "# [4]\n",
        "# [2]\n",
        "# [1]\n",
        "# (1780, 1)\n",
        "# [5]\n",
        "# [4]\n",
        "# [3]\n",
        "# (445, 1)"
      ],
      "execution_count": 0,
      "outputs": [
        {
          "output_type": "stream",
          "text": [
            "[5]\n",
            "[5]\n",
            "[4]\n",
            "[5]\n",
            "[5]\n",
            "(55336, 1)\n",
            "[2]\n",
            "[2]\n",
            "[2]\n",
            "[2]\n",
            "[4]\n",
            "(13835, 1)\n"
          ],
          "name": "stdout"
        }
      ]
    },
    {
      "cell_type": "code",
      "metadata": {
        "id": "ZMoLz57_Yt9J",
        "colab_type": "code",
        "colab": {}
      },
      "source": [
        "# flatten the nested list and tranaform to an np array\n",
        "label_seq = np.array([item for items in label_seq for item in items])\n",
        "training_label_seq = np.array([item for items in training_label_seq for item in items])\n",
        "validation_label_seq = np.array([item for items in validation_label_seq for item in items])\n"
      ],
      "execution_count": 0,
      "outputs": []
    },
    {
      "cell_type": "code",
      "metadata": {
        "id": "7doOXbZvZmfP",
        "colab_type": "code",
        "outputId": "663e5abf-6660-4164-cc90-fb544c36d5e6",
        "colab": {
          "base_uri": "https://localhost:8080/",
          "height": 34
        }
      },
      "source": [
        "label_seq[:5]"
      ],
      "execution_count": 0,
      "outputs": [
        {
          "output_type": "execute_result",
          "data": {
            "text/plain": [
              "array([5, 5, 4, 5, 5])"
            ]
          },
          "metadata": {
            "tags": []
          },
          "execution_count": 23
        }
      ]
    },
    {
      "cell_type": "code",
      "metadata": {
        "id": "GXybe95iZnhn",
        "colab_type": "code",
        "outputId": "92c39d31-ce3d-4c4c-d55d-0ac964ddd1f2",
        "colab": {
          "base_uri": "https://localhost:8080/",
          "height": 34
        }
      },
      "source": [
        "max(validation_label_seq)"
      ],
      "execution_count": 0,
      "outputs": [
        {
          "output_type": "execute_result",
          "data": {
            "text/plain": [
              "5"
            ]
          },
          "metadata": {
            "tags": []
          },
          "execution_count": 24
        }
      ]
    },
    {
      "cell_type": "markdown",
      "metadata": {
        "id": "phSLRUweYt-G",
        "colab_type": "text"
      },
      "source": [
        "# transform target to one-hot codification"
      ]
    },
    {
      "cell_type": "markdown",
      "metadata": {
        "id": "I7QYyJBCYt-J",
        "colab_type": "text"
      },
      "source": [
        "## primero crea etiquetas numéricas"
      ]
    },
    {
      "cell_type": "code",
      "metadata": {
        "id": "_5cf3OjTYt-M",
        "colab_type": "code",
        "colab": {}
      },
      "source": [
        "from sklearn. preprocessing import LabelEncoder\n",
        "#preprocessing.LabelEncoder()\n",
        "encoder = LabelEncoder()\n",
        "\n",
        "encoder.fit(label_seq)\n",
        "y_train = encoder.transform(training_label_seq)\n",
        "y_test = encoder.transform(validation_label_seq)"
      ],
      "execution_count": 0,
      "outputs": []
    },
    {
      "cell_type": "code",
      "metadata": {
        "id": "suOM5XzzZsWF",
        "colab_type": "code",
        "outputId": "58fa0992-7ca9-4522-fa0d-59e921d9b1d0",
        "colab": {
          "base_uri": "https://localhost:8080/",
          "height": 34
        }
      },
      "source": [
        "max(y_train)"
      ],
      "execution_count": 0,
      "outputs": [
        {
          "output_type": "execute_result",
          "data": {
            "text/plain": [
              "3"
            ]
          },
          "metadata": {
            "tags": []
          },
          "execution_count": 26
        }
      ]
    },
    {
      "cell_type": "code",
      "metadata": {
        "id": "FbwSw1x9Zt10",
        "colab_type": "code",
        "outputId": "6c2e8a65-45b2-4617-e234-b6acad5ee41f",
        "colab": {
          "base_uri": "https://localhost:8080/",
          "height": 34
        }
      },
      "source": [
        "y_train.shape"
      ],
      "execution_count": 0,
      "outputs": [
        {
          "output_type": "execute_result",
          "data": {
            "text/plain": [
              "(55336,)"
            ]
          },
          "metadata": {
            "tags": []
          },
          "execution_count": 27
        }
      ]
    },
    {
      "cell_type": "code",
      "metadata": {
        "id": "tok5CEBFZuUX",
        "colab_type": "code",
        "outputId": "0a38d4d3-1205-4552-f44e-08fe5d8b1038",
        "colab": {
          "base_uri": "https://localhost:8080/",
          "height": 34
        }
      },
      "source": [
        "y_train"
      ],
      "execution_count": 0,
      "outputs": [
        {
          "output_type": "execute_result",
          "data": {
            "text/plain": [
              "array([3, 3, 2, ..., 0, 0, 1])"
            ]
          },
          "metadata": {
            "tags": []
          },
          "execution_count": 28
        }
      ]
    },
    {
      "cell_type": "code",
      "metadata": {
        "id": "NCzU80RNZwvI",
        "colab_type": "code",
        "outputId": "2c99e02d-b257-484c-b3a9-36cb0dbba3e2",
        "colab": {
          "base_uri": "https://localhost:8080/",
          "height": 34
        }
      },
      "source": [
        "y_test"
      ],
      "execution_count": 0,
      "outputs": [
        {
          "output_type": "execute_result",
          "data": {
            "text/plain": [
              "array([0, 0, 0, ..., 1, 3, 3])"
            ]
          },
          "metadata": {
            "tags": []
          },
          "execution_count": 29
        }
      ]
    },
    {
      "cell_type": "markdown",
      "metadata": {
        "id": "gz8EKx7MYt-t",
        "colab_type": "text"
      },
      "source": [
        "## one hot"
      ]
    },
    {
      "cell_type": "code",
      "metadata": {
        "id": "_vVEA4IBYt-w",
        "colab_type": "code",
        "colab": {}
      },
      "source": [
        "# Converts the labels to a one-hot representation\n",
        "num_classes = np.max(y_train) + 1\n",
        "y_train = tf.keras.utils.to_categorical(y_train, num_classes)\n",
        "y_test = tf.keras.utils.to_categorical(y_test, num_classes)"
      ],
      "execution_count": 0,
      "outputs": []
    },
    {
      "cell_type": "code",
      "metadata": {
        "id": "7Vd3HsZ0Z0Dp",
        "colab_type": "code",
        "outputId": "ec78fa66-4272-4e6c-bc2f-b8c15d0c9eab",
        "colab": {
          "base_uri": "https://localhost:8080/",
          "height": 34
        }
      },
      "source": [
        "num_classes"
      ],
      "execution_count": 0,
      "outputs": [
        {
          "output_type": "execute_result",
          "data": {
            "text/plain": [
              "4"
            ]
          },
          "metadata": {
            "tags": []
          },
          "execution_count": 31
        }
      ]
    },
    {
      "cell_type": "code",
      "metadata": {
        "id": "Yopg3sD-Yt_I",
        "colab_type": "code",
        "outputId": "9a267283-a37f-4429-b98e-c5e37aad09a4",
        "colab": {
          "base_uri": "https://localhost:8080/",
          "height": 34
        }
      },
      "source": [
        "y_train.shape"
      ],
      "execution_count": 0,
      "outputs": [
        {
          "output_type": "execute_result",
          "data": {
            "text/plain": [
              "(55336, 4)"
            ]
          },
          "metadata": {
            "tags": []
          },
          "execution_count": 32
        }
      ]
    },
    {
      "cell_type": "code",
      "metadata": {
        "id": "mRFAcCwQZ1lF",
        "colab_type": "code",
        "outputId": "636bd02b-96d4-4964-fbb4-dd22e501a11d",
        "colab": {
          "base_uri": "https://localhost:8080/",
          "height": 34
        }
      },
      "source": [
        "y_train[0]"
      ],
      "execution_count": 0,
      "outputs": [
        {
          "output_type": "execute_result",
          "data": {
            "text/plain": [
              "array([0., 0., 0., 1.], dtype=float32)"
            ]
          },
          "metadata": {
            "tags": []
          },
          "execution_count": 33
        }
      ]
    },
    {
      "cell_type": "code",
      "metadata": {
        "id": "nHwXnWwnZ3Gk",
        "colab_type": "code",
        "outputId": "ad15eb70-e808-4015-d829-e341fb9e3dc1",
        "colab": {
          "base_uri": "https://localhost:8080/",
          "height": 34
        }
      },
      "source": [
        "y_test[0]"
      ],
      "execution_count": 0,
      "outputs": [
        {
          "output_type": "execute_result",
          "data": {
            "text/plain": [
              "array([1., 0., 0., 0.], dtype=float32)"
            ]
          },
          "metadata": {
            "tags": []
          },
          "execution_count": 34
        }
      ]
    },
    {
      "cell_type": "markdown",
      "metadata": {
        "id": "yVPb8wDDZ7j4",
        "colab_type": "text"
      },
      "source": [
        "## Modelo 1\n",
        "\n",
        "| dropout | conv1D | LSTM | accuracyTrain | accuracyValidation | epoch |\n",
        "|---------|:------:|:----:|:-------------:|:------------------:|:-----:|\n",
        "|         |        |      |    0.3645     |       0.3478       |  13   |\n",
        "|    1    |   1    |      |    0.3751     |       0.3462       |  11   |\n",
        "|         |   1    |      |    0.3761     |       0.3455       |  10   |\n",
        "|    1    |        |      |    0.3668     |       0.3527       |  15   |\n",
        "|    1    |        |   1  |    0.3730     |       0.3416       |  13   |"
      ]
    },
    {
      "cell_type": "markdown",
      "metadata": {
        "id": "oVmdZbbyXDpz",
        "colab_type": "text"
      },
      "source": [
        "## Modelo 2 con 9 Labels\n",
        "\n",
        "| spatial Dropout1d | BIDLSTM | Dropout | Dense | lossTrain |accuracyTrain | accuracyValidation | lossValidation  | epoch |\n",
        "|::|::|::|::|::|::|::|::|::|\n",
        "|1|2|2|2|1.2943|0.5236|1.5963|0.4304|23|\n",
        "\n"
      ]
    },
    {
      "cell_type": "markdown",
      "metadata": {
        "id": "z-7yt4FbW9fh",
        "colab_type": "text"
      },
      "source": [
        "## Modelo 3 con 4 Labels - 20 ephocs\n",
        "\n",
        "| Conv1D | SpatialDroout1D | BIDLSTM | Dropout | Densa | lossTrain |accuracyTrain | accuracyValidation | lossValidation  | epoch |\n",
        "|:----:|:----:|:----:|:----:|:----:|:----:|:----:|:----:|:----:|:----:|\n",
        "| | |1|2|2|1.0705|0.5387|1.1504|0.4953|10|\n",
        "|1|1||2|2|1.0209|0.5645|1.1661|0.4930|7|\n",
        "|1||1|2|2|1.0497|0.5510|1.1570|0.4941|5|\n",
        "||1|1|2|2|1.0601|0.5453|1.1625|0.4911|9|\n",
        "|1|1|1|2|2|1.0479|0.5516|1.1565|0.4898|6|\n",
        "|2| | |2|2|1.0265|0.5626|1.1968|0.4835|6|\n",
        "| | | |2|2|1.0691|0.5402|1.1626|0.4978|10|\n",
        "| | | |3|3|1.0789|0.5394|1.1517|0.4966|11|"
      ]
    },
    {
      "cell_type": "code",
      "metadata": {
        "id": "H8tYQNMUvbjb",
        "colab_type": "code",
        "colab": {}
      },
      "source": [
        "callback = tf.keras.callbacks.EarlyStopping(\n",
        "    monitor='val_accuracy', patience=3\n",
        "    )\n",
        "# This callback will stop the training when there is no improvement in\n",
        "# the validation loss for three consecutive epochs."
      ],
      "execution_count": 0,
      "outputs": []
    },
    {
      "cell_type": "code",
      "metadata": {
        "colab_type": "code",
        "id": "HZ5um4MWZP-W",
        "outputId": "89cd56e5-9a22-42b2-eefd-0498ae2bc939",
        "colab": {
          "base_uri": "https://localhost:8080/",
          "height": 425
        }
      },
      "source": [
        "model = tf.keras.Sequential([\n",
        "    tf.keras.layers.Embedding(vocab_size, embedding_dim, input_length=max_length),\n",
        "    tf.keras.layers.Conv1D(200, 5, activation='relu'),\n",
        "    tf.keras.layers.Conv1D(120, 5, activation='relu'),\n",
        "    tf.keras.layers.GlobalAveragePooling1D(),\n",
        "    tf.keras.layers.Dropout(0.1),\n",
        "    tf.keras.layers.Dense(120, activation='relu'),\n",
        "    tf.keras.layers.Dropout(0.1),\n",
        "    tf.keras.layers.Dense(4, activation='softmax')\n",
        "])\n",
        "model.compile(loss='categorical_crossentropy',optimizer='adam',metrics=['accuracy'])\n",
        "model.summary()"
      ],
      "execution_count": 0,
      "outputs": [
        {
          "output_type": "stream",
          "text": [
            "Model: \"sequential_11\"\n",
            "_________________________________________________________________\n",
            "Layer (type)                 Output Shape              Param #   \n",
            "=================================================================\n",
            "embedding_11 (Embedding)     (None, 120, 32)           64000     \n",
            "_________________________________________________________________\n",
            "conv1d_24 (Conv1D)           (None, 116, 200)          32200     \n",
            "_________________________________________________________________\n",
            "conv1d_25 (Conv1D)           (None, 112, 120)          120120    \n",
            "_________________________________________________________________\n",
            "global_average_pooling1d_15  (None, 120)               0         \n",
            "_________________________________________________________________\n",
            "dropout_22 (Dropout)         (None, 120)               0         \n",
            "_________________________________________________________________\n",
            "dense_22 (Dense)             (None, 120)               14520     \n",
            "_________________________________________________________________\n",
            "dropout_23 (Dropout)         (None, 120)               0         \n",
            "_________________________________________________________________\n",
            "dense_23 (Dense)             (None, 4)                 484       \n",
            "=================================================================\n",
            "Total params: 231,324\n",
            "Trainable params: 231,324\n",
            "Non-trainable params: 0\n",
            "_________________________________________________________________\n"
          ],
          "name": "stdout"
        }
      ]
    },
    {
      "cell_type": "markdown",
      "metadata": {
        "id": "EqT9Muf-aFYP",
        "colab_type": "text"
      },
      "source": [
        "## Entrenamos el modelo"
      ]
    },
    {
      "cell_type": "code",
      "metadata": {
        "colab_type": "code",
        "id": "XsfdxySKZSXu",
        "outputId": "78616a37-1b7d-47c6-fc47-7467c5358398",
        "colab": {
          "base_uri": "https://localhost:8080/",
          "height": 289
        }
      },
      "source": [
        "num_epochs = 40\n",
        "history = model.fit(train_padded, y_train, epochs=num_epochs, validation_data=(validation_padded, y_test), verbose=2, callbacks=[callback])\n",
        "print(\"\\nEn la epoca\", len(history.history['val_accuracy']), \"la precision de validación dejó de mejorar.\")"
      ],
      "execution_count": 0,
      "outputs": [
        {
          "output_type": "stream",
          "text": [
            "Epoch 1/40\n",
            "1730/1730 - 10s - loss: 1.2513 - accuracy: 0.4476 - val_loss: 1.2145 - val_accuracy: 0.4658\n",
            "Epoch 2/40\n",
            "1730/1730 - 9s - loss: 1.1632 - accuracy: 0.4955 - val_loss: 1.1536 - val_accuracy: 0.4891\n",
            "Epoch 3/40\n",
            "1730/1730 - 9s - loss: 1.1042 - accuracy: 0.5248 - val_loss: 1.1322 - val_accuracy: 0.5004\n",
            "Epoch 4/40\n",
            "1730/1730 - 9s - loss: 1.0678 - accuracy: 0.5419 - val_loss: 1.1429 - val_accuracy: 0.5031\n",
            "Epoch 5/40\n",
            "1730/1730 - 9s - loss: 1.0372 - accuracy: 0.5586 - val_loss: 1.1580 - val_accuracy: 0.4867\n",
            "Epoch 6/40\n",
            "1730/1730 - 10s - loss: 1.0051 - accuracy: 0.5756 - val_loss: 1.1747 - val_accuracy: 0.4880\n",
            "Epoch 7/40\n",
            "1730/1730 - 10s - loss: 0.9719 - accuracy: 0.5935 - val_loss: 1.2090 - val_accuracy: 0.4863\n",
            "\n",
            "En la epoca 7 la precision de validación dejó de mejorar.\n"
          ],
          "name": "stdout"
        }
      ]
    },
    {
      "cell_type": "markdown",
      "metadata": {
        "id": "K0YQhVzoaLQL",
        "colab_type": "text"
      },
      "source": [
        "## Graficamos"
      ]
    },
    {
      "cell_type": "code",
      "metadata": {
        "id": "Xn7rCBByaOll",
        "colab_type": "code",
        "outputId": "212bacec-9749-4ec7-83d9-7860c66ea20b",
        "colab": {
          "base_uri": "https://localhost:8080/",
          "height": 51
        }
      },
      "source": [
        "string='accuracy'\n",
        "print(history.history[string])\n",
        "print(history.history['val_'+string])"
      ],
      "execution_count": 0,
      "outputs": [
        {
          "output_type": "stream",
          "text": [
            "[0.46470651030540466, 0.5170232653617859, 0.5339200496673584, 0.5419618487358093, 0.5499494075775146]\n",
            "[0.49129021167755127, 0.5045175552368164, 0.5026382207870483, 0.5000361204147339, 0.495771586894989]\n"
          ],
          "name": "stdout"
        }
      ]
    },
    {
      "cell_type": "code",
      "metadata": {
        "colab_type": "code",
        "id": "dQ0BX2apXS9u",
        "outputId": "c4004a7f-8710-44a0-80b6-d178d71a6307",
        "colab": {
          "base_uri": "https://localhost:8080/",
          "height": 573
        }
      },
      "source": [
        "def plot_graphs(history, string):\n",
        "  plt.title(string+' con 3 epochs')\n",
        "  plt.plot(history.history[string])\n",
        "  plt.plot(history.history['val_'+string])\n",
        "  plt.xlabel(\"Epochs\")\n",
        "  plt.ylabel(string)\n",
        "  plt.legend([string, 'val_'+string])\n",
        "  plt.show()\n",
        "  \n",
        "plot_graphs(history, \"accuracy\")\n",
        "plot_graphs(history, \"loss\")"
      ],
      "execution_count": 0,
      "outputs": [
        {
          "output_type": "display_data",
          "data": {
            "image/png": "[encoded data removed]",
            "text/plain": [
              "<Figure size 432x288 with 1 Axes>"
            ]
          },
          "metadata": {
            "tags": [],
            "needs_background": "light"
          }
        },
        {
          "output_type": "display_data",
          "data": {
            "image/png": "[encoded data removed]",
            "text/plain": [
              "<Figure size 432x288 with 1 Axes>"
            ]
          },
          "metadata": {
            "tags": [],
            "needs_background": "light"
          }
        }
      ]
    },
    {
      "cell_type": "code",
      "metadata": {
        "colab_type": "code",
        "id": "w7Xc-uWxXhML",
        "colab": {}
      },
      "source": [
        "#convierte palabras en texto (NO LO USAMOS AÚN)\n",
        "reverse_word_index = dict([(value, key) for (key, value) in word_index.items()])\n",
        "\n",
        "def decode_sentence(text):\n",
        "    return ' '.join([reverse_word_index.get(i, '?') for i in text])\n",
        "\n",
        "decode_sentence([862, 54])"
      ],
      "execution_count": 0,
      "outputs": []
    },
    {
      "cell_type": "code",
      "metadata": {
        "colab_type": "code",
        "id": "OhnFA_TDXrih",
        "colab": {}
      },
      "source": [
        "#Pesos de la primera capa\n",
        "e = model.layers[0]\n",
        "weights = e.get_weights()[0]\n",
        "print(weights.shape) # shape: (vocab_size, embedding_dim)\n",
        "\n",
        "# Expected output\n",
        "# (1000, 16)"
      ],
      "execution_count": 0,
      "outputs": []
    },
    {
      "cell_type": "code",
      "metadata": {
        "id": "SHeoADFtaX0P",
        "colab_type": "code",
        "colab": {}
      },
      "source": [
        "weights"
      ],
      "execution_count": 0,
      "outputs": []
    },
    {
      "cell_type": "markdown",
      "metadata": {
        "id": "oyMnH7jUaabc",
        "colab_type": "text"
      },
      "source": [
        "## funcion clasificadora"
      ]
    },
    {
      "cell_type": "code",
      "metadata": {
        "id": "8It73iQUaeyA",
        "colab_type": "code",
        "colab": {}
      },
      "source": [
        "validation_sentences[:2]"
      ],
      "execution_count": 0,
      "outputs": []
    },
    {
      "cell_type": "code",
      "metadata": {
        "id": "3I7Em3Lmafhe",
        "colab_type": "code",
        "colab": {}
      },
      "source": [
        "sq = model.predict_classes(validation_padded[:2])\n",
        "sq"
      ],
      "execution_count": 0,
      "outputs": []
    },
    {
      "cell_type": "code",
      "metadata": {
        "id": "DWlPkmnkaiLo",
        "colab_type": "code",
        "colab": {}
      },
      "source": [
        "label_tokenizer.sequences_to_texts([sq])"
      ],
      "execution_count": 0,
      "outputs": []
    },
    {
      "cell_type": "code",
      "metadata": {
        "id": "tZoQ6dLEakv9",
        "colab_type": "code",
        "colab": {}
      },
      "source": [
        "def classifier (sentence): \n",
        "  sentences = []\n",
        "  sentence_l = re.sub(' +', ' ',sentence.lower())\n",
        "  sentence = ''.join(c for c in sentence_l if c in printable)\n",
        "  # preprocess stopwords\n",
        "  for word in stopwords:\n",
        "    token = \" \" + word + \" \"\n",
        "    sentence = sentence.replace(token, \" \")\n",
        "  sentences.append(sentence)\n",
        "\n",
        "  sentences = tokenizer.texts_to_sequences(sentences) #transforms each text in texts to a sequence of integers\n",
        "  sentences_padded = np.array(pad_sequences(sentences, padding=padding_type, maxlen=max_length))\n",
        "\n",
        "  #prob = model.predict(sentences_padded)\n",
        "  prediction = model.predict_classes(sentences_padded)\n",
        "  prediction = label_tokenizer.sequences_to_texts([prediction])\n",
        "\n",
        "  return prediction"
      ],
      "execution_count": 0,
      "outputs": []
    },
    {
      "cell_type": "code",
      "metadata": {
        "id": "u_SqQX2talns",
        "colab_type": "code",
        "colab": {}
      },
      "source": [
        "classifier('are you sure lord')"
      ],
      "execution_count": 0,
      "outputs": []
    },
    {
      "cell_type": "code",
      "metadata": {
        "id": "XYpl7SD3al7X",
        "colab_type": "code",
        "colab": {}
      },
      "source": [
        "classifier('can his funeral be on a school day')"
      ],
      "execution_count": 0,
      "outputs": []
    },
    {
      "cell_type": "code",
      "metadata": {
        "id": "K0P7mwFJapkm",
        "colab_type": "code",
        "colab": {}
      },
      "source": [
        "classifier(\"We should go to the bar\")"
      ],
      "execution_count": 0,
      "outputs": []
    },
    {
      "cell_type": "markdown",
      "metadata": {
        "id": "VtgyWMk9asgv",
        "colab_type": "text"
      },
      "source": [
        "## exportar archivos"
      ]
    },
    {
      "cell_type": "code",
      "metadata": {
        "colab_type": "code",
        "id": "_POzcWWAXudL",
        "colab": {}
      },
      "source": [
        "import io\n",
        "\n",
        "out_v = io.open('vecs.tsv', 'w', encoding='utf-8')\n",
        "out_m = io.open('meta.tsv', 'w', encoding='utf-8')\n",
        "for word_num in range(1, vocab_size):\n",
        "  word = reverse_word_index[word_num]\n",
        "  embeddings = weights[word_num]\n",
        "  out_m.write(word + \"\\n\")\n",
        "  out_v.write('\\t'.join([str(x) for x in embeddings]) + \"\\n\")\n",
        "out_v.close()\n",
        "out_m.close()"
      ],
      "execution_count": 0,
      "outputs": []
    },
    {
      "cell_type": "code",
      "metadata": {
        "colab_type": "code",
        "id": "VmqpQMZ_XyOa",
        "colab": {}
      },
      "source": [
        "try:\n",
        "  from google.colab import files\n",
        "except ImportError:\n",
        "  pass\n",
        "else:\n",
        "  files.download('vecs.tsv')\n",
        "  files.download('meta.tsv')"
      ],
      "execution_count": 0,
      "outputs": []
    },
    {
      "cell_type": "markdown",
      "metadata": {
        "id": "6Tz7DnMQYuBp",
        "colab_type": "text"
      },
      "source": [
        "## Referencias\n",
        "- Aprendizaje profundo, [Ciencia de datos](https://github.com/AprendizajeProfundo/Ciencia-de-Datos/tree/master/Cuadernos)"
      ]
    }
  ]
}