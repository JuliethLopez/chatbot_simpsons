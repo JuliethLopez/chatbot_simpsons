{
  "nbformat": 4,
  "nbformat_minor": 0,
  "metadata": {
    "colab": {
      "name": "Project.ipynb",
      "provenance": [],
      "collapsed_sections": [],
      "toc_visible": true
    },
    "kernelspec": {
      "display_name": "Python 3",
      "language": "python",
      "name": "python3"
    },
    "language_info": {
      "codemirror_mode": {
        "name": "ipython",
        "version": 3
      },
      "file_extension": ".py",
      "mimetype": "text/x-python",
      "name": "python",
      "nbconvert_exporter": "python",
      "pygments_lexer": "ipython3",
      "version": "3.7.4"
    },
    "accelerator": "GPU"
  },
  "cells": [
    {
      "cell_type": "markdown",
      "metadata": {
        "id": "8F4lOCtNUtKL",
        "colab_type": "text"
      },
      "source": [
        "<a href=\"https://colab.research.google.com/github/JuliethLopez/chatbot_simpsons/blob/master/Generador%20de%20texto.ipynb\" target=\"_parent\"><img src=\"https://colab.research.google.com/assets/colab-badge.svg\" alt=\"Open In Colab\"/></a>"
      ]
    },
    {
      "cell_type": "markdown",
      "metadata": {
        "colab_type": "text",
        "id": "_xHJ41-ewD-g"
      },
      "source": [
        "# Generador de texto de los Simpsons\n",
        "\n",
        "Con éste código se pretende generar texto con un red neuronal recurrente, particularmente una red GRU. El modelo debe aprender a generar caracteres para formar palabras con sentido y con ello una oración que corresponda a una palabra o una frase.\n",
        "\n",
        "Para comenzar cargaremos las librerias y la base de datos:"
      ]
    },
    {
      "cell_type": "code",
      "metadata": {
        "colab_type": "code",
        "id": "YOZBjZVYsD4_",
        "colab": {
          "base_uri": "https://localhost:8080/",
          "height": 35
        },
        "outputId": "bb083b45-50a9-4578-c054-6bbc9673b897"
      },
      "source": [
        "#librerias\n",
        "import tensorflow as tf #para el uso de keras y el manejo de tensores.\n",
        "import numpy as np #para manejo de bases de datos\n",
        "import os #para leer y escribir archivos\n",
        "import time\n",
        "from tensorflow.keras.utils import to_categorical, plot_model\n",
        "\n",
        "print(\"Versión de Tensorflow: \", tf.__version__)"
      ],
      "execution_count": 1,
      "outputs": [
        {
          "output_type": "stream",
          "text": [
            "Versión de Tensorflow:  2.2.0\n"
          ],
          "name": "stdout"
        }
      ]
    },
    {
      "cell_type": "markdown",
      "metadata": {
        "colab_type": "text",
        "id": "7p1zzi6QwEAz"
      },
      "source": [
        "La base de datos fue tomada del conjunto de bases de datos __The Simpsons by the Data__ en [data.world](https://data.world/data-society/the-simpsons-by-the-data) (*para usar esta página es necesario registrarse*). Éste contiene distintas bases de datos que con los personajes, las locaciones, los detalles de los episodios, y los dialogos de aproximadamente 600 episodios de los simpsons. Utilizamos la base de datos *simpsons_script_lines.csv* que inicialmente tenia 158271 lineas de conversación, por ejemplo \"Lisa Simpson: Challenge accepted!\" y la filtramos por la variable raw_text=TRUE usando SQL desde la misma página [data.world](https://data.world/data-society/the-simpsons-by-the-data), obteniendo 132113 lineas.\n",
        "\n",
        "    SELECT raw_text\n",
        "    FROM simpsons_script_lines\n",
        "    WHERE speaking_line = 'Guess what. I also play Frankenstein!' OR speaking_line = TRUE\n",
        "    \n",
        "Descargamos el archivo en formato XLSX y lo transformamos a formato TXT, no descargamos los datos en formato CSV porque aparecián caracteres no imprimibles (¦ â € Ã ©)."
      ]
    },
    {
      "cell_type": "code",
      "metadata": {
        "id": "R6KTmXC3ZFdR",
        "colab_type": "code",
        "colab": {
          "base_uri": "https://localhost:8080/",
          "height": 129
        },
        "outputId": "a17c1eeb-6c15-43af-d54d-c0755ead15bb"
      },
      "source": [
        "from google.colab import drive\n",
        "drive.mount('/content/drive')"
      ],
      "execution_count": 3,
      "outputs": [
        {
          "output_type": "stream",
          "text": [
            "Go to this URL in a browser: https://accounts.google.com/o/oauth2/auth?client_id=947318989803-6bn6qk8qdgf4n4g3pfee6491hc0brc4i.apps.googleusercontent.com&redirect_uri=urn%3aietf%3awg%3aoauth%3a2.0%3aoob&response_type=code&scope=email%20https%3a%2f%2fwww.googleapis.com%2fauth%2fdocs.test%20https%3a%2f%2fwww.googleapis.com%2fauth%2fdrive%20https%3a%2f%2fwww.googleapis.com%2fauth%2fdrive.photos.readonly%20https%3a%2f%2fwww.googleapis.com%2fauth%2fpeopleapi.readonly\n",
            "\n",
            "Enter your authorization code:\n",
            "··········\n",
            "Mounted at /content/drive\n"
          ],
          "name": "stdout"
        }
      ]
    },
    {
      "cell_type": "code",
      "metadata": {
        "colab_type": "code",
        "id": "cYPvH81qsD5H",
        "colab": {}
      },
      "source": [
        "#datos\n",
        "text = open('/content/drive/My Drive/Colab Notebooks/simpsons_script_lines.txt', 'rb').read().decode(encoding='utf-8')"
      ],
      "execution_count": 5,
      "outputs": []
    },
    {
      "cell_type": "code",
      "metadata": {
        "colab_type": "code",
        "id": "qH9fwX7esD5R",
        "colab": {
          "base_uri": "https://localhost:8080/",
          "height": 92
        },
        "outputId": "4771c096-fdef-4fa5-b1bb-ada5c258f99c"
      },
      "source": [
        "#primeros 200 caracteres\n",
        "print(text[:250])"
      ],
      "execution_count": 6,
      "outputs": [
        {
          "output_type": "stream",
          "text": [
            "Miss Hoover: No, actually, it was a little of both. Sometimes when a disease is in all the magazines and all the news shows, it's only natural that you think you have it.\n",
            "Lisa Simpson: (NEAR TEARS) Where's Mr. Bergstrom?\n",
            "Miss Hoover: I don't know. Al\n"
          ],
          "name": "stdout"
        }
      ]
    },
    {
      "cell_type": "markdown",
      "metadata": {
        "colab_type": "text",
        "id": "hlOssfc1wEDZ"
      },
      "source": [
        "Contamos el numero de caracteres porque el modelo se entrenara desde los caracteres, no desde las palabras como veremos más adelante."
      ]
    },
    {
      "cell_type": "code",
      "metadata": {
        "colab_type": "code",
        "id": "2OTH4ccgsD5M",
        "colab": {
          "base_uri": "https://localhost:8080/",
          "height": 35
        },
        "outputId": "e2dd23a8-8b04-4f20-e1d4-605b1fa4b208"
      },
      "source": [
        "print ('Length of text: {} characters'.format(len(text)))"
      ],
      "execution_count": 8,
      "outputs": [
        {
          "output_type": "stream",
          "text": [
            "Length of text: 9781832 characters\n"
          ],
          "name": "stdout"
        }
      ]
    },
    {
      "cell_type": "markdown",
      "metadata": {
        "colab_type": "text",
        "id": "CelGue5MwEDn"
      },
      "source": [
        "## 1. Vocabulario o alfabeto\n",
        "\n",
        "Si bien los datos están en inglés, hay algunas palabras en otros idiomas debido a la complejitud de los personajes de la serie, por eso hemos decidido dejar los carácteres que pertenecen a esos otro idiomas."
      ]
    },
    {
      "cell_type": "code",
      "metadata": {
        "colab_type": "code",
        "id": "rym9-0-gsD5X",
        "colab": {
          "base_uri": "https://localhost:8080/",
          "height": 35
        },
        "outputId": "0a1d2697-ef0e-4ea5-c530-50cc56c2eb98"
      },
      "source": [
        "vocab = sorted(set(text)) #set extrae caracteres distintos, sorted los ordena\n",
        "print ('{} carácteres únicos'.format(len(vocab)))"
      ],
      "execution_count": 9,
      "outputs": [
        {
          "output_type": "stream",
          "text": [
            "137 carácteres únicos\n"
          ],
          "name": "stdout"
        }
      ]
    },
    {
      "cell_type": "markdown",
      "metadata": {
        "colab_type": "text",
        "id": "MMcoUrcmzKWk"
      },
      "source": [
        "Dentro de los caracteres tenemos \\n que se utiliza como indicador para el salto de linea y \\r que se utiliza para regresar del final de la linea al inicio de la linea. Pero por otro lado tenemos un caracter no deseable \\xad que vamos a eliminar."
      ]
    },
    {
      "cell_type": "code",
      "metadata": {
        "colab_type": "code",
        "id": "WK28ZFwvzKkA",
        "colab": {}
      },
      "source": [
        "text = text.replace('\\N{SOFT HYPHEN}', '') #elimina \\xad y eliminaria mas caracteres suaves si hubieran."
      ],
      "execution_count": 10,
      "outputs": []
    },
    {
      "cell_type": "code",
      "metadata": {
        "colab_type": "code",
        "id": "eDg3nHNl0_AJ",
        "colab": {
          "base_uri": "https://localhost:8080/",
          "height": 35
        },
        "outputId": "fc858930-db6f-4f79-c060-572fda700fbe"
      },
      "source": [
        "vocab = sorted(set(text)) #set extrae caracteres distintos, sorted los ordena\n",
        "print ('{} carácteres únicos'.format(len(vocab)))"
      ],
      "execution_count": 11,
      "outputs": [
        {
          "output_type": "stream",
          "text": [
            "136 carácteres únicos\n"
          ],
          "name": "stdout"
        }
      ]
    },
    {
      "cell_type": "markdown",
      "metadata": {
        "colab_type": "text",
        "id": "Tr-IbSi_y3vq"
      },
      "source": [
        "## 2. Diccionarios de ida y vuelta\n",
        "Ahora que tenemos el vocabulario de caracteres podemos crear los diccionarios de ida y vuelta que lo que harán es darle un id a cada caracter ya que para la maquina es más facil trabajar con números, de modo que cuando una frase entra, se traduce a numeros cada uno de los caracteres y se predicen los id, que luego seran transformados a carácteres para poder leerlos."
      ]
    },
    {
      "cell_type": "code",
      "metadata": {
        "colab_type": "code",
        "id": "lXMNM2u8sD5g",
        "colab": {}
      },
      "source": [
        "charxid = {u:i for i, u in enumerate(vocab)} #le damos un indice a cada caractér\n",
        "text_as_int = np.array([charxid[i] for i in text]) #caracteres a números"
      ],
      "execution_count": 12,
      "outputs": []
    },
    {
      "cell_type": "code",
      "metadata": {
        "colab_type": "code",
        "id": "1TUMzDuJ6fP1",
        "colab": {
          "base_uri": "https://localhost:8080/",
          "height": 201
        },
        "outputId": "47fbfcf5-c93d-4742-a7d5-5a3483956de3"
      },
      "source": [
        "#id de los primeros 10 caracteres\n",
        "for char,_ in zip(charxid, range(10)):\n",
        "    print('{:4s}: {:3d},'.format(repr(char), charxid[char])) #s: str, d: int"
      ],
      "execution_count": 13,
      "outputs": [
        {
          "output_type": "stream",
          "text": [
            "'\\n':   0,\n",
            "' ' :   1,\n",
            "'!' :   2,\n",
            "'#' :   3,\n",
            "'$' :   4,\n",
            "'%' :   5,\n",
            "'&' :   6,\n",
            "\"'\" :   7,\n",
            "'(' :   8,\n",
            "')' :   9,\n"
          ],
          "name": "stdout"
        }
      ]
    },
    {
      "cell_type": "code",
      "metadata": {
        "id": "7QqdNdncUtM5",
        "colab_type": "code",
        "colab": {
          "base_uri": "https://localhost:8080/",
          "height": 35
        },
        "outputId": "627c8589-0719-4a87-a06d-7a1ebc37ff6b"
      },
      "source": [
        "#primeros 15 carácteres del texto a enteros\n",
        "print ('{} ---- carácteres a enteros ---- > {}'.format(repr(text[:15]), text_as_int[:15]))"
      ],
      "execution_count": 14,
      "outputs": [
        {
          "output_type": "stream",
          "text": [
            "'Miss Hoover: No' ---- carácteres a enteros ---- > [41 68 78 78  1 36 74 74 81 64 77 26  1 42 74]\n"
          ],
          "name": "stdout"
        }
      ]
    },
    {
      "cell_type": "code",
      "metadata": {
        "colab_type": "code",
        "id": "ttvBve3jsD50",
        "colab": {
          "base_uri": "https://localhost:8080/",
          "height": 182
        },
        "outputId": "34677e24-75a4-43ac-e48f-482f1a94150a"
      },
      "source": [
        "idxchar = np.array(vocab) #números a caracteres\n",
        "print(\"\\nidxchar:\", idxchar)"
      ],
      "execution_count": 15,
      "outputs": [
        {
          "output_type": "stream",
          "text": [
            "\n",
            "idxchar: ['\\n' ' ' '!' '#' '$' '%' '&' \"'\" '(' ')' '*' '+' ',' '-' '.' '/' '0' '1'\n",
            " '2' '3' '4' '5' '6' '7' '8' '9' ':' ';' '?' 'A' 'B' 'C' 'D' 'E' 'F' 'G'\n",
            " 'H' 'I' 'J' 'K' 'L' 'M' 'N' 'O' 'P' 'Q' 'R' 'S' 'T' 'U' 'V' 'W' 'X' 'Y'\n",
            " 'Z' '[' '\\\\' ']' '_' '`' 'a' 'b' 'c' 'd' 'e' 'f' 'g' 'h' 'i' 'j' 'k' 'l'\n",
            " 'm' 'n' 'o' 'p' 'q' 'r' 's' 't' 'u' 'v' 'w' 'x' 'y' 'z' '¡' '¿' 'À' 'Ä'\n",
            " 'È' 'É' 'Ñ' 'Ö' 'Ù' 'Ü' 'à' 'á' 'â' 'ã' 'ä' 'å' 'æ' 'ç' 'è' 'é' 'ê' 'ë'\n",
            " 'ì' 'í' 'ï' 'ñ' 'ò' 'ó' 'ô' 'õ' 'ö' 'ø' 'ù' 'ú' 'û' 'ü' 'ā' 'Ĉ' 'ē' 'ě'\n",
            " 'Ĝ' 'ī' 'Ĭ' 'ł' 'ń' 'ŭ' 'ż' 'ǎ' 'ǐ' 'ǒ']\n"
          ],
          "name": "stdout"
        }
      ]
    },
    {
      "cell_type": "markdown",
      "metadata": {
        "colab_type": "text",
        "id": "USt8NcpwwEE3"
      },
      "source": [
        "## 3. Datos de entrenamiento y etiquetas\n",
        "\n",
        "Los datos que tenemos aún no están listos para usarse en el modelo, pues no están etiquetados. Para entender como etiquetar los datos usemos esta frase como ejemplo \"Miss Hoover: No, actually, it was a little of both.\". El modelo que vamos a utilizar necesita una frase de entrada, tomemos \"Miss Hoover: No, actually, it was a littl\" y necesita una etiqueta, en este caso es \"iss Hoover: No, actually, it was a little\", así:\n",
        "\n",
        "\n",
        "|                     Entrada                 |  Etiqueta   |\n",
        "|---------------------------------------------|:---:|\n",
        "| \"Miss Hoover: No, actually, it was a littl\" | \"iss Hoover: No, actually, it was a little\" |\n",
        "| \"iss Hoover: No, actually, it was a little\" | \"ss Hoover: No, actually, it was a little \" |\n",
        "| \"ss Hoover: No, actually, it was a little \" | \"s Hoover: No, actually, it was a little o\" |\n",
        "| \"s Hoover: No, actually, it was a little o\" | \" Hoover: No, actually, it was a little of\" |\n",
        "\n",
        "Entonces, empezaremos por definir el tamañao de las entradas y las etiquetas."
      ]
    },
    {
      "cell_type": "code",
      "metadata": {
        "colab_type": "code",
        "id": "AyN__8-4sD6H",
        "colab": {
          "base_uri": "https://localhost:8080/",
          "height": 35
        },
        "outputId": "02decd69-ad15-475c-8f2b-062fe44cbf4b"
      },
      "source": [
        "seq_length = 100 #máxima longitud de la frase\n",
        "#examples_per_epoch = len(text)//(seq_length+1)\n",
        "examples_per_epoch = len(text)-seq_length #numero de datos por epoca\n",
        "examples_per_epoch"
      ],
      "execution_count": 16,
      "outputs": [
        {
          "output_type": "execute_result",
          "data": {
            "text/plain": [
              "9781721"
            ]
          },
          "metadata": {
            "tags": []
          },
          "execution_count": 16
        }
      ]
    },
    {
      "cell_type": "markdown",
      "metadata": {
        "id": "C0dwAkUXUtNn",
        "colab_type": "text"
      },
      "source": [
        "Los datos necesitan ser transformados a tensores para que puedan ser utilizados en el modelo, los transformaremos con *tf.data.Dataset.from_tensor_slices*."
      ]
    },
    {
      "cell_type": "code",
      "metadata": {
        "id": "N_e7_qjJUtNq",
        "colab_type": "code",
        "colab": {
          "base_uri": "https://localhost:8080/",
          "height": 237
        },
        "outputId": "a3158c58-6291-4da8-c8f0-1c4c682dda26"
      },
      "source": [
        "char_dataset = tf.data.Dataset.from_tensor_slices(text_as_int) #se tranforma de numpy a tf\n",
        "print(\"Tensor:\", char_dataset)\n",
        "\n",
        "#ejemplo\n",
        "for i in char_dataset.take(11):\n",
        "  print(idxchar[i.numpy()])"
      ],
      "execution_count": 17,
      "outputs": [
        {
          "output_type": "stream",
          "text": [
            "Tensor: <TensorSliceDataset shapes: (), types: tf.int64>\n",
            "M\n",
            "i\n",
            "s\n",
            "s\n",
            " \n",
            "H\n",
            "o\n",
            "o\n",
            "v\n",
            "e\n",
            "r\n"
          ],
          "name": "stdout"
        }
      ]
    },
    {
      "cell_type": "markdown",
      "metadata": {
        "colab_type": "text",
        "id": "ANMiIEYxFI9I"
      },
      "source": [
        "Ahora podemos construir las secuencias de entrenamiento, tengamos en cuenta que las estas se componen por seq_length caracteres mas un caracter que es el que se usara para crear la etiqueta."
      ]
    },
    {
      "cell_type": "code",
      "metadata": {
        "colab_type": "code",
        "id": "_r2QdKtrsD6T",
        "colab": {
          "base_uri": "https://localhost:8080/",
          "height": 329
        },
        "outputId": "f90b682b-b680-4414-d6ad-cfeb6789ab52"
      },
      "source": [
        "sequences = char_dataset.batch(seq_length+1, drop_remainder=True)\n",
        "print(\"sequences:\", sequences)\n",
        "\n",
        "for item in sequences.take(2):\n",
        "  print(repr(idxchar[item.numpy()])) #rep vuelve imprimible lo que es imprimible"
      ],
      "execution_count": 18,
      "outputs": [
        {
          "output_type": "stream",
          "text": [
            "sequences: <BatchDataset shapes: (101,), types: tf.int64>\n",
            "array(['M', 'i', 's', 's', ' ', 'H', 'o', 'o', 'v', 'e', 'r', ':', ' ',\n",
            "       'N', 'o', ',', ' ', 'a', 'c', 't', 'u', 'a', 'l', 'l', 'y', ',',\n",
            "       ' ', 'i', 't', ' ', 'w', 'a', 's', ' ', 'a', ' ', 'l', 'i', 't',\n",
            "       't', 'l', 'e', ' ', 'o', 'f', ' ', 'b', 'o', 't', 'h', '.', ' ',\n",
            "       'S', 'o', 'm', 'e', 't', 'i', 'm', 'e', 's', ' ', 'w', 'h', 'e',\n",
            "       'n', ' ', 'a', ' ', 'd', 'i', 's', 'e', 'a', 's', 'e', ' ', 'i',\n",
            "       's', ' ', 'i', 'n', ' ', 'a', 'l', 'l', ' ', 't', 'h', 'e', ' ',\n",
            "       'm', 'a', 'g', 'a', 'z', 'i', 'n', 'e', 's', ' '], dtype='<U1')\n",
            "array(['a', 'n', 'd', ' ', 'a', 'l', 'l', ' ', 't', 'h', 'e', ' ', 'n',\n",
            "       'e', 'w', 's', ' ', 's', 'h', 'o', 'w', 's', ',', ' ', 'i', 't',\n",
            "       \"'\", 's', ' ', 'o', 'n', 'l', 'y', ' ', 'n', 'a', 't', 'u', 'r',\n",
            "       'a', 'l', ' ', 't', 'h', 'a', 't', ' ', 'y', 'o', 'u', ' ', 't',\n",
            "       'h', 'i', 'n', 'k', ' ', 'y', 'o', 'u', ' ', 'h', 'a', 'v', 'e',\n",
            "       ' ', 'i', 't', '.', '\\n', 'L', 'i', 's', 'a', ' ', 'S', 'i', 'm',\n",
            "       'p', 's', 'o', 'n', ':', ' ', '(', 'N', 'E', 'A', 'R', ' ', 'T',\n",
            "       'E', 'A', 'R', 'S', ')', ' ', 'W', 'h', 'e', 'r'], dtype='<U1')\n"
          ],
          "name": "stdout"
        }
      ]
    },
    {
      "cell_type": "markdown",
      "metadata": {
        "id": "NWm4a5UwUtOF",
        "colab_type": "text"
      },
      "source": [
        "Juntemos los caracteres para que sean mas facil de visualizar."
      ]
    },
    {
      "cell_type": "code",
      "metadata": {
        "id": "oKMzvXkVUtOH",
        "colab_type": "code",
        "colab": {
          "base_uri": "https://localhost:8080/",
          "height": 54
        },
        "outputId": "2fad28d6-e3fc-4a88-8c3d-74b7bce543fa"
      },
      "source": [
        "for item in sequences.take(2):\n",
        "  print(repr(''.join(idxchar[item.numpy()])))"
      ],
      "execution_count": 19,
      "outputs": [
        {
          "output_type": "stream",
          "text": [
            "'Miss Hoover: No, actually, it was a little of both. Sometimes when a disease is in all the magazines '\n",
            "\"and all the news shows, it's only natural that you think you have it.\\nLisa Simpson: (NEAR TEARS) Wher\"\n"
          ],
          "name": "stdout"
        }
      ]
    },
    {
      "cell_type": "markdown",
      "metadata": {
        "id": "ke0H4IcsUtOU",
        "colab_type": "text"
      },
      "source": [
        "Aquí dividiremos las secuencias en entradas y etiquetas con la misma longitud. El método *.map* nos permite aplicar una función simple a cada lote, similar a la función apply de R, se busca duplicar cada secuencia y cambiarla para formar el texto de entrada y de salida."
      ]
    },
    {
      "cell_type": "code",
      "metadata": {
        "colab_type": "code",
        "id": "v1gqMHr1sD6i",
        "colab": {
          "base_uri": "https://localhost:8080/",
          "height": 35
        },
        "outputId": "e7871572-1932-4f0d-c1e7-daf875a943ee"
      },
      "source": [
        "def split_input_target(chunk):\n",
        "    input_text = chunk[:-1]\n",
        "    target_text = chunk[1:]\n",
        "    return input_text, target_text\n",
        "\n",
        "dataset = sequences.map(split_input_target)\n",
        "dataset"
      ],
      "execution_count": 20,
      "outputs": [
        {
          "output_type": "execute_result",
          "data": {
            "text/plain": [
              "<MapDataset shapes: ((100,), (100,)), types: (tf.int64, tf.int64)>"
            ]
          },
          "metadata": {
            "tags": []
          },
          "execution_count": 20
        }
      ]
    },
    {
      "cell_type": "code",
      "metadata": {
        "colab_type": "code",
        "id": "zQE-D13ZsD6s",
        "colab": {
          "base_uri": "https://localhost:8080/",
          "height": 276
        },
        "outputId": "b1944ab3-447a-46ed-8e06-9b7275a7653c"
      },
      "source": [
        "for item in dataset.take(1):\n",
        "  print(item)"
      ],
      "execution_count": 21,
      "outputs": [
        {
          "output_type": "stream",
          "text": [
            "(<tf.Tensor: shape=(100,), dtype=int64, numpy=\n",
            "array([41, 68, 78, 78,  1, 36, 74, 74, 81, 64, 77, 26,  1, 42, 74, 12,  1,\n",
            "       60, 62, 79, 80, 60, 71, 71, 84, 12,  1, 68, 79,  1, 82, 60, 78,  1,\n",
            "       60,  1, 71, 68, 79, 79, 71, 64,  1, 74, 65,  1, 61, 74, 79, 67, 14,\n",
            "        1, 47, 74, 72, 64, 79, 68, 72, 64, 78,  1, 82, 67, 64, 73,  1, 60,\n",
            "        1, 63, 68, 78, 64, 60, 78, 64,  1, 68, 78,  1, 68, 73,  1, 60, 71,\n",
            "       71,  1, 79, 67, 64,  1, 72, 60, 66, 60, 85, 68, 73, 64, 78])>, <tf.Tensor: shape=(100,), dtype=int64, numpy=\n",
            "array([68, 78, 78,  1, 36, 74, 74, 81, 64, 77, 26,  1, 42, 74, 12,  1, 60,\n",
            "       62, 79, 80, 60, 71, 71, 84, 12,  1, 68, 79,  1, 82, 60, 78,  1, 60,\n",
            "        1, 71, 68, 79, 79, 71, 64,  1, 74, 65,  1, 61, 74, 79, 67, 14,  1,\n",
            "       47, 74, 72, 64, 79, 68, 72, 64, 78,  1, 82, 67, 64, 73,  1, 60,  1,\n",
            "       63, 68, 78, 64, 60, 78, 64,  1, 68, 78,  1, 68, 73,  1, 60, 71, 71,\n",
            "        1, 79, 67, 64,  1, 72, 60, 66, 60, 85, 68, 73, 64, 78,  1])>)\n"
          ],
          "name": "stdout"
        }
      ]
    },
    {
      "cell_type": "markdown",
      "metadata": {
        "id": "XjBxK_9-UtO4",
        "colab_type": "text"
      },
      "source": [
        "Juntemos los caracteres para que sean mas facil de visualizar."
      ]
    },
    {
      "cell_type": "code",
      "metadata": {
        "colab_type": "code",
        "id": "jDk7Y-W1sD6w",
        "colab": {
          "base_uri": "https://localhost:8080/",
          "height": 74
        },
        "outputId": "44768068-4d94-4823-a16f-f60ec4c89935"
      },
      "source": [
        "for input_example, target_example in  dataset.take(1):\n",
        "  print ('Input data: ', repr(''.join(idxchar[input_example.numpy()])))\n",
        "  print ('Target data:', repr(''.join(idxchar[target_example.numpy()])))"
      ],
      "execution_count": 22,
      "outputs": [
        {
          "output_type": "stream",
          "text": [
            "Input data:  'Miss Hoover: No, actually, it was a little of both. Sometimes when a disease is in all the magazines'\n",
            "Target data: 'iss Hoover: No, actually, it was a little of both. Sometimes when a disease is in all the magazines '\n"
          ],
          "name": "stdout"
        }
      ]
    },
    {
      "cell_type": "markdown",
      "metadata": {
        "id": "IgeQaGREUtPF",
        "colab_type": "text"
      },
      "source": [
        "Veamos de forma muy corta y más detallada que lo que buscamos con una sola secuencia es:"
      ]
    },
    {
      "cell_type": "code",
      "metadata": {
        "colab_type": "code",
        "id": "9E3PSzlCsD6z",
        "colab": {
          "base_uri": "https://localhost:8080/",
          "height": 311
        },
        "outputId": "39bcb657-01d7-4e0e-c266-f641e461b827"
      },
      "source": [
        "for i, (input_idx, target_idx) in enumerate(zip(input_example[:5], target_example[:5])):\n",
        "    print(\"Step {:4d}\".format(i))\n",
        "    print(\"  input: {} ({:s})\".format(input_idx, repr(idxchar[input_idx])))\n",
        "    print(\"  expected output: {} ({:s})\".format(target_idx, repr(idxchar[target_idx])))\n",
        "print(\"...\")"
      ],
      "execution_count": 23,
      "outputs": [
        {
          "output_type": "stream",
          "text": [
            "Step    0\n",
            "  input: 41 ('M')\n",
            "  expected output: 68 ('i')\n",
            "Step    1\n",
            "  input: 68 ('i')\n",
            "  expected output: 78 ('s')\n",
            "Step    2\n",
            "  input: 78 ('s')\n",
            "  expected output: 78 ('s')\n",
            "Step    3\n",
            "  input: 78 ('s')\n",
            "  expected output: 1 (' ')\n",
            "Step    4\n",
            "  input: 1 (' ')\n",
            "  expected output: 36 ('H')\n",
            "...\n"
          ],
          "name": "stdout"
        }
      ]
    },
    {
      "cell_type": "markdown",
      "metadata": {
        "colab_type": "text",
        "id": "6M4SFfd0wEGh"
      },
      "source": [
        "### Lotes de entrenamiento"
      ]
    },
    {
      "cell_type": "markdown",
      "metadata": {
        "id": "9Q4-fRnFUtPT",
        "colab_type": "text"
      },
      "source": [
        "Vamos a mezclar los datos y los vamos a guardar por lotes de tamaño 64, porque así los datos no tienen dependencia de orden (silimar a la autocorrelación en la regresión) y además hacemos una actualización para cada mini lote de datos. Además las mezclan se harán en un búfer para cada bache."
      ]
    },
    {
      "cell_type": "code",
      "metadata": {
        "colab_type": "code",
        "id": "YZQ9kWk_sD66",
        "colab": {
          "base_uri": "https://localhost:8080/",
          "height": 35
        },
        "outputId": "237fb251-50c4-4cd7-c8f2-6e5d55d81840"
      },
      "source": [
        "BATCH_SIZE = 64 #tamaño del lote\n",
        "BUFFER_SIZE = 500000 #bufer para mezclar el conjunto de datos\n",
        "\n",
        "dataset = dataset.shuffle(BUFFER_SIZE).batch(BATCH_SIZE, drop_remainder=True)\n",
        "dataset"
      ],
      "execution_count": 24,
      "outputs": [
        {
          "output_type": "execute_result",
          "data": {
            "text/plain": [
              "<BatchDataset shapes: ((64, 100), (64, 100)), types: (tf.int64, tf.int64)>"
            ]
          },
          "metadata": {
            "tags": []
          },
          "execution_count": 24
        }
      ]
    },
    {
      "cell_type": "markdown",
      "metadata": {
        "colab_type": "text",
        "id": "AUCY6AexwEGu"
      },
      "source": [
        "## 4. Construcción del Modelo\n",
        "\n",
        "Para este modelo vamos a utilizar tres capas,\n",
        "   - Embegind: Es un espacio de dimensiones bajas en el que se puede traducir vectores de altas dimensiones. Tambien se considera un mapeo de objetos discretos. El embeding es obtenido internamente a partir concurrencias, proyecciones y otros.\n",
        "   - GRU: (Gated recurrent unit) es un tipo de RNN compuesta por unidades GRU.\n",
        "   - Dense: Todas las neuronas se conectan con todas las neuronas."
      ]
    },
    {
      "cell_type": "code",
      "metadata": {
        "colab_type": "code",
        "id": "-Zw9jMyJsD6-",
        "colab": {}
      },
      "source": [
        "#Longitud del vocabulario en caracteres, tamaño de entrada(one hot)\n",
        "vocab_size = len(vocab)\n",
        "\n",
        "#Dimensión de incrustación(embedding), cada caracter sera representado por un vector de 256.\n",
        "embedding_dim = 256\n",
        "\n",
        "#numero de unidades de RNN\n",
        "rnn_units = 1024"
      ],
      "execution_count": 25,
      "outputs": []
    },
    {
      "cell_type": "markdown",
      "metadata": {
        "id": "e7b4R_6GUtPu",
        "colab_type": "text"
      },
      "source": [
        "Entonces, el dataset de entrenamiento tiene lotes de tamaño 64 * 100. Notemos que en la construccion del modelo, en la capa GRU (stateful=TRUE) mantiene la memoria de la secuencia inicial y de los caracteres que van siendo generados, pero solamente se pasa en el primer paso la secuencia de entrada completa. Luego solo se pasa el caracter predicho."
      ]
    },
    {
      "cell_type": "code",
      "metadata": {
        "colab_type": "code",
        "id": "Ppp0rEoTsD7C",
        "colab": {}
      },
      "source": [
        "def build_model(vocab_size, embedding_dim, rnn_units, batch_size):\n",
        "  model = tf.keras.Sequential([\n",
        "    tf.keras.layers.Embedding(vocab_size, embedding_dim,\n",
        "                              batch_input_shape=[batch_size, None]),\n",
        "    tf.keras.layers.GRU(rnn_units,\n",
        "                        return_sequences=True, #regresa toda las secuencias\n",
        "                        stateful=True, #cuando se pasa de un batch a otro, no se inicializan las capas intermedias\n",
        "                        recurrent_initializer='glorot_uniform',\n",
        "                        dropout=0.5), #forma de inicialización del estado recurrente\n",
        "    tf.keras.layers.GRU(rnn_units,\n",
        "                        return_sequences=True, #regresa toda las secuencias\n",
        "                        stateful=True, #cuando se pasa de un batch a otro, no se inicializan las capas intermedias\n",
        "                        recurrent_initializer='glorot_uniform',\n",
        "                        dropout=0.5), #forma de inicialización del estado recurrente\n",
        "    tf.keras.layers.GRU(rnn_units,\n",
        "                        return_sequences=True, #regresa toda las secuencias\n",
        "                        stateful=True, #cuando se pasa de un batch a otro, no se inicializan las capas intermedias\n",
        "                        recurrent_initializer='glorot_uniform',\n",
        "                        dropout=0.5), #forma de inicialización del estado recurrente\n",
        "    tf.keras.layers.Dense(vocab_size)\n",
        "  ])\n",
        "  return model\n",
        "\n",
        "def loss(labels, logits):\n",
        "  return tf.keras.losses.sparse_categorical_crossentropy(labels, logits, from_logits=True)"
      ],
      "execution_count": 26,
      "outputs": []
    },
    {
      "cell_type": "code",
      "metadata": {
        "colab_type": "code",
        "id": "oqOzws2ZsD7F",
        "colab": {}
      },
      "source": [
        "#modelo\n",
        "model = build_model(\n",
        "  vocab_size = len(vocab),\n",
        "  embedding_dim=embedding_dim,\n",
        "  rnn_units=rnn_units,\n",
        "  batch_size=BATCH_SIZE)"
      ],
      "execution_count": 28,
      "outputs": []
    },
    {
      "cell_type": "code",
      "metadata": {
        "id": "v4ihu5lskWw_",
        "colab_type": "code",
        "colab": {
          "base_uri": "https://localhost:8080/",
          "height": 975
        },
        "outputId": "b6af3dbd-6514-4a9d-ea50-82d88f6bb28f"
      },
      "source": [
        "model.summary()\n",
        "img_path = 'Imagenes'\n",
        "plot_model(model, to_file=img_path +'mlp-mnist.png', show_shapes=True)"
      ],
      "execution_count": 29,
      "outputs": [
        {
          "output_type": "stream",
          "text": [
            "Model: \"sequential\"\n",
            "_________________________________________________________________\n",
            "Layer (type)                 Output Shape              Param #   \n",
            "=================================================================\n",
            "embedding (Embedding)        (64, None, 256)           34816     \n",
            "_________________________________________________________________\n",
            "gru (GRU)                    (64, None, 1024)          3938304   \n",
            "_________________________________________________________________\n",
            "gru_1 (GRU)                  (64, None, 1024)          6297600   \n",
            "_________________________________________________________________\n",
            "gru_2 (GRU)                  (64, None, 1024)          6297600   \n",
            "_________________________________________________________________\n",
            "dense (Dense)                (64, None, 136)           139400    \n",
            "=================================================================\n",
            "Total params: 16,707,720\n",
            "Trainable params: 16,707,720\n",
            "Non-trainable params: 0\n",
            "_________________________________________________________________\n"
          ],
          "name": "stdout"
        },
        {
          "output_type": "execute_result",
          "data": {
            "image/png": "[encoded data removed]",
            "text/plain": [
              "<IPython.core.display.Image object>"
            ]
          },
          "metadata": {
            "tags": []
          },
          "execution_count": 29
        }
      ]
    },
    {
      "cell_type": "markdown",
      "metadata": {
        "colab_type": "text",
        "id": "4ZqpLGoNwEID"
      },
      "source": [
        "## 5. Configuración de checkpoints\n",
        "\n",
        "Creamos un directorio *training_checkpoints* y utilizamos *tf.keras.callbacks.ModelCheckpoint* para guardar los puntos de control (los pesos) durante el entrenamiento.\n"
      ]
    },
    {
      "cell_type": "code",
      "metadata": {
        "colab_type": "code",
        "id": "8ielCBdbsD7l",
        "colab": {}
      },
      "source": [
        "#directorio donde los checkpoints(puntos de control) serán guardados\n",
        "checkpoint_dir = './training_checkpoints'\n",
        "#nombre de los puntos de control(checkpoint files)\n",
        "checkpoint_prefix = os.path.join(checkpoint_dir, \"ckpt_{epoch}\")\n",
        "\n",
        "checkpoint_callback=tf.keras.callbacks.ModelCheckpoint(\n",
        "    filepath=checkpoint_prefix, #direccion o ruta\n",
        "    save_weights_only=True) #se guardan solo los pesos"
      ],
      "execution_count": 30,
      "outputs": []
    },
    {
      "cell_type": "markdown",
      "metadata": {
        "colab_type": "text",
        "id": "fyTjVqGiwEIK"
      },
      "source": [
        "## 6. Entrenamiento\n",
        "\n",
        "El lote de datos pasa por el modelo y devuelve un tensor de tamaño (64, 100, 65). Como el vocabulario tien 65 caracteres y cada sequencia tiene tamaño 100, el modelo predice el siguiente caracter para cada caracter en la entrada, luego el modelo asigna un valor numérico a cada elemento en el vocabulario. Cómo se elige? Se puede elegir el valor numerico máximo o se puede elegir atoriamente, que resulta ser mejor que tomar el maximo.\n",
        "\n",
        "Para elegir aleatoriamente o tomar la muestra, la distribución es calculada a partir de las predicciones(logits) que son generadas para cada caracter del vocabulario. Para cada lote de 64 secuencias la función de pérdida se obtiene con el promedio de 64∗100=6400 entropías cruzadas dispersas.\n",
        "\n",
        "Para compilar el modelo utilizamos la función de pérdida de entropía cruzada y el optimizardor Adam."
      ]
    },
    {
      "cell_type": "code",
      "metadata": {
        "colab_type": "code",
        "id": "omQ6FoossD7i",
        "colab": {}
      },
      "source": [
        "model.compile(optimizer='adam',loss=loss)"
      ],
      "execution_count": 31,
      "outputs": []
    },
    {
      "cell_type": "code",
      "metadata": {
        "colab_type": "code",
        "id": "5OHsxhRPsD7u",
        "colab": {
          "base_uri": "https://localhost:8080/",
          "height": 384
        },
        "outputId": "2a386b45-6bbe-4ece-965f-5b68cf892ab8"
      },
      "source": [
        "#en history queda registrado la funcion de perdida y la precision para el modelo, tanto en entrenamiento como en test\n",
        "EPOCHS=10\n",
        "history = model.fit(dataset, epochs=EPOCHS, callbacks=[checkpoint_callback])"
      ],
      "execution_count": 32,
      "outputs": [
        {
          "output_type": "stream",
          "text": [
            "Epoch 1/10\n",
            "1513/1513 [==============================] - 208s 137ms/step - loss: 1.6758\n",
            "Epoch 2/10\n",
            "1513/1513 [==============================] - 207s 137ms/step - loss: 1.3312\n",
            "Epoch 3/10\n",
            "1513/1513 [==============================] - 207s 137ms/step - loss: 1.2950\n",
            "Epoch 4/10\n",
            "1513/1513 [==============================] - 207s 137ms/step - loss: 1.2812\n",
            "Epoch 5/10\n",
            "1513/1513 [==============================] - 207s 137ms/step - loss: 1.2756\n",
            "Epoch 6/10\n",
            "1513/1513 [==============================] - 207s 137ms/step - loss: 1.2754\n",
            "Epoch 7/10\n",
            "1513/1513 [==============================] - 207s 137ms/step - loss: 1.2772\n",
            "Epoch 8/10\n",
            "1513/1513 [==============================] - 206s 136ms/step - loss: 1.2809\n",
            "Epoch 9/10\n",
            "1513/1513 [==============================] - 206s 136ms/step - loss: 1.2866\n",
            "Epoch 10/10\n",
            "1513/1513 [==============================] - 206s 136ms/step - loss: 1.2939\n"
          ],
          "name": "stdout"
        }
      ]
    },
    {
      "cell_type": "markdown",
      "metadata": {
        "colab_type": "text",
        "id": "mVbs6nUxwEIV"
      },
      "source": [
        "## 7. Generación de texto\n",
        "\n",
        "### Restauración del último  checkpoint\n",
        "\n",
        "Debido a la forma en que se pasa el estado RNN de un paso a otro, el modelo solo acepta un tamaño de lote fijo una vez construido, asi que tomaremos el pre-entranamiento usando los pesos almacenados y un tamaño de lote de 1. Si se quisiera ejecutar el modelo con un tamaño de lote diferente, se necesitaría reconstruir el modelo y restaurar los pesos desde el punto de control."
      ]
    },
    {
      "cell_type": "code",
      "metadata": {
        "colab_type": "code",
        "id": "CmfudwvGsD7y",
        "colab": {}
      },
      "source": [
        "#tomamos un solo batch\n",
        "model = build_model(vocab_size, embedding_dim, rnn_units, batch_size=1)\n",
        "\n",
        "#utilizamos los checkpoint del pre-entrenamiento\n",
        "model.load_weights(tf.train.latest_checkpoint(checkpoint_dir))\n",
        "\n",
        "#reconstruimos el modelo\n",
        "model.build(tf.TensorShape([1, None]))"
      ],
      "execution_count": 33,
      "outputs": []
    },
    {
      "cell_type": "markdown",
      "metadata": {
        "id": "eSo6RzBRUtRZ",
        "colab_type": "text"
      },
      "source": [
        "### Predicción\n",
        "\n",
        "¿Cómo se genera el texto?:\n",
        "\n",
        "* Se introduce una cadena de inicio, se inicializa el estado de la  RNN y se configura el número de caracteres a generar.\n",
        "\n",
        "* Se obtiene la distribución de predicción del siguiente carácter utilizando la cadena de inicio y el estado de la  RNN y se calcula el índice del carácter predicho. \n",
        "\n",
        "* Se usa este caracter predicho como la próxima entrada al modelo.\n",
        "\n",
        "* El estado RNN devuelto retroalimenta al modelo para que ahora tenga más contexto, en lugar de una sola palabra. Después de predecir la siguiente palabra, los estados RNN modificados se retroalimentan nuevamente en el modelo, que es cómo aprende a medida que obtiene más contexto de las palabras predichas previamente.\n",
        "\n",
        "Vamos a hacer la función para generar texto basada en los pesos obtenidos en el modelo pre-entrenado, aquí utilizamos un nuevo concepto *la temperatura* que indica que tan sorprendente o aleatorio puede ser un resultado, toma valores entre 0 y 1, donde un valor cercano a 0 indica que es mas predecible y un valor cercano a 1 indica que el resultado es más aleatorio."
      ]
    },
    {
      "cell_type": "code",
      "metadata": {
        "colab_type": "code",
        "id": "mjLYoVm0sD78",
        "colab": {}
      },
      "source": [
        "#funcion para generar texto usando el modelo pre-entrenado\n",
        "def generate_text(model, start_string, num_generate):\n",
        "\n",
        "  #convertimos el texto inicial en numeros (vectorizacion)\n",
        "  input_eval = [charxid[s] for s in start_string] #vector columna\n",
        "  input_eval = tf.expand_dims(input_eval, 0) #vector fila, agrega una diension\n",
        "\n",
        "  #guardamos el texto predicho\n",
        "  text_generated = []\n",
        "\n",
        "  temperature = 1.0\n",
        "\n",
        "  #tamaño del bache== 1\n",
        "  model.reset_states() #reinia o borra el estado recurrente de la red. Dejando valores aleatorios o ceros.\n",
        "  for i in range(num_generate):\n",
        "      predictions = model(input_eval)\n",
        "      #removemos la dimensión del batch, quita una dimensión\n",
        "      predictions = tf.squeeze(predictions, 0)\n",
        "\n",
        "      #usamos la distribución categorica para predecir la palabra que retorna el modelo\n",
        "      predictions = predictions / temperature\n",
        "      predicted_id = tf.random.categorical(predictions, num_samples=1)[-1,0].numpy()\n",
        "\n",
        "      #utilizamos la palabra predicha y el estado oculto anterior como entrada\n",
        "      input_eval = tf.expand_dims([predicted_id], 0) #devuelve un tensor con una dimensión adicional en el eje de índice\n",
        "\n",
        "      text_generated.append(idxchar[predicted_id])\n",
        "\n",
        "  return (start_string + ''.join(text_generated))"
      ],
      "execution_count": 34,
      "outputs": []
    },
    {
      "cell_type": "markdown",
      "metadata": {
        "id": "el7yknkpUtRp",
        "colab_type": "text"
      },
      "source": [
        "Notemos que el texto generado es capaz de utilizar mayusculas, minusculas y signos de puntuación para construir frases con el vocabulario de los Simpons."
      ]
    },
    {
      "cell_type": "code",
      "metadata": {
        "colab_type": "code",
        "id": "w1b4ggiAsD8A",
        "colab": {
          "base_uri": "https://localhost:8080/",
          "height": 166
        },
        "outputId": "27563e63-4419-446c-b801-026c707ca263"
      },
      "source": [
        "print(generate_text(model, start_string=u\"Homer Simpson: \", num_generate=500))"
      ],
      "execution_count": 35,
      "outputs": [
        {
          "output_type": "stream",
          "text": [
            "Homer Simpson: Was you're doing it!\n",
            "C. Montgomery Burns: (STIFFLES) You know, I sseired by the coalboas.\n",
            "Captain Horatio McCluencer: I can do in!\n",
            "Ralph Wiggum: Ooh!\n",
            "Homer Simpson: (CHMISSED ON THE, TO ITCRELE) That's what we're not usually never gone, Flanders, wonderscy and love the film, and yeah, oh, that's where I think of love in us!\n",
            "Chief Wiggum: (INTO WAiLE) (GASPS) I guess we're gonna believe a good full for Coltersyl!\n",
            "Milhouse Van Houten: I'm mash on a great figure. He's ready us no own Assistans! (GE\n"
          ],
          "name": "stdout"
        }
      ]
    },
    {
      "cell_type": "markdown",
      "metadata": {
        "id": "3OMFMDZLUtR2",
        "colab_type": "text"
      },
      "source": [
        "## Avanzado: Entrenamiento personalizado\n",
        "\n",
        "Para mejorar el entrenamiento anterior y obtener más control usaremos `tf.GradientTape` bajo los siguientes pasos:\n",
        "\n",
        "* Utilizamos el mismo modelo y el optimizador adam.\n",
        "\n",
        "* Inicializamos el estado RNN llamando al método `tf.keras.Model.reset_states`.\n",
        "\n",
        "* Repetimos el conjunto de datos (lote por lote) y calculamos las predicciones asociadas con cada una.\n",
        "\n",
        "* Abrimos un `tf.GradientTape`, y calculamos las predicciones y pérdidas en ese contexto.\n",
        "\n",
        "* Calculamos los gradientes de la pérdida con respecto a las variables del modelo utilizando el método `tf.GradientTape.grads`.\n",
        "\n",
        "* Finalmente, damos un paso hacia abajo utilizando el método `tf.train.Optimizer.apply_gradients` del optimizador."
      ]
    },
    {
      "cell_type": "code",
      "metadata": {
        "colab_type": "code",
        "id": "-TP9mJ_3sD8E",
        "colab": {}
      },
      "source": [
        "#modelo\n",
        "model = build_model(\n",
        "  vocab_size = len(vocab),\n",
        "  embedding_dim=embedding_dim,\n",
        "  rnn_units=rnn_units,\n",
        "  batch_size=BATCH_SIZE)"
      ],
      "execution_count": 36,
      "outputs": []
    },
    {
      "cell_type": "code",
      "metadata": {
        "colab_type": "code",
        "id": "78WenvicsD8H",
        "colab": {}
      },
      "source": [
        "#optimizador\n",
        "optimizer = tf.keras.optimizers.Adam()"
      ],
      "execution_count": 37,
      "outputs": []
    },
    {
      "cell_type": "code",
      "metadata": {
        "colab_type": "code",
        "id": "_QI19bNEsD8O",
        "colab": {}
      },
      "source": [
        "@tf.function\n",
        "def train_step(inp, target): \n",
        "  with tf.GradientTape() as tape:\n",
        "    predictions = model(inp)\n",
        "    loss = tf.reduce_mean(\n",
        "        tf.keras.losses.sparse_categorical_crossentropy(\n",
        "            target, predictions, from_logits=True))\n",
        "  grads = tape.gradient(loss, model.trainable_variables)\n",
        "  optimizer.apply_gradients(zip(grads, model.trainable_variables))\n",
        "\n",
        "  return loss"
      ],
      "execution_count": 38,
      "outputs": []
    },
    {
      "cell_type": "markdown",
      "metadata": {
        "id": "TWgJullsUtST",
        "colab_type": "text"
      },
      "source": [
        "Con lo anterior hacemos el pre-entrenamiento."
      ]
    },
    {
      "cell_type": "code",
      "metadata": {
        "colab_type": "code",
        "id": "psNF_W9ssD8T",
        "colab": {
          "base_uri": "https://localhost:8080/",
          "height": 1000
        },
        "outputId": "4a35f249-e839-466c-a231-94c64c82432d"
      },
      "source": [
        "EPOCHS = 10\n",
        "\n",
        "for epoch in range(EPOCHS):\n",
        "  start = time.time()\n",
        "\n",
        "  #inicializamos el estado oculto al comienzo de cada época\n",
        "  hidden = model.reset_states()\n",
        "\n",
        "  for (batch_n, (inp, target)) in enumerate(dataset):\n",
        "    loss = train_step(inp, target) #usamos la funcion train_step que acabamos de creamr\n",
        "\n",
        "    if batch_n % 100 == 0:\n",
        "      template = 'Epoch {} Batch {} Loss {}'\n",
        "      print(template.format(epoch+1, batch_n, loss))\n",
        "\n",
        "  #guardamos los 'checkpoint' del modelo cada 5 epocas\n",
        "  if (epoch + 1) % 5 == 0:\n",
        "    model.save_weights(checkpoint_prefix.format(epoch=epoch))\n",
        "\n",
        "  print ('Epoch {} Loss {:.4f}'.format(epoch+1, loss))\n",
        "  print ('Time taken for 1 epoch {} sec\\n'.format(time.time() - start))\n",
        "\n",
        "#imprimimos la perida y los pesos guardados\n",
        "model.save_weights(checkpoint_prefix.format(epoch=epoch))"
      ],
      "execution_count": 39,
      "outputs": [
        {
          "output_type": "stream",
          "text": [
            "Epoch 1 Batch 0 Loss 4.913026332855225\n",
            "Epoch 1 Batch 100 Loss 2.317227840423584\n",
            "Epoch 1 Batch 200 Loss 1.9274165630340576\n",
            "Epoch 1 Batch 300 Loss 1.747829556465149\n",
            "Epoch 1 Batch 400 Loss 1.5455212593078613\n",
            "Epoch 1 Batch 500 Loss 1.5282138586044312\n",
            "Epoch 1 Batch 600 Loss 1.4177162647247314\n",
            "Epoch 1 Batch 700 Loss 1.3713375329971313\n",
            "Epoch 1 Batch 800 Loss 1.3693203926086426\n",
            "Epoch 1 Batch 900 Loss 1.3560467958450317\n",
            "Epoch 1 Batch 1000 Loss 1.3411974906921387\n",
            "Epoch 1 Batch 1100 Loss 1.3046380281448364\n",
            "Epoch 1 Batch 1200 Loss 1.287421703338623\n",
            "Epoch 1 Batch 1300 Loss 1.204250454902649\n",
            "Epoch 1 Batch 1400 Loss 1.2329068183898926\n",
            "Epoch 1 Batch 1500 Loss 1.2926632165908813\n",
            "Epoch 1 Loss 1.2791\n",
            "Time taken for 1 epoch 208.29581356048584 sec\n",
            "\n",
            "Epoch 2 Batch 0 Loss 1.2105298042297363\n",
            "Epoch 2 Batch 100 Loss 1.2507838010787964\n",
            "Epoch 2 Batch 200 Loss 1.2658448219299316\n",
            "Epoch 2 Batch 300 Loss 1.2017096281051636\n",
            "Epoch 2 Batch 400 Loss 1.1777077913284302\n",
            "Epoch 2 Batch 500 Loss 1.180179476737976\n",
            "Epoch 2 Batch 600 Loss 1.1755372285842896\n",
            "Epoch 2 Batch 700 Loss 1.2289811372756958\n",
            "Epoch 2 Batch 800 Loss 1.189624547958374\n",
            "Epoch 2 Batch 900 Loss 1.187332272529602\n",
            "Epoch 2 Batch 1000 Loss 1.143418788909912\n",
            "Epoch 2 Batch 1100 Loss 1.2620189189910889\n",
            "Epoch 2 Batch 1200 Loss 1.1481989622116089\n",
            "Epoch 2 Batch 1300 Loss 1.218259334564209\n",
            "Epoch 2 Batch 1400 Loss 1.2245322465896606\n",
            "Epoch 2 Batch 1500 Loss 1.179664134979248\n",
            "Epoch 2 Loss 1.1652\n",
            "Time taken for 1 epoch 205.71713542938232 sec\n",
            "\n",
            "Epoch 3 Batch 0 Loss 1.1691144704818726\n",
            "Epoch 3 Batch 100 Loss 1.1535115242004395\n",
            "Epoch 3 Batch 200 Loss 1.1773179769515991\n",
            "Epoch 3 Batch 300 Loss 1.1725572347640991\n",
            "Epoch 3 Batch 400 Loss 1.1893218755722046\n",
            "Epoch 3 Batch 500 Loss 1.1776831150054932\n",
            "Epoch 3 Batch 600 Loss 1.1314750909805298\n",
            "Epoch 3 Batch 700 Loss 1.133838176727295\n",
            "Epoch 3 Batch 800 Loss 1.1896265745162964\n",
            "Epoch 3 Batch 900 Loss 1.087805151939392\n",
            "Epoch 3 Batch 1000 Loss 1.1754881143569946\n",
            "Epoch 3 Batch 1100 Loss 1.235580325126648\n",
            "Epoch 3 Batch 1200 Loss 1.1553337574005127\n",
            "Epoch 3 Batch 1300 Loss 1.2178882360458374\n",
            "Epoch 3 Batch 1400 Loss 1.1486597061157227\n",
            "Epoch 3 Batch 1500 Loss 1.1747846603393555\n",
            "Epoch 3 Loss 1.1986\n",
            "Time taken for 1 epoch 205.72964763641357 sec\n",
            "\n",
            "Epoch 4 Batch 0 Loss 1.0539920330047607\n",
            "Epoch 4 Batch 100 Loss 1.1412662267684937\n",
            "Epoch 4 Batch 200 Loss 1.1195015907287598\n",
            "Epoch 4 Batch 300 Loss 1.1269406080245972\n",
            "Epoch 4 Batch 400 Loss 1.1295510530471802\n",
            "Epoch 4 Batch 500 Loss 1.1295502185821533\n",
            "Epoch 4 Batch 600 Loss 1.1897646188735962\n",
            "Epoch 4 Batch 700 Loss 1.2199934720993042\n",
            "Epoch 4 Batch 800 Loss 1.2055168151855469\n",
            "Epoch 4 Batch 900 Loss 1.0883861780166626\n",
            "Epoch 4 Batch 1000 Loss 1.1379003524780273\n",
            "Epoch 4 Batch 1100 Loss 1.0913828611373901\n",
            "Epoch 4 Batch 1200 Loss 1.1629674434661865\n",
            "Epoch 4 Batch 1300 Loss 1.1341004371643066\n",
            "Epoch 4 Batch 1400 Loss 1.147464394569397\n",
            "Epoch 4 Batch 1500 Loss 1.1053906679153442\n",
            "Epoch 4 Loss 1.2276\n",
            "Time taken for 1 epoch 206.15557837486267 sec\n",
            "\n",
            "Epoch 5 Batch 0 Loss 1.0496517419815063\n",
            "Epoch 5 Batch 100 Loss 1.1471531391143799\n",
            "Epoch 5 Batch 200 Loss 1.1404708623886108\n",
            "Epoch 5 Batch 300 Loss 1.1420159339904785\n",
            "Epoch 5 Batch 400 Loss 1.1409313678741455\n",
            "Epoch 5 Batch 500 Loss 1.1517035961151123\n",
            "Epoch 5 Batch 600 Loss 1.107858419418335\n",
            "Epoch 5 Batch 700 Loss 1.1375553607940674\n",
            "Epoch 5 Batch 800 Loss 1.1191312074661255\n",
            "Epoch 5 Batch 900 Loss 1.0979853868484497\n",
            "Epoch 5 Batch 1000 Loss 1.1130743026733398\n",
            "Epoch 5 Batch 1100 Loss 1.1419830322265625\n",
            "Epoch 5 Batch 1200 Loss 1.136558175086975\n",
            "Epoch 5 Batch 1300 Loss 1.1491786241531372\n",
            "Epoch 5 Batch 1400 Loss 1.103371262550354\n",
            "Epoch 5 Batch 1500 Loss 1.1307470798492432\n",
            "Epoch 5 Loss 1.1605\n",
            "Time taken for 1 epoch 206.22287249565125 sec\n",
            "\n",
            "Epoch 6 Batch 0 Loss 1.1347017288208008\n",
            "Epoch 6 Batch 100 Loss 1.112991213798523\n",
            "Epoch 6 Batch 200 Loss 1.1574920415878296\n",
            "Epoch 6 Batch 300 Loss 1.1458914279937744\n",
            "Epoch 6 Batch 400 Loss 1.0475963354110718\n",
            "Epoch 6 Batch 500 Loss 1.1327797174453735\n",
            "Epoch 6 Batch 600 Loss 1.0891586542129517\n",
            "Epoch 6 Batch 700 Loss 1.131367564201355\n",
            "Epoch 6 Batch 800 Loss 1.129776120185852\n",
            "Epoch 6 Batch 900 Loss 1.100949764251709\n",
            "Epoch 6 Batch 1000 Loss 1.1166226863861084\n",
            "Epoch 6 Batch 1100 Loss 1.1505470275878906\n",
            "Epoch 6 Batch 1200 Loss 1.1326162815093994\n",
            "Epoch 6 Batch 1300 Loss 1.114933967590332\n",
            "Epoch 6 Batch 1400 Loss 1.055087924003601\n",
            "Epoch 6 Batch 1500 Loss 1.1633957624435425\n",
            "Epoch 6 Loss 1.1676\n",
            "Time taken for 1 epoch 206.18784761428833 sec\n",
            "\n",
            "Epoch 7 Batch 0 Loss 1.047810673713684\n",
            "Epoch 7 Batch 100 Loss 1.0974242687225342\n",
            "Epoch 7 Batch 200 Loss 1.1193385124206543\n",
            "Epoch 7 Batch 300 Loss 1.0905345678329468\n",
            "Epoch 7 Batch 400 Loss 1.1652413606643677\n",
            "Epoch 7 Batch 500 Loss 1.119755506515503\n",
            "Epoch 7 Batch 600 Loss 1.1279349327087402\n",
            "Epoch 7 Batch 700 Loss 1.1205111742019653\n",
            "Epoch 7 Batch 800 Loss 1.1093088388442993\n",
            "Epoch 7 Batch 900 Loss 1.0844844579696655\n",
            "Epoch 7 Batch 1000 Loss 1.1560828685760498\n",
            "Epoch 7 Batch 1100 Loss 1.1669037342071533\n",
            "Epoch 7 Batch 1200 Loss 1.1122653484344482\n",
            "Epoch 7 Batch 1300 Loss 1.1593122482299805\n",
            "Epoch 7 Batch 1400 Loss 1.1120431423187256\n",
            "Epoch 7 Batch 1500 Loss 1.1126347780227661\n",
            "Epoch 7 Loss 1.1386\n",
            "Time taken for 1 epoch 206.23624181747437 sec\n",
            "\n",
            "Epoch 8 Batch 0 Loss 1.066551923751831\n",
            "Epoch 8 Batch 100 Loss 1.0739567279815674\n",
            "Epoch 8 Batch 200 Loss 1.145471453666687\n",
            "Epoch 8 Batch 300 Loss 1.1242543458938599\n",
            "Epoch 8 Batch 400 Loss 1.1093847751617432\n",
            "Epoch 8 Batch 500 Loss 1.129038691520691\n",
            "Epoch 8 Batch 600 Loss 1.0789142847061157\n",
            "Epoch 8 Batch 700 Loss 1.160090684890747\n",
            "Epoch 8 Batch 800 Loss 1.0823379755020142\n",
            "Epoch 8 Batch 900 Loss 1.1077462434768677\n",
            "Epoch 8 Batch 1000 Loss 1.1063203811645508\n",
            "Epoch 8 Batch 1100 Loss 1.1510151624679565\n",
            "Epoch 8 Batch 1200 Loss 1.1683672666549683\n",
            "Epoch 8 Batch 1300 Loss 1.1470922231674194\n",
            "Epoch 8 Batch 1400 Loss 1.1290559768676758\n",
            "Epoch 8 Batch 1500 Loss 1.0969048738479614\n",
            "Epoch 8 Loss 1.1191\n",
            "Time taken for 1 epoch 206.30921816825867 sec\n",
            "\n",
            "Epoch 9 Batch 0 Loss 1.12469482421875\n",
            "Epoch 9 Batch 100 Loss 1.1197841167449951\n",
            "Epoch 9 Batch 200 Loss 1.2116961479187012\n",
            "Epoch 9 Batch 300 Loss 1.1641813516616821\n",
            "Epoch 9 Batch 400 Loss 1.1437170505523682\n",
            "Epoch 9 Batch 500 Loss 1.1594053506851196\n",
            "Epoch 9 Batch 600 Loss 1.1375038623809814\n",
            "Epoch 9 Batch 700 Loss 1.1148148775100708\n",
            "Epoch 9 Batch 800 Loss 1.1090751886367798\n",
            "Epoch 9 Batch 900 Loss 1.0838161706924438\n",
            "Epoch 9 Batch 1000 Loss 1.1003490686416626\n",
            "Epoch 9 Batch 1100 Loss 1.1532814502716064\n",
            "Epoch 9 Batch 1200 Loss 1.1310746669769287\n",
            "Epoch 9 Batch 1300 Loss 1.117060661315918\n",
            "Epoch 9 Batch 1400 Loss 1.0890194177627563\n",
            "Epoch 9 Batch 1500 Loss 1.0858733654022217\n",
            "Epoch 9 Loss 1.1246\n",
            "Time taken for 1 epoch 206.17948460578918 sec\n",
            "\n",
            "Epoch 10 Batch 0 Loss 1.0858891010284424\n",
            "Epoch 10 Batch 100 Loss 1.121110439300537\n",
            "Epoch 10 Batch 200 Loss 1.131170392036438\n",
            "Epoch 10 Batch 300 Loss 1.1101571321487427\n",
            "Epoch 10 Batch 400 Loss 1.1444345712661743\n",
            "Epoch 10 Batch 500 Loss 1.1058800220489502\n",
            "Epoch 10 Batch 600 Loss 1.1444156169891357\n",
            "Epoch 10 Batch 700 Loss 1.1264363527297974\n",
            "Epoch 10 Batch 800 Loss 1.1504064798355103\n",
            "Epoch 10 Batch 900 Loss 1.1298068761825562\n",
            "Epoch 10 Batch 1000 Loss 1.1402603387832642\n",
            "Epoch 10 Batch 1100 Loss 1.134207010269165\n",
            "Epoch 10 Batch 1200 Loss 1.1686816215515137\n",
            "Epoch 10 Batch 1300 Loss 1.1933677196502686\n",
            "Epoch 10 Batch 1400 Loss 1.1524380445480347\n",
            "Epoch 10 Batch 1500 Loss 1.1788043975830078\n",
            "Epoch 10 Loss 1.1595\n",
            "Time taken for 1 epoch 206.34600639343262 sec\n",
            "\n"
          ],
          "name": "stdout"
        }
      ]
    },
    {
      "cell_type": "markdown",
      "metadata": {
        "id": "4ofV07LtUtSg",
        "colab_type": "text"
      },
      "source": [
        "Ahora, vamos a utilizar el modelo pre-entrenado, pero vamos a utilizar un solo bache."
      ]
    },
    {
      "cell_type": "code",
      "metadata": {
        "colab_type": "code",
        "id": "e0PFxPwIsD8W",
        "colab": {}
      },
      "source": [
        "#tomamos un solo batch\n",
        "model = build_model(vocab_size, embedding_dim, rnn_units, batch_size=1)\n",
        "\n",
        "#utilizamos los checkpoint del pre-entrenamiento\n",
        "model.load_weights(tf.train.latest_checkpoint(checkpoint_dir))\n",
        "\n",
        "#reconstruimos el modelo\n",
        "model.build(tf.TensorShape([1, None]))"
      ],
      "execution_count": 40,
      "outputs": []
    },
    {
      "cell_type": "markdown",
      "metadata": {
        "id": "ERw1xFvnUtSs",
        "colab_type": "text"
      },
      "source": [
        "Y utilizamos nuevamente la funcion generadora de texto."
      ]
    },
    {
      "cell_type": "code",
      "metadata": {
        "id": "vUpVIHTTUtSt",
        "colab_type": "code",
        "colab": {}
      },
      "source": [
        "#funcion para generar texto usando el modelo pre-entrenado\n",
        "def generate_text(model, start_string, num_generate):\n",
        "\n",
        "  #convertimos el texto inicial en numeros (vectorizacion)\n",
        "  input_eval = [charxid[s] for s in start_string] #vector columna\n",
        "  input_eval = tf.expand_dims(input_eval, 0) #vector fila, agrega una diension\n",
        "\n",
        "  #guardamos el texto predicho\n",
        "  text_generated = []\n",
        "\n",
        "  temperature = 1.0\n",
        "\n",
        "  #tamaño del bache== 1\n",
        "  model.reset_states() #reinia o borra el estado recurrente de la red. Dejando valores aleatorios o ceros.\n",
        "  for i in range(num_generate):\n",
        "      predictions = model(input_eval)\n",
        "      #removemos la dimensión del batch, quita una dimensión\n",
        "      predictions = tf.squeeze(predictions, 0)\n",
        "\n",
        "      #usamos la distribución categorica para predecir la palabra que retorna el modelo\n",
        "      predictions = predictions / temperature\n",
        "      predicted_id = tf.random.categorical(predictions, num_samples=1)[-1,0].numpy()\n",
        "\n",
        "      #utilizamos la palabra predicha y el estado oculto anterior como entrada\n",
        "      input_eval = tf.expand_dims([predicted_id], 0) #devuelve un tensor con una dimensión adicional en el eje de índice\n",
        "\n",
        "      text_generated.append(idxchar[predicted_id])\n",
        "\n",
        "  return (start_string + ''.join(text_generated))"
      ],
      "execution_count": 41,
      "outputs": []
    },
    {
      "cell_type": "markdown",
      "metadata": {
        "id": "gGWFmH-wUtS8",
        "colab_type": "text"
      },
      "source": [
        "Podemos ver que este código nos da resultados mas coherentes."
      ]
    },
    {
      "cell_type": "markdown",
      "metadata": {
        "id": "BUQjqjZi2HdT",
        "colab_type": "text"
      },
      "source": [
        "## Conectar Redes: Clasificaror con Generador"
      ]
    },
    {
      "cell_type": "code",
      "metadata": {
        "id": "SdFRPMRV2Owa",
        "colab_type": "code",
        "colab": {}
      },
      "source": [
        "pr=\"Homer: Wherever injustice shows its ugly face, I will be there, for I am the Pie Man.\""
      ],
      "execution_count": 71,
      "outputs": []
    },
    {
      "cell_type": "code",
      "metadata": {
        "id": "oTUQ4cqMUtS9",
        "colab_type": "code",
        "colab": {}
      },
      "source": [
        "output_model = generate_text(model,pr, 1000)"
      ],
      "execution_count": 73,
      "outputs": []
    },
    {
      "cell_type": "code",
      "metadata": {
        "id": "Q4oJRiiUnISE",
        "colab_type": "code",
        "colab": {}
      },
      "source": [
        "def output_ultimate(line):\n",
        "  if line.split('\\n')[1] == ' ':\n",
        "    line2=line.split('\\n')[2]\n",
        "    labelsLine2 = line2[:line2.index(':')+1]\n",
        "    line_ultimate = line2.replace(labelsLine2,\"\")\n",
        "    print(line_ultimate)\n",
        "  else:\n",
        "    line2=line.split('\\n')[1]\n",
        "    labelsLine2 = line2[:line2.index(':')+1]\n",
        "    line_ultimate = line2.replace(labelsLine2,\"\")\n",
        "    print(line_ultimate)"
      ],
      "execution_count": 78,
      "outputs": []
    },
    {
      "cell_type": "code",
      "metadata": {
        "id": "DsOygtyAnKAy",
        "colab_type": "code",
        "colab": {
          "base_uri": "https://localhost:8080/",
          "height": 35
        },
        "outputId": "a5b72e15-3dbd-4fd2-f266-5893819b0095"
      },
      "source": [
        "output_ultimate(output_model)"
      ],
      "execution_count": 79,
      "outputs": [
        {
          "output_type": "stream",
          "text": [
            " (VERY ANNOYED) go to the scorecroo-man, lose. (TO SEGUNEADS) Caleball!\n"
          ],
          "name": "stdout"
        }
      ]
    },
    {
      "cell_type": "code",
      "metadata": {
        "colab_type": "code",
        "id": "icqrGCKKAMmZ",
        "colab": {}
      },
      "source": [
        "## 12. Referencias\n",
        "\n",
        "#- Aprendizaje profundo, [Repositorio Ciencia-de-datos](https://github.com/AprendizajeProfundo/Ciencia-de-Datos)\n",
        "#- Tensorflow, [Generación de texto con una red neuronal recurrente (RNN)](https://www.tensorflow.org/tutorials/text/text_generation)\n",
        "#- Google, [Machine learning crash course](https://developers.google.com/machine-learning/crash-course/embeddings/video-lecture)"
      ],
      "execution_count": 80,
      "outputs": []
    }
  ]
}