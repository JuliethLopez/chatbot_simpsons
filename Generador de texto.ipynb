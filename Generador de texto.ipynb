{
 "cells": [
  {
   "cell_type": "markdown",
   "metadata": {},
   "source": [
    "<a href=\"https://colab.research.google.com/github/JuliethLopez/chatbot_simpsons/blob/master/Generador%20de%20texto.ipynb\" target=\"_parent\"><img src=\"https://colab.research.google.com/assets/colab-badge.svg\" alt=\"Open In Colab\"/></a>"
   ]
  },
  {
   "cell_type": "markdown",
   "metadata": {
    "colab_type": "text",
    "id": "_xHJ41-ewD-g"
   },
   "source": [
    "# Chatbot de los Simpsons\n",
    "\n",
    "Con éste código se pretende hacer un chatbot a partir de la generación de texto con un red neuronal recurrente, particularmente una red GRU. El modelo debe aprender a generar caracteres para formar palabras con sentido y con ello una oración que corresponda a una palabra o una frase.\n",
    "\n",
    "Para comenzar cargaremos las librerias y la base de datos:"
   ]
  },
  {
   "cell_type": "code",
   "execution_count": 1,
   "metadata": {
    "colab": {
     "base_uri": "https://localhost:8080/",
     "height": 35
    },
    "colab_type": "code",
    "id": "YOZBjZVYsD4_",
    "outputId": "922501fd-4df0-4275-e88e-bcef5d49be04"
   },
   "outputs": [
    {
     "name": "stdout",
     "output_type": "stream",
     "text": [
      "Versión de Tensorflow:  2.0.1\n"
     ]
    }
   ],
   "source": [
    "#librerias\n",
    "import tensorflow as tf #para el uso de keras y el manejo de tensores.\n",
    "import numpy as np #para manejo de bases de datos\n",
    "import os #para leer y escribir archivos\n",
    "\n",
    "print(\"Versión de Tensorflow: \", tf.__version__)"
   ]
  },
  {
   "cell_type": "markdown",
   "metadata": {
    "colab_type": "text",
    "id": "7p1zzi6QwEAz"
   },
   "source": [
    "La base de datos fue tomada del conjunto de bases de datos __The Simpsons by the Data__ en [data.world](https://data.world/data-society/the-simpsons-by-the-data) (*para usar esta página es necesario registrarse*). Éste contiene distintas bases de datos que con los personajes, las locaciones, los detalles de los episodios, y los dialogos de aproximadamente 600 episodios de los simpsons. Utilizamos la base de datos *simpsons_script_lines.csv* que inicialmente tenia 158271 lineas de conversación, por ejemplo \"Lisa Simpson: Challenge accepted!\" y la filtramos por la variable raw_text=TRUE usando SQL desde la misma página [data.world](https://data.world/data-society/the-simpsons-by-the-data), obteniendo 132113 lineas.\n",
    "\n",
    "    SELECT raw_text\n",
    "    FROM simpsons_script_lines\n",
    "    WHERE speaking_line = 'Guess what. I also play Frankenstein!' OR speaking_line = TRUE\n",
    "    \n",
    "Descargamos el archivo en formato XLSX y lo transformamos a formato TXT, no descargamos los datos en formato CSV porque aparecián caracteres no imprimibles (¦ â € Ã ©)."
   ]
  },
  {
   "cell_type": "code",
   "execution_count": 2,
   "metadata": {
    "colab": {},
    "colab_type": "code",
    "id": "cYPvH81qsD5H"
   },
   "outputs": [],
   "source": [
    "#datos\n",
    "text = open('./Datos/simpsons_script_lines.txt', 'rb').read().decode(encoding='utf-8')"
   ]
  },
  {
   "cell_type": "code",
   "execution_count": 3,
   "metadata": {
    "colab": {
     "base_uri": "https://localhost:8080/",
     "height": 92
    },
    "colab_type": "code",
    "id": "qH9fwX7esD5R",
    "outputId": "ec56b28a-f3ce-4f6c-dc81-b26203e406ac"
   },
   "outputs": [
    {
     "name": "stdout",
     "output_type": "stream",
     "text": [
      "Miss Hoover: No, actually, it was a little of both. Sometimes when a disease is in all the magazines and all the news shows, it's only natural that you think you have it.\r\n",
      "Lisa Simpson: (NEAR TEARS) Where's Mr. Bergstrom?\r\n",
      "Miss Hoover: I don't know. \n"
     ]
    }
   ],
   "source": [
    "#primeros 200 caracteres\n",
    "print(text[:250])"
   ]
  },
  {
   "cell_type": "markdown",
   "metadata": {
    "colab_type": "text",
    "id": "hlOssfc1wEDZ"
   },
   "source": [
    "Contamos el numero de caracteres porque el modelo se entrenara desde los caracteres, no desde las palabras como veremos más adelante."
   ]
  },
  {
   "cell_type": "code",
   "execution_count": 4,
   "metadata": {
    "colab": {
     "base_uri": "https://localhost:8080/",
     "height": 35
    },
    "colab_type": "code",
    "id": "2OTH4ccgsD5M",
    "outputId": "9c55d12c-a621-41c3-e534-6504090b9375"
   },
   "outputs": [
    {
     "name": "stdout",
     "output_type": "stream",
     "text": [
      "Length of text: 9913945 characters\n"
     ]
    }
   ],
   "source": [
    "print ('Length of text: {} characters'.format(len(text)))"
   ]
  },
  {
   "cell_type": "markdown",
   "metadata": {
    "colab_type": "text",
    "id": "CelGue5MwEDn"
   },
   "source": [
    "## 1. Vocabulario o alfabeto\n",
    "\n",
    "Si bien los datos están en inglés, hay algunas palabras en otros idiomas debido a la complejitud de los personajes de la serie, por eso hemos decidido dejar los carácteres que pertenecen a esos otro idiomas."
   ]
  },
  {
   "cell_type": "code",
   "execution_count": 5,
   "metadata": {
    "colab": {
     "base_uri": "https://localhost:8080/",
     "height": 1000
    },
    "colab_type": "code",
    "id": "rym9-0-gsD5X",
    "outputId": "df3eedaa-b85a-4c9d-f5bb-32447ac14b44"
   },
   "outputs": [
    {
     "name": "stdout",
     "output_type": "stream",
     "text": [
      "138 carácteres únicos\n"
     ]
    }
   ],
   "source": [
    "vocab = sorted(set(text)) #set extrae caracteres distintos, sorted los ordena\n",
    "print ('{} carácteres únicos'.format(len(vocab)))"
   ]
  },
  {
   "cell_type": "markdown",
   "metadata": {
    "colab_type": "text",
    "id": "MMcoUrcmzKWk"
   },
   "source": [
    "Dentro de los caracteres tenemos \\n que se utiliza como indicador para el salto de linea y \\r que se utiliza para regresar del final de la linea al inicio de la linea. Pero por otro lado tenemos un caracter no deseable \\xad que vamos a eliminar."
   ]
  },
  {
   "cell_type": "code",
   "execution_count": 6,
   "metadata": {
    "colab": {},
    "colab_type": "code",
    "id": "WK28ZFwvzKkA"
   },
   "outputs": [],
   "source": [
    "text = text.replace('\\N{SOFT HYPHEN}', '') #elimina \\xad y eliminaria mas caracteres suaves si hubieran."
   ]
  },
  {
   "cell_type": "code",
   "execution_count": 7,
   "metadata": {
    "colab": {
     "base_uri": "https://localhost:8080/",
     "height": 1000
    },
    "colab_type": "code",
    "id": "eDg3nHNl0_AJ",
    "outputId": "48843f5f-66ba-4efa-ccc2-786ab16db3ed"
   },
   "outputs": [
    {
     "name": "stdout",
     "output_type": "stream",
     "text": [
      "137 carácteres únicos\n"
     ]
    }
   ],
   "source": [
    "vocab = sorted(set(text)) #set extrae caracteres distintos, sorted los ordena\n",
    "print ('{} carácteres únicos'.format(len(vocab)))"
   ]
  },
  {
   "cell_type": "markdown",
   "metadata": {
    "colab_type": "text",
    "id": "Tr-IbSi_y3vq"
   },
   "source": [
    "## 2. Diccionarios de ida y vuelta\n",
    "Ahora que tenemos el vocabulario de caracteres podemos crear los diccionarios de ida y vuelta que lo que harán es darle un id a cada caracter ya que para la maquina es más facil trabajar con números, de modo que cuando una frase entra, se traduce a numeros cada uno de los caracteres y se predicen los id, que luego seran transformados a carácteres para poder leerlos."
   ]
  },
  {
   "cell_type": "code",
   "execution_count": 8,
   "metadata": {
    "colab": {},
    "colab_type": "code",
    "id": "lXMNM2u8sD5g"
   },
   "outputs": [],
   "source": [
    "charxid = {u:i for i, u in enumerate(vocab)} #le damos un indice a cada caractér\n",
    "text_as_int = np.array([charxid[i] for i in text]) #caracteres a números"
   ]
  },
  {
   "cell_type": "code",
   "execution_count": 9,
   "metadata": {
    "colab": {
     "base_uri": "https://localhost:8080/",
     "height": 424
    },
    "colab_type": "code",
    "id": "1TUMzDuJ6fP1",
    "outputId": "2ed1a92b-713d-4a74-b086-4d70aba7f685"
   },
   "outputs": [
    {
     "name": "stdout",
     "output_type": "stream",
     "text": [
      "'\\n':   0,\n",
      "'\\r':   1,\n",
      "' ' :   2,\n",
      "'!' :   3,\n",
      "'#' :   4,\n",
      "'$' :   5,\n",
      "'%' :   6,\n",
      "'&' :   7,\n",
      "\"'\" :   8,\n",
      "'(' :   9,\n"
     ]
    }
   ],
   "source": [
    "#id de los primeros 10 caracteres\n",
    "for char,_ in zip(charxid, range(10)):\n",
    "    print('{:4s}: {:3d},'.format(repr(char), charxid[char])) #s: str, d: int"
   ]
  },
  {
   "cell_type": "code",
   "execution_count": 10,
   "metadata": {},
   "outputs": [
    {
     "name": "stdout",
     "output_type": "stream",
     "text": [
      "'Miss Hoover: No' ---- carácteres a enteros ---- > [42 69 79 79  2 37 75 75 82 65 78 27  2 43 75]\n"
     ]
    }
   ],
   "source": [
    "#primeros 15 carácteres del texto a enteros\n",
    "print ('{} ---- carácteres a enteros ---- > {}'.format(repr(text[:15]), text_as_int[:15]))"
   ]
  },
  {
   "cell_type": "code",
   "execution_count": 11,
   "metadata": {
    "colab": {
     "base_uri": "https://localhost:8080/",
     "height": 165
    },
    "colab_type": "code",
    "id": "ttvBve3jsD50",
    "outputId": "22fa389d-56b8-4db0-a390-959f4d654754"
   },
   "outputs": [
    {
     "name": "stdout",
     "output_type": "stream",
     "text": [
      "\n",
      "idxchar: ['\\n' '\\r' ' ' '!' '#' '$' '%' '&' \"'\" '(' ')' '*' '+' ',' '-' '.' '/' '0'\n",
      " '1' '2' '3' '4' '5' '6' '7' '8' '9' ':' ';' '?' 'A' 'B' 'C' 'D' 'E' 'F'\n",
      " 'G' 'H' 'I' 'J' 'K' 'L' 'M' 'N' 'O' 'P' 'Q' 'R' 'S' 'T' 'U' 'V' 'W' 'X'\n",
      " 'Y' 'Z' '[' '\\\\' ']' '_' '`' 'a' 'b' 'c' 'd' 'e' 'f' 'g' 'h' 'i' 'j' 'k'\n",
      " 'l' 'm' 'n' 'o' 'p' 'q' 'r' 's' 't' 'u' 'v' 'w' 'x' 'y' 'z' '¡' '¿' 'À'\n",
      " 'Ä' 'È' 'É' 'Ñ' 'Ö' 'Ù' 'Ü' 'à' 'á' 'â' 'ã' 'ä' 'å' 'æ' 'ç' 'è' 'é' 'ê'\n",
      " 'ë' 'ì' 'í' 'ï' 'ñ' 'ò' 'ó' 'ô' 'õ' 'ö' 'ø' 'ù' 'ú' 'û' 'ü' 'ā' 'Ĉ' 'ē'\n",
      " 'ě' 'Ĝ' 'ī' 'Ĭ' 'ł' 'ń' 'ŭ' 'ż' 'ǎ' 'ǐ' 'ǒ']\n"
     ]
    }
   ],
   "source": [
    "idxchar = np.array(vocab) #números a caracteres\n",
    "print(\"\\nidxchar:\", idxchar)"
   ]
  },
  {
   "cell_type": "markdown",
   "metadata": {
    "colab_type": "text",
    "id": "USt8NcpwwEE3"
   },
   "source": [
    "## 3. Datos de entrenamiento y etiquetas\n",
    "\n",
    "Los datos que tenemos aún no están listos para usarse en el modelo, pues no están etiquetados. Para entender como etiquetar los datos usemos esta frase como ejemplo \"Miss Hoover: No, actually, it was a little of both.\". El modelo que vamos a utilizar necesita una frase de entrada, tomemos \"Miss Hoover: No, actually, it was a littl\" y necesita una etiqueta, en este caso es \"iss Hoover: No, actually, it was a little\", así:\n",
    "\n",
    "\n",
    "|                     Entrada                 |  Etiqueta   |\n",
    "|---------------------------------------------|:---:|\n",
    "| \"Miss Hoover: No, actually, it was a littl\" | \"iss Hoover: No, actually, it was a little\" |\n",
    "| \"iss Hoover: No, actually, it was a little\" | \"ss Hoover: No, actually, it was a little \" |\n",
    "| \"ss Hoover: No, actually, it was a little \" | \"s Hoover: No, actually, it was a little o\" |\n",
    "| \"s Hoover: No, actually, it was a little o\" | \" Hoover: No, actually, it was a little of\" |\n",
    "\n",
    "Entonces, empezaremos por definir el tamañao de las entradas y las etiquetas."
   ]
  },
  {
   "cell_type": "code",
   "execution_count": 12,
   "metadata": {
    "colab": {},
    "colab_type": "code",
    "id": "AyN__8-4sD6H"
   },
   "outputs": [
    {
     "data": {
      "text/plain": [
       "9913834"
      ]
     },
     "execution_count": 12,
     "metadata": {},
     "output_type": "execute_result"
    }
   ],
   "source": [
    "seq_length = 100 #máxima longitud de la frase\n",
    "#examples_per_epoch = len(text)//(seq_length+1)\n",
    "examples_per_epoch = len(text)-seq_length #numero de datos por epoca\n",
    "examples_per_epoch"
   ]
  },
  {
   "cell_type": "markdown",
   "metadata": {},
   "source": [
    "Los datos necesitan ser transformados a tensores para que puedan ser utilizados en el modelo, los transformaremos con *tf.data.Dataset.from_tensor_slices*."
   ]
  },
  {
   "cell_type": "code",
   "execution_count": 13,
   "metadata": {},
   "outputs": [
    {
     "name": "stdout",
     "output_type": "stream",
     "text": [
      "Tensor: <TensorSliceDataset shapes: (), types: tf.int32>\n",
      "M\n",
      "i\n",
      "s\n",
      "s\n",
      " \n",
      "H\n",
      "o\n",
      "o\n",
      "v\n",
      "e\n",
      "r\n"
     ]
    }
   ],
   "source": [
    "char_dataset = tf.data.Dataset.from_tensor_slices(text_as_int) #se tranforma de numpy a tf\n",
    "print(\"Tensor:\", char_dataset)\n",
    "\n",
    "#ejemplo\n",
    "for i in char_dataset.take(11):\n",
    "  print(idxchar[i.numpy()])"
   ]
  },
  {
   "cell_type": "markdown",
   "metadata": {
    "colab_type": "text",
    "id": "ANMiIEYxFI9I"
   },
   "source": [
    "Ahora podemos construir las secuencias de entrenamiento, tengamos en cuenta que las estas se componen por seq_length caracteres mas un caracter que es el que se usara para crear la etiqueta."
   ]
  },
  {
   "cell_type": "code",
   "execution_count": 14,
   "metadata": {
    "colab": {},
    "colab_type": "code",
    "id": "_r2QdKtrsD6T"
   },
   "outputs": [
    {
     "name": "stdout",
     "output_type": "stream",
     "text": [
      "sequences: <BatchDataset shapes: (101,), types: tf.int32>\n",
      "array(['M', 'i', 's', 's', ' ', 'H', 'o', 'o', 'v', 'e', 'r', ':', ' ',\n",
      "       'N', 'o', ',', ' ', 'a', 'c', 't', 'u', 'a', 'l', 'l', 'y', ',',\n",
      "       ' ', 'i', 't', ' ', 'w', 'a', 's', ' ', 'a', ' ', 'l', 'i', 't',\n",
      "       't', 'l', 'e', ' ', 'o', 'f', ' ', 'b', 'o', 't', 'h', '.', ' ',\n",
      "       'S', 'o', 'm', 'e', 't', 'i', 'm', 'e', 's', ' ', 'w', 'h', 'e',\n",
      "       'n', ' ', 'a', ' ', 'd', 'i', 's', 'e', 'a', 's', 'e', ' ', 'i',\n",
      "       's', ' ', 'i', 'n', ' ', 'a', 'l', 'l', ' ', 't', 'h', 'e', ' ',\n",
      "       'm', 'a', 'g', 'a', 'z', 'i', 'n', 'e', 's', ' '], dtype='<U1')\n",
      "array(['a', 'n', 'd', ' ', 'a', 'l', 'l', ' ', 't', 'h', 'e', ' ', 'n',\n",
      "       'e', 'w', 's', ' ', 's', 'h', 'o', 'w', 's', ',', ' ', 'i', 't',\n",
      "       \"'\", 's', ' ', 'o', 'n', 'l', 'y', ' ', 'n', 'a', 't', 'u', 'r',\n",
      "       'a', 'l', ' ', 't', 'h', 'a', 't', ' ', 'y', 'o', 'u', ' ', 't',\n",
      "       'h', 'i', 'n', 'k', ' ', 'y', 'o', 'u', ' ', 'h', 'a', 'v', 'e',\n",
      "       ' ', 'i', 't', '.', '\\r', '\\n', 'L', 'i', 's', 'a', ' ', 'S', 'i',\n",
      "       'm', 'p', 's', 'o', 'n', ':', ' ', '(', 'N', 'E', 'A', 'R', ' ',\n",
      "       'T', 'E', 'A', 'R', 'S', ')', ' ', 'W', 'h', 'e'], dtype='<U1')\n"
     ]
    }
   ],
   "source": [
    "sequences = char_dataset.batch(seq_length+1, drop_remainder=True)\n",
    "print(\"sequences:\", sequences)\n",
    "\n",
    "for item in sequences.take(2):\n",
    "  print(repr(idxchar[item.numpy()])) #rep vuelve imprimible lo que es imprimible"
   ]
  },
  {
   "cell_type": "markdown",
   "metadata": {},
   "source": [
    "Juntemos los caracteres para que sean mas facil de visualizar."
   ]
  },
  {
   "cell_type": "code",
   "execution_count": 15,
   "metadata": {},
   "outputs": [
    {
     "name": "stdout",
     "output_type": "stream",
     "text": [
      "'Miss Hoover: No, actually, it was a little of both. Sometimes when a disease is in all the magazines '\n",
      "\"and all the news shows, it's only natural that you think you have it.\\r\\nLisa Simpson: (NEAR TEARS) Whe\"\n"
     ]
    }
   ],
   "source": [
    "for item in sequences.take(2):\n",
    "  print(repr(''.join(idxchar[item.numpy()])))"
   ]
  },
  {
   "cell_type": "markdown",
   "metadata": {},
   "source": [
    "Aquí dividiremos las secuencias en entradas y etiquetas con la misma longitud. El método *.map* nos permite aplicar una función simple a cada lote, similar a la función apply de R, se busca duplicar cada secuencia y cambiarla para formar el texto de entrada y de salida."
   ]
  },
  {
   "cell_type": "code",
   "execution_count": 16,
   "metadata": {
    "colab": {},
    "colab_type": "code",
    "id": "v1gqMHr1sD6i"
   },
   "outputs": [
    {
     "data": {
      "text/plain": [
       "<MapDataset shapes: ((100,), (100,)), types: (tf.int32, tf.int32)>"
      ]
     },
     "execution_count": 16,
     "metadata": {},
     "output_type": "execute_result"
    }
   ],
   "source": [
    "def split_input_target(chunk):\n",
    "    input_text = chunk[:-1]\n",
    "    target_text = chunk[1:]\n",
    "    return input_text, target_text\n",
    "\n",
    "dataset = sequences.map(split_input_target)\n",
    "dataset"
   ]
  },
  {
   "cell_type": "code",
   "execution_count": 17,
   "metadata": {
    "colab": {
     "base_uri": "https://localhost:8080/",
     "height": 459
    },
    "colab_type": "code",
    "id": "zQE-D13ZsD6s",
    "outputId": "b19f85e9-eca4-4246-bf9e-ef9bc25509e1"
   },
   "outputs": [
    {
     "name": "stdout",
     "output_type": "stream",
     "text": [
      "(<tf.Tensor: id=63, shape=(100,), dtype=int32, numpy=\n",
      "array([42, 69, 79, 79,  2, 37, 75, 75, 82, 65, 78, 27,  2, 43, 75, 13,  2,\n",
      "       61, 63, 80, 81, 61, 72, 72, 85, 13,  2, 69, 80,  2, 83, 61, 79,  2,\n",
      "       61,  2, 72, 69, 80, 80, 72, 65,  2, 75, 66,  2, 62, 75, 80, 68, 15,\n",
      "        2, 48, 75, 73, 65, 80, 69, 73, 65, 79,  2, 83, 68, 65, 74,  2, 61,\n",
      "        2, 64, 69, 79, 65, 61, 79, 65,  2, 69, 79,  2, 69, 74,  2, 61, 72,\n",
      "       72,  2, 80, 68, 65,  2, 73, 61, 67, 61, 86, 69, 74, 65, 79])>, <tf.Tensor: id=64, shape=(100,), dtype=int32, numpy=\n",
      "array([69, 79, 79,  2, 37, 75, 75, 82, 65, 78, 27,  2, 43, 75, 13,  2, 61,\n",
      "       63, 80, 81, 61, 72, 72, 85, 13,  2, 69, 80,  2, 83, 61, 79,  2, 61,\n",
      "        2, 72, 69, 80, 80, 72, 65,  2, 75, 66,  2, 62, 75, 80, 68, 15,  2,\n",
      "       48, 75, 73, 65, 80, 69, 73, 65, 79,  2, 83, 68, 65, 74,  2, 61,  2,\n",
      "       64, 69, 79, 65, 61, 79, 65,  2, 69, 79,  2, 69, 74,  2, 61, 72, 72,\n",
      "        2, 80, 68, 65,  2, 73, 61, 67, 61, 86, 69, 74, 65, 79,  2])>)\n"
     ]
    }
   ],
   "source": [
    "for item in dataset.take(1):\n",
    "  print(item)"
   ]
  },
  {
   "cell_type": "markdown",
   "metadata": {},
   "source": [
    "Juntemos los caracteres para que sean mas facil de visualizar."
   ]
  },
  {
   "cell_type": "code",
   "execution_count": 18,
   "metadata": {
    "colab": {
     "base_uri": "https://localhost:8080/",
     "height": 51
    },
    "colab_type": "code",
    "id": "jDk7Y-W1sD6w",
    "outputId": "7b10e2db-54f1-40ba-8ddb-42717f6c033c"
   },
   "outputs": [
    {
     "name": "stdout",
     "output_type": "stream",
     "text": [
      "Input data:  'Miss Hoover: No, actually, it was a little of both. Sometimes when a disease is in all the magazines'\n",
      "Target data: 'iss Hoover: No, actually, it was a little of both. Sometimes when a disease is in all the magazines '\n"
     ]
    }
   ],
   "source": [
    "for input_example, target_example in  dataset.take(1):\n",
    "  print ('Input data: ', repr(''.join(idxchar[input_example.numpy()])))\n",
    "  print ('Target data:', repr(''.join(idxchar[target_example.numpy()])))"
   ]
  },
  {
   "cell_type": "markdown",
   "metadata": {},
   "source": [
    "Veamos de forma muy corta y más detallada que lo que buscamos con una sola secuencia es:"
   ]
  },
  {
   "cell_type": "code",
   "execution_count": 19,
   "metadata": {
    "colab": {
     "base_uri": "https://localhost:8080/",
     "height": 272
    },
    "colab_type": "code",
    "id": "9E3PSzlCsD6z",
    "outputId": "17193b9d-6864-4314-c4b1-41ab834d7eaa"
   },
   "outputs": [
    {
     "name": "stdout",
     "output_type": "stream",
     "text": [
      "Step    0\n",
      "  input: 42 ('M')\n",
      "  expected output: 69 ('i')\n",
      "Step    1\n",
      "  input: 69 ('i')\n",
      "  expected output: 79 ('s')\n",
      "Step    2\n",
      "  input: 79 ('s')\n",
      "  expected output: 79 ('s')\n",
      "Step    3\n",
      "  input: 79 ('s')\n",
      "  expected output: 2 (' ')\n",
      "Step    4\n",
      "  input: 2 (' ')\n",
      "  expected output: 37 ('H')\n",
      "...\n"
     ]
    }
   ],
   "source": [
    "for i, (input_idx, target_idx) in enumerate(zip(input_example[:5], target_example[:5])):\n",
    "    print(\"Step {:4d}\".format(i))\n",
    "    print(\"  input: {} ({:s})\".format(input_idx, repr(idxchar[input_idx])))\n",
    "    print(\"  expected output: {} ({:s})\".format(target_idx, repr(idxchar[target_idx])))\n",
    "print(\"...\")"
   ]
  },
  {
   "cell_type": "markdown",
   "metadata": {
    "colab_type": "text",
    "id": "6M4SFfd0wEGh"
   },
   "source": [
    "### Lotes de entrenamiento"
   ]
  },
  {
   "cell_type": "markdown",
   "metadata": {},
   "source": [
    "Vamos a mezclar los datos y los vamos a guardar por lotes de tamaño 64, porque así los datos no tienen dependencia de orden (silimar a la autocorrelación en la regresión) y además hacemos una actualización para cada mini lote de datos. Además las mezclan se harán en un búfer para cada bache."
   ]
  },
  {
   "cell_type": "code",
   "execution_count": 20,
   "metadata": {
    "colab": {
     "base_uri": "https://localhost:8080/",
     "height": 34
    },
    "colab_type": "code",
    "id": "YZQ9kWk_sD66",
    "outputId": "28843e2a-10d1-4056-aaab-25b9177ec3c0"
   },
   "outputs": [
    {
     "data": {
      "text/plain": [
       "<BatchDataset shapes: ((64, 100), (64, 100)), types: (tf.int32, tf.int32)>"
      ]
     },
     "execution_count": 20,
     "metadata": {},
     "output_type": "execute_result"
    }
   ],
   "source": [
    "BATCH_SIZE = 64 #tamaño del lote\n",
    "BUFFER_SIZE = 500000 #bufer para mezclar el conjunto de datos\n",
    "\n",
    "dataset = dataset.shuffle(BUFFER_SIZE).batch(BATCH_SIZE, drop_remainder=True)\n",
    "dataset"
   ]
  },
  {
   "cell_type": "markdown",
   "metadata": {
    "colab_type": "text",
    "id": "AUCY6AexwEGu"
   },
   "source": [
    "## 4. Construcción del Modelo\n",
    "\n",
    "Para este modelo vamos a utilizar tres capas,\n",
    "   - Embegind: Es un espacio de dimensiones bajas en el que se puede traducir vectores de altas dimensiones. Tambien se considera un mapeo de objetos discretos. El embeding es obtenido internamente a partir concurrencias, proyecciones y otros.\n",
    "   - GRU: (Gated recurrent unit) es un tipo de RNN compuesta por unidades GRU.\n",
    "   - Dense: Todas las neuronas se conectan con todas las neuronas."
   ]
  },
  {
   "cell_type": "code",
   "execution_count": 26,
   "metadata": {
    "colab": {},
    "colab_type": "code",
    "id": "-Zw9jMyJsD6-"
   },
   "outputs": [],
   "source": [
    "#Longitud del vocabulario en caracteres, tamaño de entrada(one hot)\n",
    "vocab_size = len(vocab)\n",
    "\n",
    "#Dimensión de incrustación(embedding), cada caracter sera representado por un vector de 256.\n",
    "embedding_dim = 256\n",
    "\n",
    "#numero de unidades de RNN\n",
    "rnn_units = 1024"
   ]
  },
  {
   "cell_type": "markdown",
   "metadata": {},
   "source": [
    "Entonces, el dataset de entrenamiento tiene lotes de tamaño 64 * 100. Notemos que en la construccion del modelo, en la capa GRU (stateful=TRUE) mantiene la memoria de la secuencia inicial y de los caracteres que van siendo generados, pero solamente se pasa en el primer paso la secuencia de entrada completa. Luego solo se pasa el caracter predicho."
   ]
  },
  {
   "cell_type": "code",
   "execution_count": 27,
   "metadata": {
    "colab": {},
    "colab_type": "code",
    "id": "Ppp0rEoTsD7C"
   },
   "outputs": [],
   "source": [
    "def build_model(vocab_size, embedding_dim, rnn_units, batch_size):\n",
    "  model = tf.keras.Sequential([\n",
    "    tf.keras.layers.Embedding(vocab_size, embedding_dim,\n",
    "                              batch_input_shape=[batch_size, None]),\n",
    "    tf.keras.layers.GRU(rnn_units,\n",
    "                        return_sequences=True, #regresa toda las secuencias\n",
    "                        stateful=True, #cuando se pasa de un batch a otro, no se inicializan las capas intermedias\n",
    "                        recurrent_initializer='glorot_uniform'), #forma de inicialización del estado recurrente\n",
    "    tf.keras.layers.Dense(vocab_size)\n",
    "  ])\n",
    "  return model"
   ]
  },
  {
   "cell_type": "code",
   "execution_count": 28,
   "metadata": {
    "colab": {},
    "colab_type": "code",
    "id": "oqOzws2ZsD7F"
   },
   "outputs": [],
   "source": [
    "#modelo\n",
    "model = build_model(\n",
    "  vocab_size = len(vocab),\n",
    "  embedding_dim=embedding_dim,\n",
    "  rnn_units=rnn_units,\n",
    "  batch_size=BATCH_SIZE)"
   ]
  },
  {
   "cell_type": "markdown",
   "metadata": {
    "colab_type": "text",
    "id": "4ZqpLGoNwEID"
   },
   "source": [
    "## 5. Configuración de checkpoints\n",
    "\n",
    "Creamos un directorio *training_checkpoints* y utilizamos *tf.keras.callbacks.ModelCheckpoint* para guardar los puntos de control(los peses)durante el entrenamiento."
   ]
  },
  {
   "cell_type": "code",
   "execution_count": 30,
   "metadata": {
    "colab": {},
    "colab_type": "code",
    "id": "8ielCBdbsD7l"
   },
   "outputs": [],
   "source": [
    "#directorio donde los checkpoints(puntos de control) serán guardados\n",
    "checkpoint_dir = './training_checkpoints'\n",
    "#nombre de los puntos de control(checkpoint files)\n",
    "checkpoint_prefix = os.path.join(checkpoint_dir, \"ckpt_{epoch}\")\n",
    "\n",
    "checkpoint_callback=tf.keras.callbacks.ModelCheckpoint(\n",
    "    filepath=checkpoint_prefix, #direccion o ruta\n",
    "    save_weights_only=True) #se guardan solo los pesos"
   ]
  },
  {
   "cell_type": "markdown",
   "metadata": {
    "colab_type": "text",
    "id": "fyTjVqGiwEIK"
   },
   "source": [
    "## 6. Entrenamiento\n",
    "\n",
    "El lote de datos pasa por el modelo y devuelve un tensor de tamaño (64, 100, 65). Como el vocabulario tien 65 caracteres y cada sequencia tiene tamaño 100, el modelo predice el siguiente caracter para cada caracter en la entrada, luego el modelo asigna un valor numérico a cada elemento en el vocabulario. Cómo se elige? Se puede elegir el valor numerico máximo o se puede elegir atoriamente, que resulta ser mejor que tomar el maximo.\n",
    "\n",
    "Para elegir aleatoriamente o tomar la muestra, la distribución es calculada a partir de las predicciones(logits) que son generadas para cada caracter del vocabulario. Para cada lote de 64 secuencias la función de pérdida se obtiene con el promedio de 64∗100=6400 entropías cruzadas dispersas.\n",
    "\n",
    "Para compilar el modelo utilizamos la función de pérdida de entropía cruzada y el optimizardor Adam."
   ]
  },
  {
   "cell_type": "code",
   "execution_count": 39,
   "metadata": {
    "colab": {},
    "colab_type": "code",
    "id": "omQ6FoossD7i"
   },
   "outputs": [],
   "source": [
    "model.compile(optimizer='adam',\n",
    "              loss=loss)"
   ]
  },
  {
   "cell_type": "code",
   "execution_count": 40,
   "metadata": {
    "colab": {},
    "colab_type": "code",
    "id": "9sgvR-HdsD7r"
   },
   "outputs": [],
   "source": [
    "EPOCHS=10"
   ]
  },
  {
   "cell_type": "code",
   "execution_count": null,
   "metadata": {
    "colab": {
     "base_uri": "https://localhost:8080/",
     "height": 357
    },
    "colab_type": "code",
    "id": "5OHsxhRPsD7u",
    "outputId": "cbab9c97-b381-48cf-b7df-fea6ff8ccabd"
   },
   "outputs": [
    {
     "name": "stdout",
     "output_type": "stream",
     "text": [
      "Epoch 1/10\n",
      "     37/Unknown - 577s 16s/step - loss: 3.9497"
     ]
    }
   ],
   "source": [
    "#en history queda registrado la funcion de perdida y la precision para el modelo, tanto en entrenamiento como en test\n",
    "history = model.fit(dataset, epochs=EPOCHS, callbacks=[checkpoint_callback])"
   ]
  },
  {
   "cell_type": "markdown",
   "metadata": {
    "colab_type": "text",
    "id": "mVbs6nUxwEIV"
   },
   "source": [
    "## 7. Generación de texto\n",
    "\n",
    "### Restauración del último  checkpoint\n",
    "\n",
    "Debido a la forma en que se pasa el estado RNN de un paso a otro, el modelo solo acepta un tamaño de lote fijo una vez construido, asi que tomaremos el pre-entranamiento usando los pesos almacenados y un tamaño de lote de 1. Si se quisiera ejecutar el modelo con un tamaño de lote diferente, se necesitaría reconstruir el modelo y restaurar los pesos desde el punto de control."
   ]
  },
  {
   "cell_type": "code",
   "execution_count": 0,
   "metadata": {
    "colab": {},
    "colab_type": "code",
    "id": "CmfudwvGsD7y"
   },
   "outputs": [],
   "source": [
    "#tomamos un solo batch\n",
    "model = build_model(vocab_size, embedding_dim, rnn_units, batch_size=1)\n",
    "\n",
    "#utilizamos los checkpoint del pre-entrenamiento\n",
    "model.load_weights(tf.train.latest_checkpoint(checkpoint_dir))\n",
    "\n",
    "#reconstruimos el modelo\n",
    "model.build(tf.TensorShape([1, None]))"
   ]
  },
  {
   "cell_type": "code",
   "execution_count": 0,
   "metadata": {
    "colab": {
     "base_uri": "https://localhost:8080/",
     "height": 255
    },
    "colab_type": "code",
    "id": "hv0lxIXVsD73",
    "outputId": "59402809-9363-43a9-d8fc-09491ee6b165"
   },
   "outputs": [
    {
     "name": "stdout",
     "output_type": "stream",
     "text": [
      "Model: \"sequential_10\"\n",
      "_________________________________________________________________\n",
      "Layer (type)                 Output Shape              Param #   \n",
      "=================================================================\n",
      "embedding_10 (Embedding)     (1, None, 256)            35328     \n",
      "_________________________________________________________________\n",
      "gru_10 (GRU)                 (1, None, 1024)           3938304   \n",
      "_________________________________________________________________\n",
      "dense_10 (Dense)             (1, None, 138)            141450    \n",
      "=================================================================\n",
      "Total params: 4,115,082\n",
      "Trainable params: 4,115,082\n",
      "Non-trainable params: 0\n",
      "_________________________________________________________________\n"
     ]
    }
   ],
   "source": [
    "model.summary()"
   ]
  },
  {
   "cell_type": "markdown",
   "metadata": {},
   "source": [
    "### Predicción\n",
    "\n",
    "¿Cómo se genera el texto?:\n",
    "\n",
    "* Se introduce una cadena de inicio, se inicializa el estado de la  RNN y se configura el número de caracteres a generar.\n",
    "\n",
    "* Se obtiene la distribución de predicción del siguiente carácter utilizando la cadena de inicio y el estado de la  RNN y se calcula el índice del carácter predicho. \n",
    "\n",
    "* Se usa este caracter predicho como la próxima entrada al modelo.\n",
    "\n",
    "* El estado RNN devuelto retroalimenta al modelo para que ahora tenga más contexto, en lugar de una sola palabra. Después de predecir la siguiente palabra, los estados RNN modificados se retroalimentan nuevamente en el modelo, que es cómo aprende a medida que obtiene más contexto de las palabras predichas previamente.\n",
    "\n",
    "Vamos a hacer la función para generar texto basada en los pesos obtenidos en el modelo pre-entrenado, aquí utilizamos un nuevo concepto *la temperatura* que indica que tan sorprendente o aleatorio puede ser un resultado, toma valores entre 0 y 1, donde un valor cercano a 0 indica que es mas predecible y un valor cercano a 1 indica que el resultado es más aleatorio."
   ]
  },
  {
   "cell_type": "code",
   "execution_count": 1,
   "metadata": {
    "colab": {},
    "colab_type": "code",
    "id": "mjLYoVm0sD78"
   },
   "outputs": [],
   "source": [
    "#funcion para generar texto usando el modelo pre-entrenado\n",
    "def generate_text(model, start_string, num_generate):\n",
    "\n",
    "  #convertimos el texto inicial en numeros (vectorizacion)\n",
    "  input_eval = [charxid[s] for s in start_string] #vector columna\n",
    "  input_eval = tf.expand_dims(input_eval, 0) #vector fila, agrega una diension\n",
    "\n",
    "  #guardamos el texto predicho\n",
    "  text_generated = []\n",
    "\n",
    "  temperature = 1.0\n",
    "\n",
    "  #tamaño del bache== 1\n",
    "  model.reset_states() #reinia o borra el estado recurrente de la red. Dejando valores aleatorios o ceros.\n",
    "  for i in range(num_generate):\n",
    "      predictions = model(input_eval)\n",
    "      #removemos la dimensión del batch, quita una dimensión\n",
    "      predictions = tf.squeeze(predictions, 0)\n",
    "\n",
    "      #usamos la distribución categorica para predecir la palabra que retorna el modelo\n",
    "      predictions = predictions / temperature\n",
    "      predicted_id = tf.random.categorical(predictions, num_samples=1)[-1,0].numpy()\n",
    "\n",
    "      #utilizamos la palabra predicha y el estado oculto anterior como entrada\n",
    "      input_eval = tf.expand_dims([predicted_id], 0) #devuelve un tensor con una dimensión adicional en el eje de índice\n",
    "\n",
    "      text_generated.append(idxchar[predicted_id])\n",
    "\n",
    "  return (start_string + ''.join(text_generated))"
   ]
  },
  {
   "cell_type": "markdown",
   "metadata": {},
   "source": [
    "Notemos que el texto generado es capaz de utilizar mayusculas, minusculas y signos de puntuación para construir frases con el vocabulario de los Simpons."
   ]
  },
  {
   "cell_type": "code",
   "execution_count": 2,
   "metadata": {
    "colab": {
     "base_uri": "https://localhost:8080/",
     "height": 255
    },
    "colab_type": "code",
    "id": "w1b4ggiAsD8A",
    "outputId": "953908c6-5ac1-4ce3-e7c9-dafdce8a6778"
   },
   "outputs": [
    {
     "ename": "SyntaxError",
     "evalue": "positional argument follows keyword argument (<ipython-input-2-4ff4f627fa6b>, line 1)",
     "output_type": "error",
     "traceback": [
      "\u001b[1;36m  File \u001b[1;32m\"<ipython-input-2-4ff4f627fa6b>\"\u001b[1;36m, line \u001b[1;32m1\u001b[0m\n\u001b[1;33m    print(generate_text(model, start_string=u\"Homer Simpson: \", 500))\u001b[0m\n\u001b[1;37m                                                               ^\u001b[0m\n\u001b[1;31mSyntaxError\u001b[0m\u001b[1;31m:\u001b[0m positional argument follows keyword argument\n"
     ]
    }
   ],
   "source": [
    "print(generate_text(model, start_string=u\"Homer Simpson: \", 500))"
   ]
  },
  {
   "cell_type": "markdown",
   "metadata": {},
   "source": [
    "## Avanzado: Entrenamiento personalizado\n",
    "\n",
    "Para mejorar el entrenamiento anterior y obtener más control usaremos `tf.GradientTape` bajo los siguientes pasos:\n",
    "\n",
    "* Utilizamos el mismo modelo y el optimizador adam.\n",
    "\n",
    "* Inicializamos el estado RNN llamando al método `tf.keras.Model.reset_states`.\n",
    "\n",
    "* Repetimos el conjunto de datos (lote por lote) y calculamos las predicciones asociadas con cada una.\n",
    "\n",
    "* Abrimos un `tf.GradientTape`, y calculamos las predicciones y pérdidas en ese contexto.\n",
    "\n",
    "* Calculamos los gradientes de la pérdida con respecto a las variables del modelo utilizando el método `tf.GradientTape.grads`.\n",
    "\n",
    "* Finalmente, damos un paso hacia abajo utilizando el método `tf.train.Optimizer.apply_gradients` del optimizador."
   ]
  },
  {
   "cell_type": "code",
   "execution_count": 0,
   "metadata": {
    "colab": {},
    "colab_type": "code",
    "id": "-TP9mJ_3sD8E"
   },
   "outputs": [],
   "source": [
    "#modelo\n",
    "model = build_model(\n",
    "  vocab_size = len(vocab),\n",
    "  embedding_dim=embedding_dim,\n",
    "  rnn_units=rnn_units,\n",
    "  batch_size=BATCH_SIZE)"
   ]
  },
  {
   "cell_type": "code",
   "execution_count": 0,
   "metadata": {
    "colab": {},
    "colab_type": "code",
    "id": "78WenvicsD8H"
   },
   "outputs": [],
   "source": [
    "#optimizador\n",
    "optimizer = tf.keras.optimizers.Adam()"
   ]
  },
  {
   "cell_type": "code",
   "execution_count": 0,
   "metadata": {
    "colab": {},
    "colab_type": "code",
    "id": "_QI19bNEsD8O"
   },
   "outputs": [],
   "source": [
    "@tf.function\n",
    "def train_step(inp, target): \n",
    "  with tf.GradientTape() as tape:\n",
    "    predictions = model(inp)\n",
    "    loss = tf.reduce_mean(\n",
    "        tf.keras.losses.sparse_categorical_crossentropy(\n",
    "            target, predictions, from_logits=True))\n",
    "  grads = tape.gradient(loss, model.trainable_variables)\n",
    "  optimizer.apply_gradients(zip(grads, model.trainable_variables))\n",
    "\n",
    "  return loss"
   ]
  },
  {
   "cell_type": "markdown",
   "metadata": {},
   "source": [
    "Con lo anterior hacemos el pre-entrenamiento."
   ]
  },
  {
   "cell_type": "code",
   "execution_count": 0,
   "metadata": {
    "colab": {
     "base_uri": "https://localhost:8080/",
     "height": 391
    },
    "colab_type": "code",
    "id": "psNF_W9ssD8T",
    "outputId": "196bc79e-4770-4c50-a1f9-06d0dbf6ffa7"
   },
   "outputs": [
    {
     "name": "stdout",
     "output_type": "stream",
     "text": [
      "Epoch 1 Batch 0 Loss 4.946296215057373\n",
      "Epoch 1 Batch 100 Loss 2.151228427886963\n",
      "Epoch 1 Batch 200 Loss 1.8477953672409058\n",
      "Epoch 1 Batch 300 Loss 1.7839032411575317\n",
      "Epoch 1 Batch 400 Loss 1.597890019416809\n",
      "Epoch 1 Batch 500 Loss 1.5137667655944824\n",
      "Epoch 1 Batch 600 Loss 1.4687689542770386\n",
      "Epoch 1 Batch 700 Loss 1.277199387550354\n",
      "Epoch 1 Batch 800 Loss 1.3084739446640015\n",
      "Epoch 1 Batch 900 Loss 1.2917898893356323\n",
      "Epoch 1 Batch 1000 Loss 1.2665338516235352\n",
      "Epoch 1 Batch 1100 Loss 1.3002221584320068\n",
      "Epoch 1 Batch 1200 Loss 1.232616662979126\n",
      "Epoch 1 Batch 1300 Loss 1.226747751235962\n",
      "Epoch 1 Batch 1400 Loss 1.2293215990066528\n",
      "Epoch 1 Batch 1500 Loss 1.1870050430297852\n",
      "Epoch 1 Batch 1600 Loss 1.1628918647766113\n",
      "Epoch 1 Batch 1700 Loss 1.1182847023010254\n",
      "Epoch 1 Batch 1800 Loss 1.175745964050293\n",
      "Epoch 1 Loss 1.1060\n",
      "Time taken for 1 epoch 110.9911048412323 sec\n",
      "\n"
     ]
    }
   ],
   "source": [
    "EPOCHS = 10\n",
    "\n",
    "for epoch in range(EPOCHS):\n",
    "  start = time.time()\n",
    "\n",
    "  #inicializamos el estado oculto al comienzo de cada época\n",
    "  hidden = model.reset_states()\n",
    "\n",
    "  for (batch_n, (inp, target)) in enumerate(dataset):\n",
    "    loss = train_step(inp, target) #usamos la funcion train_step que acabamos de creamr\n",
    "\n",
    "    if batch_n % 100 == 0:\n",
    "      template = 'Epoch {} Batch {} Loss {}'\n",
    "      print(template.format(epoch+1, batch_n, loss))\n",
    "\n",
    "  #guardamos los 'checkpoint' del modelo cada 5 epocas\n",
    "  if (epoch + 1) % 5 == 0:\n",
    "    model.save_weights(checkpoint_prefix.format(epoch=epoch))\n",
    "\n",
    "  print ('Epoch {} Loss {:.4f}'.format(epoch+1, loss))\n",
    "  print ('Time taken for 1 epoch {} sec\\n'.format(time.time() - start))\n",
    "\n",
    "#imprimimos la perida y los pesos guardados\n",
    "model.save_weights(checkpoint_prefix.format(epoch=epoch))"
   ]
  },
  {
   "cell_type": "markdown",
   "metadata": {},
   "source": [
    "Ahora, vamos a utilizar el modelo pre-entrenado, pero vamos a utilizar un solo bache."
   ]
  },
  {
   "cell_type": "code",
   "execution_count": 0,
   "metadata": {
    "colab": {
     "base_uri": "https://localhost:8080/",
     "height": 34
    },
    "colab_type": "code",
    "id": "e0PFxPwIsD8W",
    "outputId": "fad29b7d-9d2a-439a-fdd0-f2ba568d0faf"
   },
   "outputs": [
    {
     "data": {
      "text/plain": [
       "str"
      ]
     },
     "execution_count": 48,
     "metadata": {
      "tags": []
     },
     "output_type": "execute_result"
    }
   ],
   "source": [
    "#tomamos un solo batch\n",
    "model = build_model(vocab_size, embedding_dim, rnn_units, batch_size=1)\n",
    "\n",
    "#utilizamos los checkpoint del pre-entrenamiento\n",
    "model.load_weights(tf.train.latest_checkpoint(checkpoint_dir))\n",
    "\n",
    "#reconstruimos el modelo\n",
    "model.build(tf.TensorShape([1, None]))"
   ]
  },
  {
   "cell_type": "markdown",
   "metadata": {},
   "source": [
    "Y utilizamos nuevamente la funcion generadora de texto."
   ]
  },
  {
   "cell_type": "code",
   "execution_count": null,
   "metadata": {},
   "outputs": [],
   "source": [
    "#funcion para generar texto usando el modelo pre-entrenado\n",
    "def generate_text(model, start_string, num_generate):\n",
    "\n",
    "  #convertimos el texto inicial en numeros (vectorizacion)\n",
    "  input_eval = [charxid[s] for s in start_string] #vector columna\n",
    "  input_eval = tf.expand_dims(input_eval, 0) #vector fila, agrega una diension\n",
    "\n",
    "  #guardamos el texto predicho\n",
    "  text_generated = []\n",
    "\n",
    "  temperature = 1.0\n",
    "\n",
    "  #tamaño del bache== 1\n",
    "  model.reset_states() #reinia o borra el estado recurrente de la red. Dejando valores aleatorios o ceros.\n",
    "  for i in range(num_generate):\n",
    "      predictions = model(input_eval)\n",
    "      #removemos la dimensión del batch, quita una dimensión\n",
    "      predictions = tf.squeeze(predictions, 0)\n",
    "\n",
    "      #usamos la distribución categorica para predecir la palabra que retorna el modelo\n",
    "      predictions = predictions / temperature\n",
    "      predicted_id = tf.random.categorical(predictions, num_samples=1)[-1,0].numpy()\n",
    "\n",
    "      #utilizamos la palabra predicha y el estado oculto anterior como entrada\n",
    "      input_eval = tf.expand_dims([predicted_id], 0) #devuelve un tensor con una dimensión adicional en el eje de índice\n",
    "\n",
    "      text_generated.append(idxchar[predicted_id])\n",
    "\n",
    "  return (start_string + ''.join(text_generated))"
   ]
  },
  {
   "cell_type": "markdown",
   "metadata": {},
   "source": [
    "Podemos ver que este código nos da resultados mas coherentes."
   ]
  },
  {
   "cell_type": "code",
   "execution_count": null,
   "metadata": {},
   "outputs": [],
   "source": [
    "print(generate_text(model, u\"Hello, how are you? \", 100))"
   ]
  },
  {
   "cell_type": "markdown",
   "metadata": {
    "colab": {},
    "colab_type": "code",
    "id": "icqrGCKKAMmZ"
   },
   "source": [
    "## 12. Referencias\n",
    "\n",
    "- Aprendizaje profundo, [Repositorio Ciencia-de-datos](https://github.com/AprendizajeProfundo/Ciencia-de-Datos)\n",
    "- Tensorflow, [Generación de texto con una red neuronal recurrente (RNN)](https://www.tensorflow.org/tutorials/text/text_generation)\n",
    "- Google, [Machine learning crash course](https://developers.google.com/machine-learning/crash-course/embeddings/video-lecture)"
   ]
  }
 ],
 "metadata": {
  "colab": {
   "collapsed_sections": [],
   "name": "Project.ipynb",
   "provenance": []
  },
  "kernelspec": {
   "display_name": "Python 3",
   "language": "python",
   "name": "python3"
  },
  "language_info": {
   "codemirror_mode": {
    "name": "ipython",
    "version": 3
   },
   "file_extension": ".py",
   "mimetype": "text/x-python",
   "name": "python",
   "nbconvert_exporter": "python",
   "pygments_lexer": "ipython3",
   "version": "3.7.4"
  }
 },
 "nbformat": 4,
 "nbformat_minor": 1
}
