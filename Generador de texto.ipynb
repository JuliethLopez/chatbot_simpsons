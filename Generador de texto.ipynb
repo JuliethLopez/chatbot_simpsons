{
  "nbformat": 4,
  "nbformat_minor": 0,
  "metadata": {
    "colab": {
      "name": "Project.ipynb",
      "provenance": [],
      "collapsed_sections": []
    },
    "kernelspec": {
      "display_name": "Python 3",
      "language": "python",
      "name": "python3"
    },
    "language_info": {
      "codemirror_mode": {
        "name": "ipython",
        "version": 3
      },
      "file_extension": ".py",
      "mimetype": "text/x-python",
      "name": "python",
      "nbconvert_exporter": "python",
      "pygments_lexer": "ipython3",
      "version": "3.7.4"
    },
    "accelerator": "GPU"
  },
  "cells": [
    {
      "cell_type": "markdown",
      "metadata": {
        "id": "8F4lOCtNUtKL",
        "colab_type": "text"
      },
      "source": [
        "<a href=\"https://colab.research.google.com/github/JuliethLopez/chatbot_simpsons/blob/master/Generador%20de%20texto.ipynb\" target=\"_parent\"><img src=\"https://colab.research.google.com/assets/colab-badge.svg\" alt=\"Open In Colab\"/></a>"
      ]
    },
    {
      "cell_type": "markdown",
      "metadata": {
        "colab_type": "text",
        "id": "_xHJ41-ewD-g"
      },
      "source": [
        "# Generador de texto de los Simpsons\n",
        "\n",
        "Con éste código se pretende generar texto con un red neuronal recurrente, particularmente una red GRU. El modelo debe aprender a generar caracteres para formar palabras con sentido y con ello una oración que corresponda a una palabra o una frase.\n",
        "\n",
        "Para comenzar cargaremos las librerias y la base de datos:"
      ]
    },
    {
      "cell_type": "code",
      "metadata": {
        "colab_type": "code",
        "id": "YOZBjZVYsD4_",
        "colab": {
          "base_uri": "https://localhost:8080/",
          "height": 35
        },
        "outputId": "5e0e8a3f-efce-4e56-c87e-a41b556261cd"
      },
      "source": [
        "#librerias\n",
        "import os #para leer y escribir archivos\n",
        "import time\n",
        "import pickle\n",
        "import numpy as np #para manejo de bases de datos\n",
        "import tensorflow as tf #para el uso de keras y el manejo de tensores.\n",
        "from shutil import copyfile\n",
        "from tensorflow.keras.utils import to_categorical, plot_model\n",
        "\n",
        "print(\"Versión de Tensorflow: \", tf.__version__)"
      ],
      "execution_count": 1,
      "outputs": [
        {
          "output_type": "stream",
          "text": [
            "Versión de Tensorflow:  2.2.0\n"
          ],
          "name": "stdout"
        }
      ]
    },
    {
      "cell_type": "markdown",
      "metadata": {
        "colab_type": "text",
        "id": "7p1zzi6QwEAz"
      },
      "source": [
        "La base de datos fue tomada del conjunto de bases de datos __The Simpsons by the Data__ en [data.world](https://data.world/data-society/the-simpsons-by-the-data) (*para usar esta página es necesario registrarse*). Éste contiene distintas bases de datos que con los personajes, las locaciones, los detalles de los episodios, y los dialogos de aproximadamente 600 episodios de los simpsons. Utilizamos la base de datos *simpsons_script_lines.csv* que inicialmente tenia 158271 lineas de conversación, por ejemplo \"Lisa Simpson: Challenge accepted!\" y la filtramos por la variable raw_text=TRUE usando SQL desde la misma página [data.world](https://data.world/data-society/the-simpsons-by-the-data), obteniendo 132113 lineas.\n",
        "\n",
        "    SELECT raw_text\n",
        "    FROM simpsons_script_lines\n",
        "    WHERE speaking_line = 'Guess what. I also play Frankenstein!' OR speaking_line = TRUE\n",
        "    \n",
        "Descargamos el archivo en formato XLSX y lo transformamos a formato TXT, no descargamos los datos en formato CSV porque aparecián caracteres no imprimibles (¦ â € Ã ©)."
      ]
    },
    {
      "cell_type": "code",
      "metadata": {
        "id": "pBk_AbWBZaZC",
        "colab_type": "code",
        "colab": {
          "base_uri": "https://localhost:8080/",
          "height": 129
        },
        "outputId": "a09243e9-5d5c-46bc-9995-f88909f23bf4"
      },
      "source": [
        "#drive\n",
        "from google.colab import drive\n",
        "drive.mount('/content/drive')"
      ],
      "execution_count": 2,
      "outputs": [
        {
          "output_type": "stream",
          "text": [
            "Go to this URL in a browser: https://accounts.google.com/o/oauth2/auth?client_id=947318989803-6bn6qk8qdgf4n4g3pfee6491hc0brc4i.apps.googleusercontent.com&redirect_uri=urn%3aietf%3awg%3aoauth%3a2.0%3aoob&response_type=code&scope=email%20https%3a%2f%2fwww.googleapis.com%2fauth%2fdocs.test%20https%3a%2f%2fwww.googleapis.com%2fauth%2fdrive%20https%3a%2f%2fwww.googleapis.com%2fauth%2fdrive.photos.readonly%20https%3a%2f%2fwww.googleapis.com%2fauth%2fpeopleapi.readonly\n",
            "\n",
            "Enter your authorization code:\n",
            "··········\n",
            "Mounted at /content/drive\n"
          ],
          "name": "stdout"
        }
      ]
    },
    {
      "cell_type": "code",
      "metadata": {
        "colab_type": "code",
        "id": "cYPvH81qsD5H",
        "colab": {}
      },
      "source": [
        "#datos\n",
        "#text = open('simpsons_script_lines.txt', 'rb').read().decode(encoding='utf-8') #juan\n",
        "text = open('/content/drive/My Drive/Simpsons Chat bot/Datos/simpsons_script_lines.txt', 'rb').read().decode(encoding='utf-8') #julieth"
      ],
      "execution_count": 3,
      "outputs": []
    },
    {
      "cell_type": "code",
      "metadata": {
        "colab_type": "code",
        "id": "qH9fwX7esD5R",
        "colab": {
          "base_uri": "https://localhost:8080/",
          "height": 92
        },
        "outputId": "79211e5b-031f-4b4d-c215-96f1c5f3ff39"
      },
      "source": [
        "#primeros 200 caracteres\n",
        "print(text[:250])"
      ],
      "execution_count": 4,
      "outputs": [
        {
          "output_type": "stream",
          "text": [
            "Miss Hoover: No, actually, it was a little of both. Sometimes when a disease is in all the magazines and all the news shows, it's only natural that you think you have it.\r\n",
            "Lisa Simpson: (NEAR TEARS) Where's Mr. Bergstrom?\r\n",
            "Miss Hoover: I don't know. \n"
          ],
          "name": "stdout"
        }
      ]
    },
    {
      "cell_type": "markdown",
      "metadata": {
        "colab_type": "text",
        "id": "hlOssfc1wEDZ"
      },
      "source": [
        "Contamos el numero de caracteres porque el modelo se entrenara desde los caracteres, no desde las palabras como veremos más adelante."
      ]
    },
    {
      "cell_type": "code",
      "metadata": {
        "colab_type": "code",
        "id": "2OTH4ccgsD5M",
        "colab": {
          "base_uri": "https://localhost:8080/",
          "height": 35
        },
        "outputId": "8262c45e-5475-44cf-870c-b07da4568b50"
      },
      "source": [
        "print ('Length of text: {} characters'.format(len(text)))"
      ],
      "execution_count": 5,
      "outputs": [
        {
          "output_type": "stream",
          "text": [
            "Length of text: 9913945 characters\n"
          ],
          "name": "stdout"
        }
      ]
    },
    {
      "cell_type": "markdown",
      "metadata": {
        "colab_type": "text",
        "id": "CelGue5MwEDn"
      },
      "source": [
        "## 1. Vocabulario o alfabeto\n",
        "\n",
        "Si bien los datos están en inglés, hay algunas palabras en otros idiomas debido a la complejitud de los personajes de la serie, por eso hemos decidido dejar los carácteres que pertenecen a esos otro idiomas."
      ]
    },
    {
      "cell_type": "code",
      "metadata": {
        "colab_type": "code",
        "id": "rym9-0-gsD5X",
        "colab": {
          "base_uri": "https://localhost:8080/",
          "height": 35
        },
        "outputId": "e417dab4-343f-409f-f8bf-4d29d4f9c29b"
      },
      "source": [
        "vocab = sorted(set(text)) #set extrae caracteres distintos, sorted los ordena\n",
        "print ('{} carácteres únicos'.format(len(vocab)))"
      ],
      "execution_count": 6,
      "outputs": [
        {
          "output_type": "stream",
          "text": [
            "138 carácteres únicos\n"
          ],
          "name": "stdout"
        }
      ]
    },
    {
      "cell_type": "markdown",
      "metadata": {
        "colab_type": "text",
        "id": "MMcoUrcmzKWk"
      },
      "source": [
        "Dentro de los caracteres tenemos \\n que se utiliza como indicador para el salto de linea y \\r que se utiliza para regresar del final de la linea al inicio de la linea. Pero por otro lado tenemos un caracter no deseable \\xad que vamos a eliminar."
      ]
    },
    {
      "cell_type": "code",
      "metadata": {
        "colab_type": "code",
        "id": "WK28ZFwvzKkA",
        "colab": {}
      },
      "source": [
        "text = text.replace('\\N{SOFT HYPHEN}', '') #elimina \\xad y eliminaria mas caracteres suaves si hubieran."
      ],
      "execution_count": 7,
      "outputs": []
    },
    {
      "cell_type": "code",
      "metadata": {
        "colab_type": "code",
        "id": "eDg3nHNl0_AJ",
        "colab": {
          "base_uri": "https://localhost:8080/",
          "height": 35
        },
        "outputId": "0bcd3e39-4a2c-4baa-fc65-0b391b7177b0"
      },
      "source": [
        "vocab = sorted(set(text)) #set extrae caracteres distintos, sorted los ordena\n",
        "print ('{} carácteres únicos'.format(len(vocab)))"
      ],
      "execution_count": 8,
      "outputs": [
        {
          "output_type": "stream",
          "text": [
            "137 carácteres únicos\n"
          ],
          "name": "stdout"
        }
      ]
    },
    {
      "cell_type": "markdown",
      "metadata": {
        "colab_type": "text",
        "id": "Tr-IbSi_y3vq"
      },
      "source": [
        "## 2. Diccionarios de ida y vuelta\n",
        "Ahora que tenemos el vocabulario de caracteres podemos crear los diccionarios de ida y vuelta que lo que harán es darle un id a cada caracter ya que para la maquina es más facil trabajar con números, de modo que cuando una frase entra, se traduce a numeros cada uno de los caracteres y se predicen los id, que luego seran transformados a carácteres para poder leerlos."
      ]
    },
    {
      "cell_type": "code",
      "metadata": {
        "colab_type": "code",
        "id": "lXMNM2u8sD5g",
        "colab": {}
      },
      "source": [
        "charxid = {u:i for i, u in enumerate(vocab)} #le damos un indice a cada caractér\n",
        "text_as_int = np.array([charxid[i] for i in text]) #caracteres a números"
      ],
      "execution_count": 9,
      "outputs": []
    },
    {
      "cell_type": "markdown",
      "metadata": {
        "id": "HmBM8eHDrT5R",
        "colab_type": "text"
      },
      "source": [
        "Las siuientes dos celdas de código se utilizaron para guardar los diccionarios y subir los datos a drive para poder llamarlos desde el cuaderno *pre-chatbot*."
      ]
    },
    {
      "cell_type": "code",
      "metadata": {
        "id": "qUbE4Qqhdp3T",
        "colab_type": "code",
        "colab": {}
      },
      "source": [
        "#guarda idxchar como .pickle\n",
        "#with open('charxid.pickle', 'wb') as f:\n",
        "#    pickle.dump(charxid, f)"
      ],
      "execution_count": null,
      "outputs": []
    },
    {
      "cell_type": "code",
      "metadata": {
        "id": "WV6C5PnrfkBe",
        "colab_type": "code",
        "colab": {}
      },
      "source": [
        "#guarda freqbnew.pickle en drive\n",
        "#copyfile(\"charxid.pickle\", \"/content/drive/My Drive/Simpsons Chat bot/Modelos guardos/charxid.pickle\")"
      ],
      "execution_count": null,
      "outputs": []
    },
    {
      "cell_type": "code",
      "metadata": {
        "colab_type": "code",
        "id": "1TUMzDuJ6fP1",
        "colab": {
          "base_uri": "https://localhost:8080/",
          "height": 202
        },
        "outputId": "4f922db4-b700-467a-e4da-1102fa6a84fb"
      },
      "source": [
        "#id de los primeros 10 caracteres\n",
        "for char,_ in zip(charxid, range(10)):\n",
        "    print('{:4s}: {:3d},'.format(repr(char), charxid[char])) #s: str, d: int"
      ],
      "execution_count": 10,
      "outputs": [
        {
          "output_type": "stream",
          "text": [
            "'\\n':   0,\n",
            "'\\r':   1,\n",
            "' ' :   2,\n",
            "'!' :   3,\n",
            "'#' :   4,\n",
            "'$' :   5,\n",
            "'%' :   6,\n",
            "'&' :   7,\n",
            "\"'\" :   8,\n",
            "'(' :   9,\n"
          ],
          "name": "stdout"
        }
      ]
    },
    {
      "cell_type": "code",
      "metadata": {
        "id": "7QqdNdncUtM5",
        "colab_type": "code",
        "colab": {
          "base_uri": "https://localhost:8080/",
          "height": 55
        },
        "outputId": "c78bde19-f4c6-4eef-e4e2-ff9f1ae40ebe"
      },
      "source": [
        "#primeros 15 carácteres del texto a enteros\n",
        "print ('{} ---- carácteres a enteros ---- > {}'.format(repr(text[:15]), text_as_int[:15]))"
      ],
      "execution_count": 11,
      "outputs": [
        {
          "output_type": "stream",
          "text": [
            "'Miss Hoover: No' ---- carácteres a enteros ---- > [42 69 79 79  2 37 75 75 82 65 78 27  2 43 75]\n"
          ],
          "name": "stdout"
        }
      ]
    },
    {
      "cell_type": "code",
      "metadata": {
        "colab_type": "code",
        "id": "ttvBve3jsD50",
        "colab": {
          "base_uri": "https://localhost:8080/",
          "height": 203
        },
        "outputId": "e0825bef-63ca-44d0-ae68-368ec33ab9fd"
      },
      "source": [
        "idxchar = np.array(vocab) #números a caracteres\n",
        "print(\"\\nidxchar:\", idxchar)"
      ],
      "execution_count": 12,
      "outputs": [
        {
          "output_type": "stream",
          "text": [
            "\n",
            "idxchar: ['\\n' '\\r' ' ' '!' '#' '$' '%' '&' \"'\" '(' ')' '*' '+' ',' '-' '.' '/' '0'\n",
            " '1' '2' '3' '4' '5' '6' '7' '8' '9' ':' ';' '?' 'A' 'B' 'C' 'D' 'E' 'F'\n",
            " 'G' 'H' 'I' 'J' 'K' 'L' 'M' 'N' 'O' 'P' 'Q' 'R' 'S' 'T' 'U' 'V' 'W' 'X'\n",
            " 'Y' 'Z' '[' '\\\\' ']' '_' '`' 'a' 'b' 'c' 'd' 'e' 'f' 'g' 'h' 'i' 'j' 'k'\n",
            " 'l' 'm' 'n' 'o' 'p' 'q' 'r' 's' 't' 'u' 'v' 'w' 'x' 'y' 'z' '¡' '¿' 'À'\n",
            " 'Ä' 'È' 'É' 'Ñ' 'Ö' 'Ù' 'Ü' 'à' 'á' 'â' 'ã' 'ä' 'å' 'æ' 'ç' 'è' 'é' 'ê'\n",
            " 'ë' 'ì' 'í' 'ï' 'ñ' 'ò' 'ó' 'ô' 'õ' 'ö' 'ø' 'ù' 'ú' 'û' 'ü' 'ā' 'Ĉ' 'ē'\n",
            " 'ě' 'Ĝ' 'ī' 'Ĭ' 'ł' 'ń' 'ŭ' 'ż' 'ǎ' 'ǐ' 'ǒ']\n"
          ],
          "name": "stdout"
        }
      ]
    },
    {
      "cell_type": "markdown",
      "metadata": {
        "id": "cHr4ZF6SrHfm",
        "colab_type": "text"
      },
      "source": [
        "Las siuientes dos celdas de código se utilizaron para guardar los diccionarios y subir los datos a drive para poder llamarlos desde el cuaderno *pre-chatbot*."
      ]
    },
    {
      "cell_type": "code",
      "metadata": {
        "id": "PMOI7SGId9k7",
        "colab_type": "code",
        "colab": {}
      },
      "source": [
        "#guarda idxchar como .pickle\n",
        "#with open('idxchar.pickle', 'wb') as f:\n",
        "#    pickle.dump(idxchar, f)"
      ],
      "execution_count": null,
      "outputs": []
    },
    {
      "cell_type": "code",
      "metadata": {
        "id": "Od0YtcO5eTgf",
        "colab_type": "code",
        "colab": {}
      },
      "source": [
        "#guarda freqbnew.pickle en drive\n",
        "#copyfile(\"idxchar.pickle\", \"/content/drive/My Drive/Simpsons Chat bot/Modelos guardos/idxchar.pickle\")"
      ],
      "execution_count": null,
      "outputs": []
    },
    {
      "cell_type": "markdown",
      "metadata": {
        "colab_type": "text",
        "id": "USt8NcpwwEE3"
      },
      "source": [
        "## 3. Datos de entrenamiento y etiquetas\n",
        "\n",
        "Los datos que tenemos aún no están listos para usarse en el modelo, pues no están etiquetados. Para entender como etiquetar los datos usemos esta frase como ejemplo \"Miss Hoover: No, actually, it was a little of both.\". El modelo que vamos a utilizar necesita una frase de entrada, tomemos \"Miss Hoover: No, actually, it was a littl\" y necesita una etiqueta, en este caso es \"iss Hoover: No, actually, it was a little\", así:\n",
        "\n",
        "\n",
        "|                     Entrada                 |  Etiqueta   |\n",
        "|---------------------------------------------|:---:|\n",
        "| \"Miss Hoover: No, actually, it was a littl\" | \"iss Hoover: No, actually, it was a little\" |\n",
        "| \"iss Hoover: No, actually, it was a little\" | \"ss Hoover: No, actually, it was a little \" |\n",
        "| \"ss Hoover: No, actually, it was a little \" | \"s Hoover: No, actually, it was a little o\" |\n",
        "| \"s Hoover: No, actually, it was a little o\" | \" Hoover: No, actually, it was a little of\" |\n",
        "\n",
        "Entonces, empezaremos por definir el tamañao de las entradas y las etiquetas."
      ]
    },
    {
      "cell_type": "code",
      "metadata": {
        "colab_type": "code",
        "id": "AyN__8-4sD6H",
        "colab": {
          "base_uri": "https://localhost:8080/",
          "height": 35
        },
        "outputId": "377d275f-a4da-4fc5-9286-731ed460e064"
      },
      "source": [
        "seq_length = 100 #máxima longitud de la frase\n",
        "examples_per_epoch = len(text)//(seq_length+1)\n",
        "examples_per_epoch"
      ],
      "execution_count": 20,
      "outputs": [
        {
          "output_type": "execute_result",
          "data": {
            "text/plain": [
              "98157"
            ]
          },
          "metadata": {
            "tags": []
          },
          "execution_count": 20
        }
      ]
    },
    {
      "cell_type": "markdown",
      "metadata": {
        "id": "C0dwAkUXUtNn",
        "colab_type": "text"
      },
      "source": [
        "Los datos necesitan ser transformados a tensores para que puedan ser utilizados en el modelo, los transformaremos con *tf.data.Dataset.from_tensor_slices*."
      ]
    },
    {
      "cell_type": "code",
      "metadata": {
        "id": "N_e7_qjJUtNq",
        "colab_type": "code",
        "colab": {
          "base_uri": "https://localhost:8080/",
          "height": 239
        },
        "outputId": "0189bb75-521a-4c06-f1f1-8d67c3784723"
      },
      "source": [
        "char_dataset = tf.data.Dataset.from_tensor_slices(text_as_int) #se tranforma de numpy a tf\n",
        "print(\"Tensor:\", char_dataset)\n",
        "\n",
        "#ejemplo\n",
        "for i in char_dataset.take(11):\n",
        "  print(idxchar[i.numpy()])"
      ],
      "execution_count": 21,
      "outputs": [
        {
          "output_type": "stream",
          "text": [
            "Tensor: <TensorSliceDataset shapes: (), types: tf.int64>\n",
            "M\n",
            "i\n",
            "s\n",
            "s\n",
            " \n",
            "H\n",
            "o\n",
            "o\n",
            "v\n",
            "e\n",
            "r\n"
          ],
          "name": "stdout"
        }
      ]
    },
    {
      "cell_type": "markdown",
      "metadata": {
        "colab_type": "text",
        "id": "ANMiIEYxFI9I"
      },
      "source": [
        "Ahora podemos construir las secuencias de entrenamiento, tengamos en cuenta que las estas se componen por seq_length caracteres mas un caracter que es el que se usara para crear la etiqueta."
      ]
    },
    {
      "cell_type": "code",
      "metadata": {
        "colab_type": "code",
        "id": "_r2QdKtrsD6T",
        "colab": {
          "base_uri": "https://localhost:8080/",
          "height": 351
        },
        "outputId": "c1630624-6f10-46dd-cb2b-bb41d80823bf"
      },
      "source": [
        "sequences = char_dataset.batch(seq_length+1, drop_remainder=True)\n",
        "print(\"sequences:\", sequences)\n",
        "\n",
        "for item in sequences.take(2):\n",
        "  print(repr(idxchar[item.numpy()])) #rep vuelve imprimible lo que es imprimible"
      ],
      "execution_count": 22,
      "outputs": [
        {
          "output_type": "stream",
          "text": [
            "sequences: <BatchDataset shapes: (101,), types: tf.int64>\n",
            "array(['M', 'i', 's', 's', ' ', 'H', 'o', 'o', 'v', 'e', 'r', ':', ' ',\n",
            "       'N', 'o', ',', ' ', 'a', 'c', 't', 'u', 'a', 'l', 'l', 'y', ',',\n",
            "       ' ', 'i', 't', ' ', 'w', 'a', 's', ' ', 'a', ' ', 'l', 'i', 't',\n",
            "       't', 'l', 'e', ' ', 'o', 'f', ' ', 'b', 'o', 't', 'h', '.', ' ',\n",
            "       'S', 'o', 'm', 'e', 't', 'i', 'm', 'e', 's', ' ', 'w', 'h', 'e',\n",
            "       'n', ' ', 'a', ' ', 'd', 'i', 's', 'e', 'a', 's', 'e', ' ', 'i',\n",
            "       's', ' ', 'i', 'n', ' ', 'a', 'l', 'l', ' ', 't', 'h', 'e', ' ',\n",
            "       'm', 'a', 'g', 'a', 'z', 'i', 'n', 'e', 's', ' '], dtype='<U1')\n",
            "array(['a', 'n', 'd', ' ', 'a', 'l', 'l', ' ', 't', 'h', 'e', ' ', 'n',\n",
            "       'e', 'w', 's', ' ', 's', 'h', 'o', 'w', 's', ',', ' ', 'i', 't',\n",
            "       \"'\", 's', ' ', 'o', 'n', 'l', 'y', ' ', 'n', 'a', 't', 'u', 'r',\n",
            "       'a', 'l', ' ', 't', 'h', 'a', 't', ' ', 'y', 'o', 'u', ' ', 't',\n",
            "       'h', 'i', 'n', 'k', ' ', 'y', 'o', 'u', ' ', 'h', 'a', 'v', 'e',\n",
            "       ' ', 'i', 't', '.', '\\r', '\\n', 'L', 'i', 's', 'a', ' ', 'S', 'i',\n",
            "       'm', 'p', 's', 'o', 'n', ':', ' ', '(', 'N', 'E', 'A', 'R', ' ',\n",
            "       'T', 'E', 'A', 'R', 'S', ')', ' ', 'W', 'h', 'e'], dtype='<U1')\n"
          ],
          "name": "stdout"
        }
      ]
    },
    {
      "cell_type": "markdown",
      "metadata": {
        "id": "NWm4a5UwUtOF",
        "colab_type": "text"
      },
      "source": [
        "Juntemos los caracteres para que sean mas facil de visualizar."
      ]
    },
    {
      "cell_type": "code",
      "metadata": {
        "id": "oKMzvXkVUtOH",
        "colab_type": "code",
        "colab": {
          "base_uri": "https://localhost:8080/",
          "height": 74
        },
        "outputId": "ac724b4f-3a28-4b6b-999f-4d28396875c9"
      },
      "source": [
        "for item in sequences.take(2):\n",
        "  print(repr(''.join(idxchar[item.numpy()])))"
      ],
      "execution_count": 23,
      "outputs": [
        {
          "output_type": "stream",
          "text": [
            "'Miss Hoover: No, actually, it was a little of both. Sometimes when a disease is in all the magazines '\n",
            "\"and all the news shows, it's only natural that you think you have it.\\r\\nLisa Simpson: (NEAR TEARS) Whe\"\n"
          ],
          "name": "stdout"
        }
      ]
    },
    {
      "cell_type": "markdown",
      "metadata": {
        "id": "ke0H4IcsUtOU",
        "colab_type": "text"
      },
      "source": [
        "Aquí dividiremos las secuencias en entradas y etiquetas con la misma longitud. El método *.map* nos permite aplicar una función simple a cada lote, similar a la función apply de R, se busca duplicar cada secuencia y cambiarla para formar el texto de entrada y de salida."
      ]
    },
    {
      "cell_type": "code",
      "metadata": {
        "colab_type": "code",
        "id": "v1gqMHr1sD6i",
        "colab": {
          "base_uri": "https://localhost:8080/",
          "height": 35
        },
        "outputId": "a37910ff-ac02-49b6-d9ec-bf249eedfda7"
      },
      "source": [
        "def split_input_target(chunk):\n",
        "    input_text = chunk[:-1]\n",
        "    target_text = chunk[1:]\n",
        "    return input_text, target_text\n",
        "\n",
        "dataset = sequences.map(split_input_target)\n",
        "dataset"
      ],
      "execution_count": 24,
      "outputs": [
        {
          "output_type": "execute_result",
          "data": {
            "text/plain": [
              "<MapDataset shapes: ((100,), (100,)), types: (tf.int64, tf.int64)>"
            ]
          },
          "metadata": {
            "tags": []
          },
          "execution_count": 24
        }
      ]
    },
    {
      "cell_type": "code",
      "metadata": {
        "colab_type": "code",
        "id": "zQE-D13ZsD6s",
        "colab": {
          "base_uri": "https://localhost:8080/",
          "height": 277
        },
        "outputId": "f3d3dd5e-5125-4ce4-aece-5768726ca34e"
      },
      "source": [
        "for item in dataset.take(1):\n",
        "  print(item)"
      ],
      "execution_count": 25,
      "outputs": [
        {
          "output_type": "stream",
          "text": [
            "(<tf.Tensor: shape=(100,), dtype=int64, numpy=\n",
            "array([42, 69, 79, 79,  2, 37, 75, 75, 82, 65, 78, 27,  2, 43, 75, 13,  2,\n",
            "       61, 63, 80, 81, 61, 72, 72, 85, 13,  2, 69, 80,  2, 83, 61, 79,  2,\n",
            "       61,  2, 72, 69, 80, 80, 72, 65,  2, 75, 66,  2, 62, 75, 80, 68, 15,\n",
            "        2, 48, 75, 73, 65, 80, 69, 73, 65, 79,  2, 83, 68, 65, 74,  2, 61,\n",
            "        2, 64, 69, 79, 65, 61, 79, 65,  2, 69, 79,  2, 69, 74,  2, 61, 72,\n",
            "       72,  2, 80, 68, 65,  2, 73, 61, 67, 61, 86, 69, 74, 65, 79])>, <tf.Tensor: shape=(100,), dtype=int64, numpy=\n",
            "array([69, 79, 79,  2, 37, 75, 75, 82, 65, 78, 27,  2, 43, 75, 13,  2, 61,\n",
            "       63, 80, 81, 61, 72, 72, 85, 13,  2, 69, 80,  2, 83, 61, 79,  2, 61,\n",
            "        2, 72, 69, 80, 80, 72, 65,  2, 75, 66,  2, 62, 75, 80, 68, 15,  2,\n",
            "       48, 75, 73, 65, 80, 69, 73, 65, 79,  2, 83, 68, 65, 74,  2, 61,  2,\n",
            "       64, 69, 79, 65, 61, 79, 65,  2, 69, 79,  2, 69, 74,  2, 61, 72, 72,\n",
            "        2, 80, 68, 65,  2, 73, 61, 67, 61, 86, 69, 74, 65, 79,  2])>)\n"
          ],
          "name": "stdout"
        }
      ]
    },
    {
      "cell_type": "markdown",
      "metadata": {
        "id": "XjBxK_9-UtO4",
        "colab_type": "text"
      },
      "source": [
        "Juntemos los caracteres para que sean mas facil de visualizar."
      ]
    },
    {
      "cell_type": "code",
      "metadata": {
        "colab_type": "code",
        "id": "jDk7Y-W1sD6w",
        "colab": {
          "base_uri": "https://localhost:8080/",
          "height": 74
        },
        "outputId": "3bc3cbe0-74be-40ab-b8f0-88d083749d20"
      },
      "source": [
        "for input_example, target_example in  dataset.take(1):\n",
        "  print ('Input data: ', repr(''.join(idxchar[input_example.numpy()])))\n",
        "  print ('Target data:', repr(''.join(idxchar[target_example.numpy()])))"
      ],
      "execution_count": 26,
      "outputs": [
        {
          "output_type": "stream",
          "text": [
            "Input data:  'Miss Hoover: No, actually, it was a little of both. Sometimes when a disease is in all the magazines'\n",
            "Target data: 'iss Hoover: No, actually, it was a little of both. Sometimes when a disease is in all the magazines '\n"
          ],
          "name": "stdout"
        }
      ]
    },
    {
      "cell_type": "markdown",
      "metadata": {
        "id": "IgeQaGREUtPF",
        "colab_type": "text"
      },
      "source": [
        "Veamos de forma muy corta y más detallada que lo que buscamos con una sola secuencia es:"
      ]
    },
    {
      "cell_type": "code",
      "metadata": {
        "colab_type": "code",
        "id": "9E3PSzlCsD6z",
        "colab": {
          "base_uri": "https://localhost:8080/",
          "height": 313
        },
        "outputId": "841d22cb-bd63-4254-9cda-0a1e1b3ab0fd"
      },
      "source": [
        "for i, (input_idx, target_idx) in enumerate(zip(input_example[:5], target_example[:5])):\n",
        "    print(\"Step {:4d}\".format(i))\n",
        "    print(\"  input: {} ({:s})\".format(input_idx, repr(idxchar[input_idx])))\n",
        "    print(\"  expected output: {} ({:s})\".format(target_idx, repr(idxchar[target_idx])))\n",
        "print(\"...\")"
      ],
      "execution_count": 27,
      "outputs": [
        {
          "output_type": "stream",
          "text": [
            "Step    0\n",
            "  input: 42 ('M')\n",
            "  expected output: 69 ('i')\n",
            "Step    1\n",
            "  input: 69 ('i')\n",
            "  expected output: 79 ('s')\n",
            "Step    2\n",
            "  input: 79 ('s')\n",
            "  expected output: 79 ('s')\n",
            "Step    3\n",
            "  input: 79 ('s')\n",
            "  expected output: 2 (' ')\n",
            "Step    4\n",
            "  input: 2 (' ')\n",
            "  expected output: 37 ('H')\n",
            "...\n"
          ],
          "name": "stdout"
        }
      ]
    },
    {
      "cell_type": "markdown",
      "metadata": {
        "colab_type": "text",
        "id": "6M4SFfd0wEGh"
      },
      "source": [
        "### Lotes de entrenamiento"
      ]
    },
    {
      "cell_type": "markdown",
      "metadata": {
        "id": "9Q4-fRnFUtPT",
        "colab_type": "text"
      },
      "source": [
        "Vamos a mezclar los datos y los vamos a guardar por lotes de tamaño 64, porque así los datos no tienen dependencia de orden (silimar a la autocorrelación en la regresión) y además hacemos una actualización para cada mini lote de datos. Además las mezclan se harán en un búfer para cada bache."
      ]
    },
    {
      "cell_type": "code",
      "metadata": {
        "colab_type": "code",
        "id": "YZQ9kWk_sD66",
        "colab": {
          "base_uri": "https://localhost:8080/",
          "height": 55
        },
        "outputId": "a9277764-92b4-4818-da87-405d61b506d7"
      },
      "source": [
        "BATCH_SIZE = 64 #tamaño del lote\n",
        "BUFFER_SIZE = 500000 #bufer para mezclar el conjunto de datos\n",
        "\n",
        "dataset = dataset.shuffle(BUFFER_SIZE).batch(BATCH_SIZE, drop_remainder=True)\n",
        "dataset"
      ],
      "execution_count": 28,
      "outputs": [
        {
          "output_type": "execute_result",
          "data": {
            "text/plain": [
              "<BatchDataset shapes: ((64, 100), (64, 100)), types: (tf.int64, tf.int64)>"
            ]
          },
          "metadata": {
            "tags": []
          },
          "execution_count": 28
        }
      ]
    },
    {
      "cell_type": "markdown",
      "metadata": {
        "colab_type": "text",
        "id": "AUCY6AexwEGu"
      },
      "source": [
        "## 4. Construcción del Modelo\n",
        "\n",
        "Para este modelo vamos a utilizar tres capas,\n",
        "   - Embegind: Es un espacio de dimensiones bajas en el que se puede traducir vectores de altas dimensiones. Tambien se considera un mapeo de objetos discretos. El embeding es obtenido internamente a partir concurrencias, proyecciones y otros.\n",
        "   - GRU: (Gated recurrent unit) es un tipo de RNN compuesta por unidades GRU.\n",
        "   - Dense: Todas las neuronas se conectan con todas las neuronas."
      ]
    },
    {
      "cell_type": "code",
      "metadata": {
        "colab_type": "code",
        "id": "-Zw9jMyJsD6-",
        "colab": {}
      },
      "source": [
        "#Longitud del vocabulario en caracteres, tamaño de entrada(one hot)\n",
        "vocab_size = len(vocab)\n",
        "\n",
        "#Dimensión de incrustación(embedding), cada caracter sera representado por un vector de 256.\n",
        "embedding_dim = 256\n",
        "\n",
        "#numero de unidades de RNN\n",
        "rnn_units = 1024"
      ],
      "execution_count": null,
      "outputs": []
    },
    {
      "cell_type": "markdown",
      "metadata": {
        "id": "e7b4R_6GUtPu",
        "colab_type": "text"
      },
      "source": [
        "Entonces, el dataset de entrenamiento tiene lotes de tamaño 64 * 100. Notemos que en la construccion del modelo, en la capa GRU (stateful=TRUE) mantiene la memoria de la secuencia inicial y de los caracteres que van siendo generados, pero solamente se pasa en el primer paso la secuencia de entrada completa. Luego solo se pasa el caracter predicho."
      ]
    },
    {
      "cell_type": "code",
      "metadata": {
        "colab_type": "code",
        "id": "Ppp0rEoTsD7C",
        "colab": {}
      },
      "source": [
        "def build_model(vocab_size, embedding_dim, rnn_units, batch_size):\n",
        "  model = tf.keras.Sequential([\n",
        "    tf.keras.layers.Embedding(vocab_size, embedding_dim,\n",
        "                              batch_input_shape=[batch_size, None]),\n",
        "    tf.keras.layers.GRU(rnn_units,\n",
        "                        return_sequences=True, #regresa toda las secuencias\n",
        "                        stateful=True, #cuando se pasa de un batch a otro, no se inicializan las capas intermedias\n",
        "                        recurrent_initializer='glorot_uniform',\n",
        "                        dropout=0.5), #forma de inicialización del estado recurrente\n",
        "    tf.keras.layers.GRU(rnn_units,\n",
        "                        return_sequences=True, #regresa toda las secuencias\n",
        "                        stateful=True, #cuando se pasa de un batch a otro, no se inicializan las capas intermedias\n",
        "                        recurrent_initializer='glorot_uniform',\n",
        "                        dropout=0.5), #forma de inicialización del estado recurrente\n",
        "    tf.keras.layers.GRU(rnn_units,\n",
        "                        return_sequences=True, #regresa toda las secuencias\n",
        "                        stateful=True, #cuando se pasa de un batch a otro, no se inicializan las capas intermedias\n",
        "                        recurrent_initializer='glorot_uniform',\n",
        "                        dropout=0.5), #forma de inicialización del estado recurrente\n",
        "    tf.keras.layers.Dense(vocab_size)\n",
        "  ])\n",
        "  return model\n",
        "\n",
        "def loss(labels, logits):\n",
        "  return tf.keras.losses.sparse_categorical_crossentropy(labels, logits, from_logits=True)"
      ],
      "execution_count": null,
      "outputs": []
    },
    {
      "cell_type": "code",
      "metadata": {
        "colab_type": "code",
        "id": "oqOzws2ZsD7F",
        "colab": {}
      },
      "source": [
        "#modelo\n",
        "model = build_model(\n",
        "  vocab_size = len(vocab),\n",
        "  embedding_dim=embedding_dim,\n",
        "  rnn_units=rnn_units,\n",
        "  batch_size=BATCH_SIZE)"
      ],
      "execution_count": null,
      "outputs": []
    },
    {
      "cell_type": "markdown",
      "metadata": {
        "colab_type": "text",
        "id": "4ZqpLGoNwEID"
      },
      "source": [
        "## 5. Configuración de checkpoints\n",
        "\n",
        "Creamos un directorio *training_checkpoints* y utilizamos *tf.keras.callbacks.ModelCheckpoint* para guardar los puntos de control(los peses)durante el entrenamiento."
      ]
    },
    {
      "cell_type": "code",
      "metadata": {
        "colab_type": "code",
        "id": "8ielCBdbsD7l",
        "colab": {}
      },
      "source": [
        "#directorio donde los checkpoints(puntos de control) serán guardados\n",
        "checkpoint_dir = './training_checkpoints'\n",
        "#nombre de los puntos de control(checkpoint files)\n",
        "checkpoint_prefix = os.path.join(checkpoint_dir, \"ckpt_{epoch}\")\n",
        "\n",
        "checkpoint_callback=tf.keras.callbacks.ModelCheckpoint(\n",
        "    filepath=checkpoint_prefix, #direccion o ruta\n",
        "    save_weights_only=True) #se guardan solo los pesos"
      ],
      "execution_count": null,
      "outputs": []
    },
    {
      "cell_type": "markdown",
      "metadata": {
        "colab_type": "text",
        "id": "fyTjVqGiwEIK"
      },
      "source": [
        "## 6. Entrenamiento\n",
        "\n",
        "El lote de datos pasa por el modelo y devuelve un tensor de tamaño (64, 100, 65). Como el vocabulario tien 65 caracteres y cada sequencia tiene tamaño 100, el modelo predice el siguiente caracter para cada caracter en la entrada, luego el modelo asigna un valor numérico a cada elemento en el vocabulario. Cómo se elige? Se puede elegir el valor numerico máximo o se puede elegir atoriamente, que resulta ser mejor que tomar el maximo.\n",
        "\n",
        "Para elegir aleatoriamente o tomar la muestra, la distribución es calculada a partir de las predicciones(logits) que son generadas para cada caracter del vocabulario. Para cada lote de 64 secuencias la función de pérdida se obtiene con el promedio de 64∗100=6400 entropías cruzadas dispersas.\n",
        "\n",
        "Para compilar el modelo utilizamos la función de pérdida de entropía cruzada y el optimizardor Adam."
      ]
    },
    {
      "cell_type": "code",
      "metadata": {
        "colab_type": "code",
        "id": "omQ6FoossD7i",
        "colab": {}
      },
      "source": [
        "model.compile(optimizer='adam',loss=loss)"
      ],
      "execution_count": null,
      "outputs": []
    },
    {
      "cell_type": "code",
      "metadata": {
        "colab_type": "code",
        "id": "5OHsxhRPsD7u",
        "colab": {
          "base_uri": "https://localhost:8080/",
          "height": 276
        },
        "outputId": "d10109d5-1d04-49e2-ade0-782f395cbe07"
      },
      "source": [
        "#en history queda registrado la funcion de perdida y la precision para el modelo, tanto en entrenamiento como en test\n",
        "EPOCHS=7\n",
        "history = model.fit(dataset, epochs=EPOCHS, callbacks=[checkpoint_callback])"
      ],
      "execution_count": null,
      "outputs": [
        {
          "output_type": "stream",
          "text": [
            "Epoch 1/7\n",
            "1533/1533 [==============================] - 394s 257ms/step - loss: 1.6552\n",
            "Epoch 2/7\n",
            "1533/1533 [==============================] - 395s 258ms/step - loss: 1.3201\n",
            "Epoch 3/7\n",
            "1533/1533 [==============================] - 396s 258ms/step - loss: 1.2839\n",
            "Epoch 4/7\n",
            "1533/1533 [==============================] - 395s 258ms/step - loss: 1.2701\n",
            "Epoch 5/7\n",
            "1533/1533 [==============================] - 395s 257ms/step - loss: 1.2646\n",
            "Epoch 6/7\n",
            "1533/1533 [==============================] - 395s 257ms/step - loss: 1.2636\n",
            "Epoch 7/7\n",
            "1533/1533 [==============================] - 394s 257ms/step - loss: 1.2645\n"
          ],
          "name": "stdout"
        }
      ]
    },
    {
      "cell_type": "markdown",
      "metadata": {
        "colab_type": "text",
        "id": "mVbs6nUxwEIV"
      },
      "source": [
        "## 7. Generación de texto\n",
        "\n",
        "### Restauración del último  checkpoint\n",
        "\n",
        "Debido a la forma en que se pasa el estado RNN de un paso a otro, el modelo solo acepta un tamaño de lote fijo una vez construido, asi que tomaremos el pre-entranamiento usando los pesos almacenados y un tamaño de lote de 1. Si se quisiera ejecutar el modelo con un tamaño de lote diferente, se necesitaría reconstruir el modelo y restaurar los pesos desde el punto de control."
      ]
    },
    {
      "cell_type": "code",
      "metadata": {
        "colab_type": "code",
        "id": "CmfudwvGsD7y",
        "colab": {}
      },
      "source": [
        "#tomamos un solo batch\n",
        "model = build_model(vocab_size, embedding_dim, rnn_units, batch_size=1)\n",
        "\n",
        "#utilizamos los checkpoint del pre-entrenamiento\n",
        "model.load_weights(tf.train.latest_checkpoint(checkpoint_dir))\n",
        "\n",
        "#reconstruimos el modelo\n",
        "model.build(tf.TensorShape([1, None]))"
      ],
      "execution_count": null,
      "outputs": []
    },
    {
      "cell_type": "code",
      "metadata": {
        "colab_type": "code",
        "id": "hv0lxIXVsD73",
        "colab": {
          "base_uri": "https://localhost:8080/",
          "height": 977
        },
        "outputId": "c3b0c4c8-79ee-4452-9617-cde33f26f4b1"
      },
      "source": [
        "model.summary()\n",
        "img_path = 'Imagenes'\n",
        "plot_model(model, to_file=img_path +'mlp-mnist.png', show_shapes=True)"
      ],
      "execution_count": null,
      "outputs": [
        {
          "output_type": "stream",
          "text": [
            "Model: \"sequential_3\"\n",
            "_________________________________________________________________\n",
            "Layer (type)                 Output Shape              Param #   \n",
            "=================================================================\n",
            "embedding_3 (Embedding)      (1, None, 256)            35072     \n",
            "_________________________________________________________________\n",
            "gru_9 (GRU)                  (1, None, 1024)           3938304   \n",
            "_________________________________________________________________\n",
            "gru_10 (GRU)                 (1, None, 1024)           6297600   \n",
            "_________________________________________________________________\n",
            "gru_11 (GRU)                 (1, None, 1024)           6297600   \n",
            "_________________________________________________________________\n",
            "dense_3 (Dense)              (1, None, 137)            140425    \n",
            "=================================================================\n",
            "Total params: 16,709,001\n",
            "Trainable params: 16,709,001\n",
            "Non-trainable params: 0\n",
            "_________________________________________________________________\n"
          ],
          "name": "stdout"
        },
        {
          "output_type": "execute_result",
          "data": {
            "image/png": "[encoded data removed]",
            "text/plain": [
              "<IPython.core.display.Image object>"
            ]
          },
          "metadata": {
            "tags": []
          },
          "execution_count": 44
        }
      ]
    },
    {
      "cell_type": "markdown",
      "metadata": {
        "id": "eSo6RzBRUtRZ",
        "colab_type": "text"
      },
      "source": [
        "### Predicción\n",
        "\n",
        "¿Cómo se genera el texto?:\n",
        "\n",
        "* Se introduce una cadena de inicio, se inicializa el estado de la  RNN y se configura el número de caracteres a generar.\n",
        "\n",
        "* Se obtiene la distribución de predicción del siguiente carácter utilizando la cadena de inicio y el estado de la  RNN y se calcula el índice del carácter predicho. \n",
        "\n",
        "* Se usa este caracter predicho como la próxima entrada al modelo.\n",
        "\n",
        "* El estado RNN devuelto retroalimenta al modelo para que ahora tenga más contexto, en lugar de una sola palabra. Después de predecir la siguiente palabra, los estados RNN modificados se retroalimentan nuevamente en el modelo, que es cómo aprende a medida que obtiene más contexto de las palabras predichas previamente.\n",
        "\n",
        "Vamos a hacer la función para generar texto basada en los pesos obtenidos en el modelo pre-entrenado, aquí utilizamos un nuevo concepto *la temperatura* que indica que tan sorprendente o aleatorio puede ser un resultado, toma valores entre 0 y 1, donde un valor cercano a 0 indica que es mas predecible y un valor cercano a 1 indica que el resultado es más aleatorio."
      ]
    },
    {
      "cell_type": "code",
      "metadata": {
        "colab_type": "code",
        "id": "mjLYoVm0sD78",
        "colab": {}
      },
      "source": [
        "#funcion para generar texto usando el modelo pre-entrenado\n",
        "def generate_text(model, start_string, num_generate):\n",
        "\n",
        "  #convertimos el texto inicial en numeros (vectorizacion)\n",
        "  input_eval = [charxid[s] for s in start_string] #vector columna\n",
        "  input_eval = tf.expand_dims(input_eval, 0) #vector fila, agrega una diension\n",
        "\n",
        "  #guardamos el texto predicho\n",
        "  text_generated = []\n",
        "\n",
        "  temperature = 1.0\n",
        "\n",
        "  #tamaño del bache== 1\n",
        "  model.reset_states() #reinia o borra el estado recurrente de la red. Dejando valores aleatorios o ceros.\n",
        "  for i in range(num_generate):\n",
        "      predictions = model(input_eval)\n",
        "      #removemos la dimensión del batch, quita una dimensión\n",
        "      predictions = tf.squeeze(predictions, 0)\n",
        "\n",
        "      #usamos la distribución categorica para predecir la palabra que retorna el modelo\n",
        "      predictions = predictions / temperature\n",
        "      predicted_id = tf.random.categorical(predictions, num_samples=1)[-1,0].numpy()\n",
        "\n",
        "      #utilizamos la palabra predicha y el estado oculto anterior como entrada\n",
        "      input_eval = tf.expand_dims([predicted_id], 0) #devuelve un tensor con una dimensión adicional en el eje de índice\n",
        "\n",
        "      text_generated.append(idxchar[predicted_id])\n",
        "\n",
        "  return (start_string + ''.join(text_generated))"
      ],
      "execution_count": null,
      "outputs": []
    },
    {
      "cell_type": "markdown",
      "metadata": {
        "id": "el7yknkpUtRp",
        "colab_type": "text"
      },
      "source": [
        "Notemos que el texto generado es capaz de utilizar mayusculas, minusculas y signos de puntuación para construir frases con el vocabulario de los Simpons."
      ]
    },
    {
      "cell_type": "code",
      "metadata": {
        "colab_type": "code",
        "id": "w1b4ggiAsD8A",
        "colab": {
          "base_uri": "https://localhost:8080/",
          "height": 185
        },
        "outputId": "4028ff7b-5a80-441f-fa82-8e260e24d08a"
      },
      "source": [
        "print(generate_text(model, start_string=u\"Homer Simpson: \", num_generate=500))"
      ],
      "execution_count": null,
      "outputs": [
        {
          "output_type": "stream",
          "text": [
            "Homer Simpson: Stupid! President! To you kind of job there.\r\n",
            "Judge Snyder: Aw, n9, nuts. (PROUDLY) Mise Junder... (CHUCKLES) Hey, honey. The Mids get over the morning fun not make such a sepical stuff.\r\n",
            "Homer Simpson: Oh. I love by hair and then you do one more of the that is really raised to you.\r\n",
            "Homer Simpson: Hey, Bart!\r\n",
            "Bart Simpson: (INTERRUPTING MURMUR) They're on!\r\n",
            "Bart Simpson: I thought you're humiliative months...\r\n",
            "Bart Simpson: Ceild.\r\n",
            "Homer Simpson: (TURNS TO HOMER) And I wouldn't build it. It's h\n"
          ],
          "name": "stdout"
        }
      ]
    },
    {
      "cell_type": "markdown",
      "metadata": {
        "id": "AoR5CYg3q_tk",
        "colab_type": "text"
      },
      "source": [
        "Las siuientes tres celdas de código se utilizaron para guardar el modelo, comprimirlo en una carpeta y subir los datos a drive para poder llamarlos desde el cuaderno *pre-chatbot*."
      ]
    },
    {
      "cell_type": "code",
      "metadata": {
        "id": "QUpdR2a5sr2L",
        "colab_type": "code",
        "colab": {
          "base_uri": "https://localhost:8080/",
          "height": 111
        },
        "outputId": "25e12ac5-c3e0-4511-bc1e-ea3580ac672d"
      },
      "source": [
        "#model.save('generador')"
      ],
      "execution_count": null,
      "outputs": [
        {
          "output_type": "stream",
          "text": [
            "WARNING:tensorflow:From /usr/local/lib/python3.6/dist-packages/tensorflow/python/ops/resource_variable_ops.py:1817: calling BaseResourceVariable.__init__ (from tensorflow.python.ops.resource_variable_ops) with constraint is deprecated and will be removed in a future version.\n",
            "Instructions for updating:\n",
            "If using Keras pass *_constraint arguments to layers.\n",
            "INFO:tensorflow:Assets written to: generador/assets\n"
          ],
          "name": "stdout"
        }
      ]
    },
    {
      "cell_type": "code",
      "metadata": {
        "id": "Yg4fx4g4tV8f",
        "colab_type": "code",
        "colab": {
          "base_uri": "https://localhost:8080/",
          "height": 146
        },
        "outputId": "e15e1ebc-43ae-45d7-f26f-37ae6e41cc38"
      },
      "source": [
        "#!zip -r generador.zip generador"
      ],
      "execution_count": null,
      "outputs": [
        {
          "output_type": "stream",
          "text": [
            "  adding: generador/ (stored 0%)\n",
            "  adding: generador/saved_model.pb (deflated 91%)\n",
            "  adding: generador/assets/ (stored 0%)\n",
            "  adding: generador/variables/ (stored 0%)\n",
            "  adding: generador/variables/variables.index (deflated 59%)\n",
            "  adding: generador/variables/variables.data-00001-of-00002 (deflated 7%)\n",
            "  adding: generador/variables/variables.data-00000-of-00002 (deflated 9%)\n"
          ],
          "name": "stdout"
        }
      ]
    },
    {
      "cell_type": "code",
      "metadata": {
        "id": "OS1uReentalf",
        "colab_type": "code",
        "colab": {
          "base_uri": "https://localhost:8080/",
          "height": 36
        },
        "outputId": "489d4a04-28d4-4871-f6cd-0e06864c36c8"
      },
      "source": [
        "#from shutil import copyfile\n",
        "#copyfile(\"generador.zip\", \"/content/drive/My Drive/Simpsons Chat bot/Modelos guardos/generador.zip\")"
      ],
      "execution_count": null,
      "outputs": [
        {
          "output_type": "execute_result",
          "data": {
            "application/vnd.google.colaboratory.intrinsic": {
              "type": "string"
            },
            "text/plain": [
              "'/content/drive/My Drive/Simpsons Chat bot/Modelos guardos/generador.zip'"
            ]
          },
          "metadata": {
            "tags": []
          },
          "execution_count": 49
        }
      ]
    },
    {
      "cell_type": "markdown",
      "metadata": {
        "id": "3OMFMDZLUtR2",
        "colab_type": "text"
      },
      "source": [
        "## Avanzado: Entrenamiento personalizado\n",
        "\n",
        "Para mejorar el entrenamiento anterior y obtener más control usaremos `tf.GradientTape` bajo los siguientes pasos:\n",
        "\n",
        "* Utilizamos el mismo modelo y el optimizador adam.\n",
        "\n",
        "* Inicializamos el estado RNN llamando al método `tf.keras.Model.reset_states`.\n",
        "\n",
        "* Repetimos el conjunto de datos (lote por lote) y calculamos las predicciones asociadas con cada una.\n",
        "\n",
        "* Abrimos un `tf.GradientTape`, y calculamos las predicciones y pérdidas en ese contexto.\n",
        "\n",
        "* Calculamos los gradientes de la pérdida con respecto a las variables del modelo utilizando el método `tf.GradientTape.grads`.\n",
        "\n",
        "* Finalmente, damos un paso hacia abajo utilizando el método `tf.train.Optimizer.apply_gradients` del optimizador."
      ]
    },
    {
      "cell_type": "code",
      "metadata": {
        "colab_type": "code",
        "id": "-TP9mJ_3sD8E",
        "colab": {}
      },
      "source": [
        "#modelo\n",
        "model = build_model(\n",
        "  vocab_size = len(vocab),\n",
        "  embedding_dim=embedding_dim,\n",
        "  rnn_units=rnn_units,\n",
        "  batch_size=BATCH_SIZE)"
      ],
      "execution_count": null,
      "outputs": []
    },
    {
      "cell_type": "code",
      "metadata": {
        "colab_type": "code",
        "id": "78WenvicsD8H",
        "colab": {}
      },
      "source": [
        "#optimizador\n",
        "optimizer = tf.keras.optimizers.Adam()"
      ],
      "execution_count": null,
      "outputs": []
    },
    {
      "cell_type": "code",
      "metadata": {
        "colab_type": "code",
        "id": "_QI19bNEsD8O",
        "colab": {}
      },
      "source": [
        "@tf.function\n",
        "def train_step(inp, target): \n",
        "  with tf.GradientTape() as tape:\n",
        "    predictions = model(inp)\n",
        "    loss = tf.reduce_mean(\n",
        "        tf.keras.losses.sparse_categorical_crossentropy(\n",
        "            target, predictions, from_logits=True))\n",
        "  grads = tape.gradient(loss, model.trainable_variables)\n",
        "  optimizer.apply_gradients(zip(grads, model.trainable_variables))\n",
        "\n",
        "  return loss"
      ],
      "execution_count": null,
      "outputs": []
    },
    {
      "cell_type": "markdown",
      "metadata": {
        "id": "TWgJullsUtST",
        "colab_type": "text"
      },
      "source": [
        "Con lo anterior hacemos el pre-entrenamiento."
      ]
    },
    {
      "cell_type": "code",
      "metadata": {
        "colab_type": "code",
        "id": "psNF_W9ssD8T",
        "colab": {
          "base_uri": "https://localhost:8080/",
          "height": 1000
        },
        "outputId": "450b4035-c02f-4d54-bbd7-527b2272ad3e"
      },
      "source": [
        "EPOCHS = 7\n",
        "\n",
        "for epoch in range(EPOCHS):\n",
        "  start = time.time()\n",
        "\n",
        "  #inicializamos el estado oculto al comienzo de cada época\n",
        "  hidden = model.reset_states()\n",
        "\n",
        "  for (batch_n, (inp, target)) in enumerate(dataset):\n",
        "    loss = train_step(inp, target) #usamos la funcion train_step que acabamos de creamr\n",
        "\n",
        "    if batch_n % 100 == 0:\n",
        "      template = 'Epoch {} Batch {} Loss {}'\n",
        "      print(template.format(epoch+1, batch_n, loss))\n",
        "\n",
        "  #guardamos los 'checkpoint' del modelo cada 5 epocas\n",
        "  if (epoch + 1) % 5 == 0:\n",
        "    model.save_weights(checkpoint_prefix.format(epoch=epoch))\n",
        "\n",
        "  print ('Epoch {} Loss {:.4f}'.format(epoch+1, loss))\n",
        "  print ('Time taken for 1 epoch {} sec\\n'.format(time.time() - start))\n",
        "\n",
        "#imprimimos la perida y los pesos guardados\n",
        "model.save_weights(checkpoint_prefix.format(epoch=epoch))"
      ],
      "execution_count": null,
      "outputs": [
        {
          "output_type": "stream",
          "text": [
            "Epoch 1 Batch 0 Loss 4.919961452484131\n",
            "Epoch 1 Batch 100 Loss 2.3146071434020996\n",
            "Epoch 1 Batch 200 Loss 1.839105486869812\n",
            "Epoch 1 Batch 300 Loss 1.6835037469863892\n",
            "Epoch 1 Batch 400 Loss 1.5082435607910156\n",
            "Epoch 1 Batch 500 Loss 1.459199070930481\n",
            "Epoch 1 Batch 600 Loss 1.3325554132461548\n",
            "Epoch 1 Batch 700 Loss 1.360352635383606\n",
            "Epoch 1 Batch 800 Loss 1.3276684284210205\n",
            "Epoch 1 Batch 900 Loss 1.3611693382263184\n",
            "Epoch 1 Batch 1000 Loss 1.2971540689468384\n",
            "Epoch 1 Batch 1100 Loss 1.2727148532867432\n",
            "Epoch 1 Batch 1200 Loss 1.2687662839889526\n",
            "Epoch 1 Batch 1300 Loss 1.2010043859481812\n",
            "Epoch 1 Batch 1400 Loss 1.2120245695114136\n",
            "Epoch 1 Batch 1500 Loss 1.2577588558197021\n",
            "Epoch 1 Loss 1.2179\n",
            "Time taken for 1 epoch 399.4971127510071 sec\n",
            "\n",
            "Epoch 2 Batch 0 Loss 1.2023273706436157\n",
            "Epoch 2 Batch 100 Loss 1.2329792976379395\n",
            "Epoch 2 Batch 200 Loss 1.1667217016220093\n",
            "Epoch 2 Batch 300 Loss 1.1623358726501465\n",
            "Epoch 2 Batch 400 Loss 1.1871222257614136\n",
            "Epoch 2 Batch 500 Loss 1.1928704977035522\n",
            "Epoch 2 Batch 600 Loss 1.1721960306167603\n",
            "Epoch 2 Batch 700 Loss 1.2046442031860352\n",
            "Epoch 2 Batch 800 Loss 1.2418535947799683\n",
            "Epoch 2 Batch 900 Loss 1.192152738571167\n",
            "Epoch 2 Batch 1000 Loss 1.166273593902588\n",
            "Epoch 2 Batch 1100 Loss 1.2042198181152344\n",
            "Epoch 2 Batch 1200 Loss 1.1971975564956665\n",
            "Epoch 2 Batch 1300 Loss 1.1447911262512207\n",
            "Epoch 2 Batch 1400 Loss 1.1631048917770386\n",
            "Epoch 2 Batch 1500 Loss 1.1221511363983154\n",
            "Epoch 2 Loss 1.1612\n",
            "Time taken for 1 epoch 393.2534463405609 sec\n",
            "\n",
            "Epoch 3 Batch 0 Loss 1.1515332460403442\n",
            "Epoch 3 Batch 100 Loss 1.112901210784912\n",
            "Epoch 3 Batch 200 Loss 1.1399067640304565\n",
            "Epoch 3 Batch 300 Loss 1.1517627239227295\n",
            "Epoch 3 Batch 400 Loss 1.2234203815460205\n",
            "Epoch 3 Batch 500 Loss 1.2158222198486328\n",
            "Epoch 3 Batch 600 Loss 1.1886907815933228\n",
            "Epoch 3 Batch 700 Loss 1.1147905588150024\n",
            "Epoch 3 Batch 800 Loss 1.2354234457015991\n",
            "Epoch 3 Batch 900 Loss 1.0997114181518555\n",
            "Epoch 3 Batch 1000 Loss 1.200486421585083\n",
            "Epoch 3 Batch 1100 Loss 1.104583740234375\n",
            "Epoch 3 Batch 1200 Loss 1.1483725309371948\n",
            "Epoch 3 Batch 1300 Loss 1.2035696506500244\n",
            "Epoch 3 Batch 1400 Loss 1.1066571474075317\n",
            "Epoch 3 Batch 1500 Loss 1.1763137578964233\n",
            "Epoch 3 Loss 1.1292\n",
            "Time taken for 1 epoch 393.1698842048645 sec\n",
            "\n",
            "Epoch 4 Batch 0 Loss 1.1263318061828613\n",
            "Epoch 4 Batch 100 Loss 1.1176284551620483\n",
            "Epoch 4 Batch 200 Loss 1.1417443752288818\n",
            "Epoch 4 Batch 300 Loss 1.1527575254440308\n",
            "Epoch 4 Batch 400 Loss 1.121010184288025\n",
            "Epoch 4 Batch 500 Loss 1.1034026145935059\n",
            "Epoch 4 Batch 600 Loss 1.136130690574646\n",
            "Epoch 4 Batch 700 Loss 1.1157190799713135\n",
            "Epoch 4 Batch 800 Loss 1.170886754989624\n",
            "Epoch 4 Batch 900 Loss 1.1627302169799805\n",
            "Epoch 4 Batch 1000 Loss 1.1625237464904785\n",
            "Epoch 4 Batch 1100 Loss 1.1447182893753052\n",
            "Epoch 4 Batch 1200 Loss 1.216453194618225\n",
            "Epoch 4 Batch 1300 Loss 1.1427910327911377\n",
            "Epoch 4 Batch 1400 Loss 1.1422139406204224\n",
            "Epoch 4 Batch 1500 Loss 1.0811183452606201\n",
            "Epoch 4 Loss 1.1453\n",
            "Time taken for 1 epoch 393.093790769577 sec\n",
            "\n",
            "Epoch 5 Batch 0 Loss 1.0941897630691528\n",
            "Epoch 5 Batch 100 Loss 1.1490355730056763\n",
            "Epoch 5 Batch 200 Loss 1.0638093948364258\n",
            "Epoch 5 Batch 300 Loss 1.1133911609649658\n",
            "Epoch 5 Batch 400 Loss 1.126685619354248\n",
            "Epoch 5 Batch 500 Loss 1.1325883865356445\n",
            "Epoch 5 Batch 600 Loss 1.0994223356246948\n",
            "Epoch 5 Batch 700 Loss 1.0980186462402344\n",
            "Epoch 5 Batch 800 Loss 1.0955748558044434\n",
            "Epoch 5 Batch 900 Loss 1.1212176084518433\n",
            "Epoch 5 Batch 1000 Loss 1.0739914178848267\n",
            "Epoch 5 Batch 1100 Loss 1.1655257940292358\n",
            "Epoch 5 Batch 1200 Loss 1.11762273311615\n",
            "Epoch 5 Batch 1300 Loss 1.0823185443878174\n",
            "Epoch 5 Batch 1400 Loss 1.110487937927246\n",
            "Epoch 5 Batch 1500 Loss 1.1263676881790161\n",
            "Epoch 5 Loss 1.1162\n",
            "Time taken for 1 epoch 392.8433394432068 sec\n",
            "\n",
            "Epoch 6 Batch 0 Loss 1.074704647064209\n",
            "Epoch 6 Batch 100 Loss 1.1190835237503052\n",
            "Epoch 6 Batch 200 Loss 1.1375333070755005\n",
            "Epoch 6 Batch 300 Loss 1.1076600551605225\n",
            "Epoch 6 Batch 400 Loss 1.076324462890625\n",
            "Epoch 6 Batch 500 Loss 1.0555052757263184\n",
            "Epoch 6 Batch 600 Loss 1.1179925203323364\n",
            "Epoch 6 Batch 700 Loss 1.1184824705123901\n",
            "Epoch 6 Batch 800 Loss 1.09211003780365\n",
            "Epoch 6 Batch 900 Loss 1.1168919801712036\n",
            "Epoch 6 Batch 1000 Loss 1.1380949020385742\n",
            "Epoch 6 Batch 1100 Loss 1.0962176322937012\n",
            "Epoch 6 Batch 1200 Loss 1.085928201675415\n",
            "Epoch 6 Batch 1300 Loss 1.130974292755127\n",
            "Epoch 6 Batch 1400 Loss 1.0754269361495972\n",
            "Epoch 6 Batch 1500 Loss 1.1505852937698364\n",
            "Epoch 6 Loss 1.1121\n",
            "Time taken for 1 epoch 393.5390450954437 sec\n",
            "\n",
            "Epoch 7 Batch 0 Loss 1.047726035118103\n",
            "Epoch 7 Batch 100 Loss 1.091610312461853\n",
            "Epoch 7 Batch 200 Loss 1.160475492477417\n",
            "Epoch 7 Batch 300 Loss 1.0799866914749146\n",
            "Epoch 7 Batch 400 Loss 1.094713807106018\n",
            "Epoch 7 Batch 500 Loss 1.1000620126724243\n",
            "Epoch 7 Batch 600 Loss 1.1330498456954956\n",
            "Epoch 7 Batch 700 Loss 1.0483604669570923\n",
            "Epoch 7 Batch 800 Loss 1.1376622915267944\n",
            "Epoch 7 Batch 900 Loss 1.0841807126998901\n",
            "Epoch 7 Batch 1000 Loss 1.1495811939239502\n",
            "Epoch 7 Batch 1100 Loss 1.108588695526123\n",
            "Epoch 7 Batch 1200 Loss 1.0811784267425537\n",
            "Epoch 7 Batch 1300 Loss 1.1016660928726196\n",
            "Epoch 7 Batch 1400 Loss 1.1359444856643677\n",
            "Epoch 7 Batch 1500 Loss 1.1110600233078003\n",
            "Epoch 7 Loss 1.0892\n",
            "Time taken for 1 epoch 392.89639806747437 sec\n",
            "\n"
          ],
          "name": "stdout"
        }
      ]
    },
    {
      "cell_type": "markdown",
      "metadata": {
        "id": "4ofV07LtUtSg",
        "colab_type": "text"
      },
      "source": [
        "Ahora, vamos a utilizar el modelo pre-entrenado, pero vamos a utilizar un solo bache."
      ]
    },
    {
      "cell_type": "code",
      "metadata": {
        "colab_type": "code",
        "id": "e0PFxPwIsD8W",
        "colab": {}
      },
      "source": [
        "#tomamos un solo batch\n",
        "model = build_model(vocab_size, embedding_dim, rnn_units, batch_size=1)\n",
        "\n",
        "#utilizamos los checkpoint del pre-entrenamiento\n",
        "model.load_weights(tf.train.latest_checkpoint(checkpoint_dir))\n",
        "\n",
        "#reconstruimos el modelo\n",
        "model.build(tf.TensorShape([1, None]))"
      ],
      "execution_count": null,
      "outputs": []
    },
    {
      "cell_type": "markdown",
      "metadata": {
        "id": "ERw1xFvnUtSs",
        "colab_type": "text"
      },
      "source": [
        "Y utilizamos nuevamente la funcion generadora de texto."
      ]
    },
    {
      "cell_type": "code",
      "metadata": {
        "id": "vUpVIHTTUtSt",
        "colab_type": "code",
        "colab": {}
      },
      "source": [
        "#funcion para generar texto usando el modelo pre-entrenado\n",
        "def generate_text(model, start_string, num_generate):\n",
        "\n",
        "  #convertimos el texto inicial en numeros (vectorizacion)\n",
        "  input_eval = [charxid[s] for s in start_string] #vector columna\n",
        "  input_eval = tf.expand_dims(input_eval, 0) #vector fila, agrega una diension\n",
        "\n",
        "  #guardamos el texto predicho\n",
        "  text_generated = []\n",
        "\n",
        "  temperature = 1.0\n",
        "\n",
        "  #tamaño del bache== 1\n",
        "  model.reset_states() #reinia o borra el estado recurrente de la red. Dejando valores aleatorios o ceros.\n",
        "  for i in range(num_generate):\n",
        "      predictions = model(input_eval)\n",
        "      #removemos la dimensión del batch, quita una dimensión\n",
        "      predictions = tf.squeeze(predictions, 0)\n",
        "\n",
        "      #usamos la distribución categorica para predecir la palabra que retorna el modelo\n",
        "      predictions = predictions / temperature\n",
        "      predicted_id = tf.random.categorical(predictions, num_samples=1)[-1,0].numpy()\n",
        "\n",
        "      #utilizamos la palabra predicha y el estado oculto anterior como entrada\n",
        "      input_eval = tf.expand_dims([predicted_id], 0) #devuelve un tensor con una dimensión adicional en el eje de índice\n",
        "\n",
        "      text_generated.append(idxchar[predicted_id])\n",
        "\n",
        "  return (start_string + ''.join(text_generated))"
      ],
      "execution_count": null,
      "outputs": []
    },
    {
      "cell_type": "markdown",
      "metadata": {
        "id": "gGWFmH-wUtS8",
        "colab_type": "text"
      },
      "source": [
        "Podemos ver que este código nos da resultados mas coherentes."
      ]
    },
    {
      "cell_type": "code",
      "metadata": {
        "id": "oTUQ4cqMUtS9",
        "colab_type": "code",
        "colab": {}
      },
      "source": [
        "output_model = generate_text(model, u\"Homer:Hello, how are you homer?\\n \", 1000)"
      ],
      "execution_count": null,
      "outputs": []
    },
    {
      "cell_type": "code",
      "metadata": {
        "id": "Q4oJRiiUnISE",
        "colab_type": "code",
        "colab": {}
      },
      "source": [
        "def output_ultimate(line):\n",
        "  if line.split('\\n')[1] == ' ':\n",
        "    line2=line.split('\\n')[2]\n",
        "    labelsLine2 = line2[:line2.index(':')+1]\n",
        "    line_ultimate = line2.replace(labelsLine2,\"\")\n",
        "    print(line_ultimate)\n",
        "  else:\n",
        "    line_ultimate = line.split('\\n')[1]\n",
        "    print(line_ultimate)"
      ],
      "execution_count": null,
      "outputs": []
    },
    {
      "cell_type": "code",
      "metadata": {
        "id": "DsOygtyAnKAy",
        "colab_type": "code",
        "colab": {
          "base_uri": "https://localhost:8080/",
          "height": 35
        },
        "outputId": "0de435d5-ea4e-40e2-ea4c-48fc24827fac"
      },
      "source": [
        "output_ultimate(output_model)"
      ],
      "execution_count": null,
      "outputs": [
        {
          "output_type": "stream",
          "text": [
            " oppo's appointminated.\r\n"
          ],
          "name": "stdout"
        }
      ]
    },
    {
      "cell_type": "markdown",
      "metadata": {
        "id": "jKqYlJJ2qmqV",
        "colab_type": "text"
      },
      "source": [
        "Las siuientes tres celdas de código se utilizaron para guardar el modelo, comprimirlo en una carpeta y subir los datos a drive para poder llamarlos desde el cuaderno *pre-chatbot*."
      ]
    },
    {
      "cell_type": "code",
      "metadata": {
        "id": "5x2cQXFL1dXb",
        "colab_type": "code",
        "colab": {
          "base_uri": "https://localhost:8080/",
          "height": 628
        },
        "outputId": "d136fefc-bb3d-4bde-a2c3-33f123c4e004"
      },
      "source": [
        "#model.save('generador_pers')"
      ],
      "execution_count": null,
      "outputs": [
        {
          "output_type": "stream",
          "text": [
            "WARNING:tensorflow:Unresolved object in checkpoint: (root).optimizer\n",
            "WARNING:tensorflow:Unresolved object in checkpoint: (root).optimizer.iter\n",
            "WARNING:tensorflow:Unresolved object in checkpoint: (root).optimizer.beta_1\n",
            "WARNING:tensorflow:Unresolved object in checkpoint: (root).optimizer.beta_2\n",
            "WARNING:tensorflow:Unresolved object in checkpoint: (root).optimizer.decay\n",
            "WARNING:tensorflow:Unresolved object in checkpoint: (root).optimizer.learning_rate\n",
            "WARNING:tensorflow:Unresolved object in checkpoint: (root).optimizer's state 'm' for (root).layer_with_weights-0.embeddings\n",
            "WARNING:tensorflow:Unresolved object in checkpoint: (root).optimizer's state 'm' for (root).layer_with_weights-4.kernel\n",
            "WARNING:tensorflow:Unresolved object in checkpoint: (root).optimizer's state 'm' for (root).layer_with_weights-4.bias\n",
            "WARNING:tensorflow:Unresolved object in checkpoint: (root).optimizer's state 'm' for (root).layer_with_weights-1.cell.kernel\n",
            "WARNING:tensorflow:Unresolved object in checkpoint: (root).optimizer's state 'm' for (root).layer_with_weights-1.cell.recurrent_kernel\n",
            "WARNING:tensorflow:Unresolved object in checkpoint: (root).optimizer's state 'm' for (root).layer_with_weights-1.cell.bias\n",
            "WARNING:tensorflow:Unresolved object in checkpoint: (root).optimizer's state 'm' for (root).layer_with_weights-2.cell.kernel\n",
            "WARNING:tensorflow:Unresolved object in checkpoint: (root).optimizer's state 'm' for (root).layer_with_weights-2.cell.recurrent_kernel\n",
            "WARNING:tensorflow:Unresolved object in checkpoint: (root).optimizer's state 'm' for (root).layer_with_weights-2.cell.bias\n",
            "WARNING:tensorflow:Unresolved object in checkpoint: (root).optimizer's state 'm' for (root).layer_with_weights-3.cell.kernel\n",
            "WARNING:tensorflow:Unresolved object in checkpoint: (root).optimizer's state 'm' for (root).layer_with_weights-3.cell.recurrent_kernel\n",
            "WARNING:tensorflow:Unresolved object in checkpoint: (root).optimizer's state 'm' for (root).layer_with_weights-3.cell.bias\n",
            "WARNING:tensorflow:Unresolved object in checkpoint: (root).optimizer's state 'v' for (root).layer_with_weights-0.embeddings\n",
            "WARNING:tensorflow:Unresolved object in checkpoint: (root).optimizer's state 'v' for (root).layer_with_weights-4.kernel\n",
            "WARNING:tensorflow:Unresolved object in checkpoint: (root).optimizer's state 'v' for (root).layer_with_weights-4.bias\n",
            "WARNING:tensorflow:Unresolved object in checkpoint: (root).optimizer's state 'v' for (root).layer_with_weights-1.cell.kernel\n",
            "WARNING:tensorflow:Unresolved object in checkpoint: (root).optimizer's state 'v' for (root).layer_with_weights-1.cell.recurrent_kernel\n",
            "WARNING:tensorflow:Unresolved object in checkpoint: (root).optimizer's state 'v' for (root).layer_with_weights-1.cell.bias\n",
            "WARNING:tensorflow:Unresolved object in checkpoint: (root).optimizer's state 'v' for (root).layer_with_weights-2.cell.kernel\n",
            "WARNING:tensorflow:Unresolved object in checkpoint: (root).optimizer's state 'v' for (root).layer_with_weights-2.cell.recurrent_kernel\n",
            "WARNING:tensorflow:Unresolved object in checkpoint: (root).optimizer's state 'v' for (root).layer_with_weights-2.cell.bias\n",
            "WARNING:tensorflow:Unresolved object in checkpoint: (root).optimizer's state 'v' for (root).layer_with_weights-3.cell.kernel\n",
            "WARNING:tensorflow:Unresolved object in checkpoint: (root).optimizer's state 'v' for (root).layer_with_weights-3.cell.recurrent_kernel\n",
            "WARNING:tensorflow:Unresolved object in checkpoint: (root).optimizer's state 'v' for (root).layer_with_weights-3.cell.bias\n",
            "WARNING:tensorflow:A checkpoint was restored (e.g. tf.train.Checkpoint.restore or tf.keras.Model.load_weights) but not all checkpointed values were used. See above for specific issues. Use expect_partial() on the load status object, e.g. tf.train.Checkpoint.restore(...).expect_partial(), to silence these warnings, or use assert_consumed() to make the check explicit. See https://www.tensorflow.org/guide/checkpoint#loading_mechanics for details.\n",
            "INFO:tensorflow:Assets written to: generador_pers/assets\n"
          ],
          "name": "stdout"
        }
      ]
    },
    {
      "cell_type": "code",
      "metadata": {
        "id": "gmOuStuo2GJz",
        "colab_type": "code",
        "colab": {
          "base_uri": "https://localhost:8080/",
          "height": 146
        },
        "outputId": "93dc167b-9c7d-4305-9ae2-f92ad134ef67"
      },
      "source": [
        "#!zip -r generador_pers.zip generador_pers"
      ],
      "execution_count": null,
      "outputs": [
        {
          "output_type": "stream",
          "text": [
            "  adding: generador_pers/ (stored 0%)\n",
            "  adding: generador_pers/saved_model.pb (deflated 91%)\n",
            "  adding: generador_pers/assets/ (stored 0%)\n",
            "  adding: generador_pers/variables/ (stored 0%)\n",
            "  adding: generador_pers/variables/variables.index (deflated 59%)\n",
            "  adding: generador_pers/variables/variables.data-00001-of-00002 (deflated 7%)\n",
            "  adding: generador_pers/variables/variables.data-00000-of-00002 (deflated 9%)\n"
          ],
          "name": "stdout"
        }
      ]
    },
    {
      "cell_type": "code",
      "metadata": {
        "id": "5pzWjsAU2MhB",
        "colab_type": "code",
        "colab": {
          "base_uri": "https://localhost:8080/",
          "height": 36
        },
        "outputId": "3d120df7-6ec0-4326-c3c5-cc130432281e"
      },
      "source": [
        "#from shutil import copyfile\n",
        "#copyfile(\"generador_pers.zip\", \"/content/drive/My Drive/Simpsons Chat bot/Modelos guardos/generador_pers.zip\")"
      ],
      "execution_count": null,
      "outputs": [
        {
          "output_type": "execute_result",
          "data": {
            "application/vnd.google.colaboratory.intrinsic": {
              "type": "string"
            },
            "text/plain": [
              "'/content/drive/My Drive/Simpsons Chat bot/Modelos guardos/generador_pers.zip'"
            ]
          },
          "metadata": {
            "tags": []
          },
          "execution_count": 61
        }
      ]
    },
    {
      "cell_type": "markdown",
      "metadata": {
        "id": "TzZdatS42Qe8",
        "colab_type": "text"
      },
      "source": [
        "## 12. Referencias\n",
        "\n",
        "- Aprendizaje profundo, [Repositorio Ciencia-de-datos](https://github.com/AprendizajeProfundo/Ciencia-de-Datos)\n",
        "- Tensorflow, [Generación de texto con una red neuronal recurrente (RNN)](https://www.tensorflow.org/tutorials/text/text_generation)\n",
        "- Google, [Machine learning crash course](https://developers.google.com/machine-learning/crash-course/embeddings/video-lecture)"
      ]
    },
    {
      "cell_type": "code",
      "metadata": {
        "id": "hXXyfQ4R2Tvc",
        "colab_type": "code",
        "colab": {}
      },
      "source": [
        ""
      ],
      "execution_count": null,
      "outputs": []
    }
  ]
}