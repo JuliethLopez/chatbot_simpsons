{
 "cells": [
  {
   "cell_type": "markdown",
   "metadata": {
    "colab_type": "text",
    "id": "uCXA97EMKfDG"
   },
   "source": [
    "<a href=\"https://colab.research.google.com/github/JuliethLopez/chatbot_simpsons/blob/master/Copia_de_BBC_Text.ipynb\" target=\"_parent\"><img src=\"https://colab.research.google.com/assets/colab-badge.svg\" alt=\"Open In Colab\"/></a>"
   ]
  },
  {
   "cell_type": "markdown",
   "metadata": {
    "colab_type": "text",
    "id": "UMKMq626ax3b"
   },
   "source": [
    "# Clasificación usando Lenguaje Natural"
   ]
  },
  {
   "cell_type": "code",
   "execution_count": 43,
   "metadata": {
    "colab": {
     "base_uri": "https://localhost:8080/",
     "height": 34
    },
    "colab_type": "code",
    "id": "GSfreYDvYt3M",
    "outputId": "3c4eeba9-8337-43c9-ee58-125a1c423eda"
   },
   "outputs": [],
   "source": [
    "#librerias\n",
    "import csv\n",
    "import tensorflow as tf\n",
    "import numpy as np\n",
    "import matplotlib.pyplot as plt\n",
    "import pandas as pd\n",
    "import matplotlib.pylab as plt\n",
    "import nltk\n",
    "from nltk import word_tokenize\n",
    "from nltk.util import ngrams\n",
    "from tensorflow.keras.preprocessing.text import Tokenizer\n",
    "from tensorflow.keras.preprocessing.sequence import pad_sequences\n",
    "import numpy as np\n",
    "from keras import layers, backend"
   ]
  },
  {
   "cell_type": "code",
   "execution_count": null,
   "metadata": {
    "colab": {},
    "colab_type": "code",
    "id": "7SHJ2Qb5ljbU"
   },
   "outputs": [],
   "source": [
    "# pip install nltk"
   ]
  },
  {
   "cell_type": "code",
   "execution_count": null,
   "metadata": {
    "colab": {
     "base_uri": "https://localhost:8080/",
     "height": 1000
    },
    "colab_type": "code",
    "id": "fFh7bJC4lIG1",
    "outputId": "88412013-0a4c-4c3e-b3f7-30c59028f928"
   },
   "outputs": [
    {
     "name": "stdout",
     "output_type": "stream",
     "text": [
      "showing info https://raw.githubusercontent.com/nltk/nltk_data/gh-pages/index.xml\n"
     ]
    }
   ],
   "source": [
    "#nltk.download()"
   ]
  },
  {
   "cell_type": "code",
   "execution_count": 44,
   "metadata": {
    "colab": {},
    "colab_type": "code",
    "id": "DIvXeFflmGJE"
   },
   "outputs": [],
   "source": [
    "from nltk.tokenize import word_tokenize, sent_tokenize, regexp_tokenize"
   ]
  },
  {
   "cell_type": "markdown",
   "metadata": {
    "colab_type": "text",
    "id": "dLUigGjXYt3r"
   },
   "source": [
    "# Define algunas características iniciales"
   ]
  },
  {
   "cell_type": "code",
   "execution_count": 66,
   "metadata": {
    "colab": {},
    "colab_type": "code",
    "id": "EYo6A4v5ZABQ"
   },
   "outputs": [],
   "source": [
    "vocab_size = 26000 # número de palabras que integrarán el vocabulario\n",
    "embedding_dim = 32 # dimensión del embeding de las palabras\n",
    "max_length = 111  # longitud máxima de una oración (sentence filtrada con stopwords)\n",
    "trunc_type='post' # donde truncar una oración (sentence, filtrada con stopwords)\n",
    "padding_type='post'# donde hacer el padding (agregar ceros) en una oración (sentence, filtrada con stopwords)\n",
    "oov_tok = \"<OOV>\"  # token para las palabras que queden fuera del vocabulario\n",
    "training_portion = .8  # porcentaje de datos para entrenamiento"
   ]
  },
  {
   "cell_type": "code",
   "execution_count": 47,
   "metadata": {
    "colab": {
     "base_uri": "https://localhost:8080/",
     "height": 34
    },
    "colab_type": "code",
    "id": "iU1qq3_SZBx_",
    "outputId": "cd4c5dae-f957-49b2-c642-f6111469def6"
   },
   "outputs": [
    {
     "name": "stdout",
     "output_type": "stream",
     "text": [
      "0\n"
     ]
    }
   ],
   "source": [
    "complete_sentences = []\n",
    "complete_lines = [] \n",
    "sentences = []\n",
    "labels = [] # preprocesed labels\n",
    "\n",
    "stopwords = []\n",
    "print(len(stopwords))"
   ]
  },
  {
   "cell_type": "code",
   "execution_count": 48,
   "metadata": {
    "colab": {
     "base_uri": "https://localhost:8080/",
     "height": 68
    },
    "colab_type": "code",
    "id": "9QFugJkmYt4n",
    "outputId": "aacd0e84-0095-4a21-d994-45d6a3fecedf"
   },
   "outputs": [
    {
     "data": {
      "text/plain": [
       "array([' ', 'a', 'b', 'c', 'd', 'e', 'f', 'g', 'h', 'i', 'j', 'k', 'l',\n",
       "       'm', 'n', 'o', 'p', 'q', 'r', 's', 't', 'u', 'v', 'w', 'x', 'y',\n",
       "       'z'], dtype='<U1')"
      ]
     },
     "execution_count": 48,
     "metadata": {},
     "output_type": "execute_result"
    }
   ],
   "source": [
    "import string\n",
    "import numpy as np\n",
    "\n",
    "a = np.array([32]) # space\n",
    "#b = np.array(range(65,91)) # uppercase\n",
    "c = np.array(range(97,123)) # lowercase\n",
    "printab = np.hstack((a,c))\n",
    "\n",
    "printable = np.array([chr(i) for i in printab])   \n",
    "printable\n",
    "\n",
    "#ascci_to_char = dict((printab[i], printable[i]) for i in range(len(printable)))"
   ]
  },
  {
   "cell_type": "code",
   "execution_count": 49,
   "metadata": {
    "colab": {
     "base_uri": "https://localhost:8080/",
     "height": 85
    },
    "colab_type": "code",
    "id": "eutB2xMiZD0e",
    "outputId": "af5536aa-5d3c-4172-f785-73c633aab92f"
   },
   "outputs": [
    {
     "name": "stdout",
     "output_type": "stream",
     "text": [
      "69171\n",
      "69171\n",
      "69171\n",
      "69171\n"
     ]
    }
   ],
   "source": [
    "#lectura de los datos\n",
    "import string\n",
    "import re #regular expresions\n",
    "# abre el archivo de datos y lo trata como un archivo csv\n",
    "file = open('DFSMS.csv', 'r')\n",
    "with file as csvfile:\n",
    "    reader = csv.reader(csvfile, delimiter=',')\n",
    "    next(reader)\n",
    "    for row in reader:\n",
    "        # preprocess label\n",
    "        #label_l = ' '.join(row[0].split()).lower().replace(' ','_') # lower case ans eliminate multiple spaces\n",
    "        label_l = re.sub(' +', ' ',row[0].lower()) # lower case ans eliminate multiple spaces\n",
    "        if (len(label_l)>2): # drop with empty label\n",
    "            label = ''.join(c for c in label_l if c in printable)# filter only printable characters\n",
    "            label = label.replace(' ','_')\n",
    "            labels.append(label)\n",
    "            # preprocess sentence\n",
    "            #sentence_l = ' '.join(row[1].split()).lower().replace(' ','_') # lower case ans eliminate multiple spaces\n",
    "            sentence_l = re.sub(' +', ' ',row[1].lower())\n",
    "            sentence = ''.join(c for c in sentence_l if c in printable)\n",
    "            complete_lines.append(row[0] + ': '+ row[1])\n",
    "            complete_sentences.append(sentence)\n",
    "            # preprocess stopwords\n",
    "            for word in stopwords:\n",
    "                token = \" \" + word + \" \"\n",
    "                sentence = sentence.replace(token, \" \")\n",
    "            sentences.append(sentence)\n",
    " \n",
    "\n",
    "# resumen de la lectura            \n",
    "print(len(labels))\n",
    "print(len(complete_sentences))\n",
    "print(len(complete_lines))\n",
    "print(len(sentences))\n"
   ]
  },
  {
   "cell_type": "code",
   "execution_count": 50,
   "metadata": {
    "colab": {
     "base_uri": "https://localhost:8080/",
     "height": 153
    },
    "colab_type": "code",
    "id": "mHP5HqP4Yt5U",
    "outputId": "49d86cab-b338-4fd2-d3d7-0783dab3edb0"
   },
   "outputs": [
    {
     "name": "stdout",
     "output_type": "stream",
     "text": [
      "lisa_simpson\n",
      "\n",
      "wheres mr bergstrom\n",
      "\n",
      "Lisa Simpson: Where's Mr. Bergstrom?\n",
      "\n",
      "wheres mr bergstrom\n",
      "\n"
     ]
    }
   ],
   "source": [
    "# Primera linea\n",
    "print(labels[0]+'\\n')\n",
    "print(complete_sentences[0]+'\\n')\n",
    "print(complete_lines[0]+'\\n')\n",
    "print(sentences[0]+'\\n')\n"
   ]
  },
  {
   "cell_type": "code",
   "execution_count": 51,
   "metadata": {
    "colab": {
     "base_uri": "https://localhost:8080/",
     "height": 281
    },
    "colab_type": "code",
    "id": "djFPe1k6pOp9",
    "outputId": "28e32685-b217-4dca-c4d6-3b71e9d53ae2"
   },
   "outputs": [
    {
     "data": {
      "image/png": "[encoded data removed]",
      "text/plain": [
       "<Figure size 432x288 with 1 Axes>"
      ]
     },
     "metadata": {
      "needs_background": "light"
     },
     "output_type": "display_data"
    }
   ],
   "source": [
    "#Gráfico de barras de numero de frases por personaje\n",
    "frec = pd.value_counts(labels)\n",
    "plot = frec.plot(kind='barh',title='Numero de frases por personaje',color=['deepskyblue','orangered','darkkhaki','gold'])"
   ]
  },
  {
   "cell_type": "code",
   "execution_count": 52,
   "metadata": {
    "colab": {
     "base_uri": "https://localhost:8080/",
     "height": 85
    },
    "colab_type": "code",
    "id": "6Vqqx5Q2Yt5q",
    "outputId": "6a549ef3-4c0e-452c-aaf4-3cff527ed584"
   },
   "outputs": [
    {
     "data": {
      "text/plain": [
       "['wheres mr bergstrom',\n",
       " 'that life is worth living',\n",
       " 'victory party under the slide',\n",
       " 'mr bergstrom mr bergstrom']"
      ]
     },
     "execution_count": 52,
     "metadata": {},
     "output_type": "execute_result"
    }
   ],
   "source": [
    "sentences[:4]"
   ]
  },
  {
   "cell_type": "markdown",
   "metadata": {
    "colab_type": "text",
    "id": "QH4k5vkXYt6B"
   },
   "source": [
    "# Separa datos de entrenamiento y validación "
   ]
  },
  {
   "cell_type": "code",
   "execution_count": 53,
   "metadata": {
    "colab": {
     "base_uri": "https://localhost:8080/",
     "height": 102
    },
    "colab_type": "code",
    "id": "XfdaWh06ZGe3",
    "outputId": "14f4fe1a-edc7-4178-cbaf-2240a7f4cf4b"
   },
   "outputs": [
    {
     "name": "stdout",
     "output_type": "stream",
     "text": [
      "55336\n",
      "69171\n",
      "69171\n"
     ]
    }
   ],
   "source": [
    "train_size = int(len(sentences) * training_portion)\n",
    "\n",
    "#train_sentences = sentences[:train_size]\n",
    "train_sentences = sentences\n",
    "#train_labels = labels[:train_size]\n",
    "train_labels = labels\n",
    "\n",
    "#validation_sentences = sentences[train_size:]\n",
    "#validation_labels = labels[train_size:]\n",
    "\n",
    "print(train_size)\n",
    "print(len(train_sentences))\n",
    "print(len(train_labels))\n",
    "#print(len(validation_sentences))\n",
    "#print(len(validation_labels))\n",
    "\n"
   ]
  },
  {
   "cell_type": "code",
   "execution_count": 54,
   "metadata": {
    "colab": {
     "base_uri": "https://localhost:8080/",
     "height": 68
    },
    "colab_type": "code",
    "id": "eN2cwKFrZL6v",
    "outputId": "2a1a4807-dab6-4ba8-d97c-89bc82cfb20d"
   },
   "outputs": [
    {
     "data": {
      "text/plain": [
       "['wheres mr bergstrom',\n",
       " 'that life is worth living',\n",
       " 'victory party under the slide']"
      ]
     },
     "execution_count": 54,
     "metadata": {},
     "output_type": "execute_result"
    }
   ],
   "source": [
    "train_sentences[:3]"
   ]
  },
  {
   "cell_type": "code",
   "execution_count": 55,
   "metadata": {
    "colab": {
     "base_uri": "https://localhost:8080/",
     "height": 34
    },
    "colab_type": "code",
    "id": "Nfk2wm03nVPG",
    "outputId": "57f00fd9-3726-40b5-d9e4-7f2949bd287c"
   },
   "outputs": [
    {
     "data": {
      "text/plain": [
       "['lisa_simpson', 'lisa_simpson', 'bart_simpson']"
      ]
     },
     "execution_count": 55,
     "metadata": {},
     "output_type": "execute_result"
    }
   ],
   "source": [
    "train_labels[:3]"
   ]
  },
  {
   "cell_type": "markdown",
   "metadata": {
    "colab_type": "text",
    "id": "N_E4h9j8Mh90"
   },
   "source": [
    "# Tokens"
   ]
  },
  {
   "cell_type": "code",
   "execution_count": 57,
   "metadata": {
    "colab": {},
    "colab_type": "code",
    "id": "Nos0q123nKks"
   },
   "outputs": [],
   "source": [
    "#Juntamos todo el texto en una sola linea\n",
    "wordtk = ' '.join(train_sentences)"
   ]
  },
  {
   "cell_type": "code",
   "execution_count": 58,
   "metadata": {
    "colab": {
     "base_uri": "https://localhost:8080/",
     "height": 187
    },
    "colab_type": "code",
    "id": "NDnhdpM1nk3J",
    "outputId": "98fbf778-6e5d-4093-f8d8-a5310b2f031e"
   },
   "outputs": [
    {
     "data": {
      "text/plain": [
       "['wheres',\n",
       " 'mr',\n",
       " 'bergstrom',\n",
       " 'that',\n",
       " 'life',\n",
       " 'is',\n",
       " 'worth',\n",
       " 'living',\n",
       " 'victory',\n",
       " 'party']"
      ]
     },
     "execution_count": 58,
     "metadata": {},
     "output_type": "execute_result"
    }
   ],
   "source": [
    "#Para dividir las frases\n",
    "tokenstk = regexp_tokenize(wordtk, pattern=\"\\w+\")\n",
    "tokenstk[:10]"
   ]
  },
  {
   "cell_type": "code",
   "execution_count": 59,
   "metadata": {
    "colab": {
     "base_uri": "https://localhost:8080/",
     "height": 102
    },
    "colab_type": "code",
    "id": "VcVViOPkpFh0",
    "outputId": "046bcce1-060c-48d9-8a70-c1db98f84e21"
   },
   "outputs": [
    {
     "data": {
      "text/plain": [
       "['wheres mr bergstrom',\n",
       " 'mr bergstrom that',\n",
       " 'bergstrom that life',\n",
       " 'that life is',\n",
       " 'life is worth']"
      ]
     },
     "execution_count": 59,
     "metadata": {},
     "output_type": "execute_result"
    }
   ],
   "source": [
    "#para generar n-gramas\n",
    "from nltk.util import ngrams\n",
    "trigrama = ngrams(tokenstk,3)\n",
    "trigrama = [' '.join(grams) for grams in trigrama]\n",
    "trigrama[:5]"
   ]
  },
  {
   "cell_type": "code",
   "execution_count": 60,
   "metadata": {
    "colab": {
     "base_uri": "https://localhost:8080/",
     "height": 34
    },
    "colab_type": "code",
    "id": "e1ep8d4qw3-m",
    "outputId": "70d877c8-249b-4051-d483-e41136ada6f3"
   },
   "outputs": [
    {
     "data": {
      "text/plain": [
       "600573"
      ]
     },
     "execution_count": 60,
     "metadata": {},
     "output_type": "execute_result"
    }
   ],
   "source": [
    "len(trigrama)"
   ]
  },
  {
   "cell_type": "code",
   "execution_count": 61,
   "metadata": {
    "colab": {
     "base_uri": "https://localhost:8080/",
     "height": 354
    },
    "colab_type": "code",
    "id": "LeHOcU_QpIDx",
    "outputId": "6014de7b-cf4a-415d-aff5-0af67cd5e8a6"
   },
   "outputs": [
    {
     "data": {
      "image/png": "[encoded data removed]",
      "text/plain": [
       "<Figure size 432x288 with 1 Axes>"
      ]
     },
     "metadata": {
      "needs_background": "light"
     },
     "output_type": "display_data"
    },
    {
     "data": {
      "text/plain": [
       "<matplotlib.axes._subplots.AxesSubplot at 0x7fd45d95e510>"
      ]
     },
     "execution_count": 61,
     "metadata": {},
     "output_type": "execute_result"
    }
   ],
   "source": [
    "#Gráfica con los trigramas\n",
    "\n",
    "freq = nltk.FreqDist(trigrama) #Frecuencia de los tokens\n",
    "freqnew = [] #Filtramos tokens que se repiten mas de una vez\n",
    "for key,val in freq.items():\n",
    "  if (val>1):\n",
    "    freqnew.append(str(key))\n",
    "freq.plot(20, cumulative=False, title = \"Trigrama\")"
   ]
  },
  {
   "cell_type": "code",
   "execution_count": 17,
   "metadata": {
    "colab": {
     "base_uri": "https://localhost:8080/",
     "height": 34
    },
    "colab_type": "code",
    "id": "TzMGVnREwnXl",
    "outputId": "c43ee6c2-dd2f-43ed-e20e-a98271a90012"
   },
   "outputs": [
    {
     "data": {
      "text/plain": [
       "37069"
      ]
     },
     "execution_count": 17,
     "metadata": {},
     "output_type": "execute_result"
    }
   ],
   "source": [
    "#len(freqnew)"
   ]
  },
  {
   "cell_type": "markdown",
   "metadata": {
    "colab_type": "text",
    "id": "yoa0aOJzYt6c"
   },
   "source": [
    "# Vocabulario"
   ]
  },
  {
   "cell_type": "code",
   "execution_count": 62,
   "metadata": {
    "colab": {},
    "colab_type": "code",
    "id": "AxpPLJ8j6sJL"
   },
   "outputs": [],
   "source": [
    "corpus=train_sentences"
   ]
  },
  {
   "cell_type": "code",
   "execution_count": 63,
   "metadata": {
    "colab": {},
    "colab_type": "code",
    "id": "6GWOtF127tV2"
   },
   "outputs": [],
   "source": [
    "tokenizer=Tokenizer()"
   ]
  },
  {
   "cell_type": "code",
   "execution_count": 64,
   "metadata": {
    "colab": {},
    "colab_type": "code",
    "id": "mWbMivk87elq"
   },
   "outputs": [],
   "source": [
    "tokenizer.fit_on_texts(corpus)"
   ]
  },
  {
   "cell_type": "code",
   "execution_count": 67,
   "metadata": {
    "colab": {
     "base_uri": "https://localhost:8080/",
     "height": 34
    },
    "colab_type": "code",
    "id": "SnoyWUoa7wZ5",
    "outputId": "42551b65-6409-43bd-c834-3e67f261f8c1"
   },
   "outputs": [
    {
     "name": "stdout",
     "output_type": "stream",
     "text": [
      "26000\n"
     ]
    }
   ],
   "source": [
    "total_words = len(tokenizer.word_index)+1\n",
    "print(total_words)\n"
   ]
  },
  {
   "cell_type": "code",
   "execution_count": 69,
   "metadata": {
    "colab": {
     "base_uri": "https://localhost:8080/",
     "height": 71
    },
    "colab_type": "code",
    "id": "I_8f0qe07-Us",
    "outputId": "98c4d0c4-8422-45f1-80d9-5875bba752a5"
   },
   "outputs": [],
   "source": [
    "#print('Dictionary: ',tokenizer.word_index,'\\n')"
   ]
  },
  {
   "cell_type": "code",
   "execution_count": 70,
   "metadata": {
    "colab": {
     "base_uri": "https://localhost:8080/",
     "height": 51
    },
    "colab_type": "code",
    "id": "BfbZ9-xT8CA1",
    "outputId": "b823a921-e08e-4b99-84fb-79006aa98231"
   },
   "outputs": [
    {
     "name": "stdout",
     "output_type": "stream",
     "text": [
      "Total Words in the Tokenizer (+OOV) = 26000 \n",
      "\n"
     ]
    }
   ],
   "source": [
    "print('Total Words in the Tokenizer (+OOV) =',total_words,'\\n')"
   ]
  },
  {
   "cell_type": "code",
   "execution_count": 71,
   "metadata": {
    "colab": {
     "base_uri": "https://localhost:8080/",
     "height": 221
    },
    "colab_type": "code",
    "id": "gqk3tIIb8LZA",
    "outputId": "e30c3058-929b-4d2e-e890-5ba8d0aeb0dc"
   },
   "outputs": [
    {
     "name": "stdout",
     "output_type": "stream",
     "text": [
      "Corpus: \n",
      "\n"
     ]
    },
    {
     "data": {
      "text/plain": [
       "['wheres mr bergstrom',\n",
       " 'that life is worth living',\n",
       " 'victory party under the slide',\n",
       " 'mr bergstrom mr bergstrom',\n",
       " 'do you know where i could find him',\n",
       " 'the train how like him traditional yet environmentally sound',\n",
       " 'i see he touched you too',\n",
       " 'hey thanks for your vote man',\n",
       " 'well you got that right thanks for your vote girls',\n",
       " 'well dont sweat it just so long as a couple of people did right milhouse']"
      ]
     },
     "execution_count": 71,
     "metadata": {},
     "output_type": "execute_result"
    }
   ],
   "source": [
    "print('Corpus: \\n')\n",
    "corpus[0:10]"
   ]
  },
  {
   "cell_type": "code",
   "execution_count": 72,
   "metadata": {
    "colab": {
     "base_uri": "https://localhost:8080/",
     "height": 102
    },
    "colab_type": "code",
    "id": "GiMWlNtG8Ssa",
    "outputId": "734dc3a4-e522-4e0c-ce21-688b02dd8818"
   },
   "outputs": [
    {
     "name": "stdout",
     "output_type": "stream",
     "text": [
      "116\n",
      "577\n",
      "530\n",
      "133\n",
      "202\n"
     ]
    }
   ],
   "source": [
    "print(tokenizer.word_index['where'])\n",
    "print(tokenizer.word_index['living'])\n",
    "print(tokenizer.word_index['girls'])\n",
    "print(tokenizer.word_index['people'])\n",
    "print(tokenizer.word_index['thanks'])"
   ]
  },
  {
   "cell_type": "code",
   "execution_count": 73,
   "metadata": {
    "colab": {},
    "colab_type": "code",
    "id": "FVaghBdn8c-v"
   },
   "outputs": [],
   "source": [
    "test_seq = []"
   ]
  },
  {
   "cell_type": "code",
   "execution_count": 74,
   "metadata": {
    "colab": {
     "base_uri": "https://localhost:8080/",
     "height": 51
    },
    "colab_type": "code",
    "id": "rQf18V6T8j9I",
    "outputId": "48321e17-7451-4492-f4a3-e40da438f289"
   },
   "outputs": [
    {
     "name": "stdout",
     "output_type": "stream",
     "text": [
      "First Line =  wheres mr bergstrom \n",
      "\n"
     ]
    }
   ],
   "source": [
    "print('First Line = ',corpus[0],'\\n')"
   ]
  },
  {
   "cell_type": "code",
   "execution_count": 75,
   "metadata": {
    "colab": {
     "base_uri": "https://localhost:8080/",
     "height": 51
    },
    "colab_type": "code",
    "id": "qQs4QRZu8pV0",
    "outputId": "ea4a067a-5b29-42a7-d645-1622769f432e"
   },
   "outputs": [
    {
     "name": "stdout",
     "output_type": "stream",
     "text": [
      "First Line into Sequence = [361, 146, 2229] \n",
      "\n"
     ]
    }
   ],
   "source": [
    "token_test=tokenizer.texts_to_sequences([corpus[0]])[0]\n",
    "print('First Line into Sequence =',token_test,'\\n')"
   ]
  },
  {
   "cell_type": "code",
   "execution_count": 100,
   "metadata": {
    "colab": {
     "base_uri": "https://localhost:8080/",
     "height": 289
    },
    "colab_type": "code",
    "id": "89vkZ_ap9qCl",
    "outputId": "e0c5a016-2654-4964-8d87-c3b74a9de021"
   },
   "outputs": [
    {
     "name": "stdout",
     "output_type": "stream",
     "text": [
      "First Line =  wheres mr bergstrom \n",
      "\n",
      "First Line into Sequence = [361, 146, 2229] \n",
      "\n",
      "n-gram = [361, 146]\n",
      "sequence =  [[361, 146]] \n",
      "\n",
      "n-gram = [361, 146, 2229]\n",
      "sequence =  [[361, 146], [361, 146, 2229]] \n",
      "\n",
      "Final n-gram Data:\n",
      "\n",
      " [[   0  361  146]\n",
      " [ 361  146 2229]] \n",
      "\n",
      "Shape of Data:  (2, 3)\n"
     ]
    }
   ],
   "source": [
    "# Ejemplo:\n",
    "# wheres mr bergstrom \n",
    "\n",
    "test_seq = []\n",
    "\n",
    "# Primera línea en el corpus\n",
    "print('First Line = ',corpus[0],'\\n')\n",
    "\n",
    "# Transforma la primera línea del corpus en secuencias deacuerdo con el diccionario\n",
    "\n",
    "token_test=tokenizer.texts_to_sequences([corpus[0]])[0]\n",
    "print('First Line into Sequence =',token_test,'\\n')\n",
    "\n",
    "# Crea fragmentos de la línea y crea los datos por piezas ordenadas\n",
    "for j in range(1, len(token_test)):\n",
    "  # Iterador sobre los elementos de la línea.\n",
    "  n_gram_test=token_test[:j+1]\n",
    "  print('n-gram =',n_gram_test)\n",
    "  # Añade todos los resultados secuenciales\n",
    "  test_seq.append(n_gram_test)\n",
    "  print('sequence = ',test_seq,'\\n')\n",
    "\n",
    "# Determina el n-grama más extenso\n",
    "max_seq_test_len = max([len(x) for x in test_seq])\n",
    "# Relleno\n",
    "test_seq = np.array(pad_sequences(test_seq, maxlen=max_seq_test_len, padding='pre'))\n",
    "print(\"Final n-gram Data:\\n\\n\",  test_seq,'\\n')\n",
    "print('Shape of Data: ',np.shape(test_seq))"
   ]
  },
  {
   "cell_type": "code",
   "execution_count": 79,
   "metadata": {
    "colab": {
     "base_uri": "https://localhost:8080/",
     "height": 34
    },
    "colab_type": "code",
    "id": "A9QY0RY3-nBU",
    "outputId": "836368c2-ff44-42bc-ea1e-eab930ef8d42"
   },
   "outputs": [],
   "source": [
    "# Crear la secuencia de texto para crear datos de entrenamiento \n",
    "\n",
    "input_sequences = []\n",
    "for line in corpus:\n",
    "  token_list = tokenizer.texts_to_sequences([line])[0]\n",
    "  for i in range(1, len(token_list)):\n",
    "    n_gram_sequence = token_list[:i+1]\n",
    "    input_sequences.append(n_gram_sequence)\n",
    "    \n",
    "\n",
    "# Relleno\n",
    "\n",
    "max_sequence_len = max([len(x) for x in input_sequences])\n",
    "input_sequences = np.array(pad_sequences(input_sequences, maxlen=max_sequence_len, padding='pre'))\n",
    "\n",
    "# Cree predictores y etiquetas (las etiquetas son la palabra final de cada secuencia. Ex: Datos: wheres mr bergstrom, Personaje: )\n",
    "\n",
    "xs = input_sequences[:,:-1]\n",
    "label_size = 500\n",
    "label_tokenizer = Tokenizer(num_words = label_size,oov_token=oov_tok, filters = '')\n",
    "label_tokenizer.fit_on_texts(labels)\n",
    "label_seq = np.array(label_tokenizer.texts_to_sequences(labels))\n",
    "training_label_seq = np.array(label_tokenizer.texts_to_sequences(train_labels))\n",
    "\n",
    "# flatten the nested list and tranaform to an np array\n",
    "label_seq = np.array([item for items in label_seq for item in items])\n",
    "training_label_seq = np.array([item for items in training_label_seq for item in items])\n",
    "\n",
    "from sklearn. preprocessing import LabelEncoder\n",
    "#preprocessing.LabelEncoder()\n",
    "encoder = LabelEncoder()\n",
    "\n",
    "encoder.fit(label_seq)\n",
    "y_train = encoder.transform(training_label_seq)\n",
    "num_classes = np.max(y_train) + 1\n",
    "\n"
   ]
  },
  {
   "cell_type": "code",
   "execution_count": 124,
   "metadata": {},
   "outputs": [
    {
     "name": "stdout",
     "output_type": "stream",
     "text": [
      "[   0    0    0    0    0    0    0    0    0    0    0    0    0    0\n",
      "    0    0    0    0    0    0    0    0    0    0    0    0    0    0\n",
      "    0    0    0    0    0    0    0    0    0    0    0    0    0    0\n",
      "    0    0    0    0    0    0    0    0    0    0    0    0    0    0\n",
      "    0    0    0    0    0    0    0    0    0    0    0    0    0    0\n",
      "    0    0    0    0    0    0    0    0    0    0    0    0    0    0\n",
      "    0    0    0    0    0    0    0    0    0    0    0    0    0    0\n",
      "    0    0    0    0    0    0    0    0    0    0 2305  375  513]\n"
     ]
    }
   ],
   "source": [
    "print(input_sequences[7])"
   ]
  },
  {
   "cell_type": "code",
   "execution_count": 112,
   "metadata": {},
   "outputs": [
    {
     "name": "stdout",
     "output_type": "stream",
     "text": [
      "[ 146 2229  160 ...  409    2  333]\n"
     ]
    }
   ],
   "source": [
    "labels=input_sequences[:,-1]\n",
    "print(labels)"
   ]
  },
  {
   "cell_type": "code",
   "execution_count": 80,
   "metadata": {
    "colab": {
     "base_uri": "https://localhost:8080/",
     "height": 317
    },
    "colab_type": "code",
    "id": "dY7bkXR5I6SH",
    "outputId": "53c87d1a-35e1-480c-e1bc-36982917c526"
   },
   "outputs": [],
   "source": [
    " # Codificación One-Hot \n",
    "\n",
    "ys = tf.keras.utils.to_categorical(y_train, num_classes)"
   ]
  },
  {
   "cell_type": "code",
   "execution_count": 98,
   "metadata": {},
   "outputs": [
    {
     "name": "stdout",
     "output_type": "stream",
     "text": [
      "[[   0    0    0 ...    0  361  146]\n",
      " [   0    0    0 ...  361  146 2229]\n",
      " [   0    0    0 ...    0    9  160]\n",
      " ...\n",
      " [   0    0    0 ...   22    8  409]\n",
      " [   0    0    0 ...    8  409    2]\n",
      " [   0    0    0 ...  409    2  333]]\n"
     ]
    }
   ],
   "source": [
    "print(input_sequences)"
   ]
  },
  {
   "cell_type": "code",
   "execution_count": 96,
   "metadata": {},
   "outputs": [
    {
     "data": {
      "text/plain": [
       "69171"
      ]
     },
     "execution_count": 96,
     "metadata": {},
     "output_type": "execute_result"
    }
   ],
   "source": [
    "len(ys)"
   ]
  },
  {
   "cell_type": "code",
   "execution_count": 81,
   "metadata": {},
   "outputs": [
    {
     "name": "stdout",
     "output_type": "stream",
     "text": [
      "wheres mr bergstrom \n",
      "\n",
      "[  0   0   0   0   0   0   0   0   0   0   0   0   0   0   0   0   0   0\n",
      "   0   0   0   0   0   0   0   0   0   0   0   0   0   0   0   0   0   0\n",
      "   0   0   0   0   0   0   0   0   0   0   0   0   0   0   0   0   0   0\n",
      "   0   0   0   0   0   0   0   0   0   0   0   0   0   0   0   0   0   0\n",
      "   0   0   0   0   0   0   0   0   0   0   0   0   0   0   0   0   0   0\n",
      "   0   0   0   0   0   0   0   0   0   0   0   0   0   0   0   0   0   0\n",
      "   9 160] -> lisa_simpson \n",
      "\n",
      "One Hot Encoding:\n",
      "\n",
      " [0. 0. 0. 1.]\n"
     ]
    }
   ],
   "source": [
    "# Example \n",
    "print(corpus[0],'\\n')\n",
    "print(xs[3],'->',labels[3],'\\n')\n",
    "print('One Hot Encoding:\\n\\n',ys[3])"
   ]
  },
  {
   "cell_type": "code",
   "execution_count": 82,
   "metadata": {},
   "outputs": [],
   "source": [
    "# Tensor Management\n",
    "import tensorflow as tf\n",
    "# For Padding\n",
    "from tensorflow.keras.preprocessing.sequence import pad_sequences\n",
    "# For Different Types of RNN\n",
    "from tensorflow.keras.layers import Embedding, LSTM, Dense, Bidirectional\n",
    "# For Tokenizer\n",
    "from tensorflow.keras.preprocessing.text import Tokenizer\n",
    "# Sequential DNN\n",
    "from tensorflow.keras.models import Sequential\n",
    "# Array Management\n",
    "import numpy as np"
   ]
  },
  {
   "cell_type": "code",
   "execution_count": 94,
   "metadata": {},
   "outputs": [
    {
     "name": "stdout",
     "output_type": "stream",
     "text": [
      "Model: \"sequential_6\"\n",
      "_________________________________________________________________\n",
      "Layer (type)                 Output Shape              Param #   \n",
      "=================================================================\n",
      "embedding_6 (Embedding)      (None, 110, 32)           832000    \n",
      "_________________________________________________________________\n",
      "bidirectional_6 (Bidirection (None, 40)                8480      \n",
      "_________________________________________________________________\n",
      "dense_8 (Dense)              (None, 120)               4920      \n",
      "_________________________________________________________________\n",
      "dense_9 (Dense)              (None, 4)                 484       \n",
      "=================================================================\n",
      "Total params: 845,884\n",
      "Trainable params: 845,884\n",
      "Non-trainable params: 0\n",
      "_________________________________________________________________\n"
     ]
    }
   ],
   "source": [
    "model = Sequential()\n",
    "model.add(Embedding(total_words, 32, input_length = max_sequence_len-1))\n",
    "model.add(Bidirectional(LSTM(20)))\n",
    "model.add(Dense(120,activation='relu'))\n",
    "model.add(Dense(num_classes,activation='softmax'))\n",
    "model.compile(loss='categorical_crossentropy', optimizer='adam', metrics =['accuracy'])\n",
    "model.summary()"
   ]
  },
  {
   "cell_type": "code",
   "execution_count": 92,
   "metadata": {},
   "outputs": [
    {
     "ename": "ValueError",
     "evalue": "Input arrays should have the same number of samples as target arrays. Found 535815 input samples and 69171 target samples.",
     "output_type": "error",
     "traceback": [
      "\u001b[0;31m---------------------------------------------------------------------------\u001b[0m",
      "\u001b[0;31mValueError\u001b[0m                                Traceback (most recent call last)",
      "\u001b[0;32m<ipython-input-92-3193d094209e>\u001b[0m in \u001b[0;36m<module>\u001b[0;34m\u001b[0m\n\u001b[0;32m----> 1\u001b[0;31m \u001b[0mhistory\u001b[0m \u001b[0;34m=\u001b[0m \u001b[0mmodel\u001b[0m\u001b[0;34m.\u001b[0m\u001b[0mfit\u001b[0m\u001b[0;34m(\u001b[0m\u001b[0mxs\u001b[0m\u001b[0;34m,\u001b[0m\u001b[0mys\u001b[0m\u001b[0;34m,\u001b[0m\u001b[0mepochs\u001b[0m\u001b[0;34m=\u001b[0m\u001b[0;36m20\u001b[0m\u001b[0;34m,\u001b[0m\u001b[0mverbose\u001b[0m\u001b[0;34m=\u001b[0m\u001b[0;32mTrue\u001b[0m\u001b[0;34m)\u001b[0m\u001b[0;34m\u001b[0m\u001b[0;34m\u001b[0m\u001b[0m\n\u001b[0m",
      "\u001b[0;32m/opt/anaconda3/envs/tensorflow-sessions/lib/python3.7/site-packages/tensorflow_core/python/keras/engine/training.py\u001b[0m in \u001b[0;36mfit\u001b[0;34m(self, x, y, batch_size, epochs, verbose, callbacks, validation_split, validation_data, shuffle, class_weight, sample_weight, initial_epoch, steps_per_epoch, validation_steps, validation_freq, max_queue_size, workers, use_multiprocessing, **kwargs)\u001b[0m\n\u001b[1;32m    726\u001b[0m         \u001b[0mmax_queue_size\u001b[0m\u001b[0;34m=\u001b[0m\u001b[0mmax_queue_size\u001b[0m\u001b[0;34m,\u001b[0m\u001b[0;34m\u001b[0m\u001b[0;34m\u001b[0m\u001b[0m\n\u001b[1;32m    727\u001b[0m         \u001b[0mworkers\u001b[0m\u001b[0;34m=\u001b[0m\u001b[0mworkers\u001b[0m\u001b[0;34m,\u001b[0m\u001b[0;34m\u001b[0m\u001b[0;34m\u001b[0m\u001b[0m\n\u001b[0;32m--> 728\u001b[0;31m         use_multiprocessing=use_multiprocessing)\n\u001b[0m\u001b[1;32m    729\u001b[0m \u001b[0;34m\u001b[0m\u001b[0m\n\u001b[1;32m    730\u001b[0m   def evaluate(self,\n",
      "\u001b[0;32m/opt/anaconda3/envs/tensorflow-sessions/lib/python3.7/site-packages/tensorflow_core/python/keras/engine/training_v2.py\u001b[0m in \u001b[0;36mfit\u001b[0;34m(self, model, x, y, batch_size, epochs, verbose, callbacks, validation_split, validation_data, shuffle, class_weight, sample_weight, initial_epoch, steps_per_epoch, validation_steps, validation_freq, **kwargs)\u001b[0m\n\u001b[1;32m    222\u001b[0m           \u001b[0mvalidation_data\u001b[0m\u001b[0;34m=\u001b[0m\u001b[0mvalidation_data\u001b[0m\u001b[0;34m,\u001b[0m\u001b[0;34m\u001b[0m\u001b[0;34m\u001b[0m\u001b[0m\n\u001b[1;32m    223\u001b[0m           \u001b[0mvalidation_steps\u001b[0m\u001b[0;34m=\u001b[0m\u001b[0mvalidation_steps\u001b[0m\u001b[0;34m,\u001b[0m\u001b[0;34m\u001b[0m\u001b[0;34m\u001b[0m\u001b[0m\n\u001b[0;32m--> 224\u001b[0;31m           distribution_strategy=strategy)\n\u001b[0m\u001b[1;32m    225\u001b[0m \u001b[0;34m\u001b[0m\u001b[0m\n\u001b[1;32m    226\u001b[0m       \u001b[0mtotal_samples\u001b[0m \u001b[0;34m=\u001b[0m \u001b[0m_get_total_number_of_samples\u001b[0m\u001b[0;34m(\u001b[0m\u001b[0mtraining_data_adapter\u001b[0m\u001b[0;34m)\u001b[0m\u001b[0;34m\u001b[0m\u001b[0;34m\u001b[0m\u001b[0m\n",
      "\u001b[0;32m/opt/anaconda3/envs/tensorflow-sessions/lib/python3.7/site-packages/tensorflow_core/python/keras/engine/training_v2.py\u001b[0m in \u001b[0;36m_process_training_inputs\u001b[0;34m(model, x, y, batch_size, epochs, sample_weights, class_weights, steps_per_epoch, validation_split, validation_data, validation_steps, shuffle, distribution_strategy, max_queue_size, workers, use_multiprocessing)\u001b[0m\n\u001b[1;32m    545\u001b[0m         \u001b[0mmax_queue_size\u001b[0m\u001b[0;34m=\u001b[0m\u001b[0mmax_queue_size\u001b[0m\u001b[0;34m,\u001b[0m\u001b[0;34m\u001b[0m\u001b[0;34m\u001b[0m\u001b[0m\n\u001b[1;32m    546\u001b[0m         \u001b[0mworkers\u001b[0m\u001b[0;34m=\u001b[0m\u001b[0mworkers\u001b[0m\u001b[0;34m,\u001b[0m\u001b[0;34m\u001b[0m\u001b[0;34m\u001b[0m\u001b[0m\n\u001b[0;32m--> 547\u001b[0;31m         use_multiprocessing=use_multiprocessing)\n\u001b[0m\u001b[1;32m    548\u001b[0m     \u001b[0mval_adapter\u001b[0m \u001b[0;34m=\u001b[0m \u001b[0;32mNone\u001b[0m\u001b[0;34m\u001b[0m\u001b[0;34m\u001b[0m\u001b[0m\n\u001b[1;32m    549\u001b[0m     \u001b[0;32mif\u001b[0m \u001b[0mvalidation_data\u001b[0m\u001b[0;34m:\u001b[0m\u001b[0;34m\u001b[0m\u001b[0;34m\u001b[0m\u001b[0m\n",
      "\u001b[0;32m/opt/anaconda3/envs/tensorflow-sessions/lib/python3.7/site-packages/tensorflow_core/python/keras/engine/training_v2.py\u001b[0m in \u001b[0;36m_process_inputs\u001b[0;34m(model, x, y, batch_size, epochs, sample_weights, class_weights, shuffle, steps, distribution_strategy, max_queue_size, workers, use_multiprocessing)\u001b[0m\n\u001b[1;32m    592\u001b[0m         \u001b[0mbatch_size\u001b[0m\u001b[0;34m=\u001b[0m\u001b[0mbatch_size\u001b[0m\u001b[0;34m,\u001b[0m\u001b[0;34m\u001b[0m\u001b[0;34m\u001b[0m\u001b[0m\n\u001b[1;32m    593\u001b[0m         \u001b[0mcheck_steps\u001b[0m\u001b[0;34m=\u001b[0m\u001b[0;32mFalse\u001b[0m\u001b[0;34m,\u001b[0m\u001b[0;34m\u001b[0m\u001b[0;34m\u001b[0m\u001b[0m\n\u001b[0;32m--> 594\u001b[0;31m         steps=steps)\n\u001b[0m\u001b[1;32m    595\u001b[0m   adapter = adapter_cls(\n\u001b[1;32m    596\u001b[0m       \u001b[0mx\u001b[0m\u001b[0;34m,\u001b[0m\u001b[0;34m\u001b[0m\u001b[0;34m\u001b[0m\u001b[0m\n",
      "\u001b[0;32m/opt/anaconda3/envs/tensorflow-sessions/lib/python3.7/site-packages/tensorflow_core/python/keras/engine/training.py\u001b[0m in \u001b[0;36m_standardize_user_data\u001b[0;34m(self, x, y, sample_weight, class_weight, batch_size, check_steps, steps_name, steps, validation_split, shuffle, extract_tensors_from_dataset)\u001b[0m\n\u001b[1;32m   2532\u001b[0m       \u001b[0;31m# Check that all arrays have the same length.\u001b[0m\u001b[0;34m\u001b[0m\u001b[0;34m\u001b[0m\u001b[0;34m\u001b[0m\u001b[0m\n\u001b[1;32m   2533\u001b[0m       \u001b[0;32mif\u001b[0m \u001b[0;32mnot\u001b[0m \u001b[0mself\u001b[0m\u001b[0;34m.\u001b[0m\u001b[0m_distribution_strategy\u001b[0m\u001b[0;34m:\u001b[0m\u001b[0;34m\u001b[0m\u001b[0;34m\u001b[0m\u001b[0m\n\u001b[0;32m-> 2534\u001b[0;31m         \u001b[0mtraining_utils\u001b[0m\u001b[0;34m.\u001b[0m\u001b[0mcheck_array_lengths\u001b[0m\u001b[0;34m(\u001b[0m\u001b[0mx\u001b[0m\u001b[0;34m,\u001b[0m \u001b[0my\u001b[0m\u001b[0;34m,\u001b[0m \u001b[0msample_weights\u001b[0m\u001b[0;34m)\u001b[0m\u001b[0;34m\u001b[0m\u001b[0;34m\u001b[0m\u001b[0m\n\u001b[0m\u001b[1;32m   2535\u001b[0m         \u001b[0;32mif\u001b[0m \u001b[0mself\u001b[0m\u001b[0;34m.\u001b[0m\u001b[0m_is_graph_network\u001b[0m \u001b[0;32mand\u001b[0m \u001b[0;32mnot\u001b[0m \u001b[0mself\u001b[0m\u001b[0;34m.\u001b[0m\u001b[0mrun_eagerly\u001b[0m\u001b[0;34m:\u001b[0m\u001b[0;34m\u001b[0m\u001b[0;34m\u001b[0m\u001b[0m\n\u001b[1;32m   2536\u001b[0m           \u001b[0;31m# Additional checks to avoid users mistakenly using improper loss fns.\u001b[0m\u001b[0;34m\u001b[0m\u001b[0;34m\u001b[0m\u001b[0;34m\u001b[0m\u001b[0m\n",
      "\u001b[0;32m/opt/anaconda3/envs/tensorflow-sessions/lib/python3.7/site-packages/tensorflow_core/python/keras/engine/training_utils.py\u001b[0m in \u001b[0;36mcheck_array_lengths\u001b[0;34m(inputs, targets, weights)\u001b[0m\n\u001b[1;32m    675\u001b[0m                      \u001b[0;34m'the same number of samples as target arrays. '\u001b[0m\u001b[0;34m\u001b[0m\u001b[0;34m\u001b[0m\u001b[0m\n\u001b[1;32m    676\u001b[0m                      \u001b[0;34m'Found '\u001b[0m \u001b[0;34m+\u001b[0m \u001b[0mstr\u001b[0m\u001b[0;34m(\u001b[0m\u001b[0mlist\u001b[0m\u001b[0;34m(\u001b[0m\u001b[0mset_x\u001b[0m\u001b[0;34m)\u001b[0m\u001b[0;34m[\u001b[0m\u001b[0;36m0\u001b[0m\u001b[0;34m]\u001b[0m\u001b[0;34m)\u001b[0m \u001b[0;34m+\u001b[0m \u001b[0;34m' input samples '\u001b[0m\u001b[0;34m\u001b[0m\u001b[0;34m\u001b[0m\u001b[0m\n\u001b[0;32m--> 677\u001b[0;31m                      'and ' + str(list(set_y)[0]) + ' target samples.')\n\u001b[0m\u001b[1;32m    678\u001b[0m   \u001b[0;32mif\u001b[0m \u001b[0mlen\u001b[0m\u001b[0;34m(\u001b[0m\u001b[0mset_w\u001b[0m\u001b[0;34m)\u001b[0m \u001b[0;34m>\u001b[0m \u001b[0;36m1\u001b[0m\u001b[0;34m:\u001b[0m\u001b[0;34m\u001b[0m\u001b[0;34m\u001b[0m\u001b[0m\n\u001b[1;32m    679\u001b[0m     raise ValueError('All sample_weight arrays should have '\n",
      "\u001b[0;31mValueError\u001b[0m: Input arrays should have the same number of samples as target arrays. Found 535815 input samples and 69171 target samples."
     ]
    }
   ],
   "source": [
    "history = model.fit(xs,ys,epochs=20,verbose=True)"
   ]
  },
  {
   "cell_type": "markdown",
   "metadata": {
    "colab_type": "text",
    "id": "TNZ0VjKteXSx"
   },
   "source": [
    "### Ejemplo con 7 frases"
   ]
  },
  {
   "cell_type": "code",
   "execution_count": null,
   "metadata": {
    "colab": {},
    "colab_type": "code",
    "id": "ZWA-cE6remv1"
   },
   "outputs": [],
   "source": [
    "train_sentences[:7]"
   ]
  },
  {
   "cell_type": "code",
   "execution_count": null,
   "metadata": {
    "colab": {},
    "colab_type": "code",
    "id": "cBaI3RaReV-A"
   },
   "outputs": [],
   "source": [
    "from sklearn.feature_extraction.text import CountVectorizer\n",
    "\n",
    "vectorizer3 = CountVectorizer(analyzer='word', ngram_range=(3,3))"
   ]
  },
  {
   "cell_type": "code",
   "execution_count": null,
   "metadata": {
    "colab": {},
    "colab_type": "code",
    "id": "aQDqCmX8eUCl"
   },
   "outputs": [],
   "source": [
    "X = vectorizer3.fit_transform(train_sentences[:7])\n",
    "X"
   ]
  },
  {
   "cell_type": "code",
   "execution_count": null,
   "metadata": {
    "colab": {},
    "colab_type": "code",
    "id": "PsrLjvFpekKl"
   },
   "outputs": [],
   "source": [
    "F = vectorizer3.get_feature_names() #Array mapping from feature integer indices to feature name.\n",
    "vectorizer3.decode(F) #Decode the input into a string of unicode symbols."
   ]
  },
  {
   "cell_type": "code",
   "execution_count": 88,
   "metadata": {
    "colab": {
     "base_uri": "https://localhost:8080/",
     "height": 198
    },
    "colab_type": "code",
    "id": "DqboMThwe3zC",
    "outputId": "881aecac-d3bf-480d-b683-9e244ac4aaf9"
   },
   "outputs": [
    {
     "name": "stdout",
     "output_type": "stream",
     "text": [
      "Vocabulary:\n"
     ]
    },
    {
     "ename": "NameError",
     "evalue": "ignored",
     "output_type": "error",
     "traceback": [
      "\u001b[0;31m---------------------------------------------------------------------------\u001b[0m",
      "\u001b[0;31mNameError\u001b[0m                                 Traceback (most recent call last)",
      "\u001b[0;32m<ipython-input-88-60c1f2ebab50>\u001b[0m in \u001b[0;36m<module>\u001b[0;34m()\u001b[0m\n\u001b[1;32m      1\u001b[0m \u001b[0mprint\u001b[0m\u001b[0;34m(\u001b[0m\u001b[0;34m'Vocabulary:'\u001b[0m\u001b[0;34m)\u001b[0m\u001b[0;34m\u001b[0m\u001b[0;34m\u001b[0m\u001b[0m\n\u001b[0;32m----> 2\u001b[0;31m \u001b[0mprint\u001b[0m\u001b[0;34m(\u001b[0m\u001b[0mvectorizer3\u001b[0m\u001b[0;34m.\u001b[0m\u001b[0mvocabulary_\u001b[0m\u001b[0;34m)\u001b[0m\u001b[0;34m\u001b[0m\u001b[0;34m\u001b[0m\u001b[0m\n\u001b[0m",
      "\u001b[0;31mNameError\u001b[0m: name 'vectorizer3' is not defined"
     ]
    }
   ],
   "source": [
    "print('Vocabulary:')\n",
    "print(vectorizer3.vocabulary_)"
   ]
  },
  {
   "cell_type": "code",
   "execution_count": null,
   "metadata": {
    "colab": {},
    "colab_type": "code",
    "id": "nb3P5vt5eqbe"
   },
   "outputs": [],
   "source": [
    "print(\"arreglo\",X.toarray())\n",
    "print(\"longitud\",len(X.toarray()))"
   ]
  },
  {
   "cell_type": "code",
   "execution_count": null,
   "metadata": {
    "colab": {},
    "colab_type": "code",
    "id": "KOV9EgECfI-B"
   },
   "outputs": [],
   "source": [
    "import pandas as pd\n",
    "pd.DataFrame(X.toarray(),columns=vectorizer3.get_feature_names())"
   ]
  },
  {
   "cell_type": "code",
   "execution_count": null,
   "metadata": {
    "colab": {},
    "colab_type": "code",
    "id": "MtUvDPkufl-g"
   },
   "outputs": [],
   "source": [
    "#función inversa\n",
    "print('To the source:')\n",
    "print(vectorizer3.inverse_transform(X.toarray()))"
   ]
  },
  {
   "cell_type": "markdown",
   "metadata": {
    "colab_type": "text",
    "id": "ojAYplSBeeJX"
   },
   "source": [
    "### Para todos los datos"
   ]
  },
  {
   "cell_type": "code",
   "execution_count": null,
   "metadata": {
    "colab": {},
    "colab_type": "code",
    "id": "cZ1dVUk17LgH"
   },
   "outputs": [],
   "source": [
    "#usamos CountVectorizer para convertir un texto en una matriz de tokens contados\n",
    "from sklearn.feature_extraction.text import CountVectorizer\n",
    "\n",
    "vectorizer3 = CountVectorizer(analyzer='word', ngram_range=(3,3))"
   ]
  },
  {
   "cell_type": "code",
   "execution_count": null,
   "metadata": {
    "colab": {},
    "colab_type": "code",
    "id": "w4JHieZ4TmgS"
   },
   "outputs": [],
   "source": [
    "#Learn the vocabulary dictionary and return document-term matrix.\n",
    "X = vectorizer3.fit_transform(train_sentences)\n",
    "X"
   ]
  },
  {
   "cell_type": "code",
   "execution_count": null,
   "metadata": {
    "colab": {},
    "colab_type": "code",
    "id": "kwp0_fkiTngH"
   },
   "outputs": [],
   "source": [
    "F = vectorizer3.get_feature_names() #Array mapping from feature integer indices to feature name.\n",
    "#vectorizer3.decode(F) #Decode the input into a string of unicode symbols."
   ]
  },
  {
   "cell_type": "code",
   "execution_count": null,
   "metadata": {
    "colab": {},
    "colab_type": "code",
    "id": "jbBngMAPYxar"
   },
   "outputs": [],
   "source": [
    "#imprime el vector final\n",
    "#X.toarray()"
   ]
  },
  {
   "cell_type": "code",
   "execution_count": null,
   "metadata": {
    "colab": {},
    "colab_type": "code",
    "id": "txAdSDN2dSP2"
   },
   "outputs": [],
   "source": [
    "# Now, we can inspect how our vectorizer vectorized the text\n",
    "# This will print out a list of words used, and their index in the vectors\n",
    "print('Vocabulary: ')\n",
    "print(vectorizer3.vocabulary_)"
   ]
  },
  {
   "cell_type": "code",
   "execution_count": null,
   "metadata": {
    "colab": {},
    "colab_type": "code",
    "id": "ULzA8xhwZI22"
   },
   "outputs": [],
   "source": [
    "#tokenizer = Tokenizer(num_words = vocab_size, oov_token=oov_tok,split= ' ')\n",
    "#tokenizer.fit_on_texts(train_sentences)\n",
    "#word_index = tokenizer.word_index\n",
    "\n",
    "#train_sequences = tokenizer.texts_to_sequences(train_sentences)\n",
    "#train_padded = np.array(pad_sequences(train_sequences, padding=padding_type, maxlen=max_length))"
   ]
  },
  {
   "cell_type": "code",
   "execution_count": null,
   "metadata": {
    "colab": {},
    "colab_type": "code",
    "id": "muzP2UkSDRGp"
   },
   "outputs": [],
   "source": [
    "#word_index"
   ]
  },
  {
   "cell_type": "code",
   "execution_count": null,
   "metadata": {
    "colab": {},
    "colab_type": "code",
    "id": "BEvslZQ7Yt66"
   },
   "outputs": [],
   "source": [
    "print((train_sequences[0]))\n",
    "print(len(train_padded[0]))\n",
    "\n",
    "#print(len(train_sequences[1]))\n",
    "#print(len(train_padded[1]))\n",
    "\n",
    "#print(len(train_sequences[10]))\n",
    "#print(len(train_padded[10]))\n",
    "\n",
    "# Expected Ouput\n",
    "# 12\n",
    "# 120\n",
    "# 3\n",
    "# 120\n",
    "# 10\n",
    "# 120"
   ]
  },
  {
   "cell_type": "code",
   "execution_count": null,
   "metadata": {
    "colab": {},
    "colab_type": "code",
    "id": "BoyMoykjYt7N"
   },
   "outputs": [],
   "source": [
    "train_sequences[:2]"
   ]
  },
  {
   "cell_type": "code",
   "execution_count": null,
   "metadata": {
    "colab": {},
    "colab_type": "code",
    "id": "AS43m4iEYt7-"
   },
   "outputs": [],
   "source": [
    "train_padded[:2]"
   ]
  },
  {
   "cell_type": "code",
   "execution_count": null,
   "metadata": {
    "colab": {},
    "colab_type": "code",
    "id": "c8PeFWzPZLW_"
   },
   "outputs": [],
   "source": [
    "validation_sequences = tokenizer.texts_to_sequences(validation_sentences)\n",
    "validation_padded = np.array(pad_sequences(validation_sequences, padding=padding_type, maxlen=max_length))\n"
   ]
  },
  {
   "cell_type": "code",
   "execution_count": null,
   "metadata": {
    "colab": {},
    "colab_type": "code",
    "id": "-BQ_jql1Yt8p"
   },
   "outputs": [],
   "source": [
    "validation_sequences[:2]\n",
    "\n",
    "# Expected output\n",
    "# 31663\n",
    "# (31663, 120)"
   ]
  },
  {
   "cell_type": "code",
   "execution_count": null,
   "metadata": {
    "colab": {},
    "colab_type": "code",
    "id": "jEF78gjcZdPy"
   },
   "outputs": [],
   "source": [
    "validation_padded[:2]"
   ]
  },
  {
   "cell_type": "code",
   "execution_count": null,
   "metadata": {
    "colab": {},
    "colab_type": "code",
    "id": "1ix4eYl0ZhNS"
   },
   "outputs": [],
   "source": [
    "print(len(validation_sequences))\n",
    "print(validation_padded.shape)\n",
    "\n",
    "# Expected output\n",
    "# 31663\n",
    "# (31663, 120)"
   ]
  },
  {
   "cell_type": "code",
   "execution_count": null,
   "metadata": {
    "colab": {},
    "colab_type": "code",
    "id": "XkWiQ_FKZNp2"
   },
   "outputs": [],
   "source": [
    "label_size = 500\n",
    "#filters='!\"#$%&()*+,-./:;<=>?@[\\\\]^_`{|}~\\t\\n'\n",
    "label_tokenizer = Tokenizer(num_words = label_size,oov_token=oov_tok, filters = '')\n",
    "label_tokenizer.fit_on_texts(labels)\n",
    "\n",
    "label_seq = np.array(label_tokenizer.texts_to_sequences(labels))\n",
    "training_label_seq = np.array(label_tokenizer.texts_to_sequences(train_labels))\n",
    "validation_label_seq = np.array(label_tokenizer.texts_to_sequences(validation_labels))\n",
    "\n",
    "print(training_label_seq[0])\n",
    "print(training_label_seq[1])\n",
    "print(training_label_seq[2])\n",
    "print(training_label_seq[3])\n",
    "print(training_label_seq[5])\n",
    "print(training_label_seq.shape)\n",
    "\n",
    "print(validation_label_seq[0])\n",
    "print(validation_label_seq[1])\n",
    "print(validation_label_seq[2])\n",
    "print(validation_label_seq[3])\n",
    "print(validation_label_seq[5])\n",
    "print(validation_label_seq.shape)\n",
    "\n",
    "# Expected output\n",
    "# [4]\n",
    "# [2]\n",
    "# [1]\n",
    "# (1780, 1)\n",
    "# [5]\n",
    "# [4]\n",
    "# [3]\n",
    "# (445, 1)"
   ]
  },
  {
   "cell_type": "code",
   "execution_count": null,
   "metadata": {
    "colab": {},
    "colab_type": "code",
    "id": "ZMoLz57_Yt9J"
   },
   "outputs": [],
   "source": [
    "# flatten the nested list and tranaform to an np array\n",
    "label_seq = np.array([item for items in label_seq for item in items])\n",
    "training_label_seq = np.array([item for items in training_label_seq for item in items])\n",
    "validation_label_seq = np.array([item for items in validation_label_seq for item in items])\n"
   ]
  },
  {
   "cell_type": "code",
   "execution_count": null,
   "metadata": {
    "colab": {},
    "colab_type": "code",
    "id": "7doOXbZvZmfP"
   },
   "outputs": [],
   "source": [
    "label_seq[:5]"
   ]
  },
  {
   "cell_type": "code",
   "execution_count": null,
   "metadata": {
    "colab": {},
    "colab_type": "code",
    "id": "GXybe95iZnhn"
   },
   "outputs": [],
   "source": [
    "max(validation_label_seq)"
   ]
  },
  {
   "cell_type": "markdown",
   "metadata": {
    "colab_type": "text",
    "id": "phSLRUweYt-G"
   },
   "source": [
    "# transform target to one-hot codification"
   ]
  },
  {
   "cell_type": "markdown",
   "metadata": {
    "colab_type": "text",
    "id": "I7QYyJBCYt-J"
   },
   "source": [
    "## primero crea etiquetas numéricas"
   ]
  },
  {
   "cell_type": "code",
   "execution_count": null,
   "metadata": {
    "colab": {},
    "colab_type": "code",
    "id": "_5cf3OjTYt-M"
   },
   "outputs": [],
   "source": [
    "from sklearn. preprocessing import LabelEncoder\n",
    "#preprocessing.LabelEncoder()\n",
    "encoder = LabelEncoder()\n",
    "\n",
    "encoder.fit(label_seq)\n",
    "y_train = encoder.transform(training_label_seq)\n",
    "y_test = encoder.transform(validation_label_seq)"
   ]
  },
  {
   "cell_type": "code",
   "execution_count": null,
   "metadata": {
    "colab": {},
    "colab_type": "code",
    "id": "suOM5XzzZsWF"
   },
   "outputs": [],
   "source": [
    "max(y_train)"
   ]
  },
  {
   "cell_type": "code",
   "execution_count": null,
   "metadata": {
    "colab": {},
    "colab_type": "code",
    "id": "FbwSw1x9Zt10"
   },
   "outputs": [],
   "source": [
    "y_train.shape"
   ]
  },
  {
   "cell_type": "code",
   "execution_count": null,
   "metadata": {
    "colab": {},
    "colab_type": "code",
    "id": "tok5CEBFZuUX"
   },
   "outputs": [],
   "source": [
    "y_train"
   ]
  },
  {
   "cell_type": "code",
   "execution_count": null,
   "metadata": {
    "colab": {},
    "colab_type": "code",
    "id": "NCzU80RNZwvI"
   },
   "outputs": [],
   "source": [
    "y_test"
   ]
  },
  {
   "cell_type": "markdown",
   "metadata": {
    "colab_type": "text",
    "id": "gz8EKx7MYt-t"
   },
   "source": [
    "## one hot"
   ]
  },
  {
   "cell_type": "code",
   "execution_count": null,
   "metadata": {
    "colab": {},
    "colab_type": "code",
    "id": "_vVEA4IBYt-w"
   },
   "outputs": [],
   "source": [
    "# Converts the labels to a one-hot representation\n",
    "num_classes = np.max(y_train) + 1\n",
    "y_train = tf.keras.utils.to_categorical(y_train, num_classes)\n",
    "y_test = tf.keras.utils.to_categorical(y_test, num_classes)"
   ]
  },
  {
   "cell_type": "code",
   "execution_count": null,
   "metadata": {
    "colab": {},
    "colab_type": "code",
    "id": "7Vd3HsZ0Z0Dp"
   },
   "outputs": [],
   "source": [
    "num_classes"
   ]
  },
  {
   "cell_type": "code",
   "execution_count": null,
   "metadata": {
    "colab": {},
    "colab_type": "code",
    "id": "Yopg3sD-Yt_I"
   },
   "outputs": [],
   "source": [
    "y_train.shape"
   ]
  },
  {
   "cell_type": "code",
   "execution_count": null,
   "metadata": {
    "colab": {},
    "colab_type": "code",
    "id": "mRFAcCwQZ1lF"
   },
   "outputs": [],
   "source": [
    "y_train[0]"
   ]
  },
  {
   "cell_type": "code",
   "execution_count": null,
   "metadata": {
    "colab": {},
    "colab_type": "code",
    "id": "nHwXnWwnZ3Gk"
   },
   "outputs": [],
   "source": [
    "y_test[0]"
   ]
  },
  {
   "cell_type": "markdown",
   "metadata": {
    "colab_type": "text",
    "id": "yVPb8wDDZ7j4"
   },
   "source": [
    "## Modelo 1\n",
    "\n",
    "| dropout | conv1D | LSTM | accuracyTrain | accuracyValidation | epoch |\n",
    "|---------|:------:|:----:|:-------------:|:------------------:|:-----:|\n",
    "|         |        |      |    0.3645     |       0.3478       |  13   |\n",
    "|    1    |   1    |      |    0.3751     |       0.3462       |  11   |\n",
    "|         |   1    |      |    0.3761     |       0.3455       |  10   |\n",
    "|    1    |        |      |    0.3668     |       0.3527       |  15   |\n",
    "|    1    |        |   1  |    0.3730     |       0.3416       |  13   |"
   ]
  },
  {
   "cell_type": "markdown",
   "metadata": {
    "colab_type": "text",
    "id": "oVmdZbbyXDpz"
   },
   "source": [
    "## Modelo 2 con 9 Labels\n",
    "\n",
    "| spatial Dropout1d | BIDLSTM | Dropout | Dense | lossTrain |accuracyTrain | accuracyValidation | lossValidation  | epoch |\n",
    "|::|::|::|::|::|::|::|::|::|\n",
    "|1|2|2|2|1.2943|0.5236|1.5963|0.4304|23|\n",
    "\n"
   ]
  },
  {
   "cell_type": "markdown",
   "metadata": {
    "colab_type": "text",
    "id": "z-7yt4FbW9fh"
   },
   "source": [
    "## Modelo 3 con 4 Labels - 20 ephocs\n",
    "\n",
    "| Conv1D | SpatialDroout1D | BIDLSTM | Dropout | Densa | lossTrain |accuracyTrain | accuracyValidation | lossValidation  | epoch |\n",
    "|:----:|:----:|:----:|:----:|:----:|:----:|:----:|:----:|:----:|:----:|\n",
    "| | |1|2|2|1.0705|0.5387|1.1504|0.4953|10|\n",
    "|1|1||2|2|1.0209|0.5645|1.1661|0.4930|7|\n",
    "|1||1|2|2|1.0497|0.5510|1.1570|0.4941|5|\n",
    "||1|1|2|2|1.0601|0.5453|1.1625|0.4911|9|\n",
    "|1|1|1|2|2|1.0479|0.5516|1.1565|0.4898|6|\n",
    "|2| | |2|2|1.0265|0.5626|1.1968|0.4835|6|\n",
    "| | | |2|2|1.0691|0.5402|1.1626|0.4978|10|\n",
    "| | | |3|3|1.0789|0.5394|1.1517|0.4966|11|"
   ]
  },
  {
   "cell_type": "code",
   "execution_count": null,
   "metadata": {
    "colab": {},
    "colab_type": "code",
    "id": "H8tYQNMUvbjb"
   },
   "outputs": [],
   "source": [
    "callback = tf.keras.callbacks.EarlyStopping(\n",
    "    monitor='val_accuracy', patience=3\n",
    "    )\n",
    "# This callback will stop the training when there is no improvement in\n",
    "# the validation loss for three consecutive epochs."
   ]
  },
  {
   "cell_type": "code",
   "execution_count": null,
   "metadata": {
    "colab": {},
    "colab_type": "code",
    "id": "HZ5um4MWZP-W"
   },
   "outputs": [],
   "source": [
    "model = tf.keras.Sequential([\n",
    "    tf.keras.layers.Embedding(vocab_size, embedding_dim, input_length=max_length),\n",
    "    tf.keras.layers.Conv1D(200, 5, activation='relu'),\n",
    "    tf.keras.layers.Conv1D(120, 5, activation='relu'),\n",
    "    tf.keras.layers.GlobalAveragePooling1D(),\n",
    "    tf.keras.layers.Dropout(0.1),\n",
    "    tf.keras.layers.Dense(120, activation='relu'),\n",
    "    tf.keras.layers.Dropout(0.1),\n",
    "    tf.keras.layers.Dense(4, activation='softmax')\n",
    "])\n",
    "model.compile(loss='categorical_crossentropy',optimizer='adam',metrics=['accuracy'])\n",
    "model.summary()"
   ]
  },
  {
   "cell_type": "markdown",
   "metadata": {
    "colab_type": "text",
    "id": "EqT9Muf-aFYP"
   },
   "source": [
    "## Entrenamos el modelo"
   ]
  },
  {
   "cell_type": "code",
   "execution_count": null,
   "metadata": {
    "colab": {},
    "colab_type": "code",
    "id": "XsfdxySKZSXu"
   },
   "outputs": [],
   "source": [
    "num_epochs = 40\n",
    "history = model.fit(train_padded, y_train, epochs=num_epochs, validation_data=(validation_padded, y_test), verbose=2, callbacks=[callback])\n",
    "print(\"\\nEn la epoca\", len(history.history['val_accuracy']), \"la precision de validación dejó de mejorar.\")"
   ]
  },
  {
   "cell_type": "markdown",
   "metadata": {
    "colab_type": "text",
    "id": "K0YQhVzoaLQL"
   },
   "source": [
    "## Graficamos"
   ]
  },
  {
   "cell_type": "code",
   "execution_count": null,
   "metadata": {
    "colab": {},
    "colab_type": "code",
    "id": "Xn7rCBByaOll"
   },
   "outputs": [],
   "source": [
    "string='accuracy'\n",
    "print(history.history[string])\n",
    "print(history.history['val_'+string])"
   ]
  },
  {
   "cell_type": "code",
   "execution_count": null,
   "metadata": {
    "colab": {},
    "colab_type": "code",
    "id": "dQ0BX2apXS9u"
   },
   "outputs": [],
   "source": [
    "def plot_graphs(history, string):\n",
    "  plt.title(string+' con 3 epochs')\n",
    "  plt.plot(history.history[string])\n",
    "  plt.plot(history.history['val_'+string])\n",
    "  plt.xlabel(\"Epochs\")\n",
    "  plt.ylabel(string)\n",
    "  plt.legend([string, 'val_'+string])\n",
    "  plt.show()\n",
    "  \n",
    "plot_graphs(history, \"accuracy\")\n",
    "plot_graphs(history, \"loss\")"
   ]
  },
  {
   "cell_type": "code",
   "execution_count": null,
   "metadata": {
    "colab": {},
    "colab_type": "code",
    "id": "w7Xc-uWxXhML"
   },
   "outputs": [],
   "source": [
    "#convierte palabras en texto (NO LO USAMOS AÚN)\n",
    "reverse_word_index = dict([(value, key) for (key, value) in word_index.items()])\n",
    "\n",
    "def decode_sentence(text):\n",
    "    return ' '.join([reverse_word_index.get(i, '?') for i in text])\n",
    "\n",
    "decode_sentence([862, 54])"
   ]
  },
  {
   "cell_type": "code",
   "execution_count": null,
   "metadata": {
    "colab": {},
    "colab_type": "code",
    "id": "OhnFA_TDXrih"
   },
   "outputs": [],
   "source": [
    "#Pesos de la primera capa\n",
    "e = model.layers[0]\n",
    "weights = e.get_weights()[0]\n",
    "print(weights.shape) # shape: (vocab_size, embedding_dim)\n",
    "\n",
    "# Expected output\n",
    "# (1000, 16)"
   ]
  },
  {
   "cell_type": "code",
   "execution_count": null,
   "metadata": {
    "colab": {},
    "colab_type": "code",
    "id": "SHeoADFtaX0P"
   },
   "outputs": [],
   "source": [
    "weights"
   ]
  },
  {
   "cell_type": "markdown",
   "metadata": {
    "colab_type": "text",
    "id": "oyMnH7jUaabc"
   },
   "source": [
    "## funcion clasificadora"
   ]
  },
  {
   "cell_type": "code",
   "execution_count": null,
   "metadata": {
    "colab": {},
    "colab_type": "code",
    "id": "8It73iQUaeyA"
   },
   "outputs": [],
   "source": [
    "validation_sentences[:2]"
   ]
  },
  {
   "cell_type": "code",
   "execution_count": null,
   "metadata": {
    "colab": {},
    "colab_type": "code",
    "id": "3I7Em3Lmafhe"
   },
   "outputs": [],
   "source": [
    "sq = model.predict_classes(validation_padded[:2])\n",
    "sq"
   ]
  },
  {
   "cell_type": "code",
   "execution_count": null,
   "metadata": {
    "colab": {},
    "colab_type": "code",
    "id": "DWlPkmnkaiLo"
   },
   "outputs": [],
   "source": [
    "label_tokenizer.sequences_to_texts([sq])"
   ]
  },
  {
   "cell_type": "code",
   "execution_count": null,
   "metadata": {
    "colab": {},
    "colab_type": "code",
    "id": "tZoQ6dLEakv9"
   },
   "outputs": [],
   "source": [
    "def classifier (sentence): \n",
    "  sentences = []\n",
    "  sentence_l = re.sub(' +', ' ',sentence.lower())\n",
    "  sentence = ''.join(c for c in sentence_l if c in printable)\n",
    "  # preprocess stopwords\n",
    "  for word in stopwords:\n",
    "    token = \" \" + word + \" \"\n",
    "    sentence = sentence.replace(token, \" \")\n",
    "  sentences.append(sentence)\n",
    "\n",
    "  sentences = tokenizer.texts_to_sequences(sentences) #transforms each text in texts to a sequence of integers\n",
    "  sentences_padded = np.array(pad_sequences(sentences, padding=padding_type, maxlen=max_length))\n",
    "\n",
    "  #prob = model.predict(sentences_padded)\n",
    "  prediction = model.predict_classes(sentences_padded)\n",
    "  prediction = label_tokenizer.sequences_to_texts([prediction])\n",
    "\n",
    "  return prediction"
   ]
  },
  {
   "cell_type": "code",
   "execution_count": null,
   "metadata": {
    "colab": {},
    "colab_type": "code",
    "id": "u_SqQX2talns"
   },
   "outputs": [],
   "source": [
    "classifier('are you sure lord')"
   ]
  },
  {
   "cell_type": "code",
   "execution_count": null,
   "metadata": {
    "colab": {},
    "colab_type": "code",
    "id": "XYpl7SD3al7X"
   },
   "outputs": [],
   "source": [
    "classifier('can his funeral be on a school day')"
   ]
  },
  {
   "cell_type": "code",
   "execution_count": null,
   "metadata": {
    "colab": {},
    "colab_type": "code",
    "id": "K0P7mwFJapkm"
   },
   "outputs": [],
   "source": [
    "classifier(\"We should go to the bar\")"
   ]
  },
  {
   "cell_type": "markdown",
   "metadata": {
    "colab_type": "text",
    "id": "VtgyWMk9asgv"
   },
   "source": [
    "## exportar archivos"
   ]
  },
  {
   "cell_type": "code",
   "execution_count": null,
   "metadata": {
    "colab": {},
    "colab_type": "code",
    "id": "_POzcWWAXudL"
   },
   "outputs": [],
   "source": [
    "import io\n",
    "\n",
    "out_v = io.open('vecs.tsv', 'w', encoding='utf-8')\n",
    "out_m = io.open('meta.tsv', 'w', encoding='utf-8')\n",
    "for word_num in range(1, vocab_size):\n",
    "  word = reverse_word_index[word_num]\n",
    "  embeddings = weights[word_num]\n",
    "  out_m.write(word + \"\\n\")\n",
    "  out_v.write('\\t'.join([str(x) for x in embeddings]) + \"\\n\")\n",
    "out_v.close()\n",
    "out_m.close()"
   ]
  },
  {
   "cell_type": "code",
   "execution_count": null,
   "metadata": {
    "colab": {},
    "colab_type": "code",
    "id": "VmqpQMZ_XyOa"
   },
   "outputs": [],
   "source": [
    "try:\n",
    "  from google.colab import files\n",
    "except ImportError:\n",
    "  pass\n",
    "else:\n",
    "  files.download('vecs.tsv')\n",
    "  files.download('meta.tsv')"
   ]
  },
  {
   "cell_type": "markdown",
   "metadata": {
    "colab_type": "text",
    "id": "6Tz7DnMQYuBp"
   },
   "source": [
    "## Referencias\n",
    "- Aprendizaje profundo, [Ciencia de datos](https://github.com/AprendizajeProfundo/Ciencia-de-Datos/tree/master/Cuadernos)"
   ]
  }
 ],
 "metadata": {
  "colab": {
   "collapsed_sections": [],
   "name": "Copia de BBC_Text.ipynb",
   "provenance": [],
   "toc_visible": true
  },
  "kernelspec": {
   "display_name": "Python 3",
   "language": "python",
   "name": "python3"
  },
  "language_info": {
   "codemirror_mode": {
    "name": "ipython",
    "version": 3
   },
   "file_extension": ".py",
   "mimetype": "text/x-python",
   "name": "python",
   "nbconvert_exporter": "python",
   "pygments_lexer": "ipython3",
   "version": "3.7.7"
  }
 },
 "nbformat": 4,
 "nbformat_minor": 4
}
