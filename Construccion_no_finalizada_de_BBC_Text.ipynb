{
  "nbformat": 4,
  "nbformat_minor": 0,
  "metadata": {
    "accelerator": "GPU",
    "colab": {
      "name": "Construccion_no_finalizada_de_BBC_Text.ipynb",
      "provenance": [],
      "collapsed_sections": [],
      "toc_visible": true,
      "include_colab_link": true
    },
    "kernelspec": {
      "display_name": "Python 3",
      "language": "python",
      "name": "python3"
    },
    "language_info": {
      "codemirror_mode": {
        "name": "ipython",
        "version": 3
      },
      "file_extension": ".py",
      "mimetype": "text/x-python",
      "name": "python",
      "nbconvert_exporter": "python",
      "pygments_lexer": "ipython3",
      "version": "3.7.4"
    }
  },
  "cells": [
    {
      "cell_type": "markdown",
      "metadata": {
        "id": "view-in-github",
        "colab_type": "text"
      },
      "source": [
        "<a href=\"https://colab.research.google.com/github/JuliethLopez/chatbot_simpsons/blob/master/Construccion_no_finalizada_de_BBC_Text.ipynb\" target=\"_parent\"><img src=\"https://colab.research.google.com/assets/colab-badge.svg\" alt=\"Open In Colab\"/></a>"
      ]
    },
    {
      "cell_type": "markdown",
      "metadata": {
        "id": "UMKMq626ax3b",
        "colab_type": "text"
      },
      "source": [
        "# Clasificación usando Lenguaje Natural"
      ]
    },
    {
      "cell_type": "code",
      "metadata": {
        "colab_type": "code",
        "id": "GSfreYDvYt3M",
        "outputId": "081b2aa2-c814-4885-bb23-e1a221128df3",
        "colab": {
          "base_uri": "https://localhost:8080/",
          "height": 34
        }
      },
      "source": [
        "#librerias\n",
        "import csv\n",
        "import tensorflow as tf\n",
        "import numpy as np\n",
        "import matplotlib.pyplot as plt\n",
        "import pandas as pd\n",
        "import matplotlib.pylab as plt\n",
        "import nltk\n",
        "from nltk import word_tokenize\n",
        "from nltk.util import ngrams\n",
        "from tensorflow.keras.preprocessing.text import Tokenizer\n",
        "from tensorflow.keras.preprocessing.sequence import pad_sequences\n",
        "import numpy as np\n",
        "from keras import layers, backend"
      ],
      "execution_count": 1,
      "outputs": [
        {
          "output_type": "stream",
          "text": [
            "Using TensorFlow backend.\n"
          ],
          "name": "stderr"
        }
      ]
    },
    {
      "cell_type": "code",
      "metadata": {
        "id": "7SHJ2Qb5ljbU",
        "colab_type": "code",
        "colab": {}
      },
      "source": [
        "# pip install nltk"
      ],
      "execution_count": 0,
      "outputs": []
    },
    {
      "cell_type": "code",
      "metadata": {
        "id": "fFh7bJC4lIG1",
        "colab_type": "code",
        "colab": {}
      },
      "source": [
        "# nltk.download()"
      ],
      "execution_count": 0,
      "outputs": []
    },
    {
      "cell_type": "code",
      "metadata": {
        "id": "DIvXeFflmGJE",
        "colab_type": "code",
        "colab": {}
      },
      "source": [
        "from nltk.tokenize import word_tokenize, sent_tokenize, regexp_tokenize"
      ],
      "execution_count": 0,
      "outputs": []
    },
    {
      "cell_type": "markdown",
      "metadata": {
        "id": "dLUigGjXYt3r",
        "colab_type": "text"
      },
      "source": [
        "# Define algunas características iniciales"
      ]
    },
    {
      "cell_type": "code",
      "metadata": {
        "colab_type": "code",
        "id": "EYo6A4v5ZABQ",
        "colab": {}
      },
      "source": [
        "vocab_size = 37069 # número de palabras que integrarán el vocabulario\n",
        "embedding_dim = 32 # dimensión del embeding de las palabras\n",
        "max_length = 120  # longitud máxima de una oración (sentence filtrada con stopwords)\n",
        "trunc_type='post' # donde truncar una oración (sentence, filtrada con stopwords)\n",
        "padding_type='post'# donde hacer el padding (agregar ceros) en una oración (sentence, filtrada con stopwords)\n",
        "oov_tok = \"<OOV>\"  # token para las palabras que queden fuera del vocabulario\n",
        "training_portion = .8  # porcentaje de datos para entrenamiento"
      ],
      "execution_count": 0,
      "outputs": []
    },
    {
      "cell_type": "code",
      "metadata": {
        "colab_type": "code",
        "id": "iU1qq3_SZBx_",
        "outputId": "89dcb93f-8e7a-4ebd-bd5c-7a0d9a501a63",
        "colab": {
          "base_uri": "https://localhost:8080/",
          "height": 34
        }
      },
      "source": [
        "complete_sentences = []\n",
        "complete_lines = [] \n",
        "sentences = []\n",
        "labels = [] # preprocesed labels\n",
        "\n",
        "stopwords = []\n",
        "print(len(stopwords))"
      ],
      "execution_count": 6,
      "outputs": [
        {
          "output_type": "stream",
          "text": [
            "0\n"
          ],
          "name": "stdout"
        }
      ]
    },
    {
      "cell_type": "code",
      "metadata": {
        "id": "9QFugJkmYt4n",
        "colab_type": "code",
        "outputId": "24c9a643-ebdb-4d15-fe42-e5c57d11de3b",
        "colab": {
          "base_uri": "https://localhost:8080/",
          "height": 68
        }
      },
      "source": [
        "import string\n",
        "import numpy as np\n",
        "\n",
        "a = np.array([32]) # space\n",
        "#b = np.array(range(65,91)) # uppercase\n",
        "c = np.array(range(97,123)) # lowercase\n",
        "printab = np.hstack((a,c))\n",
        "\n",
        "printable = np.array([chr(i) for i in printab])   \n",
        "printable\n",
        "\n",
        "#ascci_to_char = dict((printab[i], printable[i]) for i in range(len(printable)))"
      ],
      "execution_count": 7,
      "outputs": [
        {
          "output_type": "execute_result",
          "data": {
            "text/plain": [
              "array([' ', 'a', 'b', 'c', 'd', 'e', 'f', 'g', 'h', 'i', 'j', 'k', 'l',\n",
              "       'm', 'n', 'o', 'p', 'q', 'r', 's', 't', 'u', 'v', 'w', 'x', 'y',\n",
              "       'z'], dtype='<U1')"
            ]
          },
          "metadata": {
            "tags": []
          },
          "execution_count": 7
        }
      ]
    },
    {
      "cell_type": "code",
      "metadata": {
        "colab_type": "code",
        "id": "eutB2xMiZD0e",
        "outputId": "f480cf77-2291-4906-9b8d-099ed66875c0",
        "colab": {
          "base_uri": "https://localhost:8080/",
          "height": 85
        }
      },
      "source": [
        "#lectura de los datos\n",
        "import string\n",
        "import re #regular expresions\n",
        "# abre el archivo de datos y lo trata como un archivo csv\n",
        "file = open('DFSMS.csv', 'r')\n",
        "with file as csvfile:\n",
        "    reader = csv.reader(csvfile, delimiter=',')\n",
        "    next(reader)\n",
        "    for row in reader:\n",
        "        # preprocess label\n",
        "        #label_l = ' '.join(row[0].split()).lower().replace(' ','_') # lower case ans eliminate multiple spaces\n",
        "        label_l = re.sub(' +', ' ',row[0].lower()) # lower case ans eliminate multiple spaces\n",
        "        if (len(label_l)>2): # drop with empty label\n",
        "            label = ''.join(c for c in label_l if c in printable)# filter only printable characters\n",
        "            label = label.replace(' ','_')\n",
        "            labels.append(label)\n",
        "            # preprocess sentence\n",
        "            #sentence_l = ' '.join(row[1].split()).lower().replace(' ','_') # lower case ans eliminate multiple spaces\n",
        "            sentence_l = re.sub(' +', ' ',row[1].lower())\n",
        "            sentence = ''.join(c for c in sentence_l if c in printable)\n",
        "            complete_lines.append(row[0] + ': '+ row[1])\n",
        "            complete_sentences.append(sentence)\n",
        "            # preprocess stopwords\n",
        "            for word in stopwords:\n",
        "                token = \" \" + word + \" \"\n",
        "                sentence = sentence.replace(token, \" \")\n",
        "            sentences.append(sentence)\n",
        " \n",
        "\n",
        "# resumen de la lectura            \n",
        "print(len(labels))\n",
        "print(len(complete_sentences))\n",
        "print(len(complete_lines))\n",
        "print(len(sentences))\n",
        "# Expected Output\n",
        "# 158314"
      ],
      "execution_count": 8,
      "outputs": [
        {
          "output_type": "stream",
          "text": [
            "9464\n",
            "9464\n",
            "9464\n",
            "9464\n"
          ],
          "name": "stdout"
        }
      ]
    },
    {
      "cell_type": "code",
      "metadata": {
        "colab_type": "code",
        "outputId": "bee7a8fb-3b71-4e43-d91f-251096ce7716",
        "id": "mHP5HqP4Yt5U",
        "colab": {
          "base_uri": "https://localhost:8080/",
          "height": 153
        }
      },
      "source": [
        "# primera linea\n",
        "print(labels[0]+'\\n')\n",
        "print(complete_sentences[0]+'\\n')\n",
        "print(complete_lines[0]+'\\n')\n",
        "print(sentences[0]+'\\n')\n",
        "# Expected Output\n",
        "# 158314\n",
        "# 158314"
      ],
      "execution_count": 9,
      "outputs": [
        {
          "output_type": "stream",
          "text": [
            "lisa_simpson\n",
            "\n",
            "wheres mr bergstrom\n",
            "\n",
            "Lisa Simpson: Where's Mr. Bergstrom?\n",
            "\n",
            "wheres mr bergstrom\n",
            "\n"
          ],
          "name": "stdout"
        }
      ]
    },
    {
      "cell_type": "code",
      "metadata": {
        "id": "djFPe1k6pOp9",
        "colab_type": "code",
        "outputId": "68e571cc-5df1-4acf-ab27-86afcc9f95d2",
        "colab": {
          "base_uri": "https://localhost:8080/",
          "height": 281
        }
      },
      "source": [
        "#Gráfico de barras de numero de frases por personaje\n",
        "frec = pd.value_counts(labels)\n",
        "plot = frec.plot(kind='barh',title='Numero de frases por personaje',color=['deepskyblue','orangered','darkkhaki','gold'])"
      ],
      "execution_count": 10,
      "outputs": [
        {
          "output_type": "display_data",
          "data": {
            "image/png": "[encoded data removed]",
            "text/plain": [
              "<Figure size 432x288 with 1 Axes>"
            ]
          },
          "metadata": {
            "tags": [],
            "needs_background": "light"
          }
        }
      ]
    },
    {
      "cell_type": "code",
      "metadata": {
        "id": "6Vqqx5Q2Yt5q",
        "colab_type": "code",
        "outputId": "9c2a7cb9-844b-4ab8-b6f4-1249e2e35991",
        "colab": {
          "base_uri": "https://localhost:8080/",
          "height": 85
        }
      },
      "source": [
        "sentences[:4]"
      ],
      "execution_count": 11,
      "outputs": [
        {
          "output_type": "execute_result",
          "data": {
            "text/plain": [
              "['wheres mr bergstrom',\n",
              " 'that life is worth living',\n",
              " 'victory party under the slide',\n",
              " 'mr bergstrom mr bergstrom']"
            ]
          },
          "metadata": {
            "tags": []
          },
          "execution_count": 11
        }
      ]
    },
    {
      "cell_type": "markdown",
      "metadata": {
        "id": "QH4k5vkXYt6B",
        "colab_type": "text"
      },
      "source": [
        "# Separa datos de entrenamiento y validación "
      ]
    },
    {
      "cell_type": "code",
      "metadata": {
        "colab_type": "code",
        "id": "XfdaWh06ZGe3",
        "outputId": "768fafaf-de55-4ee4-aa0f-da023b982228",
        "colab": {
          "base_uri": "https://localhost:8080/",
          "height": 102
        }
      },
      "source": [
        "train_size = int(len(sentences) * training_portion)\n",
        "\n",
        "train_sentences = sentences[:train_size]\n",
        "train_labels = labels[:train_size]\n",
        "\n",
        "validation_sentences = sentences[train_size:]\n",
        "validation_labels = labels[train_size:]\n",
        "\n",
        "print(train_size)\n",
        "print(len(train_sentences))\n",
        "print(len(train_labels))\n",
        "print(len(validation_sentences))\n",
        "print(len(validation_labels))\n",
        "\n",
        "# Expected output (if training_portion=.8)\n",
        "# 126651 train\n",
        "# 31663 validation"
      ],
      "execution_count": 12,
      "outputs": [
        {
          "output_type": "stream",
          "text": [
            "7571\n",
            "7571\n",
            "7571\n",
            "1893\n",
            "1893\n"
          ],
          "name": "stdout"
        }
      ]
    },
    {
      "cell_type": "code",
      "metadata": {
        "id": "eN2cwKFrZL6v",
        "colab_type": "code",
        "outputId": "97638d48-a64d-4aae-9c4a-63cfb62ce8a6",
        "colab": {
          "base_uri": "https://localhost:8080/",
          "height": 68
        }
      },
      "source": [
        "train_sentences[:3]"
      ],
      "execution_count": 13,
      "outputs": [
        {
          "output_type": "execute_result",
          "data": {
            "text/plain": [
              "['wheres mr bergstrom',\n",
              " 'that life is worth living',\n",
              " 'victory party under the slide']"
            ]
          },
          "metadata": {
            "tags": []
          },
          "execution_count": 13
        }
      ]
    },
    {
      "cell_type": "code",
      "metadata": {
        "id": "Nfk2wm03nVPG",
        "colab_type": "code",
        "outputId": "98757772-8ba9-4116-c546-04e13d144be2",
        "colab": {
          "base_uri": "https://localhost:8080/",
          "height": 34
        }
      },
      "source": [
        "train_labels[:3]"
      ],
      "execution_count": 14,
      "outputs": [
        {
          "output_type": "execute_result",
          "data": {
            "text/plain": [
              "['lisa_simpson', 'lisa_simpson', 'bart_simpson']"
            ]
          },
          "metadata": {
            "tags": []
          },
          "execution_count": 14
        }
      ]
    },
    {
      "cell_type": "markdown",
      "metadata": {
        "id": "N_E4h9j8Mh90",
        "colab_type": "text"
      },
      "source": [
        "# Tokens"
      ]
    },
    {
      "cell_type": "code",
      "metadata": {
        "id": "Nos0q123nKks",
        "colab_type": "code",
        "colab": {}
      },
      "source": [
        "#juntamos todo el texto en una sola linea\n",
        "wordtk = ' '.join(train_sentences)"
      ],
      "execution_count": 0,
      "outputs": []
    },
    {
      "cell_type": "code",
      "metadata": {
        "id": "NDnhdpM1nk3J",
        "colab_type": "code",
        "outputId": "dfae2c50-e0cc-4c8f-fe47-836177e45fb7",
        "colab": {
          "base_uri": "https://localhost:8080/",
          "height": 187
        }
      },
      "source": [
        "#para dividir las frases\n",
        "tokenstk = regexp_tokenize(wordtk, pattern=\"\\w+\")\n",
        "tokenstk[:10]"
      ],
      "execution_count": 16,
      "outputs": [
        {
          "output_type": "execute_result",
          "data": {
            "text/plain": [
              "['wheres',\n",
              " 'mr',\n",
              " 'bergstrom',\n",
              " 'that',\n",
              " 'life',\n",
              " 'is',\n",
              " 'worth',\n",
              " 'living',\n",
              " 'victory',\n",
              " 'party']"
            ]
          },
          "metadata": {
            "tags": []
          },
          "execution_count": 16
        }
      ]
    },
    {
      "cell_type": "code",
      "metadata": {
        "id": "VcVViOPkpFh0",
        "colab_type": "code",
        "outputId": "f550a5ff-9a71-4fe3-f630-09b0b6ce0b78",
        "colab": {
          "base_uri": "https://localhost:8080/",
          "height": 102
        }
      },
      "source": [
        "#para generar n-gramas\n",
        "from nltk.util import ngrams\n",
        "trigrama = ngrams(tokenstk,3)\n",
        "trigrama = [' '.join(grams) for grams in trigrama]\n",
        "trigrama[:5]"
      ],
      "execution_count": 17,
      "outputs": [
        {
          "output_type": "execute_result",
          "data": {
            "text/plain": [
              "['wheres mr bergstrom',\n",
              " 'mr bergstrom that',\n",
              " 'bergstrom that life',\n",
              " 'that life is',\n",
              " 'life is worth']"
            ]
          },
          "metadata": {
            "tags": []
          },
          "execution_count": 17
        }
      ]
    },
    {
      "cell_type": "code",
      "metadata": {
        "id": "e1ep8d4qw3-m",
        "colab_type": "code",
        "outputId": "6ba43c07-5f42-4ec6-f134-2539064923a3",
        "colab": {
          "base_uri": "https://localhost:8080/",
          "height": 34
        }
      },
      "source": [
        "len(trigrama)"
      ],
      "execution_count": 18,
      "outputs": [
        {
          "output_type": "execute_result",
          "data": {
            "text/plain": [
              "65708"
            ]
          },
          "metadata": {
            "tags": []
          },
          "execution_count": 18
        }
      ]
    },
    {
      "cell_type": "code",
      "metadata": {
        "id": "LeHOcU_QpIDx",
        "colab_type": "code",
        "outputId": "01770a78-e5dc-40b7-8f25-02d2e736b87b",
        "colab": {
          "base_uri": "https://localhost:8080/",
          "height": 356
        }
      },
      "source": [
        "#grafica con los trigramas\n",
        "freq = nltk.FreqDist(trigrama) #frecuencia de los tokens\n",
        "freqnew = [] #filtramos tokens que se repiten mas de una vez\n",
        "for key,val in freq.items():\n",
        "  if (val>1):\n",
        "    freqnew.append(str(key))\n",
        "freq.plot(20, cumulative=False, title = \"Trigrama\")"
      ],
      "execution_count": 19,
      "outputs": [
        {
          "output_type": "display_data",
          "data": {
            "image/png": "[encoded data removed]",
            "text/plain": [
              "<Figure size 432x288 with 1 Axes>"
            ]
          },
          "metadata": {
            "tags": [],
            "needs_background": "light"
          }
        }
      ]
    },
    {
      "cell_type": "code",
      "metadata": {
        "id": "TzMGVnREwnXl",
        "colab_type": "code",
        "outputId": "b8439da6-4411-4b37-bafa-16366943d1d2",
        "colab": {
          "base_uri": "https://localhost:8080/",
          "height": 34
        }
      },
      "source": [
        "len(freqnew)"
      ],
      "execution_count": 20,
      "outputs": [
        {
          "output_type": "execute_result",
          "data": {
            "text/plain": [
              "3850"
            ]
          },
          "metadata": {
            "tags": []
          },
          "execution_count": 20
        }
      ]
    },
    {
      "cell_type": "code",
      "metadata": {
        "id": "jJL4xYHVnz9e",
        "colab_type": "code",
        "colab": {}
      },
      "source": [
        "##para generar n-gramas\n",
        "#from nltk.util import ngrams\n",
        "#cuatrigrama = ngrams(tokenstk,4)\n",
        "#cuatrigrama = [ ' '.join(grams) for grams in cuatrigrama]"
      ],
      "execution_count": 0,
      "outputs": []
    },
    {
      "cell_type": "code",
      "metadata": {
        "id": "mH0Ew5dgoHv9",
        "colab_type": "code",
        "colab": {}
      },
      "source": [
        "#grafica con los cuatrigramas\n",
        "#freq = nltk.FreqDist(cuatrigrama)\n",
        "#freq.plot(20, cumulative=False, title = \"cuatrigrama\")"
      ],
      "execution_count": 0,
      "outputs": []
    },
    {
      "cell_type": "code",
      "metadata": {
        "id": "iw4yuF7Xpdte",
        "colab_type": "code",
        "colab": {}
      },
      "source": [
        "#print(len(cuatrigrama))"
      ],
      "execution_count": 0,
      "outputs": []
    },
    {
      "cell_type": "markdown",
      "metadata": {
        "id": "yoa0aOJzYt6c",
        "colab_type": "text"
      },
      "source": [
        "# Vocabulario"
      ]
    },
    {
      "cell_type": "code",
      "metadata": {
        "id": "j2OCXVov-zfZ",
        "colab_type": "code",
        "colab": {}
      },
      "source": [
        "corpus = train_sentences"
      ],
      "execution_count": 0,
      "outputs": []
    },
    {
      "cell_type": "code",
      "metadata": {
        "id": "mGpzgIA9-suc",
        "colab_type": "code",
        "colab": {
          "base_uri": "https://localhost:8080/",
          "height": 255
        },
        "outputId": "b5e6d657-fd88-413e-a587-07745c542c4f"
      },
      "source": [
        "tokenizer=Tokenizer()\n",
        "\n",
        "# Tokenizing the Corpus\n",
        "tokenizer.fit_on_texts(corpus)\n",
        "# We have all the top words on the dictionary + Out Of Vocabulary Word (OOV)\n",
        "total_words = len(tokenizer.word_index)+1\n",
        "\n",
        "# print('Dictionary: ',tokenizer.word_index,'\\n')\n",
        "print('Total Words in the Tokenizer (+OOV) =',total_words,'\\n')\n",
        "\n",
        "# Show Part of Corpus\n",
        "print('Corpus: \\n')\n",
        "corpus[0:10]"
      ],
      "execution_count": 25,
      "outputs": [
        {
          "output_type": "stream",
          "text": [
            "Total Words in the Tokenizer (+OOV) = 6795 \n",
            "\n",
            "Corpus: \n",
            "\n"
          ],
          "name": "stdout"
        },
        {
          "output_type": "execute_result",
          "data": {
            "text/plain": [
              "['wheres mr bergstrom',\n",
              " 'that life is worth living',\n",
              " 'victory party under the slide',\n",
              " 'mr bergstrom mr bergstrom',\n",
              " 'do you know where i could find him',\n",
              " 'the train how like him traditional yet environmentally sound',\n",
              " 'i see he touched you too',\n",
              " 'hey thanks for your vote man',\n",
              " 'well you got that right thanks for your vote girls',\n",
              " 'well dont sweat it just so long as a couple of people did right milhouse']"
            ]
          },
          "metadata": {
            "tags": []
          },
          "execution_count": 25
        }
      ]
    },
    {
      "cell_type": "code",
      "metadata": {
        "id": "NgObAkzQQ1Hr",
        "colab_type": "code",
        "colab": {}
      },
      "source": [
        ""
      ],
      "execution_count": 0,
      "outputs": []
    },
    {
      "cell_type": "code",
      "metadata": {
        "id": "cEQ-wtwH_Fig",
        "colab_type": "code",
        "colab": {
          "base_uri": "https://localhost:8080/",
          "height": 289
        },
        "outputId": "fbe3bfc3-f35a-48e7-9d92-39ae9a1a24f0"
      },
      "source": [
        "# Example:\n",
        "# say your prayers little one\n",
        "\n",
        "test_seq = []\n",
        "\n",
        "# First line on corpus\n",
        "print('First Line = ',corpus[0],'\\n')\n",
        "\n",
        "# Transform first line to sequences according to the dictionary\n",
        "token_test=tokenizer.texts_to_sequences([corpus[0]])[0]\n",
        "print('First Line into Sequence =',token_test,'\\n')\n",
        "\n",
        "# Create fragments of the line and make the data by ordered pieces\n",
        "for j in range(1, len(token_test)):\n",
        "  # Iterator over the elements of the line\n",
        "  n_gram_test=token_test[:j+1]\n",
        "  print('n-gram =',n_gram_test)\n",
        "  # Append all sequential results\n",
        "  test_seq.append(n_gram_test)\n",
        "  print('sequence = ',test_seq,'\\n')\n",
        "\n",
        "# Determine longest n-gram\n",
        "max_seq_test_len = max([len(x) for x in test_seq])\n",
        "# Padding\n",
        "test_seq = np.array(pad_sequences(test_seq, maxlen=max_seq_test_len, padding='pre'))\n",
        "print(\"Final n-gram Data:\\n\\n\",  test_seq,'\\n')\n",
        "print('Shape of Data: ',np.shape(test_seq))"
      ],
      "execution_count": 26,
      "outputs": [
        {
          "output_type": "stream",
          "text": [
            "First Line =  wheres mr bergstrom \n",
            "\n",
            "First Line into Sequence = [327, 106, 821] \n",
            "\n",
            "n-gram = [327, 106]\n",
            "sequence =  [[327, 106]] \n",
            "\n",
            "n-gram = [327, 106, 821]\n",
            "sequence =  [[327, 106], [327, 106, 821]] \n",
            "\n",
            "Final n-gram Data:\n",
            "\n",
            " [[  0 327 106]\n",
            " [327 106 821]] \n",
            "\n",
            "Shape of Data:  (2, 3)\n"
          ],
          "name": "stdout"
        }
      ]
    },
    {
      "cell_type": "markdown",
      "metadata": {
        "id": "phSLRUweYt-G",
        "colab_type": "text"
      },
      "source": [
        "# Transform target to one-hot codification"
      ]
    },
    {
      "cell_type": "code",
      "metadata": {
        "id": "yrGwYzPy_igk",
        "colab_type": "code",
        "colab": {}
      },
      "source": [
        "# Creating the Text Sequence for creating training data \n",
        "\n",
        "input_sequences = []\n",
        "for line in corpus:\n",
        "  token_list = tokenizer.texts_to_sequences([line])[0]\n",
        "  for i in range(1, len(token_list)):\n",
        "    n_gram_sequence = token_list[:i+1]\n",
        "    input_sequences.append(n_gram_sequence)\n",
        "\n",
        "# Padding\n",
        "\n",
        "max_sequence_len = max([len(x) for x in input_sequences])\n",
        "input_sequences = np.array(pad_sequences(input_sequences, maxlen=max_sequence_len, padding='pre'))\n",
        "\n",
        "# Create predictors and labels (labels are the final word of each sequence. Ex: Data: Say your prayers little, Label: one)\n",
        "\n",
        "xs, labels = input_sequences[:,:-1], input_sequences[:,-1]\n",
        "\n",
        "# One-Hot Encoding\n",
        "\n",
        "ys = tf.keras.utils.to_categorical(labels, num_classes=total_words)"
      ],
      "execution_count": 0,
      "outputs": []
    },
    {
      "cell_type": "code",
      "metadata": {
        "id": "zK1bvZDt_nS6",
        "colab_type": "code",
        "colab": {
          "base_uri": "https://localhost:8080/",
          "height": 136
        },
        "outputId": "c76962fe-5751-4081-e0dc-2ac8b5f5886d"
      },
      "source": [
        "xs"
      ],
      "execution_count": 28,
      "outputs": [
        {
          "output_type": "execute_result",
          "data": {
            "text/plain": [
              "array([[   0,    0,    0, ...,    0,    0,  327],\n",
              "       [   0,    0,    0, ...,    0,  327,  106],\n",
              "       [   0,    0,    0, ...,    0,    0,    9],\n",
              "       ...,\n",
              "       [   0,    0,    0, ...,   82,  433,  248],\n",
              "       [   0,    0,    0, ...,  433,  248,    3],\n",
              "       [   0,    0,    0, ...,  248,    3, 1566]], dtype=int32)"
            ]
          },
          "metadata": {
            "tags": []
          },
          "execution_count": 28
        }
      ]
    },
    {
      "cell_type": "code",
      "metadata": {
        "id": "DZCSLZY__w6r",
        "colab_type": "code",
        "colab": {
          "base_uri": "https://localhost:8080/",
          "height": 136
        },
        "outputId": "0ea069c8-5c9a-4e8c-a50d-6dc9f4d2ceec"
      },
      "source": [
        "ys"
      ],
      "execution_count": 29,
      "outputs": [
        {
          "output_type": "execute_result",
          "data": {
            "text/plain": [
              "array([[0., 0., 0., ..., 0., 0., 0.],\n",
              "       [0., 0., 0., ..., 0., 0., 0.],\n",
              "       [0., 0., 0., ..., 0., 0., 0.],\n",
              "       ...,\n",
              "       [0., 0., 0., ..., 0., 0., 0.],\n",
              "       [0., 0., 0., ..., 0., 0., 0.],\n",
              "       [0., 0., 0., ..., 0., 0., 1.]], dtype=float32)"
            ]
          },
          "metadata": {
            "tags": []
          },
          "execution_count": 29
        }
      ]
    },
    {
      "cell_type": "markdown",
      "metadata": {
        "id": "ipn9h1NHABBq",
        "colab_type": "text"
      },
      "source": [
        "# Arquitectura del Modelo"
      ]
    },
    {
      "cell_type": "code",
      "metadata": {
        "id": "OLK4cX_zARZS",
        "colab_type": "code",
        "colab": {}
      },
      "source": [
        "# Tensor Management\n",
        "import tensorflow as tf\n",
        "# For Padding\n",
        "from tensorflow.keras.preprocessing.sequence import pad_sequences\n",
        "# For Different Types of RNN\n",
        "from tensorflow.keras.layers import Embedding, LSTM, Dense, Bidirectional\n",
        "# For Tokenizer\n",
        "from tensorflow.keras.preprocessing.text import Tokenizer\n",
        "# Sequential DNN\n",
        "from tensorflow.keras.models import Sequential\n",
        "# Array Management\n",
        "import numpy as np"
      ],
      "execution_count": 0,
      "outputs": []
    },
    {
      "cell_type": "code",
      "metadata": {
        "id": "sBYeze9vAKp6",
        "colab_type": "code",
        "colab": {
          "base_uri": "https://localhost:8080/",
          "height": 255
        },
        "outputId": "2a903986-3a21-4087-82a2-07f90023c9ee"
      },
      "source": [
        "model = Sequential()\n",
        "model.add(Embedding(total_words, 64, input_length = max_sequence_len-1))\n",
        "model.add(Bidirectional(LSTM(20)))\n",
        "model.add(Dense(total_words,activation='softmax'))\n",
        "model.compile(loss='categorical_crossentropy', optimizer='adam', metrics =['accuracy'])\n",
        "model.summary()"
      ],
      "execution_count": 31,
      "outputs": [
        {
          "output_type": "stream",
          "text": [
            "Model: \"sequential\"\n",
            "_________________________________________________________________\n",
            "Layer (type)                 Output Shape              Param #   \n",
            "=================================================================\n",
            "embedding (Embedding)        (None, 86, 64)            434880    \n",
            "_________________________________________________________________\n",
            "bidirectional (Bidirectional (None, 40)                13600     \n",
            "_________________________________________________________________\n",
            "dense (Dense)                (None, 6795)              278595    \n",
            "=================================================================\n",
            "Total params: 727,075\n",
            "Trainable params: 727,075\n",
            "Non-trainable params: 0\n",
            "_________________________________________________________________\n"
          ],
          "name": "stdout"
        }
      ]
    },
    {
      "cell_type": "markdown",
      "metadata": {
        "id": "99H42HYZAb6Q",
        "colab_type": "text"
      },
      "source": [
        "# Entrenamiento del Modelo"
      ]
    },
    {
      "cell_type": "code",
      "metadata": {
        "id": "QU4D2bo5AeBb",
        "colab_type": "code",
        "colab": {
          "base_uri": "https://localhost:8080/",
          "height": 34
        },
        "outputId": "fc7df34e-0e93-4953-c331-bb14bb60b256"
      },
      "source": [
        "history = model.fit(xs,ys,epochs=1,verbose=2)"
      ],
      "execution_count": 32,
      "outputs": [
        {
          "output_type": "stream",
          "text": [
            "1817/1817 - 24s - loss: 6.7738 - accuracy: 0.0349\n"
          ],
          "name": "stdout"
        }
      ]
    }
  ]
}