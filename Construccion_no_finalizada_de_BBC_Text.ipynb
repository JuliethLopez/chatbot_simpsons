{
  "nbformat": 4,
  "nbformat_minor": 0,
  "metadata": {
    "accelerator": "GPU",
    "colab": {
      "name": "Construccion_no_finalizada_de_BBC_Text.ipynb",
      "provenance": [],
      "collapsed_sections": [],
      "toc_visible": true,
      "include_colab_link": true
    },
    "kernelspec": {
      "display_name": "Python 3",
      "language": "python",
      "name": "python3"
    },
    "language_info": {
      "codemirror_mode": {
        "name": "ipython",
        "version": 3
      },
      "file_extension": ".py",
      "mimetype": "text/x-python",
      "name": "python",
      "nbconvert_exporter": "python",
      "pygments_lexer": "ipython3",
      "version": "3.7.4"
    }
  },
  "cells": [
    {
      "cell_type": "markdown",
      "metadata": {
        "id": "view-in-github",
        "colab_type": "text"
      },
      "source": [
        "<a href=\"https://colab.research.google.com/github/JuliethLopez/chatbot_simpsons/blob/master/Construccion_no_finalizada_de_BBC_Text.ipynb\" target=\"_parent\"><img src=\"https://colab.research.google.com/assets/colab-badge.svg\" alt=\"Open In Colab\"/></a>"
      ]
    },
    {
      "cell_type": "markdown",
      "metadata": {
        "id": "uCXA97EMKfDG",
        "colab_type": "text"
      },
      "source": [
        "<a href=\"https://colab.research.google.com/github/JuliethLopez/chatbot_simpsons/blob/master/BBC_Text.ipynb\" target=\"_parent\"><img src=\"https://colab.research.google.com/assets/colab-badge.svg\" alt=\"Open In Colab\"/></a>"
      ]
    },
    {
      "cell_type": "markdown",
      "metadata": {
        "id": "UMKMq626ax3b",
        "colab_type": "text"
      },
      "source": [
        "# Clasificación usando Lenguaje Natural"
      ]
    },
    {
      "cell_type": "code",
      "metadata": {
        "colab_type": "code",
        "id": "GSfreYDvYt3M",
        "outputId": "d5455f1f-e80f-4384-bfec-736726663d82",
        "colab": {
          "base_uri": "https://localhost:8080/",
          "height": 34
        }
      },
      "source": [
        "#librerias\n",
        "import csv\n",
        "import tensorflow as tf\n",
        "import numpy as np\n",
        "import matplotlib.pyplot as plt\n",
        "import pandas as pd\n",
        "import matplotlib.pylab as plt\n",
        "import nltk\n",
        "from nltk import word_tokenize\n",
        "from nltk.util import ngrams\n",
        "from tensorflow.keras.preprocessing.text import Tokenizer\n",
        "from tensorflow.keras.preprocessing.sequence import pad_sequences\n",
        "import numpy as np\n",
        "from keras import layers, backend"
      ],
      "execution_count": 1,
      "outputs": [
        {
          "output_type": "stream",
          "text": [
            "Using TensorFlow backend.\n"
          ],
          "name": "stderr"
        }
      ]
    },
    {
      "cell_type": "code",
      "metadata": {
        "id": "7SHJ2Qb5ljbU",
        "colab_type": "code",
        "colab": {}
      },
      "source": [
        "# pip install nltk"
      ],
      "execution_count": 0,
      "outputs": []
    },
    {
      "cell_type": "code",
      "metadata": {
        "id": "fFh7bJC4lIG1",
        "colab_type": "code",
        "colab": {}
      },
      "source": [
        "# nltk.download()"
      ],
      "execution_count": 0,
      "outputs": []
    },
    {
      "cell_type": "code",
      "metadata": {
        "id": "DIvXeFflmGJE",
        "colab_type": "code",
        "colab": {}
      },
      "source": [
        "from nltk.tokenize import word_tokenize, sent_tokenize, regexp_tokenize"
      ],
      "execution_count": 0,
      "outputs": []
    },
    {
      "cell_type": "markdown",
      "metadata": {
        "id": "dLUigGjXYt3r",
        "colab_type": "text"
      },
      "source": [
        "# Define algunas características iniciales"
      ]
    },
    {
      "cell_type": "code",
      "metadata": {
        "colab_type": "code",
        "id": "EYo6A4v5ZABQ",
        "colab": {}
      },
      "source": [
        "vocab_size = 37069 # número de palabras que integrarán el vocabulario\n",
        "embedding_dim = 32 # dimensión del embeding de las palabras\n",
        "max_length = 120  # longitud máxima de una oración (sentence filtrada con stopwords)\n",
        "trunc_type='post' # donde truncar una oración (sentence, filtrada con stopwords)\n",
        "padding_type='post'# donde hacer el padding (agregar ceros) en una oración (sentence, filtrada con stopwords)\n",
        "oov_tok = \"<OOV>\"  # token para las palabras que queden fuera del vocabulario\n",
        "training_portion = .8  # porcentaje de datos para entrenamiento"
      ],
      "execution_count": 0,
      "outputs": []
    },
    {
      "cell_type": "code",
      "metadata": {
        "colab_type": "code",
        "id": "iU1qq3_SZBx_",
        "outputId": "423cf068-d9ea-4c05-9540-f6d165156393",
        "colab": {
          "base_uri": "https://localhost:8080/",
          "height": 34
        }
      },
      "source": [
        "complete_sentences = []\n",
        "complete_lines = [] \n",
        "sentences = []\n",
        "labels = [] # preprocesed labels\n",
        "\n",
        "stopwords = []\n",
        "print(len(stopwords))"
      ],
      "execution_count": 5,
      "outputs": [
        {
          "output_type": "stream",
          "text": [
            "0\n"
          ],
          "name": "stdout"
        }
      ]
    },
    {
      "cell_type": "code",
      "metadata": {
        "id": "9QFugJkmYt4n",
        "colab_type": "code",
        "outputId": "ea7b3eed-f0c4-4286-96b9-45811488f474",
        "colab": {
          "base_uri": "https://localhost:8080/",
          "height": 68
        }
      },
      "source": [
        "import string\n",
        "import numpy as np\n",
        "\n",
        "a = np.array([32]) # space\n",
        "#b = np.array(range(65,91)) # uppercase\n",
        "c = np.array(range(97,123)) # lowercase\n",
        "printab = np.hstack((a,c))\n",
        "\n",
        "printable = np.array([chr(i) for i in printab])   \n",
        "printable\n",
        "\n",
        "#ascci_to_char = dict((printab[i], printable[i]) for i in range(len(printable)))"
      ],
      "execution_count": 6,
      "outputs": [
        {
          "output_type": "execute_result",
          "data": {
            "text/plain": [
              "array([' ', 'a', 'b', 'c', 'd', 'e', 'f', 'g', 'h', 'i', 'j', 'k', 'l',\n",
              "       'm', 'n', 'o', 'p', 'q', 'r', 's', 't', 'u', 'v', 'w', 'x', 'y',\n",
              "       'z'], dtype='<U1')"
            ]
          },
          "metadata": {
            "tags": []
          },
          "execution_count": 6
        }
      ]
    },
    {
      "cell_type": "code",
      "metadata": {
        "colab_type": "code",
        "id": "eutB2xMiZD0e",
        "outputId": "3dc3f6d8-54c7-4985-fd67-bf56cec62fb5",
        "colab": {
          "base_uri": "https://localhost:8080/",
          "height": 85
        }
      },
      "source": [
        "#lectura de los datos\n",
        "import string\n",
        "import re #regular expresions\n",
        "# abre el archivo de datos y lo trata como un archivo csv\n",
        "file = open('DFSMS.csv', 'r')\n",
        "with file as csvfile:\n",
        "    reader = csv.reader(csvfile, delimiter=',')\n",
        "    next(reader)\n",
        "    for row in reader:\n",
        "        # preprocess label\n",
        "        #label_l = ' '.join(row[0].split()).lower().replace(' ','_') # lower case ans eliminate multiple spaces\n",
        "        label_l = re.sub(' +', ' ',row[0].lower()) # lower case ans eliminate multiple spaces\n",
        "        if (len(label_l)>2): # drop with empty label\n",
        "            label = ''.join(c for c in label_l if c in printable)# filter only printable characters\n",
        "            label = label.replace(' ','_')\n",
        "            labels.append(label)\n",
        "            # preprocess sentence\n",
        "            #sentence_l = ' '.join(row[1].split()).lower().replace(' ','_') # lower case ans eliminate multiple spaces\n",
        "            sentence_l = re.sub(' +', ' ',row[1].lower())\n",
        "            sentence = ''.join(c for c in sentence_l if c in printable)\n",
        "            complete_lines.append(row[0] + ': '+ row[1])\n",
        "            complete_sentences.append(sentence)\n",
        "            # preprocess stopwords\n",
        "            for word in stopwords:\n",
        "                token = \" \" + word + \" \"\n",
        "                sentence = sentence.replace(token, \" \")\n",
        "            sentences.append(sentence)\n",
        " \n",
        "\n",
        "# resumen de la lectura            \n",
        "print(len(labels))\n",
        "print(len(complete_sentences))\n",
        "print(len(complete_lines))\n",
        "print(len(sentences))\n",
        "# Expected Output\n",
        "# 158314"
      ],
      "execution_count": 7,
      "outputs": [
        {
          "output_type": "stream",
          "text": [
            "9464\n",
            "9464\n",
            "9464\n",
            "9464\n"
          ],
          "name": "stdout"
        }
      ]
    },
    {
      "cell_type": "code",
      "metadata": {
        "colab_type": "code",
        "outputId": "42e5ff9e-b2a5-4c08-a5e5-adffd6e0f19a",
        "id": "mHP5HqP4Yt5U",
        "colab": {
          "base_uri": "https://localhost:8080/",
          "height": 153
        }
      },
      "source": [
        "# primera linea\n",
        "print(labels[0]+'\\n')\n",
        "print(complete_sentences[0]+'\\n')\n",
        "print(complete_lines[0]+'\\n')\n",
        "print(sentences[0]+'\\n')\n",
        "# Expected Output\n",
        "# 158314\n",
        "# 158314"
      ],
      "execution_count": 8,
      "outputs": [
        {
          "output_type": "stream",
          "text": [
            "lisa_simpson\n",
            "\n",
            "wheres mr bergstrom\n",
            "\n",
            "Lisa Simpson: Where's Mr. Bergstrom?\n",
            "\n",
            "wheres mr bergstrom\n",
            "\n"
          ],
          "name": "stdout"
        }
      ]
    },
    {
      "cell_type": "code",
      "metadata": {
        "id": "djFPe1k6pOp9",
        "colab_type": "code",
        "outputId": "ec22efc5-d725-41fb-883f-8aa0d14299a9",
        "colab": {
          "base_uri": "https://localhost:8080/",
          "height": 281
        }
      },
      "source": [
        "#Gráfico de barras de numero de frases por personaje\n",
        "frec = pd.value_counts(labels)\n",
        "plot = frec.plot(kind='barh',title='Numero de frases por personaje',color=['deepskyblue','orangered','darkkhaki','gold'])"
      ],
      "execution_count": 9,
      "outputs": [
        {
          "output_type": "display_data",
          "data": {
            "image/png": "[encoded data removed]",
            "text/plain": [
              "<Figure size 432x288 with 1 Axes>"
            ]
          },
          "metadata": {
            "tags": [],
            "needs_background": "light"
          }
        }
      ]
    },
    {
      "cell_type": "code",
      "metadata": {
        "id": "6Vqqx5Q2Yt5q",
        "colab_type": "code",
        "outputId": "ea913168-21f5-4895-c451-a5ad1b0407be",
        "colab": {
          "base_uri": "https://localhost:8080/",
          "height": 85
        }
      },
      "source": [
        "sentences[:4]"
      ],
      "execution_count": 10,
      "outputs": [
        {
          "output_type": "execute_result",
          "data": {
            "text/plain": [
              "['wheres mr bergstrom',\n",
              " 'that life is worth living',\n",
              " 'victory party under the slide',\n",
              " 'mr bergstrom mr bergstrom']"
            ]
          },
          "metadata": {
            "tags": []
          },
          "execution_count": 10
        }
      ]
    },
    {
      "cell_type": "markdown",
      "metadata": {
        "id": "QH4k5vkXYt6B",
        "colab_type": "text"
      },
      "source": [
        "# Separa datos de entrenamiento y validación "
      ]
    },
    {
      "cell_type": "code",
      "metadata": {
        "colab_type": "code",
        "id": "XfdaWh06ZGe3",
        "outputId": "5146b7c8-d448-499c-96b6-fda912a455df",
        "colab": {
          "base_uri": "https://localhost:8080/",
          "height": 102
        }
      },
      "source": [
        "train_size = int(len(sentences) * training_portion)\n",
        "\n",
        "train_sentences = sentences[:train_size]\n",
        "train_labels = labels[:train_size]\n",
        "\n",
        "validation_sentences = sentences[train_size:]\n",
        "validation_labels = labels[train_size:]\n",
        "\n",
        "print(train_size)\n",
        "print(len(train_sentences))\n",
        "print(len(train_labels))\n",
        "print(len(validation_sentences))\n",
        "print(len(validation_labels))\n",
        "\n",
        "# Expected output (if training_portion=.8)\n",
        "# 126651 train\n",
        "# 31663 validation"
      ],
      "execution_count": 11,
      "outputs": [
        {
          "output_type": "stream",
          "text": [
            "7571\n",
            "7571\n",
            "7571\n",
            "1893\n",
            "1893\n"
          ],
          "name": "stdout"
        }
      ]
    },
    {
      "cell_type": "code",
      "metadata": {
        "id": "eN2cwKFrZL6v",
        "colab_type": "code",
        "outputId": "0c862831-2fcd-4f9f-c473-dafa1636b8d6",
        "colab": {
          "base_uri": "https://localhost:8080/",
          "height": 68
        }
      },
      "source": [
        "train_sentences[:3]"
      ],
      "execution_count": 12,
      "outputs": [
        {
          "output_type": "execute_result",
          "data": {
            "text/plain": [
              "['wheres mr bergstrom',\n",
              " 'that life is worth living',\n",
              " 'victory party under the slide']"
            ]
          },
          "metadata": {
            "tags": []
          },
          "execution_count": 12
        }
      ]
    },
    {
      "cell_type": "code",
      "metadata": {
        "id": "Nfk2wm03nVPG",
        "colab_type": "code",
        "outputId": "a97415a8-8946-4265-b123-c72b78ffa854",
        "colab": {
          "base_uri": "https://localhost:8080/",
          "height": 34
        }
      },
      "source": [
        "train_labels[:3]"
      ],
      "execution_count": 13,
      "outputs": [
        {
          "output_type": "execute_result",
          "data": {
            "text/plain": [
              "['lisa_simpson', 'lisa_simpson', 'bart_simpson']"
            ]
          },
          "metadata": {
            "tags": []
          },
          "execution_count": 13
        }
      ]
    },
    {
      "cell_type": "markdown",
      "metadata": {
        "id": "N_E4h9j8Mh90",
        "colab_type": "text"
      },
      "source": [
        "# Tokens"
      ]
    },
    {
      "cell_type": "code",
      "metadata": {
        "id": "Nos0q123nKks",
        "colab_type": "code",
        "colab": {}
      },
      "source": [
        "#juntamos todo el texto en una sola linea\n",
        "wordtk = ' '.join(train_sentences)"
      ],
      "execution_count": 0,
      "outputs": []
    },
    {
      "cell_type": "code",
      "metadata": {
        "id": "NDnhdpM1nk3J",
        "colab_type": "code",
        "outputId": "cc517373-2748-4918-c8f8-169ed238587d",
        "colab": {
          "base_uri": "https://localhost:8080/",
          "height": 187
        }
      },
      "source": [
        "#para dividir las frases\n",
        "tokenstk = regexp_tokenize(wordtk, pattern=\"\\w+\")\n",
        "tokenstk[:10]"
      ],
      "execution_count": 15,
      "outputs": [
        {
          "output_type": "execute_result",
          "data": {
            "text/plain": [
              "['wheres',\n",
              " 'mr',\n",
              " 'bergstrom',\n",
              " 'that',\n",
              " 'life',\n",
              " 'is',\n",
              " 'worth',\n",
              " 'living',\n",
              " 'victory',\n",
              " 'party']"
            ]
          },
          "metadata": {
            "tags": []
          },
          "execution_count": 15
        }
      ]
    },
    {
      "cell_type": "code",
      "metadata": {
        "id": "VcVViOPkpFh0",
        "colab_type": "code",
        "outputId": "2371c2aa-1624-447f-88a0-9372c2e02634",
        "colab": {
          "base_uri": "https://localhost:8080/",
          "height": 102
        }
      },
      "source": [
        "#para generar n-gramas\n",
        "from nltk.util import ngrams\n",
        "trigrama = ngrams(tokenstk,3)\n",
        "trigrama = [' '.join(grams) for grams in trigrama]\n",
        "trigrama[:5]"
      ],
      "execution_count": 16,
      "outputs": [
        {
          "output_type": "execute_result",
          "data": {
            "text/plain": [
              "['wheres mr bergstrom',\n",
              " 'mr bergstrom that',\n",
              " 'bergstrom that life',\n",
              " 'that life is',\n",
              " 'life is worth']"
            ]
          },
          "metadata": {
            "tags": []
          },
          "execution_count": 16
        }
      ]
    },
    {
      "cell_type": "code",
      "metadata": {
        "id": "e1ep8d4qw3-m",
        "colab_type": "code",
        "outputId": "e2a67dbd-245a-4b94-d791-65e6620eaf90",
        "colab": {
          "base_uri": "https://localhost:8080/",
          "height": 34
        }
      },
      "source": [
        "len(trigrama)"
      ],
      "execution_count": 17,
      "outputs": [
        {
          "output_type": "execute_result",
          "data": {
            "text/plain": [
              "65708"
            ]
          },
          "metadata": {
            "tags": []
          },
          "execution_count": 17
        }
      ]
    },
    {
      "cell_type": "code",
      "metadata": {
        "id": "LeHOcU_QpIDx",
        "colab_type": "code",
        "outputId": "83900443-eeea-42d2-9d55-b63e29082e44",
        "colab": {
          "base_uri": "https://localhost:8080/",
          "height": 356
        }
      },
      "source": [
        "#grafica con los trigramas\n",
        "freq = nltk.FreqDist(trigrama) #frecuencia de los tokens\n",
        "freqnew = [] #filtramos tokens que se repiten mas de una vez\n",
        "for key,val in freq.items():\n",
        "  if (val>1):\n",
        "    freqnew.append(str(key))\n",
        "freq.plot(20, cumulative=False, title = \"Trigrama\")"
      ],
      "execution_count": 18,
      "outputs": [
        {
          "output_type": "display_data",
          "data": {
            "image/png": "[encoded data removed]",
            "text/plain": [
              "<Figure size 432x288 with 1 Axes>"
            ]
          },
          "metadata": {
            "tags": [],
            "needs_background": "light"
          }
        }
      ]
    },
    {
      "cell_type": "code",
      "metadata": {
        "id": "TzMGVnREwnXl",
        "colab_type": "code",
        "outputId": "a6a8dff5-dddf-4f1b-f766-4268347877f4",
        "colab": {
          "base_uri": "https://localhost:8080/",
          "height": 34
        }
      },
      "source": [
        "len(freqnew)"
      ],
      "execution_count": 19,
      "outputs": [
        {
          "output_type": "execute_result",
          "data": {
            "text/plain": [
              "3850"
            ]
          },
          "metadata": {
            "tags": []
          },
          "execution_count": 19
        }
      ]
    },
    {
      "cell_type": "code",
      "metadata": {
        "id": "jJL4xYHVnz9e",
        "colab_type": "code",
        "colab": {}
      },
      "source": [
        "##para generar n-gramas\n",
        "#from nltk.util import ngrams\n",
        "#cuatrigrama = ngrams(tokenstk,4)\n",
        "#cuatrigrama = [ ' '.join(grams) for grams in cuatrigrama]"
      ],
      "execution_count": 0,
      "outputs": []
    },
    {
      "cell_type": "code",
      "metadata": {
        "id": "mH0Ew5dgoHv9",
        "colab_type": "code",
        "colab": {}
      },
      "source": [
        "#grafica con los cuatrigramas\n",
        "#freq = nltk.FreqDist(cuatrigrama)\n",
        "#freq.plot(20, cumulative=False, title = \"cuatrigrama\")"
      ],
      "execution_count": 0,
      "outputs": []
    },
    {
      "cell_type": "code",
      "metadata": {
        "id": "iw4yuF7Xpdte",
        "colab_type": "code",
        "colab": {}
      },
      "source": [
        "#print(len(cuatrigrama))"
      ],
      "execution_count": 0,
      "outputs": []
    },
    {
      "cell_type": "markdown",
      "metadata": {
        "id": "yoa0aOJzYt6c",
        "colab_type": "text"
      },
      "source": [
        "# Vocabulario"
      ]
    },
    {
      "cell_type": "code",
      "metadata": {
        "id": "j2OCXVov-zfZ",
        "colab_type": "code",
        "colab": {}
      },
      "source": [
        "corpus = train_sentences"
      ],
      "execution_count": 0,
      "outputs": []
    },
    {
      "cell_type": "code",
      "metadata": {
        "id": "mGpzgIA9-suc",
        "colab_type": "code",
        "colab": {
          "base_uri": "https://localhost:8080/",
          "height": 309
        },
        "outputId": "0c9f33ca-afef-4616-d610-618f048842a7"
      },
      "source": [
        "tokenizer=Tokenizer()\n",
        "\n",
        "# Tokenizing the Corpus\n",
        "tokenizer.fit_on_texts(corpus)\n",
        "# We have all the top words on the dictionary + Out Of Vocabulary Word (OOV)\n",
        "total_words = len(tokenizer.word_index)+1\n",
        "\n",
        "print('Dictionary: ',tokenizer.word_index,'\\n')\n",
        "print('Total Words in the Tokenizer (+OOV) =',total_words,'\\n')\n",
        "\n",
        "# Show Part of Corpus\n",
        "print('Corpus: \\n')\n",
        "corpus[0:10]"
      ],
      "execution_count": 22,
      "outputs": [
        {
          "output_type": "stream",
          "text": [
            "Dictionary:  {'you': 1, 'i': 2, 'the': 3, 'a': 4, 'to': 5, 'and': 6, 'it': 7, 'of': 8, 'that': 9, 'my': 10, 'is': 11, 'this': 12, 'me': 13, 'in': 14, 'oh': 15, 'for': 16, 'your': 17, 'im': 18, 'what': 19, 'no': 20, 'do': 21, 'have': 22, 'dont': 23, 'on': 24, 'be': 25, 'well': 26, 'we': 27, 'but': 28, 'its': 29, 'all': 30, 'just': 31, 'homer': 32, 'bart': 33, 'was': 34, 'know': 35, 'dad': 36, 'not': 37, 'are': 38, 'can': 39, 'get': 40, 'so': 41, 'marge': 42, 'like': 43, 'with': 44, 'hey': 45, 'youre': 46, 'right': 47, 'thats': 48, 'if': 49, 'up': 50, 'now': 51, 'think': 52, 'he': 53, 'go': 54, 'how': 55, 'at': 56, 'out': 57, 'got': 58, 'one': 59, 'were': 60, 'ill': 61, 'good': 62, 'yeah': 63, 'lisa': 64, 'here': 65, 'about': 66, 'there': 67, 'cant': 68, 'little': 69, 'see': 70, 'look': 71, 'come': 72, 'did': 73, 'they': 74, 'could': 75, 'uh': 76, 'want': 77, 'time': 78, 'going': 79, 'him': 80, 'as': 81, 'gonna': 82, 'when': 83, 'our': 84, 'boy': 85, 'why': 86, 'some': 87, 'ive': 88, 'okay': 89, 'his': 90, 'something': 91, 'really': 92, 'mom': 93, 'man': 94, 'who': 95, 'will': 96, 'please': 97, 'an': 98, 'never': 99, 'say': 100, 'back': 101, 'from': 102, 'make': 103, 'take': 104, 'theres': 105, 'mr': 106, 'whats': 107, 'should': 108, 'hes': 109, 'her': 110, 'more': 111, 'too': 112, 'give': 113, 'didnt': 114, 'thing': 115, 'us': 116, 'been': 117, 'kids': 118, 'down': 119, 'sorry': 120, 'off': 121, 'sure': 122, 'heh': 123, 'tell': 124, 'yes': 125, 'day': 126, 'had': 127, 'way': 128, 'maybe': 129, 'son': 130, 'would': 131, 'money': 132, 'lets': 133, 'wait': 134, 'mean': 135, 'she': 136, 'better': 137, 'big': 138, 'let': 139, 'love': 140, 'krusty': 141, 'need': 142, 'am': 143, 'moe': 144, 'over': 145, 'name': 146, 'life': 147, 'only': 148, 'id': 149, 'where': 150, 'maggie': 151, 'old': 152, 'great': 153, 'again': 154, 'then': 155, 'those': 156, 'by': 157, 'has': 158, 'ever': 159, 'bad': 160, 'youve': 161, 'two': 162, 'because': 163, 'any': 164, 'guy': 165, 'much': 166, 'or': 167, 'very': 168, 'flanders': 169, 'job': 170, 'home': 171, 'first': 172, 'thanks': 173, 'honey': 174, 'people': 175, 'always': 176, 'wow': 177, 'new': 178, 'help': 179, 'huh': 180, 'last': 181, 'stop': 182, 'baby': 183, 'gotta': 184, 'god': 185, 'beer': 186, 'father': 187, 'house': 188, 'homie': 189, 'wrong': 190, 'hell': 191, 'ah': 192, 'tv': 193, 'burns': 194, 'them': 195, 'work': 196, 'thought': 197, 'happy': 198, 'night': 199, 'simpson': 200, 'than': 201, 'wont': 202, 'isnt': 203, 'guys': 204, 'woo': 205, 'three': 206, 'does': 207, 'lot': 208, 'thank': 209, 'guess': 210, 'doesnt': 211, 'theyre': 212, 'said': 213, 'hoo': 214, 'stupid': 215, 'talk': 216, 'another': 217, 'remember': 218, 'hello': 219, 'nice': 220, 'school': 221, 'ooh': 222, 'dollars': 223, 'through': 224, 'birthday': 225, 'anything': 226, 'show': 227, 'dog': 228, 'milhouse': 229, 'things': 230, 'must': 231, 'these': 232, 'even': 233, 'best': 234, 'call': 235, 'dear': 236, 'before': 237, 'made': 238, 'youll': 239, 'grampa': 240, 'minute': 241, 'put': 242, 'still': 243, 'play': 244, 'ow': 245, 'eat': 246, 'done': 247, 'around': 248, 'hear': 249, 'keep': 250, 'goes': 251, 'ya': 252, 'away': 253, 'bed': 254, 'feel': 255, 'worry': 256, 'into': 257, 'hi': 258, 'watch': 259, 'find': 260, 'nothing': 261, 'their': 262, 'cool': 263, 'every': 264, 'long': 265, 'quit': 266, 'coming': 267, 'car': 268, 'doing': 269, 'while': 270, 'hmm': 271, 'wish': 272, 'wouldnt': 273, 'hmmm': 274, 'next': 275, 'whos': 276, 'after': 277, 'head': 278, 'buy': 279, 'believe': 280, 'real': 281, 'world': 282, 'enough': 283, 'years': 284, 'lis': 285, 'fine': 286, 'blah': 287, 'weve': 288, 'fun': 289, 'mother': 290, 'family': 291, 'free': 292, 'other': 293, 'lost': 294, 'special': 295, 'shes': 296, 'without': 297, 'oooh': 298, 'bet': 299, 'listen': 300, 'dead': 301, 'today': 302, 'girl': 303, 'talking': 304, 'win': 305, 'funny': 306, 'leave': 307, 'needs': 308, 'forget': 309, 'stay': 310, 'idea': 311, 'eh': 312, 'game': 313, 'shut': 314, 'seen': 315, 'may': 316, 'miss': 317, 'sir': 318, 'true': 319, 'place': 320, 'sleep': 321, 'aw': 322, 'kill': 323, 'story': 324, 'problem': 325, 'tonight': 326, 'wheres': 327, 'understand': 328, 'everything': 329, 'whole': 330, 'five': 331, 'mad': 332, 'em': 333, 'town': 334, 'plow': 335, 'mmm': 336, 'face': 337, 'lousy': 338, 'might': 339, 'wanna': 340, 'ten': 341, 'hundred': 342, 'ha': 343, 'hit': 344, 'barney': 345, 'left': 346, 'youd': 347, 'called': 348, 'everybody': 349, 'hand': 350, 'ask': 351, 'check': 352, 'makes': 353, 'use': 354, 'trying': 355, 'looks': 356, 'getting': 357, 'butt': 358, 'sweet': 359, 'yourself': 360, 'heart': 361, 'havent': 362, 'someone': 363, 'being': 364, 'pay': 365, 'woman': 366, 'chocolate': 367, 'own': 368, 'beautiful': 369, 'read': 370, 'friend': 371, 'kind': 372, 'eight': 373, 'making': 374, 'told': 375, 'cmon': 376, 'springfield': 377, 'pretty': 378, 'actually': 379, 'bring': 380, 'friends': 381, 'hope': 382, 'came': 383, 'book': 384, 'uhoh': 385, 'boys': 386, 'looking': 387, 'days': 388, 'excuse': 389, 'care': 390, 'lose': 391, 'such': 392, 'gave': 393, 'went': 394, 'apu': 395, 'try': 396, 'many': 397, 'pick': 398, 'minutes': 399, 'course': 400, 'change': 401, 'hate': 402, 'whoa': 403, 'everyone': 404, 'husband': 405, 'young': 406, 'having': 407, 'same': 408, 'poor': 409, 'four': 410, 'pony': 411, 'barts': 412, 'la': 413, 'point': 414, 'party': 415, 'hold': 416, 'knew': 417, 'children': 418, 'least': 419, 'matter': 420, 'year': 421, 'arent': 422, 'mrs': 423, 'store': 424, 'perfect': 425, 'open': 426, 'six': 427, 'myself': 428, 'thinking': 429, 'wanted': 430, 'heard': 431, 'card': 432, 'rock': 433, 'uhhuh': 434, 'box': 435, 'dream': 436, 'college': 437, 'yet': 438, 'run': 439, 'happened': 440, 'daddy': 441, 'lucky': 442, 'alone': 443, 'couldnt': 444, 'says': 445, 'times': 446, 'wasnt': 447, 'found': 448, 'power': 449, 'used': 450, 'promise': 451, 'morning': 452, 'die': 453, 'present': 454, 'stuff': 455, 'fair': 456, 'sounds': 457, 'room': 458, 'learned': 459, 'live': 460, 'aunt': 461, 'living': 462, 'under': 463, 'together': 464, 'mmmm': 465, 'ones': 466, 'half': 467, 'few': 468, 'stick': 469, 'word': 470, 'already': 471, 'fifty': 472, 'turn': 473, 'saved': 474, 'plan': 475, 'heres': 476, 'loves': 477, 'door': 478, 'brother': 479, 'song': 480, 'da': 481, 'tomorrow': 482, 'duff': 483, 'mind': 484, 'saying': 485, 'gimme': 486, 'ice': 487, 'church': 488, 'wonderful': 489, 'number': 490, 'crazy': 491, 'clean': 492, 'bucks': 493, 'until': 494, 'taking': 495, 'hee': 496, 'working': 497, 'hair': 498, 'wife': 499, 'second': 500, 'ready': 501, 'anymore': 502, 'hands': 503, 'won': 504, 'outta': 505, 'shouldnt': 506, 'movie': 507, 'theyll': 508, 'since': 509, 'herb': 510, 'girls': 511, 'easy': 512, 'inside': 513, 'goodbye': 514, 'both': 515, 'kid': 516, 'most': 517, 'cause': 518, 'rich': 519, 'million': 520, 'dinner': 521, 'selma': 522, 'wants': 523, 'itll': 524, 'blood': 525, 'plant': 526, 'pull': 527, 'letter': 528, 'write': 529, 'deal': 530, 'cut': 531, 'damn': 532, 'learn': 533, 'spend': 534, 'greatest': 535, 'lu': 536, 'men': 537, 'gone': 538, 'probably': 539, 'bottle': 540, 'cute': 541, 'marriage': 542, 'also': 543, 'save': 544, 'walk': 545, 'saw': 546, 'finally': 547, 'nah': 548, 'nobody': 549, 'watching': 550, 'happen': 551, 'hard': 552, 'gets': 553, 'start': 554, 'hat': 555, 'cat': 556, 'fire': 557, 'pants': 558, 'doctor': 559, 'swear': 560, 'afraid': 561, 'bye': 562, 'bob': 563, 'eyes': 564, 'fault': 565, 'late': 566, 'water': 567, 'clown': 568, 'test': 569, 'drink': 570, 'high': 571, 'become': 572, 'gambling': 573, 'bus': 574, 'lurleen': 575, 'milk': 576, 'food': 577, 'promised': 578, 'line': 579, 'almost': 580, 'lady': 581, 'wonder': 582, 'sisters': 583, 'proud': 584, 'anyway': 585, 'once': 586, 'twenty': 587, 'comes': 588, 'candy': 589, 'nope': 590, 'michael': 591, 'football': 592, 'trip': 593, 'which': 594, 'death': 595, 'mine': 596, 'police': 597, 'afford': 598, 'smart': 599, 'otto': 600, 'lisas': 601, 'bear': 602, 'dee': 603, 'bought': 604, 'boring': 605, 'itchy': 606, 'ralph': 607, 'sound': 608, 'martin': 609, 'ball': 610, 'supposed': 611, 'notice': 612, 'catch': 613, 'chance': 614, 'step': 615, 'seven': 616, 'ugly': 617, 'feeling': 618, 'means': 619, 'hero': 620, 'hot': 621, 'earth': 622, 'end': 623, 'yours': 624, 'till': 625, 'weight': 626, 'ride': 627, 'playing': 628, 'else': 629, 'yello': 630, 'country': 631, 'knock': 632, 'principal': 633, 'ahhh': 634, 'lord': 635, 'drive': 636, 'side': 637, 'sell': 638, 'likes': 639, 'couch': 640, 'kiss': 641, 'cream': 642, 'brain': 643, 'burglar': 644, 'somebody': 645, 'hurt': 646, 'nuts': 647, 'gotten': 648, 'lie': 649, 'whatd': 650, 'music': 651, 'except': 652, 'telling': 653, 'ohhh': 654, 'question': 655, 'tired': 656, 'ahead': 657, 'fish': 658, 'afternoon': 659, 'stand': 660, 'terrible': 661, 'ate': 662, 'week': 663, 'sunday': 664, 'quiet': 665, 'teach': 666, 'tried': 667, 'woohoo': 668, 'part': 669, 'smell': 670, 'whatever': 671, 'sister': 672, 'pink': 673, 'wear': 674, 'red': 675, 'named': 676, 'chief': 677, 'gee': 678, 'magazine': 679, 'truth': 680, 'grow': 681, 'button': 682, 'later': 683, 'ned': 684, 'lesson': 685, 'thinks': 686, 'weeks': 687, 'skinner': 688, 'paper': 689, 'each': 690, 'rabbi': 691, 'meet': 692, 'thousand': 693, 'meant': 694, 'low': 695, 'fool': 696, 'sideshow': 697, 'braces': 698, 'vampire': 699, 'worth': 700, 'glad': 701, 'baboon': 702, 'class': 703, 'president': 704, 'throw': 705, 'operation': 706, 'wet': 707, 'clothes': 708, 'teeth': 709, 'forgot': 710, 'none': 711, 'business': 712, 'sometimes': 713, 'top': 714, 'trouble': 715, 'secret': 716, 'died': 717, 'took': 718, 'sold': 719, 'age': 720, 'sucks': 721, 'cheap': 722, 'against': 723, 'far': 724, 'bit': 725, 'wearing': 726, 'broke': 727, 'eye': 728, 'worse': 729, 'shirt': 730, 'send': 731, 'aye': 732, 'rest': 733, 'sit': 734, 'news': 735, 'lives': 736, 'justice': 737, 'laughing': 738, 'um': 739, 'break': 740, 'field': 741, 'according': 742, 'phone': 743, 'ohh': 744, 'saxophone': 745, 'outside': 746, 'ballet': 747, 'sitting': 748, 'sick': 749, 'straight': 750, 'april': 751, 'casino': 752, 'teacher': 753, 'forever': 754, 'realize': 755, 'forgive': 756, 'wedding': 757, 'explain': 758, 'threw': 759, 'fill': 760, 'bar': 761, 'himself': 762, 'kidding': 763, 'set': 764, 'hows': 765, 'killed': 766, 'body': 767, 'moment': 768, 'worked': 769, 'laugh': 770, 'buying': 771, 'mister': 772, 'shoe': 773, 'ring': 774, 'monster': 775, 'magic': 776, 'boss': 777, 'mail': 778, 'surprise': 779, 'letters': 780, 'move': 781, 'brought': 782, 'double': 783, 'gift': 784, 'wrote': 785, 'instead': 786, 'scratchy': 787, 'whoohoo': 788, 'carumba': 789, 'fat': 790, 'dumb': 791, 'aint': 792, 'costume': 793, 'america': 794, 'spot': 795, 'caught': 796, 'ago': 797, 'eating': 798, 'peace': 799, 'beans': 800, 'started': 801, 'pizza': 802, 'daughter': 803, 'noise': 804, 'goodnight': 805, 'waiting': 806, 'behind': 807, 'drinking': 808, 'passed': 809, 'hutz': 810, 'fools': 811, 'blue': 812, 'takes': 813, 'starting': 814, 'tape': 815, 'malibu': 816, 'cheese': 817, 'ew': 818, 'monorail': 819, 'mindy': 820, 'bergstrom': 821, 'unless': 822, 'anyone': 823, 'doll': 824, 'parents': 825, 'respect': 826, 'wondering': 827, 'hurry': 828, 'mouth': 829, 'nose': 830, 'syrup': 831, 'pal': 832, 'hours': 833, 'soon': 834, 'sad': 835, 'comic': 836, 'patty': 837, 'answer': 838, 'beat': 839, 'ugh': 840, 'writing': 841, 'tickets': 842, 'alive': 843, 'gettin': 844, 'turns': 845, 'bill': 846, 'case': 847, 'enjoy': 848, 'stole': 849, 'white': 850, 'quick': 851, 'fly': 852, 'calling': 853, 'jackson': 854, 'child': 855, 'werent': 856, 'reading': 857, 'missing': 858, 'push': 859, 'games': 860, 'changed': 861, 'air': 862, 'cry': 863, 'fast': 864, 'fresh': 865, 'speak': 866, 'books': 867, 'touch': 868, 'dogs': 869, 'crappy': 870, 'full': 871, 'prize': 872, 'christmas': 873, 'pageant': 874, 'drop': 875, 'princess': 876, 'shell': 877, 'upset': 878, 'between': 879, 'listening': 880, 'building': 881, 'build': 882, 'needed': 883, 'customer': 884, 'calls': 885, 'sent': 886, 'na': 887, 'mmmmm': 888, 'giving': 889, 'lottery': 890, 'sing': 891, 'gardens': 892, 'arrrgh': 893, 'lobo': 894, 'curly': 895, 'couple': 896, 'although': 897, 'lots': 898, 'fix': 899, 'record': 900, 'fell': 901, 'reverend': 902, 'fishing': 903, 'desperate': 904, 'gas': 905, 'drunk': 906, 'crime': 907, 'honest': 908, 'famous': 909, 'person': 910, 'nine': 911, 'perhaps': 912, 'popular': 913, 'cartoon': 914, 'ottoman': 915, 'thirty': 916, 'dollar': 917, 'usually': 918, 'slow': 919, 'finished': 920, 'reason': 921, 'bat': 922, 'twice': 923, 'wed': 924, 'turned': 925, 'light': 926, 'human': 927, 'stuck': 928, 'bible': 929, 'sons': 930, 'somewhere': 931, 'kinda': 932, 'nothin': 933, 'broken': 934, 'asked': 935, 'different': 936, 'plenty': 937, 'homework': 938, 'hamster': 939, 'devil': 940, 'floor': 941, 'feet': 942, 'women': 943, 'dads': 944, 'talked': 945, 'entire': 946, 'wha': 947, 'junk': 948, 'cartoons': 949, 'front': 950, 'words': 951, 'piece': 952, 'awful': 953, 'system': 954, 'club': 955, 'important': 956, 'shame': 957, 'yo': 958, 'missed': 959, 'thatll': 960, 'channel': 961, 'month': 962, 'handle': 963, 'nuclear': 964, 'picture': 965, 'spare': 966, 'safe': 967, 'beauty': 968, 'finish': 969, 'midnight': 970, 'career': 971, 'hour': 972, 'worried': 973, 'kwikemart': 974, 'joe': 975, 'soap': 976, 'stock': 977, 'lenny': 978, 'machine': 979, 'lunch': 980, 'married': 981, 'krabappel': 982, 'sucker': 983, 'super': 984, 'bologna': 985, 'ends': 986, 'absolutely': 987, 'during': 988, 'report': 989, 'close': 990, 'felt': 991, 'guitar': 992, 'advice': 993, 'camp': 994, 'blanche': 995, 'figure': 996, 'usa': 997, 'tom': 998, 'wash': 999, 'dental': 1000, 'dean': 1001, 'alright': 1002, 'roll': 1003, 'names': 1004, 'dr': 1005, 'stink': 1006, 'acting': 1007, 'babysitter': 1008, 'short': 1009, 'kick': 1010, 'finger': 1011, 'sherman': 1012, 'burger': 1013, 'grampas': 1014, 'looked': 1015, 'dress': 1016, 'trust': 1017, 'treat': 1018, 'paying': 1019, 'ahh': 1020, 'empty': 1021, 'hm': 1022, 'pain': 1023, 'arms': 1024, 'moon': 1025, 'pie': 1026, 'figured': 1027, 'welcome': 1028, 'apple': 1029, 'share': 1030, 'knows': 1031, 'date': 1032, 'paw': 1033, 'gold': 1034, 'exactly': 1035, 'simple': 1036, 'mistake': 1037, 'locked': 1038, 'aside': 1039, 'happens': 1040, 'problems': 1041, 'scary': 1042, 'bunch': 1043, 'sleeping': 1044, 'awww': 1045, 'simpsons': 1046, 'bell': 1047, 'wowww': 1048, 'ashamed': 1049, 'neck': 1050, 'cold': 1051, 'soul': 1052, 'cares': 1053, 'join': 1054, 'hug': 1055, 'voice': 1056, 'black': 1057, 'interesting': 1058, 'either': 1059, 'dirty': 1060, 'taught': 1061, 'ooooh': 1062, 'chicken': 1063, 'buddy': 1064, 'loved': 1065, 'comin': 1066, 'along': 1067, 'interest': 1068, 'badge': 1069, 'dunno': 1070, 'pfft': 1071, 'smoke': 1072, 'fingers': 1073, 'law': 1074, 'fit': 1075, 'talkin': 1076, 'hole': 1077, 'salt': 1078, 'whew': 1079, 'dig': 1080, 'radio': 1081, 'tough': 1082, 'religion': 1083, 'reed': 1084, 'shop': 1085, 'turkey': 1086, 'sandwich': 1087, 'chair': 1088, 'oclock': 1089, 'cost': 1090, 'spending': 1091, 'garage': 1092, 'calm': 1093, 'derby': 1094, 'evil': 1095, 'moes': 1096, 'spent': 1097, 'price': 1098, 'hide': 1099, 'pregnant': 1100, 'babys': 1101, 'state': 1102, 'responsible': 1103, 'cover': 1104, 'delicious': 1105, 'trapped': 1106, 'denver': 1107, 'dolphins': 1108, 'stacey': 1109, 'interested': 1110, 'miles': 1111, 'howd': 1112, 'blues': 1113, 'however': 1114, 'toilet': 1115, 'whatre': 1116, 'character': 1117, 'photo': 1118, 'darryl': 1119, 'bigger': 1120, 'leaves': 1121, 'count': 1122, 'shove': 1123, 'court': 1124, 'heaven': 1125, 'sugar': 1126, 'questions': 1127, 'meeting': 1128, 'act': 1129, 'beef': 1130, 'kamp': 1131, 'peanut': 1132, 'donut': 1133, 'gladys': 1134, 'woop': 1135, 'nerd': 1136, 'trampoline': 1137, 'train': 1138, 'lewis': 1139, 'monkey': 1140, 'silly': 1141, 'adults': 1142, 'older': 1143, 'paid': 1144, 'seem': 1145, 'hibbert': 1146, 'dry': 1147, 'glass': 1148, 'loving': 1149, 'noticed': 1150, 'catfish': 1151, 'taste': 1152, 'list': 1153, 'gentlemen': 1154, 'waste': 1155, 'adult': 1156, 'faster': 1157, 'expect': 1158, 'champion': 1159, 'breakfast': 1160, 'usual': 1161, 'radioactive': 1162, 'played': 1163, 'months': 1164, 'ear': 1165, 'earn': 1166, 'maam': 1167, 'rather': 1168, 'dreams': 1169, 'ground': 1170, 'sign': 1171, 'size': 1172, 'b': 1173, 'asking': 1174, 'mans': 1175, 'hercules': 1176, 'lion': 1177, 'upon': 1178, 'moral': 1179, 'meaning': 1180, 'truly': 1181, 'bells': 1182, 'works': 1183, 'yknow': 1184, 'tight': 1185, 'lock': 1186, 'loss': 1187, 'raise': 1188, 'certainly': 1189, 'somethings': 1190, 'turning': 1191, 'goin': 1192, 'theyve': 1193, 'professional': 1194, 'bike': 1195, 'learning': 1196, 'gives': 1197, 'ways': 1198, 'contest': 1199, 'hed': 1200, 'sweetheart': 1201, 'born': 1202, 'tiny': 1203, 'shower': 1204, 'movies': 1205, 'favorite': 1206, 'bathroom': 1207, 'liberty': 1208, 'cesspool': 1209, 'serious': 1210, 'land': 1211, 'bout': 1212, 'karate': 1213, 'fall': 1214, 'medicine': 1215, 'lookin': 1216, 'cigarettes': 1217, 'truck': 1218, 'eww': 1219, 'whenever': 1220, 'gum': 1221, 'toe': 1222, 'ham': 1223, 'fight': 1224, 'follow': 1225, 'nervous': 1226, 'relax': 1227, 'painting': 1228, 'genius': 1229, 'bowl': 1230, 'quite': 1231, 'xray': 1232, 'zombie': 1233, 'necklace': 1234, 'shake': 1235, 'wake': 1236, 'bills': 1237, 'borrow': 1238, 'santas': 1239, 'helper': 1240, 'lived': 1241, 'honor': 1242, 'fact': 1243, 'starts': 1244, 'jones': 1245, 'hasnt': 1246, 'racer': 1247, 'beck': 1248, 'curse': 1249, 'lying': 1250, 'winner': 1251, 'dammit': 1252, 'punch': 1253, 'vacation': 1254, 'cough': 1255, 'flaming': 1256, 'stealing': 1257, 'fathers': 1258, 'market': 1259, 'tied': 1260, 'bee': 1261, 'ye': 1262, 'john': 1263, 'exciting': 1264, 'cookie': 1265, 'ruined': 1266, 'offer': 1267, 'deserve': 1268, 'donuts': 1269, 'abuse': 1270, 'th': 1271, 'testing': 1272, 'kitchen': 1273, 'timmy': 1274, 'foot': 1275, 'prank': 1276, 'cigarette': 1277, 'percent': 1278, 'besides': 1279, 'hardly': 1280, 'tree': 1281, 'seat': 1282, 'awhile': 1283, 'gun': 1284, 'babies': 1285, 'station': 1286, 'edna': 1287, 'personal': 1288, 'willie': 1289, 'army': 1290, 'fellas': 1291, 'surprised': 1292, 'liked': 1293, 'english': 1294, 'steak': 1295, 'supreme': 1296, 'wreck': 1297, 'ticket': 1298, 'bank': 1299, 'leaving': 1300, 'meat': 1301, 'cocktail': 1302, 'suit': 1303, 'society': 1304, 'wiggum': 1305, 'jacket': 1306, 'brothers': 1307, 'yuh': 1308, 'spell': 1309, 'false': 1310, 'musical': 1311, 'stanley': 1312, 'doin': 1313, 'punish': 1314, 'wolf': 1315, 'knives': 1316, 'brad': 1317, 'crib': 1318, 'horrible': 1319, 'machines': 1320, 'lifelong': 1321, 'junior': 1322, 'science': 1323, 'sixty': 1324, 'setting': 1325, 'war': 1326, 'whacking': 1327, 'snakes': 1328, 'whack': 1329, 'oj': 1330, 'morphine': 1331, 'seems': 1332, 'group': 1333, 'nerds': 1334, 'ruth': 1335, 'vote': 1336, 'sweat': 1337, 'holy': 1338, 'worst': 1339, 'drinks': 1340, 'nails': 1341, 'extra': 1342, 'parenting': 1343, 'biggest': 1344, 'glasses': 1345, 'peanuts': 1346, 'apologize': 1347, 'shhh': 1348, 'strange': 1349, 'admit': 1350, 'weekend': 1351, 'dare': 1352, 'sticks': 1353, 'general': 1354, 'bowling': 1355, 'guns': 1356, 'religious': 1357, 'fudge': 1358, 'keys': 1359, 'chest': 1360, 'strength': 1361, 'butter': 1362, 'bald': 1363, 'happening': 1364, 'rights': 1365, 'selfish': 1366, 'comics': 1367, 'ghost': 1368, 'rules': 1369, 'dressed': 1370, 'restaurant': 1371, 'bug': 1372, 'shows': 1373, 'staring': 1374, 'cents': 1375, 'cars': 1376, 'form': 1377, 'arm': 1378, 'hump': 1379, 'copy': 1380, 'zero': 1381, 'j': 1382, 'millions': 1383, 'nature': 1384, 'type': 1385, 'romantic': 1386, 'road': 1387, 'neighbors': 1388, 'panic': 1389, 'tells': 1390, 'helping': 1391, 'whistle': 1392, 'favor': 1393, 'lied': 1394, 'hearing': 1395, 'pass': 1396, 'bugs': 1397, 'sane': 1398, 'wore': 1399, 'scared': 1400, 'using': 1401, 'reunion': 1402, 'coffee': 1403, 'commercial': 1404, 'bread': 1405, 'taken': 1406, 'sea': 1407, 'washington': 1408, 'trees': 1409, 'pure': 1410, 'wouldve': 1411, 'nixon': 1412, 'excited': 1413, 'iron': 1414, 'lincoln': 1415, 'city': 1416, 'built': 1417, 'trading': 1418, 'jerk': 1419, 'grave': 1420, 'joke': 1421, 'helps': 1422, 'permit': 1423, 'demonstrate': 1424, 'note': 1425, 'fancy': 1426, 'lick': 1427, 'smoking': 1428, 'street': 1429, 'imagination': 1430, 'lines': 1431, 'lovejoy': 1432, 'bent': 1433, 'larry': 1434, 'ewww': 1435, 'becoming': 1436, 'mix': 1437, 'meenie': 1438, 'minee': 1439, 'convenient': 1440, 'feed': 1441, 'drank': 1442, 'paint': 1443, 'bless': 1444, 'guest': 1445, 'jewish': 1446, 'memories': 1447, 'quote': 1448, 'shot': 1449, 'ridiculous': 1450, 'american': 1451, 'nightmare': 1452, 'specs': 1453, 'fooling': 1454, 'turkeys': 1455, 'weird': 1456, 'foul': 1457, 'less': 1458, 'monsters': 1459, 'riding': 1460, 'talent': 1461, 'foam': 1462, 'todays': 1463, 'whoo': 1464, 'prices': 1465, 'expensive': 1466, 'stopped': 1467, 'decide': 1468, 'itd': 1469, 'wiener': 1470, 'hank': 1471, 'hobbies': 1472, 'soapbox': 1473, 'ronnie': 1474, 'ho': 1475, 'stomach': 1476, 'invented': 1477, 'blind': 1478, 'waitress': 1479, 'fiftytwo': 1480, 'k': 1481, 'information': 1482, 'savings': 1483, 'faces': 1484, 'somehow': 1485, 'clever': 1486, 'cheer': 1487, 'yea': 1488, 'pipe': 1489, 's': 1490, 'center': 1491, 'generation': 1492, 'wicked': 1493, 'sensitive': 1494, 'ending': 1495, 'singing': 1496, 'lately': 1497, 'marry': 1498, 'ariel': 1499, 'kool': 1500, 'sauce': 1501, 'burning': 1502, 'hospital': 1503, 'gods': 1504, 'daddys': 1505, 'mama': 1506, 'corey': 1507, 'fake': 1508, 'though': 1509, 'wind': 1510, 'underwear': 1511, 'rid': 1512, 'george': 1513, 'meal': 1514, 'spread': 1515, 'tire': 1516, 'dallas': 1517, 'buffalo': 1518, 'suck': 1519, 'running': 1520, 'fruit': 1521, 'naked': 1522, 'small': 1523, 'gross': 1524, 'ad': 1525, 'doghouse': 1526, 'conversation': 1527, 'sky': 1528, 'bass': 1529, 'whered': 1530, 'gay': 1531, 'shall': 1532, 'metal': 1533, 'worlds': 1534, 'cops': 1535, 'strawberry': 1536, 'policeman': 1537, 'musician': 1538, 'avoid': 1539, 'practice': 1540, 'wire': 1541, 'bacon': 1542, 'blame': 1543, 'band': 1544, 'jimbo': 1545, 'grades': 1546, 'doggie': 1547, 'insurance': 1548, 'barber': 1549, 'problemo': 1550, 'longer': 1551, 'mostly': 1552, 'gate': 1553, 'public': 1554, 'pet': 1555, 'robbed': 1556, 'cowboy': 1557, 'tooth': 1558, 'boyfriend': 1559, 'jail': 1560, 'single': 1561, 'whip': 1562, 'trade': 1563, 'pounds': 1564, 'unky': 1565, 'clock': 1566, 'bag': 1567, 'poison': 1568, 'don': 1569, 'row': 1570, 'hubba': 1571, 'lovely': 1572, 'heel': 1573, 'queen': 1574, 'baloney': 1575, 'zombies': 1576, 'guide': 1577, 'punished': 1578, 'punishment': 1579, 'march': 1580, 'witch': 1581, 'sex': 1582, 'luck': 1583, 'snow': 1584, 'parking': 1585, 'batman': 1586, 'reality': 1587, 'allouetty': 1588, 'fortythousand': 1589, 'cloud': 1590, 'mob': 1591, 'lanley': 1592, 'frozen': 1593, 'pepi': 1594, 'valentines': 1595, 'project': 1596, 'escape': 1597, 'haw': 1598, 'square': 1599, 'sheriff': 1600, 'knife': 1601, 'fishy': 1602, 'nyung': 1603, 'uniform': 1604, 'boogeyman': 1605, 'india': 1606, 'touched': 1607, 'voted': 1608, 'indeed': 1609, 'thrown': 1610, 'bash': 1611, 'spilled': 1612, 'crying': 1613, 'feelings': 1614, 'upstairs': 1615, 'faith': 1616, 'roof': 1617, 'tail': 1618, 'holding': 1619, 'neat': 1620, 'straighten': 1621, 'gag': 1622, 'warm': 1623, 'sense': 1624, 'winfields': 1625, 'laundry': 1626, 'enjoying': 1627, 'stinks': 1628, 'handful': 1629, 'bottom': 1630, 'fighting': 1631, 'sends': 1632, 'hmmmm': 1633, 'insane': 1634, 'lake': 1635, 'retreat': 1636, 'trunk': 1637, 'runs': 1638, 'electrical': 1639, 'yourselves': 1640, 'falls': 1641, 'legs': 1642, 'video': 1643, 'grab': 1644, 'sticking': 1645, 'birthdays': 1646, 'puts': 1647, 'middle': 1648, 'gallon': 1649, 'brownie': 1650, 'chip': 1651, 'carton': 1652, 'changes': 1653, 'noises': 1654, 'yellow': 1655, 'crisis': 1656, 'ourselves': 1657, 'childrens': 1658, 'tie': 1659, 'nelson': 1660, 'strong': 1661, 'unpleasant': 1662, 'harder': 1663, 'champions': 1664, 'losers': 1665, 'fame': 1666, 'fallout': 1667, 'realized': 1668, 'sun': 1669, 'thirtyfive': 1670, 'pathetic': 1671, 'lemonade': 1672, 'product': 1673, 'thirsty': 1674, 'glick': 1675, 'anybody': 1676, 'dreamed': 1677, 'burn': 1678, 'quarters': 1679, 'rain': 1680, 'stays': 1681, 'steal': 1682, 'piggy': 1683, 'imitation': 1684, 'ended': 1685, 'dewlap': 1686, 'dark': 1687, 'decent': 1688, 'riches': 1689, 'emergency': 1690, 'lights': 1691, 'hats': 1692, 'yup': 1693, 'angry': 1694, 'able': 1695, 'mailman': 1696, 'ii': 1697, 'destroy': 1698, 'twist': 1699, 'filled': 1700, 'whattaya': 1701, 'reward': 1702, 'hadnt': 1703, 'written': 1704, 'amen': 1705, 'hotline': 1706, 'poem': 1707, 'snowball': 1708, 'accident': 1709, 'split': 1710, 'embarrassing': 1711, 'places': 1712, 'joes': 1713, 'dates': 1714, 'visit': 1715, 'desire': 1716, 'aware': 1717, 'training': 1718, 'putting': 1719, 'checks': 1720, 'compact': 1721, 'idiot': 1722, 'shine': 1723, 'hundreds': 1724, 'fits': 1725, 'daaad': 1726, 'snuggle': 1727, 'tour': 1728, 'essay': 1729, 'twelve': 1730, 'driving': 1731, 'nation': 1732, 'uhuh': 1733, 'cap': 1734, 'mint': 1735, 'richard': 1736, 'spirit': 1737, 'laws': 1738, 'miracle': 1739, 'service': 1740, 'stench': 1741, 'christian': 1742, 'budget': 1743, 'gap': 1744, 'tall': 1745, 'theyd': 1746, 'bone': 1747, 'exercise': 1748, 'themselves': 1749, 'owe': 1750, 'bestest': 1751, 'german': 1752, 'dies': 1753, 'lawn': 1754, 'tool': 1755, 'bench': 1756, 'debt': 1757, 'belongs': 1758, 'madder': 1759, 'wrongs': 1760, 'workin': 1761, 'official': 1762, 'officer': 1763, 'forty': 1764, 'pieces': 1765, 'dow': 1766, 'shorts': 1767, 'cow': 1768, 'picking': 1769, 'doubt': 1770, 'conscience': 1771, 'criminal': 1772, 'across': 1773, 'deliver': 1774, 'male': 1775, 'keeps': 1776, 'prove': 1777, 'comfort': 1778, 'leader': 1779, 'purple': 1780, 'gang': 1781, 'hollywood': 1782, 'king': 1783, 'doomed': 1784, 'manual': 1785, 'whod': 1786, 'complicated': 1787, 'potato': 1788, 'bubble': 1789, 'dish': 1790, 'eenie': 1791, 'tiger': 1792, 'completely': 1793, 'role': 1794, 'bitter': 1795, 'community': 1796, 'met': 1797, 'grace': 1798, 'pressure': 1799, 'ages': 1800, 'consider': 1801, 'walking': 1802, 'sweetie': 1803, 'wipe': 1804, 'bother': 1805, 'honors': 1806, 'hebrew': 1807, 'entertainer': 1808, 'footsteps': 1809, 'krustofsky': 1810, 'fail': 1811, 'sharp': 1812, 'knowledge': 1813, 'closer': 1814, 'hopeless': 1815, 'ancient': 1816, 'thousands': 1817, 'nightmares': 1818, 'shoot': 1819, 'monkeys': 1820, 'wishes': 1821, 'ok': 1822, 'mustard': 1823, 'created': 1824, 'warn': 1825, 'thoughts': 1826, 'goodness': 1827, 'crushing': 1828, 'spaghetti': 1829, 'mothers': 1830, 'basement': 1831, 'impression': 1832, 'duh': 1833, 'ordered': 1834, 'costs': 1835, 'ran': 1836, 'someones': 1837, 'horse': 1838, 'neighborhood': 1839, 'illegal': 1840, 'choice': 1841, 'num': 1842, 'squishee': 1843, 'sacrifice': 1844, 'flying': 1845, 'pleasant': 1846, 'ed': 1847, 'shh': 1848, 'steve': 1849, 'jack': 1850, 'construction': 1851, 'winning': 1852, 'race': 1853, 'elses': 1854, 'team': 1855, 'picked': 1856, 'pouting': 1857, 'fridge': 1858, 'loser': 1859, 'nyahnyah': 1860, 'nyah': 1861, 'nyahnyahnyah': 1862, 't': 1863, 'olympic': 1864, 'wax': 1865, 'allow': 1866, 'recipe': 1867, 'level': 1868, 'crank': 1869, 'magical': 1870, 'ordinary': 1871, 'smithers': 1872, 'thatd': 1873, 'twentyfive': 1874, 'plans': 1875, 'sock': 1876, 'powers': 1877, 'fired': 1878, 'identity': 1879, 'workers': 1880, 'jump': 1881, 'teddy': 1882, 'seek': 1883, 'greedy': 1884, 'example': 1885, 'stamp': 1886, 'brand': 1887, 'bun': 1888, 'beginning': 1889, 'several': 1890, 'girlfriend': 1891, 'television': 1892, 'luke': 1893, 'someday': 1894, 'castle': 1895, 'joined': 1896, 'fallen': 1897, 'remove': 1898, 'clear': 1899, 'oil': 1900, 'angel': 1901, 'lovin': 1902, 'complaining': 1903, 'convoy': 1904, 'loud': 1905, 'useless': 1906, 'thy': 1907, 'cookies': 1908, 'otoole': 1909, 'sooner': 1910, 'shave': 1911, 'stands': 1912, 'bridge': 1913, 'watched': 1914, 'cincinnati': 1915, 'effort': 1916, 'covered': 1917, 'blanket': 1918, 'cutting': 1919, 'fear': 1920, 'daddydaughter': 1921, 'chop': 1922, 'daughters': 1923, 'plus': 1924, 'encourage': 1925, 'possibly': 1926, 'season': 1927, 'chips': 1928, 'complete': 1929, 'breath': 1930, 'return': 1931, 'flea': 1932, 'homers': 1933, 'balls': 1934, 'alley': 1935, 'mommy': 1936, 'aaah': 1937, 'keeping': 1938, 'company': 1939, 'careful': 1940, 'peoples': 1941, 'tricks': 1942, 'hang': 1943, 'brewery': 1944, 'penny': 1945, 'complain': 1946, 'past': 1947, 'jar': 1948, 'selfimprovement': 1949, 'boat': 1950, 'blow': 1951, 'homemade': 1952, 'championship': 1953, 'gotcha': 1954, 'geez': 1955, 'heavy': 1956, 'cop': 1957, 'eggs': 1958, 'moving': 1959, 'thrill': 1960, 'seymour': 1961, 'signed': 1962, 'grand': 1963, 'standing': 1964, 'whyd': 1965, 'numbers': 1966, 'odds': 1967, 'eighty': 1968, 'awfully': 1969, 'fried': 1970, 'chub': 1971, 'whiz': 1972, 'rug': 1973, 'window': 1974, 'agree': 1975, 'spy': 1976, 'certain': 1977, 'space': 1978, 'kissed': 1979, 'seeing': 1980, 'gig': 1981, 'robbery': 1982, 'prison': 1983, 'tear': 1984, 'surely': 1985, 'programs': 1986, 'falling': 1987, 'bored': 1988, 'spanish': 1989, 'star': 1990, 'fonz': 1991, 'f': 1992, 'creature': 1993, 'condition': 1994, 'subliminal': 1995, 'samantha': 1996, 'yada': 1997, 'freak': 1998, 'bite': 1999, 'vault': 2000, 'stars': 2001, 'award': 2002, 'switch': 2003, 'likely': 2004, 'appreciate': 2005, 'c': 2006, 'final': 2007, 'original': 2008, 'summer': 2009, 'reach': 2010, 'jelly': 2011, 'arts': 2012, 'freedom': 2013, 'scar': 2014, 'campers': 2015, 'auditioning': 2016, 'racket': 2017, 'insanity': 2018, 'stella': 2019, 'pudding': 2020, 'resting': 2021, 'hung': 2022, 'whyyy': 2023, 'neither': 2024, 'beloved': 2025, 'everywhere': 2026, 'collection': 2027, 'rude': 2028, 'blimp': 2029, 'entered': 2030, 'dangerous': 2031, 'danger': 2032, 'cast': 2033, 'hungry': 2034, 'warren': 2035, 'crooked': 2036, 'stories': 2037, 'carpet': 2038, 'yummy': 2039, 'judge': 2040, 'foundation': 2041, 'suckers': 2042, 'tongue': 2043, 'florida': 2044, 'shrimp': 2045, 'laura': 2046, 'hef': 2047, 'quixote': 2048, 'crush': 2049, 'calendar': 2050, 'curious': 2051, 'frank': 2052, 'tshirt': 2053, 'driveway': 2054, 'wrapped': 2055, 'kitty': 2056, 'piscopo': 2057, 'episode': 2058, 'nooo': 2059, 'round': 2060, 'diet': 2061, 'prepared': 2062, 'delightful': 2063, 'scheme': 2064, 'rented': 2065, 'stuffed': 2066, 'doo': 2067, 'andy': 2068, 'main': 2069, 'hehheh': 2070, 'bitey': 2071, 'yay': 2072, 'saturday': 2073, 'yentl': 2074, 'bobby': 2075, 'whee': 2076, 'n': 2077, 'perfectly': 2078, 'nyuck': 2079, 'propose': 2080, 'asleep': 2081, 'deer': 2082, 'cupcakes': 2083, 'burrito': 2084, 'danish': 2085, 'halloween': 2086, 'shhhh': 2087, 'coma': 2088, 'writers': 2089, 'scratchys': 2090, 'sullivan': 2091, 'killing': 2092, 'expelled': 2093, 'situation': 2094, 'deformed': 2095, 'juice': 2096, 'flintstones': 2097, 'chewable': 2098, 'gabbo': 2099, 'daily': 2100, 'appear': 2101, 'album': 2102, 'plane': 2103, 'barbershop': 2104, 'sharps': 2105, 'absence': 2106, 'guard': 2107, 'campus': 2108, 'incontinent': 2109, 'vampires': 2110, 'hiding': 2111, 'vending': 2112, 'burned': 2113, 'yep': 2114, 'goodman': 2115, 'rescue': 2116, 'geography': 2117, 'legalized': 2118, 'kent': 2119, 'conan': 2120, 'catchphrase': 2121, 'performance': 2122, 'victory': 2123, 'slide': 2124, 'traditional': 2125, 'allright': 2126, 'stupidest': 2127, 'ape': 2128, 'confidence': 2129, 'shaken': 2130, 'hurts': 2131, 'serving': 2132, 'banana': 2133, 'series': 2134, 'motto': 2135, 'monkeyman': 2136, 'invited': 2137, 'homes': 2138, 'alcohol': 2139, 'priceless': 2140, 'wantin': 2141, 'knowing': 2142, 'spine': 2143, 'acted': 2144, 'slipped': 2145, 'patient': 2146, 'cross': 2147, 'tempting': 2148, 'sitter': 2149, 'babysit': 2150, 'bathtub': 2151, 'stretch': 2152, 'arcade': 2153, 'kindly': 2154, 'guts': 2155, 'annoying': 2156, 'hangs': 2157, 'lowlifes': 2158, 'chewing': 2159, 'kicks': 2160, 'letting': 2161, 'incriminating': 2162, 'sneaking': 2163, 'de': 2164, 'obvious': 2165, 'remorse': 2166, 'vile': 2167, 'bucket': 2168, 'represents': 2169, 'fought': 2170, 'convention': 2171, 'became': 2172, 'ward': 2173, 'caspers': 2174, 'richie': 2175, 'alike': 2176, 'corrected': 2177, 'characters': 2178, 'bartman': 2179, 'rip': 2180, 'lois': 2181, 'sport': 2182, 'drew': 2183, 'attention': 2184, 'bugging': 2185, 'electric': 2186, 'oven': 2187, 'smoked': 2188, 'treats': 2189, 'parttime': 2190, 'bottles': 2191, 'dime': 2192, 'ahha': 2193, 'coins': 2194, 'nobodys': 2195, 'held': 2196, 'torch': 2197, 'screaming': 2198, 'breathe': 2199, 'sleepover': 2200, 'chances': 2201, 'cocoa': 2202, 'marshmallows': 2203, 'jokes': 2204, 'core': 2205, 'cash': 2206, 'crummy': 2207, 'leemur': 2208, 'zeeboo': 2209, 'sixteen': 2210, 'rings': 2211, 'butterscotch': 2212, 'remain': 2213, 'silent': 2214, 'mighty': 2215, 'bingo': 2216, 'jackpot': 2217, 'yard': 2218, 'thin': 2219, 'montgomery': 2220, 'diamonds': 2221, 'rubies': 2222, 'fellow': 2223, 'makebelieve': 2224, 'enjoyed': 2225, 'sarcastic': 2226, 'elephants': 2227, 'sonofa': 2228, 'carefully': 2229, 'mailbox': 2230, 'noon': 2231, 'address': 2232, 'dodecahedron': 2233, 'believed': 2234, 'joey': 2235, 'pen': 2236, 'practical': 2237, 'within': 2238, 'mike': 2239, 'woe': 2240, 'crowbar': 2241, 'olmec': 2242, 'counts': 2243, 'deed': 2244, 'wheel': 2245, 'disappointed': 2246, 'washed': 2247, 'shirts': 2248, 'voices': 2249, 'spill': 2250, 'gesture': 2251, 'sis': 2252, 'normal': 2253, 'nut': 2254, 'grammys': 2255, 'relatives': 2256, 'mental': 2257, 'pancakes': 2258, 'dose': 2259, 'bringing': 2260, 'cuts': 2261, 'purely': 2262, 'green': 2263, 'smells': 2264, 'gasoline': 2265, 'sample': 2266, 'deep': 2267, 'minds': 2268, 'magazines': 2269, 'pocket': 2270, 'obviously': 2271, 'article': 2272, 'reminds': 2273, 'spice': 2274, 'meatloaf': 2275, 'expenses': 2276, 'ben': 2277, 'rides': 2278, 'forest': 2279, 'towards': 2280, 'powerful': 2281, 'cards': 2282, 'aspirin': 2283, 'gel': 2284, 'welcoming': 2285, 'bedsies': 2286, 'nights': 2287, 'mommm': 2288, 'wakeup': 2289, 'section': 2290, 'ability': 2291, 'early': 2292, 'womens': 2293, 'led': 2294, 'rebellion': 2295, 'appeared': 2296, 'unpopular': 2297, 'cent': 2298, 'stagnant': 2299, 'swamp': 2300, 'honorable': 2301, 'congressman': 2302, 'speech': 2303, 'crowd': 2304, 'noty': 2305, 'barbecue': 2306, 'fan': 2307, 'showing': 2308, 'electricity': 2309, 'cake': 2310, 'merry': 2311, 'wishing': 2312, 'weep': 2313, 'asks': 2314, 'apology': 2315, 'heads': 2316, 'schadenfreude': 2317, 'term': 2318, 'shameful': 2319, 'joy': 2320, 'pleasure': 2321, 'opposite': 2322, 'busy': 2323, 'neddie': 2324, 'chairs': 2325, 'daddlydoodly': 2326, 'seventyfive': 2327, 'discourage': 2328, 'belt': 2329, 'punks': 2330, 'jerry': 2331, 'loan': 2332, 'handed': 2333, 'genuine': 2334, 'tan': 2335, 'doe': 2336, 'material': 2337, 'horses': 2338, 'aha': 2339, 'crooks': 2340, 'bare': 2341, 'jobs': 2342, 'delivery': 2343, 'pair': 2344, 'lemon': 2345, 'tony': 2346, 'sleazy': 2347, 'cuz': 2348, 'invite': 2349, 'blonde': 2350, 'thingee': 2351, 'reactor': 2352, 'dictionary': 2353, 'therell': 2354, 'hollers': 2355, 'influence': 2356, 'ass': 2357, 'press': 2358, 'pound': 2359, 'competence': 2360, 'model': 2361, 'tastes': 2362, 'glaze': 2363, 'collect': 2364, 'losing': 2365, 'hotels': 2366, 'tons': 2367, 'spark': 2368, 'target': 2369, 'suspected': 2370, 'including': 2371, 'mel': 2372, 'brooks': 2373, 'rabbis': 2374, 'pickles': 2375, 'noah': 2376, 'talmud': 2377, 'command': 2378, 'haul': 2379, 'noble': 2380, 'purse': 2381, 'exploded': 2382, 'pacifier': 2383, 'fortune': 2384, 'colorful': 2385, 'lettuce': 2386, 'thee': 2387, 'aboard': 2388, 'hiya': 2389, 'goal': 2390, 'slowly': 2391, 'expecting': 2392, 'coupla': 2393, 'camera': 2394, 'ooo': 2395, 'digger': 2396, 'sheesh': 2397, 'chose': 2398, 'tip': 2399, 'fifteen': 2400, 'moron': 2401, 'closed': 2402, 'eightyeight': 2403, 'hates': 2404, 'subject': 2405, 'realistic': 2406, 'buh': 2407, 'ponies': 2408, 'squat': 2409, 'roam': 2410, 'stable': 2411, 'happiest': 2412, 'willing': 2413, 'jewelry': 2414, 'busted': 2415, 'monitor': 2416, 'herself': 2417, 'blown': 2418, 'grownups': 2419, 'animal': 2420, 'hippopotamus': 2421, 'dummy': 2422, 'oooooh': 2423, 'safety': 2424, 'goggles': 2425, 'tools': 2426, 'parlor': 2427, 'elves': 2428, 'national': 2429, 'institute': 2430, 'childs': 2431, 'threetime': 2432, 'preachy': 2433, 'rack': 2434, 'smile': 2435, 'cheat': 2436, 'drove': 2437, 'shopping': 2438, 'cart': 2439, 'lil': 2440, 'tetanus': 2441, 'rusty': 2442, 'til': 2443, 'dating': 2444, 'nyahnyahnyahnyahnyah': 2445, 'ego': 2446, 'lies': 2447, 'aaahhh': 2448, 'ptew': 2449, 'jinxed': 2450, 'hits': 2451, 'latest': 2452, 'hairy': 2453, 'decided': 2454, 'bits': 2455, 'liquor': 2456, 'scientific': 2457, 'explanation': 2458, 'cracked': 2459, 'inventor': 2460, 'admire': 2461, 'rotten': 2462, 'success': 2463, 'merchandise': 2464, 'lollipop': 2465, 'creatures': 2466, 'hammer': 2467, 'henry': 2468, 'duffs': 2469, 'europe': 2470, 'unsafe': 2471, 'bath': 2472, 'tavern': 2473, 'pop': 2474, 'beneath': 2475, 'picnic': 2476, 'pregnancy': 2477, 'sail': 2478, 'pancake': 2479, 'sweating': 2480, 'moms': 2481, 'leg': 2482, 'diaper': 2483, 'rise': 2484, 'local': 2485, 'future': 2486, 'imagine': 2487, 'feels': 2488, 'champale': 2489, 'unforgettable': 2490, 'discussion': 2491, 'louie': 2492, 'slob': 2493, 'stains': 2494, 'pictured': 2495, 'wah': 2496, 'apply': 2497, 'radiation': 2498, 'kicking': 2499, 'evening': 2500, 'slashco': 2501, 'fourth': 2502, 'aww': 2503, 'dirt': 2504, 'technician': 2505, 'househunting': 2506, 'purpose': 2507, 'excellent': 2508, 'message': 2509, 'services': 2510, 'sundae': 2511, 'ehhh': 2512, 'cactus': 2513, 'microphone': 2514, 'invention': 2515, 'goodlookin': 2516, 'force': 2517, 'rod': 2518, 'wall': 2519, 'vengeful': 2520, 'lip': 2521, 'whoops': 2522, 'foil': 2523, 'kindness': 2524, 'sting': 2525, 'byebye': 2526, 'snacks': 2527, 'studio': 2528, 'apartment': 2529, 'weekly': 2530, 'contests': 2531, 'pretend': 2532, 'chase': 2533, 'coach': 2534, 'mmhm': 2535, 'costing': 2536, 'per': 2537, 'sale': 2538, 'beaten': 2539, 'pro': 2540, 'whipped': 2541, 'crumbled': 2542, 'mash': 2543, 'bond': 2544, 'loosen': 2545, 'fund': 2546, 'york': 2547, 'mood': 2548, 'wine': 2549, 'bullet': 2550, 'blessing': 2551, 'cowboys': 2552, 'sundays': 2553, 'knee': 2554, 'saints': 2555, 'favorites': 2556, 'kicked': 2557, 'meryl': 2558, 'presents': 2559, 'states': 2560, 'victim': 2561, 'hike': 2562, 'fires': 2563, 'gamble': 2564, 'third': 2565, 'fuss': 2566, 'mortal': 2567, 'rage': 2568, 'dip': 2569, 'crust': 2570, 'sandwiches': 2571, 'slices': 2572, 'sew': 2573, 'videos': 2574, 'grocery': 2575, 'orange': 2576, 'bothering': 2577, 'vacations': 2578, 'separate': 2579, 'dryer': 2580, 'nummy': 2581, 'strained': 2582, 'bang': 2583, 'feeding': 2584, 'department': 2585, 'calligraphy': 2586, 'anywhere': 2587, 'yoyo': 2588, 'pickle': 2589, 'stinky': 2590, 'lazy': 2591, 'patch': 2592, 'detention': 2593, 'stacy': 2594, 'commercials': 2595, 'lumber': 2596, 'suppose': 2597, 'student': 2598, 'skates': 2599, 'quarter': 2600, 'passion': 2601, 'whoever': 2602, 'groundskeeper': 2603, 'fiddle': 2604, 'require': 2605, 'skills': 2606, 'schedule': 2607, 'cruel': 2608, 'humiliate': 2609, 'population': 2610, 'cannot': 2611, 'quickly': 2612, 'weapon': 2613, 'large': 2614, 'sheet': 2615, 'wood': 2616, 'stronger': 2617, 'athletes': 2618, 'sort': 2619, 'rolls': 2620, 'stops': 2621, 'janey': 2622, 'homemaker': 2623, 'horrors': 2624, 'throwing': 2625, 'journal': 2626, 'creative': 2627, 'discouraged': 2628, 'cities': 2629, 'stinking': 2630, 'suggest': 2631, 'attack': 2632, 'believes': 2633, 'keepin': 2634, 'dude': 2635, 'belly': 2636, 'slip': 2637, 'nelsons': 2638, 'ds': 2639, 'eighteen': 2640, 'hoover': 2641, 'teachers': 2642, 'brains': 2643, 'carried': 2644, 'correction': 2645, 'toy': 2646, 'bones': 2647, 'lassies': 2648, 'chester': 2649, 'darn': 2650, 'sacrifices': 2651, 'volume': 2652, 'copernicus': 2653, 'maggies': 2654, 'alternative': 2655, 'snouts': 2656, 'gals': 2657, 'biography': 2658, 'oinking': 2659, 'affair': 2660, 'political': 2661, 'floors': 2662, 'parts': 2663, 'code': 2664, 'stress': 2665, 'skunk': 2666, 'fudd': 2667, 'somethin': 2668, 'county': 2669, 'songs': 2670, 'precious': 2671, 'shock': 2672, 'whose': 2673, 'trailer': 2674, 'manager': 2675, 'boyhood': 2676, 'lurleens': 2677, 'moneys': 2678, 'root': 2679, 'judging': 2680, 'colonel': 2681, 'selmas': 2682, 'tray': 2683, 'understanding': 2684, 'sake': 2685, 'framed': 2686, 'schoolgirl': 2687, 'appetizers': 2688, 'ketchup': 2689, 'stumble': 2690, 'couldve': 2691, 'fireplace': 2692, 'victims': 2693, 'western': 2694, 'happily': 2695, 'macgyver': 2696, 'unaware': 2697, 'noooo': 2698, 'concert': 2699, 'billy': 2700, 'slag': 2701, 'gyp': 2702, 'beatles': 2703, 'chipmunks': 2704, 'hid': 2705, 'discuss': 2706, 'recording': 2707, 'thou': 2708, 'garbage': 2709, 'closet': 2710, 'wave': 2711, 'maniac': 2712, 'sponge': 2713, 'bum': 2714, 'uncle': 2715, 'buddies': 2716, 'behold': 2717, 'carl': 2718, 'baseball': 2719, 'kissing': 2720, 'eternity': 2721, 'load': 2722, 'newage': 2723, 'order': 2724, 'tut': 2725, 'gentle': 2726, 'privacy': 2727, 'concerned': 2728, 'tis': 2729, 'guilt': 2730, 'olympics': 2731, 'quietly': 2732, 'tvs': 2733, 'curb': 2734, 'trophy': 2735, 'grade': 2736, 'staying': 2737, 'excellence': 2738, 'classic': 2739, 'vibrating': 2740, 'hunt': 2741, 'replace': 2742, 'destroyed': 2743, 'lend': 2744, 'average': 2745, 'lalalalalala': 2746, 'lalalalala': 2747, 'camper': 2748, 'typo': 2749, 'gaze': 2750, 'hangin': 2751, 'disease': 2752, 'mate': 2753, 'approval': 2754, 'roast': 2755, 'gruel': 2756, 'shape': 2757, 'fireworks': 2758, 'smite': 2759, 'forced': 2760, 'wallets': 2761, 'eaten': 2762, 'version': 2763, 'streetcar': 2764, 'audition': 2765, 'skin': 2766, 'southern': 2767, 'brownies': 2768, 'allergic': 2769, 'baba': 2770, 'harsh': 2771, 'plays': 2772, 'ahve': 2773, 'yer': 2774, 'ol': 2775, 'rehearse': 2776, 'supportive': 2777, 'faking': 2778, 'kooky': 2779, 'projects': 2780, 'dubois': 2781, 'madness': 2782, 'strangers': 2783, 'guvnor': 2784, 'history': 2785, 'lalala': 2786, 'leggo': 2787, 'patented': 2788, 'waffle': 2789, 'art': 2790, 'nor': 2791, 'hehhehheh': 2792, 'pardon': 2793, 'skipping': 2794, 'moved': 2795, 'holiday': 2796, 'wild': 2797, 'handing': 2798, 'blimpy': 2799, 'ducks': 2800, 'application': 2801, 'prettier': 2802, 'enter': 2803, 'nicklaus': 2804, 'padding': 2805, 'whooo': 2806, 'uncool': 2807, 'opportunity': 2808, 'pack': 2809, 'badly': 2810, 'education': 2811, 'bury': 2812, 'bouvier': 2813, 'female': 2814, 'flushed': 2815, 'vegetables': 2816, 'healthy': 2817, 'pages': 2818, 'bites': 2819, 'selling': 2820, 'reverse': 2821, 'depends': 2822, 'lips': 2823, 'replacement': 2824, 'expression': 2825, 'cook': 2826, 'jingle': 2827, 'iunno': 2828, 'duty': 2829, 'stripper': 2830, 'earl': 2831, 'damage': 2832, 'laid': 2833, 'retirement': 2834, 'repair': 2835, 'woods': 2836, 'canada': 2837, 'snuck': 2838, 'discovered': 2839, 'tibor': 2840, 'halfway': 2841, 'promoted': 2842, 'beaver': 2843, 'newspapers': 2844, 'captain': 2845, 'seafood': 2846, 'controls': 2847, 'angels': 2848, 'plead': 2849, 'uhh': 2850, 'rebel': 2851, 'alan': 2852, 'pornography': 2853, 'validated': 2854, 'west': 2855, 'klondike': 2856, 'considered': 2857, 'driveways': 2858, 'winter': 2859, 'remarkable': 2860, 'asphalt': 2861, 'health': 2862, 'followed': 2863, 'bebop': 2864, 'lower': 2865, 'grown': 2866, 'prince': 2867, 'dennis': 2868, 'wallet': 2869, 'cousin': 2870, 'spout': 2871, 'spider': 2872, 'folks': 2873, 'sink': 2874, 'counting': 2875, 'clownll': 2876, 'newspaper': 2877, 'hells': 2878, 'wrecked': 2879, 'oatmeal': 2880, 'doc': 2881, 'sweden': 2882, 'fascinating': 2883, 'cows': 2884, 'butcher': 2885, 'constant': 2886, 'below': 2887, 'giant': 2888, 'nuisance': 2889, 'mono': 2890, 'whiskey': 2891, 'conductor': 2892, 'snack': 2893, 'holder': 2894, 'cupcake': 2895, 'scientist': 2896, 'yayyy': 2897, 'luggage': 2898, 'artificial': 2899, 'robot': 2900, 'nobel': 2901, 'mayonnaise': 2902, 'solids': 2903, 'beeramid': 2904, 'contains': 2905, 'lift': 2906, 'deals': 2907, 'homercles': 2908, 'fold': 2909, 'pigabar': 2910, 'wiggle': 2911, 'blackjack': 2912, 'fatherson': 2913, 'sooee': 2914, 'opens': 2915, 'swing': 2916, 'higher': 2917, 'painful': 2918, 'appropriate': 2919, 'valentine': 2920, 'pity': 2921, 'flattered': 2922, 'cultural': 2923, 'convertible': 2924, 'tomato': 2925, 'remark': 2926, 'intelligent': 2927, 'experiment': 2928, 'connected': 2929, 'current': 2930, 'valuable': 2931, 'wise': 2932, 'hidden': 2933, 'nooooo': 2934, 'yoink': 2935, 'charge': 2936, 'strike': 2937, 'union': 2938, 'organized': 2939, 'mirror': 2940, 'hired': 2941, 'goons': 2942, 'girlish': 2943, 'cooling': 2944, 'tower': 2945, 'pagan': 2946, 'weakness': 2947, 'cliff': 2948, 'amusing': 2949, 'infernal': 2950, 'squares': 2951, 'roots': 2952, 'lifeless': 2953, 'odd': 2954, 'graduated': 2955, 'shampoo': 2956, 'writes': 2957, 'itself': 2958, 'flag': 2959, 'reasonable': 2960, 'script': 2961, 'motorcycle': 2962, 'dondelinger': 2963, 'diploma': 2964, 'awards': 2965, 'squeeze': 2966, 'bootblack': 2967, 'johnny': 2968, 'referee': 2969, 'steer': 2970, 'horn': 2971, 'lobooo': 2972, 'bust': 2973, 'kinds': 2974, 'smeared': 2975, 'sweep': 2976, 'klown': 2977, 'storm': 2978, 'krustys': 2979, 'mens': 2980, 'midler': 2981, 'chili': 2982, 'sofa': 2983, 'upside': 2984, 'wishbone': 2985, 'express': 2986, 'geraldos': 2987, 'board': 2988, 'answers': 2989, 'cola': 2990, 'chimney': 2991, 'maids': 2992, 'bumps': 2993, 'loose': 2994, 'score': 2995, 'hms': 2996, 'pinafore': 2997, 'crusty': 2998, 'elf': 2999, 'study': 3000, 'aah': 3001, 'oinksalot': 3002, 'plug': 3003, 'exam': 3004, 'value': 3005, 'cheating': 3006, 'poo': 3007, 'moldy': 3008, 'lemme': 3009, 'reject': 3010, 'crawling': 3011, 'smarter': 3012, 'trial': 3013, 'gremlins': 3014, 'uhhh': 3015, 'phht': 3016, 'entirely': 3017, 'desert': 3018, 'blast': 3019, 'g': 3020, 'mayor': 3021, 'weather': 3022, 'stolen': 3023, 'gravy': 3024, 'chasm': 3025, 'animals': 3026, 'arencha': 3027, 'rust': 3028, 'observe': 3029, 'nagging': 3030, 'remind': 3031, 'selfhelp': 3032, 'unno': 3033, 'quickfix': 3034, 'crimes': 3035, 'tsk': 3036, 'weasel': 3037, 'rubber': 3038, 'rafting': 3039, 'krustyburger': 3040, 'hamburgers': 3041, 'common': 3042, 'mall': 3043, 'klink': 3044, 'sides': 3045, 'nevada': 3046, 'dealer': 3047, 'liza': 3048, 'minelli': 3049, 'windows': 3050, 'birth': 3051, 'laughed': 3052, 'security': 3053, 'matters': 3054, 'sack': 3055, 'vigilante': 3056, 'cueball': 3057, 'megaphone': 3058, 'domination': 3059, 'reunited': 3060, 'tighten': 3061, 'oliver': 3062, 'north': 3063, 'bucka': 3064, 'woozle': 3065, 'wozzle': 3066, 'obnoxious': 3067, 'fad': 3068, 'obrien': 3069, 'corn': 3070, 'monstromart': 3071, 'happiness': 3072, 'environmentally': 3073, 'demand': 3074, 'recount': 3075, 'alongside': 3076, 'speeds': 3077, 'champagne': 3078, 'musicians': 3079, 'mopey': 3080, 'based': 3081, 'emotion': 3082, 'bound': 3083, 'ugliest': 3084, 'smelliest': 3085, 'allowed': 3086, 'holymoly': 3087, 'hors': 3088, 'doovers': 3089, 'whove': 3090, 'witty': 3091, 'banter': 3092, 'sophisticated': 3093, 'cubs': 3094, 'wellbeing': 3095, 'ssslurring': 3096, 'shpeech': 3097, 'alkyhol': 3098, 'hamper': 3099, 'funniest': 3100, 'nerve': 3101, 'maude': 3102, 'embarrassed': 3103, 'wherewhere': 3104, 'hated': 3105, 'chill': 3106, 'martini': 3107, 'tolerant': 3108, 'scarred': 3109, 'wasted': 3110, 'encounter': 3111, 'tuneup': 3112, 'tone': 3113, 'puttin': 3114, 'fever': 3115, 'socket': 3116, 'pine': 3117, 'cleanser': 3118, 'behave': 3119, 'bait': 3120, 'er': 3121, 'supermarket': 3122, 'trusts': 3123, 'advantage': 3124, 'topsyturvy': 3125, 'bleed': 3126, 'gramps': 3127, 'helen': 3128, 'expressions': 3129, 'selfcentered': 3130, 'forgets': 3131, 'anniversaries': 3132, 'holidays': 3133, 'secular': 3134, 'chews': 3135, 'gambles': 3136, 'seedy': 3137, 'bums': 3138, 'blows': 3139, 'towels': 3140, 'sprinkles': 3141, 'aisle': 3142, 'wakes': 3143, 'honking': 3144, 'scratches': 3145, 'toenails': 3146, 'ethical': 3147, 'fivethirty': 3148, 'sixthirty': 3149, 'evidence': 3150, 'selfishness': 3151, 'anytime': 3152, 'skillet': 3153, 'blowout': 3154, 'casa': 3155, 'frail': 3156, 'catching': 3157, 'fisherman': 3158, 'cable': 3159, 'mackerel': 3160, 'degraded': 3161, 'movement': 3162, 'decades': 3163, 'burlesque': 3164, 'irrepressible': 3165, 'youth': 3166, 'brush': 3167, 'worlllld': 3168, 'weirdos': 3169, 'worm': 3170, 'toss': 3171, 'perfectomundo': 3172, 'casper': 3173, 'wimpy': 3174, 'equate': 3175, 'friendliness': 3176, 'wimpiness': 3177, 'achieving': 3178, 'popularity': 3179, 'hollow': 3180, 'pursuit': 3181, 'lighten': 3182, 'punches': 3183, 'wittier': 3184, 'superhero': 3185, 'knocks': 3186, 'discount': 3187, 'vietnam': 3188, 'dirk': 3189, 'richter': 3190, 'haunts': 3191, 'bordello': 3192, 'bulletriddled': 3193, 'dozen': 3194, 'lanes': 3195, 'superman': 3196, 'golden': 3197, 'lariat': 3198, 'michamalangelo': 3199, 'ts': 3200, 'apples': 3201, 'gloat': 3202, 'childsized': 3203, 'lightbulb': 3204, 'lightbulbwarmed': 3205, 'tasted': 3206, 'extragood': 3207, 'practically': 3208, 'americanize': 3209, 'humiliating': 3210, 'geek': 3211, 'sympathies': 3212, 'crowding': 3213, 'sympathetic': 3214, 'officers': 3215, 'yaaauuuuggghhh': 3216, 'sludge': 3217, 'iodine': 3218, 'germs': 3219, 'amputate': 3220, 'yaaauuuggghhh': 3221, 'pies': 3222, 'oughta': 3223, 'bustin': 3224, 'withered': 3225, 'clam': 3226, 'chumps': 3227, 'waddle': 3228, 'pals': 3229, 'friendlylike': 3230, 'sap': 3231, 'bartholemew': 3232, 'microwave': 3233, 'smores': 3234, 'hmp': 3235, 'impressive': 3236, 'drowsy': 3237, 'wham': 3238, 'squealers': 3239, 'softened': 3240, 'sniffles': 3241, 'tieup': 3242, 'stove': 3243, 'ticks': 3244, 'explodes': 3245, 'hairs': 3246, 'barnyard': 3247, 'advantages': 3248, 'zebu': 3249, 'ox': 3250, 'apositive': 3251, 'extremely': 3252, 'rare': 3253, 'permanent': 3254, 'earmuffs': 3255, 'xl': 3256, 'allergies': 3257, 'glow': 3258, 'makeup': 3259, 'doubleonegative': 3260, 'congratulations': 3261, 'needle': 3262, 'showers': 3263, 'thorn': 3264, 'village': 3265, 'olden': 3266, 'lifeordeath': 3267, 'summons': 3268, 'cm': 3269, 'dim': 3270, 'gratitude': 3271, 'rewarded': 3272, 'flowers': 3273, 'leprechauns': 3274, 'frogs': 3275, 'hosed': 3276, 'glaaad': 3277, 'caard': 3278, 'senile': 3279, 'bucktoothed': 3280, 'mummy': 3281, 'bony': 3282, 'mmphm': 3283, 'hnmph': 3284, 'cornstarch': 3285, 'canister': 3286, 'shoving': 3287, 'emotional': 3288, 'guarantee': 3289, 'encouraged': 3290, 'strangling': 3291, 'sleeve': 3292, 'hose': 3293, 'ink': 3294, 'boohoo': 3295, 'somebodyyouneverheardof': 3296, 'soandso': 3297, 'bozo': 3298, 'signal': 3299, 'mailmans': 3300, 'oops': 3301, 'gutter': 3302, 'scare': 3303, 'rotch': 3304, 'smiling': 3305, 'crate': 3306, 'sapphires': 3307, 'pearls': 3308, 'awesome': 3309, 'aztec': 3310, 'badmouth': 3311, 'unrewarded': 3312, 'nasty': 3313, 'squeaky': 3314, 'grease': 3315, 'memorable': 3316, 'relieved': 3317, 'digits': 3318, 'oneoh': 3319, 'pour': 3320, 'timer': 3321, 'ramble': 3322, 'overpowered': 3323, 'wears': 3324, 'doughnuteater': 3325, 'print': 3326, 'intimate': 3327, 'psychological': 3328, 'profile': 3329, 'meditations': 3330, 'chrysler': 3331, 'snuffy': 3332, 'absentee': 3333, 'ballot': 3334, 'anger': 3335, 'occasional': 3336, 'arrghh': 3337, 'bblbblbblbbl': 3338, 'appreciated': 3339, 'relates': 3340, 'crematorium': 3341, 'grill': 3342, 'elvis': 3343, 'shiver': 3344, 'timbers': 3345, 'downsize': 3346, 'bedlam': 3347, 'asylum': 3348, 'fears': 3349, 'institution': 3350, 'boobies': 3351, 'raining': 3352, 'mentioning': 3353, 'flattering': 3354, 'helped': 3355, 'marbles': 3356, 'overlooked': 3357, 'taxidermy': 3358, 'snuff': 3359, 'wrap': 3360, 'voluntarily': 3361, 'solemnly': 3362, 'howling': 3363, 'instinct': 3364, 'stationery': 3365, 'inform': 3366, 'advises': 3367, 'distant': 3368, 'assured': 3369, 'stiffed': 3370, 'looney': 3371, 'tunes': 3372, 'piano': 3373, 'boil': 3374, 'deesa': 3375, 'sista': 3376, 'missedta': 3377, 'wheels': 3378, 'aone': 3379, 'atwo': 3380, 'leon': 3381, 'roomie': 3382, 'pardner': 3383, 'credit': 3384, 'dementia': 3385, 'hearts': 3386, 'simpsoy': 3387, 'queers': 3388, 'exclamation': 3389, 'points': 3390, 'digest': 3391, 'documented': 3392, 'safer': 3393, 'drivers': 3394, 'drawings': 3395, 'tolstoy': 3396, 'quotable': 3397, 'notables': 3398, 'forbid': 3399, 'improve': 3400, 'v': 3401, 'filter': 3402, 'crap': 3403, 'inspiring': 3404, 'wilderness': 3405, 'survival': 3406, 'arctic': 3407, 'explorers': 3408, 'dread': 3409, 'pitiless': 3410, 'bark': 3411, 'hmph': 3412, 'steers': 3413, 'enriched': 3414, 'dc': 3415, 'vip': 3416, 'fiercely': 3417, 'proamerican': 3418, 'franklin': 3419, 'opening': 3420, 'bikes': 3421, 'inspire': 3422, 'eagle': 3423, 'july': 3424, 'saplings': 3425, 'trembling': 3426, 'nourished': 3427, 'fledgling': 3428, 'ideals': 3429, 'equality': 3430, 'oaks': 3431, 'fragile': 3432, 'guessed': 3433, 'notepad': 3434, 'sewing': 3435, 'kit': 3436, 'pilots': 3437, 'wing': 3438, 'pin': 3439, 'propellorshaped': 3440, 'swizzle': 3441, 'mask': 3442, 'taxi': 3443, 'irs': 3444, 'booooo': 3445, 'watergate': 3446, 'bathrobes': 3447, 'pillow': 3448, 'shoehorn': 3449, 'iiiiiii': 3450, 'waaaaaannt': 3451, 'fatso': 3452, 'increase': 3453, 'superior': 3454, 'bowled': 3455, 'backto': 3456, 'presidents': 3457, 'barbara': 3458, 'bush': 3459, 'mmmmmm': 3460, 'st': 3461, 'louis': 3462, 'checked': 3463, 'winifred': 3464, 'beecher': 3465, 'howe': 3466, 'memorial': 3467, 'crusader': 3468, 'floormop': 3469, 'highly': 3470, 'sheets': 3471, 'inequities': 3472, 'labor': 3473, 'abe': 3474, 'jefferson': 3475, 'rudy': 3476, 'worker': 3477, 'stank': 3478, 'fetid': 3479, 'corruption': 3480, 'ruckus': 3481, 'bribe': 3482, 'arnold': 3483, 'votes': 3484, 'pleasin': 3485, 'imprisoned': 3486, 'becomes': 3487, 'bornagain': 3488, 'sang': 3489, 'beefathon': 3490, 'incredible': 3491, 'nedibles': 3492, 'maudeacious': 3493, 'vittles': 3494, 'friendly': 3495, 'nicest': 3496, 'inches': 3497, 'international': 3498, 'apologies': 3499, 'mmmmmmmm': 3500, 'barbque': 3501, 'seein': 3502, 'freeze': 3503, 'tag': 3504, 'tagbacks': 3505, 'cheater': 3506, 'booger': 3507, 'icing': 3508, 'oz': 3509, 'heyyyy': 3510, 'yesssss': 3511, 'yessss': 3512, 'muchneeded': 3513, 'leftorium': 3514, 'nunchucks': 3515, 'akira': 3516, 'blocks': 3517, 'sensei': 3518, 'deeserted': 3519, 'dying': 3520, 'suffering': 3521, 'others': 3522, 'flat': 3523, 'comfortable': 3524, 'surrounded': 3525, 'sour': 3526, 'grapes': 3527, 'germans': 3528, 'mooom': 3529, 'sits': 3530, 'weary': 3531, 'sinks': 3532, 'swindled': 3533, 'passing': 3534, 'rekindle': 3535, 'bartle': 3536, 'eeboobely': 3537, 'steakarooney': 3538, 'scrumpdidlyumptious': 3539, 'scavenger': 3540, 'misery': 3541, 'china': 3542, 'hutch': 3543, 'swine': 3544, 'lefties': 3545, 'backwards': 3546, 'richest': 3547, 'mornin': 3548, 'mojo': 3549, 'glowinthedark': 3550, 'prizegrabbing': 3551, 'badgewearing': 3552, 'envelopes': 3553, 'thir': 3554, 'mixing': 3555, 'cuttin': 3556, 'cigars': 3557, 'warehouse': 3558, 'crook': 3559, 'supoib': 3560, 'sly': 3561, 'hither': 3562, 'stare': 3563, 'strips': 3564, 'witchcraft': 3565, 'ma': 3566, 'criminals': 3567, 'pollutes': 3568, 'poisons': 3569, 'logic': 3570, 'strangely': 3571, 'parked': 3572, 'heeheehee': 3573, 'sixes': 3574, 'bonding': 3575, 'patrone': 3576, 'rumor': 3577, 'engaged': 3578, 'speculation': 3579, 'route': 3580, 'cherry': 3581, 'custard': 3582, 'producers': 3583, 'eyecatching': 3584, 'sat': 3585, 'scores': 3586, 'declining': 3587, 'slower': 3588, 'rate': 3589, 'flimsy': 3590, 'hodgepodge': 3591, 'graphs': 3592, 'factoids': 3593, 'bud': 3594, 'tenyear': 3595, 'drum': 3596, 'bongos': 3597, 'twins': 3598, 'walkietalkies': 3599, 'walkietalkie': 3600, 'brown': 3601, 'cutie': 3602, 'assets': 3603, 'critical': 3604, 'whosever': 3605, 'shafted': 3606, 'ummm': 3607, 'canned': 3608, 'lima': 3609, 'pumpkin': 3610, 'showtime': 3611, 'reactors': 3612, 'johnson': 3613, 'subtle': 3614, 'depressed': 3615, 'milhouses': 3616, 'heroic': 3617, 'narrowly': 3618, 'averting': 3619, 'meltdown': 3620, 'proving': 3621, 'employeeofthemonth': 3622, 'admiration': 3623, 'ashes': 3624, 'clove': 3625, 'foureyes': 3626, 'zen': 3627, 'awe': 3628, 'eanaeeharatounahdulewhat': 3629, 'rocks': 3630, 'hornets': 3631, 'nest': 3632, 'van': 3633, 'houten': 3634, 'defend': 3635, 'bullies': 3636, 'sheep': 3637, 'gumbel': 3638, 'profiling': 3639, 'tick': 3640, 'senses': 3641, 'ladies': 3642, 'eeenie': 3643, 'pennycandy': 3644, 'fifth': 3645, 'cancelled': 3646, 'autographs': 3647, 'suddenly': 3648, 'respectfully': 3649, 'returning': 3650, 'mattered': 3651, 'charade': 3652, 'pratfalls': 3653, 'punchinello': 3654, 'antics': 3655, 'necessary': 3656, 'prominent': 3657, 'entertainers': 3658, 'lauren': 3659, 'bacall': 3660, 'dinah': 3661, 'shore': 3662, 'william': 3663, 'shatner': 3664, 'velvet': 3665, 'continue': 3666, 'fond': 3667, 'gladly': 3668, 'envies': 3669, 'converting': 3670, 'monday': 3671, 'misses': 3672, 'beard': 3673, 'dimitri': 3674, 'caller': 3675, 'listener': 3676, 'defies': 3677, 'chooses': 3678, 'yiddle': 3679, 'speaking': 3680, 'charity': 3681, 'forgave': 3682, 'oy': 3683, 'disguise': 3684, 'au': 3685, 'revoir': 3686, 'complimentary': 3687, 'above': 3688, 'judaica': 3689, 'babylonian': 3690, 'pushed': 3691, 'drawn': 3692, 'dynamite': 3693, 'simon': 3694, 'eleazar': 3695, 'supple': 3696, 'rigid': 3697, 'cedar': 3698, 'redemption': 3699, 'jesters': 3700, 'jews': 3701, 'swinging': 3702, 'persecution': 3703, 'sammy': 3704, 'davis': 3705, 'jr': 3706, 'russia': 3707, 'costumes': 3708, 'hehjackpot': 3709, 'select': 3710, 'mobility': 3711, 'salute': 3712, 'native': 3713, 'pacific': 3714, 'northwests': 3715, 'yahhh': 3716, 'dump': 3717, 'monaco': 3718, 'eeuhgh': 3719, 'cmom': 3720, 'ugghh': 3721, 'souvenirs': 3722, 'spects': 3723, 'wearer': 3724, 'severed': 3725, 'flake': 3726, 'luxury': 3727, 'yaaayyy': 3728, 'fanciest': 3729, 'misfortune': 3730, 'jeez': 3731, 'slaves': 3732, 'backfire': 3733, 'rye': 3734, 'andand': 3735, 'surprises': 3736, 'accursed': 3737, 'demon': 3738, 'depths': 3739, 'ee': 3740, 'smatter': 3741, 'climb': 3742, 'curtains': 3743, 'brake': 3744, 'nodding': 3745, 'conditioning': 3746, 'ouch': 3747, 'swell': 3748, 'repay': 3749, 'yaahhh': 3750, 'toilettrained': 3751, 'operate': 3752, 'ultrasonic': 3753, 'lithotryptor': 3754, 'twentyeight': 3755, 'slave': 3756, 'driver': 3757, 'whayda': 3758, 'scream': 3759, 'flab': 3760, 'dew': 3761, 'lilly': 3762, 'umm': 3763, 'snake': 3764, 'nick': 3765, 'closes': 3766, 'seconds': 3767, 'trenchant': 3768, 'lunchlady': 3769, 'doris': 3770, 'refried': 3771, 'poop': 3772, 'disappointing': 3773, 'steps': 3774, 'losses': 3775, 'fruity': 3776, 'yell': 3777, 'mm': 3778, 'sneh': 3779, 'scottish': 3780, 'deerhound': 3781, 'iid': 3782, 'personally': 3783, 'usury': 3784, 'angling': 3785, 'moped': 3786, 'exclude': 3787, 'planning': 3788, 'nestle': 3789, 'snugly': 3790, 'courts': 3791, 'joystick': 3792, 'xylon': 3793, 'cruiser': 3794, 'hyperspace': 3795, 'spaceship': 3796, 'hoping': 3797, 'luxuries': 3798, 'vaccinations': 3799, 'diseases': 3800, 'scratchforcash': 3801, 'ripping': 3802, 'daisy': 3803, 'salty': 3804, 'wildfire': 3805, 'mustnt': 3806, 'exhausted': 3807, 'lobbied': 3808, 'treated': 3809, 'blueberry': 3810, 'carrot': 3811, 'oats': 3812, 'scratch': 3813, 'contemporary': 3814, 'restaff': 3815, 'giddyup': 3816, 'tombstone': 3817, 'drill': 3818, 'style': 3819, 'asner': 3820, 'expiration': 3821, 'june': 3822, 'ordering': 3823, 'quickest': 3824, 'cheapest': 3825, 'easiest': 3826, 'weld': 3827, 'flame': 3828, 'ooooooh': 3829, 'mcbain': 3830, 'tinkly': 3831, 'winkly': 3832, 'theisman': 3833, 'fatherhood': 3834, 'evaluates': 3835, 'rates': 3836, 'pockets': 3837, 'vague': 3838, 'description': 3839, 'mcqueen': 3840, 'cord': 3841, 'hobby': 3842, 'champ': 3843, 'poorly': 3844, 'guarded': 3845, 'sites': 3846, 'eggheaded': 3847, 'envy': 3848, 'birdfeeder': 3849, 'gymboree': 3850, 'cosbys': 3851, 'intergenerational': 3852, 'perversity': 3853, 'brushes': 3854, 'cosby': 3855, 'ours': 3856, 'alight': 3857, 'wholesome': 3858, 'mischief': 3859, 'crushed': 3860, 'helmets': 3861, 'wusses': 3862, 'losermobile': 3863, 'gravity': 3864, 'copilot': 3865, 'crash': 3866, 'nelsonll': 3867, 'handles': 3868, 'martins': 3869, 'lightnin': 3870, 'brief': 3871, 'shining': 3872, 'hibberts': 3873, 'office': 3874, 'scheduled': 3875, 'booster': 3876, 'anal': 3877, 'barefoot': 3878, 'seasons': 3879, 'homewrecker': 3880, 'pout': 3881, 'defended': 3882, 'heroe': 3883, 'ima': 3884, 'spectators': 3885, 'hahahahaha': 3886, 'infotainment': 3887, 'slumber': 3888, 'hens': 3889, 'cackling': 3890, 'plotting': 3891, 'athlete': 3892, 'lad': 3893, 'spoke': 3894, 'marges': 3895, 'beastly': 3896, 'slides': 3897, 'stared': 3898, 'drumstick': 3899, 'haste': 3900, 'grabbed': 3901, 'lighting': 3902, 'crowded': 3903, 'government': 3904, 'accepting': 3905, 'stamps': 3906, 'creator': 3907, 'virgin': 3908, 'jass': 3909, 'hugh': 3910, 'sorta': 3911, 'backfired': 3912, 'bail': 3913, 'watering': 3914, 'noninventing': 3915, 'pugnosed': 3916, 'consolation': 3917, 'happyland': 3918, 'lane': 3919, 'moevies': 3920, 'moetinee': 3921, 'misguided': 3922, 'choking': 3923, 'ingredient': 3924, 'plain': 3925, 'counter': 3926, 'aerosmith': 3927, 'financial': 3928, 'skyrocketing': 3929, 'smackers': 3930, 'private': 3931, 'reserve': 3932, 'fulltime': 3933, 'account': 3934, 'drunks': 3935, 'horst': 3936, 'germany': 3937, 'economic': 3938, 'efficient': 3939, 'punctual': 3940, 'ethic': 3941, 'woa': 3942, 'whatchamajigger': 3943, 'constructive': 3944, 'battlestar': 3945, 'galactica': 3946, 'smitty': 3947, 'safenup': 3948, 'auugghh': 3949, 'picky': 3950, 'beatup': 3951, 'squeezing': 3952, 'slivers': 3953, 'rope': 3954, 'baths': 3955, 'knowitalls': 3956, 'oproblem': 3957, 'marvelous': 3958, 'sees': 3959, 'bears': 3960, 'reptile': 3961, 'barnacle': 3962, 'betterknown': 3963, 'corncob': 3964, 'ahoy': 3965, 'maties': 3966, 'thar': 3967, 'color': 3968, 'nausea': 3969, 'craving': 3970, 'tightness': 3971, 'profuse': 3972, 'everythings': 3973, 'feedings': 3974, 'turbulent': 3975, 'decade': 3976, 'known': 3977, 'idealistic': 3978, 'candidacy': 3979, 'anderson': 3980, 'supertramp': 3981, 'blade': 3982, 'overcame': 3983, 'feelgood': 3984, 'spans': 3985, 'appalling': 3986, 'amount': 3987, 'ungrateful': 3988, 'whaddyacallit': 3989, 'apes': 3990, 'masters': 3991, 'stimulating': 3992, 'darth': 3993, 'vader': 3994, 'skywalkers': 3995, 'leia': 3996, 'yoda': 3997, 'gooright': 3998, 'phew': 3999, 'sexy': 4000, 'impregnable': 4001, 'dough': 4002, 'kidsll': 4003, 'fairy': 4004, 'screwy': 4005, 'puke': 4006, 'marcus': 4007, 'mucous': 4008, 'dart': 4009, 'eeart': 4010, 'quaint': 4011, 'chapel': 4012, 'ceiling': 4013, 'ted': 4014, 'bessell': 4015, 'salary': 4016, 'sterile': 4017, 'xxx': 4018, 'goofoff': 4019, 'disappearing': 4020, 'workplace': 4021, 'tallow': 4022, 'hardens': 4023, 'yon': 4024, 'mold': 4025, 'madame': 4026, 'selected': 4027, 'reap': 4028, 'benefits': 4029, 'nevrdull': 4030, 'knifeedge': 4031, 'overdue': 4032, 'thumbs': 4033, 'finest': 4034, 'repossessed': 4035, 'hunted': 4036, 'household': 4037, 'frosting': 4038, 'shots': 4039, 'stainless': 4040, 'steel': 4041, 'lunchboxes': 4042, 'fries': 4043, 'trainee': 4044, 'knocked': 4045, 'bigshot': 4046, 'employee': 4047, 'somebodyll': 4048, 'sakes': 4049, 'toes': 4050, 'received': 4051, 'blessed': 4052, 'limited': 4053, 'microphones': 4054, 'shelf': 4055, 'fortysix': 4056, 'merchants': 4057, 'goods': 4058, 'digital': 4059, 'audio': 4060, 'discs': 4061, 'recall': 4062, 'rosarita': 4063, 'toby': 4064, 'looter': 4065, 'nothins': 4066, 'polite': 4067, 'rockin': 4068, 'sight': 4069, 'whad': 4070, 'distortion': 4071, 'universe': 4072, 'vanillachocolateandstrawberry': 4073, 'bartron': 4074, 'commander': 4075, 'martian': 4076, 'invasion': 4077, 'planet': 4078, 'resistance': 4079, 'captured': 4080, 'farmand': 4081, 'brotherrr': 4082, 'uncalled': 4083, 'todd': 4084, 'youlater': 4085, 'forth': 4086, 'porch': 4087, 'flapping': 4088, 'enroll': 4089, 'shabby': 4090, 'sherri': 4091, 'peel': 4092, 'bounty': 4093, 'gnaw': 4094, 'razors': 4095, 'property': 4096, 'label': 4097, 'boob': 4098, 'edit': 4099, 'extrawarm': 4100, 'sweater': 4101, 'albums': 4102, 'fatty': 4103, 'deepfried': 4104, 'heavily': 4105, 'salted': 4106, 'justify': 4107, 'modest': 4108, 'prints': 4109, 'feminist': 4110, 'newsletter': 4111, 'daaaaad': 4112, 'burping': 4113, 'outgrew': 4114, 'whaaat': 4115, 'announcer': 4116, 'fumbled': 4117, 'soldier': 4118, 'sunny': 4119, 'lay': 4120, 'doh': 4121, 'bengals': 4122, 'miami': 4123, 'beats': 4124, 'bow': 4125, 'ties': 4126, 'daddies': 4127, 'savage': 4128, 'mounds': 4129, 'chopped': 4130, 'wager': 4131, 'modeling': 4132, 'aftertaste': 4133, 'tucked': 4134, 'circulation': 4135, 'quiver': 4136, 'twentythree': 4137, 'nauseous': 4138, 'ers': 4139, 'seattle': 4140, 'raiders': 4141, 'homoeroticism': 4142, 'oddball': 4143, 'canadian': 4144, 'phyllis': 4145, 'houstons': 4146, 'failed': 4147, 'outings': 4148, 'turf': 4149, 'scoring': 4150, 'touchdowns': 4151, 'conference': 4152, 'cutest': 4153, 'wad': 4154, 'sweaty': 4155, 'termites': 4156, 'tuttut': 4157, 'passes': 4158, 'marco': 4159, 'freshest': 4160, 'violin': 4161, 'picks': 4162, 'chiefs': 4163, 'fivestar': 4164, 'silver': 4165, 'chicago': 4166, 'ls': 4167, 'hs': 4168, 'meaningless': 4169, 'mustve': 4170, 'accessory': 4171, 'stacie': 4172, 'lunar': 4173, 'rovers': 4174, 'perfume': 4175, 'streeps': 4176, 'versatility': 4177, 'thoughtful': 4178, 'eightyearold': 4179, 'loses': 4180, 'fortyeight': 4181, 'victimless': 4182, 'streep': 4183, 'massager': 4184, 'mount': 4185, 'sunsets': 4186, 'sonny': 4187, 'hockin': 4188, 'penthouse': 4189, 'alfa': 4190, 'romeo': 4191, 'collagen': 4192, 'injection': 4193, 'clinic': 4194, 'shoebox': 4195, 'hereby': 4196, 'illgotten': 4197, 'accessories': 4198, 'chinchilla': 4199, 'coat': 4200, 'forgiveness': 4201, 'validate': 4202, 'theory': 4203, 'cared': 4204, 'clouded': 4205, 'subconsciously': 4206, 'farm': 4207, 'sentence': 4208, 'snipers': 4209, 'dagger': 4210, 'bettin': 4211, 'buffalos': 4212, 'touchdown': 4213, 'cleaning': 4214, 'sliced': 4215, 'diagonally': 4216, 'lengthwise': 4217, 'mayo': 4218, 'raisins': 4219, 'pimento': 4220, 'pimentos': 4221, 'drycleaning': 4222, 'nicks': 4223, 'lodged': 4224, 'whine': 4225, 'damned': 4226, 'twitch': 4227, 'mommmmm': 4228, 'leather': 4229, 'duck': 4230, 'sausage': 4231, 'noooooooo': 4232, 'cuffs': 4233, 'alls': 4234, 'whaa': 4235, 'mystic': 4236, 'caverns': 4237, 'unwind': 4238, 'beach': 4239, 'divorce': 4240, 'couples': 4241, 'startin': 4242, 'bounce': 4243, 'often': 4244, 'cooker': 4245, 'crazyand': 4246, 'hay': 4247, 'peas': 4248, 'blackhead': 4249, 'eew': 4250, 'pork': 4251, 'maggieeee': 4252, 'bungee': 4253, 'jumping': 4254, 'kayaking': 4255, 'cigar': 4256, 'hula': 4257, 'dancing': 4258, 'cheesecake': 4259, 'tequila': 4260, 'anyplace': 4261, 'uhum': 4262, 'attached': 4263, 'millionaires': 4264, 'yoyos': 4265, 'sparkle': 4266, 'plucking': 4267, 'steam': 4268, 'untimely': 4269, 'deaths': 4270, 'wrinkles': 4271, 'jammed': 4272, 'equals': 4273, 'recently': 4274, 'divorced': 4275, 'fourthgrade': 4276, 'object': 4277, 'answered': 4278, 'irresistible': 4279, 'outdoors': 4280, 'makers': 4281, 'brainwashed': 4282, 'blueprint': 4283, 'shines': 4284, 'waxer': 4285, 'united': 4286, 'xerox': 4287, 'terri': 4288, 'exchange': 4289, 'mxpa': 4290, 'postcard': 4291, 'visited': 4292, 'chewy': 4293, 'pretzels': 4294, 'glue': 4295, 'camcorder': 4296, 'moustache': 4297, 'ayeaye': 4298, 'admiral': 4299, 'butthead': 4300, 'frenchy': 4301, 'strap': 4302, 'gordie': 4303, 'navy': 4304, 'streak': 4305, 'photographer': 4306, 'dangled': 4307, 'stabs': 4308, 'needles': 4309, 'partly': 4310, 'bas': 4311, 'fortner': 4312, 'commentary': 4313, 'specialty': 4314, 'dumpville': 4315, 'inoculating': 4316, 'kampuchea': 4317, 'crocodiles': 4318, 'disgusting': 4319, 'crocodile': 4320, 'farming': 4321, 'ocean': 4322, 'whisper': 4323, 'ps': 4324, 'echo': 4325, 'dripper': 4326, 'softball': 4327, 'thunderstorm': 4328, 'sheltering': 4329, 'tallest': 4330, 'bats': 4331, 'direction': 4332, 'hoooooo': 4333, 'motion': 4334, 'crock': 4335, 'clemens': 4336, 'snuggling': 4337, 'homerun': 4338, 'backs': 4339, 'scratching': 4340, 'jiggered': 4341, 'drifter': 4342, 'jazz': 4343, 'unappreciated': 4344, 'gutsy': 4345, 'stylings': 4346, 'electrify': 4347, 'french': 4348, 'drug': 4349, 'torrid': 4350, 'affairs': 4351, 'stubby': 4352, 'copper': 4353, 'thisll': 4354, 'huhhuh': 4355, 'log': 4356, 'entry': 4357, 'hopes': 4358, 'woww': 4359, 'homemaking': 4360, 'toast': 4361, 'smiley': 4362, 'cooperative': 4363, 'surveillance': 4364, 'photos': 4365, 'unng': 4366, 'chuck': 4367, 'alphabet': 4368, 'doy': 4369, 'honk': 4370, 'observed': 4371, 'blatant': 4372, 'disregard': 4373, 'authority': 4374, 'squealing': 4375, 'narc': 4376, 'attaboy': 4377, 'donna': 4378, 'hall': 4379, 'bub': 4380, 'pinker': 4381, 'maaarge': 4382, 'prefascist': 4383, 'giddy': 4384, 'futile': 4385, 'madre': 4386, 'dios': 4387, 'legends': 4388, 'allriight': 4389, 'absent': 4390, 'identical': 4391, 'elongated': 4392, 'loops': 4393, 'earning': 4394, 'edition': 4395, 'search': 4396, 'locker': 4397, 'limits': 4398, 'expulsion': 4399, 'betrayed': 4400, 'soundin': 4401, 'gogetallyourmoney': 4402, 'salon': 4403, 'excitement': 4404, 'ray': 4405, 'otherwise': 4406, 'unbearable': 4407, 'fourteen': 4408, 'carat': 4409, 'receipts': 4410, 'seventeen': 4411, 'emotions': 4412, 'wagging': 4413, 'whens': 4414, 'mountains': 4415, 'sniffing': 4416, 'yeller': 4417, 'hitlers': 4418, 'whassisname': 4419, 'checkers': 4420, 'mauled': 4421, 'sevenhundred': 4422, 'language': 4423, 'dogkilling': 4424, 'sonsa': 4425, 'untwistable': 4426, 'manipulative': 4427, 'perform': 4428, 'carving': 4429, 'scam': 4430, 'organ': 4431, 'spam': 4432, 'porkchop': 4433, 'volumes': 4434, 'encyclopedia': 4435, 'generica': 4436, 'elephantiasis': 4437, 'basically': 4438, 'traveling': 4439, 'acrobats': 4440, 'entrails': 4441, 'dinosaur': 4442, 'dance': 4443, 'moonnnnnnnn': 4444, 'thirdrate': 4445, 'uhthe': 4446, 'leash': 4447, 'ahold': 4448, 'twobit': 4449, 'aaaggghhh': 4450, 'petted': 4451, 'suggested': 4452, 'howm': 4453, 'sparks': 4454, 'ernest': 4455, 'lobby': 4456, 'frisky': 4457, 'stockholm': 4458, 'taut': 4459, 'thriller': 4460, 'sticky': 4461, 'submarines': 4462, 'strings': 4463, 'octopus': 4464, 'violence': 4465, 'desensitized': 4466, 'nursery': 4467, 'rhyme': 4468, 'splattered': 4469, 'tendons': 4470, 'throbbing': 4471, 'base': 4472, 'collecting': 4473, 'spots': 4474, 'unhappy': 4475, 'pappy': 4476, 'dignity': 4477, 'executive': 4478, 'redneck': 4479, 'pickup': 4480, 'spittle': 4481, 'feudin': 4482, 'fussin': 4483, 'funky': 4484, 'crack': 4485, 'scoop': 4486, 'digitallyencoded': 4487, 'djs': 4488, 'cruelty': 4489, 'profanity': 4490, 'amuse': 4491, 'outofwork': 4492, 'superstar': 4493, 'hanging': 4494, 'seamy': 4495, 'outfits': 4496, 'thanking': 4497, 'guilty': 4498, 'figures': 4499, 'decisions': 4500, 'hygiene': 4501, 'described': 4502, 'managing': 4503, 'singer': 4504, 'hoagie': 4505, 'whether': 4506, 'hock': 4507, 'overweight': 4508, 'hambone': 4509, 'solo': 4510, 'compliment': 4511, 'gbye': 4512, 'fails': 4513, 'succeeds': 4514, 'greased': 4515, 'pig': 4516, 'rattlesnake': 4517, 'hatband': 4518, 'dumbass': 4519, 'flashing': 4520, 'ba': 4521, 'negotiate': 4522, 'unload': 4523, 'dadburn': 4524, 'dinosaurs': 4525, 'families': 4526, 'screen': 4527, 'bleuh': 4528, 'exconvict': 4529, 'forgiving': 4530, 'unity': 4531, 'armed': 4532, 'snotnosed': 4533, 'bellybutton': 4534, 'snitch': 4535, 'scum': 4536, 'ayecarumba': 4537, 'proof': 4538, 'revolving': 4539, 'giggling': 4540, 'nogood': 4541, 'showbiz': 4542, 'phony': 4543, 'weenies': 4544, 'catsup': 4545, 'wienies': 4546, 'swedish': 4547, 'meatballs': 4548, 'weddings': 4549, 'tomorrows': 4550, 'nonviolent': 4551, 'flower': 4552, 'cutesiness': 4553, 'honeymoon': 4554, 'twotime': 4555, 'seemed': 4556, 'leak': 4557, 'silently': 4558, 'filling': 4559, 'natural': 4560, 'explode': 4561, 'plucky': 4562, 'slowwitted': 4563, 'kingdom': 4564, 'explained': 4565, 'mobile': 4566, 'fooled': 4567, 'mistrust': 4568, 'gasfilled': 4569, 'hallway': 4570, 'suffocate': 4571, 'warmup': 4572, 'spinal': 4573, 'taps': 4574, 'concerts': 4575, 'bands': 4576, 'attitudes': 4577, 'politics': 4578, 'frisbee': 4579, 'singers': 4580, 'instruction': 4581, 'pow': 4582, 'charttopper': 4583, 'fans': 4584, 'pigs': 4585, 'ise': 4586, 'jammin': 4587, 'polly': 4588, 'wolly': 4589, 'doodle': 4590, 'seatbelts': 4591, 'aggressive': 4592, 'rough': 4593, 'pump': 4594, 'uggh': 4595, 'dumpster': 4596, 'precaution': 4597, 'ottos': 4598, 'whatsoever': 4599, 'unto': 4600, 'shalt': 4601, 'moochers': 4602, 'hut': 4603, 'coolest': 4604, 'outfit': 4605, 'unicycle': 4606, 'drain': 4607, 'clogging': 4608, 'cookieeating': 4609, 'callgetting': 4610, 'oversized': 4611, 'novelty': 4612, 'billiard': 4613, 'outlook': 4614, 'toothless': 4615, 'ears': 4616, 'dropouts': 4617, 'doubtful': 4618, 'creating': 4619, 'halfman': 4620, 'halfmonkey': 4621, 'shmod': 4622, 'skirt': 4623, 'strut': 4624, 'nude': 4625, 'ladyah': 4626, 'vs': 4627, 'hag': 4628, 'wide': 4629, 'selection': 4630, 'changer': 4631, 'yastrzemski': 4632, 'omar': 4633, 'vizquel': 4634, 'block': 4635, 'mickey': 4636, 'mantle': 4637, 'cooties': 4638, 'risk': 4639, 'melt': 4640, 'dieting': 4641, 'lifting': 4642, 'scumbag': 4643, 'subtly': 4644, 'implanted': 4645, 'creamery': 4646, 'tapes': 4647, 'operator': 4648, 'hostage': 4649, 'negotiations': 4650, 'tabouli': 4651, 'ignoring': 4652, 'demands': 4653, 'weightloss': 4654, 'reduced': 4655, 'appetite': 4656, 'lamentably': 4657, 'gastronomic': 4658, 'rapacity': 4659, 'satiety': 4660, 'desserts': 4661, 'forbearance': 4662, 'watchword': 4663, 'triumvirate': 4664, 'twinkies': 4665, 'merely': 4666, 'overwhelmed': 4667, 'resolve': 4668, 'wanting': 4669, 'boudoir': 4670, 'gourmand': 4671, 'metamorphasizes': 4672, 'voluptuary': 4673, 'spit': 4674, 'principals': 4675, 'wrestle': 4676, 'grossed': 4677, 'machiavellian': 4678, 'countenance': 4679, 'ooha': 4680, 'sextet': 4681, 'ale': 4682, 'stanky': 4683, 'shocking': 4684, 'prude': 4685, 'vernal': 4686, 'equinox': 4687, 'scale': 4688, 'gained': 4689, 'thirteen': 4690, 'disingenuous': 4691, 'mountebanks': 4692, 'chicanery': 4693, 'pox': 4694, 'ratted': 4695, 'linked': 4696, 'neutrotransmitter': 4697, 'gammaphenamine': 4698, 'chemical': 4699, 'developing': 4700, 'minty': 4701, 'eliminate': 4702, 'excess': 4703, 'unfortunately': 4704, 'confess': 4705, 'scrape': 4706, 'division': 4707, 'remainder': 4708, 'confession': 4709, 'narked': 4710, 'dealie': 4711, 'spoon': 4712, 'penguin': 4713, 'physical': 4714, 'bend': 4715, 'apart': 4716, 'eventin': 4717, 'controversial': 4718, 'stain': 4719, 'master': 4720, 'carpets': 4721, 'sponsor': 4722, 'chatting': 4723, 'creaking': 4724, 'leapt': 4725, 'collapse': 4726, 'primetime': 4727, 'brightest': 4728, 'signing': 4729, 'gist': 4730, 'ceremony': 4731, 'farce': 4732, 'emmys': 4733, 'jinx': 4734, 'heavyweight': 4735, 'couchless': 4736, 'melter': 4737, 'deaf': 4738, 'switches': 4739, 'functions': 4740, 'mode': 4741, 'utility': 4742, 'counsel': 4743, 'ventnor': 4744, 'avenue': 4745, 'fabulous': 4746, 'hotel': 4747, 'valet': 4748, 'shortly': 4749, 'park': 4750, 'thimble': 4751, 'eleven': 4752, 'businessman': 4753, 'playin': 4754, 'annual': 4755, 'outstanding': 4756, 'achievement': 4757, 'invest': 4758, 'civilization': 4759, 'republic': 4760, 'delivered': 4761, 'paradise': 4762, 'regained': 4763, 'chuzzlewit': 4764, 'herman': 4765, 'melvilles': 4766, 'twin': 4767, 'classics': 4768, 'omoo': 4769, 'typee': 4770, 'washer': 4771, 'shysters': 4772, 'bilk': 4773, 'bird': 4774, 'peeked': 4775, 'whoooa': 4776, 'ingrained': 4777, 'blew': 4778, 'rollers': 4779, 'kneading': 4780, 'buttocks': 4781, 'peekaboo': 4782, 'existing': 4783, 'dug': 4784, 'ethan': 4785, 'frome': 4786, 'nra': 4787, 'armor': 4788, 'piercing': 4789, 'cyanidetipped': 4790, 'bullets': 4791, 'generosity': 4792, 'hugged': 4793, 'obliged': 4794, 'lala': 4795, 'dreamt': 4796, 'pinch': 4797, 'averages': 4798, 'modesty': 4799, 'grading': 4800, 'dbac': 4801, 'announce': 4802, 'gym': 4803, 'bathing': 4804, 'swim': 4805, 'nekkid': 4806, 'dirts': 4807, 'appears': 4808, 'conduct': 4809, 'reconsider': 4810, 'figuring': 4811, 'textbooks': 4812, 'returned': 4813, 'cases': 4814, 'wrappings': 4815, 'add': 4816, 'joining': 4817, 'bucolic': 4818, 'splendor': 4819, 'aces': 4820, 'forge': 4821, 'plausible': 4822, 'rollerskate': 4823, 'pleasantly': 4824, 'd': 4825, 'easily': 4826, 'mower': 4827, 'skate': 4828, 'uptight': 4829, 'counselors': 4830, 'philosophy': 4831, 'hairier': 4832, 'boosters': 4833, 'malaria': 4834, 'measles': 4835, 'encephalitis': 4836, 'hansens': 4837, 'patronize': 4838, 'moves': 4839, 'ivy': 4840, 'pets': 4841, 'hehehe': 4842, 'rustic': 4843, 'expected': 4844, 'seal': 4845, 'products': 4846, 'standards': 4847, 'combover': 4848, 'finds': 4849, 'sincewell': 4850, 'agility': 4851, 'terribly': 4852, 'bean': 4853, 'tide': 4854, 'hikes': 4855, 'grim': 4856, 'marches': 4857, 'crafts': 4858, 'actuality': 4859, 'dickensian': 4860, 'workhouse': 4861, 'relying': 4862, 'unwavering': 4863, 'belief': 4864, 'pessimistic': 4865, 'communication': 4866, 'lightheaded': 4867, 'complains': 4868, 'enemies': 4869, 'balance': 4870, 'chunky': 4871, 'gorge': 4872, 'trough': 4873, 'kowalski': 4874, 'crandall': 4875, 'ehh': 4876, 'zing': 4877, 'shortlived': 4878, 'sitcom': 4879, 'pacemaker': 4880, 'cattle': 4881, 'skull': 4882, 'birthmark': 4883, 'superfluous': 4884, 'nipple': 4885, 'inferior': 4886, 'fed': 4887, 'export': 4888, 'lowcal': 4889, 'microwavable': 4890, 'dinners': 4891, 'dohkay': 4892, 'bitch': 4893, 'exist': 4894, 'beaut': 4895, 'butte': 4896, 'finah': 4897, 'lalalalalalala': 4898, 'deborah': 4899, 'jo': 4900, 'smallwood': 4901, 'match': 4902, 'actor': 4903, 'interests': 4904, 'parfait': 4905, 'aging': 4906, 'driven': 4907, 'brutish': 4908, 'brotherinlaw': 4909, 'actress': 4910, 'lucie': 4911, 'arnazluckinbill': 4912, 'jivetalking': 4913, 'robots': 4914, 'frontal': 4915, 'nudity': 4916, 'pears': 4917, 'naptime': 4918, 'sec': 4919, 'llewellyn': 4920, 'stanleys': 4921, 'humor': 4922, 'papa': 4923, 'heah': 4924, 'homah': 4925, 'lahk': 4926, 'maght': 4927, 'oill': 4928, 'bobs': 4929, 'reahlly': 4930, 'baht': 4931, 'yall': 4932, 'passin': 4933, 'biscuit': 4934, 'slog': 4935, 'gulliver': 4936, 'livin': 4937, 'cuckoo': 4938, 'dessert': 4939, 'lid': 4940, 'maaaarge': 4941, 'maaaaaarrrrge': 4942, 'yelling': 4943, 'scene': 4944, 'expert': 4945, 'aid': 4946, 'lamaze': 4947, 'mardi': 4948, 'gras': 4949, 'neverending': 4950, 'faded': 4951, 'dame': 4952, 'softly': 4953, 'sweetly': 4954, 'symbolize': 4955, 'descent': 4956, 'depended': 4957, 'regret': 4958, 'cheering': 4959, 'missus': 4960, 'terrific': 4961, 'barely': 4962, 'hauled': 4963, 'womb': 4964, 'argument': 4965, 'toasty': 4966, 'cinnamon': 4967, 'whizzing': 4968, 'delilahhh': 4969, 'outofthisworld': 4970, 'waffles': 4971, 'caramels': 4972, 'batterliquid': 4973, 'fattening': 4974, 'hallowed': 4975, 'whoop': 4976, 'pap': 4977, 'yesss': 4978, 'almighty': 4979, 'spends': 4980, 'measly': 4981, 'testify': 4982, 'error': 4983, 'sacrilegious': 4984, 'maarge': 4985, 'ails': 4986, 'matthew': 4987, 'phoenix': 4988, 'sermons': 4989, 'worship': 4990, 'dedicating': 4991, 'blasphemy': 4992, 'recant': 4993, 'deathbed': 4994, 'ulterior': 4995, 'motive': 4996, 'inviting': 4997, 'attending': 4998, 'path': 4999, 'feast': 5000, 'maximum': 5001, 'occupancy': 5002, 'kneeling': 5003, 'responsibility': 5004, 'socalled': 5005, 'ideas': 5006, 'choose': 5007, 'ooop': 5008, 'interview': 5009, 'lorne': 5010, 'michaels': 5011, 'unabashed': 5012, 'defines': 5013, 'iud': 5014, 'springs': 5015, 'internal': 5016, 'ganesha': 5017, 'offense': 5018, 'religions': 5019, 'takin': 5020, 'heat': 5021, 'seeyoull': 5022, 'catastrophe': 5023, 'homey': 5024, 'roach': 5025, 'traps': 5026, 'regular': 5027, 'charlie': 5028, 'picasso': 5029, 'o': 5030, 'spiteful': 5031, 'smoten': 5032, 'fry': 5033, 'proverbial': 5034, 'buffer': 5035, 'ugmo': 5036, 'unattractive': 5037, 'hideous': 5038, 'duckling': 5039, 'goodlooking': 5040, 'drawing': 5041, 'roller': 5042, 'gouge': 5043, 'sockets': 5044, 'circuit': 5045, 'attractive': 5046, 'taping': 5047, 'swimsuit': 5048, 'petroleum': 5049, 'frictionless': 5050, 'grandmas': 5051, 'underpants': 5052, 'compliments': 5053, 'ravenous': 5054, 'bloodsucking': 5055, 'trim': 5056, 'triumphant': 5057, 'runway': 5058, 'heels': 5059, 'hardest': 5060, 'fashioned': 5061, 'melvin': 5062, 'spacious': 5063, 'skies': 5064, 'amber': 5065, 'waves': 5066, 'grain': 5067, 'greater': 5068, 'scepter': 5069, 'lightning': 5070, 'plastic': 5071, 'spokesperson': 5072, 'float': 5073, 'corporate': 5074, 'shill': 5075, 'evils': 5076, 'napping': 5077, 'anthem': 5078, 'diverts': 5079, 'funds': 5080, 'toys': 5081, 'caesars': 5082, 'string': 5083, 'pressures': 5084, 'dolly': 5085, 'dolls': 5086, 'toasters': 5087, 'mention': 5088, 'golf': 5089, 'golfing': 5090, 'bugged': 5091, 'mysterious': 5092, 'expedition': 5093, 'nonsmoker': 5094, 'preferred': 5095, 'serve': 5096, 'array': 5097, 'fruits': 5098, 'natures': 5099, 'aapple': 5100, 'zzebra': 5101, 'popup': 5102, 'twentysix': 5103, 'alphabetic': 5104, 'adventure': 5105, 'waldo': 5106, 'tryin': 5107, 'chapter': 5108, 'mayors': 5109, 'swilling': 5110, 'clovis': 5111, 'skeletons': 5112, 'whitest': 5113, 'buyers': 5114, 'cullen': 5115, 'rayburn': 5116, 'narz': 5117, 'trebek': 5118, 'zabar': 5119, 'kresge': 5120, 'caldor': 5121, 'walmart': 5122, 'prefer': 5123, 'impaired': 5124, 'barricade': 5125, 'dabbling': 5126, 'chuckle': 5127, 'library': 5128, 'depository': 5129, 'acomin': 5130, 'lead': 5131, 'einstein': 5132, 'shakespeare': 5133, 'kolchak': 5134, 'mannix': 5135, 'banacek': 5136, 'danno': 5137, 'trojan': 5138, 'ramses': 5139, 'magnum': 5140, 'sheik': 5141, 'mindless': 5142, 'parent': 5143, 'nows': 5144, 'starving': 5145, 'winkler': 5146, 'firm': 5147, 'believer': 5148, 'rs': 5149, 'ummmm': 5150, 'renewing': 5151, 'gums': 5152, 'dentures': 5153, 'elementary': 5154, 'bumper': 5155, 'sticker': 5156, 'badmouthing': 5157, 'caved': 5158, 'eatin': 5159, 'marshall': 5160, 'charles': 5161, 'evans': 5162, 'hughes': 5163, 'flies': 5164, 'nurses': 5165, 'hangdog': 5166, 'sending': 5167, 'supper': 5168, 'confident': 5169, 'thataboy': 5170, 'goats': 5171, 'unpredictable': 5172, 'mexican': 5173, 'sitcoms': 5174, 'scamp': 5175, 'jury': 5176, 'trick': 5177, 'prejudiced': 5178, 'races': 5179, 'beets': 5180, 'pulling': 5181, 'naive': 5182, 'discipline': 5183, 'spanking': 5184, 'defining': 5185, 'event': 5186, 'landing': 5187, 'tummy': 5188, 'bloody': 5189, 'catchers': 5190, 'mitt': 5191, 'banged': 5192, 'table': 5193, 'licked': 5194, 'entertain': 5195, 'compare': 5196, 'celebrities': 5197, 'cameos': 5198, 'dustin': 5199, 'hoffman': 5200, 'bind': 5201, 'demented': 5202, 'melancholia': 5203, 'tennessee': 5204, 'williams': 5205, 'heroine': 5206, 'softhearted': 5207, 'buns': 5208, 'competition': 5209, 'dya': 5210, 'senior': 5211, 'citizen': 5212, 'soylent': 5213, 'mouse': 5214, 'itchys': 5215, 'resident': 5216, 'occupant': 5217, 'washing': 5218, 'liquid': 5219, 'retire': 5220, 'slanted': 5221, 'sinking': 5222, 'halfassed': 5223, 'approach': 5224, 'patching': 5225, 'trowel': 5226, 'whado': 5227, 'slanty': 5228, 'shanty': 5229, 'twisted': 5230, 'dwell': 5231, 'cue': 5232, 'eightyfive': 5233, 'resume': 5234, 'upupup': 5235, 'chauffeur': 5236, 'seamstress': 5237, 'curator': 5238, 'mammals': 5239, 'carter': 5240, 'administration': 5241, 'sh': 5242, 'headline': 5243, 'referendum': 5244, 'jehovahs': 5245, 'witnesses': 5246, 'marie': 5247, 'pierre': 5248, 'curie': 5249, 'dey': 5250, 'radium': 5251, 'poisoning': 5252, 'paperwork': 5253, 'file': 5254, 'r': 5255, 'arrivederci': 5256, 'tubell': 5257, 'remedies': 5258, 'aaaagh': 5259, 'morale': 5260, 'healthier': 5261, 'theme': 5262, 'piping': 5263, 'cheers': 5264, 'aagh': 5265, 'ovaries': 5266, 'glanced': 5267, 'cries': 5268, 'laughs': 5269, 'coworkers': 5270, 'japanese': 5271, 'stairs': 5272, 'unfold': 5273, 'unroll': 5274, 'ivanhoe': 5275, 'russian': 5276, 'farmer': 5277, 'sue': 5278, 'faked': 5279, 'swallow': 5280, 'briefcase': 5281, 'shredded': 5282, 'drivethru': 5283, 'moose': 5284, 'shoo': 5285, 'hangers': 5286, 'expired': 5287, 'medicines': 5288, 'estrogen': 5289, 'throat': 5290, 'convulsions': 5291, 'mutated': 5292, 'politely': 5293, 'contributed': 5294, 'coupon': 5295, 'hammock': 5296, 'hertz': 5297, 'control': 5298, 'daad': 5299, 'extraloose': 5300, 'babysitters': 5301, 'tuck': 5302, 'silence': 5303, 'tiptoe': 5304, 'remembered': 5305, 'yellowest': 5306, 'ladys': 5307, 'labneh': 5308, 'tic': 5309, 'tacs': 5310, 'quest': 5311, 'windmills': 5312, 'mancha': 5313, 'mmhmmm': 5314, 'conservative': 5315, 'venue': 5316, 'texas': 5317, 'mozart': 5318, 'earthy': 5319, 'abouthmmm': 5320, 'sacred': 5321, 'clod': 5322, 'refrigerator': 5323, 'retch': 5324, 'aim': 5325, 'bedtime': 5326, 'jammyjams': 5327, 'trumpedup': 5328, 'evergreen': 5329, 'terrace': 5330, 'outlaw': 5331, 'knifewielding': 5332, 'shown': 5333, 'brine': 5334, 'chewin': 5335, 'thicke': 5336, 'ricardo': 5337, 'montalban': 5338, 'belonged': 5339, 'bonnie': 5340, 'clyde': 5341, 'batmobile': 5342, 'adam': 5343, 'robin': 5344, 'meetin': 5345, 'contact': 5346, 'reckon': 5347, 'fliers': 5348, 'flashy': 5349, 'infinite': 5350, 'wisdom': 5351, 'ninetytwo': 5352, 'alcoholics': 5353, 'unemployable': 5354, 'loners': 5355, 'snowed': 5356, 'blowers': 5357, 'inevitable': 5358, 'attacks': 5359, 'shoveling': 5360, 'receive': 5361, 'tightwad': 5362, 'suffered': 5363, 'fully': 5364, 'bonded': 5365, 'licensed': 5366, 'q': 5367, 'hippos': 5368, 'brushing': 5369, 'happ': 5370, 'phoney': 5371, 'plows': 5372, 'rap': 5373, 'plowingest': 5374, 'meow': 5375, 'forbidding': 5376, 'widows': 5377, 'peak': 5378, 'jimmy': 5379, 'carters': 5380, 'customers': 5381, 'surefooted': 5382, 'mountain': 5383, 'goat': 5384, 'forecast': 5385, 'flurries': 5386, 'extended': 5387, 'periods': 5388, 'rogers': 5389, 'burlap': 5390, 'fretful': 5391, 'corrective': 5392, 'extender': 5393, 'begins': 5394, 'spring': 5395, 'ms': 5396, 'pacman': 5397, 'struck': 5398, 'east': 5399, 'fuun': 5400, 'wannnnt': 5401, 'ups': 5402, 'yeesss': 5403, 'domer': 5404, 'mavis': 5405, 'beep': 5406, 'warp': 5407, 'francine': 5408, 'cult': 5409, 'shabubu': 5410, 'teapot': 5411, 'stout': 5412, 'itsybitsy': 5413, 'etc': 5414, 'hog': 5415, 'cats': 5416, 'trained': 5417, 'unholy': 5418, 'pretties': 5419, 'given': 5420, 'honored': 5421, 'shipped': 5422, 'whatwhat': 5423, 'mooney': 5424, 'hairbrained': 5425, 'schemes': 5426, 'lucy': 5427, 'nyahhh': 5428, 'whaat': 5429, 'twos': 5430, 'biet': 5431, 'ziet': 5432, 'fiet': 5433, 'juggle': 5434, 'troubled': 5435, 'managed': 5436, 'sleeps': 5437, 'psychology': 5438, 'clowns': 5439, 'patience': 5440, 'david': 5441, 'hasselhoff': 5442, 'jealous': 5443, 'mondale': 5444, 'hart': 5445, 'minnesota': 5446, 'agreed': 5447, 'jaunty': 5448, 'davah': 5449, 'hassahoff': 5450, 'lollypop': 5451, 'cuter': 5452, 'squeal': 5453, 'corner': 5454, 'sufferin': 5455, 'succotash': 5456, 'yelled': 5457, 'hatless': 5458, 'stabbing': 5459, 'irregular': 5460, 'thumping': 5461, 'transmission': 5462, 'frightened': 5463, 'flashed': 5464, 'knees': 5465, 'niight': 5466, 'di': 5467, 'vine': 5468, 'christ': 5469, 'mercy': 5470, 'oath': 5471, 'blubber': 5472, 'medical': 5473, 'mumbo': 5474, 'jumbo': 5475, 'shade': 5476, 'checkbook': 5477, 'seventy': 5478, 'deposited': 5479, 'cleared': 5480, 'pinball': 5481, 'lounge': 5482, 'americas': 5483, 'healthcare': 5484, 'japan': 5485, 'britain': 5486, 'paraguay': 5487, 'hemorrhages': 5488, 'snifter': 5489, 'port': 5490, 'policy': 5491, 'h': 5492, 'x': 5493, 'brimstone': 5494, 'pajamas': 5495, 'pitchforks': 5496, 'blahing': 5497, 'doodling': 5498, 'mentally': 5499, 'undressing': 5500, 'parishioners': 5501, 'anyhoo': 5502, 'jew': 5503, 'fiddler': 5504, 'droodle': 5505, 'mtv': 5506, 'highs': 5507, 'lows': 5508, 'sugarcoat': 5509, 'aorta': 5510, 'fairies': 5511, 'vein': 5512, 'ventricle': 5513, 'coronaryartery': 5514, 'bypass': 5515, 'graft': 5516, 'botch': 5517, 'abraham': 5518, 'easier': 5519, 'donating': 5520, 'cardiology': 5521, 'reassuring': 5522, 'unthinkable': 5523, 'lonely': 5524, 'remarry': 5525, 'reminder': 5526, 'marital': 5527, 'vows': 5528, 'saddest': 5529, 'adopted': 5530, 'incision': 5531, 'coronary': 5532, 'artery': 5533, 'blockage': 5534, 'rule': 5535, 'intensive': 5536, 'yabba': 5537, 'dabba': 5538, 'chestnut': 5539, 'capp': 5540, 'wifebeating': 5541, 'boon': 5542, 'underfunded': 5543, 'schools': 5544, 'nay': 5545, 'billboard': 5546, 'chicks': 5547, 'showed': 5548, 'chains': 5549, 'tires': 5550, 'carrying': 5551, 'pavement': 5552, 'potholes': 5553, 'mule': 5554, 'streets': 5555, 'spoken': 5556, 'mass': 5557, 'transit': 5558, 'centralized': 5559, 'monorails': 5560, 'emasculating': 5561, 'gonowhere': 5562, 'hoju': 5563, 'frightens': 5564, 'conductors': 5565, 'breed': 5566, 'gobbling': 5567, 'undo': 5568, 'beverage': 5569, 'opossums': 5570, 'kobb': 5571, 'yeehawww': 5572, 'innocent': 5573, 'batmans': 5574, 'monothingy': 5575, 'folly': 5576, 'embarked': 5577, 'popsicle': 5578, 'skyscraper': 5579, 'magnifying': 5580, 'escalator': 5581, 'nowhere': 5582, 'booth': 5583, 'dent': 5584, 'forehead': 5585, 'funerals': 5586, 'mourning': 5587, 'meatball': 5588, 'funeral': 5589, 'dingdong': 5590, 'legend': 5591, 'dogfaced': 5592, 'tides': 5593, 'hassle': 5594, 'eerie': 5595, 'presumptuous': 5596, 'insemination': 5597, 'pops': 5598, 'nba': 5599, 'allstar': 5600, 'sweathogs': 5601, 'sand': 5602, 'wich': 5603, 'radiator': 5604, 'suggestion': 5605, 'noted': 5606, 'sso': 5607, 'hurrah': 5608, 'satan': 5609, 'aluminum': 5610, 'twentytwo': 5611, 'immigrant': 5612, 'laborers': 5613, 'tipsy': 5614, 'queasy': 5615, 'surly': 5616, 'remorseful': 5617, 'disgrace': 5618, 'boxings': 5619, 'weighins': 5620, 'whuzzat': 5621, 'bookish': 5622, 'womans': 5623, 'efforts': 5624, 'rabbinical': 5625, 'delirious': 5626, 'yeshiva': 5627, 'cooled': 5628, 'erotic': 5629, 'adventures': 5630, 'norman': 5631, 'zeus': 5632, 'aaaahhhh': 5633, 'mitch': 5634, 'bangup': 5635, 'lizard': 5636, 'beansll': 5637, 'wagon': 5638, 'forgetting': 5639, 'whyyyyy': 5640, 'howwwww': 5641, 'whennnn': 5642, 'whichhh': 5643, 'soccer': 5644, 'ashman': 5645, 'revoltin': 5646, 'development': 5647, 'pulled': 5648, 'booty': 5649, 'jacked': 5650, 'permission': 5651, 'billed': 5652, 'pilot': 5653, 'lent': 5654, 'neural': 5655, 'disrupter': 5656, 'unprecedented': 5657, 'eightyear': 5658, 'military': 5659, 'buildup': 5660, 'gallivanting': 5661, 'floozy': 5662, 'revenge': 5663, 'crater': 5664, 'oscar': 5665, 'grouch': 5666, 'shaddap': 5667, 'grapefruit': 5668, 'dipperlooking': 5669, 'pronounced': 5670, 'pepsi': 5671, 'dialing': 5672, 'skateboard': 5673, 'nonprofit': 5674, 'organization': 5675, 'toms': 5676, 'liar': 5677, 'dolphin': 5678, 'hotdog': 5679, 'disadvantaged': 5680, 'headlock': 5681, 'screamed': 5682, 'hemophiliac': 5683, 'shriek': 5684, 'lika': 5685, 'sobbing': 5686, 'disgust': 5687, 'ribs': 5688, 'huggy': 5689, 'package': 5690, 'planned': 5691, 'highway': 5692, 'pointless': 5693, 'busywork': 5694, 'rejecting': 5695, 'firstborn': 5696, 'reasons': 5697, 'springfields': 5698, 'elite': 5699, 'toothbrush': 5700, 'embarrass': 5701, 'tunk': 5702, 'anniversary': 5703, 'disguised': 5704, 'pushy': 5705, 'weenie': 5706, 'shaddup': 5707, 'suitable': 5708, 'eiw': 5709, 'pinpoint': 5710, 'rips': 5711, 'aaaaand': 5712, 'citizens': 5713, 'hasta': 5714, 'vista': 5715, 'abie': 5716, 'arthur': 5717, 'unhand': 5718, 'yankee': 5719, 'bloodshed': 5720, 'british': 5721, 'screwing': 5722, 'futuristic': 5723, 'fertilizing': 5724, 'anabolic': 5725, 'steroids': 5726, 'peaks': 5727, 'hunger': 5728, 'investigate': 5729, 'effects': 5730, 'whelp': 5731, 'flee': 5732, 'sector': 5733, 'overcome': 5734, 'spiders': 5735, 'simply': 5736, 'verse': 5737, 'math': 5738, 'soitenly': 5739, 'fairs': 5740, 'maze': 5741, 'hermans': 5742, 'gummi': 5743, 'option': 5744, 'gulp': 5745, 'wxy': 5746, 'z': 5747, 'abcs': 5748, 'stricken': 5749, 'mysteries': 5750, 'bicycle': 5751, 'determine': 5752, 'dumber': 5753, 'doggone': 5754, 'mild': 5755, 'beware': 5756, 'hampster': 5757, 'alchanon': 5758, 'pssst': 5759, 'cakes': 5760, 'purchased': 5761, 'brian': 5762, 'mcgee': 5763, 'stayed': 5764, 'pellet': 5765, 'decipher': 5766, 'clues': 5767, 'fiendish': 5768, 'fueled': 5769, 'experimenting': 5770, 'plaguing': 5771, 'scientists': 5772, 'hamsters': 5773, 'planes': 5774, 'merit': 5775, 'twentynine': 5776, 'stadium': 5777, 'bleachers': 5778, 'loaded': 5779, 'barflies': 5780, 'raindrops': 5781, 'wolfe': 5782, 'rattle': 5783, 'spray': 5784, 'socially': 5785, 'south': 5786, 'gander': 5787, 'yuppie': 5788, 'diamond': 5789, 'gummy': 5790, 'contract': 5791, 'connections': 5792, 'gratzi': 5793, 'eheheh': 5794, 'molto': 5795, 'bene': 5796, 'thatsaniceadonut': 5797, 'negotiator': 5798, 'affordable': 5799, 'backdoor': 5800, 'shenanigans': 5801, 'rooms': 5802, 'resign': 5803, 'patting': 5804, 'pinching': 5805, 'gather': 5806, 'hightime': 5807, 'learns': 5808, 'umbrellas': 5809, 'furnace': 5810, 'foolingest': 5811, 'electrified': 5812, 'pu': 5813, 'visionary': 5814, 'traces': 5815, 'origins': 5816, 'ritual': 5817, 'pagans': 5818, 'christians': 5819, 'ridiculed': 5820, 'achilles': 5821, 'stridex': 5822, 'pads': 5823, 'gently': 5824, 'stream': 5825, 'kept': 5826, 'familiar': 5827, 'trap': 5828, 'bushes': 5829, 'flush': 5830, 'rabbit': 5831, 'coping': 5832, 'burgers': 5833, 'moly': 5834, 'vegetable': 5835, 'completed': 5836, 'societys': 5837, 'oof': 5838, 'hearted': 5839, 'rumba': 5840, 'teensy': 5841, 'bleeding': 5842, 'aftershave': 5843, 'arg': 5844, 'shook': 5845, 'celebration': 5846, 'hawaii': 5847, 'sanborn': 5848, 'bennett': 5849, 'outing': 5850, 'tasteless': 5851, 'sambo': 5852, 'giddiyup': 5853, 'invitation': 5854, 'soaps': 5855, 'remedial': 5856, 'ixnay': 5857, 'uclearnay': 5858, 'ecnitiantay': 5859, 'flunked': 5860, 'latin': 5861, 'haircut': 5862, 'chops': 5863, 'razor': 5864, 'predictable': 5865, 'covers': 5866, 'flesheating': 5867, 'ants': 5868, 'luster': 5869, 'checkered': 5870, 'settle': 5871, 'scissors': 5872, 'rejected': 5873, 'seriously': 5874, 'yearbook': 5875, 'handsome': 5876, 'activities': 5877, 'sports': 5878, 'potsy': 5879, 'malph': 5880, 'pinky': 5881, 'tuscadero': 5882, 'crashed': 5883, 'sharks': 5884, 'bosley': 5885, 'mindich': 5886, 'artie': 5887, 'ziff': 5888, 'dave': 5889, 'brunch': 5890, 'rut': 5891, 'pride': 5892, 'improved': 5893, 'odor': 5894, 'wig': 5895, 'lure': 5896, 'cellar': 5897, 'scripts': 5898, 'produce': 5899, 'nooooooo': 5900, 'crystals': 5901, 'involved': 5902, 'vent': 5903, 'january': 5904, 'barbaric': 5905, 'drams': 5906, 'pennyweight': 5907, 'boots': 5908, 'century': 5909, 'cockney': 5910, 'toot': 5911, 'educated': 5912, 'additives': 5913, 'focus': 5914, 'energy': 5915, 'ohsohuman': 5916, 'struggle': 5917, 'resolved': 5918, 'unplug': 5919, 'speaker': 5920, 'oooooooh': 5921, 'tremain': 5922, 'colonial': 5923, 'towne': 5924, 'release': 5925, 'ticonderoga': 5926, 'axle': 5927, 'beg': 5928, 'directions': 5929, 'protect': 5930, 'sensing': 5931, 'vibrations': 5932, 'stereo': 5933, 'speakers': 5934, 'snakesll': 5935, 'oprah': 5936, 'baked': 5937, 'tim': 5938, 'castrato': 5939, 'sham': 5940, 'irish': 5941, 'rats': 5942, 'barry': 5943, 'juicer': 5944, 'answering': 5945, 'looseners': 5946, 'ninetyeight': 5947, 'temperature': 5948, 'wasting': 5949, 'pat': 5950, 'liquids': 5951, 'pm': 5952, 'misunderstanding': 5953, 'charges': 5954, 'freshen': 5955, 'latterday': 5956, 'clarence': 5957, 'darrow': 5958, 'lawyer': 5959, 'preparation': 5960, 'skill': 5961, 'cellmate': 5962, 'lobsters': 5963, 'slime': 5964, 'amazing': 5965, 'dishes': 5966, 'faucet': 5967, 'backyard': 5968, 'attic': 5969, 'sos': 5970, 'gator': 5971, 'feelin': 5972, 'glimpse': 5973, 'hook': 5974, 'ay': 5975, 'allen': 5976, 'ought': 5977, 'ruin': 5978, 'gabbos': 5979, 'rex': 5980, 'morgan': 5981, 'md': 5982, 'prescription': 5983, 'brow': 5984, 'bawdy': 5985, 'limerick': 5986, 'desalinization': 5987, 'perry': 5988, 'elizabeth': 5989, 'taylor': 5990, 'bette': 5991, 'bunnies': 5992, 'peppers': 5993, 'milkshakes': 5994, 'folds': 5995, 'sales': 5996, 'airplanes': 5997, 'stradiwhovius': 5998, 'teenage': 5999, 'maturing': 6000, 'conquer': 6001, 'introduced': 6002, 'hicks': 6003, 'traveland': 6004, 'quartet': 6005, 'crowds': 6006, 'aught': 6007, 'dagnabit': 6008, 'grizzled': 6009, 'prospector': 6010, 'consarnit': 6011, 'achy': 6012, 'breaky': 6013, 'void': 6014, 'wiggums': 6015, 'stage': 6016, 'applicant': 6017, 'pencil': 6018, 'bong': 6019, 'mids': 6020, 'al': 6021, 'capones': 6022, 'intentionally': 6023, 'ramming': 6024, 'burt': 6025, 'waitll': 6026, 'dedicate': 6027, 'weighs': 6028, 'statue': 6029, 'boxes': 6030, 'mugs': 6031, 'poisonous': 6032, 'screw': 6033, 'jesus': 6034, 'title': 6035, 'consistently': 6036, 'sinatra': 6037, 'packs': 6038, 'ditto': 6039, 'compensate': 6040, 'meanwhile': 6041, 'whers': 6042, 'fiveandahalf': 6043, 'behalf': 6044, 'fox': 6045, 'network': 6046, 'sunk': 6047, 'anya': 6048, 'handwriting': 6049, 'tattoo': 6050, 'centurys': 6051, 'menace': 6052, 'suspect': 6053, 'matlocks': 6054, 'saving': 6055, 'irritating': 6056, 'linda': 6057, 'lavin': 6058, 'mov': 6059, 'elway': 6060, 'whup': 6061, 'gus': 6062, 'lovable': 6063, 'thistle': 6064, 'westminster': 6065, 'creamville': 6066, 'bureau': 6067, 'fbi': 6068, 'opera': 6069, 'sings': 6070, 'gilbert': 6071, 'pert': 6072, 'brim': 6073, 'glee': 6074, 'source': 6075, 'speed': 6076, 'coffees': 6077, 'houseboat': 6078, 'anchor': 6079, 'someplace': 6080, 'threatened': 6081, 'interrupt': 6082, 'bartdoyouwantsomebrowniesbefore': 6083, 'yougotobed': 6084, 'edgy': 6085, 'brandishing': 6086, 'bartdoyouwannaseemynewchainsawand': 6087, 'hockeymask': 6088, 'drugged': 6089, 'fiendishly': 6090, 'intricacies': 6091, 'bernie': 6092, 'bottoms': 6093, 'poke': 6094, 'blindly': 6095, 'mankind': 6096, 'tea': 6097, 'marshmallow': 6098, 'fate': 6099, 'stood': 6100, 'somebodys': 6101, 'essays': 6102, 'influenced': 6103, 'sniglets': 6104, 'katharine': 6105, 'hepburns': 6106, 'threwup': 6107, 'crowning': 6108, 'difference': 6109, 'program': 6110, 'bitterman': 6111, 'responses': 6112, 'colleges': 6113, 'applied': 6114, 'flyer': 6115, 'hardware': 6116, 'smrti': 6117, 'students': 6118, 'jocks': 6119, 'jock': 6120, 'squeezed': 6121, 'starch': 6122, 'drops': 6123, 'notes': 6124, 'curvy': 6125, 'bookcase': 6126, 'swiped': 6127, 'cinderblocks': 6128, 'site': 6129, 'professor': 6130, 'brainiac': 6131, 'proton': 6132, 'accelerator': 6133, 'physics': 6134, 'tutor': 6135, 'nee': 6136, 'dungeons': 6137, 'dragons': 6138, 'slain': 6139, 'clearly': 6140, 'enemy': 6141, 'souter': 6142, 'beerfueled': 6143, 'mayhem': 6144, 'deanll': 6145, 'bastards': 6146, 'mascot': 6147, 'presiding': 6148, 'homecoming': 6149, 'conferring': 6150, 'honorary': 6151, 'degree': 6152, 'rolling': 6153, 'filth': 6154, 'kidnap': 6155, 'curls': 6156, 'inspector': 6157, 'geniuses': 6158, 'solve': 6159, 'elevate': 6160, 'status': 6161, 'kings': 6162, 'witness': 6163, 'diggin': 6164, 'holes': 6165, 'retainers': 6166, 'dishwasher': 6167, 'harmony': 6168, 'geeks': 6169, 'antidote': 6170, 'zany': 6171, 'zanier': 6172, 'deans': 6173, 'runningyouover': 6174, 'pranks': 6175, 'coats': 6176, 'dangerously': 6177, 'unqualified': 6178, 'computers': 6179, 'mora': 6180, 'wuza': 6181, 'computer': 6182, 'richness': 6183, 'variety': 6184, 'employees': 6185, 'tweaking': 6186, 'foibles': 6187, 'frownie': 6188, 'spoil': 6189, 'insulting': 6190, 'especially': 6191, 'comedy': 6192, 'tradition': 6193, 'criticize': 6194, 'social': 6195, 'betters': 6196, 'manure': 6197, 'cheeky': 6198, 'bla': 6199, 'unghhhh': 6200, 'yesm': 6201, 'deny': 6202, 'diseased': 6203, 'bobo': 6204, 'allbeef': 6205, 'patties': 6206, 'onions': 6207, 'sesame': 6208, 'seed': 6209, 'cherishes': 6210, 'hawaiian': 6211, 'islands': 6212, 'leper': 6213, 'sixtyfour': 6214, 'hairdryer': 6215, 'tortured': 6216, 'confused': 6217, 'paintings': 6218, 'images': 6219, 'rendered': 6220, 'goop': 6221, 'portals': 6222, 'gruesome': 6223, 'frightening': 6224, 'broadcast': 6225, 'npr': 6226, 'earrings': 6227, 'vicious': 6228, 'diabolical': 6229, 'beast': 6230, 'stalk': 6231, 'refer': 6232, 'dmfl': 6233, 'leap': 6234, 'iou': 6235, 'bastard': 6236, 'dev': 6237, 'forbidden': 6238, 'blackbeard': 6239, 'tasty': 6240, 'exhibit': 6241, 'ghoulish': 6242, 'gallery': 6243, 'entitledthe': 6244, 'ghoul': 6245, 'scarier': 6246, 'visits': 6247, 'annapolis': 6248, 'maryland': 6249, 'poses': 6250, 'vision': 6251, 'fiery': 6252, 'marina': 6253, 'extranice': 6254, 'gremlin': 6255, 'eyahh': 6256, 'trustworthy': 6257, 'uter': 6258, 'loosening': 6259, 'straps': 6260, 'terrifying': 6261, 'poker': 6262, 'intense': 6263, 'undead': 6264, 'nosferatu': 6265, 'das': 6266, 'wampyre': 6267, 'eskimos': 6268, 'pennsylvania': 6269, 'setup': 6270, 'suspicious': 6271, 'necks': 6272, 'hairdo': 6273, 'queer': 6274, 'm': 6275, 'satisfied': 6276, 'shemp': 6277, 'uneventful': 6278, 'kills': 6279, 'cells': 6280, 'beds': 6281, 'sist': 6282, 'stake': 6283, 'fiend': 6284, 'crotch': 6285, 'pledge': 6286, 'eubankseses': 6287, 'support': 6288, 'marjorie': 6289, 'meats': 6290, 'stew': 6291, 'volunteered': 6292, 'serum': 6293, 'invisible': 6294, 'wives': 6295, 'tale': 6296, 'errrrghh': 6297, 'justa': 6298, 'related': 6299, 'mishap': 6300, 'ninethirty': 6301, 'sodas': 6302, 'unlucky': 6303, 'fireman': 6304, 'rescuing': 6305, 'lumberyard': 6306, 'uses': 6307, 'sprayed': 6308, 'quinn': 6309, 'casbah': 6310, 'curlers': 6311, 'makeover': 6312, 'homina': 6313, 'delightf': 6314, 'federal': 6315, 'burglars': 6316, 'humorous': 6317, 'entertaining': 6318, 'nnnnnno': 6319, 'popsicles': 6320, 'freezer': 6321, 'kickers': 6322, 'darts': 6323, 'underground': 6324, 'quimby': 6325, 'jet': 6326, 'garret': 6327, 'morris': 6328, 'smash': 6329, 'smashed': 6330, 'purdy': 6331, 'papers': 6332, 'makeout': 6333, 'wifes': 6334, 'crazed': 6335, 'lawmen': 6336, 'highspeed': 6337, 'friendship': 6338, 'violently': 6339, 'shackles': 6340, 'oppressors': 6341, 'yap': 6342, 'hooey': 6343, 'solid': 6344, 'ewwww': 6345, 'mmmmmohhh': 6346, 'ahhhh': 6347, 'shelter': 6348, 'soiled': 6349, 'mattresses': 6350, 'column': 6351, 'tramampleeen': 6352, 'trambapleeen': 6353, 'crutches': 6354, 'shaky': 6355, 'fathering': 6356, 'freeee': 6357, 'checkmate': 6358, 'sloppy': 6359, 'nag': 6360, 'videotape': 6361, 'opened': 6362, 'passiveaggressive': 6363, 'coculprit': 6364, 'foolish': 6365, 'enable': 6366, 'lifescript': 6367, 'spiral': 6368, 'pan': 6369, 'annoyance': 6370, 'frustration': 6371, 'tolerance': 6372, 'surplus': 6373, 'drums': 6374, 'lecture': 6375, 'attend': 6376, 'seminar': 6377, 'rudiger': 6378, 'peddling': 6379, 'everybodys': 6380, 'comedian': 6381, 'spitting': 6382, 'overpass': 6383, 'defined': 6384, 'repressive': 6385, 'milieu': 6386, 'societal': 6387, 'niche': 6388, 'coopted': 6389, 'cracks': 6390, 'onehourphoto': 6391, 'instantoatmeal': 6392, 'develop': 6393, 'goodnatured': 6394, 'doormat': 6395, 'hassled': 6396, 'skateboards': 6397, 'copycat': 6398, 'wannabes': 6399, 'rightness': 6400, 'orientation': 6401, 'inner': 6402, 'critic': 6403, 'shouldve': 6404, 'nagged': 6405, 'eep': 6406, 'achieved': 6407, 'arduous': 6408, 'journey': 6409, 'spiritual': 6410, 'discovery': 6411, 'solves': 6412, 'mcgarnigal': 6413, 'eases': 6414, 'results': 6415, 'roasted': 6416, 'ingredients': 6417, 'honeyroasting': 6418, 'agents': 6419, 'pressed': 6420, 'sweepings': 6421, 'overflowing': 6422, 'departed': 6423, 'pointy': 6424, 'slimy': 6425, 'thataway': 6426, 'goo': 6427, 'junkie': 6428, 'geeky': 6429, 'squisheebender': 6430, 'wandered': 6431, 'recruitment': 6432, 'singalongs': 6433, 'ceremonies': 6434, 'weaseling': 6435, 'separates': 6436, 'carries': 6437, 'responsibilities': 6438, 'spork': 6439, 'cruddy': 6440, 'donny': 6441, 'clearer': 6442, 'patrol': 6443, 'boning': 6444, 'lessons': 6445, 'egghead': 6446, 'bookie': 6447, 'wook': 6448, 'tucking': 6449, 'wimps': 6450, 'tautline': 6451, 'hitch': 6452, 'sheetbend': 6453, 'knowitknow': 6454, 'neddy': 6455, 'dah': 6456, 'furniture': 6457, 'wooden': 6458, 'logs': 6459, 'poetic': 6460, 'planing': 6461, 'river': 6462, 'stab': 6463, 'qtip': 6464, 'delighted': 6465, 'mexico': 6466, 'locations': 6467, 'honeyyy': 6468, 'girrrrl': 6469, 'socks': 6470, 'ration': 6471, 'floatin': 6472, 'rationbabies': 6473, 'rationing': 6474, 'rafts': 6475, 'flare': 6476, 'churchpicnic': 6477, 'flaregunfirings': 6478, 'snap': 6479, 'oka': 6480, 'frying': 6481, 'juicy': 6482, 'survive': 6483, 'swiss': 6484, 'borgnine': 6485, 'map': 6486, 'offshore': 6487, 'rig': 6488, 'fog': 6489, 'krustyburgers': 6490, 'mere': 6491, 'narrower': 6492, 'indistinguishable': 6493, 'therein': 6494, 'blurry': 6495, 'noggin': 6496, 'peepers': 6497, 'loverly': 6498, 'pee': 6499, 'fountain': 6500, 'packet': 6501, 'powdered': 6502, 'pens': 6503, 'goose': 6504, 'hallucinations': 6505, 'fluke': 6506, 'schabadoo': 6507, 'attracted': 6508, 'insightful': 6509, 'raspberry': 6510, 'swirl': 6511, 'temptress': 6512, 'ziggys': 6513, 'stimulator': 6514, 'elevator': 6515, 'unsexy': 6516, 'arr': 6517, 'hober': 6518, 'dote': 6519, 'ib': 6520, 'howya': 6521, 'balances': 6522, 'quality': 6523, 'tempted': 6524, 'isawho': 6525, 'col': 6526, 'hogan': 6527, 'tunnels': 6528, 'mansion': 6529, 'jeeves': 6530, 'flaking': 6531, 'bengay': 6532, 'broadway': 6533, 'infatuated': 6534, 'onehundred': 6535, 'uncontrollable': 6536, 'attraction': 6537, 'roger': 6538, 'ebert': 6539, 'murphy': 6540, 'controllably': 6541, 'nam': 6542, 'myorengekyo': 6543, 'faced': 6544, 'forsaken': 6545, 'kinch': 6546, 'pot': 6547, 'fort': 6548, 'mouthwash': 6549, 'curtain': 6550, 'walls': 6551, 'necessity': 6552, 'temptation': 6553, 'scalp': 6554, 'posture': 6555, 'beating': 6556, 'drives': 6557, 'margie': 6558, 'workey': 6559, 'sum': 6560, 'isosceles': 6561, 'triangle': 6562, 'equal': 6563, 'remaining': 6564, 'prescribed': 6565, 'allowance': 6566, 'economy': 6567, 'contestant': 6568, 'gong': 6569, 'gongs': 6570, 'breakdancing': 6571, 'busts': 6572, 'senator': 6573, 'oop': 6574, 'shift': 6575, 'martinis': 6576, 'tantrum': 6577, 'photographic': 6578, 'memory': 6579, 'happenin': 6580, 'cardcounting': 6581, 'forgiven': 6582, 'waited': 6583, 'disintegrating': 6584, 'impersonator': 6585, 'improvise': 6586, 'cloves': 6587, 'collins': 6588, 'solved': 6589, 'wuh': 6590, 'absurd': 6591, 'nail': 6592, 'alarm': 6593, 'boogeymen': 6594, 'incident': 6595, 'involving': 6596, 'shed': 6597, 'slot': 6598, 'jockey': 6599, 'shaped': 6600, 'owowowow': 6601, 'floreeda': 6602, 'enslaved': 6603, 'gamblor': 6604, 'snatch': 6605, 'neon': 6606, 'claws': 6607, 'cried': 6608, 'trooper': 6609, 'watches': 6610, 'sears': 6611, 'escaped': 6612, 'lunatic': 6613, 'santa': 6614, 'claus': 6615, 'portable': 6616, 'heirloom': 6617, 'drawer': 6618, 'heirlooms': 6619, 'outlet': 6620, 'insured': 6621, 'blaming': 6622, 'hightech': 6623, 'doors': 6624, 'precautions': 6625, 'pining': 6626, 'instrument': 6627, 'jug': 6628, 'hoedown': 6629, 'knobs': 6630, 'thinker': 6631, 'doer': 6632, 'wholl': 6633, 'considering': 6634, 'consequences': 6635, 'firearms': 6636, 'handshake': 6637, 'eightball': 6638, 'twelveball': 6639, 'forming': 6640, 'maynard': 6641, 'krebs': 6642, 'rapmaster': 6643, 'businesses': 6644, 'grandma': 6645, 'mouthed': 6646, 'abusing': 6647, 'vigilantes': 6648, 'coast': 6649, 'expanded': 6650, 'areas': 6651, 'literacy': 6652, 'preserving': 6653, 'bridges': 6654, 'statistics': 6655, 'committing': 6656, 'vow': 6657, 'museum': 6658, 'taunt': 6659, 'approximate': 6660, 'thirtysix': 6661, 'sim': 6662, 'underage': 6663, 'zirconia': 6664, 'pelted': 6665, 'track': 6666, 'molloy': 6667, 'buried': 6668, 'frightfully': 6669, 'treasure': 6670, 'fondest': 6671, 'signature': 6672, 'horoscope': 6673, 'tune': 6674, 'jawohl': 6675, 'mein': 6676, 'mommandant': 6677, 'cured': 6678, 'facts': 6679, 'holdout': 6680, 'tootie': 6681, 'pulitzer': 6682, 'polish': 6683, 'hush': 6684, 'impaled': 6685, 'ironic': 6686, 'happier': 6687, 'fantasy': 6688, 'machinery': 6689, 'strangle': 6690, 'popped': 6691, 'eyeballs': 6692, 'buzz': 6693, 'giuseppe': 6694, 'towel': 6695, 'boooxxx': 6696, 'brockman': 6697, 'estranged': 6698, 'comeback': 6699, 'hankie': 6700, 'chilling': 6701, 'doublecorrugated': 6702, 'eightfold': 6703, 'fourteengauge': 6704, 'maker': 6705, 'satisfaction': 6706, 'afterschool': 6707, 'archie': 6708, 'drells': 6709, 'credits': 6710, 'graders': 6711, 'ross': 6712, 'perot': 6713, 'chapters': 6714, 'excerpts': 6715, 'poured': 6716, 'worthwhile': 6717, 'urkel': 6718, 'snot': 6719, 'smack': 6720, 'readin': 6721, 'leno': 6722, 'rainforest': 6723, 'kansas': 6724, 'yargghh': 6725, 'repetitive': 6726, 'repetitiveness': 6727, 'onedimensional': 6728, 'churning': 6729, 'bowels': 6730, 'clenching': 6731, 'rancid': 6732, 'parasites': 6733, 'barking': 6734, 'patsy': 6735, 'freakin': 6736, 'alarmed': 6737, 'routine': 6738, 'lame': 6739, 'film': 6740, 'unawaaare': 6741, 'karma': 6742, 'portioned': 6743, 'cosmos': 6744, 'raking': 6745, 'chopping': 6746, 'chipwich': 6747, 'exotic': 6748, 'spicy': 6749, 'instance': 6750, 'outrageous': 6751, 'cans': 6752, 'cupboard': 6753, 'nutmeg': 6754, 'longest': 6755, 'chutney': 6756, 'helpful': 6757, 'shenai': 6758, 'released': 6759, 'mangled': 6760, 'clearing': 6761, 'cholesterol': 6762, 'ub': 6763, 'member': 6764, 'stickymart': 6765, 'sickymart': 6766, 'hurl': 6767, 'brickymart': 6768, 'kwikemarts': 6769, 'nicely': 6770, 'quicker': 6771, 'wherever': 6772, 'kilometers': 6773, 'accept': 6774, 'defeat': 6775, 'charms': 6776, 'cease': 6777, 'pursue': 6778, 'legal': 6779, 'action': 6780, 'boris': 6781, 'karloff': 6782, 'california': 6783, 'antidotes': 6784, 'sgt': 6785, 'thugs': 6786, 'mountaintop': 6787, 'post': 6788, 'deathbringer': 6789, 'missiles': 6790, 'launch': 6791, 'rocka': 6792, 'rockarockrock': 6793, 'tonighhhttt': 6794} \n",
            "\n",
            "Total Words in the Tokenizer (+OOV) = 6795 \n",
            "\n",
            "Corpus: \n",
            "\n"
          ],
          "name": "stdout"
        },
        {
          "output_type": "execute_result",
          "data": {
            "text/plain": [
              "['wheres mr bergstrom',\n",
              " 'that life is worth living',\n",
              " 'victory party under the slide',\n",
              " 'mr bergstrom mr bergstrom',\n",
              " 'do you know where i could find him',\n",
              " 'the train how like him traditional yet environmentally sound',\n",
              " 'i see he touched you too',\n",
              " 'hey thanks for your vote man',\n",
              " 'well you got that right thanks for your vote girls',\n",
              " 'well dont sweat it just so long as a couple of people did right milhouse']"
            ]
          },
          "metadata": {
            "tags": []
          },
          "execution_count": 22
        }
      ]
    },
    {
      "cell_type": "code",
      "metadata": {
        "id": "cEQ-wtwH_Fig",
        "colab_type": "code",
        "colab": {
          "base_uri": "https://localhost:8080/",
          "height": 289
        },
        "outputId": "82b4c0df-9bde-43b9-838c-d57e45dbff58"
      },
      "source": [
        "# Example:\n",
        "# say your prayers little one\n",
        "\n",
        "test_seq = []\n",
        "\n",
        "# First line on corpus\n",
        "print('First Line = ',corpus[0],'\\n')\n",
        "\n",
        "# Transform first line to sequences according to the dictionary\n",
        "token_test=tokenizer.texts_to_sequences([corpus[0]])[0]\n",
        "print('First Line into Sequence =',token_test,'\\n')\n",
        "\n",
        "# Create fragments of the line and make the data by ordered pieces\n",
        "for j in range(1, len(token_test)):\n",
        "  # Iterator over the elements of the line\n",
        "  n_gram_test=token_test[:j+1]\n",
        "  print('n-gram =',n_gram_test)\n",
        "  # Append all sequential results\n",
        "  test_seq.append(n_gram_test)\n",
        "  print('sequence = ',test_seq,'\\n')\n",
        "\n",
        "# Determine longest n-gram\n",
        "max_seq_test_len = max([len(x) for x in test_seq])\n",
        "# Padding\n",
        "test_seq = np.array(pad_sequences(test_seq, maxlen=max_seq_test_len, padding='pre'))\n",
        "print(\"Final n-gram Data:\\n\\n\",  test_seq,'\\n')\n",
        "print('Shape of Data: ',np.shape(test_seq))"
      ],
      "execution_count": 23,
      "outputs": [
        {
          "output_type": "stream",
          "text": [
            "First Line =  wheres mr bergstrom \n",
            "\n",
            "First Line into Sequence = [327, 106, 821] \n",
            "\n",
            "n-gram = [327, 106]\n",
            "sequence =  [[327, 106]] \n",
            "\n",
            "n-gram = [327, 106, 821]\n",
            "sequence =  [[327, 106], [327, 106, 821]] \n",
            "\n",
            "Final n-gram Data:\n",
            "\n",
            " [[  0 327 106]\n",
            " [327 106 821]] \n",
            "\n",
            "Shape of Data:  (2, 3)\n"
          ],
          "name": "stdout"
        }
      ]
    },
    {
      "cell_type": "markdown",
      "metadata": {
        "id": "phSLRUweYt-G",
        "colab_type": "text"
      },
      "source": [
        "# Transform target to one-hot codification"
      ]
    },
    {
      "cell_type": "code",
      "metadata": {
        "id": "yrGwYzPy_igk",
        "colab_type": "code",
        "colab": {}
      },
      "source": [
        "# Creating the Text Sequence for creating training data \n",
        "\n",
        "input_sequences = []\n",
        "for line in corpus:\n",
        "  token_list = tokenizer.texts_to_sequences([line])[0]\n",
        "  for i in range(1, len(token_list)):\n",
        "    n_gram_sequence = token_list[:i+1]\n",
        "    input_sequences.append(n_gram_sequence)\n",
        "\n",
        "# Padding\n",
        "\n",
        "max_sequence_len = max([len(x) for x in input_sequences])\n",
        "input_sequences = np.array(pad_sequences(input_sequences, maxlen=max_sequence_len, padding='pre'))\n",
        "\n",
        "# Create predictors and labels (labels are the final word of each sequence. Ex: Data: Say your prayers little, Label: one)\n",
        "\n",
        "xs, labels = input_sequences[:,:-1], input_sequences[:,-1]\n",
        "\n",
        "# One-Hot Encoding\n",
        "\n",
        "ys = tf.keras.utils.to_categorical(labels, num_classes=total_words)"
      ],
      "execution_count": 0,
      "outputs": []
    },
    {
      "cell_type": "code",
      "metadata": {
        "id": "zK1bvZDt_nS6",
        "colab_type": "code",
        "colab": {
          "base_uri": "https://localhost:8080/",
          "height": 136
        },
        "outputId": "f8967e34-8dd6-47b3-a784-ffa8bfde4e68"
      },
      "source": [
        "xs"
      ],
      "execution_count": 25,
      "outputs": [
        {
          "output_type": "execute_result",
          "data": {
            "text/plain": [
              "array([[   0,    0,    0, ...,    0,    0,  327],\n",
              "       [   0,    0,    0, ...,    0,  327,  106],\n",
              "       [   0,    0,    0, ...,    0,    0,    9],\n",
              "       ...,\n",
              "       [   0,    0,    0, ...,   82,  433,  248],\n",
              "       [   0,    0,    0, ...,  433,  248,    3],\n",
              "       [   0,    0,    0, ...,  248,    3, 1566]], dtype=int32)"
            ]
          },
          "metadata": {
            "tags": []
          },
          "execution_count": 25
        }
      ]
    },
    {
      "cell_type": "code",
      "metadata": {
        "id": "DZCSLZY__w6r",
        "colab_type": "code",
        "colab": {
          "base_uri": "https://localhost:8080/",
          "height": 136
        },
        "outputId": "95808ab1-71a6-49bd-eac3-122e7955bc42"
      },
      "source": [
        "ys"
      ],
      "execution_count": 26,
      "outputs": [
        {
          "output_type": "execute_result",
          "data": {
            "text/plain": [
              "array([[0., 0., 0., ..., 0., 0., 0.],\n",
              "       [0., 0., 0., ..., 0., 0., 0.],\n",
              "       [0., 0., 0., ..., 0., 0., 0.],\n",
              "       ...,\n",
              "       [0., 0., 0., ..., 0., 0., 0.],\n",
              "       [0., 0., 0., ..., 0., 0., 0.],\n",
              "       [0., 0., 0., ..., 0., 0., 1.]], dtype=float32)"
            ]
          },
          "metadata": {
            "tags": []
          },
          "execution_count": 26
        }
      ]
    },
    {
      "cell_type": "markdown",
      "metadata": {
        "id": "ipn9h1NHABBq",
        "colab_type": "text"
      },
      "source": [
        "# Arquitectura del Modelo"
      ]
    },
    {
      "cell_type": "code",
      "metadata": {
        "id": "OLK4cX_zARZS",
        "colab_type": "code",
        "colab": {}
      },
      "source": [
        "# Tensor Management\n",
        "import tensorflow as tf\n",
        "# For Padding\n",
        "from tensorflow.keras.preprocessing.sequence import pad_sequences\n",
        "# For Different Types of RNN\n",
        "from tensorflow.keras.layers import Embedding, LSTM, Dense, Bidirectional\n",
        "# For Tokenizer\n",
        "from tensorflow.keras.preprocessing.text import Tokenizer\n",
        "# Sequential DNN\n",
        "from tensorflow.keras.models import Sequential\n",
        "# Array Management\n",
        "import numpy as np"
      ],
      "execution_count": 0,
      "outputs": []
    },
    {
      "cell_type": "code",
      "metadata": {
        "id": "sBYeze9vAKp6",
        "colab_type": "code",
        "colab": {
          "base_uri": "https://localhost:8080/",
          "height": 255
        },
        "outputId": "8b684e3e-c9ec-477c-c2bd-a692a906daa1"
      },
      "source": [
        "model = Sequential()\n",
        "model.add(Embedding(total_words, 64, input_length = max_sequence_len-1))\n",
        "model.add(Bidirectional(LSTM(20)))\n",
        "model.add(Dense(total_words,activation='softmax'))\n",
        "model.compile(loss='categorical_crossentropy', optimizer='adam', metrics =['accuracy'])\n",
        "model.summary()"
      ],
      "execution_count": 29,
      "outputs": [
        {
          "output_type": "stream",
          "text": [
            "Model: \"sequential\"\n",
            "_________________________________________________________________\n",
            "Layer (type)                 Output Shape              Param #   \n",
            "=================================================================\n",
            "embedding (Embedding)        (None, 86, 64)            434880    \n",
            "_________________________________________________________________\n",
            "bidirectional (Bidirectional (None, 40)                13600     \n",
            "_________________________________________________________________\n",
            "dense (Dense)                (None, 6795)              278595    \n",
            "=================================================================\n",
            "Total params: 727,075\n",
            "Trainable params: 727,075\n",
            "Non-trainable params: 0\n",
            "_________________________________________________________________\n"
          ],
          "name": "stdout"
        }
      ]
    },
    {
      "cell_type": "markdown",
      "metadata": {
        "id": "99H42HYZAb6Q",
        "colab_type": "text"
      },
      "source": [
        "# Entrenamiento del Modelo"
      ]
    },
    {
      "cell_type": "code",
      "metadata": {
        "id": "QU4D2bo5AeBb",
        "colab_type": "code",
        "colab": {}
      },
      "source": [
        "history = model.fit(xs,ys,epochs=100,verbose=2)"
      ],
      "execution_count": 0,
      "outputs": []
    }
  ]
}