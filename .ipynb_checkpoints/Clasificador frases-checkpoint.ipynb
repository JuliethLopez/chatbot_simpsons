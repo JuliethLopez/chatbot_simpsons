{
 "cells": [
  {
   "cell_type": "markdown",
   "metadata": {},
   "source": [
    "<a href=\"https://colab.research.google.com/github/JuliethLopez/chatbot_simpsons/blob/master/Clasificador%20frases.ipynb\" target=\"_parent\"><img src=\"https://colab.research.google.com/assets/colab-badge.svg\" alt=\"Open In Colab\"/></a>"
   ]
  },
  {
   "cell_type": "markdown",
   "metadata": {
    "colab": {
     "base_uri": "https://localhost:8080/",
     "height": 276
    },
    "colab_type": "code",
    "executionInfo": {
     "elapsed": 5110,
     "status": "ok",
     "timestamp": 1573860549712,
     "user": {
      "displayName": "Daniel Montenegro",
      "photoUrl": "https://lh3.google.com/a-/AAuE7mDrM5S26sHRMIxvG7Wpqyko7KqiLihxE9wM_-jm=s64",
      "userId": "07275166318289302366"
     },
     "user_tz": 300
    },
    "id": "gnwiOnGyW5JK",
    "outputId": "c6d31a3b-e7ee-4c0c-e418-d94d3e3eaa4b"
   },
   "source": [
    "# Clasificación usando Lenguaje Natural"
   ]
  },
  {
   "cell_type": "code",
   "execution_count": 5,
   "metadata": {
    "colab": {
     "base_uri": "https://localhost:8080/",
     "height": 276
    },
    "colab_type": "code",
    "executionInfo": {
     "elapsed": 5110,
     "status": "ok",
     "timestamp": 1573860549712,
     "user": {
      "displayName": "Daniel Montenegro",
      "photoUrl": "https://lh3.google.com/a-/AAuE7mDrM5S26sHRMIxvG7Wpqyko7KqiLihxE9wM_-jm=s64",
      "userId": "07275166318289302366"
     },
     "user_tz": 300
    },
    "id": "gnwiOnGyW5JK",
    "outputId": "c6d31a3b-e7ee-4c0c-e418-d94d3e3eaa4b"
   },
   "outputs": [],
   "source": [
    "import csv\n",
    "import tensorflow as tf\n",
    "import numpy as np\n",
    "from tensorflow.keras.preprocessing.text import Tokenizer\n",
    "from tensorflow.keras.preprocessing.sequence import pad_sequences"
   ]
  },
  {
   "cell_type": "markdown",
   "metadata": {},
   "source": [
    "# Define algunas características iniciales"
   ]
  },
  {
   "cell_type": "code",
   "execution_count": 40,
   "metadata": {
    "colab": {},
    "colab_type": "code",
    "id": "EYo6A4v5ZABQ"
   },
   "outputs": [],
   "source": [
    "vocab_size = 2000 # número de palabras que integrarán el vocabulario\n",
    "embedding_dim = 32 # dimensión del embeding de las palabras\n",
    "max_length = 120  # longitud máxima de una oración (sentence filtrada con stopwords)\n",
    "trunc_type='post' # donde truncar una oración (sentence, filtrada con stopwords)\n",
    "padding_type='post'# donde hacer el padding (agregar ceros) en una oración (sentence, filtrada con stopwords)\n",
    "oov_tok = \"<OOV>\"  # token para las palabras que queden fuera del vocabulario\n",
    "training_portion = .8  # porcentaje de datos para entrenamiento"
   ]
  },
  {
   "cell_type": "code",
   "execution_count": 41,
   "metadata": {
    "colab": {
     "base_uri": "https://localhost:8080/",
     "height": 55
    },
    "colab_type": "code",
    "executionInfo": {
     "elapsed": 5086,
     "status": "ok",
     "timestamp": 1573860549715,
     "user": {
      "displayName": "Daniel Montenegro",
      "photoUrl": "https://lh3.google.com/a-/AAuE7mDrM5S26sHRMIxvG7Wpqyko7KqiLihxE9wM_-jm=s64",
      "userId": "07275166318289302366"
     },
     "user_tz": 300
    },
    "id": "iU1qq3_SZBx_",
    "outputId": "31a62b4e-9b36-4154-b7d3-4f06ff82c3d9"
   },
   "outputs": [
    {
     "name": "stdout",
     "output_type": "stream",
     "text": [
      "153\n"
     ]
    }
   ],
   "source": [
    "complete_sentences = []\n",
    "complete_lines = [] \n",
    "sentences = []\n",
    "labels = [] # preprocesed labels\n",
    "\n",
    "stopwords = [ \"a\", \"about\", \"above\", \"after\", \"again\", \"against\", \"all\", \"am\", \"an\", \"and\", \"any\", \"are\", \"as\", \"at\", \"be\", \"because\", \"been\", \"before\", \"being\", \"below\", \"between\", \"both\", \"but\", \"by\", \"could\", \"did\", \"do\", \"does\", \"doing\", \"down\", \"during\", \"each\", \"few\", \"for\", \"from\", \"further\", \"had\", \"has\", \"have\", \"having\", \"he\", \"he'd\", \"he'll\", \"he's\", \"her\", \"here\", \"here's\", \"hers\", \"herself\", \"him\", \"himself\", \"his\", \"how\", \"how's\", \"i\", \"i'd\", \"i'll\", \"i'm\", \"i've\", \"if\", \"in\", \"into\", \"is\", \"it\", \"it's\", \"its\", \"itself\", \"let's\", \"me\", \"more\", \"most\", \"my\", \"myself\", \"nor\", \"of\", \"on\", \"once\", \"only\", \"or\", \"other\", \"ought\", \"our\", \"ours\", \"ourselves\", \"out\", \"over\", \"own\", \"same\", \"she\", \"she'd\", \"she'll\", \"she's\", \"should\", \"so\", \"some\", \"such\", \"than\", \"that\", \"that's\", \"the\", \"their\", \"theirs\", \"them\", \"themselves\", \"then\", \"there\", \"there's\", \"these\", \"they\", \"they'd\", \"they'll\", \"they're\", \"they've\", \"this\", \"those\", \"through\", \"to\", \"too\", \"under\", \"until\", \"up\", \"very\", \"was\", \"we\", \"we'd\", \"we'll\", \"we're\", \"we've\", \"were\", \"what\", \"what's\", \"when\", \"when's\", \"where\", \"where's\", \"which\", \"while\", \"who\", \"who's\", \"whom\", \"why\", \"why's\", \"with\", \"would\", \"you\", \"you'd\", \"you'll\", \"you're\", \"you've\", \"your\", \"yours\", \"yourself\", \"yourselves\" ]\n",
    "print(len(stopwords))"
   ]
  },
  {
   "cell_type": "code",
   "execution_count": 42,
   "metadata": {},
   "outputs": [
    {
     "data": {
      "text/plain": [
       "array([' ', 'a', 'b', 'c', 'd', 'e', 'f', 'g', 'h', 'i', 'j', 'k', 'l',\n",
       "       'm', 'n', 'o', 'p', 'q', 'r', 's', 't', 'u', 'v', 'w', 'x', 'y',\n",
       "       'z'], dtype='<U1')"
      ]
     },
     "execution_count": 42,
     "metadata": {},
     "output_type": "execute_result"
    }
   ],
   "source": [
    "import string\n",
    "import numpy as np\n",
    "\n",
    "a = np.array([32]) # space\n",
    "#b = np.array(range(65,91)) # uppercase\n",
    "c = np.array(range(97,123)) # lowercase\n",
    "printab = np.hstack((a,c))\n",
    "\n",
    "printable = np.array([chr(i) for i in printab])   \n",
    "printable\n",
    "\n",
    "#ascci_to_char = dict((printab[i], printable[i]) for i in range(len(printable)))"
   ]
  },
  {
   "cell_type": "code",
   "execution_count": 43,
   "metadata": {
    "colab": {
     "base_uri": "https://localhost:8080/",
     "height": 94
    },
    "colab_type": "code",
    "executionInfo": {
     "elapsed": 6880,
     "status": "ok",
     "timestamp": 1573860551524,
     "user": {
      "displayName": "Daniel Montenegro",
      "photoUrl": "https://lh3.google.com/a-/AAuE7mDrM5S26sHRMIxvG7Wpqyko7KqiLihxE9wM_-jm=s64",
      "userId": "07275166318289302366"
     },
     "user_tz": 300
    },
    "id": "eutB2xMiZD0e",
    "outputId": "20e186bb-5fc8-4dd3-8a5c-a23d8aee7879"
   },
   "outputs": [
    {
     "ename": "UnicodeDecodeError",
     "evalue": "'charmap' codec can't decode byte 0x90 in position 6220: character maps to <undefined>",
     "output_type": "error",
     "traceback": [
      "\u001b[1;31m---------------------------------------------------------------------------\u001b[0m",
      "\u001b[1;31mUnicodeDecodeError\u001b[0m                        Traceback (most recent call last)",
      "\u001b[1;32m<ipython-input-43-be46afb3b449>\u001b[0m in \u001b[0;36m<module>\u001b[1;34m\u001b[0m\n\u001b[0;32m      6\u001b[0m     \u001b[0mreader\u001b[0m \u001b[1;33m=\u001b[0m \u001b[0mcsv\u001b[0m\u001b[1;33m.\u001b[0m\u001b[0mreader\u001b[0m\u001b[1;33m(\u001b[0m\u001b[0mcsvfile\u001b[0m\u001b[1;33m,\u001b[0m \u001b[0mdelimiter\u001b[0m\u001b[1;33m=\u001b[0m\u001b[1;34m','\u001b[0m\u001b[1;33m)\u001b[0m\u001b[1;33m\u001b[0m\u001b[1;33m\u001b[0m\u001b[0m\n\u001b[0;32m      7\u001b[0m     \u001b[0mnext\u001b[0m\u001b[1;33m(\u001b[0m\u001b[0mreader\u001b[0m\u001b[1;33m)\u001b[0m\u001b[1;33m\u001b[0m\u001b[1;33m\u001b[0m\u001b[0m\n\u001b[1;32m----> 8\u001b[1;33m     \u001b[1;32mfor\u001b[0m \u001b[0mrow\u001b[0m \u001b[1;32min\u001b[0m \u001b[0mreader\u001b[0m\u001b[1;33m:\u001b[0m\u001b[1;33m\u001b[0m\u001b[1;33m\u001b[0m\u001b[0m\n\u001b[0m\u001b[0;32m      9\u001b[0m         \u001b[1;31m# preprocess label\u001b[0m\u001b[1;33m\u001b[0m\u001b[1;33m\u001b[0m\u001b[1;33m\u001b[0m\u001b[0m\n\u001b[0;32m     10\u001b[0m         \u001b[1;31m#label_l = ' '.join(row[0].split()).lower().replace(' ','_') # lower case ans eliminate multiple spaces\u001b[0m\u001b[1;33m\u001b[0m\u001b[1;33m\u001b[0m\u001b[1;33m\u001b[0m\u001b[0m\n",
      "\u001b[1;32m~\\Anaconda3\\lib\\encodings\\cp1252.py\u001b[0m in \u001b[0;36mdecode\u001b[1;34m(self, input, final)\u001b[0m\n\u001b[0;32m     21\u001b[0m \u001b[1;32mclass\u001b[0m \u001b[0mIncrementalDecoder\u001b[0m\u001b[1;33m(\u001b[0m\u001b[0mcodecs\u001b[0m\u001b[1;33m.\u001b[0m\u001b[0mIncrementalDecoder\u001b[0m\u001b[1;33m)\u001b[0m\u001b[1;33m:\u001b[0m\u001b[1;33m\u001b[0m\u001b[1;33m\u001b[0m\u001b[0m\n\u001b[0;32m     22\u001b[0m     \u001b[1;32mdef\u001b[0m \u001b[0mdecode\u001b[0m\u001b[1;33m(\u001b[0m\u001b[0mself\u001b[0m\u001b[1;33m,\u001b[0m \u001b[0minput\u001b[0m\u001b[1;33m,\u001b[0m \u001b[0mfinal\u001b[0m\u001b[1;33m=\u001b[0m\u001b[1;32mFalse\u001b[0m\u001b[1;33m)\u001b[0m\u001b[1;33m:\u001b[0m\u001b[1;33m\u001b[0m\u001b[1;33m\u001b[0m\u001b[0m\n\u001b[1;32m---> 23\u001b[1;33m         \u001b[1;32mreturn\u001b[0m \u001b[0mcodecs\u001b[0m\u001b[1;33m.\u001b[0m\u001b[0mcharmap_decode\u001b[0m\u001b[1;33m(\u001b[0m\u001b[0minput\u001b[0m\u001b[1;33m,\u001b[0m\u001b[0mself\u001b[0m\u001b[1;33m.\u001b[0m\u001b[0merrors\u001b[0m\u001b[1;33m,\u001b[0m\u001b[0mdecoding_table\u001b[0m\u001b[1;33m)\u001b[0m\u001b[1;33m[\u001b[0m\u001b[1;36m0\u001b[0m\u001b[1;33m]\u001b[0m\u001b[1;33m\u001b[0m\u001b[1;33m\u001b[0m\u001b[0m\n\u001b[0m\u001b[0;32m     24\u001b[0m \u001b[1;33m\u001b[0m\u001b[0m\n\u001b[0;32m     25\u001b[0m \u001b[1;32mclass\u001b[0m \u001b[0mStreamWriter\u001b[0m\u001b[1;33m(\u001b[0m\u001b[0mCodec\u001b[0m\u001b[1;33m,\u001b[0m\u001b[0mcodecs\u001b[0m\u001b[1;33m.\u001b[0m\u001b[0mStreamWriter\u001b[0m\u001b[1;33m)\u001b[0m\u001b[1;33m:\u001b[0m\u001b[1;33m\u001b[0m\u001b[1;33m\u001b[0m\u001b[0m\n",
      "\u001b[1;31mUnicodeDecodeError\u001b[0m: 'charmap' codec can't decode byte 0x90 in position 6220: character maps to <undefined>"
     ]
    }
   ],
   "source": [
    "import string\n",
    "import re #regular expresions\n",
    "# abre el archivo de datos y lo trata como un archivo csv\n",
    "file = open('./Datos/simpsons_dataset.csv', 'r')\n",
    "with file as csvfile:\n",
    "    reader = csv.reader(csvfile, delimiter=',')\n",
    "    next(reader)\n",
    "    for row in reader:\n",
    "        # preprocess label\n",
    "        #label_l = ' '.join(row[0].split()).lower().replace(' ','_') # lower case ans eliminate multiple spaces\n",
    "        label_l = re.sub(' +', ' ',row[0].lower()) # lower case ans eliminate multiple spaces\n",
    "        if (len(label_l)>2): # drop with empty label\n",
    "            label = ''.join(c for c in label_l if c in printable)# filter only printable characters\n",
    "            label = label.replace(' ','_')\n",
    "            labels.append(label)\n",
    "            # preprocess sentence\n",
    "            #sentence_l = ' '.join(row[1].split()).lower().replace(' ','_') # lower case ans eliminate multiple spaces\n",
    "            sentence_l = re.sub(' +', ' ',row[1].lower())\n",
    "            sentence = ''.join(c for c in sentence_l if c in printable)\n",
    "            complete_lines.append(row[0] + ': '+ row[1])\n",
    "            complete_sentences.append(sentence)\n",
    "            # preprocess stopwords\n",
    "            for word in stopwords:\n",
    "                token = \" \" + word + \" \"\n",
    "                sentence = sentence.replace(token, \" \")\n",
    "            sentences.append(sentence)\n",
    " \n",
    "\n",
    "# resumen de la lectura            \n",
    "print(len(labels))\n",
    "print(len(complete_sentences))\n",
    "print(len(complete_lines))\n",
    "print(len(sentences))\n",
    "# Expected Output\n",
    "# 158314\n",
    "# 158314\n",
    "# 158314\n",
    "# 158314"
   ]
  },
  {
   "cell_type": "code",
   "execution_count": null,
   "metadata": {
    "colab": {
     "base_uri": "https://localhost:8080/",
     "height": 94
    },
    "colab_type": "code",
    "executionInfo": {
     "elapsed": 6880,
     "status": "ok",
     "timestamp": 1573860551524,
     "user": {
      "displayName": "Daniel Montenegro",
      "photoUrl": "https://lh3.google.com/a-/AAuE7mDrM5S26sHRMIxvG7Wpqyko7KqiLihxE9wM_-jm=s64",
      "userId": "07275166318289302366"
     },
     "user_tz": 300
    },
    "id": "eutB2xMiZD0e",
    "outputId": "20e186bb-5fc8-4dd3-8a5c-a23d8aee7879"
   },
   "outputs": [],
   "source": [
    "# primera linea\n",
    "print(labels[0]+'\\n')\n",
    "print(complete_sentences[0]+'\\n')\n",
    "print(complete_lines[0]+'\\n')\n",
    "print(sentences[0]+'\\n')\n",
    "# Expected Output\n",
    "# 158314\n",
    "# 158314"
   ]
  },
  {
   "cell_type": "code",
   "execution_count": null,
   "metadata": {},
   "outputs": [],
   "source": [
    "print(labels[0])\n",
    "print(labels[1])\n",
    "print(labels[2])\n",
    "print(labels[3])\n",
    "print(labels[4])\n",
    "print(labels[5])\n",
    "\n",
    "print('\\n')\n"
   ]
  },
  {
   "cell_type": "markdown",
   "metadata": {},
   "source": [
    "# Separa datos de entrenamiento y validación "
   ]
  },
  {
   "cell_type": "code",
   "execution_count": null,
   "metadata": {
    "colab": {
     "base_uri": "https://localhost:8080/",
     "height": 112
    },
    "colab_type": "code",
    "executionInfo": {
     "elapsed": 6868,
     "status": "ok",
     "timestamp": 1573860551525,
     "user": {
      "displayName": "Daniel Montenegro",
      "photoUrl": "https://lh3.google.com/a-/AAuE7mDrM5S26sHRMIxvG7Wpqyko7KqiLihxE9wM_-jm=s64",
      "userId": "07275166318289302366"
     },
     "user_tz": 300
    },
    "id": "XfdaWh06ZGe3",
    "outputId": "350e1430-38eb-4d4e-b2d6-7ed2cfc6ecff"
   },
   "outputs": [],
   "source": [
    "train_size = int(len(sentences) * training_portion)\n",
    "\n",
    "train_sentences = sentences[:train_size]\n",
    "train_labels = labels[:train_size]\n",
    "\n",
    "validation_sentences = sentences[train_size:]\n",
    "validation_labels = labels[train_size:]\n",
    "\n",
    "print(train_size)\n",
    "print(len(train_sentences))\n",
    "print(len(train_labels))\n",
    "print(len(validation_sentences))\n",
    "print(len(validation_labels))\n",
    "\n",
    "# Expected output (if training_portion=.8)\n",
    "# 126651\n",
    "# 126651\n",
    "# 126651\n",
    "# 31663\n",
    "# 31663"
   ]
  },
  {
   "cell_type": "markdown",
   "metadata": {},
   "source": [
    "# crea el vocabulario"
   ]
  },
  {
   "cell_type": "code",
   "execution_count": null,
   "metadata": {
    "colab": {
     "base_uri": "https://localhost:8080/",
     "height": 131
    },
    "colab_type": "code",
    "executionInfo": {
     "elapsed": 6855,
     "status": "ok",
     "timestamp": 1573860551526,
     "user": {
      "displayName": "Daniel Montenegro",
      "photoUrl": "https://lh3.google.com/a-/AAuE7mDrM5S26sHRMIxvG7Wpqyko7KqiLihxE9wM_-jm=s64",
      "userId": "07275166318289302366"
     },
     "user_tz": 300
    },
    "id": "ULzA8xhwZI22",
    "outputId": "d4d4b8f0-6841-4f97-91ae-3b37b3a7abfe"
   },
   "outputs": [],
   "source": [
    "tokenizer = Tokenizer(num_words = vocab_size, oov_token=oov_tok,split= ' ')\n",
    "tokenizer.fit_on_texts(train_sentences)\n",
    "word_index = tokenizer.word_index\n",
    "\n",
    "train_sequences = tokenizer.texts_to_sequences(train_sentences)\n",
    "train_padded = np.array(pad_sequences(train_sequences, padding=padding_type, maxlen=max_length))"
   ]
  },
  {
   "cell_type": "code",
   "execution_count": null,
   "metadata": {
    "colab": {
     "base_uri": "https://localhost:8080/",
     "height": 131
    },
    "colab_type": "code",
    "executionInfo": {
     "elapsed": 6855,
     "status": "ok",
     "timestamp": 1573860551526,
     "user": {
      "displayName": "Daniel Montenegro",
      "photoUrl": "https://lh3.google.com/a-/AAuE7mDrM5S26sHRMIxvG7Wpqyko7KqiLihxE9wM_-jm=s64",
      "userId": "07275166318289302366"
     },
     "user_tz": 300
    },
    "id": "ULzA8xhwZI22",
    "outputId": "d4d4b8f0-6841-4f97-91ae-3b37b3a7abfe"
   },
   "outputs": [],
   "source": [
    "print((train_sequences[0]))\n",
    "print(len(train_padded[0]))\n",
    "\n",
    "\n",
    "#print(len(train_sequences[1]))\n",
    "#print(len(train_padded[1]))\n",
    "\n",
    "#print(len(train_sequences[10]))\n",
    "#print(len(train_padded[10]))\n",
    "\n",
    "# Expected Ouput\n",
    "# 12\n",
    "# 120\n",
    "# 3\n",
    "# 120\n",
    "# 10\n",
    "# 120"
   ]
  },
  {
   "cell_type": "code",
   "execution_count": null,
   "metadata": {},
   "outputs": [],
   "source": [
    "type(train_padded)"
   ]
  },
  {
   "cell_type": "code",
   "execution_count": null,
   "metadata": {
    "colab": {
     "base_uri": "https://localhost:8080/",
     "height": 131
    },
    "colab_type": "code",
    "executionInfo": {
     "elapsed": 6855,
     "status": "ok",
     "timestamp": 1573860551526,
     "user": {
      "displayName": "Daniel Montenegro",
      "photoUrl": "https://lh3.google.com/a-/AAuE7mDrM5S26sHRMIxvG7Wpqyko7KqiLihxE9wM_-jm=s64",
      "userId": "07275166318289302366"
     },
     "user_tz": 300
    },
    "id": "ULzA8xhwZI22",
    "outputId": "d4d4b8f0-6841-4f97-91ae-3b37b3a7abfe"
   },
   "outputs": [],
   "source": [
    "print(train_padded[0])"
   ]
  },
  {
   "cell_type": "code",
   "execution_count": null,
   "metadata": {
    "colab": {
     "base_uri": "https://localhost:8080/",
     "height": 55
    },
    "colab_type": "code",
    "executionInfo": {
     "elapsed": 7479,
     "status": "ok",
     "timestamp": 1573860552162,
     "user": {
      "displayName": "Daniel Montenegro",
      "photoUrl": "https://lh3.google.com/a-/AAuE7mDrM5S26sHRMIxvG7Wpqyko7KqiLihxE9wM_-jm=s64",
      "userId": "07275166318289302366"
     },
     "user_tz": 300
    },
    "id": "c8PeFWzPZLW_",
    "outputId": "5b32499c-8890-41cb-e25f-beed1c1c4141"
   },
   "outputs": [],
   "source": [
    "validation_sequences = tokenizer.texts_to_sequences(validation_sentences)\n",
    "validation_padded = np.array(pad_sequences(validation_sequences, padding=padding_type, maxlen=max_length))\n"
   ]
  },
  {
   "cell_type": "code",
   "execution_count": null,
   "metadata": {
    "colab": {
     "base_uri": "https://localhost:8080/",
     "height": 55
    },
    "colab_type": "code",
    "executionInfo": {
     "elapsed": 7479,
     "status": "ok",
     "timestamp": 1573860552162,
     "user": {
      "displayName": "Daniel Montenegro",
      "photoUrl": "https://lh3.google.com/a-/AAuE7mDrM5S26sHRMIxvG7Wpqyko7KqiLihxE9wM_-jm=s64",
      "userId": "07275166318289302366"
     },
     "user_tz": 300
    },
    "id": "c8PeFWzPZLW_",
    "outputId": "5b32499c-8890-41cb-e25f-beed1c1c4141"
   },
   "outputs": [],
   "source": [
    "print(len(validation_sequences))\n",
    "print(validation_padded.shape)\n",
    "\n",
    "# Expected output\n",
    "# 31663\n",
    "# (31663, 120)"
   ]
  },
  {
   "cell_type": "code",
   "execution_count": null,
   "metadata": {
    "colab": {
     "base_uri": "https://localhost:8080/",
     "height": 169
    },
    "colab_type": "code",
    "executionInfo": {
     "elapsed": 7475,
     "status": "ok",
     "timestamp": 1573860552178,
     "user": {
      "displayName": "Daniel Montenegro",
      "photoUrl": "https://lh3.google.com/a-/AAuE7mDrM5S26sHRMIxvG7Wpqyko7KqiLihxE9wM_-jm=s64",
      "userId": "07275166318289302366"
     },
     "user_tz": 300
    },
    "id": "XkWiQ_FKZNp2",
    "outputId": "9a3c0cbb-4206-49a7-d2e1-d0990aba7c1e"
   },
   "outputs": [],
   "source": [
    "label_size = 500\n",
    "#filters='!\"#$%&()*+,-./:;<=>?@[\\\\]^_`{|}~\\t\\n'\n",
    "label_tokenizer = Tokenizer(num_words = label_size,oov_token=oov_tok, filters = '')\n",
    "label_tokenizer.fit_on_texts(labels)\n",
    "\n",
    "label_seq = np.array(label_tokenizer.texts_to_sequences(labels))\n",
    "training_label_seq = np.array(label_tokenizer.texts_to_sequences(train_labels))\n",
    "validation_label_seq = np.array(label_tokenizer.texts_to_sequences(validation_labels))\n",
    "\n",
    "print(training_label_seq[0])\n",
    "print(training_label_seq[1])\n",
    "print(training_label_seq[2])\n",
    "print(training_label_seq[3])\n",
    "print(training_label_seq[5])\n",
    "print(training_label_seq.shape)\n",
    "\n",
    "print(validation_label_seq[0])\n",
    "print(validation_label_seq[1])\n",
    "print(validation_label_seq[2])\n",
    "print(validation_label_seq[3])\n",
    "print(validation_label_seq[5])\n",
    "print(validation_label_seq.shape)\n",
    "\n",
    "# Expected output\n",
    "# [4]\n",
    "# [2]\n",
    "# [1]\n",
    "# (1780, 1)\n",
    "# [5]\n",
    "# [4]\n",
    "# [3]\n",
    "# (445, 1)"
   ]
  },
  {
   "cell_type": "code",
   "execution_count": null,
   "metadata": {},
   "outputs": [],
   "source": [
    "# flatten the nested list and tranaform to an np array\n",
    "label_seq = np.array([item for items in label_seq for item in items])\n",
    "training_label_seq = np.array([item for items in training_label_seq for item in items])\n",
    "validation_label_seq = np.array([item for items in validation_label_seq for item in items])\n"
   ]
  },
  {
   "cell_type": "markdown",
   "metadata": {},
   "source": [
    "# transform target to one-hot codification"
   ]
  },
  {
   "cell_type": "markdown",
   "metadata": {},
   "source": [
    "## primero crea etiquetas numéricas"
   ]
  },
  {
   "cell_type": "code",
   "execution_count": null,
   "metadata": {},
   "outputs": [],
   "source": [
    "from sklearn. preprocessing import LabelEncoder\n",
    "#preprocessing.LabelEncoder()\n",
    "encoder = LabelEncoder()\n",
    "\n",
    "encoder.fit(label_seq)\n",
    "y_train = encoder.transform(training_label_seq)\n",
    "y_test = encoder.transform(validation_label_seq)"
   ]
  },
  {
   "cell_type": "markdown",
   "metadata": {},
   "source": [
    "## one hot"
   ]
  },
  {
   "cell_type": "code",
   "execution_count": null,
   "metadata": {},
   "outputs": [],
   "source": [
    "# Converts the labels to a one-hot representation\n",
    "num_classes = np.max(y_train) + 1\n",
    "y_train = tf.keras.utils.to_categorical(y_train, num_classes)\n",
    "y_test = tf.keras.utils.to_categorical(y_test, num_classes)"
   ]
  },
  {
   "cell_type": "code",
   "execution_count": null,
   "metadata": {},
   "outputs": [],
   "source": [
    "y_train.shape"
   ]
  },
  {
   "cell_type": "code",
   "execution_count": null,
   "metadata": {
    "colab": {
     "base_uri": "https://localhost:8080/",
     "height": 455
    },
    "colab_type": "code",
    "executionInfo": {
     "elapsed": 7459,
     "status": "ok",
     "timestamp": 1573860552179,
     "user": {
      "displayName": "Daniel Montenegro",
      "photoUrl": "https://lh3.google.com/a-/AAuE7mDrM5S26sHRMIxvG7Wpqyko7KqiLihxE9wM_-jm=s64",
      "userId": "07275166318289302366"
     },
     "user_tz": 300
    },
    "id": "HZ5um4MWZP-W",
    "outputId": "e1708171-f076-49df-af67-e45a0b5b74ed"
   },
   "outputs": [],
   "source": [
    "model = tf.keras.Sequential([\n",
    "    tf.keras.layers.Embedding(vocab_size, embedding_dim, input_length=max_length),\n",
    "    tf.keras.layers.GlobalAveragePooling1D(),\n",
    "    tf.keras.layers.Dense(24, activation='relu'),\n",
    "    tf.keras.layers.Dense(6, activation='softmax')\n",
    "])\n",
    "model.compile(loss='sparse_categorical_crossentropy',optimizer='adam',metrics=['accuracy'])\n",
    "model.summary()\n",
    "\n",
    "# a first model\n",
    "# Layer (type)                 Output Shape              Param #   \n",
    "# =================================================================\n",
    "# embedding (Embedding)        (None, 120, 16)           16000     \n",
    "# _________________________________________________________________\n",
    "# global_average_pooling1d (Gl (None, 16)                0         \n",
    "# _________________________________________________________________\n",
    "# dense (Dense)                (None, 24)                408       \n",
    "# _________________________________________________________________\n",
    "# dense_1 (Dense)              (None, 6)                 150       \n",
    "# =================================================================\n",
    "# Total params: 16,558\n",
    "# Trainable params: 16,558\n",
    "# Non-trainable params: 0"
   ]
  },
  {
   "cell_type": "code",
   "execution_count": null,
   "metadata": {
    "colab": {
     "base_uri": "https://localhost:8080/",
     "height": 1000
    },
    "colab_type": "code",
    "executionInfo": {
     "elapsed": 19121,
     "status": "ok",
     "timestamp": 1573860563855,
     "user": {
      "displayName": "Daniel Montenegro",
      "photoUrl": "https://lh3.google.com/a-/AAuE7mDrM5S26sHRMIxvG7Wpqyko7KqiLihxE9wM_-jm=s64",
      "userId": "07275166318289302366"
     },
     "user_tz": 300
    },
    "id": "XsfdxySKZSXu",
    "outputId": "a4d0df64-c37c-44e8-c983-d72224a32b70"
   },
   "outputs": [],
   "source": [
    "num_epochs = 30\n",
    "history = model.fit(train_padded, y_train, epochs=num_epochs, validation_data=(validation_padded, y_test), verbose=2)"
   ]
  },
  {
   "cell_type": "code",
   "execution_count": null,
   "metadata": {
    "colab": {
     "base_uri": "https://localhost:8080/",
     "height": 541
    },
    "colab_type": "code",
    "executionInfo": {
     "elapsed": 20314,
     "status": "ok",
     "timestamp": 1573860565061,
     "user": {
      "displayName": "Daniel Montenegro",
      "photoUrl": "https://lh3.google.com/a-/AAuE7mDrM5S26sHRMIxvG7Wpqyko7KqiLihxE9wM_-jm=s64",
      "userId": "07275166318289302366"
     },
     "user_tz": 300
    },
    "id": "dQ0BX2apXS9u",
    "outputId": "32341d81-8fcd-4c1f-8295-49902c1792e0"
   },
   "outputs": [],
   "source": [
    "import matplotlib.pyplot as plt\n",
    "\n",
    "\n",
    "def plot_graphs(history, string):\n",
    "  plt.plot(history.history[string])\n",
    "  plt.plot(history.history['val_'+string])\n",
    "  plt.xlabel(\"Epochs\")\n",
    "  plt.ylabel(string)\n",
    "  plt.legend([string, 'val_'+string])\n",
    "  plt.show()\n",
    "  \n",
    "plot_graphs(history, \"acc\")\n",
    "plot_graphs(history, \"loss\")"
   ]
  },
  {
   "cell_type": "code",
   "execution_count": null,
   "metadata": {
    "colab": {},
    "colab_type": "code",
    "id": "w7Xc-uWxXhML"
   },
   "outputs": [],
   "source": [
    "\n",
    "\n",
    "reverse_word_index = dict([(value, key) for (key, value) in word_index.items()])\n",
    "\n",
    "def decode_sentence(text):\n",
    "    return ' '.join([reverse_word_index.get(i, '?') for i in text])\n"
   ]
  },
  {
   "cell_type": "code",
   "execution_count": null,
   "metadata": {
    "colab": {
     "base_uri": "https://localhost:8080/",
     "height": 36
    },
    "colab_type": "code",
    "executionInfo": {
     "elapsed": 20293,
     "status": "ok",
     "timestamp": 1573860565063,
     "user": {
      "displayName": "Daniel Montenegro",
      "photoUrl": "https://lh3.google.com/a-/AAuE7mDrM5S26sHRMIxvG7Wpqyko7KqiLihxE9wM_-jm=s64",
      "userId": "07275166318289302366"
     },
     "user_tz": 300
    },
    "id": "OhnFA_TDXrih",
    "outputId": "26aa8436-e329-4ecd-ab82-b9c60785191b"
   },
   "outputs": [],
   "source": [
    "e = model.layers[0]\n",
    "weights = e.get_weights()[0]\n",
    "print(weights.shape) # shape: (vocab_size, embedding_dim)\n",
    "\n",
    "# Expected output\n",
    "# (1000, 16)"
   ]
  },
  {
   "cell_type": "code",
   "execution_count": null,
   "metadata": {
    "colab": {},
    "colab_type": "code",
    "id": "_POzcWWAXudL"
   },
   "outputs": [],
   "source": [
    "import io\n",
    "\n",
    "out_v = io.open('vecs.tsv', 'w', encoding='utf-8')\n",
    "out_m = io.open('meta.tsv', 'w', encoding='utf-8')\n",
    "for word_num in range(1, vocab_size):\n",
    "  word = reverse_word_index[word_num]\n",
    "  embeddings = weights[word_num]\n",
    "  out_m.write(word + \"\\n\")\n",
    "  out_v.write('\\t'.join([str(x) for x in embeddings]) + \"\\n\")\n",
    "out_v.close()\n",
    "out_m.close()"
   ]
  },
  {
   "cell_type": "code",
   "execution_count": null,
   "metadata": {
    "colab": {},
    "colab_type": "code",
    "id": "VmqpQMZ_XyOa"
   },
   "outputs": [],
   "source": [
    "try:\n",
    "  from google.colab import files\n",
    "except ImportError:\n",
    "  pass\n",
    "else:\n",
    "  files.download('vecs.tsv')\n",
    "  files.download('meta.tsv')"
   ]
  },
  {
   "cell_type": "markdown",
   "metadata": {},
   "source": [
    "## Referencias\n",
    "- Aprendizaje profundo, [Ciencia de datos](https://github.com/AprendizajeProfundo/Ciencia-de-Datos/tree/master/Cuadernos)"
   ]
  }
 ],
 "metadata": {
  "accelerator": "GPU",
  "colab": {
   "collapsed_sections": [],
   "name": "BBC_Text.ipynb",
   "provenance": [
    {
     "file_id": "https://github.com/lmoroney/dlaicourse/blob/master/TensorFlow%20In%20Practice/Course%203%20-%20NLP/Course%203%20-%20Week%202%20-%20Exercise%20-%20Answer.ipynb",
     "timestamp": 1573745281892
    }
   ]
  },
  "kernelspec": {
   "display_name": "Python 3",
   "language": "python",
   "name": "python3"
  },
  "language_info": {
   "codemirror_mode": {
    "name": "ipython",
    "version": 3
   },
   "file_extension": ".py",
   "mimetype": "text/x-python",
   "name": "python",
   "nbconvert_exporter": "python",
   "pygments_lexer": "ipython3",
   "version": "3.7.4"
  }
 },
 "nbformat": 4,
 "nbformat_minor": 4
}
