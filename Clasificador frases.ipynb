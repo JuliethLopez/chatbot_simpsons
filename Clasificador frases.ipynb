{
  "nbformat": 4,
  "nbformat_minor": 0,
  "metadata": {
    "accelerator": "GPU",
    "colab": {
      "name": "BBC_Text.ipynb",
      "provenance": [],
      "collapsed_sections": [],
      "toc_visible": true
    },
    "kernelspec": {
      "display_name": "Python 3",
      "language": "python",
      "name": "python3"
    },
    "language_info": {
      "codemirror_mode": {
        "name": "ipython",
        "version": 3
      },
      "file_extension": ".py",
      "mimetype": "text/x-python",
      "name": "python",
      "nbconvert_exporter": "python",
      "pygments_lexer": "ipython3",
      "version": "3.7.4"
    }
  },
  "cells": [
    {
      "cell_type": "markdown",
      "metadata": {
        "id": "PpX0X6gZYt2Y",
        "colab_type": "text"
      },
      "source": [
        "<a href=\"https://colab.research.google.com/github/JuliethLopez/chatbot_simpsons/blob/master/Clasificador%20frases.ipynb\" target=\"_parent\"><img src=\"https://colab.research.google.com/assets/colab-badge.svg\" alt=\"Open In Colab\"/></a>"
      ]
    },
    {
      "cell_type": "markdown",
      "metadata": {
        "id": "UMKMq626ax3b",
        "colab_type": "text"
      },
      "source": [
        "# Clasificación usando Lenguaje Natural"
      ]
    },
    {
      "cell_type": "code",
      "metadata": {
        "colab_type": "code",
        "id": "GSfreYDvYt3M",
        "colab": {}
      },
      "source": [
        "#librerias\n",
        "import csv\n",
        "import tensorflow as tf\n",
        "import numpy as np\n",
        "from tensorflow.keras.preprocessing.text import Tokenizer\n",
        "from tensorflow.keras.preprocessing.sequence import pad_sequences"
      ],
      "execution_count": 0,
      "outputs": []
    },
    {
      "cell_type": "markdown",
      "metadata": {
        "id": "dLUigGjXYt3r",
        "colab_type": "text"
      },
      "source": [
        "# Define algunas características iniciales"
      ]
    },
    {
      "cell_type": "code",
      "metadata": {
        "colab_type": "code",
        "id": "EYo6A4v5ZABQ",
        "colab": {}
      },
      "source": [
        "vocab_size = 2000 # número de palabras que integrarán el vocabulario\n",
        "embedding_dim = 32 # dimensión del embeding de las palabras\n",
        "max_length = 120  # longitud máxima de una oración (sentence filtrada con stopwords)\n",
        "trunc_type='post' # donde truncar una oración (sentence, filtrada con stopwords)\n",
        "padding_type='post'# donde hacer el padding (agregar ceros) en una oración (sentence, filtrada con stopwords)\n",
        "oov_tok = \"<OOV>\"  # token para las palabras que queden fuera del vocabulario\n",
        "training_portion = .8  # porcentaje de datos para entrenamiento"
      ],
      "execution_count": 0,
      "outputs": []
    },
    {
      "cell_type": "code",
      "metadata": {
        "colab_type": "code",
        "id": "iU1qq3_SZBx_",
        "outputId": "f1c698b3-9284-49b9-f0a9-5844053256bb",
        "colab": {
          "base_uri": "https://localhost:8080/",
          "height": 36
        }
      },
      "source": [
        "complete_sentences = []\n",
        "complete_lines = [] \n",
        "sentences = []\n",
        "labels = [] # preprocesed labels\n",
        "\n",
        "stopwords = [ \"a\", \"about\", \"above\", \"after\", \"again\", \"against\", \"all\", \"am\", \"an\", \"and\", \"any\", \"are\", \"as\", \"at\", \"be\", \"because\", \"been\", \"before\", \"being\", \"below\", \"between\", \"both\", \"but\", \"by\", \"could\", \"did\", \"do\", \"does\", \"doing\", \"down\", \"during\", \"each\", \"few\", \"for\", \"from\", \"further\", \"had\", \"has\", \"have\", \"having\", \"he\", \"he'd\", \"he'll\", \"he's\", \"her\", \"here\", \"here's\", \"hers\", \"herself\", \"him\", \"himself\", \"his\", \"how\", \"how's\", \"i\", \"i'd\", \"i'll\", \"i'm\", \"i've\", \"if\", \"in\", \"into\", \"is\", \"it\", \"it's\", \"its\", \"itself\", \"let's\", \"me\", \"more\", \"most\", \"my\", \"myself\", \"nor\", \"of\", \"on\", \"once\", \"only\", \"or\", \"other\", \"ought\", \"our\", \"ours\", \"ourselves\", \"out\", \"over\", \"own\", \"same\", \"she\", \"she'd\", \"she'll\", \"she's\", \"should\", \"so\", \"some\", \"such\", \"than\", \"that\", \"that's\", \"the\", \"their\", \"theirs\", \"them\", \"themselves\", \"then\", \"there\", \"there's\", \"these\", \"they\", \"they'd\", \"they'll\", \"they're\", \"they've\", \"this\", \"those\", \"through\", \"to\", \"too\", \"under\", \"until\", \"up\", \"very\", \"was\", \"we\", \"we'd\", \"we'll\", \"we're\", \"we've\", \"were\", \"what\", \"what's\", \"when\", \"when's\", \"where\", \"where's\", \"which\", \"while\", \"who\", \"who's\", \"whom\", \"why\", \"why's\", \"with\", \"would\", \"you\", \"you'd\", \"you'll\", \"you're\", \"you've\", \"your\", \"yours\", \"yourself\", \"yourselves\" ]\n",
        "print(len(stopwords))"
      ],
      "execution_count": 15,
      "outputs": [
        {
          "output_type": "stream",
          "text": [
            "153\n"
          ],
          "name": "stdout"
        }
      ]
    },
    {
      "cell_type": "code",
      "metadata": {
        "id": "9QFugJkmYt4n",
        "colab_type": "code",
        "colab": {
          "base_uri": "https://localhost:8080/",
          "height": 73
        },
        "outputId": "28e34e01-8862-45d0-8969-cb33d397b6af"
      },
      "source": [
        "import string\n",
        "import numpy as np\n",
        "\n",
        "a = np.array([32]) # space\n",
        "#b = np.array(range(65,91)) # uppercase\n",
        "c = np.array(range(97,123)) # lowercase\n",
        "printab = np.hstack((a,c))\n",
        "\n",
        "printable = np.array([chr(i) for i in printab])   \n",
        "printable\n",
        "\n",
        "#ascci_to_char = dict((printab[i], printable[i]) for i in range(len(printable)))"
      ],
      "execution_count": 16,
      "outputs": [
        {
          "output_type": "execute_result",
          "data": {
            "text/plain": [
              "array([' ', 'a', 'b', 'c', 'd', 'e', 'f', 'g', 'h', 'i', 'j', 'k', 'l',\n",
              "       'm', 'n', 'o', 'p', 'q', 'r', 's', 't', 'u', 'v', 'w', 'x', 'y',\n",
              "       'z'], dtype='<U1')"
            ]
          },
          "metadata": {
            "tags": []
          },
          "execution_count": 16
        }
      ]
    },
    {
      "cell_type": "code",
      "metadata": {
        "colab_type": "code",
        "id": "eutB2xMiZD0e",
        "outputId": "e378cb4f-04c6-40b5-d38e-2afb3aa5c0a4",
        "colab": {
          "base_uri": "https://localhost:8080/",
          "height": 92
        }
      },
      "source": [
        "#lectura de los datos\n",
        "import string\n",
        "import re #regular expresions\n",
        "# abre el archivo de datos y lo trata como un archivo csv\n",
        "file = open('DFSMS.csv', 'r')\n",
        "with file as csvfile:\n",
        "    reader = csv.reader(csvfile, delimiter=',')\n",
        "    next(reader)\n",
        "    for row in reader:\n",
        "        # preprocess label\n",
        "        #label_l = ' '.join(row[0].split()).lower().replace(' ','_') # lower case ans eliminate multiple spaces\n",
        "        label_l = re.sub(' +', ' ',row[0].lower()) # lower case ans eliminate multiple spaces\n",
        "        if (len(label_l)>2): # drop with empty label\n",
        "            label = ''.join(c for c in label_l if c in printable)# filter only printable characters\n",
        "            label = label.replace(' ','_')\n",
        "            labels.append(label)\n",
        "            # preprocess sentence\n",
        "            #sentence_l = ' '.join(row[1].split()).lower().replace(' ','_') # lower case ans eliminate multiple spaces\n",
        "            sentence_l = re.sub(' +', ' ',row[1].lower())\n",
        "            sentence = ''.join(c for c in sentence_l if c in printable)\n",
        "            complete_lines.append(row[0] + ': '+ row[1])\n",
        "            complete_sentences.append(sentence)\n",
        "            # preprocess stopwords\n",
        "            for word in stopwords:\n",
        "                token = \" \" + word + \" \"\n",
        "                sentence = sentence.replace(token, \" \")\n",
        "            sentences.append(sentence)\n",
        " \n",
        "\n",
        "# resumen de la lectura            \n",
        "print(len(labels))\n",
        "print(len(complete_sentences))\n",
        "print(len(complete_lines))\n",
        "print(len(sentences))\n",
        "# Expected Output\n",
        "# 158314"
      ],
      "execution_count": 17,
      "outputs": [
        {
          "output_type": "stream",
          "text": [
            "63367\n",
            "63367\n",
            "63367\n",
            "63367\n"
          ],
          "name": "stdout"
        }
      ]
    },
    {
      "cell_type": "code",
      "metadata": {
        "colab_type": "code",
        "outputId": "3711b31a-ec2a-43b0-8f72-9edfce57da7a",
        "id": "mHP5HqP4Yt5U",
        "colab": {
          "base_uri": "https://localhost:8080/",
          "height": 167
        }
      },
      "source": [
        "# primera linea\n",
        "print(labels[0]+'\\n')\n",
        "print(complete_sentences[0]+'\\n')\n",
        "print(complete_lines[0]+'\\n')\n",
        "print(sentences[0]+'\\n')\n",
        "# Expected Output\n",
        "# 158314\n",
        "# 158314"
      ],
      "execution_count": 18,
      "outputs": [
        {
          "output_type": "stream",
          "text": [
            "lisa_simpson\n",
            "\n",
            "wheres mr bergstrom\n",
            "\n",
            "Lisa Simpson: Where's Mr. Bergstrom?\n",
            "\n",
            "wheres mr bergstrom\n",
            "\n"
          ],
          "name": "stdout"
        }
      ]
    },
    {
      "cell_type": "code",
      "metadata": {
        "id": "6Vqqx5Q2Yt5q",
        "colab_type": "code",
        "colab": {
          "base_uri": "https://localhost:8080/",
          "height": 112
        },
        "outputId": "a8fb189d-993b-4e81-f372-36bf8b63dd77"
      },
      "source": [
        "sentences[:4]"
      ],
      "execution_count": 19,
      "outputs": [
        {
          "output_type": "execute_result",
          "data": {
            "text/plain": [
              "['wheres mr bergstrom',\n",
              " 'that life worth living',\n",
              " 'the polls will open now end recess now just case decided put thought well final statements martin',\n",
              " 'i dont think theres anything left say']"
            ]
          },
          "metadata": {
            "tags": []
          },
          "execution_count": 19
        }
      ]
    },
    {
      "cell_type": "markdown",
      "metadata": {
        "id": "QH4k5vkXYt6B",
        "colab_type": "text"
      },
      "source": [
        "# Separa datos de entrenamiento y validación "
      ]
    },
    {
      "cell_type": "code",
      "metadata": {
        "colab_type": "code",
        "id": "XfdaWh06ZGe3",
        "outputId": "764e4e98-e9e7-44db-edf6-0d8e6d73383c",
        "colab": {
          "base_uri": "https://localhost:8080/",
          "height": 111
        }
      },
      "source": [
        "train_size = int(len(sentences) * training_portion)\n",
        "\n",
        "train_sentences = sentences[:train_size]\n",
        "train_labels = labels[:train_size]\n",
        "\n",
        "validation_sentences = sentences[train_size:]\n",
        "validation_labels = labels[train_size:]\n",
        "\n",
        "print(train_size)\n",
        "print(len(train_sentences))\n",
        "print(len(train_labels))\n",
        "print(len(validation_sentences))\n",
        "print(len(validation_labels))\n",
        "\n",
        "# Expected output (if training_portion=.8)\n",
        "# 126651 train\n",
        "# 31663 validation"
      ],
      "execution_count": 21,
      "outputs": [
        {
          "output_type": "stream",
          "text": [
            "50693\n",
            "50693\n",
            "50693\n",
            "12674\n",
            "12674\n"
          ],
          "name": "stdout"
        }
      ]
    },
    {
      "cell_type": "code",
      "metadata": {
        "id": "eN2cwKFrZL6v",
        "colab_type": "code",
        "colab": {
          "base_uri": "https://localhost:8080/",
          "height": 93
        },
        "outputId": "47653a5c-e28b-4c12-ec1a-6432b0d85fed"
      },
      "source": [
        "train_sentences[:3]"
      ],
      "execution_count": 22,
      "outputs": [
        {
          "output_type": "execute_result",
          "data": {
            "text/plain": [
              "['wheres mr bergstrom',\n",
              " 'that life worth living',\n",
              " 'the polls will open now end recess now just case decided put thought well final statements martin']"
            ]
          },
          "metadata": {
            "tags": []
          },
          "execution_count": 22
        }
      ]
    },
    {
      "cell_type": "code",
      "metadata": {
        "id": "u6WfXaF1ZNby",
        "colab_type": "code",
        "colab": {
          "base_uri": "https://localhost:8080/",
          "height": 36
        },
        "outputId": "65e9bef5-350d-4b2d-8204-0a1d673d54bd"
      },
      "source": [
        "train_labels[:3]"
      ],
      "execution_count": 23,
      "outputs": [
        {
          "output_type": "execute_result",
          "data": {
            "text/plain": [
              "['lisa_simpson', 'lisa_simpson', 'edna_krabappelflanders']"
            ]
          },
          "metadata": {
            "tags": []
          },
          "execution_count": 23
        }
      ]
    },
    {
      "cell_type": "markdown",
      "metadata": {
        "id": "yoa0aOJzYt6c",
        "colab_type": "text"
      },
      "source": [
        "# crea el vocabulario"
      ]
    },
    {
      "cell_type": "code",
      "metadata": {
        "colab_type": "code",
        "id": "ULzA8xhwZI22",
        "colab": {}
      },
      "source": [
        "tokenizer = Tokenizer(num_words = vocab_size, oov_token=oov_tok,split= ' ')\n",
        "tokenizer.fit_on_texts(train_sentences)\n",
        "word_index = tokenizer.word_index\n",
        "\n",
        "train_sequences = tokenizer.texts_to_sequences(train_sentences)\n",
        "train_padded = np.array(pad_sequences(train_sequences, padding=padding_type, maxlen=max_length))"
      ],
      "execution_count": 0,
      "outputs": []
    },
    {
      "cell_type": "code",
      "metadata": {
        "colab_type": "code",
        "outputId": "664e4315-41d6-42d3-91ba-f285fce34253",
        "id": "BEvslZQ7Yt66",
        "colab": {
          "base_uri": "https://localhost:8080/",
          "height": 54
        }
      },
      "source": [
        "print((train_sequences[0]))\n",
        "print(len(train_padded[0]))\n",
        "\n",
        "#print(len(train_sequences[1]))\n",
        "#print(len(train_padded[1]))\n",
        "\n",
        "#print(len(train_sequences[10]))\n",
        "#print(len(train_padded[10]))\n",
        "\n",
        "# Expected Ouput\n",
        "# 12\n",
        "# 120\n",
        "# 3\n",
        "# 120\n",
        "# 10\n",
        "# 120"
      ],
      "execution_count": 25,
      "outputs": [
        {
          "output_type": "stream",
          "text": [
            "[325, 68, 1]\n",
            "120\n"
          ],
          "name": "stdout"
        }
      ]
    },
    {
      "cell_type": "code",
      "metadata": {
        "id": "BoyMoykjYt7N",
        "colab_type": "code",
        "colab": {
          "base_uri": "https://localhost:8080/",
          "height": 36
        },
        "outputId": "34c99322-cff7-4ba8-c985-4d2179b61455"
      },
      "source": [
        "train_sequences[:2]"
      ],
      "execution_count": 26,
      "outputs": [
        {
          "output_type": "execute_result",
          "data": {
            "text/plain": [
              "[[325, 68, 1], [51, 118, 664, 522]]"
            ]
          },
          "metadata": {
            "tags": []
          },
          "execution_count": 26
        }
      ]
    },
    {
      "cell_type": "code",
      "metadata": {
        "colab_type": "code",
        "outputId": "c025c4c9-e811-4fd0-b23a-427618e07733",
        "id": "AS43m4iEYt7-",
        "colab": {
          "base_uri": "https://localhost:8080/",
          "height": 392
        }
      },
      "source": [
        "train_padded[:2]"
      ],
      "execution_count": 27,
      "outputs": [
        {
          "output_type": "execute_result",
          "data": {
            "text/plain": [
              "array([[325,  68,   1,   0,   0,   0,   0,   0,   0,   0,   0,   0,   0,\n",
              "          0,   0,   0,   0,   0,   0,   0,   0,   0,   0,   0,   0,   0,\n",
              "          0,   0,   0,   0,   0,   0,   0,   0,   0,   0,   0,   0,   0,\n",
              "          0,   0,   0,   0,   0,   0,   0,   0,   0,   0,   0,   0,   0,\n",
              "          0,   0,   0,   0,   0,   0,   0,   0,   0,   0,   0,   0,   0,\n",
              "          0,   0,   0,   0,   0,   0,   0,   0,   0,   0,   0,   0,   0,\n",
              "          0,   0,   0,   0,   0,   0,   0,   0,   0,   0,   0,   0,   0,\n",
              "          0,   0,   0,   0,   0,   0,   0,   0,   0,   0,   0,   0,   0,\n",
              "          0,   0,   0,   0,   0,   0,   0,   0,   0,   0,   0,   0,   0,\n",
              "          0,   0,   0],\n",
              "       [ 51, 118, 664, 522,   0,   0,   0,   0,   0,   0,   0,   0,   0,\n",
              "          0,   0,   0,   0,   0,   0,   0,   0,   0,   0,   0,   0,   0,\n",
              "          0,   0,   0,   0,   0,   0,   0,   0,   0,   0,   0,   0,   0,\n",
              "          0,   0,   0,   0,   0,   0,   0,   0,   0,   0,   0,   0,   0,\n",
              "          0,   0,   0,   0,   0,   0,   0,   0,   0,   0,   0,   0,   0,\n",
              "          0,   0,   0,   0,   0,   0,   0,   0,   0,   0,   0,   0,   0,\n",
              "          0,   0,   0,   0,   0,   0,   0,   0,   0,   0,   0,   0,   0,\n",
              "          0,   0,   0,   0,   0,   0,   0,   0,   0,   0,   0,   0,   0,\n",
              "          0,   0,   0,   0,   0,   0,   0,   0,   0,   0,   0,   0,   0,\n",
              "          0,   0,   0]], dtype=int32)"
            ]
          },
          "metadata": {
            "tags": []
          },
          "execution_count": 27
        }
      ]
    },
    {
      "cell_type": "code",
      "metadata": {
        "colab_type": "code",
        "id": "c8PeFWzPZLW_",
        "colab": {}
      },
      "source": [
        "validation_sequences = tokenizer.texts_to_sequences(validation_sentences)\n",
        "validation_padded = np.array(pad_sequences(validation_sequences, padding=padding_type, maxlen=max_length))\n"
      ],
      "execution_count": 0,
      "outputs": []
    },
    {
      "cell_type": "code",
      "metadata": {
        "colab_type": "code",
        "outputId": "7c12fac1-2b2e-4cd6-9b12-40ab6f963644",
        "id": "-BQ_jql1Yt8p",
        "colab": {
          "base_uri": "https://localhost:8080/",
          "height": 54
        }
      },
      "source": [
        "validation_sequences[:2]\n",
        "\n",
        "# Expected output\n",
        "# 31663\n",
        "# (31663, 120)"
      ],
      "execution_count": 29,
      "outputs": [
        {
          "output_type": "execute_result",
          "data": {
            "text/plain": [
              "[[1, 151, 1, 1746, 24, 252, 57, 39, 1],\n",
              " [9, 160, 680, 17, 211, 448, 1738, 709, 181, 1, 1738, 211, 631, 152]]"
            ]
          },
          "metadata": {
            "tags": []
          },
          "execution_count": 29
        }
      ]
    },
    {
      "cell_type": "code",
      "metadata": {
        "id": "jEF78gjcZdPy",
        "colab_type": "code",
        "colab": {
          "base_uri": "https://localhost:8080/",
          "height": 448
        },
        "outputId": "553aa2ef-9ff0-44ea-8282-9d670a66d510"
      },
      "source": [
        "validation_padded[:2]"
      ],
      "execution_count": 30,
      "outputs": [
        {
          "output_type": "execute_result",
          "data": {
            "text/plain": [
              "array([[   1,  151,    1, 1746,   24,  252,   57,   39,    1,    0,    0,\n",
              "           0,    0,    0,    0,    0,    0,    0,    0,    0,    0,    0,\n",
              "           0,    0,    0,    0,    0,    0,    0,    0,    0,    0,    0,\n",
              "           0,    0,    0,    0,    0,    0,    0,    0,    0,    0,    0,\n",
              "           0,    0,    0,    0,    0,    0,    0,    0,    0,    0,    0,\n",
              "           0,    0,    0,    0,    0,    0,    0,    0,    0,    0,    0,\n",
              "           0,    0,    0,    0,    0,    0,    0,    0,    0,    0,    0,\n",
              "           0,    0,    0,    0,    0,    0,    0,    0,    0,    0,    0,\n",
              "           0,    0,    0,    0,    0,    0,    0,    0,    0,    0,    0,\n",
              "           0,    0,    0,    0,    0,    0,    0,    0,    0,    0,    0,\n",
              "           0,    0,    0,    0,    0,    0,    0,    0,    0,    0],\n",
              "       [   9,  160,  680,   17,  211,  448, 1738,  709,  181,    1, 1738,\n",
              "         211,  631,  152,    0,    0,    0,    0,    0,    0,    0,    0,\n",
              "           0,    0,    0,    0,    0,    0,    0,    0,    0,    0,    0,\n",
              "           0,    0,    0,    0,    0,    0,    0,    0,    0,    0,    0,\n",
              "           0,    0,    0,    0,    0,    0,    0,    0,    0,    0,    0,\n",
              "           0,    0,    0,    0,    0,    0,    0,    0,    0,    0,    0,\n",
              "           0,    0,    0,    0,    0,    0,    0,    0,    0,    0,    0,\n",
              "           0,    0,    0,    0,    0,    0,    0,    0,    0,    0,    0,\n",
              "           0,    0,    0,    0,    0,    0,    0,    0,    0,    0,    0,\n",
              "           0,    0,    0,    0,    0,    0,    0,    0,    0,    0,    0,\n",
              "           0,    0,    0,    0,    0,    0,    0,    0,    0,    0]],\n",
              "      dtype=int32)"
            ]
          },
          "metadata": {
            "tags": []
          },
          "execution_count": 30
        }
      ]
    },
    {
      "cell_type": "code",
      "metadata": {
        "id": "1ix4eYl0ZhNS",
        "colab_type": "code",
        "colab": {
          "base_uri": "https://localhost:8080/",
          "height": 54
        },
        "outputId": "917814f3-0695-4df2-9ed2-54d64e69ed8a"
      },
      "source": [
        "print(len(validation_sequences))\n",
        "print(validation_padded.shape)\n",
        "\n",
        "# Expected output\n",
        "# 31663\n",
        "# (31663, 120)"
      ],
      "execution_count": 31,
      "outputs": [
        {
          "output_type": "stream",
          "text": [
            "12674\n",
            "(12674, 120)\n"
          ],
          "name": "stdout"
        }
      ]
    },
    {
      "cell_type": "code",
      "metadata": {
        "colab_type": "code",
        "id": "XkWiQ_FKZNp2",
        "outputId": "73881cd3-c57c-479b-f6e0-babc3c89ba9d",
        "colab": {
          "base_uri": "https://localhost:8080/",
          "height": 242
        }
      },
      "source": [
        "label_size = 500\n",
        "#filters='!\"#$%&()*+,-./:;<=>?@[\\\\]^_`{|}~\\t\\n'\n",
        "label_tokenizer = Tokenizer(num_words = label_size,oov_token=oov_tok, filters = '')\n",
        "label_tokenizer.fit_on_texts(labels)\n",
        "\n",
        "label_seq = np.array(label_tokenizer.texts_to_sequences(labels))\n",
        "training_label_seq = np.array(label_tokenizer.texts_to_sequences(train_labels))\n",
        "validation_label_seq = np.array(label_tokenizer.texts_to_sequences(validation_labels))\n",
        "\n",
        "print(training_label_seq[0])\n",
        "print(training_label_seq[1])\n",
        "print(training_label_seq[2])\n",
        "print(training_label_seq[3])\n",
        "print(training_label_seq[5])\n",
        "print(training_label_seq.shape)\n",
        "\n",
        "print(validation_label_seq[0])\n",
        "print(validation_label_seq[1])\n",
        "print(validation_label_seq[2])\n",
        "print(validation_label_seq[3])\n",
        "print(validation_label_seq[5])\n",
        "print(validation_label_seq.shape)\n",
        "\n",
        "# Expected output\n",
        "# [4]\n",
        "# [2]\n",
        "# [1]\n",
        "# (1780, 1)\n",
        "# [5]\n",
        "# [4]\n",
        "# [3]\n",
        "# (445, 1)"
      ],
      "execution_count": 32,
      "outputs": [
        {
          "output_type": "stream",
          "text": [
            "[5]\n",
            "[5]\n",
            "[22]\n",
            "[36]\n",
            "[4]\n",
            "(50693, 1)\n",
            "[2]\n",
            "[2]\n",
            "[2]\n",
            "[7]\n",
            "[2]\n",
            "(12674, 1)\n"
          ],
          "name": "stdout"
        }
      ]
    },
    {
      "cell_type": "code",
      "metadata": {
        "id": "ZMoLz57_Yt9J",
        "colab_type": "code",
        "colab": {}
      },
      "source": [
        "# flatten the nested list and tranaform to an np array\n",
        "label_seq = np.array([item for items in label_seq for item in items])\n",
        "training_label_seq = np.array([item for items in training_label_seq for item in items])\n",
        "validation_label_seq = np.array([item for items in validation_label_seq for item in items])\n"
      ],
      "execution_count": 0,
      "outputs": []
    },
    {
      "cell_type": "code",
      "metadata": {
        "id": "7doOXbZvZmfP",
        "colab_type": "code",
        "colab": {
          "base_uri": "https://localhost:8080/",
          "height": 36
        },
        "outputId": "6fe703dc-4830-422a-ee6a-9be53908fe8a"
      },
      "source": [
        "label_seq[:5]"
      ],
      "execution_count": 34,
      "outputs": [
        {
          "output_type": "execute_result",
          "data": {
            "text/plain": [
              "array([ 5,  5, 22, 36, 22])"
            ]
          },
          "metadata": {
            "tags": []
          },
          "execution_count": 34
        }
      ]
    },
    {
      "cell_type": "code",
      "metadata": {
        "id": "GXybe95iZnhn",
        "colab_type": "code",
        "colab": {
          "base_uri": "https://localhost:8080/",
          "height": 36
        },
        "outputId": "076039f3-2943-4332-8460-87b9ddf639b1"
      },
      "source": [
        "max(validation_label_seq)"
      ],
      "execution_count": 35,
      "outputs": [
        {
          "output_type": "execute_result",
          "data": {
            "text/plain": [
              "47"
            ]
          },
          "metadata": {
            "tags": []
          },
          "execution_count": 35
        }
      ]
    },
    {
      "cell_type": "markdown",
      "metadata": {
        "id": "phSLRUweYt-G",
        "colab_type": "text"
      },
      "source": [
        "# transform target to one-hot codification"
      ]
    },
    {
      "cell_type": "markdown",
      "metadata": {
        "id": "I7QYyJBCYt-J",
        "colab_type": "text"
      },
      "source": [
        "## primero crea etiquetas numéricas"
      ]
    },
    {
      "cell_type": "code",
      "metadata": {
        "id": "_5cf3OjTYt-M",
        "colab_type": "code",
        "colab": {}
      },
      "source": [
        "from sklearn. preprocessing import LabelEncoder\n",
        "#preprocessing.LabelEncoder()\n",
        "encoder = LabelEncoder()\n",
        "\n",
        "encoder.fit(label_seq)\n",
        "y_train = encoder.transform(training_label_seq)\n",
        "y_test = encoder.transform(validation_label_seq)"
      ],
      "execution_count": 0,
      "outputs": []
    },
    {
      "cell_type": "code",
      "metadata": {
        "id": "suOM5XzzZsWF",
        "colab_type": "code",
        "colab": {
          "base_uri": "https://localhost:8080/",
          "height": 36
        },
        "outputId": "7806ab62-c7e0-4167-e6ab-41621a92a989"
      },
      "source": [
        "max(y_train)"
      ],
      "execution_count": 37,
      "outputs": [
        {
          "output_type": "execute_result",
          "data": {
            "text/plain": [
              "45"
            ]
          },
          "metadata": {
            "tags": []
          },
          "execution_count": 37
        }
      ]
    },
    {
      "cell_type": "code",
      "metadata": {
        "id": "FbwSw1x9Zt10",
        "colab_type": "code",
        "colab": {
          "base_uri": "https://localhost:8080/",
          "height": 36
        },
        "outputId": "7c51b109-13ed-4f58-b35f-a8f6a3c3dc6d"
      },
      "source": [
        "y_train.shape"
      ],
      "execution_count": 38,
      "outputs": [
        {
          "output_type": "execute_result",
          "data": {
            "text/plain": [
              "(50693,)"
            ]
          },
          "metadata": {
            "tags": []
          },
          "execution_count": 38
        }
      ]
    },
    {
      "cell_type": "code",
      "metadata": {
        "id": "tok5CEBFZuUX",
        "colab_type": "code",
        "colab": {
          "base_uri": "https://localhost:8080/",
          "height": 36
        },
        "outputId": "608c56de-12cb-4371-dc78-b0084917da92"
      },
      "source": [
        "y_train"
      ],
      "execution_count": 39,
      "outputs": [
        {
          "output_type": "execute_result",
          "data": {
            "text/plain": [
              "array([ 3,  3, 20, ..., 17, 17, 17])"
            ]
          },
          "metadata": {
            "tags": []
          },
          "execution_count": 39
        }
      ]
    },
    {
      "cell_type": "code",
      "metadata": {
        "id": "NCzU80RNZwvI",
        "colab_type": "code",
        "colab": {
          "base_uri": "https://localhost:8080/",
          "height": 36
        },
        "outputId": "7877198c-f551-40da-e82e-142b02adbdd1"
      },
      "source": [
        "y_test"
      ],
      "execution_count": 40,
      "outputs": [
        {
          "output_type": "execute_result",
          "data": {
            "text/plain": [
              "array([0, 0, 0, ..., 1, 2, 1])"
            ]
          },
          "metadata": {
            "tags": []
          },
          "execution_count": 40
        }
      ]
    },
    {
      "cell_type": "markdown",
      "metadata": {
        "id": "gz8EKx7MYt-t",
        "colab_type": "text"
      },
      "source": [
        "## one hot"
      ]
    },
    {
      "cell_type": "code",
      "metadata": {
        "id": "_vVEA4IBYt-w",
        "colab_type": "code",
        "colab": {}
      },
      "source": [
        "# Converts the labels to a one-hot representation\n",
        "num_classes = np.max(y_train) + 1\n",
        "y_train = tf.keras.utils.to_categorical(y_train, num_classes)\n",
        "y_test = tf.keras.utils.to_categorical(y_test, num_classes)"
      ],
      "execution_count": 0,
      "outputs": []
    },
    {
      "cell_type": "code",
      "metadata": {
        "id": "7Vd3HsZ0Z0Dp",
        "colab_type": "code",
        "colab": {
          "base_uri": "https://localhost:8080/",
          "height": 36
        },
        "outputId": "33efafc9-680b-43cf-9ea7-723e215d7925"
      },
      "source": [
        "num_classes"
      ],
      "execution_count": 42,
      "outputs": [
        {
          "output_type": "execute_result",
          "data": {
            "text/plain": [
              "46"
            ]
          },
          "metadata": {
            "tags": []
          },
          "execution_count": 42
        }
      ]
    },
    {
      "cell_type": "code",
      "metadata": {
        "id": "Yopg3sD-Yt_I",
        "colab_type": "code",
        "colab": {
          "base_uri": "https://localhost:8080/",
          "height": 36
        },
        "outputId": "63cbc4f7-e655-4e2b-e746-451c6d1441ce"
      },
      "source": [
        "y_train.shape"
      ],
      "execution_count": 43,
      "outputs": [
        {
          "output_type": "execute_result",
          "data": {
            "text/plain": [
              "(50693, 46)"
            ]
          },
          "metadata": {
            "tags": []
          },
          "execution_count": 43
        }
      ]
    },
    {
      "cell_type": "code",
      "metadata": {
        "id": "mRFAcCwQZ1lF",
        "colab_type": "code",
        "colab": {
          "base_uri": "https://localhost:8080/",
          "height": 73
        },
        "outputId": "a931a25b-0263-4f3d-e322-eb7b64dc6125"
      },
      "source": [
        "y_train[0]"
      ],
      "execution_count": 44,
      "outputs": [
        {
          "output_type": "execute_result",
          "data": {
            "text/plain": [
              "array([0., 0., 0., 1., 0., 0., 0., 0., 0., 0., 0., 0., 0., 0., 0., 0., 0.,\n",
              "       0., 0., 0., 0., 0., 0., 0., 0., 0., 0., 0., 0., 0., 0., 0., 0., 0.,\n",
              "       0., 0., 0., 0., 0., 0., 0., 0., 0., 0., 0., 0.], dtype=float32)"
            ]
          },
          "metadata": {
            "tags": []
          },
          "execution_count": 44
        }
      ]
    },
    {
      "cell_type": "code",
      "metadata": {
        "id": "nHwXnWwnZ3Gk",
        "colab_type": "code",
        "colab": {
          "base_uri": "https://localhost:8080/",
          "height": 73
        },
        "outputId": "4daec75e-3f73-45b0-c459-d31454a9112e"
      },
      "source": [
        "y_test[0]"
      ],
      "execution_count": 45,
      "outputs": [
        {
          "output_type": "execute_result",
          "data": {
            "text/plain": [
              "array([1., 0., 0., 0., 0., 0., 0., 0., 0., 0., 0., 0., 0., 0., 0., 0., 0.,\n",
              "       0., 0., 0., 0., 0., 0., 0., 0., 0., 0., 0., 0., 0., 0., 0., 0., 0.,\n",
              "       0., 0., 0., 0., 0., 0., 0., 0., 0., 0., 0., 0.], dtype=float32)"
            ]
          },
          "metadata": {
            "tags": []
          },
          "execution_count": 45
        }
      ]
    },
    {
      "cell_type": "markdown",
      "metadata": {
        "id": "yVPb8wDDZ7j4",
        "colab_type": "text"
      },
      "source": [
        "## Modelo\n",
        "- con dropout y con conv1d 0.4163\n",
        "- sin dropout y con conv1d 0.4219\n",
        "- con dropout y sin conv1d 0.3744\n",
        "- sin dropout y sin conv1d 0.3736"
      ]
    },
    {
      "cell_type": "code",
      "metadata": {
        "colab_type": "code",
        "id": "HZ5um4MWZP-W",
        "outputId": "70c7eb51-450e-4faa-8950-6691eb974afc",
        "colab": {
          "base_uri": "https://localhost:8080/",
          "height": 354
        }
      },
      "source": [
        "model = tf.keras.Sequential([\n",
        "    tf.keras.layers.Embedding(vocab_size, embedding_dim, input_length=max_length),\n",
        "    #tf.keras.layers.Bidirectional(tf.keras.layers.LSTM(120, return_sequences=True)),\n",
        "    tf.keras.layers.Conv1D(128, 5, activation='relu'),\n",
        "    tf.keras.layers.GlobalAveragePooling1D(),\n",
        "    #tf.keras.layers.Dropout(0.1),\n",
        "    tf.keras.layers.Dense(128, activation='relu'),\n",
        "    tf.keras.layers.Dense(46, activation='softmax')\n",
        "])\n",
        "model.compile(loss='categorical_crossentropy',optimizer='adam',metrics=['accuracy'])\n",
        "model.summary()"
      ],
      "execution_count": 49,
      "outputs": [
        {
          "output_type": "stream",
          "text": [
            "Model: \"sequential_1\"\n",
            "_________________________________________________________________\n",
            "Layer (type)                 Output Shape              Param #   \n",
            "=================================================================\n",
            "embedding_1 (Embedding)      (None, 120, 32)           64000     \n",
            "_________________________________________________________________\n",
            "conv1d_1 (Conv1D)            (None, 116, 128)          20608     \n",
            "_________________________________________________________________\n",
            "global_average_pooling1d_1 ( (None, 128)               0         \n",
            "_________________________________________________________________\n",
            "dense_2 (Dense)              (None, 128)               16512     \n",
            "_________________________________________________________________\n",
            "dense_3 (Dense)              (None, 46)                5934      \n",
            "=================================================================\n",
            "Total params: 107,054\n",
            "Trainable params: 107,054\n",
            "Non-trainable params: 0\n",
            "_________________________________________________________________\n"
          ],
          "name": "stdout"
        }
      ]
    },
    {
      "cell_type": "markdown",
      "metadata": {
        "id": "EqT9Muf-aFYP",
        "colab_type": "text"
      },
      "source": [
        "## Entrenamos el modelo"
      ]
    },
    {
      "cell_type": "code",
      "metadata": {
        "colab_type": "code",
        "id": "XsfdxySKZSXu",
        "outputId": "ee5a10b5-308e-45d6-9c78-25d212a38b84",
        "colab": {
          "base_uri": "https://localhost:8080/",
          "height": 766
        }
      },
      "source": [
        "num_epochs = 20\n",
        "history = model.fit(train_padded, y_train, epochs=num_epochs, validation_data=(validation_padded, y_test), verbose=2)"
      ],
      "execution_count": 51,
      "outputs": [
        {
          "output_type": "stream",
          "text": [
            "Epoch 1/20\n",
            "1585/1585 - 16s - loss: 2.5624 - accuracy: 0.2949 - val_loss: 2.5378 - val_accuracy: 0.3045\n",
            "Epoch 2/20\n",
            "1585/1585 - 16s - loss: 2.4922 - accuracy: 0.3109 - val_loss: 2.5084 - val_accuracy: 0.3045\n",
            "Epoch 3/20\n",
            "1585/1585 - 16s - loss: 2.4476 - accuracy: 0.3247 - val_loss: 2.4855 - val_accuracy: 0.3188\n",
            "Epoch 4/20\n",
            "1585/1585 - 17s - loss: 2.4017 - accuracy: 0.3407 - val_loss: 2.4840 - val_accuracy: 0.3237\n",
            "Epoch 5/20\n",
            "1585/1585 - 16s - loss: 2.3641 - accuracy: 0.3523 - val_loss: 2.4669 - val_accuracy: 0.3344\n",
            "Epoch 6/20\n",
            "1585/1585 - 16s - loss: 2.3273 - accuracy: 0.3619 - val_loss: 2.4476 - val_accuracy: 0.3299\n",
            "Epoch 7/20\n",
            "1585/1585 - 16s - loss: 2.2893 - accuracy: 0.3713 - val_loss: 2.4437 - val_accuracy: 0.3390\n",
            "Epoch 8/20\n",
            "1585/1585 - 16s - loss: 2.2535 - accuracy: 0.3801 - val_loss: 2.4391 - val_accuracy: 0.3326\n",
            "Epoch 9/20\n",
            "1585/1585 - 16s - loss: 2.2240 - accuracy: 0.3857 - val_loss: 2.4593 - val_accuracy: 0.3442\n",
            "Epoch 10/20\n",
            "1585/1585 - 16s - loss: 2.1994 - accuracy: 0.3905 - val_loss: 2.4587 - val_accuracy: 0.3416\n",
            "Epoch 11/20\n",
            "1585/1585 - 16s - loss: 2.1775 - accuracy: 0.3973 - val_loss: 2.4632 - val_accuracy: 0.3401\n",
            "Epoch 12/20\n",
            "1585/1585 - 16s - loss: 2.1564 - accuracy: 0.4003 - val_loss: 2.4809 - val_accuracy: 0.3408\n",
            "Epoch 13/20\n",
            "1585/1585 - 16s - loss: 2.1362 - accuracy: 0.4056 - val_loss: 2.4836 - val_accuracy: 0.3394\n",
            "Epoch 14/20\n",
            "1585/1585 - 16s - loss: 2.1166 - accuracy: 0.4086 - val_loss: 2.5108 - val_accuracy: 0.3359\n",
            "Epoch 15/20\n",
            "1585/1585 - 16s - loss: 2.0971 - accuracy: 0.4140 - val_loss: 2.5159 - val_accuracy: 0.3375\n",
            "Epoch 16/20\n",
            "1585/1585 - 16s - loss: 2.0768 - accuracy: 0.4197 - val_loss: 2.5469 - val_accuracy: 0.3329\n",
            "Epoch 17/20\n",
            "1585/1585 - 16s - loss: 2.0550 - accuracy: 0.4254 - val_loss: 2.5551 - val_accuracy: 0.3255\n",
            "Epoch 18/20\n",
            "1585/1585 - 16s - loss: 2.0342 - accuracy: 0.4295 - val_loss: 2.5754 - val_accuracy: 0.3310\n",
            "Epoch 19/20\n",
            "1585/1585 - 16s - loss: 2.0110 - accuracy: 0.4362 - val_loss: 2.5997 - val_accuracy: 0.3252\n",
            "Epoch 20/20\n",
            "1585/1585 - 17s - loss: 1.9885 - accuracy: 0.4426 - val_loss: 2.6340 - val_accuracy: 0.3319\n"
          ],
          "name": "stdout"
        }
      ]
    },
    {
      "cell_type": "markdown",
      "metadata": {
        "id": "K0YQhVzoaLQL",
        "colab_type": "text"
      },
      "source": [
        "## Graficamos"
      ]
    },
    {
      "cell_type": "code",
      "metadata": {
        "id": "Xn7rCBByaOll",
        "colab_type": "code",
        "colab": {
          "base_uri": "https://localhost:8080/",
          "height": 74
        },
        "outputId": "03791013-e83b-4770-a5c9-26a9d376bfb8"
      },
      "source": [
        "string='accuracy'\n",
        "print(history.history[string])\n",
        "print(history.history['val_'+string])"
      ],
      "execution_count": 52,
      "outputs": [
        {
          "output_type": "stream",
          "text": [
            "[0.2948927879333496, 0.3108910620212555, 0.3246799409389496, 0.34073737263679504, 0.3523366153240204, 0.36188429594039917, 0.3712741434574127, 0.38005247712135315, 0.38565483689308167, 0.3905470073223114, 0.3972540497779846, 0.40033140778541565, 0.40559840202331543, 0.4085771143436432, 0.4140413999557495, 0.4196634590625763, 0.42538416385650635, 0.4294675886631012, 0.43615490198135376, 0.44260549545288086]\n",
            "[0.3044816255569458, 0.3044816255569458, 0.31876280903816223, 0.3237336277961731, 0.33438536524772644, 0.3298879563808441, 0.338961660861969, 0.3325706124305725, 0.34416916966438293, 0.3416443169116974, 0.34014517068862915, 0.34077638387680054, 0.3393561542034149, 0.3358844816684723, 0.33746251463890076, 0.3328862190246582, 0.3254694640636444, 0.33099257946014404, 0.32523277401924133, 0.3319393992424011]\n"
          ],
          "name": "stdout"
        }
      ]
    },
    {
      "cell_type": "code",
      "metadata": {
        "colab_type": "code",
        "id": "dQ0BX2apXS9u",
        "outputId": "75bff04e-a165-4a20-f23b-f27acf7e7fc2",
        "colab": {
          "base_uri": "https://localhost:8080/",
          "height": 573
        }
      },
      "source": [
        "import matplotlib.pyplot as plt\n",
        "\n",
        "def plot_graphs(history, string):\n",
        "  plt.title(string+' con 3 epochs')\n",
        "  plt.plot(history.history[string])\n",
        "  plt.plot(history.history['val_'+string])\n",
        "  plt.xlabel(\"Epochs\")\n",
        "  plt.ylabel(string)\n",
        "  plt.legend([string, 'val_'+string])\n",
        "  plt.show()\n",
        "  \n",
        "plot_graphs(history, \"accuracy\")\n",
        "plot_graphs(history, \"loss\")"
      ],
      "execution_count": 53,
      "outputs": [
        {
          "output_type": "display_data",
          "data": {
            "image/png": "[encoded data removed]",
            "text/plain": [
              "<Figure size 432x288 with 1 Axes>"
            ]
          },
          "metadata": {
            "tags": [],
            "needs_background": "light"
          }
        },
        {
          "output_type": "display_data",
          "data": {
            "image/png": "[encoded data removed]",
            "text/plain": [
              "<Figure size 432x288 with 1 Axes>"
            ]
          },
          "metadata": {
            "tags": [],
            "needs_background": "light"
          }
        }
      ]
    },
    {
      "cell_type": "code",
      "metadata": {
        "colab_type": "code",
        "id": "w7Xc-uWxXhML",
        "colab": {
          "base_uri": "https://localhost:8080/",
          "height": 36
        },
        "outputId": "89854851-51f5-4d9f-9380-80dd7e1106cc"
      },
      "source": [
        "#convierte palabras en texto (NO LO USAMOS AÚN)\n",
        "reverse_word_index = dict([(value, key) for (key, value) in word_index.items()])\n",
        "\n",
        "def decode_sentence(text):\n",
        "    return ' '.join([reverse_word_index.get(i, '?') for i in text])\n",
        "\n",
        "decode_sentence([862, 54])"
      ],
      "execution_count": 54,
      "outputs": [
        {
          "output_type": "execute_result",
          "data": {
            "text/plain": [
              "'mel and'"
            ]
          },
          "metadata": {
            "tags": []
          },
          "execution_count": 54
        }
      ]
    },
    {
      "cell_type": "code",
      "metadata": {
        "colab_type": "code",
        "id": "OhnFA_TDXrih",
        "outputId": "657eeba9-d535-4f1d-c74b-44d968762119",
        "colab": {
          "base_uri": "https://localhost:8080/",
          "height": 36
        }
      },
      "source": [
        "#Pesos de la primera capa\n",
        "e = model.layers[0]\n",
        "weights = e.get_weights()[0]\n",
        "print(weights.shape) # shape: (vocab_size, embedding_dim)\n",
        "\n",
        "# Expected output\n",
        "# (1000, 16)"
      ],
      "execution_count": 55,
      "outputs": [
        {
          "output_type": "stream",
          "text": [
            "(2000, 32)\n"
          ],
          "name": "stdout"
        }
      ]
    },
    {
      "cell_type": "code",
      "metadata": {
        "id": "SHeoADFtaX0P",
        "colab_type": "code",
        "colab": {
          "base_uri": "https://localhost:8080/",
          "height": 261
        },
        "outputId": "79cac99c-33c6-46a3-c242-9963c747c339"
      },
      "source": [
        "weights"
      ],
      "execution_count": 56,
      "outputs": [
        {
          "output_type": "execute_result",
          "data": {
            "text/plain": [
              "array([[ 0.00367128,  0.0114666 , -0.01091274, ..., -0.00471344,\n",
              "        -0.00608981,  0.02820704],\n",
              "       [ 0.01789864, -0.05693325, -0.12383022, ..., -0.00843174,\n",
              "        -0.10717376,  0.07504049],\n",
              "       [ 0.00535068, -0.05051078, -0.11026265, ...,  0.13023284,\n",
              "         0.00814539, -0.19917849],\n",
              "       ...,\n",
              "       [-0.30683148,  0.26725328,  0.48321658, ..., -0.18016256,\n",
              "         0.5726222 , -0.33187744],\n",
              "       [-0.21256399,  0.1127148 ,  0.00202595, ..., -0.304447  ,\n",
              "         0.08469611, -0.02234559],\n",
              "       [ 0.34432942, -0.47760317,  0.05882861, ...,  0.34497362,\n",
              "         0.16648833,  0.02965303]], dtype=float32)"
            ]
          },
          "metadata": {
            "tags": []
          },
          "execution_count": 56
        }
      ]
    },
    {
      "cell_type": "markdown",
      "metadata": {
        "id": "oyMnH7jUaabc",
        "colab_type": "text"
      },
      "source": [
        "## funcion clasificadora"
      ]
    },
    {
      "cell_type": "code",
      "metadata": {
        "id": "8It73iQUaeyA",
        "colab_type": "code",
        "colab": {
          "base_uri": "https://localhost:8080/",
          "height": 54
        },
        "outputId": "2e1f6fc5-e93c-4f19-d2ee-2f4096972cb5"
      },
      "source": [
        "validation_sentences[:2]"
      ],
      "execution_count": 57,
      "outputs": [
        {
          "output_type": "execute_result",
          "data": {
            "text/plain": [
              "['waitll moe sees wasted got without hes gonna plotz',\n",
              " 'you guys nuts can eat sleep mate roll around filth mate eat sign up']"
            ]
          },
          "metadata": {
            "tags": []
          },
          "execution_count": 57
        }
      ]
    },
    {
      "cell_type": "code",
      "metadata": {
        "id": "3I7Em3Lmafhe",
        "colab_type": "code",
        "colab": {
          "base_uri": "https://localhost:8080/",
          "height": 112
        },
        "outputId": "e1742169-f47f-4bc6-d9c4-f54def424ce7"
      },
      "source": [
        "sq = model.predict_classes(validation_padded[:2])\n",
        "sq"
      ],
      "execution_count": 58,
      "outputs": [
        {
          "output_type": "stream",
          "text": [
            "WARNING:tensorflow:From <ipython-input-58-69e49a99e83a>:1: Sequential.predict_classes (from tensorflow.python.keras.engine.sequential) is deprecated and will be removed after 2021-01-01.\n",
            "Instructions for updating:\n",
            "Please use instead:* `np.argmax(model.predict(x), axis=-1)`,   if your model does multi-class classification   (e.g. if it uses a `softmax` last-layer activation).* `(model.predict(x) > 0.5).astype(\"int32\")`,   if your model does binary classification   (e.g. if it uses a `sigmoid` last-layer activation).\n"
          ],
          "name": "stdout"
        },
        {
          "output_type": "execute_result",
          "data": {
            "text/plain": [
              "array([0, 0])"
            ]
          },
          "metadata": {
            "tags": []
          },
          "execution_count": 58
        }
      ]
    },
    {
      "cell_type": "code",
      "metadata": {
        "id": "DWlPkmnkaiLo",
        "colab_type": "code",
        "colab": {
          "base_uri": "https://localhost:8080/",
          "height": 36
        },
        "outputId": "2b7953ec-0a2b-4fdd-ba5e-f339a573964b"
      },
      "source": [
        "label_tokenizer.sequences_to_texts([sq])"
      ],
      "execution_count": 59,
      "outputs": [
        {
          "output_type": "execute_result",
          "data": {
            "text/plain": [
              "['<OOV> <OOV>']"
            ]
          },
          "metadata": {
            "tags": []
          },
          "execution_count": 59
        }
      ]
    },
    {
      "cell_type": "code",
      "metadata": {
        "id": "tZoQ6dLEakv9",
        "colab_type": "code",
        "colab": {}
      },
      "source": [
        "def classifier (sentence): \n",
        "  sentences = []\n",
        "  sentence_l = re.sub(' +', ' ',sentence.lower())\n",
        "  sentence = ''.join(c for c in sentence_l if c in printable)\n",
        "  # preprocess stopwords\n",
        "  for word in stopwords:\n",
        "    token = \" \" + word + \" \"\n",
        "    sentence = sentence.replace(token, \" \")\n",
        "  sentences.append(sentence)\n",
        "\n",
        "  sentences = tokenizer.texts_to_sequences(sentences) #transforms each text in texts to a sequence of integers\n",
        "  sentences_padded = np.array(pad_sequences(sentences, padding=padding_type, maxlen=max_length))\n",
        "\n",
        "  #prob = model.predict(sentences_padded)\n",
        "  prediction = model.predict_classes(sentences_padded)\n",
        "  prediction = label_tokenizer.sequences_to_texts([prediction])\n",
        "\n",
        "  return prediction"
      ],
      "execution_count": 0,
      "outputs": []
    },
    {
      "cell_type": "code",
      "metadata": {
        "id": "u_SqQX2talns",
        "colab_type": "code",
        "colab": {
          "base_uri": "https://localhost:8080/",
          "height": 36
        },
        "outputId": "df1955e6-5727-44b7-a424-71bb57a12b80"
      },
      "source": [
        "classifier('are you sure lord')"
      ],
      "execution_count": 61,
      "outputs": [
        {
          "output_type": "execute_result",
          "data": {
            "text/plain": [
              "['<OOV>']"
            ]
          },
          "metadata": {
            "tags": []
          },
          "execution_count": 61
        }
      ]
    },
    {
      "cell_type": "code",
      "metadata": {
        "id": "XYpl7SD3al7X",
        "colab_type": "code",
        "colab": {
          "base_uri": "https://localhost:8080/",
          "height": 36
        },
        "outputId": "a696a461-edbc-495b-c559-20efe15adcea"
      },
      "source": [
        "classifier('can his funeral be on a school day')"
      ],
      "execution_count": 62,
      "outputs": [
        {
          "output_type": "execute_result",
          "data": {
            "text/plain": [
              "['homer_simpson']"
            ]
          },
          "metadata": {
            "tags": []
          },
          "execution_count": 62
        }
      ]
    },
    {
      "cell_type": "code",
      "metadata": {
        "id": "K0P7mwFJapkm",
        "colab_type": "code",
        "colab": {
          "base_uri": "https://localhost:8080/",
          "height": 36
        },
        "outputId": "5178ed8e-0749-4baa-ab84-2a7f1703bbba"
      },
      "source": [
        "classifier(\"We should go to the bar\")"
      ],
      "execution_count": 64,
      "outputs": [
        {
          "output_type": "execute_result",
          "data": {
            "text/plain": [
              "['<OOV>']"
            ]
          },
          "metadata": {
            "tags": []
          },
          "execution_count": 64
        }
      ]
    },
    {
      "cell_type": "markdown",
      "metadata": {
        "id": "VtgyWMk9asgv",
        "colab_type": "text"
      },
      "source": [
        "## exportar archivos"
      ]
    },
    {
      "cell_type": "code",
      "metadata": {
        "colab_type": "code",
        "id": "_POzcWWAXudL",
        "colab": {}
      },
      "source": [
        "import io\n",
        "\n",
        "out_v = io.open('vecs.tsv', 'w', encoding='utf-8')\n",
        "out_m = io.open('meta.tsv', 'w', encoding='utf-8')\n",
        "for word_num in range(1, vocab_size):\n",
        "  word = reverse_word_index[word_num]\n",
        "  embeddings = weights[word_num]\n",
        "  out_m.write(word + \"\\n\")\n",
        "  out_v.write('\\t'.join([str(x) for x in embeddings]) + \"\\n\")\n",
        "out_v.close()\n",
        "out_m.close()"
      ],
      "execution_count": 0,
      "outputs": []
    },
    {
      "cell_type": "code",
      "metadata": {
        "colab_type": "code",
        "id": "VmqpQMZ_XyOa",
        "colab": {}
      },
      "source": [
        "try:\n",
        "  from google.colab import files\n",
        "except ImportError:\n",
        "  pass\n",
        "else:\n",
        "  files.download('vecs.tsv')\n",
        "  files.download('meta.tsv')"
      ],
      "execution_count": 0,
      "outputs": []
    },
    {
      "cell_type": "markdown",
      "metadata": {
        "id": "6Tz7DnMQYuBp",
        "colab_type": "text"
      },
      "source": [
        "## Referencias\n",
        "- Aprendizaje profundo, [Ciencia de datos](https://github.com/AprendizajeProfundo/Ciencia-de-Datos/tree/master/Cuadernos)"
      ]
    }
  ]
}