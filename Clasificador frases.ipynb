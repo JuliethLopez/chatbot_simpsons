{
  "nbformat": 4,
  "nbformat_minor": 0,
  "metadata": {
    "accelerator": "GPU",
    "colab": {
      "name": "BBC_Text.ipynb",
      "provenance": [],
      "collapsed_sections": [],
      "toc_visible": true
    },
    "kernelspec": {
      "display_name": "Python 3",
      "language": "python",
      "name": "python3"
    },
    "language_info": {
      "codemirror_mode": {
        "name": "ipython",
        "version": 3
      },
      "file_extension": ".py",
      "mimetype": "text/x-python",
      "name": "python",
      "nbconvert_exporter": "python",
      "pygments_lexer": "ipython3",
      "version": "3.7.4"
    }
  },
  "cells": [
    {
      "cell_type": "markdown",
      "metadata": {
        "id": "PpX0X6gZYt2Y",
        "colab_type": "text"
      },
      "source": [
        "<a href=\"https://colab.research.google.com/github/JuliethLopez/chatbot_simpsons/blob/master/Clasificador%20frases.ipynb\" target=\"_parent\"><img src=\"https://colab.research.google.com/assets/colab-badge.svg\" alt=\"Open In Colab\"/></a>"
      ]
    },
    {
      "cell_type": "markdown",
      "metadata": {
        "id": "UMKMq626ax3b",
        "colab_type": "text"
      },
      "source": [
        "# Clasificación usando Lenguaje Natural"
      ]
    },
    {
      "cell_type": "code",
      "metadata": {
        "colab_type": "code",
        "id": "GSfreYDvYt3M",
        "colab": {}
      },
      "source": [
        "#librerias\n",
        "import csv\n",
        "import tensorflow as tf\n",
        "import numpy as np\n",
        "from tensorflow.keras.preprocessing.text import Tokenizer\n",
        "from tensorflow.keras.preprocessing.sequence import pad_sequences"
      ],
      "execution_count": 0,
      "outputs": []
    },
    {
      "cell_type": "markdown",
      "metadata": {
        "id": "dLUigGjXYt3r",
        "colab_type": "text"
      },
      "source": [
        "# Define algunas características iniciales"
      ]
    },
    {
      "cell_type": "code",
      "metadata": {
        "colab_type": "code",
        "id": "EYo6A4v5ZABQ",
        "colab": {}
      },
      "source": [
        "vocab_size = 2000 # número de palabras que integrarán el vocabulario\n",
        "embedding_dim = 32 # dimensión del embeding de las palabras\n",
        "max_length = 120  # longitud máxima de una oración (sentence filtrada con stopwords)\n",
        "trunc_type='post' # donde truncar una oración (sentence, filtrada con stopwords)\n",
        "padding_type='post'# donde hacer el padding (agregar ceros) en una oración (sentence, filtrada con stopwords)\n",
        "oov_tok = \"<OOV>\"  # token para las palabras que queden fuera del vocabulario\n",
        "training_portion = .8  # porcentaje de datos para entrenamiento"
      ],
      "execution_count": 0,
      "outputs": []
    },
    {
      "cell_type": "code",
      "metadata": {
        "colab_type": "code",
        "id": "iU1qq3_SZBx_",
        "outputId": "f1c698b3-9284-49b9-f0a9-5844053256bb",
        "colab": {
          "base_uri": "https://localhost:8080/",
          "height": 36
        }
      },
      "source": [
        "complete_sentences = []\n",
        "complete_lines = [] \n",
        "sentences = []\n",
        "labels = [] # preprocesed labels\n",
        "\n",
        "stopwords = [ \"a\", \"about\", \"above\", \"after\", \"again\", \"against\", \"all\", \"am\", \"an\", \"and\", \"any\", \"are\", \"as\", \"at\", \"be\", \"because\", \"been\", \"before\", \"being\", \"below\", \"between\", \"both\", \"but\", \"by\", \"could\", \"did\", \"do\", \"does\", \"doing\", \"down\", \"during\", \"each\", \"few\", \"for\", \"from\", \"further\", \"had\", \"has\", \"have\", \"having\", \"he\", \"he'd\", \"he'll\", \"he's\", \"her\", \"here\", \"here's\", \"hers\", \"herself\", \"him\", \"himself\", \"his\", \"how\", \"how's\", \"i\", \"i'd\", \"i'll\", \"i'm\", \"i've\", \"if\", \"in\", \"into\", \"is\", \"it\", \"it's\", \"its\", \"itself\", \"let's\", \"me\", \"more\", \"most\", \"my\", \"myself\", \"nor\", \"of\", \"on\", \"once\", \"only\", \"or\", \"other\", \"ought\", \"our\", \"ours\", \"ourselves\", \"out\", \"over\", \"own\", \"same\", \"she\", \"she'd\", \"she'll\", \"she's\", \"should\", \"so\", \"some\", \"such\", \"than\", \"that\", \"that's\", \"the\", \"their\", \"theirs\", \"them\", \"themselves\", \"then\", \"there\", \"there's\", \"these\", \"they\", \"they'd\", \"they'll\", \"they're\", \"they've\", \"this\", \"those\", \"through\", \"to\", \"too\", \"under\", \"until\", \"up\", \"very\", \"was\", \"we\", \"we'd\", \"we'll\", \"we're\", \"we've\", \"were\", \"what\", \"what's\", \"when\", \"when's\", \"where\", \"where's\", \"which\", \"while\", \"who\", \"who's\", \"whom\", \"why\", \"why's\", \"with\", \"would\", \"you\", \"you'd\", \"you'll\", \"you're\", \"you've\", \"your\", \"yours\", \"yourself\", \"yourselves\" ]\n",
        "print(len(stopwords))"
      ],
      "execution_count": 15,
      "outputs": [
        {
          "output_type": "stream",
          "text": [
            "153\n"
          ],
          "name": "stdout"
        }
      ]
    },
    {
      "cell_type": "code",
      "metadata": {
        "id": "9QFugJkmYt4n",
        "colab_type": "code",
        "colab": {
          "base_uri": "https://localhost:8080/",
          "height": 73
        },
        "outputId": "28e34e01-8862-45d0-8969-cb33d397b6af"
      },
      "source": [
        "import string\n",
        "import numpy as np\n",
        "\n",
        "a = np.array([32]) # space\n",
        "#b = np.array(range(65,91)) # uppercase\n",
        "c = np.array(range(97,123)) # lowercase\n",
        "printab = np.hstack((a,c))\n",
        "\n",
        "printable = np.array([chr(i) for i in printab])   \n",
        "printable\n",
        "\n",
        "#ascci_to_char = dict((printab[i], printable[i]) for i in range(len(printable)))"
      ],
      "execution_count": 16,
      "outputs": [
        {
          "output_type": "execute_result",
          "data": {
            "text/plain": [
              "array([' ', 'a', 'b', 'c', 'd', 'e', 'f', 'g', 'h', 'i', 'j', 'k', 'l',\n",
              "       'm', 'n', 'o', 'p', 'q', 'r', 's', 't', 'u', 'v', 'w', 'x', 'y',\n",
              "       'z'], dtype='<U1')"
            ]
          },
          "metadata": {
            "tags": []
          },
          "execution_count": 16
        }
      ]
    },
    {
      "cell_type": "code",
      "metadata": {
        "colab_type": "code",
        "id": "eutB2xMiZD0e",
        "colab": {}
      },
      "source": [
        "#lectura de los datos\n",
        "import string\n",
        "import re #regular expresions\n",
        "# abre el archivo de datos y lo trata como un archivo csv\n",
        "file = open('DFSMS.csv', 'r')\n",
        "with file as csvfile:\n",
        "    reader = csv.reader(csvfile, delimiter=',')\n",
        "    next(reader)\n",
        "    for row in reader:\n",
        "        # preprocess label\n",
        "        #label_l = ' '.join(row[0].split()).lower().replace(' ','_') # lower case ans eliminate multiple spaces\n",
        "        label_l = re.sub(' +', ' ',row[0].lower()) # lower case ans eliminate multiple spaces\n",
        "        if (len(label_l)>2): # drop with empty label\n",
        "            label = ''.join(c for c in label_l if c in printable)# filter only printable characters\n",
        "            label = label.replace(' ','_')\n",
        "            labels.append(label)\n",
        "            # preprocess sentence\n",
        "            #sentence_l = ' '.join(row[1].split()).lower().replace(' ','_') # lower case ans eliminate multiple spaces\n",
        "            sentence_l = re.sub(' +', ' ',row[1].lower())\n",
        "            sentence = ''.join(c for c in sentence_l if c in printable)\n",
        "            complete_lines.append(row[0] + ': '+ row[1])\n",
        "            complete_sentences.append(sentence)\n",
        "            # preprocess stopwords\n",
        "            for word in stopwords:\n",
        "                token = \" \" + word + \" \"\n",
        "                sentence = sentence.replace(token, \" \")\n",
        "            sentences.append(sentence)\n",
        " \n",
        "\n",
        "# resumen de la lectura            \n",
        "print(len(labels))\n",
        "print(len(complete_sentences))\n",
        "print(len(complete_lines))\n",
        "print(len(sentences))\n",
        "# Expected Output\n",
        "# 158314"
      ],
      "execution_count": 0,
      "outputs": []
    },
    {
      "cell_type": "code",
      "metadata": {
        "colab_type": "code",
        "id": "mHP5HqP4Yt5U",
        "colab": {}
      },
      "source": [
        "# primera linea\n",
        "print(labels[0]+'\\n')\n",
        "print(complete_sentences[0]+'\\n')\n",
        "print(complete_lines[0]+'\\n')\n",
        "print(sentences[0]+'\\n')\n",
        "# Expected Output\n",
        "# 158314\n",
        "# 158314"
      ],
      "execution_count": 0,
      "outputs": []
    },
    {
      "cell_type": "code",
      "metadata": {
        "id": "6Vqqx5Q2Yt5q",
        "colab_type": "code",
        "colab": {}
      },
      "source": [
        "sentences[:4]"
      ],
      "execution_count": 0,
      "outputs": []
    },
    {
      "cell_type": "markdown",
      "metadata": {
        "id": "QH4k5vkXYt6B",
        "colab_type": "text"
      },
      "source": [
        "# Separa datos de entrenamiento y validación "
      ]
    },
    {
      "cell_type": "code",
      "metadata": {
        "colab_type": "code",
        "id": "XfdaWh06ZGe3",
        "colab": {}
      },
      "source": [
        "train_size = int(len(sentences) * training_portion)\n",
        "\n",
        "train_sentences = sentences[:train_size]\n",
        "train_labels = labels[:train_size]\n",
        "\n",
        "validation_sentences = sentences[train_size:]\n",
        "validation_labels = labels[train_size:]\n",
        "\n",
        "print(train_size)\n",
        "print(len(train_sentences))\n",
        "print(len(train_labels))\n",
        "print(len(validation_sentences))\n",
        "print(len(validation_labels))\n",
        "\n",
        "# Expected output (if training_portion=.8)\n",
        "# 126651 train\n",
        "# 31663 validation"
      ],
      "execution_count": 0,
      "outputs": []
    },
    {
      "cell_type": "code",
      "metadata": {
        "id": "eN2cwKFrZL6v",
        "colab_type": "code",
        "colab": {}
      },
      "source": [
        "train_sentences[:3]"
      ],
      "execution_count": 0,
      "outputs": []
    },
    {
      "cell_type": "code",
      "metadata": {
        "id": "u6WfXaF1ZNby",
        "colab_type": "code",
        "colab": {}
      },
      "source": [
        "train_labels[:3]"
      ],
      "execution_count": 0,
      "outputs": []
    },
    {
      "cell_type": "markdown",
      "metadata": {
        "id": "yoa0aOJzYt6c",
        "colab_type": "text"
      },
      "source": [
        "# crea el vocabulario"
      ]
    },
    {
      "cell_type": "code",
      "metadata": {
        "colab_type": "code",
        "id": "ULzA8xhwZI22",
        "colab": {}
      },
      "source": [
        "tokenizer = Tokenizer(num_words = vocab_size, oov_token=oov_tok,split= ' ')\n",
        "tokenizer.fit_on_texts(train_sentences)\n",
        "word_index = tokenizer.word_index\n",
        "\n",
        "train_sequences = tokenizer.texts_to_sequences(train_sentences)\n",
        "train_padded = np.array(pad_sequences(train_sequences, padding=padding_type, maxlen=max_length))"
      ],
      "execution_count": 0,
      "outputs": []
    },
    {
      "cell_type": "code",
      "metadata": {
        "colab_type": "code",
        "id": "BEvslZQ7Yt66",
        "colab": {}
      },
      "source": [
        "print((train_sequences[0]))\n",
        "print(len(train_padded[0]))\n",
        "\n",
        "#print(len(train_sequences[1]))\n",
        "#print(len(train_padded[1]))\n",
        "\n",
        "#print(len(train_sequences[10]))\n",
        "#print(len(train_padded[10]))\n",
        "\n",
        "# Expected Ouput\n",
        "# 12\n",
        "# 120\n",
        "# 3\n",
        "# 120\n",
        "# 10\n",
        "# 120"
      ],
      "execution_count": 0,
      "outputs": []
    },
    {
      "cell_type": "code",
      "metadata": {
        "id": "BoyMoykjYt7N",
        "colab_type": "code",
        "colab": {}
      },
      "source": [
        "train_sequences[:2]"
      ],
      "execution_count": 0,
      "outputs": []
    },
    {
      "cell_type": "code",
      "metadata": {
        "colab_type": "code",
        "id": "AS43m4iEYt7-",
        "colab": {}
      },
      "source": [
        "train_padded[:2]"
      ],
      "execution_count": 0,
      "outputs": []
    },
    {
      "cell_type": "code",
      "metadata": {
        "colab_type": "code",
        "id": "c8PeFWzPZLW_",
        "colab": {}
      },
      "source": [
        "validation_sequences = tokenizer.texts_to_sequences(validation_sentences)\n",
        "validation_padded = np.array(pad_sequences(validation_sequences, padding=padding_type, maxlen=max_length))\n"
      ],
      "execution_count": 0,
      "outputs": []
    },
    {
      "cell_type": "code",
      "metadata": {
        "colab_type": "code",
        "id": "-BQ_jql1Yt8p",
        "colab": {}
      },
      "source": [
        "validation_sequences[:2]\n",
        "\n",
        "# Expected output\n",
        "# 31663\n",
        "# (31663, 120)"
      ],
      "execution_count": 0,
      "outputs": []
    },
    {
      "cell_type": "code",
      "metadata": {
        "id": "jEF78gjcZdPy",
        "colab_type": "code",
        "colab": {}
      },
      "source": [
        "validation_padded[:2]"
      ],
      "execution_count": 0,
      "outputs": []
    },
    {
      "cell_type": "code",
      "metadata": {
        "id": "1ix4eYl0ZhNS",
        "colab_type": "code",
        "colab": {}
      },
      "source": [
        "print(len(validation_sequences))\n",
        "print(validation_padded.shape)\n",
        "\n",
        "# Expected output\n",
        "# 31663\n",
        "# (31663, 120)"
      ],
      "execution_count": 0,
      "outputs": []
    },
    {
      "cell_type": "code",
      "metadata": {
        "colab_type": "code",
        "id": "XkWiQ_FKZNp2",
        "colab": {}
      },
      "source": [
        "label_size = 500\n",
        "#filters='!\"#$%&()*+,-./:;<=>?@[\\\\]^_`{|}~\\t\\n'\n",
        "label_tokenizer = Tokenizer(num_words = label_size,oov_token=oov_tok, filters = '')\n",
        "label_tokenizer.fit_on_texts(labels)\n",
        "\n",
        "label_seq = np.array(label_tokenizer.texts_to_sequences(labels))\n",
        "training_label_seq = np.array(label_tokenizer.texts_to_sequences(train_labels))\n",
        "validation_label_seq = np.array(label_tokenizer.texts_to_sequences(validation_labels))\n",
        "\n",
        "print(training_label_seq[0])\n",
        "print(training_label_seq[1])\n",
        "print(training_label_seq[2])\n",
        "print(training_label_seq[3])\n",
        "print(training_label_seq[5])\n",
        "print(training_label_seq.shape)\n",
        "\n",
        "print(validation_label_seq[0])\n",
        "print(validation_label_seq[1])\n",
        "print(validation_label_seq[2])\n",
        "print(validation_label_seq[3])\n",
        "print(validation_label_seq[5])\n",
        "print(validation_label_seq.shape)\n",
        "\n",
        "# Expected output\n",
        "# [4]\n",
        "# [2]\n",
        "# [1]\n",
        "# (1780, 1)\n",
        "# [5]\n",
        "# [4]\n",
        "# [3]\n",
        "# (445, 1)"
      ],
      "execution_count": 0,
      "outputs": []
    },
    {
      "cell_type": "code",
      "metadata": {
        "id": "ZMoLz57_Yt9J",
        "colab_type": "code",
        "colab": {}
      },
      "source": [
        "# flatten the nested list and tranaform to an np array\n",
        "label_seq = np.array([item for items in label_seq for item in items])\n",
        "training_label_seq = np.array([item for items in training_label_seq for item in items])\n",
        "validation_label_seq = np.array([item for items in validation_label_seq for item in items])\n"
      ],
      "execution_count": 0,
      "outputs": []
    },
    {
      "cell_type": "code",
      "metadata": {
        "id": "7doOXbZvZmfP",
        "colab_type": "code",
        "colab": {}
      },
      "source": [
        "label_seq[:5]"
      ],
      "execution_count": 0,
      "outputs": []
    },
    {
      "cell_type": "code",
      "metadata": {
        "id": "GXybe95iZnhn",
        "colab_type": "code",
        "colab": {}
      },
      "source": [
        "max(validation_label_seq)"
      ],
      "execution_count": 0,
      "outputs": []
    },
    {
      "cell_type": "markdown",
      "metadata": {
        "id": "phSLRUweYt-G",
        "colab_type": "text"
      },
      "source": [
        "# transform target to one-hot codification"
      ]
    },
    {
      "cell_type": "markdown",
      "metadata": {
        "id": "I7QYyJBCYt-J",
        "colab_type": "text"
      },
      "source": [
        "## primero crea etiquetas numéricas"
      ]
    },
    {
      "cell_type": "code",
      "metadata": {
        "id": "_5cf3OjTYt-M",
        "colab_type": "code",
        "colab": {}
      },
      "source": [
        "from sklearn. preprocessing import LabelEncoder\n",
        "#preprocessing.LabelEncoder()\n",
        "encoder = LabelEncoder()\n",
        "\n",
        "encoder.fit(label_seq)\n",
        "y_train = encoder.transform(training_label_seq)\n",
        "y_test = encoder.transform(validation_label_seq)"
      ],
      "execution_count": 0,
      "outputs": []
    },
    {
      "cell_type": "code",
      "metadata": {
        "id": "suOM5XzzZsWF",
        "colab_type": "code",
        "colab": {}
      },
      "source": [
        "max(y_train)"
      ],
      "execution_count": 0,
      "outputs": []
    },
    {
      "cell_type": "code",
      "metadata": {
        "id": "FbwSw1x9Zt10",
        "colab_type": "code",
        "colab": {}
      },
      "source": [
        "y_train.shape"
      ],
      "execution_count": 0,
      "outputs": []
    },
    {
      "cell_type": "code",
      "metadata": {
        "id": "tok5CEBFZuUX",
        "colab_type": "code",
        "colab": {}
      },
      "source": [
        "y_train"
      ],
      "execution_count": 0,
      "outputs": []
    },
    {
      "cell_type": "code",
      "metadata": {
        "id": "NCzU80RNZwvI",
        "colab_type": "code",
        "colab": {}
      },
      "source": [
        "y_test"
      ],
      "execution_count": 0,
      "outputs": []
    },
    {
      "cell_type": "markdown",
      "metadata": {
        "id": "gz8EKx7MYt-t",
        "colab_type": "text"
      },
      "source": [
        "## one hot"
      ]
    },
    {
      "cell_type": "code",
      "metadata": {
        "id": "_vVEA4IBYt-w",
        "colab_type": "code",
        "colab": {}
      },
      "source": [
        "# Converts the labels to a one-hot representation\n",
        "num_classes = np.max(y_train) + 1\n",
        "y_train = tf.keras.utils.to_categorical(y_train, num_classes)\n",
        "y_test = tf.keras.utils.to_categorical(y_test, num_classes)"
      ],
      "execution_count": 0,
      "outputs": []
    },
    {
      "cell_type": "code",
      "metadata": {
        "id": "7Vd3HsZ0Z0Dp",
        "colab_type": "code",
        "colab": {}
      },
      "source": [
        "num_classes"
      ],
      "execution_count": 0,
      "outputs": []
    },
    {
      "cell_type": "code",
      "metadata": {
        "id": "Yopg3sD-Yt_I",
        "colab_type": "code",
        "colab": {}
      },
      "source": [
        "y_train.shape"
      ],
      "execution_count": 0,
      "outputs": []
    },
    {
      "cell_type": "code",
      "metadata": {
        "id": "mRFAcCwQZ1lF",
        "colab_type": "code",
        "colab": {}
      },
      "source": [
        "y_train[0]"
      ],
      "execution_count": 0,
      "outputs": []
    },
    {
      "cell_type": "code",
      "metadata": {
        "id": "nHwXnWwnZ3Gk",
        "colab_type": "code",
        "colab": {}
      },
      "source": [
        "y_test[0]"
      ],
      "execution_count": 0,
      "outputs": []
    },
    {
      "cell_type": "markdown",
      "metadata": {
        "id": "yVPb8wDDZ7j4",
        "colab_type": "text"
      },
      "source": [
        "## Modelo\n",
        "- con dropout y con conv1d 0.4163\n",
        "- sin dropout y con conv1d 0.4219\n",
        "- con dropout y sin conv1d 0.3744\n",
        "- sin dropout y sin conv1d 0.3736"
      ]
    },
    {
      "cell_type": "code",
      "metadata": {
        "colab_type": "code",
        "id": "HZ5um4MWZP-W",
        "colab": {}
      },
      "source": [
        "model = tf.keras.Sequential([\n",
        "    tf.keras.layers.Embedding(vocab_size, embedding_dim, input_length=max_length),\n",
        "    tf.keras.layers.Bidirectional(tf.keras.layers.LSTM(120, return_sequences=True)),\n",
        "    tf.keras.layers.Conv1D(128, 5, activation='relu'),\n",
        "    tf.keras.layers.GlobalAveragePooling1D(),\n",
        "    #tf.keras.layers.Dropout(0.1),\n",
        "    tf.keras.layers.Dense(128, activation='relu'),\n",
        "    tf.keras.layers.Dense(46, activation='softmax')\n",
        "])\n",
        "model.compile(loss='categorical_crossentropy',optimizer='adam',metrics=['accuracy'])\n",
        "model.summary()"
      ],
      "execution_count": 0,
      "outputs": []
    },
    {
      "cell_type": "markdown",
      "metadata": {
        "id": "EqT9Muf-aFYP",
        "colab_type": "text"
      },
      "source": [
        "## Entrenamos el modelo"
      ]
    },
    {
      "cell_type": "code",
      "metadata": {
        "colab_type": "code",
        "id": "XsfdxySKZSXu",
        "colab": {}
      },
      "source": [
        "num_epochs = 20\n",
        "history = model.fit(train_padded, y_train, epochs=num_epochs, validation_data=(validation_padded, y_test), verbose=2)"
      ],
      "execution_count": 0,
      "outputs": []
    },
    {
      "cell_type": "markdown",
      "metadata": {
        "id": "K0YQhVzoaLQL",
        "colab_type": "text"
      },
      "source": [
        "## Graficamos"
      ]
    },
    {
      "cell_type": "code",
      "metadata": {
        "id": "Xn7rCBByaOll",
        "colab_type": "code",
        "colab": {}
      },
      "source": [
        "string='accuracy'\n",
        "print(history.history[string])\n",
        "print(history.history['val_'+string])"
      ],
      "execution_count": 0,
      "outputs": []
    },
    {
      "cell_type": "code",
      "metadata": {
        "colab_type": "code",
        "id": "dQ0BX2apXS9u",
        "colab": {}
      },
      "source": [
        "import matplotlib.pyplot as plt\n",
        "\n",
        "def plot_graphs(history, string):\n",
        "  plt.title(string+' con 3 epochs')\n",
        "  plt.plot(history.history[string])\n",
        "  plt.plot(history.history['val_'+string])\n",
        "  plt.xlabel(\"Epochs\")\n",
        "  plt.ylabel(string)\n",
        "  plt.legend([string, 'val_'+string])\n",
        "  plt.show()\n",
        "  \n",
        "plot_graphs(history, \"accuracy\")\n",
        "plot_graphs(history, \"loss\")"
      ],
      "execution_count": 0,
      "outputs": []
    },
    {
      "cell_type": "code",
      "metadata": {
        "colab_type": "code",
        "id": "w7Xc-uWxXhML",
        "colab": {}
      },
      "source": [
        "#convierte palabras en texto (NO LO USAMOS AÚN)\n",
        "reverse_word_index = dict([(value, key) for (key, value) in word_index.items()])\n",
        "\n",
        "def decode_sentence(text):\n",
        "    return ' '.join([reverse_word_index.get(i, '?') for i in text])\n",
        "\n",
        "decode_sentence([862, 54])"
      ],
      "execution_count": 0,
      "outputs": []
    },
    {
      "cell_type": "code",
      "metadata": {
        "colab_type": "code",
        "id": "OhnFA_TDXrih",
        "colab": {}
      },
      "source": [
        "#Pesos de la primera capa\n",
        "e = model.layers[0]\n",
        "weights = e.get_weights()[0]\n",
        "print(weights.shape) # shape: (vocab_size, embedding_dim)\n",
        "\n",
        "# Expected output\n",
        "# (1000, 16)"
      ],
      "execution_count": 0,
      "outputs": []
    },
    {
      "cell_type": "code",
      "metadata": {
        "id": "SHeoADFtaX0P",
        "colab_type": "code",
        "colab": {}
      },
      "source": [
        "weights"
      ],
      "execution_count": 0,
      "outputs": []
    },
    {
      "cell_type": "markdown",
      "metadata": {
        "id": "oyMnH7jUaabc",
        "colab_type": "text"
      },
      "source": [
        "## funcion clasificadora"
      ]
    },
    {
      "cell_type": "code",
      "metadata": {
        "id": "8It73iQUaeyA",
        "colab_type": "code",
        "colab": {}
      },
      "source": [
        "validation_sentences[:2]"
      ],
      "execution_count": 0,
      "outputs": []
    },
    {
      "cell_type": "code",
      "metadata": {
        "id": "3I7Em3Lmafhe",
        "colab_type": "code",
        "colab": {}
      },
      "source": [
        "sq = model.predict_classes(validation_padded[:2])\n",
        "sq"
      ],
      "execution_count": 0,
      "outputs": []
    },
    {
      "cell_type": "code",
      "metadata": {
        "id": "DWlPkmnkaiLo",
        "colab_type": "code",
        "colab": {}
      },
      "source": [
        "label_tokenizer.sequences_to_texts([sq])"
      ],
      "execution_count": 0,
      "outputs": []
    },
    {
      "cell_type": "code",
      "metadata": {
        "id": "tZoQ6dLEakv9",
        "colab_type": "code",
        "colab": {}
      },
      "source": [
        "def classifier (sentence): \n",
        "  sentences = []\n",
        "  sentence_l = re.sub(' +', ' ',sentence.lower())\n",
        "  sentence = ''.join(c for c in sentence_l if c in printable)\n",
        "  # preprocess stopwords\n",
        "  for word in stopwords:\n",
        "    token = \" \" + word + \" \"\n",
        "    sentence = sentence.replace(token, \" \")\n",
        "  sentences.append(sentence)\n",
        "\n",
        "  sentences = tokenizer.texts_to_sequences(sentences) #transforms each text in texts to a sequence of integers\n",
        "  sentences_padded = np.array(pad_sequences(sentences, padding=padding_type, maxlen=max_length))\n",
        "\n",
        "  #prob = model.predict(sentences_padded)\n",
        "  prediction = model.predict_classes(sentences_padded)\n",
        "  prediction = label_tokenizer.sequences_to_texts([prediction])\n",
        "\n",
        "  return prediction"
      ],
      "execution_count": 0,
      "outputs": []
    },
    {
      "cell_type": "code",
      "metadata": {
        "id": "u_SqQX2talns",
        "colab_type": "code",
        "colab": {}
      },
      "source": [
        "classifier('are you sure lord')"
      ],
      "execution_count": 0,
      "outputs": []
    },
    {
      "cell_type": "code",
      "metadata": {
        "id": "XYpl7SD3al7X",
        "colab_type": "code",
        "colab": {}
      },
      "source": [
        "classifier('can his funeral be on a school day')"
      ],
      "execution_count": 0,
      "outputs": []
    },
    {
      "cell_type": "code",
      "metadata": {
        "id": "K0P7mwFJapkm",
        "colab_type": "code",
        "colab": {}
      },
      "source": [
        "classifier(\"I only want a cold beer Marge\")"
      ],
      "execution_count": 0,
      "outputs": []
    },
    {
      "cell_type": "markdown",
      "metadata": {
        "id": "VtgyWMk9asgv",
        "colab_type": "text"
      },
      "source": [
        "## exportar archivos"
      ]
    },
    {
      "cell_type": "code",
      "metadata": {
        "colab_type": "code",
        "id": "_POzcWWAXudL",
        "colab": {}
      },
      "source": [
        "import io\n",
        "\n",
        "out_v = io.open('vecs.tsv', 'w', encoding='utf-8')\n",
        "out_m = io.open('meta.tsv', 'w', encoding='utf-8')\n",
        "for word_num in range(1, vocab_size):\n",
        "  word = reverse_word_index[word_num]\n",
        "  embeddings = weights[word_num]\n",
        "  out_m.write(word + \"\\n\")\n",
        "  out_v.write('\\t'.join([str(x) for x in embeddings]) + \"\\n\")\n",
        "out_v.close()\n",
        "out_m.close()"
      ],
      "execution_count": 0,
      "outputs": []
    },
    {
      "cell_type": "code",
      "metadata": {
        "colab_type": "code",
        "id": "VmqpQMZ_XyOa",
        "colab": {}
      },
      "source": [
        "try:\n",
        "  from google.colab import files\n",
        "except ImportError:\n",
        "  pass\n",
        "else:\n",
        "  files.download('vecs.tsv')\n",
        "  files.download('meta.tsv')"
      ],
      "execution_count": 0,
      "outputs": []
    },
    {
      "cell_type": "markdown",
      "metadata": {
        "id": "6Tz7DnMQYuBp",
        "colab_type": "text"
      },
      "source": [
        "## Referencias\n",
        "- Aprendizaje profundo, [Ciencia de datos](https://github.com/AprendizajeProfundo/Ciencia-de-Datos/tree/master/Cuadernos)"
      ]
    }
  ]
}