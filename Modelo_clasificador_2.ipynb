{
  "nbformat": 4,
  "nbformat_minor": 0,
  "metadata": {
    "accelerator": "GPU",
    "colab": {
      "name": "Copia de ssss.ipynb",
      "provenance": [],
      "collapsed_sections": []
    },
    "kernelspec": {
      "display_name": "Python 3",
      "language": "python",
      "name": "python3"
    },
    "language_info": {
      "codemirror_mode": {
        "name": "ipython",
        "version": 3
      },
      "file_extension": ".py",
      "mimetype": "text/x-python",
      "name": "python",
      "nbconvert_exporter": "python",
      "pygments_lexer": "ipython3",
      "version": "3.7.7"
    }
  },
  "cells": [
    {
      "cell_type": "markdown",
      "metadata": {
        "colab_type": "text",
        "id": "jKE15xpMkR6H"
      },
      "source": [
        "<a href=\"https://colab.research.google.com/github/JuliethLopez/chatbot_simpsons/blob/master/Modelo_clasificador_2.ipynb\" target=\"_parent\"><img src=\"https://colab.research.google.com/assets/colab-badge.svg\" alt=\"Open In Colab\"/></a>"
      ]
    },
    {
      "cell_type": "markdown",
      "metadata": {
        "colab_type": "text",
        "id": "nJPO1NOruW18"
      },
      "source": [
        "# Clasificación de texto "
      ]
    },
    {
      "cell_type": "code",
      "metadata": {
        "colab_type": "code",
        "id": "tMOU0GFTNemH",
        "colab": {
          "base_uri": "https://localhost:8080/",
          "height": 129
        },
        "outputId": "f8f4b51c-f557-4aab-e56a-096b73fde616"
      },
      "source": [
        "from google.colab import drive\n",
        "drive.mount('/content/drive')"
      ],
      "execution_count": 1,
      "outputs": [
        {
          "output_type": "stream",
          "text": [
            "Go to this URL in a browser: https://accounts.google.com/o/oauth2/auth?client_id=947318989803-6bn6qk8qdgf4n4g3pfee6491hc0brc4i.apps.googleusercontent.com&redirect_uri=urn%3aietf%3awg%3aoauth%3a2.0%3aoob&response_type=code&scope=email%20https%3a%2f%2fwww.googleapis.com%2fauth%2fdocs.test%20https%3a%2f%2fwww.googleapis.com%2fauth%2fdrive%20https%3a%2f%2fwww.googleapis.com%2fauth%2fdrive.photos.readonly%20https%3a%2f%2fwww.googleapis.com%2fauth%2fpeopleapi.readonly\n",
            "\n",
            "Enter your authorization code:\n",
            "··········\n",
            "Mounted at /content/drive\n"
          ],
          "name": "stdout"
        }
      ]
    },
    {
      "cell_type": "markdown",
      "metadata": {
        "id": "pvw3-VpUm6lY",
        "colab_type": "text"
      },
      "source": [
        "Con éste código se pretende clasificar un conjunto de frases utilizadas en los dialogos de los simpsons a través de clasificadores de textos de lenguaje natural automáticos. La librería usual para trabajar con datos de lenguaje humano es ntkl, que es la biblioteca más utilizada para interactuar con la utilización del lenguaje natural."
      ]
    },
    {
      "cell_type": "code",
      "metadata": {
        "colab_type": "code",
        "id": "NJc6nHMRudjy",
        "colab": {}
      },
      "source": [
        "# Librerias\n",
        "import re \n",
        "import csv\n",
        "import nltk\n",
        "import pickle\n",
        "import string\n",
        "import numpy as np\n",
        "import pandas as pd\n",
        "import tensorflow as tf\n",
        "from shutil import copyfile\n",
        "from nltk.util import ngrams\n",
        "import matplotlib.pyplot as plt\n",
        "from tensorflow.keras import layers\n",
        "from tensorflow.keras import regularizers\n",
        "from nltk.tokenize import regexp_tokenize\n",
        "from sklearn. preprocessing import LabelEncoder\n",
        "from tensorflow.keras.preprocessing.text import Tokenizer\n",
        "from sklearn.feature_extraction.text import CountVectorizer\n",
        "from tensorflow.keras.utils import to_categorical, plot_model"
      ],
      "execution_count": 2,
      "outputs": []
    },
    {
      "cell_type": "markdown",
      "metadata": {
        "colab_type": "text",
        "id": "ZAXQiC96uq4s"
      },
      "source": [
        "# Define algunas características iniciales"
      ]
    },
    {
      "cell_type": "markdown",
      "metadata": {
        "id": "ByrL_8A3m6lr",
        "colab_type": "text"
      },
      "source": [
        "Aquí establecemos la proporción de datos a entrenar, que va a corresponder al 80% del total de los datos. También definimos un arreglo con los caracteres que se desea, representen a los datos de nuestra base. Eliminando así cualquier caracter de uso poco frecuente."
      ]
    },
    {
      "cell_type": "code",
      "metadata": {
        "colab_type": "code",
        "id": "gpNtUB-ZujD1",
        "colab": {}
      },
      "source": [
        "training_portion = 0.8\n",
        "oov_tok = \"<OOV>\""
      ],
      "execution_count": 3,
      "outputs": []
    },
    {
      "cell_type": "code",
      "metadata": {
        "colab_type": "code",
        "id": "bjMtHB6t1gpN",
        "colab": {
          "base_uri": "https://localhost:8080/",
          "height": 72
        },
        "outputId": "6539686d-0b27-411d-916a-855bd7d1a810"
      },
      "source": [
        "a = np.array([32]) # space\n",
        "c = np.array(range(97,123)) \n",
        "printab = np.hstack((a,c))\n",
        "printable = np.array([chr(i) for i in printab])   \n",
        "printable "
      ],
      "execution_count": 4,
      "outputs": [
        {
          "output_type": "execute_result",
          "data": {
            "text/plain": [
              "array([' ', 'a', 'b', 'c', 'd', 'e', 'f', 'g', 'h', 'i', 'j', 'k', 'l',\n",
              "       'm', 'n', 'o', 'p', 'q', 'r', 's', 't', 'u', 'v', 'w', 'x', 'y',\n",
              "       'z'], dtype='<U1')"
            ]
          },
          "metadata": {
            "tags": []
          },
          "execution_count": 4
        }
      ]
    },
    {
      "cell_type": "markdown",
      "metadata": {
        "colab_type": "text",
        "id": "xzVnwbLIx-nA"
      },
      "source": [
        "# Lectura de los datos"
      ]
    },
    {
      "cell_type": "markdown",
      "metadata": {
        "id": "FXMQrUmMm6mP",
        "colab_type": "text"
      },
      "source": [
        "La base de datos correspondiente para esta parte del trabajo se consigue con el nombre de \"Dialogue Lines of The Simpsons\" la cual puede ser consultada en la página de libre acceso kaggle. En principio, éste conjunto de datos contiene personajes, ubicaciones, detalles de los episodios y las líneas de guión de aproximadamente 600 episodios de Simpson, que datan de 1989. Sin embargo, para propositos de esta parte del trabajo la base de datos fue filtrada en excel y se hizo uso únicamente de las columnas \"Name of the character who speaks\" y \"Actual text spoken\"."
      ]
    },
    {
      "cell_type": "code",
      "metadata": {
        "colab_type": "code",
        "id": "_hJ2PlWEK7Zp",
        "colab": {}
      },
      "source": [
        "complete_lines = [] \n",
        "sentences = []\n",
        "labels = [] "
      ],
      "execution_count": 5,
      "outputs": []
    },
    {
      "cell_type": "code",
      "metadata": {
        "colab_type": "code",
        "id": "eutB2xMiZD0e",
        "colab": {
          "base_uri": "https://localhost:8080/",
          "height": 72
        },
        "outputId": "c12e15b6-6a1d-4e71-d944-5c857e7d4683"
      },
      "source": [
        "# abre el archivo de datos y lo trata como un archivo csv\n",
        "#file = open('/content/drive/My Drive/Colab Notebooks/DFSMS.csv', 'r') #David\n",
        "file = open('/content/drive/My Drive/Simpsons Chat bot/Datos/DFSMS.csv', 'r') #Julieth\n",
        "#file = open('DFSMS.csv', 'r') #Juan\n",
        "with file as csvfile:\n",
        "    reader = csv.reader(csvfile, delimiter=',')\n",
        "    next(reader)\n",
        "    for row in reader:\n",
        "        # preprocess label\n",
        "        #label_l = ' '.join(row[0].split()).lower().replace(' ','_') # lower case ans eliminate multiple spaces\n",
        "        label_l = re.sub(' +', ' ',row[0].lower()) # lower case ans eliminate multiple spaces\n",
        "        if (len(label_l)>2): # drop with empty label\n",
        "            label = ''.join(c for c in label_l if c in printable)# filter only printable characters\n",
        "            label = label.replace(' ','_')\n",
        "            labels.append(label)\n",
        "            # preprocess sentence\n",
        "            #sentence_l = ' '.join(row[1].split()).lower().replace(' ','_') # lower case ans eliminate multiple spaces\n",
        "            sentence_l = re.sub(' +', ' ',row[1].lower())\n",
        "            sentence = ''.join(c for c in sentence_l if c in printable)\n",
        "            complete_lines.append(row[0] + ': '+ row[1])\n",
        "            sentences.append(sentence)\n",
        " \n",
        "\n",
        "# resumen de la lectura            \n",
        "print(\"labels:\",len(labels))\n",
        "print(\"complete_lines:\",len(complete_lines))\n",
        "print(\"sentences\",len(sentences))"
      ],
      "execution_count": 6,
      "outputs": [
        {
          "output_type": "stream",
          "text": [
            "labels: 64773\n",
            "complete_lines: 64773\n",
            "sentences 64773\n"
          ],
          "name": "stdout"
        }
      ]
    },
    {
      "cell_type": "code",
      "metadata": {
        "colab_type": "code",
        "id": "mHP5HqP4Yt5U",
        "colab": {
          "base_uri": "https://localhost:8080/",
          "height": 128
        },
        "outputId": "e4a6950d-50d3-4c09-f8e4-9399ec984a55"
      },
      "source": [
        "# Tercer linea\n",
        "print(labels[20]+'\\n')\n",
        "print(complete_lines[20]+'\\n')\n",
        "print(sentences[20]+'\\n')"
      ],
      "execution_count": 7,
      "outputs": [
        {
          "output_type": "stream",
          "text": [
            "lisa_simpson\n",
            "\n",
            "Lisa Simpson: But I need you too.\n",
            "\n",
            "but i need you too\n",
            "\n"
          ],
          "name": "stdout"
        }
      ]
    },
    {
      "cell_type": "markdown",
      "metadata": {
        "colab_type": "text",
        "id": "YYaD8IrjgU2m"
      },
      "source": [
        "### Grafico de frecuencias de los personajes"
      ]
    },
    {
      "cell_type": "markdown",
      "metadata": {
        "id": "nTybRHKIm6nI",
        "colab_type": "text"
      },
      "source": [
        "A continuación, se podrá visualizar un gráfico de barras en el cual representamos el número de frases asociadas a cada personaje."
      ]
    },
    {
      "cell_type": "code",
      "metadata": {
        "colab_type": "code",
        "id": "djFPe1k6pOp9",
        "colab": {
          "base_uri": "https://localhost:8080/",
          "height": 281
        },
        "outputId": "06503748-b483-4f24-f727-a9b9ec20e96e"
      },
      "source": [
        "frec = pd.value_counts(labels)\n",
        "plot = frec.plot(kind='barh',title='Numero de frases por personaje',color=['deepskyblue','orangered','darkkhaki','gold'])"
      ],
      "execution_count": 8,
      "outputs": [
        {
          "output_type": "display_data",
          "data": {
            "image/png": "[encoded data removed]",
            "text/plain": [
              "<Figure size 432x288 with 1 Axes>"
            ]
          },
          "metadata": {
            "tags": [],
            "needs_background": "light"
          }
        }
      ]
    },
    {
      "cell_type": "code",
      "metadata": {
        "id": "oFfSyTipm6nT",
        "colab_type": "code",
        "colab": {
          "base_uri": "https://localhost:8080/",
          "height": 35
        },
        "outputId": "5bf38a7b-1cbe-4202-a415-76bf3a79df5e"
      },
      "source": [
        "n_lines = frec.values[1]\n",
        "n_lines"
      ],
      "execution_count": 9,
      "outputs": [
        {
          "output_type": "execute_result",
          "data": {
            "text/plain": [
              "13172"
            ]
          },
          "metadata": {
            "tags": []
          },
          "execution_count": 9
        }
      ]
    },
    {
      "cell_type": "markdown",
      "metadata": {
        "colab_type": "text",
        "id": "KCFHpjzibqi_"
      },
      "source": [
        "Como se pudo observar en el gráfico anterior y como era de esperar, la cantidad de frases asociadas al personaje Homero es mucho mayor que la de los otros personakes. En consecuencia, se reducirá la cantidad de frases correspondientes a este personaje."
      ]
    },
    {
      "cell_type": "code",
      "metadata": {
        "colab_type": "code",
        "id": "IApkoio3S2p_",
        "colab": {}
      },
      "source": [
        "np.random.seed(101)\n",
        "homer_index = []\n",
        "\n",
        "for i in range(len(labels)):\n",
        "  if labels[i] == 'homer_simpson':\n",
        "    homer_index.append(i)\n",
        "\n",
        "homer_r = np.random.choice(homer_index,n_lines,replace=False)"
      ],
      "execution_count": 10,
      "outputs": []
    },
    {
      "cell_type": "code",
      "metadata": {
        "colab_type": "code",
        "id": "_ktqnAH0XLjt",
        "colab": {}
      },
      "source": [
        "np.random.seed(101)\n",
        "marge_index = []\n",
        "\n",
        "for i in range(len(labels)):\n",
        "  if labels[i] == 'marge_simpson':\n",
        "    marge_index.append(i)"
      ],
      "execution_count": 11,
      "outputs": []
    },
    {
      "cell_type": "code",
      "metadata": {
        "colab_type": "code",
        "id": "GDpiOn29YIj8",
        "colab": {}
      },
      "source": [
        "np.random.seed(101)\n",
        "bart_index = []\n",
        "\n",
        "for i in range(len(labels)):\n",
        "  if labels[i] == 'bart_simpson':\n",
        "    bart_index.append(i)"
      ],
      "execution_count": 12,
      "outputs": []
    },
    {
      "cell_type": "code",
      "metadata": {
        "colab_type": "code",
        "id": "BfPoqsetYqt6",
        "colab": {}
      },
      "source": [
        "np.random.seed(101)\n",
        "lisa_index = []\n",
        "\n",
        "for i in range(len(labels)):\n",
        "  if labels[i] == 'lisa_simpson':\n",
        "    lisa_index.append(i)"
      ],
      "execution_count": 13,
      "outputs": []
    },
    {
      "cell_type": "code",
      "metadata": {
        "colab_type": "code",
        "id": "sjj1J6KaWyrn",
        "colab": {}
      },
      "source": [
        "sentences = np.array(sentences)\n",
        "labels = np.array(labels)\n",
        "\n",
        "homer_s = sentences[homer_r]\n",
        "marge_s = sentences[marge_index]\n",
        "bart_s = sentences[bart_index]\n",
        "lisa_s = sentences[lisa_index]\n",
        "\n",
        "homer_l = labels[homer_r]\n",
        "marge_l = labels[marge_index]\n",
        "bart_l = labels[bart_index]\n",
        "lisa_l = labels[lisa_index]"
      ],
      "execution_count": 14,
      "outputs": []
    },
    {
      "cell_type": "code",
      "metadata": {
        "colab_type": "code",
        "id": "IXo5ErQUZz51",
        "colab": {}
      },
      "source": [
        "homer_s = homer_s.tolist()\n",
        "marge_s = marge_s.tolist()\n",
        "bart_s = bart_s.tolist()\n",
        "lisa_s = lisa_s.tolist()\n",
        "\n",
        "homer_l = homer_l.tolist()\n",
        "marge_l = marge_l.tolist()\n",
        "bart_l = bart_l.tolist()\n",
        "lisa_l = lisa_l.tolist()"
      ],
      "execution_count": 15,
      "outputs": []
    },
    {
      "cell_type": "code",
      "metadata": {
        "colab_type": "code",
        "id": "WYJ48mVYT538",
        "colab": {
          "base_uri": "https://localhost:8080/",
          "height": 35
        },
        "outputId": "2ded9b9d-1c01-42e4-a6c2-f468a6d9ccbc"
      },
      "source": [
        "sentences = [homer_s + marge_s + bart_s + lisa_s]\n",
        "np.shape(sentences)"
      ],
      "execution_count": 16,
      "outputs": [
        {
          "output_type": "execute_result",
          "data": {
            "text/plain": [
              "(1, 50095)"
            ]
          },
          "metadata": {
            "tags": []
          },
          "execution_count": 16
        }
      ]
    },
    {
      "cell_type": "code",
      "metadata": {
        "colab_type": "code",
        "id": "vRS3GwviZJHh",
        "colab": {
          "base_uri": "https://localhost:8080/",
          "height": 35
        },
        "outputId": "45f9d409-17dc-45aa-ada4-500e836c7eef"
      },
      "source": [
        "labels = [homer_l + marge_l + bart_l + lisa_l]\n",
        "np.shape(labels)"
      ],
      "execution_count": 17,
      "outputs": [
        {
          "output_type": "execute_result",
          "data": {
            "text/plain": [
              "(1, 50095)"
            ]
          },
          "metadata": {
            "tags": []
          },
          "execution_count": 17
        }
      ]
    },
    {
      "cell_type": "code",
      "metadata": {
        "colab_type": "code",
        "id": "sW0uAzGYjL8G",
        "colab": {}
      },
      "source": [
        "sentences = sentences[0]\n",
        "labels = labels[0]"
      ],
      "execution_count": 18,
      "outputs": []
    },
    {
      "cell_type": "markdown",
      "metadata": {
        "id": "IJT0wNySm6oz",
        "colab_type": "text"
      },
      "source": [
        "Aquí podremos visualizar la cantidad final de frases correspondientes a cada personaje para el resto de nuestro trabajo. Observemos que las frases del personaje Homero se redujo exactamente a la cantidad de frases asociadas al personaje marge, que corresponde a 13172 frases. También se puede observar que el total de datos con el que vamos a trabajar tiene un tamaño de 50095."
      ]
    },
    {
      "cell_type": "code",
      "metadata": {
        "id": "5bTVsxT8m6o2",
        "colab_type": "code",
        "colab": {
          "base_uri": "https://localhost:8080/",
          "height": 281
        },
        "outputId": "aa636259-77fc-425d-af59-7e3a9ee8dc0d"
      },
      "source": [
        "frec = pd.value_counts(labels)\n",
        "plot = frec.plot(kind='barh',title='Numero de frases por personaje',color=['deepskyblue','orangered','darkkhaki','gold'])"
      ],
      "execution_count": 19,
      "outputs": [
        {
          "output_type": "display_data",
          "data": {
            "image/png": "[encoded data removed]",
            "text/plain": [
              "<Figure size 432x288 with 1 Axes>"
            ]
          },
          "metadata": {
            "tags": [],
            "needs_background": "light"
          }
        }
      ]
    },
    {
      "cell_type": "markdown",
      "metadata": {
        "colab_type": "text",
        "id": "N_E4h9j8Mh90"
      },
      "source": [
        "# Grafica de frecuencia de n-gramas"
      ]
    },
    {
      "cell_type": "markdown",
      "metadata": {
        "id": "2fCYpEk0m6qO",
        "colab_type": "text"
      },
      "source": [
        "Muchas veces estamos interesados en saber que tan frecuente se hace la aparición de una palabra, dos palabras juntas o n palabras juntas. Los n gramas son un tipo de modelo probabilistico, el cual permite hacer una predicción estadística del próximo elemento en este caso, de una cadena de caracteres o palabras, la cual ha sido sucedida hasta el momento. Esto nos permite extraer caracteristicas comúnes de este gran conjunto de texto que estamos utilizando."
      ]
    },
    {
      "cell_type": "markdown",
      "metadata": {
        "id": "nQIZxRsfm6qQ",
        "colab_type": "text"
      },
      "source": [
        "### Trigramas"
      ]
    },
    {
      "cell_type": "markdown",
      "metadata": {
        "id": "RZWBhpAEm6qU",
        "colab_type": "text"
      },
      "source": [
        "Para cumplir los objetivos de este proyecto, primero juntamos todo el texto en una sola línea y separamos cada palabra con un espacio. Luego formamos un arreglo que contiene cada pa"
      ]
    },
    {
      "cell_type": "code",
      "metadata": {
        "colab_type": "code",
        "id": "y4UOhrSPJfe7",
        "colab": {
          "base_uri": "https://localhost:8080/",
          "height": 202
        },
        "outputId": "004b6607-f6cf-440b-b529-c6b9b4f12fd1"
      },
      "source": [
        "#Juntamos todo el texto en una sola linea\n",
        "wordtk = ' '.join(sentences)\n",
        "\n",
        "#Para dividir las frases\n",
        "tokenstk = regexp_tokenize(wordtk, pattern=\"\\w+\")\n",
        "tokenstk[:10]"
      ],
      "execution_count": 20,
      "outputs": [
        {
          "output_type": "execute_result",
          "data": {
            "text/plain": [
              "['the',\n",
              " 'power',\n",
              " 'of',\n",
              " 'dreaming',\n",
              " 'has',\n",
              " 'convinced',\n",
              " 'me',\n",
              " 'the',\n",
              " 'threat',\n",
              " 'is']"
            ]
          },
          "metadata": {
            "tags": []
          },
          "execution_count": 20
        }
      ]
    },
    {
      "cell_type": "code",
      "metadata": {
        "colab_type": "code",
        "id": "PXSnjnMGJmT9",
        "colab": {
          "base_uri": "https://localhost:8080/",
          "height": 109
        },
        "outputId": "98f8986b-36fa-4f88-f867-59141838c3c1"
      },
      "source": [
        "trigrama = ngrams(tokenstk,3)\n",
        "trigrama = [' '.join(grams) for grams in trigrama]\n",
        "trigrama[:5]"
      ],
      "execution_count": 21,
      "outputs": [
        {
          "output_type": "execute_result",
          "data": {
            "text/plain": [
              "['the power of',\n",
              " 'power of dreaming',\n",
              " 'of dreaming has',\n",
              " 'dreaming has convinced',\n",
              " 'has convinced me']"
            ]
          },
          "metadata": {
            "tags": []
          },
          "execution_count": 21
        }
      ]
    },
    {
      "cell_type": "code",
      "metadata": {
        "colab_type": "code",
        "id": "4-pHnm8S9WaV",
        "colab": {}
      },
      "source": [
        "freq = nltk.FreqDist(trigrama) #frecuencia de los tokens"
      ],
      "execution_count": 22,
      "outputs": []
    },
    {
      "cell_type": "code",
      "metadata": {
        "colab_type": "code",
        "id": "VrU1zk_tjqEE",
        "colab": {
          "base_uri": "https://localhost:8080/",
          "height": 372
        },
        "outputId": "e7db65b8-62d3-48ce-f66e-d4fc4b3e90fb"
      },
      "source": [
        "# Gráfica con los trigramas COMPLETOS\n",
        "freq.plot(20, cumulative=False, title = \"TRIGRAMA COMPLETOS\")\n",
        "print(\"Trigramas completos unicos:\", len(freq))"
      ],
      "execution_count": 23,
      "outputs": [
        {
          "output_type": "display_data",
          "data": {
            "image/png": "[encoded data removed]",
            "text/plain": [
              "<Figure size 432x288 with 1 Axes>"
            ]
          },
          "metadata": {
            "tags": [],
            "needs_background": "light"
          }
        },
        {
          "output_type": "stream",
          "text": [
            "Trigramas completos unicos: 367550\n"
          ],
          "name": "stdout"
        }
      ]
    },
    {
      "cell_type": "code",
      "metadata": {
        "colab_type": "code",
        "id": "mMMJMohG9ZNQ",
        "colab": {}
      },
      "source": [
        "eliminar = [] #filtramos tokens que se repiten mas de una vez\n",
        "for key,val in freq.items():\n",
        "  if (200>val>3):\n",
        "    eliminar.append(str(key))\n",
        "\n",
        "trigrama_limpio = []\n",
        "for i in trigrama:\n",
        "  if i in eliminar:\n",
        "    trigrama_limpio.append(i)\n",
        "\n",
        "freqnew = nltk.FreqDist(trigrama_limpio)"
      ],
      "execution_count": 24,
      "outputs": []
    },
    {
      "cell_type": "code",
      "metadata": {
        "colab_type": "code",
        "id": "LeHOcU_QpIDx",
        "colab": {
          "base_uri": "https://localhost:8080/",
          "height": 372
        },
        "outputId": "789aba45-cd7b-49c5-ffe1-0f48cfe5c5cb"
      },
      "source": [
        "# Gráfica con los trigramas RECORTADOS\n",
        "freqnew.plot(20, cumulative=False, title = \"TRIGRAMAS RECORTADOS\")\n",
        "print(\"Trigramas recortados unicos:\", len(freqnew))"
      ],
      "execution_count": 25,
      "outputs": [
        {
          "output_type": "display_data",
          "data": {
            "image/png": "[encoded data removed]",
            "text/plain": [
              "<Figure size 432x288 with 1 Axes>"
            ]
          },
          "metadata": {
            "tags": [],
            "needs_background": "light"
          }
        },
        {
          "output_type": "stream",
          "text": [
            "Trigramas recortados unicos: 8316\n"
          ],
          "name": "stdout"
        }
      ]
    },
    {
      "cell_type": "code",
      "metadata": {
        "colab_type": "code",
        "id": "X_v6wVGRXTcX",
        "colab": {
          "base_uri": "https://localhost:8080/",
          "height": 54
        },
        "outputId": "3aa5bc42-771a-40cf-bac6-1f2cab19fbc4"
      },
      "source": [
        "#comparacion de trigramas\n",
        "print(\"Trigramas completos unicos:\", len(freq))\n",
        "print(\"Trigramas recortados unicos:\", len(freqnew))"
      ],
      "execution_count": 26,
      "outputs": [
        {
          "output_type": "stream",
          "text": [
            "Trigramas completos unicos: 367550\n",
            "Trigramas recortados unicos: 8316\n"
          ],
          "name": "stdout"
        }
      ]
    },
    {
      "cell_type": "markdown",
      "metadata": {
        "colab_type": "text",
        "id": "OA9lEoi8cQaM"
      },
      "source": [
        "### Bigramas"
      ]
    },
    {
      "cell_type": "code",
      "metadata": {
        "colab_type": "code",
        "id": "hLv0tCETcSrC",
        "colab": {
          "base_uri": "https://localhost:8080/",
          "height": 35
        },
        "outputId": "e70c59c2-9d44-41c9-f60b-cb4d390c6adf"
      },
      "source": [
        "bigrama = ngrams(tokenstk,2)\n",
        "bigrama = [' '.join(grams) for grams in bigrama]\n",
        "bigrama[:5]"
      ],
      "execution_count": 27,
      "outputs": [
        {
          "output_type": "execute_result",
          "data": {
            "text/plain": [
              "['the power', 'power of', 'of dreaming', 'dreaming has', 'has convinced']"
            ]
          },
          "metadata": {
            "tags": []
          },
          "execution_count": 27
        }
      ]
    },
    {
      "cell_type": "code",
      "metadata": {
        "colab_type": "code",
        "id": "acCZFRFk9cNW",
        "colab": {}
      },
      "source": [
        "freqb = nltk.FreqDist(bigrama) #frecuencia de los tokens"
      ],
      "execution_count": 28,
      "outputs": []
    },
    {
      "cell_type": "code",
      "metadata": {
        "colab_type": "code",
        "id": "8xOKxeRTi2JM",
        "colab": {
          "base_uri": "https://localhost:8080/",
          "height": 351
        },
        "outputId": "7414c6b7-0741-42e6-e168-9b3c6707b57d"
      },
      "source": [
        "# Gráfica con los bigramas COMPLETOS\n",
        "freqb.plot(20, cumulative=False, title = \"BIGRAMAS COMPLETOS\")\n",
        "print(\"Bigramas completos unicos:\", len(freqb))"
      ],
      "execution_count": 29,
      "outputs": [
        {
          "output_type": "display_data",
          "data": {
            "image/png": "[encoded data removed]",
            "text/plain": [
              "<Figure size 432x288 with 1 Axes>"
            ]
          },
          "metadata": {
            "tags": [],
            "needs_background": "light"
          }
        },
        {
          "output_type": "stream",
          "text": [
            "Bigramas completos unicos: 187426\n"
          ],
          "name": "stdout"
        }
      ]
    },
    {
      "cell_type": "code",
      "metadata": {
        "colab_type": "code",
        "id": "oTEizbt_9fEV",
        "colab": {}
      },
      "source": [
        "eliminarb = [] #filtramos tokens que se repiten mas de una vez\n",
        "for key,val in freqb.items():\n",
        "  if (700>val>100):\n",
        "    eliminarb.append(str(key))\n",
        "\n",
        "bigrama_limpio = []\n",
        "for i in bigrama:\n",
        "  if i in eliminarb:\n",
        "    bigrama_limpio.append(i)\n",
        "\n",
        "freqbnew = nltk.FreqDist(bigrama_limpio)"
      ],
      "execution_count": 30,
      "outputs": []
    },
    {
      "cell_type": "code",
      "metadata": {
        "colab_type": "code",
        "id": "32Y8at2kcWcZ",
        "colab": {
          "base_uri": "https://localhost:8080/",
          "height": 351
        },
        "outputId": "b5a2b52c-4e2f-4eaf-f21a-94ad22e781b1"
      },
      "source": [
        "# Gráfica con los Bigramas\n",
        "freqbnew.plot(20, cumulative=False, title = \"BIGRAMAS RECORTADOS\")\n",
        "print(\"Bigramas recortados unicos:\", len(freqbnew))"
      ],
      "execution_count": 31,
      "outputs": [
        {
          "output_type": "display_data",
          "data": {
            "image/png": "[encoded data removed]",
            "text/plain": [
              "<Figure size 432x288 with 1 Axes>"
            ]
          },
          "metadata": {
            "tags": [],
            "needs_background": "light"
          }
        },
        {
          "output_type": "stream",
          "text": [
            "Bigramas recortados unicos: 307\n"
          ],
          "name": "stdout"
        }
      ]
    },
    {
      "cell_type": "code",
      "metadata": {
        "colab_type": "code",
        "id": "X3me9f5ycf-r",
        "colab": {
          "base_uri": "https://localhost:8080/",
          "height": 54
        },
        "outputId": "89d32e11-25ea-402e-9387-fa4e91bf66be"
      },
      "source": [
        "#comparacion de bigramas\n",
        "print(\"Bigramas completos unicos:\", len(freqb))\n",
        "print(\"Bigramas recortados unicos:\", len(freqbnew))"
      ],
      "execution_count": 32,
      "outputs": [
        {
          "output_type": "stream",
          "text": [
            "Bigramas completos unicos: 187426\n",
            "Bigramas recortados unicos: 307\n"
          ],
          "name": "stdout"
        }
      ]
    },
    {
      "cell_type": "markdown",
      "metadata": {
        "colab_type": "text",
        "id": "sqeyp7uYWBHT"
      },
      "source": [
        "# Vocabulario\n",
        "### Trigramas\n",
        "\n",
        "Aunque trigrama_limpio ya no tiene ni los tokens con repitencias muy bajas ni muy altas, contiene tokens repetidos, por eso, para el vocabulario de CountVectorizer utilizameros los freqnew.keys() que contiene los tokens unicos."
      ]
    },
    {
      "cell_type": "code",
      "metadata": {
        "colab_type": "code",
        "id": "m10I8zKloSLs",
        "colab": {}
      },
      "source": [
        "vectorizer3 = CountVectorizer(vocabulary=freqnew.keys(), ngram_range=(3,3))"
      ],
      "execution_count": 33,
      "outputs": []
    },
    {
      "cell_type": "markdown",
      "metadata": {
        "id": "7VGXb-hbr7iy",
        "colab_type": "text"
      },
      "source": [
        "Las siuientes dos celdas de código se utilizaron para guardar los trigramas y subir los datos a drive para poder llamarlos desde el cuaderno *pre-chatbot*."
      ]
    },
    {
      "cell_type": "code",
      "metadata": {
        "id": "oOSOxK4wVtu9",
        "colab_type": "code",
        "colab": {}
      },
      "source": [
        "#guarda los freqnew como .pickle\n",
        "#with open('freqnew.pickle', 'wb') as f:\n",
        "#    pickle.dump(freqnew, f)"
      ],
      "execution_count": 34,
      "outputs": []
    },
    {
      "cell_type": "code",
      "metadata": {
        "id": "YqgEC9vBht-k",
        "colab_type": "code",
        "colab": {}
      },
      "source": [
        "#guarda freqnew.pickle en drive\n",
        "#copyfile(\"freqnew.pickle\", \"/content/drive/My Drive/Simpsons Chat bot/Modelos guardos/freqnew.pickle\")"
      ],
      "execution_count": 35,
      "outputs": []
    },
    {
      "cell_type": "code",
      "metadata": {
        "colab_type": "code",
        "id": "9fC6Ku9BpEn-",
        "colab": {}
      },
      "source": [
        "X3 = vectorizer3.fit_transform(sentences)"
      ],
      "execution_count": 36,
      "outputs": []
    },
    {
      "cell_type": "code",
      "metadata": {
        "colab_type": "code",
        "id": "C4WaPm2ApUTJ",
        "colab": {
          "base_uri": "https://localhost:8080/",
          "height": 202
        },
        "outputId": "4a757e6e-e091-4805-d520-b3354d0f4560"
      },
      "source": [
        "F3 = vectorizer3.get_feature_names() #Mapeo de matriz de índices de enteros a nombres.\n",
        "F3[:10]"
      ],
      "execution_count": 37,
      "outputs": [
        {
          "output_type": "execute_result",
          "data": {
            "text/plain": [
              "['the power of',\n",
              " 'what the hell',\n",
              " 'the hell is',\n",
              " 'hell is that',\n",
              " 'that oh my',\n",
              " 'my life is',\n",
              " 'oh no not',\n",
              " 'wait wait wait',\n",
              " 'i didnt know',\n",
              " 'didnt know you']"
            ]
          },
          "metadata": {
            "tags": []
          },
          "execution_count": 37
        }
      ]
    },
    {
      "cell_type": "code",
      "metadata": {
        "colab_type": "code",
        "id": "hi52OEvRp_zc",
        "colab": {
          "base_uri": "https://localhost:8080/",
          "height": 35
        },
        "outputId": "480d6943-11ae-4cd0-d192-dec3b139d7bc"
      },
      "source": [
        "sequences = X3.toarray() #arreglo\n",
        "print(\"longitud\",len(X3.toarray()))"
      ],
      "execution_count": 38,
      "outputs": [
        {
          "output_type": "stream",
          "text": [
            "longitud 50095\n"
          ],
          "name": "stdout"
        }
      ]
    },
    {
      "cell_type": "markdown",
      "metadata": {
        "colab_type": "text",
        "id": "5KPSxpcaZ7NY"
      },
      "source": [
        "Como vemos en la tabla, cada fila corresponde a una frase de nuestro __sentences__ y cada columna corresponde a un trigrama, por lo tanto la tabla es de (50095 × 8316),\n",
        "\n",
        "  - sentences: 50095\n",
        "  - Trigramas unicos con sus frecuencias:  8316"
      ]
    },
    {
      "cell_type": "code",
      "metadata": {
        "colab_type": "code",
        "id": "2s6KN8-qpzPh",
        "colab": {
          "base_uri": "https://localhost:8080/",
          "height": 479
        },
        "outputId": "2d381d6a-b36f-42e7-f990-ab1f98031277"
      },
      "source": [
        "pd.DataFrame(sequences,columns=vectorizer3.get_feature_names())"
      ],
      "execution_count": 39,
      "outputs": [
        {
          "output_type": "execute_result",
          "data": {
            "text/html": [
              "<div>\n",
              "<style scoped>\n",
              "    .dataframe tbody tr th:only-of-type {\n",
              "        vertical-align: middle;\n",
              "    }\n",
              "\n",
              "    .dataframe tbody tr th {\n",
              "        vertical-align: top;\n",
              "    }\n",
              "\n",
              "    .dataframe thead th {\n",
              "        text-align: right;\n",
              "    }\n",
              "</style>\n",
              "<table border=\"1\" class=\"dataframe\">\n",
              "  <thead>\n",
              "    <tr style=\"text-align: right;\">\n",
              "      <th></th>\n",
              "      <th>the power of</th>\n",
              "      <th>what the hell</th>\n",
              "      <th>the hell is</th>\n",
              "      <th>hell is that</th>\n",
              "      <th>that oh my</th>\n",
              "      <th>my life is</th>\n",
              "      <th>oh no not</th>\n",
              "      <th>wait wait wait</th>\n",
              "      <th>i didnt know</th>\n",
              "      <th>didnt know you</th>\n",
              "      <th>know you were</th>\n",
              "      <th>all i had</th>\n",
              "      <th>i had to</th>\n",
              "      <th>to the house</th>\n",
              "      <th>the house and</th>\n",
              "      <th>tickets to the</th>\n",
              "      <th>the super bowl</th>\n",
              "      <th>give you a</th>\n",
              "      <th>just give me</th>\n",
              "      <th>give me one</th>\n",
              "      <th>leave me alone</th>\n",
              "      <th>i got a</th>\n",
              "      <th>got a date</th>\n",
              "      <th>a date with</th>\n",
              "      <th>date with my</th>\n",
              "      <th>are you doing</th>\n",
              "      <th>you doing here</th>\n",
              "      <th>oh yeah thats</th>\n",
              "      <th>what is this</th>\n",
              "      <th>is this place</th>\n",
              "      <th>just a second</th>\n",
              "      <th>but im sure</th>\n",
              "      <th>youre up to</th>\n",
              "      <th>up to it</th>\n",
              "      <th>now wait a</th>\n",
              "      <th>wait a minute</th>\n",
              "      <th>im not gonna</th>\n",
              "      <th>father of the</th>\n",
              "      <th>of the year</th>\n",
              "      <th>guy in the</th>\n",
              "      <th>...</th>\n",
              "      <th>earth peace on</th>\n",
              "      <th>take us to</th>\n",
              "      <th>barts making faces</th>\n",
              "      <th>and dad i</th>\n",
              "      <th>get it bart</th>\n",
              "      <th>sure i guess</th>\n",
              "      <th>dad mr burns</th>\n",
              "      <th>lu lu lu</th>\n",
              "      <th>one is the</th>\n",
              "      <th>dont worry bart</th>\n",
              "      <th>dad you have</th>\n",
              "      <th>im lisa simpson</th>\n",
              "      <th>voted for bob</th>\n",
              "      <th>bart dont you</th>\n",
              "      <th>no dad its</th>\n",
              "      <th>dad im sorry</th>\n",
              "      <th>bleeding gums murphy</th>\n",
              "      <th>oh dad im</th>\n",
              "      <th>bart stop it</th>\n",
              "      <th>be such a</th>\n",
              "      <th>how can we</th>\n",
              "      <th>dad and bart</th>\n",
              "      <th>used to date</th>\n",
              "      <th>cheated cheated cheated</th>\n",
              "      <th>my names lisa</th>\n",
              "      <th>im a vegetarian</th>\n",
              "      <th>if i win</th>\n",
              "      <th>what is going</th>\n",
              "      <th>larry flynt larry</th>\n",
              "      <th>flynt larry flynt</th>\n",
              "      <th>my brother is</th>\n",
              "      <th>to me about</th>\n",
              "      <th>zap zap zap</th>\n",
              "      <th>fine fine fine</th>\n",
              "      <th>goorsha goorsha goorsha</th>\n",
              "      <th>i denounce thee</th>\n",
              "      <th>lisa simpson lisa</th>\n",
              "      <th>simpson lisa simpson</th>\n",
              "      <th>the loneliest number</th>\n",
              "      <th>sad sad sad</th>\n",
              "    </tr>\n",
              "  </thead>\n",
              "  <tbody>\n",
              "    <tr>\n",
              "      <th>0</th>\n",
              "      <td>1</td>\n",
              "      <td>0</td>\n",
              "      <td>0</td>\n",
              "      <td>0</td>\n",
              "      <td>0</td>\n",
              "      <td>0</td>\n",
              "      <td>0</td>\n",
              "      <td>0</td>\n",
              "      <td>0</td>\n",
              "      <td>0</td>\n",
              "      <td>0</td>\n",
              "      <td>0</td>\n",
              "      <td>0</td>\n",
              "      <td>0</td>\n",
              "      <td>0</td>\n",
              "      <td>0</td>\n",
              "      <td>0</td>\n",
              "      <td>0</td>\n",
              "      <td>0</td>\n",
              "      <td>0</td>\n",
              "      <td>0</td>\n",
              "      <td>0</td>\n",
              "      <td>0</td>\n",
              "      <td>0</td>\n",
              "      <td>0</td>\n",
              "      <td>0</td>\n",
              "      <td>0</td>\n",
              "      <td>0</td>\n",
              "      <td>0</td>\n",
              "      <td>0</td>\n",
              "      <td>0</td>\n",
              "      <td>0</td>\n",
              "      <td>0</td>\n",
              "      <td>0</td>\n",
              "      <td>0</td>\n",
              "      <td>0</td>\n",
              "      <td>0</td>\n",
              "      <td>0</td>\n",
              "      <td>0</td>\n",
              "      <td>0</td>\n",
              "      <td>...</td>\n",
              "      <td>0</td>\n",
              "      <td>0</td>\n",
              "      <td>0</td>\n",
              "      <td>0</td>\n",
              "      <td>0</td>\n",
              "      <td>0</td>\n",
              "      <td>0</td>\n",
              "      <td>0</td>\n",
              "      <td>0</td>\n",
              "      <td>0</td>\n",
              "      <td>0</td>\n",
              "      <td>0</td>\n",
              "      <td>0</td>\n",
              "      <td>0</td>\n",
              "      <td>0</td>\n",
              "      <td>0</td>\n",
              "      <td>0</td>\n",
              "      <td>0</td>\n",
              "      <td>0</td>\n",
              "      <td>0</td>\n",
              "      <td>0</td>\n",
              "      <td>0</td>\n",
              "      <td>0</td>\n",
              "      <td>0</td>\n",
              "      <td>0</td>\n",
              "      <td>0</td>\n",
              "      <td>0</td>\n",
              "      <td>0</td>\n",
              "      <td>0</td>\n",
              "      <td>0</td>\n",
              "      <td>0</td>\n",
              "      <td>0</td>\n",
              "      <td>0</td>\n",
              "      <td>0</td>\n",
              "      <td>0</td>\n",
              "      <td>0</td>\n",
              "      <td>0</td>\n",
              "      <td>0</td>\n",
              "      <td>0</td>\n",
              "      <td>0</td>\n",
              "    </tr>\n",
              "    <tr>\n",
              "      <th>1</th>\n",
              "      <td>0</td>\n",
              "      <td>0</td>\n",
              "      <td>0</td>\n",
              "      <td>0</td>\n",
              "      <td>0</td>\n",
              "      <td>0</td>\n",
              "      <td>0</td>\n",
              "      <td>0</td>\n",
              "      <td>0</td>\n",
              "      <td>0</td>\n",
              "      <td>0</td>\n",
              "      <td>0</td>\n",
              "      <td>0</td>\n",
              "      <td>0</td>\n",
              "      <td>0</td>\n",
              "      <td>0</td>\n",
              "      <td>0</td>\n",
              "      <td>0</td>\n",
              "      <td>0</td>\n",
              "      <td>0</td>\n",
              "      <td>0</td>\n",
              "      <td>0</td>\n",
              "      <td>0</td>\n",
              "      <td>0</td>\n",
              "      <td>0</td>\n",
              "      <td>0</td>\n",
              "      <td>0</td>\n",
              "      <td>0</td>\n",
              "      <td>0</td>\n",
              "      <td>0</td>\n",
              "      <td>0</td>\n",
              "      <td>0</td>\n",
              "      <td>0</td>\n",
              "      <td>0</td>\n",
              "      <td>0</td>\n",
              "      <td>0</td>\n",
              "      <td>0</td>\n",
              "      <td>0</td>\n",
              "      <td>0</td>\n",
              "      <td>0</td>\n",
              "      <td>...</td>\n",
              "      <td>0</td>\n",
              "      <td>0</td>\n",
              "      <td>0</td>\n",
              "      <td>0</td>\n",
              "      <td>0</td>\n",
              "      <td>0</td>\n",
              "      <td>0</td>\n",
              "      <td>0</td>\n",
              "      <td>0</td>\n",
              "      <td>0</td>\n",
              "      <td>0</td>\n",
              "      <td>0</td>\n",
              "      <td>0</td>\n",
              "      <td>0</td>\n",
              "      <td>0</td>\n",
              "      <td>0</td>\n",
              "      <td>0</td>\n",
              "      <td>0</td>\n",
              "      <td>0</td>\n",
              "      <td>0</td>\n",
              "      <td>0</td>\n",
              "      <td>0</td>\n",
              "      <td>0</td>\n",
              "      <td>0</td>\n",
              "      <td>0</td>\n",
              "      <td>0</td>\n",
              "      <td>0</td>\n",
              "      <td>0</td>\n",
              "      <td>0</td>\n",
              "      <td>0</td>\n",
              "      <td>0</td>\n",
              "      <td>0</td>\n",
              "      <td>0</td>\n",
              "      <td>0</td>\n",
              "      <td>0</td>\n",
              "      <td>0</td>\n",
              "      <td>0</td>\n",
              "      <td>0</td>\n",
              "      <td>0</td>\n",
              "      <td>0</td>\n",
              "    </tr>\n",
              "    <tr>\n",
              "      <th>2</th>\n",
              "      <td>0</td>\n",
              "      <td>1</td>\n",
              "      <td>1</td>\n",
              "      <td>1</td>\n",
              "      <td>1</td>\n",
              "      <td>1</td>\n",
              "      <td>0</td>\n",
              "      <td>0</td>\n",
              "      <td>0</td>\n",
              "      <td>0</td>\n",
              "      <td>0</td>\n",
              "      <td>0</td>\n",
              "      <td>0</td>\n",
              "      <td>0</td>\n",
              "      <td>0</td>\n",
              "      <td>0</td>\n",
              "      <td>0</td>\n",
              "      <td>0</td>\n",
              "      <td>0</td>\n",
              "      <td>0</td>\n",
              "      <td>0</td>\n",
              "      <td>0</td>\n",
              "      <td>0</td>\n",
              "      <td>0</td>\n",
              "      <td>0</td>\n",
              "      <td>0</td>\n",
              "      <td>0</td>\n",
              "      <td>0</td>\n",
              "      <td>0</td>\n",
              "      <td>0</td>\n",
              "      <td>0</td>\n",
              "      <td>0</td>\n",
              "      <td>0</td>\n",
              "      <td>0</td>\n",
              "      <td>0</td>\n",
              "      <td>0</td>\n",
              "      <td>0</td>\n",
              "      <td>0</td>\n",
              "      <td>0</td>\n",
              "      <td>0</td>\n",
              "      <td>...</td>\n",
              "      <td>0</td>\n",
              "      <td>0</td>\n",
              "      <td>0</td>\n",
              "      <td>0</td>\n",
              "      <td>0</td>\n",
              "      <td>0</td>\n",
              "      <td>0</td>\n",
              "      <td>0</td>\n",
              "      <td>0</td>\n",
              "      <td>0</td>\n",
              "      <td>0</td>\n",
              "      <td>0</td>\n",
              "      <td>0</td>\n",
              "      <td>0</td>\n",
              "      <td>0</td>\n",
              "      <td>0</td>\n",
              "      <td>0</td>\n",
              "      <td>0</td>\n",
              "      <td>0</td>\n",
              "      <td>0</td>\n",
              "      <td>0</td>\n",
              "      <td>0</td>\n",
              "      <td>0</td>\n",
              "      <td>0</td>\n",
              "      <td>0</td>\n",
              "      <td>0</td>\n",
              "      <td>0</td>\n",
              "      <td>0</td>\n",
              "      <td>0</td>\n",
              "      <td>0</td>\n",
              "      <td>0</td>\n",
              "      <td>0</td>\n",
              "      <td>0</td>\n",
              "      <td>0</td>\n",
              "      <td>0</td>\n",
              "      <td>0</td>\n",
              "      <td>0</td>\n",
              "      <td>0</td>\n",
              "      <td>0</td>\n",
              "      <td>0</td>\n",
              "    </tr>\n",
              "    <tr>\n",
              "      <th>3</th>\n",
              "      <td>0</td>\n",
              "      <td>0</td>\n",
              "      <td>0</td>\n",
              "      <td>0</td>\n",
              "      <td>0</td>\n",
              "      <td>0</td>\n",
              "      <td>0</td>\n",
              "      <td>0</td>\n",
              "      <td>0</td>\n",
              "      <td>0</td>\n",
              "      <td>0</td>\n",
              "      <td>0</td>\n",
              "      <td>0</td>\n",
              "      <td>0</td>\n",
              "      <td>0</td>\n",
              "      <td>0</td>\n",
              "      <td>0</td>\n",
              "      <td>0</td>\n",
              "      <td>0</td>\n",
              "      <td>0</td>\n",
              "      <td>0</td>\n",
              "      <td>0</td>\n",
              "      <td>0</td>\n",
              "      <td>0</td>\n",
              "      <td>0</td>\n",
              "      <td>0</td>\n",
              "      <td>0</td>\n",
              "      <td>0</td>\n",
              "      <td>0</td>\n",
              "      <td>0</td>\n",
              "      <td>0</td>\n",
              "      <td>0</td>\n",
              "      <td>0</td>\n",
              "      <td>0</td>\n",
              "      <td>0</td>\n",
              "      <td>0</td>\n",
              "      <td>0</td>\n",
              "      <td>0</td>\n",
              "      <td>0</td>\n",
              "      <td>0</td>\n",
              "      <td>...</td>\n",
              "      <td>0</td>\n",
              "      <td>0</td>\n",
              "      <td>0</td>\n",
              "      <td>0</td>\n",
              "      <td>0</td>\n",
              "      <td>0</td>\n",
              "      <td>0</td>\n",
              "      <td>0</td>\n",
              "      <td>0</td>\n",
              "      <td>0</td>\n",
              "      <td>0</td>\n",
              "      <td>0</td>\n",
              "      <td>0</td>\n",
              "      <td>0</td>\n",
              "      <td>0</td>\n",
              "      <td>0</td>\n",
              "      <td>0</td>\n",
              "      <td>0</td>\n",
              "      <td>0</td>\n",
              "      <td>0</td>\n",
              "      <td>0</td>\n",
              "      <td>0</td>\n",
              "      <td>0</td>\n",
              "      <td>0</td>\n",
              "      <td>0</td>\n",
              "      <td>0</td>\n",
              "      <td>0</td>\n",
              "      <td>0</td>\n",
              "      <td>0</td>\n",
              "      <td>0</td>\n",
              "      <td>0</td>\n",
              "      <td>0</td>\n",
              "      <td>0</td>\n",
              "      <td>0</td>\n",
              "      <td>0</td>\n",
              "      <td>0</td>\n",
              "      <td>0</td>\n",
              "      <td>0</td>\n",
              "      <td>0</td>\n",
              "      <td>0</td>\n",
              "    </tr>\n",
              "    <tr>\n",
              "      <th>4</th>\n",
              "      <td>0</td>\n",
              "      <td>0</td>\n",
              "      <td>0</td>\n",
              "      <td>0</td>\n",
              "      <td>0</td>\n",
              "      <td>0</td>\n",
              "      <td>0</td>\n",
              "      <td>1</td>\n",
              "      <td>0</td>\n",
              "      <td>0</td>\n",
              "      <td>0</td>\n",
              "      <td>0</td>\n",
              "      <td>0</td>\n",
              "      <td>0</td>\n",
              "      <td>0</td>\n",
              "      <td>0</td>\n",
              "      <td>0</td>\n",
              "      <td>0</td>\n",
              "      <td>0</td>\n",
              "      <td>0</td>\n",
              "      <td>0</td>\n",
              "      <td>0</td>\n",
              "      <td>0</td>\n",
              "      <td>0</td>\n",
              "      <td>0</td>\n",
              "      <td>0</td>\n",
              "      <td>0</td>\n",
              "      <td>0</td>\n",
              "      <td>0</td>\n",
              "      <td>0</td>\n",
              "      <td>0</td>\n",
              "      <td>0</td>\n",
              "      <td>0</td>\n",
              "      <td>0</td>\n",
              "      <td>0</td>\n",
              "      <td>0</td>\n",
              "      <td>0</td>\n",
              "      <td>0</td>\n",
              "      <td>0</td>\n",
              "      <td>0</td>\n",
              "      <td>...</td>\n",
              "      <td>0</td>\n",
              "      <td>0</td>\n",
              "      <td>0</td>\n",
              "      <td>0</td>\n",
              "      <td>0</td>\n",
              "      <td>0</td>\n",
              "      <td>0</td>\n",
              "      <td>0</td>\n",
              "      <td>0</td>\n",
              "      <td>0</td>\n",
              "      <td>0</td>\n",
              "      <td>0</td>\n",
              "      <td>0</td>\n",
              "      <td>0</td>\n",
              "      <td>0</td>\n",
              "      <td>0</td>\n",
              "      <td>0</td>\n",
              "      <td>0</td>\n",
              "      <td>0</td>\n",
              "      <td>0</td>\n",
              "      <td>0</td>\n",
              "      <td>0</td>\n",
              "      <td>0</td>\n",
              "      <td>0</td>\n",
              "      <td>0</td>\n",
              "      <td>0</td>\n",
              "      <td>0</td>\n",
              "      <td>0</td>\n",
              "      <td>0</td>\n",
              "      <td>0</td>\n",
              "      <td>0</td>\n",
              "      <td>0</td>\n",
              "      <td>0</td>\n",
              "      <td>0</td>\n",
              "      <td>0</td>\n",
              "      <td>0</td>\n",
              "      <td>0</td>\n",
              "      <td>0</td>\n",
              "      <td>0</td>\n",
              "      <td>0</td>\n",
              "    </tr>\n",
              "    <tr>\n",
              "      <th>...</th>\n",
              "      <td>...</td>\n",
              "      <td>...</td>\n",
              "      <td>...</td>\n",
              "      <td>...</td>\n",
              "      <td>...</td>\n",
              "      <td>...</td>\n",
              "      <td>...</td>\n",
              "      <td>...</td>\n",
              "      <td>...</td>\n",
              "      <td>...</td>\n",
              "      <td>...</td>\n",
              "      <td>...</td>\n",
              "      <td>...</td>\n",
              "      <td>...</td>\n",
              "      <td>...</td>\n",
              "      <td>...</td>\n",
              "      <td>...</td>\n",
              "      <td>...</td>\n",
              "      <td>...</td>\n",
              "      <td>...</td>\n",
              "      <td>...</td>\n",
              "      <td>...</td>\n",
              "      <td>...</td>\n",
              "      <td>...</td>\n",
              "      <td>...</td>\n",
              "      <td>...</td>\n",
              "      <td>...</td>\n",
              "      <td>...</td>\n",
              "      <td>...</td>\n",
              "      <td>...</td>\n",
              "      <td>...</td>\n",
              "      <td>...</td>\n",
              "      <td>...</td>\n",
              "      <td>...</td>\n",
              "      <td>...</td>\n",
              "      <td>...</td>\n",
              "      <td>...</td>\n",
              "      <td>...</td>\n",
              "      <td>...</td>\n",
              "      <td>...</td>\n",
              "      <td>...</td>\n",
              "      <td>...</td>\n",
              "      <td>...</td>\n",
              "      <td>...</td>\n",
              "      <td>...</td>\n",
              "      <td>...</td>\n",
              "      <td>...</td>\n",
              "      <td>...</td>\n",
              "      <td>...</td>\n",
              "      <td>...</td>\n",
              "      <td>...</td>\n",
              "      <td>...</td>\n",
              "      <td>...</td>\n",
              "      <td>...</td>\n",
              "      <td>...</td>\n",
              "      <td>...</td>\n",
              "      <td>...</td>\n",
              "      <td>...</td>\n",
              "      <td>...</td>\n",
              "      <td>...</td>\n",
              "      <td>...</td>\n",
              "      <td>...</td>\n",
              "      <td>...</td>\n",
              "      <td>...</td>\n",
              "      <td>...</td>\n",
              "      <td>...</td>\n",
              "      <td>...</td>\n",
              "      <td>...</td>\n",
              "      <td>...</td>\n",
              "      <td>...</td>\n",
              "      <td>...</td>\n",
              "      <td>...</td>\n",
              "      <td>...</td>\n",
              "      <td>...</td>\n",
              "      <td>...</td>\n",
              "      <td>...</td>\n",
              "      <td>...</td>\n",
              "      <td>...</td>\n",
              "      <td>...</td>\n",
              "      <td>...</td>\n",
              "      <td>...</td>\n",
              "    </tr>\n",
              "    <tr>\n",
              "      <th>50090</th>\n",
              "      <td>0</td>\n",
              "      <td>0</td>\n",
              "      <td>0</td>\n",
              "      <td>0</td>\n",
              "      <td>0</td>\n",
              "      <td>0</td>\n",
              "      <td>0</td>\n",
              "      <td>0</td>\n",
              "      <td>0</td>\n",
              "      <td>0</td>\n",
              "      <td>0</td>\n",
              "      <td>0</td>\n",
              "      <td>0</td>\n",
              "      <td>0</td>\n",
              "      <td>0</td>\n",
              "      <td>0</td>\n",
              "      <td>0</td>\n",
              "      <td>0</td>\n",
              "      <td>0</td>\n",
              "      <td>0</td>\n",
              "      <td>0</td>\n",
              "      <td>0</td>\n",
              "      <td>0</td>\n",
              "      <td>0</td>\n",
              "      <td>0</td>\n",
              "      <td>0</td>\n",
              "      <td>0</td>\n",
              "      <td>0</td>\n",
              "      <td>0</td>\n",
              "      <td>0</td>\n",
              "      <td>0</td>\n",
              "      <td>0</td>\n",
              "      <td>0</td>\n",
              "      <td>0</td>\n",
              "      <td>0</td>\n",
              "      <td>0</td>\n",
              "      <td>0</td>\n",
              "      <td>0</td>\n",
              "      <td>0</td>\n",
              "      <td>0</td>\n",
              "      <td>...</td>\n",
              "      <td>0</td>\n",
              "      <td>0</td>\n",
              "      <td>0</td>\n",
              "      <td>0</td>\n",
              "      <td>0</td>\n",
              "      <td>0</td>\n",
              "      <td>0</td>\n",
              "      <td>0</td>\n",
              "      <td>0</td>\n",
              "      <td>0</td>\n",
              "      <td>0</td>\n",
              "      <td>0</td>\n",
              "      <td>0</td>\n",
              "      <td>0</td>\n",
              "      <td>0</td>\n",
              "      <td>0</td>\n",
              "      <td>0</td>\n",
              "      <td>0</td>\n",
              "      <td>0</td>\n",
              "      <td>0</td>\n",
              "      <td>0</td>\n",
              "      <td>0</td>\n",
              "      <td>0</td>\n",
              "      <td>0</td>\n",
              "      <td>0</td>\n",
              "      <td>0</td>\n",
              "      <td>0</td>\n",
              "      <td>0</td>\n",
              "      <td>0</td>\n",
              "      <td>0</td>\n",
              "      <td>0</td>\n",
              "      <td>0</td>\n",
              "      <td>0</td>\n",
              "      <td>0</td>\n",
              "      <td>0</td>\n",
              "      <td>0</td>\n",
              "      <td>0</td>\n",
              "      <td>0</td>\n",
              "      <td>0</td>\n",
              "      <td>0</td>\n",
              "    </tr>\n",
              "    <tr>\n",
              "      <th>50091</th>\n",
              "      <td>0</td>\n",
              "      <td>0</td>\n",
              "      <td>0</td>\n",
              "      <td>0</td>\n",
              "      <td>0</td>\n",
              "      <td>0</td>\n",
              "      <td>0</td>\n",
              "      <td>0</td>\n",
              "      <td>0</td>\n",
              "      <td>0</td>\n",
              "      <td>0</td>\n",
              "      <td>0</td>\n",
              "      <td>0</td>\n",
              "      <td>0</td>\n",
              "      <td>0</td>\n",
              "      <td>0</td>\n",
              "      <td>0</td>\n",
              "      <td>0</td>\n",
              "      <td>0</td>\n",
              "      <td>0</td>\n",
              "      <td>0</td>\n",
              "      <td>0</td>\n",
              "      <td>0</td>\n",
              "      <td>0</td>\n",
              "      <td>0</td>\n",
              "      <td>0</td>\n",
              "      <td>0</td>\n",
              "      <td>0</td>\n",
              "      <td>0</td>\n",
              "      <td>0</td>\n",
              "      <td>0</td>\n",
              "      <td>0</td>\n",
              "      <td>0</td>\n",
              "      <td>0</td>\n",
              "      <td>0</td>\n",
              "      <td>0</td>\n",
              "      <td>0</td>\n",
              "      <td>0</td>\n",
              "      <td>0</td>\n",
              "      <td>0</td>\n",
              "      <td>...</td>\n",
              "      <td>0</td>\n",
              "      <td>0</td>\n",
              "      <td>0</td>\n",
              "      <td>0</td>\n",
              "      <td>0</td>\n",
              "      <td>0</td>\n",
              "      <td>0</td>\n",
              "      <td>0</td>\n",
              "      <td>0</td>\n",
              "      <td>0</td>\n",
              "      <td>0</td>\n",
              "      <td>0</td>\n",
              "      <td>0</td>\n",
              "      <td>0</td>\n",
              "      <td>0</td>\n",
              "      <td>0</td>\n",
              "      <td>0</td>\n",
              "      <td>0</td>\n",
              "      <td>0</td>\n",
              "      <td>0</td>\n",
              "      <td>0</td>\n",
              "      <td>0</td>\n",
              "      <td>0</td>\n",
              "      <td>0</td>\n",
              "      <td>0</td>\n",
              "      <td>0</td>\n",
              "      <td>0</td>\n",
              "      <td>0</td>\n",
              "      <td>0</td>\n",
              "      <td>0</td>\n",
              "      <td>0</td>\n",
              "      <td>0</td>\n",
              "      <td>0</td>\n",
              "      <td>0</td>\n",
              "      <td>0</td>\n",
              "      <td>0</td>\n",
              "      <td>0</td>\n",
              "      <td>0</td>\n",
              "      <td>0</td>\n",
              "      <td>0</td>\n",
              "    </tr>\n",
              "    <tr>\n",
              "      <th>50092</th>\n",
              "      <td>0</td>\n",
              "      <td>0</td>\n",
              "      <td>0</td>\n",
              "      <td>0</td>\n",
              "      <td>0</td>\n",
              "      <td>0</td>\n",
              "      <td>0</td>\n",
              "      <td>0</td>\n",
              "      <td>0</td>\n",
              "      <td>0</td>\n",
              "      <td>0</td>\n",
              "      <td>0</td>\n",
              "      <td>0</td>\n",
              "      <td>0</td>\n",
              "      <td>0</td>\n",
              "      <td>0</td>\n",
              "      <td>0</td>\n",
              "      <td>0</td>\n",
              "      <td>0</td>\n",
              "      <td>0</td>\n",
              "      <td>0</td>\n",
              "      <td>0</td>\n",
              "      <td>0</td>\n",
              "      <td>0</td>\n",
              "      <td>0</td>\n",
              "      <td>0</td>\n",
              "      <td>0</td>\n",
              "      <td>0</td>\n",
              "      <td>0</td>\n",
              "      <td>0</td>\n",
              "      <td>0</td>\n",
              "      <td>0</td>\n",
              "      <td>0</td>\n",
              "      <td>0</td>\n",
              "      <td>0</td>\n",
              "      <td>0</td>\n",
              "      <td>0</td>\n",
              "      <td>0</td>\n",
              "      <td>0</td>\n",
              "      <td>0</td>\n",
              "      <td>...</td>\n",
              "      <td>0</td>\n",
              "      <td>0</td>\n",
              "      <td>0</td>\n",
              "      <td>0</td>\n",
              "      <td>0</td>\n",
              "      <td>0</td>\n",
              "      <td>0</td>\n",
              "      <td>0</td>\n",
              "      <td>0</td>\n",
              "      <td>0</td>\n",
              "      <td>0</td>\n",
              "      <td>0</td>\n",
              "      <td>0</td>\n",
              "      <td>0</td>\n",
              "      <td>0</td>\n",
              "      <td>0</td>\n",
              "      <td>0</td>\n",
              "      <td>0</td>\n",
              "      <td>0</td>\n",
              "      <td>0</td>\n",
              "      <td>0</td>\n",
              "      <td>0</td>\n",
              "      <td>0</td>\n",
              "      <td>0</td>\n",
              "      <td>0</td>\n",
              "      <td>0</td>\n",
              "      <td>0</td>\n",
              "      <td>0</td>\n",
              "      <td>0</td>\n",
              "      <td>0</td>\n",
              "      <td>0</td>\n",
              "      <td>0</td>\n",
              "      <td>0</td>\n",
              "      <td>0</td>\n",
              "      <td>0</td>\n",
              "      <td>0</td>\n",
              "      <td>0</td>\n",
              "      <td>0</td>\n",
              "      <td>0</td>\n",
              "      <td>0</td>\n",
              "    </tr>\n",
              "    <tr>\n",
              "      <th>50093</th>\n",
              "      <td>0</td>\n",
              "      <td>0</td>\n",
              "      <td>0</td>\n",
              "      <td>0</td>\n",
              "      <td>0</td>\n",
              "      <td>0</td>\n",
              "      <td>0</td>\n",
              "      <td>0</td>\n",
              "      <td>0</td>\n",
              "      <td>0</td>\n",
              "      <td>0</td>\n",
              "      <td>0</td>\n",
              "      <td>0</td>\n",
              "      <td>0</td>\n",
              "      <td>0</td>\n",
              "      <td>0</td>\n",
              "      <td>0</td>\n",
              "      <td>0</td>\n",
              "      <td>0</td>\n",
              "      <td>0</td>\n",
              "      <td>0</td>\n",
              "      <td>0</td>\n",
              "      <td>0</td>\n",
              "      <td>0</td>\n",
              "      <td>0</td>\n",
              "      <td>0</td>\n",
              "      <td>0</td>\n",
              "      <td>0</td>\n",
              "      <td>0</td>\n",
              "      <td>0</td>\n",
              "      <td>0</td>\n",
              "      <td>0</td>\n",
              "      <td>0</td>\n",
              "      <td>0</td>\n",
              "      <td>0</td>\n",
              "      <td>0</td>\n",
              "      <td>0</td>\n",
              "      <td>0</td>\n",
              "      <td>0</td>\n",
              "      <td>0</td>\n",
              "      <td>...</td>\n",
              "      <td>0</td>\n",
              "      <td>0</td>\n",
              "      <td>0</td>\n",
              "      <td>0</td>\n",
              "      <td>0</td>\n",
              "      <td>0</td>\n",
              "      <td>0</td>\n",
              "      <td>0</td>\n",
              "      <td>0</td>\n",
              "      <td>0</td>\n",
              "      <td>0</td>\n",
              "      <td>0</td>\n",
              "      <td>0</td>\n",
              "      <td>0</td>\n",
              "      <td>0</td>\n",
              "      <td>0</td>\n",
              "      <td>0</td>\n",
              "      <td>0</td>\n",
              "      <td>0</td>\n",
              "      <td>0</td>\n",
              "      <td>0</td>\n",
              "      <td>0</td>\n",
              "      <td>0</td>\n",
              "      <td>0</td>\n",
              "      <td>0</td>\n",
              "      <td>0</td>\n",
              "      <td>0</td>\n",
              "      <td>0</td>\n",
              "      <td>0</td>\n",
              "      <td>0</td>\n",
              "      <td>0</td>\n",
              "      <td>0</td>\n",
              "      <td>0</td>\n",
              "      <td>0</td>\n",
              "      <td>0</td>\n",
              "      <td>0</td>\n",
              "      <td>0</td>\n",
              "      <td>0</td>\n",
              "      <td>0</td>\n",
              "      <td>0</td>\n",
              "    </tr>\n",
              "    <tr>\n",
              "      <th>50094</th>\n",
              "      <td>0</td>\n",
              "      <td>0</td>\n",
              "      <td>0</td>\n",
              "      <td>0</td>\n",
              "      <td>0</td>\n",
              "      <td>0</td>\n",
              "      <td>0</td>\n",
              "      <td>0</td>\n",
              "      <td>0</td>\n",
              "      <td>0</td>\n",
              "      <td>0</td>\n",
              "      <td>0</td>\n",
              "      <td>0</td>\n",
              "      <td>0</td>\n",
              "      <td>0</td>\n",
              "      <td>0</td>\n",
              "      <td>0</td>\n",
              "      <td>0</td>\n",
              "      <td>0</td>\n",
              "      <td>0</td>\n",
              "      <td>0</td>\n",
              "      <td>0</td>\n",
              "      <td>0</td>\n",
              "      <td>0</td>\n",
              "      <td>0</td>\n",
              "      <td>0</td>\n",
              "      <td>0</td>\n",
              "      <td>0</td>\n",
              "      <td>0</td>\n",
              "      <td>0</td>\n",
              "      <td>0</td>\n",
              "      <td>0</td>\n",
              "      <td>0</td>\n",
              "      <td>0</td>\n",
              "      <td>0</td>\n",
              "      <td>0</td>\n",
              "      <td>0</td>\n",
              "      <td>0</td>\n",
              "      <td>0</td>\n",
              "      <td>0</td>\n",
              "      <td>...</td>\n",
              "      <td>0</td>\n",
              "      <td>0</td>\n",
              "      <td>0</td>\n",
              "      <td>0</td>\n",
              "      <td>0</td>\n",
              "      <td>0</td>\n",
              "      <td>0</td>\n",
              "      <td>0</td>\n",
              "      <td>0</td>\n",
              "      <td>0</td>\n",
              "      <td>0</td>\n",
              "      <td>0</td>\n",
              "      <td>0</td>\n",
              "      <td>0</td>\n",
              "      <td>0</td>\n",
              "      <td>0</td>\n",
              "      <td>0</td>\n",
              "      <td>0</td>\n",
              "      <td>0</td>\n",
              "      <td>0</td>\n",
              "      <td>0</td>\n",
              "      <td>0</td>\n",
              "      <td>0</td>\n",
              "      <td>0</td>\n",
              "      <td>0</td>\n",
              "      <td>0</td>\n",
              "      <td>0</td>\n",
              "      <td>0</td>\n",
              "      <td>0</td>\n",
              "      <td>0</td>\n",
              "      <td>0</td>\n",
              "      <td>0</td>\n",
              "      <td>0</td>\n",
              "      <td>0</td>\n",
              "      <td>0</td>\n",
              "      <td>0</td>\n",
              "      <td>0</td>\n",
              "      <td>0</td>\n",
              "      <td>0</td>\n",
              "      <td>0</td>\n",
              "    </tr>\n",
              "  </tbody>\n",
              "</table>\n",
              "<p>50095 rows × 8316 columns</p>\n",
              "</div>"
            ],
            "text/plain": [
              "       the power of  what the hell  ...  the loneliest number  sad sad sad\n",
              "0                 1              0  ...                     0            0\n",
              "1                 0              0  ...                     0            0\n",
              "2                 0              1  ...                     0            0\n",
              "3                 0              0  ...                     0            0\n",
              "4                 0              0  ...                     0            0\n",
              "...             ...            ...  ...                   ...          ...\n",
              "50090             0              0  ...                     0            0\n",
              "50091             0              0  ...                     0            0\n",
              "50092             0              0  ...                     0            0\n",
              "50093             0              0  ...                     0            0\n",
              "50094             0              0  ...                     0            0\n",
              "\n",
              "[50095 rows x 8316 columns]"
            ]
          },
          "metadata": {
            "tags": []
          },
          "execution_count": 39
        }
      ]
    },
    {
      "cell_type": "markdown",
      "metadata": {
        "colab_type": "text",
        "id": "YMSJiTn3d2qs"
      },
      "source": [
        "### Bigramas\n",
        "Aunque bigrama_limpio ya no tiene ni los tokens con repitencias muy bajas ni muy altas, contiene tokens repetidos, por eso, para el vocabulario de CountVectorizer utilizameros los freqbnew.keys() que contiene los tokens unicos."
      ]
    },
    {
      "cell_type": "code",
      "metadata": {
        "colab_type": "code",
        "id": "hGVJSHqqd6wK",
        "colab": {}
      },
      "source": [
        "vectorizer2 = CountVectorizer(vocabulary=freqbnew.keys(), ngram_range=(2,2))"
      ],
      "execution_count": 40,
      "outputs": []
    },
    {
      "cell_type": "markdown",
      "metadata": {
        "id": "Wa920XcksDKD",
        "colab_type": "text"
      },
      "source": [
        "Las siuientes dos celdas de código se utilizaron para guardar los bigramas y subir los datos a drive para poder llamarlos desde el cuaderno *pre-chatbot*."
      ]
    },
    {
      "cell_type": "code",
      "metadata": {
        "id": "PWP5_BnAdTN7",
        "colab_type": "code",
        "colab": {}
      },
      "source": [
        "#guarda los freqbnew como .pickle\n",
        "#with open('freqbnew.pickle', 'wb') as f:\n",
        "#    pickle.dump(freqbnew, f)"
      ],
      "execution_count": 41,
      "outputs": []
    },
    {
      "cell_type": "code",
      "metadata": {
        "id": "yDxLlvYtingC",
        "colab_type": "code",
        "colab": {}
      },
      "source": [
        "#guarda freqbnew.pickle en drive\n",
        "#copyfile(\"freqbnew.pickle\", \"/content/drive/My Drive/Simpsons Chat bot/Modelos guardos/freqbnew.pickle\")"
      ],
      "execution_count": 42,
      "outputs": []
    },
    {
      "cell_type": "code",
      "metadata": {
        "colab_type": "code",
        "id": "2O0P6cxyd9QE",
        "colab": {}
      },
      "source": [
        "X2 = vectorizer2.fit_transform(sentences)"
      ],
      "execution_count": 43,
      "outputs": []
    },
    {
      "cell_type": "code",
      "metadata": {
        "colab_type": "code",
        "id": "Sdhtiwb0d_hS",
        "colab": {
          "base_uri": "https://localhost:8080/",
          "height": 202
        },
        "outputId": "1a11e6b8-25f7-4846-e755-99ed615f7722"
      },
      "source": [
        "F2 = vectorizer2.get_feature_names() #Mapeo de matriz de índices de enteros a nombres.\n",
        "F2[:10]"
      ],
      "execution_count": 44,
      "outputs": [
        {
          "output_type": "execute_result",
          "data": {
            "text/plain": [
              "['we have',\n",
              " 'what the',\n",
              " 'is that',\n",
              " 'oh my',\n",
              " 'my life',\n",
              " 'oh no',\n",
              " 'now i',\n",
              " 'i didnt',\n",
              " 'you were',\n",
              " 'i had']"
            ]
          },
          "metadata": {
            "tags": []
          },
          "execution_count": 44
        }
      ]
    },
    {
      "cell_type": "code",
      "metadata": {
        "colab_type": "code",
        "id": "gSIEa8d2eByA",
        "colab": {
          "base_uri": "https://localhost:8080/",
          "height": 35
        },
        "outputId": "0604f631-97ea-44d1-f343-31076932dbdd"
      },
      "source": [
        "sequences_b = X2.toarray() #arreglo\n",
        "print(\"longitud\",len(X2.toarray()))"
      ],
      "execution_count": 45,
      "outputs": [
        {
          "output_type": "stream",
          "text": [
            "longitud 50095\n"
          ],
          "name": "stdout"
        }
      ]
    },
    {
      "cell_type": "markdown",
      "metadata": {
        "colab_type": "text",
        "id": "9yHIqW9ieD-3"
      },
      "source": [
        "Como vemos en la tabla, cada fila corresponde a una frase de nuestro __sentences__ y cada columna corresponde a un bigrama, por lo tanto la tabla es de (50095 × 307),\n",
        "\n",
        "  - sentences: 50095\n",
        "  - Bigramas unicos con sus frecuencias: 307"
      ]
    },
    {
      "cell_type": "code",
      "metadata": {
        "colab_type": "code",
        "id": "9StfmyU3eGcC",
        "colab": {
          "base_uri": "https://localhost:8080/",
          "height": 461
        },
        "outputId": "861c6d4a-a932-4b4d-d9b0-356a2c032e3c"
      },
      "source": [
        "pd.DataFrame(sequences_b,columns=vectorizer2.get_feature_names())"
      ],
      "execution_count": 46,
      "outputs": [
        {
          "output_type": "execute_result",
          "data": {
            "text/html": [
              "<div>\n",
              "<style scoped>\n",
              "    .dataframe tbody tr th:only-of-type {\n",
              "        vertical-align: middle;\n",
              "    }\n",
              "\n",
              "    .dataframe tbody tr th {\n",
              "        vertical-align: top;\n",
              "    }\n",
              "\n",
              "    .dataframe thead th {\n",
              "        text-align: right;\n",
              "    }\n",
              "</style>\n",
              "<table border=\"1\" class=\"dataframe\">\n",
              "  <thead>\n",
              "    <tr style=\"text-align: right;\">\n",
              "      <th></th>\n",
              "      <th>we have</th>\n",
              "      <th>what the</th>\n",
              "      <th>is that</th>\n",
              "      <th>oh my</th>\n",
              "      <th>my life</th>\n",
              "      <th>oh no</th>\n",
              "      <th>now i</th>\n",
              "      <th>i didnt</th>\n",
              "      <th>you were</th>\n",
              "      <th>i had</th>\n",
              "      <th>to the</th>\n",
              "      <th>the house</th>\n",
              "      <th>and a</th>\n",
              "      <th>have you</th>\n",
              "      <th>you a</th>\n",
              "      <th>give me</th>\n",
              "      <th>i got</th>\n",
              "      <th>got a</th>\n",
              "      <th>with my</th>\n",
              "      <th>what are</th>\n",
              "      <th>you doing</th>\n",
              "      <th>oh yeah</th>\n",
              "      <th>thats a</th>\n",
              "      <th>is this</th>\n",
              "      <th>just a</th>\n",
              "      <th>will be</th>\n",
              "      <th>but im</th>\n",
              "      <th>im sure</th>\n",
              "      <th>up to</th>\n",
              "      <th>wait a</th>\n",
              "      <th>a minute</th>\n",
              "      <th>im not</th>\n",
              "      <th>of the</th>\n",
              "      <th>the last</th>\n",
              "      <th>the world</th>\n",
              "      <th>can i</th>\n",
              "      <th>is the</th>\n",
              "      <th>the best</th>\n",
              "      <th>of my</th>\n",
              "      <th>mr burns</th>\n",
              "      <th>...</th>\n",
              "      <th>see you</th>\n",
              "      <th>you like</th>\n",
              "      <th>was a</th>\n",
              "      <th>of your</th>\n",
              "      <th>im sorry</th>\n",
              "      <th>you didnt</th>\n",
              "      <th>you really</th>\n",
              "      <th>at me</th>\n",
              "      <th>dad you</th>\n",
              "      <th>a great</th>\n",
              "      <th>make it</th>\n",
              "      <th>you mean</th>\n",
              "      <th>so much</th>\n",
              "      <th>thats the</th>\n",
              "      <th>i really</th>\n",
              "      <th>like this</th>\n",
              "      <th>when you</th>\n",
              "      <th>used to</th>\n",
              "      <th>what about</th>\n",
              "      <th>ill be</th>\n",
              "      <th>im so</th>\n",
              "      <th>the one</th>\n",
              "      <th>your father</th>\n",
              "      <th>one of</th>\n",
              "      <th>i hope</th>\n",
              "      <th>to your</th>\n",
              "      <th>is so</th>\n",
              "      <th>what a</th>\n",
              "      <th>looks like</th>\n",
              "      <th>you do</th>\n",
              "      <th>we were</th>\n",
              "      <th>ive never</th>\n",
              "      <th>im going</th>\n",
              "      <th>dad i</th>\n",
              "      <th>think you</th>\n",
              "      <th>homer i</th>\n",
              "      <th>got to</th>\n",
              "      <th>mom i</th>\n",
              "      <th>it to</th>\n",
              "      <th>can we</th>\n",
              "    </tr>\n",
              "  </thead>\n",
              "  <tbody>\n",
              "    <tr>\n",
              "      <th>0</th>\n",
              "      <td>0</td>\n",
              "      <td>0</td>\n",
              "      <td>0</td>\n",
              "      <td>0</td>\n",
              "      <td>0</td>\n",
              "      <td>0</td>\n",
              "      <td>0</td>\n",
              "      <td>0</td>\n",
              "      <td>0</td>\n",
              "      <td>0</td>\n",
              "      <td>0</td>\n",
              "      <td>0</td>\n",
              "      <td>0</td>\n",
              "      <td>0</td>\n",
              "      <td>0</td>\n",
              "      <td>0</td>\n",
              "      <td>0</td>\n",
              "      <td>0</td>\n",
              "      <td>0</td>\n",
              "      <td>0</td>\n",
              "      <td>0</td>\n",
              "      <td>0</td>\n",
              "      <td>0</td>\n",
              "      <td>0</td>\n",
              "      <td>0</td>\n",
              "      <td>0</td>\n",
              "      <td>0</td>\n",
              "      <td>0</td>\n",
              "      <td>0</td>\n",
              "      <td>0</td>\n",
              "      <td>0</td>\n",
              "      <td>0</td>\n",
              "      <td>0</td>\n",
              "      <td>0</td>\n",
              "      <td>0</td>\n",
              "      <td>0</td>\n",
              "      <td>0</td>\n",
              "      <td>0</td>\n",
              "      <td>0</td>\n",
              "      <td>0</td>\n",
              "      <td>...</td>\n",
              "      <td>0</td>\n",
              "      <td>0</td>\n",
              "      <td>0</td>\n",
              "      <td>0</td>\n",
              "      <td>0</td>\n",
              "      <td>0</td>\n",
              "      <td>0</td>\n",
              "      <td>0</td>\n",
              "      <td>0</td>\n",
              "      <td>0</td>\n",
              "      <td>0</td>\n",
              "      <td>0</td>\n",
              "      <td>0</td>\n",
              "      <td>0</td>\n",
              "      <td>0</td>\n",
              "      <td>0</td>\n",
              "      <td>0</td>\n",
              "      <td>0</td>\n",
              "      <td>0</td>\n",
              "      <td>0</td>\n",
              "      <td>0</td>\n",
              "      <td>0</td>\n",
              "      <td>0</td>\n",
              "      <td>0</td>\n",
              "      <td>0</td>\n",
              "      <td>0</td>\n",
              "      <td>0</td>\n",
              "      <td>0</td>\n",
              "      <td>0</td>\n",
              "      <td>0</td>\n",
              "      <td>0</td>\n",
              "      <td>0</td>\n",
              "      <td>0</td>\n",
              "      <td>0</td>\n",
              "      <td>0</td>\n",
              "      <td>0</td>\n",
              "      <td>0</td>\n",
              "      <td>0</td>\n",
              "      <td>0</td>\n",
              "      <td>0</td>\n",
              "    </tr>\n",
              "    <tr>\n",
              "      <th>1</th>\n",
              "      <td>2</td>\n",
              "      <td>0</td>\n",
              "      <td>0</td>\n",
              "      <td>0</td>\n",
              "      <td>0</td>\n",
              "      <td>0</td>\n",
              "      <td>0</td>\n",
              "      <td>0</td>\n",
              "      <td>0</td>\n",
              "      <td>0</td>\n",
              "      <td>0</td>\n",
              "      <td>0</td>\n",
              "      <td>0</td>\n",
              "      <td>0</td>\n",
              "      <td>0</td>\n",
              "      <td>0</td>\n",
              "      <td>0</td>\n",
              "      <td>0</td>\n",
              "      <td>0</td>\n",
              "      <td>0</td>\n",
              "      <td>0</td>\n",
              "      <td>0</td>\n",
              "      <td>0</td>\n",
              "      <td>0</td>\n",
              "      <td>0</td>\n",
              "      <td>0</td>\n",
              "      <td>0</td>\n",
              "      <td>0</td>\n",
              "      <td>0</td>\n",
              "      <td>0</td>\n",
              "      <td>0</td>\n",
              "      <td>0</td>\n",
              "      <td>0</td>\n",
              "      <td>0</td>\n",
              "      <td>0</td>\n",
              "      <td>0</td>\n",
              "      <td>0</td>\n",
              "      <td>0</td>\n",
              "      <td>0</td>\n",
              "      <td>0</td>\n",
              "      <td>...</td>\n",
              "      <td>0</td>\n",
              "      <td>0</td>\n",
              "      <td>0</td>\n",
              "      <td>0</td>\n",
              "      <td>0</td>\n",
              "      <td>0</td>\n",
              "      <td>0</td>\n",
              "      <td>0</td>\n",
              "      <td>0</td>\n",
              "      <td>0</td>\n",
              "      <td>0</td>\n",
              "      <td>0</td>\n",
              "      <td>0</td>\n",
              "      <td>0</td>\n",
              "      <td>0</td>\n",
              "      <td>0</td>\n",
              "      <td>0</td>\n",
              "      <td>0</td>\n",
              "      <td>0</td>\n",
              "      <td>0</td>\n",
              "      <td>0</td>\n",
              "      <td>0</td>\n",
              "      <td>0</td>\n",
              "      <td>0</td>\n",
              "      <td>0</td>\n",
              "      <td>0</td>\n",
              "      <td>0</td>\n",
              "      <td>0</td>\n",
              "      <td>0</td>\n",
              "      <td>0</td>\n",
              "      <td>0</td>\n",
              "      <td>0</td>\n",
              "      <td>0</td>\n",
              "      <td>0</td>\n",
              "      <td>0</td>\n",
              "      <td>0</td>\n",
              "      <td>0</td>\n",
              "      <td>0</td>\n",
              "      <td>0</td>\n",
              "      <td>0</td>\n",
              "    </tr>\n",
              "    <tr>\n",
              "      <th>2</th>\n",
              "      <td>0</td>\n",
              "      <td>1</td>\n",
              "      <td>1</td>\n",
              "      <td>1</td>\n",
              "      <td>1</td>\n",
              "      <td>0</td>\n",
              "      <td>0</td>\n",
              "      <td>0</td>\n",
              "      <td>0</td>\n",
              "      <td>0</td>\n",
              "      <td>0</td>\n",
              "      <td>0</td>\n",
              "      <td>0</td>\n",
              "      <td>0</td>\n",
              "      <td>0</td>\n",
              "      <td>0</td>\n",
              "      <td>0</td>\n",
              "      <td>0</td>\n",
              "      <td>0</td>\n",
              "      <td>0</td>\n",
              "      <td>0</td>\n",
              "      <td>0</td>\n",
              "      <td>0</td>\n",
              "      <td>0</td>\n",
              "      <td>0</td>\n",
              "      <td>0</td>\n",
              "      <td>0</td>\n",
              "      <td>0</td>\n",
              "      <td>0</td>\n",
              "      <td>0</td>\n",
              "      <td>0</td>\n",
              "      <td>0</td>\n",
              "      <td>0</td>\n",
              "      <td>0</td>\n",
              "      <td>0</td>\n",
              "      <td>0</td>\n",
              "      <td>0</td>\n",
              "      <td>0</td>\n",
              "      <td>0</td>\n",
              "      <td>0</td>\n",
              "      <td>...</td>\n",
              "      <td>0</td>\n",
              "      <td>0</td>\n",
              "      <td>0</td>\n",
              "      <td>0</td>\n",
              "      <td>0</td>\n",
              "      <td>0</td>\n",
              "      <td>0</td>\n",
              "      <td>0</td>\n",
              "      <td>0</td>\n",
              "      <td>0</td>\n",
              "      <td>0</td>\n",
              "      <td>0</td>\n",
              "      <td>0</td>\n",
              "      <td>0</td>\n",
              "      <td>0</td>\n",
              "      <td>0</td>\n",
              "      <td>0</td>\n",
              "      <td>0</td>\n",
              "      <td>0</td>\n",
              "      <td>0</td>\n",
              "      <td>0</td>\n",
              "      <td>0</td>\n",
              "      <td>0</td>\n",
              "      <td>0</td>\n",
              "      <td>0</td>\n",
              "      <td>0</td>\n",
              "      <td>0</td>\n",
              "      <td>0</td>\n",
              "      <td>0</td>\n",
              "      <td>0</td>\n",
              "      <td>0</td>\n",
              "      <td>0</td>\n",
              "      <td>0</td>\n",
              "      <td>0</td>\n",
              "      <td>0</td>\n",
              "      <td>0</td>\n",
              "      <td>0</td>\n",
              "      <td>0</td>\n",
              "      <td>0</td>\n",
              "      <td>0</td>\n",
              "    </tr>\n",
              "    <tr>\n",
              "      <th>3</th>\n",
              "      <td>0</td>\n",
              "      <td>0</td>\n",
              "      <td>0</td>\n",
              "      <td>0</td>\n",
              "      <td>0</td>\n",
              "      <td>1</td>\n",
              "      <td>0</td>\n",
              "      <td>0</td>\n",
              "      <td>0</td>\n",
              "      <td>0</td>\n",
              "      <td>0</td>\n",
              "      <td>0</td>\n",
              "      <td>0</td>\n",
              "      <td>0</td>\n",
              "      <td>0</td>\n",
              "      <td>0</td>\n",
              "      <td>0</td>\n",
              "      <td>0</td>\n",
              "      <td>0</td>\n",
              "      <td>0</td>\n",
              "      <td>0</td>\n",
              "      <td>0</td>\n",
              "      <td>0</td>\n",
              "      <td>0</td>\n",
              "      <td>0</td>\n",
              "      <td>0</td>\n",
              "      <td>0</td>\n",
              "      <td>0</td>\n",
              "      <td>0</td>\n",
              "      <td>0</td>\n",
              "      <td>0</td>\n",
              "      <td>0</td>\n",
              "      <td>0</td>\n",
              "      <td>0</td>\n",
              "      <td>0</td>\n",
              "      <td>0</td>\n",
              "      <td>0</td>\n",
              "      <td>0</td>\n",
              "      <td>0</td>\n",
              "      <td>0</td>\n",
              "      <td>...</td>\n",
              "      <td>0</td>\n",
              "      <td>0</td>\n",
              "      <td>0</td>\n",
              "      <td>0</td>\n",
              "      <td>0</td>\n",
              "      <td>0</td>\n",
              "      <td>0</td>\n",
              "      <td>0</td>\n",
              "      <td>0</td>\n",
              "      <td>0</td>\n",
              "      <td>0</td>\n",
              "      <td>0</td>\n",
              "      <td>0</td>\n",
              "      <td>0</td>\n",
              "      <td>0</td>\n",
              "      <td>0</td>\n",
              "      <td>0</td>\n",
              "      <td>0</td>\n",
              "      <td>0</td>\n",
              "      <td>0</td>\n",
              "      <td>0</td>\n",
              "      <td>0</td>\n",
              "      <td>0</td>\n",
              "      <td>0</td>\n",
              "      <td>0</td>\n",
              "      <td>0</td>\n",
              "      <td>0</td>\n",
              "      <td>0</td>\n",
              "      <td>0</td>\n",
              "      <td>0</td>\n",
              "      <td>0</td>\n",
              "      <td>0</td>\n",
              "      <td>0</td>\n",
              "      <td>0</td>\n",
              "      <td>0</td>\n",
              "      <td>0</td>\n",
              "      <td>0</td>\n",
              "      <td>0</td>\n",
              "      <td>0</td>\n",
              "      <td>0</td>\n",
              "    </tr>\n",
              "    <tr>\n",
              "      <th>4</th>\n",
              "      <td>0</td>\n",
              "      <td>0</td>\n",
              "      <td>0</td>\n",
              "      <td>0</td>\n",
              "      <td>0</td>\n",
              "      <td>0</td>\n",
              "      <td>0</td>\n",
              "      <td>0</td>\n",
              "      <td>0</td>\n",
              "      <td>0</td>\n",
              "      <td>0</td>\n",
              "      <td>0</td>\n",
              "      <td>0</td>\n",
              "      <td>0</td>\n",
              "      <td>0</td>\n",
              "      <td>0</td>\n",
              "      <td>0</td>\n",
              "      <td>0</td>\n",
              "      <td>0</td>\n",
              "      <td>0</td>\n",
              "      <td>0</td>\n",
              "      <td>0</td>\n",
              "      <td>0</td>\n",
              "      <td>0</td>\n",
              "      <td>0</td>\n",
              "      <td>0</td>\n",
              "      <td>0</td>\n",
              "      <td>0</td>\n",
              "      <td>0</td>\n",
              "      <td>0</td>\n",
              "      <td>0</td>\n",
              "      <td>0</td>\n",
              "      <td>0</td>\n",
              "      <td>0</td>\n",
              "      <td>0</td>\n",
              "      <td>0</td>\n",
              "      <td>0</td>\n",
              "      <td>0</td>\n",
              "      <td>0</td>\n",
              "      <td>0</td>\n",
              "      <td>...</td>\n",
              "      <td>0</td>\n",
              "      <td>0</td>\n",
              "      <td>0</td>\n",
              "      <td>0</td>\n",
              "      <td>0</td>\n",
              "      <td>0</td>\n",
              "      <td>0</td>\n",
              "      <td>0</td>\n",
              "      <td>0</td>\n",
              "      <td>0</td>\n",
              "      <td>0</td>\n",
              "      <td>0</td>\n",
              "      <td>0</td>\n",
              "      <td>0</td>\n",
              "      <td>0</td>\n",
              "      <td>0</td>\n",
              "      <td>0</td>\n",
              "      <td>0</td>\n",
              "      <td>0</td>\n",
              "      <td>0</td>\n",
              "      <td>0</td>\n",
              "      <td>0</td>\n",
              "      <td>0</td>\n",
              "      <td>0</td>\n",
              "      <td>0</td>\n",
              "      <td>0</td>\n",
              "      <td>0</td>\n",
              "      <td>0</td>\n",
              "      <td>0</td>\n",
              "      <td>0</td>\n",
              "      <td>0</td>\n",
              "      <td>0</td>\n",
              "      <td>0</td>\n",
              "      <td>0</td>\n",
              "      <td>0</td>\n",
              "      <td>0</td>\n",
              "      <td>0</td>\n",
              "      <td>0</td>\n",
              "      <td>0</td>\n",
              "      <td>0</td>\n",
              "    </tr>\n",
              "    <tr>\n",
              "      <th>...</th>\n",
              "      <td>...</td>\n",
              "      <td>...</td>\n",
              "      <td>...</td>\n",
              "      <td>...</td>\n",
              "      <td>...</td>\n",
              "      <td>...</td>\n",
              "      <td>...</td>\n",
              "      <td>...</td>\n",
              "      <td>...</td>\n",
              "      <td>...</td>\n",
              "      <td>...</td>\n",
              "      <td>...</td>\n",
              "      <td>...</td>\n",
              "      <td>...</td>\n",
              "      <td>...</td>\n",
              "      <td>...</td>\n",
              "      <td>...</td>\n",
              "      <td>...</td>\n",
              "      <td>...</td>\n",
              "      <td>...</td>\n",
              "      <td>...</td>\n",
              "      <td>...</td>\n",
              "      <td>...</td>\n",
              "      <td>...</td>\n",
              "      <td>...</td>\n",
              "      <td>...</td>\n",
              "      <td>...</td>\n",
              "      <td>...</td>\n",
              "      <td>...</td>\n",
              "      <td>...</td>\n",
              "      <td>...</td>\n",
              "      <td>...</td>\n",
              "      <td>...</td>\n",
              "      <td>...</td>\n",
              "      <td>...</td>\n",
              "      <td>...</td>\n",
              "      <td>...</td>\n",
              "      <td>...</td>\n",
              "      <td>...</td>\n",
              "      <td>...</td>\n",
              "      <td>...</td>\n",
              "      <td>...</td>\n",
              "      <td>...</td>\n",
              "      <td>...</td>\n",
              "      <td>...</td>\n",
              "      <td>...</td>\n",
              "      <td>...</td>\n",
              "      <td>...</td>\n",
              "      <td>...</td>\n",
              "      <td>...</td>\n",
              "      <td>...</td>\n",
              "      <td>...</td>\n",
              "      <td>...</td>\n",
              "      <td>...</td>\n",
              "      <td>...</td>\n",
              "      <td>...</td>\n",
              "      <td>...</td>\n",
              "      <td>...</td>\n",
              "      <td>...</td>\n",
              "      <td>...</td>\n",
              "      <td>...</td>\n",
              "      <td>...</td>\n",
              "      <td>...</td>\n",
              "      <td>...</td>\n",
              "      <td>...</td>\n",
              "      <td>...</td>\n",
              "      <td>...</td>\n",
              "      <td>...</td>\n",
              "      <td>...</td>\n",
              "      <td>...</td>\n",
              "      <td>...</td>\n",
              "      <td>...</td>\n",
              "      <td>...</td>\n",
              "      <td>...</td>\n",
              "      <td>...</td>\n",
              "      <td>...</td>\n",
              "      <td>...</td>\n",
              "      <td>...</td>\n",
              "      <td>...</td>\n",
              "      <td>...</td>\n",
              "      <td>...</td>\n",
              "    </tr>\n",
              "    <tr>\n",
              "      <th>50090</th>\n",
              "      <td>1</td>\n",
              "      <td>0</td>\n",
              "      <td>0</td>\n",
              "      <td>0</td>\n",
              "      <td>0</td>\n",
              "      <td>0</td>\n",
              "      <td>0</td>\n",
              "      <td>0</td>\n",
              "      <td>0</td>\n",
              "      <td>0</td>\n",
              "      <td>0</td>\n",
              "      <td>0</td>\n",
              "      <td>0</td>\n",
              "      <td>0</td>\n",
              "      <td>0</td>\n",
              "      <td>0</td>\n",
              "      <td>0</td>\n",
              "      <td>0</td>\n",
              "      <td>0</td>\n",
              "      <td>0</td>\n",
              "      <td>0</td>\n",
              "      <td>0</td>\n",
              "      <td>0</td>\n",
              "      <td>0</td>\n",
              "      <td>0</td>\n",
              "      <td>0</td>\n",
              "      <td>0</td>\n",
              "      <td>0</td>\n",
              "      <td>0</td>\n",
              "      <td>0</td>\n",
              "      <td>0</td>\n",
              "      <td>0</td>\n",
              "      <td>0</td>\n",
              "      <td>0</td>\n",
              "      <td>0</td>\n",
              "      <td>0</td>\n",
              "      <td>0</td>\n",
              "      <td>0</td>\n",
              "      <td>0</td>\n",
              "      <td>0</td>\n",
              "      <td>...</td>\n",
              "      <td>0</td>\n",
              "      <td>0</td>\n",
              "      <td>0</td>\n",
              "      <td>0</td>\n",
              "      <td>0</td>\n",
              "      <td>0</td>\n",
              "      <td>0</td>\n",
              "      <td>0</td>\n",
              "      <td>0</td>\n",
              "      <td>0</td>\n",
              "      <td>0</td>\n",
              "      <td>0</td>\n",
              "      <td>0</td>\n",
              "      <td>0</td>\n",
              "      <td>0</td>\n",
              "      <td>0</td>\n",
              "      <td>0</td>\n",
              "      <td>0</td>\n",
              "      <td>0</td>\n",
              "      <td>0</td>\n",
              "      <td>0</td>\n",
              "      <td>0</td>\n",
              "      <td>0</td>\n",
              "      <td>0</td>\n",
              "      <td>0</td>\n",
              "      <td>0</td>\n",
              "      <td>0</td>\n",
              "      <td>0</td>\n",
              "      <td>0</td>\n",
              "      <td>0</td>\n",
              "      <td>0</td>\n",
              "      <td>0</td>\n",
              "      <td>0</td>\n",
              "      <td>0</td>\n",
              "      <td>0</td>\n",
              "      <td>0</td>\n",
              "      <td>0</td>\n",
              "      <td>0</td>\n",
              "      <td>0</td>\n",
              "      <td>1</td>\n",
              "    </tr>\n",
              "    <tr>\n",
              "      <th>50091</th>\n",
              "      <td>0</td>\n",
              "      <td>0</td>\n",
              "      <td>0</td>\n",
              "      <td>0</td>\n",
              "      <td>0</td>\n",
              "      <td>0</td>\n",
              "      <td>0</td>\n",
              "      <td>0</td>\n",
              "      <td>0</td>\n",
              "      <td>0</td>\n",
              "      <td>0</td>\n",
              "      <td>0</td>\n",
              "      <td>0</td>\n",
              "      <td>0</td>\n",
              "      <td>0</td>\n",
              "      <td>0</td>\n",
              "      <td>0</td>\n",
              "      <td>0</td>\n",
              "      <td>0</td>\n",
              "      <td>0</td>\n",
              "      <td>0</td>\n",
              "      <td>0</td>\n",
              "      <td>0</td>\n",
              "      <td>0</td>\n",
              "      <td>0</td>\n",
              "      <td>0</td>\n",
              "      <td>0</td>\n",
              "      <td>0</td>\n",
              "      <td>0</td>\n",
              "      <td>0</td>\n",
              "      <td>0</td>\n",
              "      <td>0</td>\n",
              "      <td>0</td>\n",
              "      <td>0</td>\n",
              "      <td>0</td>\n",
              "      <td>0</td>\n",
              "      <td>0</td>\n",
              "      <td>0</td>\n",
              "      <td>0</td>\n",
              "      <td>0</td>\n",
              "      <td>...</td>\n",
              "      <td>0</td>\n",
              "      <td>0</td>\n",
              "      <td>0</td>\n",
              "      <td>0</td>\n",
              "      <td>0</td>\n",
              "      <td>0</td>\n",
              "      <td>0</td>\n",
              "      <td>0</td>\n",
              "      <td>0</td>\n",
              "      <td>0</td>\n",
              "      <td>0</td>\n",
              "      <td>0</td>\n",
              "      <td>0</td>\n",
              "      <td>0</td>\n",
              "      <td>0</td>\n",
              "      <td>0</td>\n",
              "      <td>0</td>\n",
              "      <td>0</td>\n",
              "      <td>0</td>\n",
              "      <td>0</td>\n",
              "      <td>0</td>\n",
              "      <td>0</td>\n",
              "      <td>0</td>\n",
              "      <td>0</td>\n",
              "      <td>0</td>\n",
              "      <td>0</td>\n",
              "      <td>0</td>\n",
              "      <td>0</td>\n",
              "      <td>0</td>\n",
              "      <td>0</td>\n",
              "      <td>0</td>\n",
              "      <td>0</td>\n",
              "      <td>0</td>\n",
              "      <td>0</td>\n",
              "      <td>0</td>\n",
              "      <td>0</td>\n",
              "      <td>0</td>\n",
              "      <td>0</td>\n",
              "      <td>0</td>\n",
              "      <td>0</td>\n",
              "    </tr>\n",
              "    <tr>\n",
              "      <th>50092</th>\n",
              "      <td>0</td>\n",
              "      <td>0</td>\n",
              "      <td>0</td>\n",
              "      <td>0</td>\n",
              "      <td>0</td>\n",
              "      <td>0</td>\n",
              "      <td>0</td>\n",
              "      <td>0</td>\n",
              "      <td>0</td>\n",
              "      <td>0</td>\n",
              "      <td>0</td>\n",
              "      <td>0</td>\n",
              "      <td>0</td>\n",
              "      <td>0</td>\n",
              "      <td>0</td>\n",
              "      <td>0</td>\n",
              "      <td>0</td>\n",
              "      <td>0</td>\n",
              "      <td>0</td>\n",
              "      <td>0</td>\n",
              "      <td>0</td>\n",
              "      <td>0</td>\n",
              "      <td>0</td>\n",
              "      <td>0</td>\n",
              "      <td>0</td>\n",
              "      <td>0</td>\n",
              "      <td>0</td>\n",
              "      <td>0</td>\n",
              "      <td>0</td>\n",
              "      <td>0</td>\n",
              "      <td>0</td>\n",
              "      <td>0</td>\n",
              "      <td>0</td>\n",
              "      <td>0</td>\n",
              "      <td>0</td>\n",
              "      <td>0</td>\n",
              "      <td>0</td>\n",
              "      <td>0</td>\n",
              "      <td>0</td>\n",
              "      <td>0</td>\n",
              "      <td>...</td>\n",
              "      <td>0</td>\n",
              "      <td>0</td>\n",
              "      <td>0</td>\n",
              "      <td>0</td>\n",
              "      <td>0</td>\n",
              "      <td>0</td>\n",
              "      <td>0</td>\n",
              "      <td>0</td>\n",
              "      <td>0</td>\n",
              "      <td>0</td>\n",
              "      <td>0</td>\n",
              "      <td>0</td>\n",
              "      <td>0</td>\n",
              "      <td>0</td>\n",
              "      <td>0</td>\n",
              "      <td>0</td>\n",
              "      <td>0</td>\n",
              "      <td>0</td>\n",
              "      <td>0</td>\n",
              "      <td>0</td>\n",
              "      <td>0</td>\n",
              "      <td>0</td>\n",
              "      <td>0</td>\n",
              "      <td>0</td>\n",
              "      <td>0</td>\n",
              "      <td>0</td>\n",
              "      <td>0</td>\n",
              "      <td>0</td>\n",
              "      <td>0</td>\n",
              "      <td>0</td>\n",
              "      <td>0</td>\n",
              "      <td>0</td>\n",
              "      <td>0</td>\n",
              "      <td>0</td>\n",
              "      <td>0</td>\n",
              "      <td>0</td>\n",
              "      <td>0</td>\n",
              "      <td>0</td>\n",
              "      <td>0</td>\n",
              "      <td>0</td>\n",
              "    </tr>\n",
              "    <tr>\n",
              "      <th>50093</th>\n",
              "      <td>0</td>\n",
              "      <td>0</td>\n",
              "      <td>0</td>\n",
              "      <td>0</td>\n",
              "      <td>0</td>\n",
              "      <td>0</td>\n",
              "      <td>0</td>\n",
              "      <td>0</td>\n",
              "      <td>0</td>\n",
              "      <td>0</td>\n",
              "      <td>0</td>\n",
              "      <td>0</td>\n",
              "      <td>0</td>\n",
              "      <td>0</td>\n",
              "      <td>0</td>\n",
              "      <td>0</td>\n",
              "      <td>0</td>\n",
              "      <td>0</td>\n",
              "      <td>0</td>\n",
              "      <td>0</td>\n",
              "      <td>0</td>\n",
              "      <td>0</td>\n",
              "      <td>0</td>\n",
              "      <td>0</td>\n",
              "      <td>0</td>\n",
              "      <td>0</td>\n",
              "      <td>0</td>\n",
              "      <td>0</td>\n",
              "      <td>0</td>\n",
              "      <td>0</td>\n",
              "      <td>0</td>\n",
              "      <td>0</td>\n",
              "      <td>0</td>\n",
              "      <td>0</td>\n",
              "      <td>0</td>\n",
              "      <td>0</td>\n",
              "      <td>0</td>\n",
              "      <td>0</td>\n",
              "      <td>0</td>\n",
              "      <td>0</td>\n",
              "      <td>...</td>\n",
              "      <td>0</td>\n",
              "      <td>0</td>\n",
              "      <td>0</td>\n",
              "      <td>0</td>\n",
              "      <td>0</td>\n",
              "      <td>0</td>\n",
              "      <td>0</td>\n",
              "      <td>0</td>\n",
              "      <td>0</td>\n",
              "      <td>0</td>\n",
              "      <td>0</td>\n",
              "      <td>0</td>\n",
              "      <td>0</td>\n",
              "      <td>0</td>\n",
              "      <td>0</td>\n",
              "      <td>0</td>\n",
              "      <td>0</td>\n",
              "      <td>0</td>\n",
              "      <td>0</td>\n",
              "      <td>0</td>\n",
              "      <td>0</td>\n",
              "      <td>0</td>\n",
              "      <td>0</td>\n",
              "      <td>0</td>\n",
              "      <td>0</td>\n",
              "      <td>0</td>\n",
              "      <td>0</td>\n",
              "      <td>0</td>\n",
              "      <td>0</td>\n",
              "      <td>0</td>\n",
              "      <td>0</td>\n",
              "      <td>0</td>\n",
              "      <td>0</td>\n",
              "      <td>0</td>\n",
              "      <td>0</td>\n",
              "      <td>0</td>\n",
              "      <td>0</td>\n",
              "      <td>0</td>\n",
              "      <td>0</td>\n",
              "      <td>1</td>\n",
              "    </tr>\n",
              "    <tr>\n",
              "      <th>50094</th>\n",
              "      <td>0</td>\n",
              "      <td>0</td>\n",
              "      <td>0</td>\n",
              "      <td>0</td>\n",
              "      <td>0</td>\n",
              "      <td>1</td>\n",
              "      <td>0</td>\n",
              "      <td>0</td>\n",
              "      <td>0</td>\n",
              "      <td>0</td>\n",
              "      <td>0</td>\n",
              "      <td>0</td>\n",
              "      <td>0</td>\n",
              "      <td>0</td>\n",
              "      <td>0</td>\n",
              "      <td>0</td>\n",
              "      <td>0</td>\n",
              "      <td>0</td>\n",
              "      <td>0</td>\n",
              "      <td>0</td>\n",
              "      <td>0</td>\n",
              "      <td>0</td>\n",
              "      <td>0</td>\n",
              "      <td>0</td>\n",
              "      <td>0</td>\n",
              "      <td>0</td>\n",
              "      <td>0</td>\n",
              "      <td>0</td>\n",
              "      <td>0</td>\n",
              "      <td>0</td>\n",
              "      <td>0</td>\n",
              "      <td>0</td>\n",
              "      <td>0</td>\n",
              "      <td>0</td>\n",
              "      <td>0</td>\n",
              "      <td>0</td>\n",
              "      <td>0</td>\n",
              "      <td>0</td>\n",
              "      <td>0</td>\n",
              "      <td>0</td>\n",
              "      <td>...</td>\n",
              "      <td>0</td>\n",
              "      <td>1</td>\n",
              "      <td>0</td>\n",
              "      <td>1</td>\n",
              "      <td>0</td>\n",
              "      <td>0</td>\n",
              "      <td>0</td>\n",
              "      <td>0</td>\n",
              "      <td>0</td>\n",
              "      <td>0</td>\n",
              "      <td>0</td>\n",
              "      <td>0</td>\n",
              "      <td>0</td>\n",
              "      <td>0</td>\n",
              "      <td>0</td>\n",
              "      <td>0</td>\n",
              "      <td>0</td>\n",
              "      <td>0</td>\n",
              "      <td>0</td>\n",
              "      <td>0</td>\n",
              "      <td>0</td>\n",
              "      <td>0</td>\n",
              "      <td>0</td>\n",
              "      <td>0</td>\n",
              "      <td>0</td>\n",
              "      <td>0</td>\n",
              "      <td>0</td>\n",
              "      <td>0</td>\n",
              "      <td>0</td>\n",
              "      <td>0</td>\n",
              "      <td>0</td>\n",
              "      <td>0</td>\n",
              "      <td>0</td>\n",
              "      <td>0</td>\n",
              "      <td>0</td>\n",
              "      <td>0</td>\n",
              "      <td>0</td>\n",
              "      <td>0</td>\n",
              "      <td>0</td>\n",
              "      <td>0</td>\n",
              "    </tr>\n",
              "  </tbody>\n",
              "</table>\n",
              "<p>50095 rows × 307 columns</p>\n",
              "</div>"
            ],
            "text/plain": [
              "       we have  what the  is that  oh my  ...  got to  mom i  it to  can we\n",
              "0            0         0        0      0  ...       0      0      0       0\n",
              "1            2         0        0      0  ...       0      0      0       0\n",
              "2            0         1        1      1  ...       0      0      0       0\n",
              "3            0         0        0      0  ...       0      0      0       0\n",
              "4            0         0        0      0  ...       0      0      0       0\n",
              "...        ...       ...      ...    ...  ...     ...    ...    ...     ...\n",
              "50090        1         0        0      0  ...       0      0      0       1\n",
              "50091        0         0        0      0  ...       0      0      0       0\n",
              "50092        0         0        0      0  ...       0      0      0       0\n",
              "50093        0         0        0      0  ...       0      0      0       1\n",
              "50094        0         0        0      0  ...       0      0      0       0\n",
              "\n",
              "[50095 rows x 307 columns]"
            ]
          },
          "metadata": {
            "tags": []
          },
          "execution_count": 46
        }
      ]
    },
    {
      "cell_type": "markdown",
      "metadata": {
        "colab_type": "text",
        "id": "6cKN1-VTnC6s"
      },
      "source": [
        "### Juntamos los bigramas y trigramas\n",
        "Como cada fila corresponde a una frase de nuestro __sentences__ y cada columna corresponde a los bigramas y trigramas, nuestra tabla es de (50095 × 8623) donde:\n",
        "\n",
        "  - train_sentences: 50095\n",
        "  - Trigramas unicos con sus frecuencias(8623) + bigramas unicos con sus frecuencias(307):  8623"
      ]
    },
    {
      "cell_type": "code",
      "metadata": {
        "colab_type": "code",
        "id": "a-xqhFWasSfY",
        "colab": {
          "base_uri": "https://localhost:8080/",
          "height": 35
        },
        "outputId": "d8ae528b-3248-45d4-9c66-ed2c5dd39116"
      },
      "source": [
        "print(\"Trigramas recortados unicos + Bigramas recortador unicos:\", len(freqnew)+len(freqbnew))"
      ],
      "execution_count": 47,
      "outputs": [
        {
          "output_type": "stream",
          "text": [
            "Trigramas recortados unicos + Bigramas recortador unicos: 8623\n"
          ],
          "name": "stdout"
        }
      ]
    },
    {
      "cell_type": "code",
      "metadata": {
        "colab_type": "code",
        "id": "iBnuvGpinBxs",
        "colab": {
          "base_uri": "https://localhost:8080/",
          "height": 35
        },
        "outputId": "520d3319-6935-467c-ffcf-d80a63cb7e10"
      },
      "source": [
        "sequences_bt = np.concatenate((sequences, sequences_b), axis=1)\n",
        "#tamaño de los datos\n",
        "type(sequences_bt)"
      ],
      "execution_count": 48,
      "outputs": [
        {
          "output_type": "execute_result",
          "data": {
            "text/plain": [
              "numpy.ndarray"
            ]
          },
          "metadata": {
            "tags": []
          },
          "execution_count": 48
        }
      ]
    },
    {
      "cell_type": "code",
      "metadata": {
        "colab_type": "code",
        "id": "eQqt5n6xAyAY",
        "colab": {
          "base_uri": "https://localhost:8080/",
          "height": 109
        },
        "outputId": "ec9b2c0c-a090-4574-c829-d605660ee7d6"
      },
      "source": [
        "sequences_bt[:5]"
      ],
      "execution_count": 49,
      "outputs": [
        {
          "output_type": "execute_result",
          "data": {
            "text/plain": [
              "array([[1, 0, 0, ..., 0, 0, 0],\n",
              "       [0, 0, 0, ..., 0, 0, 0],\n",
              "       [0, 1, 1, ..., 0, 0, 0],\n",
              "       [0, 0, 0, ..., 0, 0, 0],\n",
              "       [0, 0, 0, ..., 0, 0, 0]])"
            ]
          },
          "metadata": {
            "tags": []
          },
          "execution_count": 49
        }
      ]
    },
    {
      "cell_type": "code",
      "metadata": {
        "colab_type": "code",
        "id": "btUUw9jMkzpP",
        "colab": {}
      },
      "source": [
        "sequences_bt_new = []\n",
        "labels_new = []\n",
        "for i in range(0,len(sequences_bt)):\n",
        "  if sum(sequences_bt[i,]) != 0:\n",
        "    labels_new.append(labels[i])\n",
        "    sequences_bt_new.append(sequences_bt[i,])\n",
        "\n",
        "sequences_bt = np.array(sequences_bt_new)"
      ],
      "execution_count": 50,
      "outputs": []
    },
    {
      "cell_type": "code",
      "metadata": {
        "colab_type": "code",
        "id": "mkDKLkp6mx3K",
        "colab": {
          "base_uri": "https://localhost:8080/",
          "height": 54
        },
        "outputId": "c1c61af1-336a-4798-fddc-cb7117f38545"
      },
      "source": [
        "labels = labels_new\n",
        "print(\"sequences_bt\",np.shape(sequences_bt))\n",
        "print(\"labels\",np.shape(labels))"
      ],
      "execution_count": 51,
      "outputs": [
        {
          "output_type": "stream",
          "text": [
            "sequences_bt (28105, 8623)\n",
            "labels (28105,)\n"
          ],
          "name": "stdout"
        }
      ]
    },
    {
      "cell_type": "code",
      "metadata": {
        "id": "IIpN6DtKCPRE",
        "colab_type": "code",
        "colab": {
          "base_uri": "https://localhost:8080/",
          "height": 109
        },
        "outputId": "838b960d-d5a3-4294-a56d-5907354e1998"
      },
      "source": [
        "pd.value_counts(labels)"
      ],
      "execution_count": 52,
      "outputs": [
        {
          "output_type": "execute_result",
          "data": {
            "text/plain": [
              "marge_simpson    8041\n",
              "homer_simpson    7435\n",
              "bart_simpson     6703\n",
              "lisa_simpson     5926\n",
              "dtype: int64"
            ]
          },
          "metadata": {
            "tags": []
          },
          "execution_count": 52
        }
      ]
    },
    {
      "cell_type": "markdown",
      "metadata": {
        "colab_type": "text",
        "id": "b7Un8Lnw2th5"
      },
      "source": [
        "# Labels\n",
        "### Labels a one hot"
      ]
    },
    {
      "cell_type": "code",
      "metadata": {
        "colab_type": "code",
        "id": "fJgRbKE1OIkU",
        "colab": {
          "base_uri": "https://localhost:8080/",
          "height": 35
        },
        "outputId": "48de6588-d421-4d1d-8266-b7c308f347dc"
      },
      "source": [
        "label_size = 5\n",
        "label_tokenizer = Tokenizer(num_words = label_size,oov_token=oov_tok, filters = '')\n",
        "label_tokenizer.fit_on_texts(labels)\n",
        "\n",
        "label_seq = np.array(label_tokenizer.texts_to_sequences(labels))\n",
        "\n",
        "# flatten the nested list and tranaform to an np array\n",
        "label_seq = np.array([item for items in label_seq for item in items])\n",
        "print(len(label_seq))"
      ],
      "execution_count": 53,
      "outputs": [
        {
          "output_type": "stream",
          "text": [
            "28105\n"
          ],
          "name": "stdout"
        }
      ]
    },
    {
      "cell_type": "code",
      "metadata": {
        "id": "uUk_82r3GsNd",
        "colab_type": "code",
        "colab": {
          "base_uri": "https://localhost:8080/",
          "height": 109
        },
        "outputId": "a36b8b70-9139-414e-a9b1-14f8542d8bc8"
      },
      "source": [
        "pd.value_counts(label_seq)"
      ],
      "execution_count": 54,
      "outputs": [
        {
          "output_type": "execute_result",
          "data": {
            "text/plain": [
              "2    8041\n",
              "3    7435\n",
              "4    6703\n",
              "1    5926\n",
              "dtype: int64"
            ]
          },
          "metadata": {
            "tags": []
          },
          "execution_count": 54
        }
      ]
    },
    {
      "cell_type": "code",
      "metadata": {
        "id": "N_zrhGnAG8WL",
        "colab_type": "code",
        "colab": {
          "base_uri": "https://localhost:8080/",
          "height": 35
        },
        "outputId": "dea3e1b9-9a06-4a7c-8c1b-df328a597202"
      },
      "source": [
        "label_seq[17000]\n",
        "#3 homero\n",
        "#2 marge\n",
        "#4 bart\n",
        "#1 lisa"
      ],
      "execution_count": 55,
      "outputs": [
        {
          "output_type": "execute_result",
          "data": {
            "text/plain": [
              "4"
            ]
          },
          "metadata": {
            "tags": []
          },
          "execution_count": 55
        }
      ]
    },
    {
      "cell_type": "code",
      "metadata": {
        "colab_type": "code",
        "id": "TXj17DMDOf_8",
        "colab": {}
      },
      "source": [
        "#Creamos etiquetas numericas\n",
        "encoder = LabelEncoder()\n",
        "\n",
        "encoder.fit(label_seq)\n",
        "labels = encoder.transform(label_seq)"
      ],
      "execution_count": 56,
      "outputs": []
    },
    {
      "cell_type": "code",
      "metadata": {
        "id": "vvgIsUYkDB2l",
        "colab_type": "code",
        "colab": {
          "base_uri": "https://localhost:8080/",
          "height": 109
        },
        "outputId": "ede6c5f7-bd97-4c07-9091-c32309a225f4"
      },
      "source": [
        "pd.value_counts(labels)\n",
        "#2 homero\n",
        "#1 marge\n",
        "#3 bart\n",
        "#0 lisa"
      ],
      "execution_count": 57,
      "outputs": [
        {
          "output_type": "execute_result",
          "data": {
            "text/plain": [
              "1    8041\n",
              "2    7435\n",
              "3    6703\n",
              "0    5926\n",
              "dtype: int64"
            ]
          },
          "metadata": {
            "tags": []
          },
          "execution_count": 57
        }
      ]
    },
    {
      "cell_type": "code",
      "metadata": {
        "id": "2SQGttRORRCU",
        "colab_type": "code",
        "colab": {
          "base_uri": "https://localhost:8080/",
          "height": 35
        },
        "outputId": "a29cbbf5-37d8-4b58-a246-afc854120536"
      },
      "source": [
        "labels[17000]"
      ],
      "execution_count": 58,
      "outputs": [
        {
          "output_type": "execute_result",
          "data": {
            "text/plain": [
              "3"
            ]
          },
          "metadata": {
            "tags": []
          },
          "execution_count": 58
        }
      ]
    },
    {
      "cell_type": "code",
      "metadata": {
        "colab_type": "code",
        "id": "ynKVnhnOPAkH",
        "colab": {}
      },
      "source": [
        "# Codificación One-Hot \n",
        "num_classes = label_size-1\n",
        "labels_codf = tf.keras.utils.to_categorical(labels, num_classes)"
      ],
      "execution_count": 59,
      "outputs": []
    },
    {
      "cell_type": "code",
      "metadata": {
        "id": "yZN-lu6TDNNY",
        "colab_type": "code",
        "colab": {
          "base_uri": "https://localhost:8080/",
          "height": 35
        },
        "outputId": "5c3bd383-2fec-4669-bacd-e7fd0cb226c7"
      },
      "source": [
        "labels_codf[17000]  \n",
        "#[0. 0. 1. 0.] homero\n",
        "#[0. 1. 0. 0.] marge\n",
        "#[0. 0. 0. 1.] bart\n",
        "#[1. 0. 0. 0.] lisa"
      ],
      "execution_count": 60,
      "outputs": [
        {
          "output_type": "execute_result",
          "data": {
            "text/plain": [
              "array([0., 0., 0., 1.], dtype=float32)"
            ]
          },
          "metadata": {
            "tags": []
          },
          "execution_count": 60
        }
      ]
    },
    {
      "cell_type": "markdown",
      "metadata": {
        "id": "CIZYn86_yVEZ",
        "colab_type": "text"
      },
      "source": [
        "### Nuerico a texto"
      ]
    },
    {
      "cell_type": "code",
      "metadata": {
        "id": "fbO2Hdq2y7GC",
        "colab_type": "code",
        "colab": {
          "base_uri": "https://localhost:8080/",
          "height": 35
        },
        "outputId": "2f5b63ba-aa42-44e0-ab61-46a29969c9fd"
      },
      "source": [
        "label_tokenizer.sequences_to_texts([[1,2,3,4,5]]) #NO APARECE LISA"
      ],
      "execution_count": 61,
      "outputs": [
        {
          "output_type": "execute_result",
          "data": {
            "text/plain": [
              "['<OOV> marge_simpson homer_simpson bart_simpson <OOV>']"
            ]
          },
          "metadata": {
            "tags": []
          },
          "execution_count": 61
        }
      ]
    },
    {
      "cell_type": "code",
      "metadata": {
        "id": "XXRhvdjXvOgc",
        "colab_type": "code",
        "colab": {
          "base_uri": "https://localhost:8080/",
          "height": 35
        },
        "outputId": "1e213982-29cc-447f-9b4b-f204ab238797"
      },
      "source": [
        "reverse_word_map = dict(map(reversed, label_tokenizer.word_index.items()))\n",
        "\n",
        "# Function takes a tokenized sentence and returns the words\n",
        "def sequence_to_text(list_of_indices):\n",
        "    # Looking up words in dictionary\n",
        "    label = [reverse_word_map.get(i) for i in list_of_indices]\n",
        "    return(label)\n",
        "\n",
        "#inversa: de token a palabra\n",
        "sequence_to_text([2,3,4,5]) #SI APERECE LISA"
      ],
      "execution_count": 62,
      "outputs": [
        {
          "output_type": "execute_result",
          "data": {
            "text/plain": [
              "['marge_simpson', 'homer_simpson', 'bart_simpson', 'lisa_simpson']"
            ]
          },
          "metadata": {
            "tags": []
          },
          "execution_count": 62
        }
      ]
    },
    {
      "cell_type": "markdown",
      "metadata": {
        "colab_type": "text",
        "id": "QH4k5vkXYt6B"
      },
      "source": [
        "# Separa datos de entrenamiento y validación\n",
        "### Aleatorización de los datos\n",
        "sequences_bt\n",
        "labels_codf"
      ]
    },
    {
      "cell_type": "code",
      "metadata": {
        "id": "YnDOVrmjx46J",
        "colab_type": "code",
        "colab": {}
      },
      "source": [
        "# index to sample\n",
        "n = len(sequences_bt)\n",
        "sequences_bt = np.array(sequences_bt)\n",
        "labels_codf = np.array(labels_codf)\n",
        "\n",
        "np.random.seed(101)\n",
        "sequences_id  = np.random.permutation(n)\n",
        "sequences = sequences_bt[sequences_id]\n",
        "labels = labels_codf[sequences_id]"
      ],
      "execution_count": 63,
      "outputs": []
    },
    {
      "cell_type": "code",
      "metadata": {
        "id": "_aEupr6b08Jt",
        "colab_type": "code",
        "colab": {
          "base_uri": "https://localhost:8080/",
          "height": 54
        },
        "outputId": "979e79f4-e9cf-4da6-89be-f441c88d4d04"
      },
      "source": [
        "print(labels.shape)\n",
        "print(sequences.shape)"
      ],
      "execution_count": 64,
      "outputs": [
        {
          "output_type": "stream",
          "text": [
            "(28105, 4)\n",
            "(28105, 8623)\n"
          ],
          "name": "stdout"
        }
      ]
    },
    {
      "cell_type": "markdown",
      "metadata": {
        "id": "XB0XLiw3zYbh",
        "colab_type": "text"
      },
      "source": [
        "### Grupo de entrenamiento\n",
        "Definimos el tamaño de los datos de entrenamiento, que corresponde al 80% de la totalidad de los datos. Definimos \"train_sencences\" como el conjunto de frases de entrenamiento y \"train_labels\" como las etiquetas de entrenamiento, las cuales nos serviran como identificadores del conjunto de frases de entrenamiento."
      ]
    },
    {
      "cell_type": "code",
      "metadata": {
        "id": "Wt8XIMUszt68",
        "colab_type": "code",
        "colab": {
          "base_uri": "https://localhost:8080/",
          "height": 72
        },
        "outputId": "0bf3ac70-824b-4ff8-fa8c-c86b0a287aa6"
      },
      "source": [
        "train_size = int(n * training_portion) \n",
        "\n",
        "train_sentences = sequences[:train_size]\n",
        "train_labels = labels[:train_size]\n",
        "print(\"train_sentences:\",len(train_sentences))\n",
        "print(\"train_labels:\",len(train_labels),\"\\n\")"
      ],
      "execution_count": 65,
      "outputs": [
        {
          "output_type": "stream",
          "text": [
            "train_sentences: 22484\n",
            "train_labels: 22484 \n",
            "\n"
          ],
          "name": "stdout"
        }
      ]
    },
    {
      "cell_type": "markdown",
      "metadata": {
        "id": "4StUrDkGzc3a",
        "colab_type": "text"
      },
      "source": [
        "### Grupo de validación\n",
        "Definimos el tamaño de los datos de validación, que corresponde al 10% de la totalidad de los datos. Definimos \"validation_sentences\" como el conjunto de frases de validación y \"validation_labels\" como las etiquetas de validación, las cuales nos serviran como identificadores del conjunto de frases de validación."
      ]
    },
    {
      "cell_type": "code",
      "metadata": {
        "id": "i9b_mRqK1Rsh",
        "colab_type": "code",
        "colab": {
          "base_uri": "https://localhost:8080/",
          "height": 72
        },
        "outputId": "bd48fca2-b5a9-41bb-8e88-320dd53b2cd4"
      },
      "source": [
        "validation_sentences = sequences[train_size:] \n",
        "validation_labels = labels[train_size:] \n",
        "print(\"validation_sentences:\",len(validation_sentences)) \n",
        "print(\"validation_labels:\",len(validation_labels),\"\\n\") "
      ],
      "execution_count": 66,
      "outputs": [
        {
          "output_type": "stream",
          "text": [
            "validation_sentences: 5621\n",
            "validation_labels: 5621 \n",
            "\n"
          ],
          "name": "stdout"
        }
      ]
    },
    {
      "cell_type": "markdown",
      "metadata": {
        "colab_type": "text",
        "id": "NLIYKXgN-fFQ"
      },
      "source": [
        "### Dividimos test y validación\n",
        "Recordemos que el grupo de validacion (tanto las frases como los labels) que se ha tenido hasta ahora es el 20% de los datos iniciales, dividiremos este grupo es dos para tomar el 10% del total de los datos iniciales para la validacion interna y el otro 10% para la valicacion externa. Ademas tenga en cuenta que los porcentajes de datos son __aproximados__ debido a la transformacion y limpieza de los datos que se ha hecho.\n",
        "\n",
        "Tomamos primero los datos de test(validacion externa) y luego los de validacion interna(validation_sequences_bt) porque renombraremos esa variable con el porcentaje de datos especificado arriba."
      ]
    },
    {
      "cell_type": "code",
      "metadata": {
        "id": "YS-i2C1U1dkV",
        "colab_type": "code",
        "colab": {}
      },
      "source": [
        "validation_portion = 0.5\n",
        "validation_size = int(len(validation_sentences) * validation_portion)\n",
        "validation_size # 10% del total\n",
        "\n",
        "test_sequences = validation_sentences[validation_size:] # Frases de test\n",
        "test_labels = validation_labels[validation_size:] # Etiquetas de test\n",
        "\n",
        "validation_sequences = validation_sentences[:validation_size] # Frases de validacion \n",
        "validation_labels = validation_labels[:validation_size] # Etiquetas de validacion"
      ],
      "execution_count": 67,
      "outputs": []
    },
    {
      "cell_type": "code",
      "metadata": {
        "colab_type": "code",
        "id": "HbS1oTskz7vO",
        "colab": {
          "base_uri": "https://localhost:8080/",
          "height": 128
        },
        "outputId": "9f97158a-807d-46e0-d295-6a59ca3b8704"
      },
      "source": [
        "#verificacion de tamaños\n",
        "print(\"validation_sequences_bt\",train_sentences.shape) #entrenamiento\n",
        "print(\"validation_labels_codf\",train_labels.shape)\n",
        "print(\"test_sequences_bt\",test_sequences.shape) #validacion externa\n",
        "print(\"test_labels_codf\",test_labels.shape)\n",
        "print(\"validation_sequences_bt\",validation_sequences.shape) #validacion interna\n",
        "print(\"validation_labels_codf\",validation_labels.shape)"
      ],
      "execution_count": 68,
      "outputs": [
        {
          "output_type": "stream",
          "text": [
            "validation_sequences_bt (22484, 8623)\n",
            "validation_labels_codf (22484, 4)\n",
            "test_sequences_bt (2811, 8623)\n",
            "test_labels_codf (2811, 4)\n",
            "validation_sequences_bt (2810, 8623)\n",
            "validation_labels_codf (2810, 4)\n"
          ],
          "name": "stdout"
        }
      ]
    },
    {
      "cell_type": "code",
      "metadata": {
        "id": "Cpfa2oRL3gtt",
        "colab_type": "code",
        "colab": {
          "base_uri": "https://localhost:8080/",
          "height": 202
        },
        "outputId": "8daa821c-9854-4ef1-dc88-b0dc201d94b6"
      },
      "source": [
        "validation_labels[:10]"
      ],
      "execution_count": 69,
      "outputs": [
        {
          "output_type": "execute_result",
          "data": {
            "text/plain": [
              "array([[0., 0., 1., 0.],\n",
              "       [0., 1., 0., 0.],\n",
              "       [0., 1., 0., 0.],\n",
              "       [0., 0., 0., 1.],\n",
              "       [0., 1., 0., 0.],\n",
              "       [0., 1., 0., 0.],\n",
              "       [0., 1., 0., 0.],\n",
              "       [1., 0., 0., 0.],\n",
              "       [0., 0., 0., 1.],\n",
              "       [0., 0., 1., 0.]], dtype=float32)"
            ]
          },
          "metadata": {
            "tags": []
          },
          "execution_count": 69
        }
      ]
    },
    {
      "cell_type": "markdown",
      "metadata": {
        "colab_type": "text",
        "id": "Q3FKjA0CTfPV"
      },
      "source": [
        "# Construccion del Modelo"
      ]
    },
    {
      "cell_type": "code",
      "metadata": {
        "colab_type": "code",
        "id": "yUqvvgkXtLPN",
        "colab": {
          "base_uri": "https://localhost:8080/",
          "height": 51
        },
        "outputId": "58d28181-d5ef-47d3-d7c1-0e51c493a8ac"
      },
      "source": [
        "num_frases_training, num_ngrams, = np.shape(train_sentences)\n",
        "\n",
        "print(\"num_frases_training\", num_frases_training) #se espera 21025\n",
        "print(\"num_ngrams:\", num_ngrams) #se espera 6379"
      ],
      "execution_count": null,
      "outputs": [
        {
          "output_type": "stream",
          "text": [
            "num_frases_training 22484\n",
            "num_ngrams: 8623\n"
          ],
          "name": "stdout"
        }
      ]
    },
    {
      "cell_type": "code",
      "metadata": {
        "colab_type": "code",
        "id": "6AGXIMAg32Ku",
        "colab": {}
      },
      "source": [
        "callback = tf.keras.callbacks.EarlyStopping(\n",
        "    monitor='val_accuracy', patience=10\n",
        "    )\n",
        "# This callback will stop the training when there is no improvement in\n",
        "# the validation loss for three consecutive epochs."
      ],
      "execution_count": null,
      "outputs": []
    },
    {
      "cell_type": "code",
      "metadata": {
        "colab_type": "code",
        "id": "Zf_uFWIKT-pn",
        "colab": {}
      },
      "source": [
        "model = tf.keras.Sequential([\n",
        "    tf.keras.layers.Dense(8623, activation='relu', input_shape=(num_ngrams,)),\n",
        "    tf.keras.layers.Dropout(0.5),\n",
        "    tf.keras.layers.Dense(4311, activation='relu'),\n",
        "    tf.keras.layers.Dropout(0.5),\n",
        "    tf.keras.layers.Dense(2160, activation='relu'),\n",
        "    tf.keras.layers.Dropout(0.5),\n",
        "    tf.keras.layers.Dense(1080, activation='relu'),\n",
        "    tf.keras.layers.Dropout(0.5),\n",
        "    tf.keras.layers.Dense(4, activation='softmax')\n",
        "])\n",
        "model.compile(loss='categorical_crossentropy',optimizer='sgd',metrics=['accuracy'])"
      ],
      "execution_count": null,
      "outputs": []
    },
    {
      "cell_type": "code",
      "metadata": {
        "id": "xp1kl-5Xho6h",
        "colab_type": "code",
        "colab": {
          "base_uri": "https://localhost:8080/",
          "height": 1000
        },
        "outputId": "ae6cccb9-bf6e-4dab-aa4f-8bb6c39c9c96"
      },
      "source": [
        "model.summary()\n",
        "img_path = 'Imagenes'\n",
        "plot_model(model, to_file=img_path +'clasificacion.png', show_shapes=True)"
      ],
      "execution_count": null,
      "outputs": [
        {
          "output_type": "stream",
          "text": [
            "Model: \"sequential_6\"\n",
            "_________________________________________________________________\n",
            "Layer (type)                 Output Shape              Param #   \n",
            "=================================================================\n",
            "dense_35 (Dense)             (None, 8623)              74364752  \n",
            "_________________________________________________________________\n",
            "dropout_29 (Dropout)         (None, 8623)              0         \n",
            "_________________________________________________________________\n",
            "dense_36 (Dense)             (None, 4311)              37178064  \n",
            "_________________________________________________________________\n",
            "dropout_30 (Dropout)         (None, 4311)              0         \n",
            "_________________________________________________________________\n",
            "dense_37 (Dense)             (None, 2160)              9313920   \n",
            "_________________________________________________________________\n",
            "dropout_31 (Dropout)         (None, 2160)              0         \n",
            "_________________________________________________________________\n",
            "dense_38 (Dense)             (None, 1080)              2333880   \n",
            "_________________________________________________________________\n",
            "dropout_32 (Dropout)         (None, 1080)              0         \n",
            "_________________________________________________________________\n",
            "dense_39 (Dense)             (None, 4)                 4324      \n",
            "=================================================================\n",
            "Total params: 123,194,940\n",
            "Trainable params: 123,194,940\n",
            "Non-trainable params: 0\n",
            "_________________________________________________________________\n"
          ],
          "name": "stdout"
        },
        {
          "output_type": "execute_result",
          "data": {
            "image/png": "[encoded data removed]",
            "text/plain": [
              "<IPython.core.display.Image object>"
            ]
          },
          "metadata": {
            "tags": []
          },
          "execution_count": 81
        }
      ]
    },
    {
      "cell_type": "markdown",
      "metadata": {
        "colab_type": "text",
        "id": "MOU3hgTnUjqg"
      },
      "source": [
        "# Entrenamiento del modelo\n",
        "\n",
        "|dropout|F. de activación| dense |loss_train |accuracy_train |loss_validation |accuracy_validation |Ephoc|\n",
        "|:---:|:---:|:---:|:---:|:---:|:---:|:---:|:---:|\n",
        "|4|tanh(1),relu(3)|5|0.7715|0.6028|1.2662|0.4657|7|\n",
        "|4|tanh(4),relu(1)|6|0.9419|0.5285|1.1128|0.4241|6|\n",
        "|5|tanh(2),relu(3)|6|0.7683|0.6877|1.7956|0.4490|10|\n",
        "|5|tanh(0),relu(5)|6|0.4636|0.7820|2.1792|0.4489|10|\n",
        "|4|tanh(0),relu(5)|6|0.5599|0.7633|1.7796|0.4444|7|\n",
        "|3|tanh(3),relu(2)|6|0.5243|0.7608|2.0161|0.4381|9|\n",
        "|4|tanh(5),relu(1)|7|0.9163|0.6148|1.3061|0.4359|5|\n",
        "|4|tanh(5),relu(1)|7|1.0490|0.5492|1.1830|0.4670|5|\n",
        "|4|tanh(1),relu(4)|7|0.9413|0.5382|1.0868 |0.4551|8|\n",
        "|6|tanh(0),relu(7)|8|0.7479|0.6439|1.3333 |0.4498|6|\n",
        "|1|tanh(0),relu(2)|3|0.5127|0.7513|1.7194 |0.4567|6|\n"
      ]
    },
    {
      "cell_type": "code",
      "metadata": {
        "colab_type": "code",
        "id": "NNugayIpUhLE",
        "colab": {
          "base_uri": "https://localhost:8080/",
          "height": 1000
        },
        "outputId": "f695f1df-c6f8-4b42-c2b6-8f0f3965fd0e"
      },
      "source": [
        "num_epochs = 50\n",
        "history = model.fit(train_sentences, train_labels, epochs=num_epochs, validation_data=(validation_sequences,validation_labels),batch_size=32, verbose=True, callbacks=[callback])\n",
        "\n",
        "print(\"\\nEn la epoca\", len(history.history['val_accuracy']), \"la precision de validación dejó de mejorar.\")"
      ],
      "execution_count": null,
      "outputs": [
        {
          "output_type": "stream",
          "text": [
            "Epoch 1/50\n",
            "703/703 [==============================] - 28s 39ms/step - loss: 1.3805 - accuracy: 0.2819 - val_loss: 1.3802 - val_accuracy: 0.2851\n",
            "Epoch 2/50\n",
            "703/703 [==============================] - 27s 39ms/step - loss: 1.3797 - accuracy: 0.2869 - val_loss: 1.3800 - val_accuracy: 0.2851\n",
            "Epoch 3/50\n",
            "703/703 [==============================] - 27s 39ms/step - loss: 1.3789 - accuracy: 0.2876 - val_loss: 1.3796 - val_accuracy: 0.2851\n",
            "Epoch 4/50\n",
            "703/703 [==============================] - 28s 39ms/step - loss: 1.3793 - accuracy: 0.2857 - val_loss: 1.3793 - val_accuracy: 0.2851\n",
            "Epoch 5/50\n",
            "703/703 [==============================] - 27s 39ms/step - loss: 1.3784 - accuracy: 0.2889 - val_loss: 1.3791 - val_accuracy: 0.2851\n",
            "Epoch 6/50\n",
            "703/703 [==============================] - 27s 38ms/step - loss: 1.3782 - accuracy: 0.2886 - val_loss: 1.3788 - val_accuracy: 0.2851\n",
            "Epoch 7/50\n",
            "703/703 [==============================] - 27s 38ms/step - loss: 1.3774 - accuracy: 0.2893 - val_loss: 1.3784 - val_accuracy: 0.2932\n",
            "Epoch 8/50\n",
            "703/703 [==============================] - 27s 38ms/step - loss: 1.3771 - accuracy: 0.2900 - val_loss: 1.3781 - val_accuracy: 0.2925\n",
            "Epoch 9/50\n",
            "703/703 [==============================] - 27s 38ms/step - loss: 1.3767 - accuracy: 0.2927 - val_loss: 1.3778 - val_accuracy: 0.2918\n",
            "Epoch 10/50\n",
            "703/703 [==============================] - 27s 38ms/step - loss: 1.3762 - accuracy: 0.2927 - val_loss: 1.3776 - val_accuracy: 0.2986\n",
            "Epoch 11/50\n",
            "703/703 [==============================] - 27s 38ms/step - loss: 1.3750 - accuracy: 0.2951 - val_loss: 1.3765 - val_accuracy: 0.3050\n",
            "Epoch 12/50\n",
            "703/703 [==============================] - 27s 39ms/step - loss: 1.3746 - accuracy: 0.3004 - val_loss: 1.3755 - val_accuracy: 0.3181\n",
            "Epoch 13/50\n",
            "703/703 [==============================] - 27s 39ms/step - loss: 1.3735 - accuracy: 0.3045 - val_loss: 1.3738 - val_accuracy: 0.3125\n",
            "Epoch 14/50\n",
            "703/703 [==============================] - 28s 40ms/step - loss: 1.3715 - accuracy: 0.3073 - val_loss: 1.3725 - val_accuracy: 0.3278\n",
            "Epoch 15/50\n",
            "703/703 [==============================] - 28s 39ms/step - loss: 1.3699 - accuracy: 0.3119 - val_loss: 1.3701 - val_accuracy: 0.3203\n",
            "Epoch 16/50\n",
            "703/703 [==============================] - 28s 39ms/step - loss: 1.3667 - accuracy: 0.3174 - val_loss: 1.3671 - val_accuracy: 0.3313\n",
            "Epoch 17/50\n",
            "703/703 [==============================] - 28s 39ms/step - loss: 1.3634 - accuracy: 0.3241 - val_loss: 1.3628 - val_accuracy: 0.3292\n",
            "Epoch 18/50\n",
            "703/703 [==============================] - 27s 38ms/step - loss: 1.3601 - accuracy: 0.3299 - val_loss: 1.3594 - val_accuracy: 0.3324\n",
            "Epoch 19/50\n",
            "703/703 [==============================] - 26s 38ms/step - loss: 1.3524 - accuracy: 0.3382 - val_loss: 1.3545 - val_accuracy: 0.3391\n",
            "Epoch 20/50\n",
            "703/703 [==============================] - 27s 38ms/step - loss: 1.3448 - accuracy: 0.3445 - val_loss: 1.3514 - val_accuracy: 0.3352\n",
            "Epoch 21/50\n",
            "703/703 [==============================] - 27s 38ms/step - loss: 1.3382 - accuracy: 0.3479 - val_loss: 1.3461 - val_accuracy: 0.3420\n",
            "Epoch 22/50\n",
            "703/703 [==============================] - 27s 38ms/step - loss: 1.3309 - accuracy: 0.3580 - val_loss: 1.3454 - val_accuracy: 0.3374\n",
            "Epoch 23/50\n",
            "703/703 [==============================] - 27s 38ms/step - loss: 1.3208 - accuracy: 0.3665 - val_loss: 1.3426 - val_accuracy: 0.3359\n",
            "Epoch 24/50\n",
            "703/703 [==============================] - 27s 38ms/step - loss: 1.3127 - accuracy: 0.3730 - val_loss: 1.3402 - val_accuracy: 0.3448\n",
            "Epoch 25/50\n",
            "703/703 [==============================] - 26s 38ms/step - loss: 1.3012 - accuracy: 0.3832 - val_loss: 1.3385 - val_accuracy: 0.3423\n",
            "Epoch 26/50\n",
            "703/703 [==============================] - 26s 38ms/step - loss: 1.2916 - accuracy: 0.3891 - val_loss: 1.3373 - val_accuracy: 0.3512\n",
            "Epoch 27/50\n",
            "703/703 [==============================] - 26s 38ms/step - loss: 1.2783 - accuracy: 0.4026 - val_loss: 1.3487 - val_accuracy: 0.3420\n",
            "Epoch 28/50\n",
            "703/703 [==============================] - 26s 38ms/step - loss: 1.2638 - accuracy: 0.4062 - val_loss: 1.3770 - val_accuracy: 0.3335\n",
            "Epoch 29/50\n",
            "703/703 [==============================] - 27s 38ms/step - loss: 1.2500 - accuracy: 0.4210 - val_loss: 1.3486 - val_accuracy: 0.3477\n",
            "Epoch 30/50\n",
            "703/703 [==============================] - 27s 38ms/step - loss: 1.2333 - accuracy: 0.4360 - val_loss: 1.3806 - val_accuracy: 0.3374\n",
            "Epoch 31/50\n",
            "703/703 [==============================] - 27s 38ms/step - loss: 1.2118 - accuracy: 0.4460 - val_loss: 1.3714 - val_accuracy: 0.3491\n",
            "Epoch 32/50\n",
            "703/703 [==============================] - 27s 38ms/step - loss: 1.1987 - accuracy: 0.4517 - val_loss: 1.3910 - val_accuracy: 0.3480\n",
            "Epoch 33/50\n",
            "703/703 [==============================] - 27s 38ms/step - loss: 1.1758 - accuracy: 0.4680 - val_loss: 1.3872 - val_accuracy: 0.3484\n",
            "Epoch 34/50\n",
            "703/703 [==============================] - 26s 37ms/step - loss: 1.1576 - accuracy: 0.4808 - val_loss: 1.3903 - val_accuracy: 0.3591\n",
            "Epoch 35/50\n",
            "703/703 [==============================] - 26s 38ms/step - loss: 1.1360 - accuracy: 0.4940 - val_loss: 1.4576 - val_accuracy: 0.3434\n",
            "Epoch 36/50\n",
            "703/703 [==============================] - 26s 37ms/step - loss: 1.1231 - accuracy: 0.5038 - val_loss: 1.4136 - val_accuracy: 0.3609\n",
            "Epoch 37/50\n",
            "703/703 [==============================] - 26s 38ms/step - loss: 1.0928 - accuracy: 0.5178 - val_loss: 1.4299 - val_accuracy: 0.3587\n",
            "Epoch 38/50\n",
            "703/703 [==============================] - 26s 37ms/step - loss: 1.0730 - accuracy: 0.5314 - val_loss: 1.5328 - val_accuracy: 0.3630\n",
            "Epoch 39/50\n",
            "703/703 [==============================] - 26s 38ms/step - loss: 1.0493 - accuracy: 0.5432 - val_loss: 1.4749 - val_accuracy: 0.3530\n",
            "Epoch 40/50\n",
            "703/703 [==============================] - 27s 38ms/step - loss: 1.0266 - accuracy: 0.5555 - val_loss: 1.4853 - val_accuracy: 0.3587\n",
            "Epoch 41/50\n",
            "703/703 [==============================] - 27s 38ms/step - loss: 0.9998 - accuracy: 0.5725 - val_loss: 1.5120 - val_accuracy: 0.3580\n",
            "Epoch 42/50\n",
            "703/703 [==============================] - 27s 38ms/step - loss: 0.9759 - accuracy: 0.5881 - val_loss: 1.6220 - val_accuracy: 0.3690\n",
            "Epoch 43/50\n",
            "703/703 [==============================] - 27s 38ms/step - loss: 0.9526 - accuracy: 0.5978 - val_loss: 1.5908 - val_accuracy: 0.3480\n",
            "Epoch 44/50\n",
            "703/703 [==============================] - 27s 38ms/step - loss: 0.9365 - accuracy: 0.6003 - val_loss: 1.5775 - val_accuracy: 0.3555\n",
            "Epoch 45/50\n",
            "703/703 [==============================] - 26s 38ms/step - loss: 0.9103 - accuracy: 0.6137 - val_loss: 1.6686 - val_accuracy: 0.3687\n",
            "Epoch 46/50\n",
            "703/703 [==============================] - 26s 38ms/step - loss: 0.8906 - accuracy: 0.6263 - val_loss: 1.7327 - val_accuracy: 0.3612\n",
            "Epoch 47/50\n",
            "703/703 [==============================] - 27s 38ms/step - loss: 0.8715 - accuracy: 0.6331 - val_loss: 1.7150 - val_accuracy: 0.3448\n",
            "Epoch 48/50\n",
            "703/703 [==============================] - 26s 38ms/step - loss: 0.8520 - accuracy: 0.6474 - val_loss: 1.7017 - val_accuracy: 0.3463\n",
            "Epoch 49/50\n",
            "703/703 [==============================] - 26s 38ms/step - loss: 0.8291 - accuracy: 0.6538 - val_loss: 1.7323 - val_accuracy: 0.3477\n",
            "Epoch 50/50\n",
            "703/703 [==============================] - 26s 38ms/step - loss: 0.8141 - accuracy: 0.6597 - val_loss: 1.8256 - val_accuracy: 0.3577\n",
            "\n",
            "En la epoca 50 la precision de validación dejó de mejorar.\n"
          ],
          "name": "stdout"
        }
      ]
    },
    {
      "cell_type": "markdown",
      "metadata": {
        "id": "fngEYN6gss5m",
        "colab_type": "text"
      },
      "source": [
        "Las siuientes dos celdas de código se utilizaron para guardar el modelo, comprimir los datos en una carpeta y subir los datos a drive para poder llamarlos desde el cuaderno *pre-chatbot*."
      ]
    },
    {
      "cell_type": "code",
      "metadata": {
        "id": "Rb4NrXP7RX0G",
        "colab_type": "code",
        "colab": {
          "base_uri": "https://localhost:8080/",
          "height": 105
        },
        "outputId": "a1c683a1-68b0-436e-856f-bf69d5810782"
      },
      "source": [
        "#model.save('clasificador')"
      ],
      "execution_count": null,
      "outputs": [
        {
          "output_type": "stream",
          "text": [
            "WARNING:tensorflow:From /usr/local/lib/python3.6/dist-packages/tensorflow/python/ops/resource_variable_ops.py:1817: calling BaseResourceVariable.__init__ (from tensorflow.python.ops.resource_variable_ops) with constraint is deprecated and will be removed in a future version.\n",
            "Instructions for updating:\n",
            "If using Keras pass *_constraint arguments to layers.\n",
            "INFO:tensorflow:Assets written to: clasificador/assets\n"
          ],
          "name": "stdout"
        }
      ]
    },
    {
      "cell_type": "code",
      "metadata": {
        "id": "6bQ9dB1Bf4DX",
        "colab_type": "code",
        "colab": {
          "base_uri": "https://localhost:8080/",
          "height": 136
        },
        "outputId": "4caac4b5-a27e-4a71-a95f-21bd45d9a101"
      },
      "source": [
        "#!zip -r clasificador.zip clasificador"
      ],
      "execution_count": null,
      "outputs": [
        {
          "output_type": "stream",
          "text": [
            "  adding: clasificador/ (stored 0%)\n",
            "  adding: clasificador/saved_model.pb (deflated 90%)\n",
            "  adding: clasificador/assets/ (stored 0%)\n",
            "  adding: clasificador/variables/ (stored 0%)\n",
            "  adding: clasificador/variables/variables.index (deflated 56%)\n",
            "  adding: clasificador/variables/variables.data-00001-of-00002 (deflated 8%)\n",
            "  adding: clasificador/variables/variables.data-00000-of-00002 (deflated 78%)\n"
          ],
          "name": "stdout"
        }
      ]
    },
    {
      "cell_type": "code",
      "metadata": {
        "id": "vPZrKtBKRZVG",
        "colab_type": "code",
        "colab": {
          "base_uri": "https://localhost:8080/",
          "height": 35
        },
        "outputId": "e52a098b-4ace-49f2-ff8c-29482a27efe5"
      },
      "source": [
        "#from shutil import copyfile\n",
        "#copyfile(\"clasificador.zip\", \"/content/drive/My Drive/Simpsons Chat bot/Modelos guardos/clasificador.zip\")"
      ],
      "execution_count": null,
      "outputs": [
        {
          "output_type": "execute_result",
          "data": {
            "application/vnd.google.colaboratory.intrinsic": {
              "type": "string"
            },
            "text/plain": [
              "'/content/drive/My Drive/Simpsons Chat bot/Modelos guardos/clasificador.zip'"
            ]
          },
          "metadata": {
            "tags": []
          },
          "execution_count": 87
        }
      ]
    },
    {
      "cell_type": "code",
      "metadata": {
        "id": "1e_Vh0VdXtED",
        "colab_type": "code",
        "colab": {
          "base_uri": "https://localhost:8080/",
          "height": 573
        },
        "outputId": "08ca8fbd-a83e-477e-9930-2268577d5fc2"
      },
      "source": [
        "def plot_graphs(history, string):\n",
        "  plt.title(string+' con 10 epochs')\n",
        "  plt.plot(history.history[string])\n",
        "  plt.plot(history.history['val_'+string])\n",
        "  plt.xlabel(\"Epochs\")\n",
        "  plt.ylabel(string)\n",
        "  plt.legend([string, 'val_'+string])\n",
        "  plt.show()\n",
        "  \n",
        "plot_graphs(history, \"accuracy\")\n",
        "plot_graphs(history, \"loss\")\n",
        "\n",
        "#model = tf.keras.Sequential([\n",
        "#    tf.keras.layers.Dense(8623, activation='relu', input_shape=(num_ngrams,)),\n",
        "#    tf.keras.layers.Dropout(0.5),\n",
        "#    tf.keras.layers.Dense(4311, activation='relu'),\n",
        "#    tf.keras.layers.Dropout(0.4),\n",
        "#    tf.keras.layers.Dense(2155, activation='relu'),\n",
        "#    tf.keras.layers.Dropout(0.3),\n",
        "#    tf.keras.layers.Dense(1077, activation='relu'),\n",
        "#    tf.keras.layers.Dropout(0.2),\n",
        "#    tf.keras.layers.Dense(538, activation='relu'),\n",
        "#    tf.keras.layers.Dropout(0.1),\n",
        "#    tf.keras.layers.Dense(269, activation='relu'),\n",
        "#    tf.keras.layers.Dropout(0.1),\n",
        "#    tf.keras.layers.Dense(4, activation='softmax')\n",
        "#])\n",
        "#model.compile(loss='categorical_crossentropy',optimizer='adam',metrics=['accuracy'])"
      ],
      "execution_count": null,
      "outputs": [
        {
          "output_type": "display_data",
          "data": {
            "image/png": "[encoded data removed]",
            "text/plain": [
              "<Figure size 432x288 with 1 Axes>"
            ]
          },
          "metadata": {
            "tags": [],
            "needs_background": "light"
          }
        },
        {
          "output_type": "display_data",
          "data": {
            "image/png": "[encoded data removed]",
            "text/plain": [
              "<Figure size 432x288 with 1 Axes>"
            ]
          },
          "metadata": {
            "tags": [],
            "needs_background": "light"
          }
        }
      ]
    },
    {
      "cell_type": "code",
      "metadata": {
        "id": "gJMPnIzqNqGL",
        "colab_type": "code",
        "colab": {
          "base_uri": "https://localhost:8080/",
          "height": 573
        },
        "outputId": "336b237b-37ae-4942-ad71-f3b781577c23"
      },
      "source": [
        "def plot_graphs(history, string):\n",
        "  plt.title(string+' con 10 epochs')\n",
        "  plt.plot(history.history[string])\n",
        "  plt.plot(history.history['val_'+string])\n",
        "  plt.xlabel(\"Epochs\")\n",
        "  plt.ylabel(string)\n",
        "  plt.legend([string, 'val_'+string])\n",
        "  plt.show()\n",
        "  \n",
        "plot_graphs(history, \"accuracy\")\n",
        "plot_graphs(history, \"loss\")\n",
        "\n",
        "#model = tf.keras.Sequential([\n",
        "#    tf.keras.layers.Dense(8623, activation='relu', input_shape=(num_ngrams,)),\n",
        "#    tf.keras.layers.Dropout(0.5),\n",
        "#    tf.keras.layers.Dense(4311, activation='relu'),\n",
        "#    tf.keras.layers.Dropout(0.5),\n",
        "#    tf.keras.layers.Dense(2155, activation='relu'),\n",
        "#    tf.keras.layers.Dropout(0.5),\n",
        "#    tf.keras.layers.Dense(1077, activation='relu'),\n",
        "#    tf.keras.layers.Dropout(0.5),\n",
        "#    tf.keras.layers.Dense(538, activation='relu'),\n",
        "#    tf.keras.layers.Dropout(0.5),\n",
        "#    tf.keras.layers.Dense(269, activation='relu'),\n",
        "#    tf.keras.layers.Dropout(0.5),\n",
        "#    tf.keras.layers.Dense(4, activation='softmax')\n",
        "#])\n",
        "#model.compile(loss='categorical_crossentropy',optimizer='adam',metrics=['accuracy'])"
      ],
      "execution_count": null,
      "outputs": [
        {
          "output_type": "display_data",
          "data": {
            "image/png": "[encoded data removed]",
            "text/plain": [
              "<Figure size 432x288 with 1 Axes>"
            ]
          },
          "metadata": {
            "tags": [],
            "needs_background": "light"
          }
        },
        {
          "output_type": "display_data",
          "data": {
            "image/png": "[encoded data removed]",
            "text/plain": [
              "<Figure size 432x288 with 1 Axes>"
            ]
          },
          "metadata": {
            "tags": [],
            "needs_background": "light"
          }
        }
      ]
    },
    {
      "cell_type": "code",
      "metadata": {
        "id": "z4c27m0GcMyg",
        "colab_type": "code",
        "colab": {
          "base_uri": "https://localhost:8080/",
          "height": 573
        },
        "outputId": "fce11123-174a-401e-e7e2-18c6bebbd57e"
      },
      "source": [
        "def plot_graphs(history, string):\n",
        "  plt.title(string+' con 10 epochs')\n",
        "  plt.plot(history.history[string])\n",
        "  plt.plot(history.history['val_'+string])\n",
        "  plt.xlabel(\"Epochs\")\n",
        "  plt.ylabel(string)\n",
        "  plt.legend([string, 'val_'+string])\n",
        "  plt.show()\n",
        "  \n",
        "plot_graphs(history, \"accuracy\")\n",
        "plot_graphs(history, \"loss\")\n",
        "\n",
        "#model = tf.keras.Sequential([\n",
        "#    tf.keras.layers.Dense(8623, activation='relu', input_shape=(num_ngrams,)),\n",
        "#    tf.keras.layers.Dense(4311, activation='relu'),\n",
        "#    tf.keras.layers.Dropout(0.5),\n",
        "#    tf.keras.layers.Dense(2874, activation='relu'),\n",
        "#    tf.keras.layers.Dense(2155, activation='relu'),\n",
        "#    tf.keras.layers.Dropout(0.5),\n",
        "#    tf.keras.layers.Dense(1724, activation='relu'),\n",
        "#    tf.keras.layers.Dense(1437, activation='tanh'),\n",
        "#    tf.keras.layers.Dropout(0.5),\n",
        "#    tf.keras.layers.Dense(1231, activation='relu'),\n",
        "#    tf.keras.layers.Dense(958, activation='relu'),\n",
        "#    tf.keras.layers.Dropout(0.5),\n",
        "#    tf.keras.layers.Dense(862, activation='relu'),\n",
        "#    tf.keras.layers.Dense(718, activation='relu'),\n",
        "#    tf.keras.layers.Dropout(0.5),\n",
        "#    tf.keras.layers.Dense(574, activation='relu'),\n",
        "#    tf.keras.layers.Dense(269, activation='relu'),\n",
        "#    tf.keras.layers.Dropout(0.5),\n",
        "#    tf.keras.layers.Dense(4, activation='softmax')\n",
        "#])\n",
        "#model.compile(loss='categorical_crossentropy',optimizer='adam',metrics=['accuracy'])"
      ],
      "execution_count": null,
      "outputs": [
        {
          "output_type": "display_data",
          "data": {
            "image/png": "[encoded data removed]",
            "text/plain": [
              "<Figure size 432x288 with 1 Axes>"
            ]
          },
          "metadata": {
            "tags": [],
            "needs_background": "light"
          }
        },
        {
          "output_type": "display_data",
          "data": {
            "image/png": "[encoded data removed]",
            "text/plain": [
              "<Figure size 432x288 with 1 Axes>"
            ]
          },
          "metadata": {
            "tags": [],
            "needs_background": "light"
          }
        }
      ]
    },
    {
      "cell_type": "code",
      "metadata": {
        "id": "NHlB50MsVv-s",
        "colab_type": "code",
        "colab": {
          "base_uri": "https://localhost:8080/",
          "height": 573
        },
        "outputId": "2a7d29fc-2e8b-4474-ebb7-887f729bab8b"
      },
      "source": [
        "def plot_graphs(history, string):\n",
        "  plt.title(string+' con 10 epochs')\n",
        "  plt.plot(history.history[string])\n",
        "  plt.plot(history.history['val_'+string])\n",
        "  plt.xlabel(\"Epochs\")\n",
        "  plt.ylabel(string)\n",
        "  plt.legend([string, 'val_'+string])\n",
        "  plt.show()\n",
        "  \n",
        "plot_graphs(history, \"accuracy\")\n",
        "plot_graphs(history, \"loss\")\n",
        "\n",
        "#model = tf.keras.Sequential([\n",
        "#    tf.keras.layers.Dense(8623, activation='tanh', input_shape=(num_ngrams,)),\n",
        "#    tf.keras.layers.Dropout(0.5),                     \n",
        "#    tf.keras.layers.Dense(4311, activation='tanh'),\n",
        "#    tf.keras.layers.Dropout(0.4),\n",
        "#    tf.keras.layers.Dense(1077, activation='sigmoid', activity_regularizer=tf.keras.regularizers.l2(1e-4)),\n",
        "#    tf.keras.layers.Dense(538, activation='tanh'),\n",
        "#    tf.keras.layers.Dropout(0.2),\n",
        "#    tf.keras.layers.Dense(269, activation='tanh'),\n",
        "#    tf.keras.layers.Dropout(0.1),\n",
        "#    tf.keras.layers.Dense(4, activation='softmax')\n",
        "#])\n",
        "#model.compile(loss='categorical_crossentropy',optimizer='adam',metrics=['accuracy'])"
      ],
      "execution_count": null,
      "outputs": [
        {
          "output_type": "display_data",
          "data": {
            "image/png": "[encoded data removed]",
            "text/plain": [
              "<Figure size 432x288 with 1 Axes>"
            ]
          },
          "metadata": {
            "tags": [],
            "needs_background": "light"
          }
        },
        {
          "output_type": "display_data",
          "data": {
            "image/png": "[encoded data removed]",
            "text/plain": [
              "<Figure size 432x288 with 1 Axes>"
            ]
          },
          "metadata": {
            "tags": [],
            "needs_background": "light"
          }
        }
      ]
    },
    {
      "cell_type": "code",
      "metadata": {
        "id": "oTlGxYWxUvt8",
        "colab_type": "code",
        "colab": {
          "base_uri": "https://localhost:8080/",
          "height": 573
        },
        "outputId": "d8c56c9c-118e-41c5-9ef3-11fc7f50b8ac"
      },
      "source": [
        "def plot_graphs(history, string):\n",
        "  plt.title(string+' con 10 epochs')\n",
        "  plt.plot(history.history[string])\n",
        "  plt.plot(history.history['val_'+string])\n",
        "  plt.xlabel(\"Epochs\")\n",
        "  plt.ylabel(string)\n",
        "  plt.legend([string, 'val_'+string])\n",
        "  plt.show()\n",
        "  \n",
        "plot_graphs(history, \"accuracy\")\n",
        "plot_graphs(history, \"loss\")\n",
        "\n",
        "#model = tf.keras.Sequential([\n",
        "#    tf.keras.layers.Dense(8623, activation='relu', input_shape=(num_ngrams,)),\n",
        "#    tf.keras.layers.Dropout(0.5),                     \n",
        "#    tf.keras.layers.Dense(4311, activation='relu'),\n",
        "#    tf.keras.layers.Dropout(0.4),\n",
        "#    tf.keras.layers.Dense(2155, activation='relu'),\n",
        "#    tf.keras.layers.Dropout(0.3),\n",
        "#    tf.keras.layers.Dense(1077, activation='tanh', activity_regularizer=tf.keras.regularizers.l2(1e-4)),\n",
        "#    tf.keras.layers.Dense(538, activation='relu'),\n",
        "#    tf.keras.layers.Dropout(0.2),\n",
        "#    tf.keras.layers.Dense(269, activation='relu'),\n",
        "#    tf.keras.layers.Dropout(0.1),\n",
        "#    tf.keras.layers.Dense(4, activation='softmax')\n",
        "#])\n",
        "#model.compile(loss='categorical_crossentropy',optimizer='adam',metrics=['accuracy'])"
      ],
      "execution_count": null,
      "outputs": [
        {
          "output_type": "display_data",
          "data": {
            "image/png": "[encoded data removed]",
            "text/plain": [
              "<Figure size 432x288 with 1 Axes>"
            ]
          },
          "metadata": {
            "tags": [],
            "needs_background": "light"
          }
        },
        {
          "output_type": "display_data",
          "data": {
            "image/png": "[encoded data removed]",
            "text/plain": [
              "<Figure size 432x288 with 1 Axes>"
            ]
          },
          "metadata": {
            "tags": [],
            "needs_background": "light"
          }
        }
      ]
    },
    {
      "cell_type": "code",
      "metadata": {
        "id": "b7ugrR6NTpEx",
        "colab_type": "code",
        "colab": {
          "base_uri": "https://localhost:8080/",
          "height": 573
        },
        "outputId": "e1f8e197-4fbb-44fb-a994-9230c706f1cc"
      },
      "source": [
        "def plot_graphs(history, string):\n",
        "  plt.title(string+' con 10 epochs')\n",
        "  plt.plot(history.history[string])\n",
        "  plt.plot(history.history['val_'+string])\n",
        "  plt.xlabel(\"Epochs\")\n",
        "  plt.ylabel(string)\n",
        "  plt.legend([string, 'val_'+string])\n",
        "  plt.show()\n",
        "  \n",
        "plot_graphs(history, \"accuracy\")\n",
        "plot_graphs(history, \"loss\")\n",
        "\n",
        "#model = tf.keras.Sequential([\n",
        "#    tf.keras.layers.Dense(8623, activation='tanh', input_shape=(num_ngrams,)),\n",
        "#    tf.keras.layers.Dropout(0.5),                     \n",
        "#    tf.keras.layers.Dense(4311, activation='tanh'),\n",
        "#    tf.keras.layers.Dropout(0.4),\n",
        "#    tf.keras.layers.Dense(2155, activation='tanh'),\n",
        "#    tf.keras.layers.Dropout(0.3),\n",
        "#    tf.keras.layers.Dense(1077, activation='tanh', activity_regularizer=tf.keras.regularizers.l2(1e-4)),\n",
        "#    tf.keras.layers.Dense(538, activation='tanh'),\n",
        "#    tf.keras.layers.Dropout(0.2),\n",
        "#    tf.keras.layers.Dense(269, activation='tanh'),\n",
        "#    tf.keras.layers.Dropout(0.1),\n",
        "#    tf.keras.layers.Dense(4, activation='softmax')\n",
        "#])\n",
        "#model.compile(loss='categorical_crossentropy',optimizer='adam',metrics=['accuracy'])"
      ],
      "execution_count": null,
      "outputs": [
        {
          "output_type": "display_data",
          "data": {
            "image/png": "[encoded data removed]",
            "text/plain": [
              "<Figure size 432x288 with 1 Axes>"
            ]
          },
          "metadata": {
            "tags": [],
            "needs_background": "light"
          }
        },
        {
          "output_type": "display_data",
          "data": {
            "image/png": "[encoded data removed]",
            "text/plain": [
              "<Figure size 432x288 with 1 Axes>"
            ]
          },
          "metadata": {
            "tags": [],
            "needs_background": "light"
          }
        }
      ]
    },
    {
      "cell_type": "code",
      "metadata": {
        "id": "xclG7BYySSGB",
        "colab_type": "code",
        "colab": {
          "base_uri": "https://localhost:8080/",
          "height": 573
        },
        "outputId": "596d220e-2ecd-4e62-c888-44531f0e76a1"
      },
      "source": [
        "def plot_graphs(history, string):\n",
        "  plt.title(string+' con 10 epochs')\n",
        "  plt.plot(history.history[string])\n",
        "  plt.plot(history.history['val_'+string])\n",
        "  plt.xlabel(\"Epochs\")\n",
        "  plt.ylabel(string)\n",
        "  plt.legend([string, 'val_'+string])\n",
        "  plt.show()\n",
        "  \n",
        "plot_graphs(history, \"accuracy\")\n",
        "plot_graphs(history, \"loss\")\n",
        "\n",
        "#model = tf.keras.Sequential([\n",
        "#    tf.keras.layers.Dense(8623, activation='sigmoid', input_shape=(num_ngrams,)),\n",
        "#    tf.keras.layers.Dropout(0.5),                     \n",
        "#    tf.keras.layers.Dense(4311, activation='tanh'),\n",
        "#    tf.keras.layers.Dropout(0.4),\n",
        "#    tf.keras.layers.Dense(2155, activation='tanh'),\n",
        "#    tf.keras.layers.Dropout(0.3),\n",
        "#    tf.keras.layers.Dense(1077, activation='sigmoid'),\n",
        "#    tf.keras.layers.Dropout(0.2),\n",
        "#    tf.keras.layers.Dense(538, activation='tanh'),\n",
        "#    tf.keras.layers.Dropout(0.1),\n",
        "#    tf.keras.layers.Dense(269, activation='tanh'),\n",
        "#    tf.keras.layers.Dropout(0.1),\n",
        "#    tf.keras.layers.Dense(4, activation='softmax')\n",
        "#])\n",
        "#model.compile(loss='categorical_crossentropy',optimizer='adam',metrics=['accuracy'])"
      ],
      "execution_count": null,
      "outputs": [
        {
          "output_type": "display_data",
          "data": {
            "image/png": "[encoded data removed]",
            "text/plain": [
              "<Figure size 432x288 with 1 Axes>"
            ]
          },
          "metadata": {
            "tags": [],
            "needs_background": "light"
          }
        },
        {
          "output_type": "display_data",
          "data": {
            "image/png": "[encoded data removed]",
            "text/plain": [
              "<Figure size 432x288 with 1 Axes>"
            ]
          },
          "metadata": {
            "tags": [],
            "needs_background": "light"
          }
        }
      ]
    },
    {
      "cell_type": "code",
      "metadata": {
        "id": "POf7jDkiRaqY",
        "colab_type": "code",
        "colab": {
          "base_uri": "https://localhost:8080/",
          "height": 573
        },
        "outputId": "efe3759f-08c3-4af7-c597-0bbd2bd67196"
      },
      "source": [
        "def plot_graphs(history, string):\n",
        "  plt.title(string+' con 10 epochs')\n",
        "  plt.plot(history.history[string])\n",
        "  plt.plot(history.history['val_'+string])\n",
        "  plt.xlabel(\"Epochs\")\n",
        "  plt.ylabel(string)\n",
        "  plt.legend([string, 'val_'+string])\n",
        "  plt.show()\n",
        "  \n",
        "plot_graphs(history, \"accuracy\")\n",
        "plot_graphs(history, \"loss\")\n",
        "\n",
        "#model = tf.keras.Sequential([\n",
        "#    tf.keras.layers.Dense(8623, activation='relu', input_shape=(num_ngrams,)),\n",
        "#    tf.keras.layers.Dropout(0.5),                     \n",
        "#    tf.keras.layers.Dense(4311, activation='sigmoid'),\n",
        "#    tf.keras.layers.Dropout(0.4),\n",
        "#    tf.keras.layers.Dense(2155, activation='relu'),\n",
        "#    tf.keras.layers.Dropout(0.3),\n",
        "#    tf.keras.layers.Dense(1077, activation='sigmoid'),\n",
        "#    tf.keras.layers.Dropout(0.2),\n",
        "#    tf.keras.layers.Dense(538, activation='relu'),\n",
        "#    tf.keras.layers.Dropout(0.1),\n",
        "#    tf.keras.layers.Dense(269, activation='relu'),\n",
        "#    tf.keras.layers.Dropout(0.1),\n",
        "#    tf.keras.layers.Dense(4, activation='softmax')\n",
        "#])\n",
        "#model.compile(loss='categorical_crossentropy',optimizer='adam',metrics=['accuracy'])"
      ],
      "execution_count": null,
      "outputs": [
        {
          "output_type": "display_data",
          "data": {
            "image/png": "[encoded data removed]",
            "text/plain": [
              "<Figure size 432x288 with 1 Axes>"
            ]
          },
          "metadata": {
            "tags": [],
            "needs_background": "light"
          }
        },
        {
          "output_type": "display_data",
          "data": {
            "image/png": "[encoded data removed]",
            "text/plain": [
              "<Figure size 432x288 with 1 Axes>"
            ]
          },
          "metadata": {
            "tags": [],
            "needs_background": "light"
          }
        }
      ]
    },
    {
      "cell_type": "code",
      "metadata": {
        "id": "TsyFQVmbNlON",
        "colab_type": "code",
        "colab": {
          "base_uri": "https://localhost:8080/",
          "height": 573
        },
        "outputId": "13128663-da2b-4008-f6ed-7f7ca8f1c498"
      },
      "source": [
        "def plot_graphs(history, string):\n",
        "  plt.title(string+' con 10 epochs')\n",
        "  plt.plot(history.history[string])\n",
        "  plt.plot(history.history['val_'+string])\n",
        "  plt.xlabel(\"Epochs\")\n",
        "  plt.ylabel(string)\n",
        "  plt.legend([string, 'val_'+string])\n",
        "  plt.show()\n",
        "  \n",
        "plot_graphs(history, \"accuracy\")\n",
        "plot_graphs(history, \"loss\")\n",
        "\n",
        "#model = tf.keras.Sequential([\n",
        "#    tf.keras.layers.Dense(8623, activation='tanh', input_shape=(num_ngrams,)),\n",
        "#    tf.keras.layers.Dropout(0.5),                     \n",
        "#    tf.keras.layers.Dense(4311, activation='tanh'),\n",
        "#    tf.keras.layers.Dropout(0.4),\n",
        "#    tf.keras.layers.Dense(2155, activation='tanh'),\n",
        "#    tf.keras.layers.Dropout(0.3),\n",
        "#    tf.keras.layers.Dense(1077, activation='tanh'),\n",
        "#    tf.keras.layers.Dropout(0.2),\n",
        "#    tf.keras.layers.Dense(538, activation='tanh'),\n",
        "#    tf.keras.layers.Dropout(0.1),\n",
        "#    tf.keras.layers.Dense(269, activation='sigmoid'),\n",
        "#    tf.keras.layers.Dropout(0.1),\n",
        "#    tf.keras.layers.Dense(4, activation='softmax')\n",
        "#])\n",
        "#model.compile(loss='categorical_crossentropy',optimizer='adam',metrics=['accuracy'])"
      ],
      "execution_count": null,
      "outputs": [
        {
          "output_type": "display_data",
          "data": {
            "image/png": "[encoded data removed]",
            "text/plain": [
              "<Figure size 432x288 with 1 Axes>"
            ]
          },
          "metadata": {
            "tags": [],
            "needs_background": "light"
          }
        },
        {
          "output_type": "display_data",
          "data": {
            "image/png": "[encoded data removed]",
            "text/plain": [
              "<Figure size 432x288 with 1 Axes>"
            ]
          },
          "metadata": {
            "tags": [],
            "needs_background": "light"
          }
        }
      ]
    },
    {
      "cell_type": "code",
      "metadata": {
        "colab_type": "code",
        "id": "FXlzL6iGf-aa",
        "jupyter": {
          "source_hidden": true
        },
        "colab": {
          "base_uri": "https://localhost:8080/",
          "height": 573
        },
        "outputId": "ceca99e6-7c40-4bef-8d3d-061686d4f2f0"
      },
      "source": [
        "def plot_graphs(history, string):\n",
        "  plt.title(string+' con 10 epochs')\n",
        "  plt.plot(history.history[string])\n",
        "  plt.plot(history.history['val_'+string])\n",
        "  plt.xlabel(\"Epochs\")\n",
        "  plt.ylabel(string)\n",
        "  plt.legend([string, 'val_'+string])\n",
        "  plt.show()\n",
        "  \n",
        "plot_graphs(history, \"accuracy\")\n",
        "plot_graphs(history, \"loss\")\n",
        "\n",
        "\n",
        "#model = tf.keras.Sequential([\n",
        "#    tf.keras.layers.Dense(8623, activation='tanh', input_shape=(num_ngrams,)),\n",
        "#    tf.keras.layers.Dropout(0.5),                     \n",
        "#    tf.keras.layers.Dense(4311, activation='tanh'),\n",
        "#    tf.keras.layers.Dropout(0.4),\n",
        "#    tf.keras.layers.Dense(2155, activation='tanh'),\n",
        "#    tf.keras.layers.Dropout(0.3),\n",
        "#    tf.keras.layers.Dense(1077, activation='tanh'),\n",
        "#    tf.keras.layers.Dropout(0.2),\n",
        "#    tf.keras.layers.Dense(538, activation='tanh'),\n",
        "#    tf.keras.layers.Dropout(0.1),\n",
        "#    tf.keras.layers.Dense(269, activation='tanh'),\n",
        "#    tf.keras.layers.Dropout(0.1),\n",
        "#    tf.keras.layers.Dense(4, activation='softmax')\n",
        "#])\n",
        "#model.compile(loss='categorical_crossentropy',optimizer='adam',metrics=['accuracy'])"
      ],
      "execution_count": null,
      "outputs": [
        {
          "output_type": "display_data",
          "data": {
            "image/png": "[encoded data removed]",
            "text/plain": [
              "<Figure size 432x288 with 1 Axes>"
            ]
          },
          "metadata": {
            "tags": [],
            "needs_background": "light"
          }
        },
        {
          "output_type": "display_data",
          "data": {
            "image/png": "[encoded data removed]",
            "text/plain": [
              "<Figure size 432x288 with 1 Axes>"
            ]
          },
          "metadata": {
            "tags": [],
            "needs_background": "light"
          }
        }
      ]
    },
    {
      "cell_type": "markdown",
      "metadata": {
        "colab_type": "text",
        "id": "sUf9T03T3N-c"
      },
      "source": [
        "# Prueba del modelo"
      ]
    },
    {
      "cell_type": "code",
      "metadata": {
        "colab_type": "code",
        "id": "Cseyk3ipz0TF",
        "jupyter": {
          "source_hidden": true
        },
        "colab": {
          "base_uri": "https://localhost:8080/",
          "height": 35
        },
        "outputId": "13873e1c-17f4-40af-d604-9cfa34473854"
      },
      "source": [
        "#predicciones del modelo\n",
        "np.argmax(model.predict(test_sequences), axis=-1)"
      ],
      "execution_count": 75,
      "outputs": [
        {
          "output_type": "execute_result",
          "data": {
            "text/plain": [
              "array([2, 0, 1, ..., 3, 1, 1])"
            ]
          },
          "metadata": {
            "tags": []
          },
          "execution_count": 75
        }
      ]
    },
    {
      "cell_type": "code",
      "metadata": {
        "colab_type": "code",
        "id": "kDSrLYYz8MDG",
        "jupyter": {
          "source_hidden": true
        },
        "colab": {
          "base_uri": "https://localhost:8080/",
          "height": 146
        },
        "outputId": "4edd03ef-b9d6-453f-b679-16f53098e288"
      },
      "source": [
        "#etiquetas reales\n",
        "test_labels"
      ],
      "execution_count": 80,
      "outputs": [
        {
          "output_type": "execute_result",
          "data": {
            "text/plain": [
              "array([[0., 0., 1., 0.],\n",
              "       [1., 0., 0., 0.],\n",
              "       [1., 0., 0., 0.],\n",
              "       ...,\n",
              "       [0., 0., 0., 1.],\n",
              "       [0., 0., 0., 1.],\n",
              "       [0., 1., 0., 0.]], dtype=float32)"
            ]
          },
          "metadata": {
            "tags": []
          },
          "execution_count": 80
        }
      ]
    },
    {
      "cell_type": "code",
      "metadata": {
        "id": "QQRYGZ1gf2AH",
        "colab_type": "code",
        "colab": {}
      },
      "source": [
        ""
      ],
      "execution_count": null,
      "outputs": []
    }
  ]
}